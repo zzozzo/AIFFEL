{
 "cells": [
  {
   "cell_type": "markdown",
   "id": "b947289f",
   "metadata": {},
   "source": [
    "# 한국어 챗봇 만들기"
   ]
  },
  {
   "cell_type": "markdown",
   "id": "06a8cae4",
   "metadata": {},
   "source": [
    "# 1. 필요한 모듈 입력"
   ]
  },
  {
   "cell_type": "code",
   "execution_count": 2,
   "id": "4a3e3b7e",
   "metadata": {},
   "outputs": [],
   "source": [
    "import tensorflow as tf\n",
    "import tensorflow_datasets as tfds\n",
    "import os\n",
    "import re\n",
    "import numpy as np\n",
    "import matplotlib.pyplot as plt\n",
    "import pandas as pd"
   ]
  },
  {
   "cell_type": "markdown",
   "id": "c6b5a02a",
   "metadata": {},
   "source": [
    "# 2. 데이터 불러오기 & 전처리   \n",
    "- 트랜스포머의 데이터는 병렬 데이터를 사용한다.   \n",
    "    - 병렬 데이터란 ? : 질문과 답변의 쌍으로 이뤄진 데이터\n",
    "- 새롭게 주어지는 파일은 csv에 쉼표로 각 항목이 나눠져 있었기 때문에 불러오는 코드를 수정하였다.\n",
    "    - pandas의 \"read_csv\"를 통해 불러오고 head()로 잘 불러왔는지 확인하였다."
   ]
  },
  {
   "cell_type": "code",
   "execution_count": 3,
   "id": "9491cf6a",
   "metadata": {},
   "outputs": [],
   "source": [
    "data = pd.read_csv('~/aiffel/transformer_chatbot/data/ChatbotData.csv')"
   ]
  },
  {
   "cell_type": "code",
   "execution_count": 4,
   "id": "4af02127",
   "metadata": {},
   "outputs": [
    {
     "data": {
      "text/html": [
       "<div>\n",
       "<style scoped>\n",
       "    .dataframe tbody tr th:only-of-type {\n",
       "        vertical-align: middle;\n",
       "    }\n",
       "\n",
       "    .dataframe tbody tr th {\n",
       "        vertical-align: top;\n",
       "    }\n",
       "\n",
       "    .dataframe thead th {\n",
       "        text-align: right;\n",
       "    }\n",
       "</style>\n",
       "<table border=\"1\" class=\"dataframe\">\n",
       "  <thead>\n",
       "    <tr style=\"text-align: right;\">\n",
       "      <th></th>\n",
       "      <th>Q</th>\n",
       "      <th>A</th>\n",
       "      <th>label</th>\n",
       "    </tr>\n",
       "  </thead>\n",
       "  <tbody>\n",
       "    <tr>\n",
       "      <th>0</th>\n",
       "      <td>12시 땡!</td>\n",
       "      <td>하루가 또 가네요.</td>\n",
       "      <td>0</td>\n",
       "    </tr>\n",
       "    <tr>\n",
       "      <th>1</th>\n",
       "      <td>1지망 학교 떨어졌어</td>\n",
       "      <td>위로해 드립니다.</td>\n",
       "      <td>0</td>\n",
       "    </tr>\n",
       "    <tr>\n",
       "      <th>2</th>\n",
       "      <td>3박4일 놀러가고 싶다</td>\n",
       "      <td>여행은 언제나 좋죠.</td>\n",
       "      <td>0</td>\n",
       "    </tr>\n",
       "    <tr>\n",
       "      <th>3</th>\n",
       "      <td>3박4일 정도 놀러가고 싶다</td>\n",
       "      <td>여행은 언제나 좋죠.</td>\n",
       "      <td>0</td>\n",
       "    </tr>\n",
       "    <tr>\n",
       "      <th>4</th>\n",
       "      <td>PPL 심하네</td>\n",
       "      <td>눈살이 찌푸려지죠.</td>\n",
       "      <td>0</td>\n",
       "    </tr>\n",
       "  </tbody>\n",
       "</table>\n",
       "</div>"
      ],
      "text/plain": [
       "                 Q            A  label\n",
       "0           12시 땡!   하루가 또 가네요.      0\n",
       "1      1지망 학교 떨어졌어    위로해 드립니다.      0\n",
       "2     3박4일 놀러가고 싶다  여행은 언제나 좋죠.      0\n",
       "3  3박4일 정도 놀러가고 싶다  여행은 언제나 좋죠.      0\n",
       "4          PPL 심하네   눈살이 찌푸려지죠.      0"
      ]
     },
     "execution_count": 4,
     "metadata": {},
     "output_type": "execute_result"
    }
   ],
   "source": [
    "data.head()"
   ]
  },
  {
   "cell_type": "code",
   "execution_count": 5,
   "id": "e9461aaa",
   "metadata": {},
   "outputs": [
    {
     "data": {
      "text/plain": [
       "Q        11823\n",
       "A        11823\n",
       "label    11823\n",
       "dtype: int64"
      ]
     },
     "execution_count": 5,
     "metadata": {},
     "output_type": "execute_result"
    }
   ],
   "source": [
    "data.count()"
   ]
  },
  {
   "cell_type": "markdown",
   "id": "0e8bab89",
   "metadata": {},
   "source": [
    "Question. Answer 각각 11823개이다.   \n",
    "노드에서 진행한 데이터셋에 20% 수준이기 때문에 MA_SMALES = 11823으로 설정한다."
   ]
  },
  {
   "cell_type": "code",
   "execution_count": 6,
   "id": "1d146673",
   "metadata": {},
   "outputs": [
    {
     "name": "stdout",
     "output_type": "stream",
     "text": [
      "11823\n"
     ]
    }
   ],
   "source": [
    "# 사용할 샘플의 최대 개수\n",
    "MAX_SAMPLES = 11823\n",
    "print(MAX_SAMPLES)"
   ]
  },
  {
   "cell_type": "markdown",
   "id": "73d01f52",
   "metadata": {},
   "source": [
    "정규 표현식을 통해 구두점과 영어 대소문자를 제외한 나머지 문자를 제거한다.   \n",
    "단, 노드에서 제시된 전처리 함수는 글자가 알파벳을 제외한 나머지 글자는 지워지기 때문에 이 부분을 변경하였다.   \n",
    "- 변경한 전처리 기법   \n",
    "    - 구두점 제거\n",
    "    - 질문-답 데이터셋 분리\n",
    "      -데이터셋을 판다스 데이터 프레임으로 불러와 질문에 해당하는 Q, 답에 해당하는 A 컬럼을 분리해 inputs와 outputs 리스트에 문장 전처리 후 append 하였다. "
   ]
  },
  {
   "cell_type": "code",
   "execution_count": 7,
   "id": "d75fb944",
   "metadata": {},
   "outputs": [],
   "source": [
    "def preprocess_sentence(sentence): \n",
    "        sentence = re.sub(r'[@%\\\\*=()/~#&\\+á\\xc3\\xa1\\-\\|\\:\\;\\-\\,\\_\\~\\$\\'\\\"]', '',str(sentence)) #remove punctuation \n",
    "        sentence = re.sub(r\"([?.!,])\", r\" \\1 \", sentence)\n",
    "        sentence = re.sub(r'[\" \"]+', \" \", sentence)\n",
    "        sentence = re.sub(r'\\d+','', sentence)# remove number \n",
    "        sentence = sentence.lower() #lower case \n",
    "        sentence = re.sub(r'\\s+', ' ', sentence) #remove extra space \n",
    "        sentence = re.sub(r'<[^>]+>','',sentence) #remove Html tags \n",
    "        sentence = re.sub(r'\\s+', ' ', sentence) #remove spaces \n",
    "        sentence = re.sub(r\"^\\s+\", '', sentence) #remove space from start \n",
    "        sentence = re.sub(r'\\s+$', '', sentence) #remove space from the end c\n",
    "        return sentence"
   ]
  },
  {
   "cell_type": "code",
   "execution_count": 8,
   "id": "ebe35fde",
   "metadata": {},
   "outputs": [],
   "source": [
    "# 질문 데이터셋 전처리 + 저장 함수\n",
    "def load_conversations():    \n",
    "    inputs, outputs = [], []\n",
    "\n",
    "    for i in range(0,11823):\n",
    "        inputs.append(preprocess_sentence(data['Q'][i]))\n",
    "        outputs.append(preprocess_sentence(data['A'][i]))\n",
    "\n",
    "        if len(inputs) >= MAX_SAMPLES:\n",
    "            return inputs, outputs\n",
    "    return inputs, outputs"
   ]
  },
  {
   "cell_type": "code",
   "execution_count": 9,
   "id": "abbc4423",
   "metadata": {},
   "outputs": [
    {
     "name": "stdout",
     "output_type": "stream",
     "text": [
      "전체 샘플 수 : 11823\n",
      "전체 샘플 수 : 11823\n"
     ]
    }
   ],
   "source": [
    "questions, answers = load_conversations()\n",
    "print('전체 샘플 수 :', len(questions))\n",
    "print('전체 샘플 수 :', len(answers))"
   ]
  },
  {
   "cell_type": "markdown",
   "id": "39e9cc79",
   "metadata": {},
   "source": [
    "한시간동안 헛삽질,,,,ㅋ   \n",
    "바본가...   \n",
    "range 안써놓고 for안된다고 하면,,,어쩔티비,,,   \n",
    "진리의 컴퓨터는 잘못이 없다. 사람이 잘못하는것이다...   멍청이다.... 얄루얄로링"
   ]
  },
  {
   "cell_type": "code",
   "execution_count": 10,
   "id": "bd769c14",
   "metadata": {
    "scrolled": true
   },
   "outputs": [
    {
     "name": "stdout",
     "output_type": "stream",
     "text": [
      "전처리 후의 22번째 질문 샘플: 가스비 장난 아님\n",
      "전처리 후의 22번째 답변 샘플: 다음 달에는 더 절약해봐요 .\n"
     ]
    }
   ],
   "source": [
    "print('전처리 후의 22번째 질문 샘플: {}'.format(questions[21]))\n",
    "print('전처리 후의 22번째 답변 샘플: {}'.format(answers[21]))"
   ]
  },
  {
   "cell_type": "markdown",
   "id": "14e7893b",
   "metadata": {},
   "source": [
    "본격적으로 전처리를 시작해보자"
   ]
  },
  {
   "cell_type": "markdown",
   "id": "6c362653",
   "metadata": {},
   "source": [
    "### 1) 단어장(Vocabulary) 만들기   \n",
    "- 각 단어에 고유한 정수 인덱스 부여하기 위함  \n",
    "- 시작, 종료 토큰에도 정수 부여해줘야 함   "
   ]
  },
  {
   "cell_type": "code",
   "execution_count": 11,
   "id": "a0c6072c",
   "metadata": {},
   "outputs": [],
   "source": [
    "import tensorflow_datasets as tfds\n",
    "\n",
    "# 질문과 답변 데이터셋에 대해서 Vocabulary 생성. (Tensorflow 2.3.0 이상) (클라우드는 2.4 입니다)\n",
    "tokenizer = tfds.deprecated.text.SubwordTextEncoder.build_from_corpus(questions + answers, target_vocab_size=2**13)"
   ]
  },
  {
   "cell_type": "code",
   "execution_count": 12,
   "id": "653b2afb",
   "metadata": {},
   "outputs": [],
   "source": [
    "import tensorflow_datasets as tfds"
   ]
  },
  {
   "cell_type": "code",
   "execution_count": 13,
   "id": "52610d2e",
   "metadata": {},
   "outputs": [],
   "source": [
    "# 시작 토큰과 종료 토큰에 고유한 정수를 부여합니다.\n",
    "START_TOKEN, END_TOKEN = [tokenizer.vocab_size], [tokenizer.vocab_size + 1]"
   ]
  },
  {
   "cell_type": "code",
   "execution_count": 14,
   "id": "c13c918d",
   "metadata": {},
   "outputs": [
    {
     "name": "stdout",
     "output_type": "stream",
     "text": [
      "START_TOKEN의 번호 : [8143]\n",
      "END_TOKEN의 번호 : [8144]\n"
     ]
    }
   ],
   "source": [
    "print('START_TOKEN의 번호 :' ,[tokenizer.vocab_size])\n",
    "print('END_TOKEN의 번호 :' ,[tokenizer.vocab_size + 1])"
   ]
  },
  {
   "cell_type": "code",
   "execution_count": 15,
   "id": "63124b44",
   "metadata": {},
   "outputs": [
    {
     "name": "stdout",
     "output_type": "stream",
     "text": [
      "8145\n"
     ]
    }
   ],
   "source": [
    "#Vocaburay size -> include start & end token \n",
    "VOCAB_SIZE = tokenizer.vocab_size + 2\n",
    "print(VOCAB_SIZE)"
   ]
  },
  {
   "cell_type": "markdown",
   "id": "31b47b2b",
   "metadata": {},
   "source": [
    "### 2) integer encoding & padding\n",
    "- interger encoding : 단어를 정수로 변환하는 과정   \n",
    "- padding : 최대 길이보다 짧은 문장의 나머지 부분 0으로 채우는 과정"
   ]
  },
  {
   "cell_type": "code",
   "execution_count": 16,
   "id": "d1dc56c0",
   "metadata": {},
   "outputs": [
    {
     "name": "stdout",
     "output_type": "stream",
     "text": [
      "정수 인코딩 후의 21번째 질문 샘플: [5745, 610, 2485, 4150]\n",
      "정수 인코딩 후의 21번째 답변 샘플: [2352, 7494, 7, 6252, 97, 1]\n"
     ]
    }
   ],
   "source": [
    "print('정수 인코딩 후의 21번째 질문 샘플: {}'.format(tokenizer.encode(questions[21])))\n",
    "print('정수 인코딩 후의 21번째 답변 샘플: {}'.format(tokenizer.encode(answers[21])))"
   ]
  },
  {
   "cell_type": "code",
   "execution_count": 17,
   "id": "ff3bc731",
   "metadata": {},
   "outputs": [],
   "source": [
    "MAX_LENGTH = 40"
   ]
  },
  {
   "cell_type": "code",
   "execution_count": 18,
   "id": "88936c38",
   "metadata": {},
   "outputs": [],
   "source": [
    "# 정수 인코딩, 최대 길이를 초과하는 샘플 제거, 패딩\n",
    "def tokenize_and_filter(inputs, outputs):\n",
    "    tokenized_inputs, tokenized_outputs = [], []\n",
    "    \n",
    "    for (sentence1, sentence2) in zip(inputs, outputs):\n",
    "        # 정수 인코딩 과정에서 시작 토큰과 종료 토큰을 추가\n",
    "        sentence1 = START_TOKEN + tokenizer.encode(sentence1) + END_TOKEN\n",
    "        sentence2 = START_TOKEN + tokenizer.encode(sentence2) + END_TOKEN\n",
    "\n",
    "    # 최대 길이 40 이하인 경우에만 데이터셋으로 허용\n",
    "        if len(sentence1) <= MAX_LENGTH and len(sentence2) <= MAX_LENGTH:\n",
    "            tokenized_inputs.append(sentence1)\n",
    "            tokenized_outputs.append(sentence2)\n",
    "  \n",
    "  # 최대 길이 40으로 모든 데이터셋을 패딩\n",
    "    tokenized_inputs = tf.keras.preprocessing.sequence.pad_sequences(\n",
    "        tokenized_inputs, maxlen=MAX_LENGTH, padding='post')\n",
    "    tokenized_outputs = tf.keras.preprocessing.sequence.pad_sequences(\n",
    "        tokenized_outputs, maxlen=MAX_LENGTH, padding='post')\n",
    "  \n",
    "    return tokenized_inputs, tokenized_outputs"
   ]
  },
  {
   "cell_type": "code",
   "execution_count": 19,
   "id": "6d33e038",
   "metadata": {},
   "outputs": [
    {
     "name": "stdout",
     "output_type": "stream",
     "text": [
      "단어장의 크기 : 8145\n",
      "필터링 후의 질문 샘플 개수: 11823\n",
      "필터링 후의 답변 샘플 개수: 11823\n"
     ]
    }
   ],
   "source": [
    "questions, answers = tokenize_and_filter(questions, answers)\n",
    "print('단어장의 크기 :',(VOCAB_SIZE))\n",
    "print('필터링 후의 질문 샘플 개수: {}'.format(len(questions)))\n",
    "print('필터링 후의 답변 샘플 개수: {}'.format(len(answers)))"
   ]
  },
  {
   "cell_type": "markdown",
   "id": "cce429c6",
   "metadata": {},
   "source": [
    "### 3) teacher forcing   \n",
    "- 이전 자신의 출력이 현재 자신의 상태를 결정하게 하도록 하는 방식 "
   ]
  },
  {
   "cell_type": "code",
   "execution_count": 20,
   "id": "29025bcf",
   "metadata": {},
   "outputs": [],
   "source": [
    "BATCH_SIZE = 256 #기존 64->256으로 수정\n",
    "BUFFER_SIZE = 20000\n",
    "\n",
    "# 디코더는 이전의 target을 다음의 input으로 사용합니다.\n",
    "# 이에 따라 outputs에서는 START_TOKEN을 제거하겠습니다.\n",
    "dataset = tf.data.Dataset.from_tensor_slices((\n",
    "    {\n",
    "        'inputs': questions,\n",
    "        'dec_inputs': answers[:, :-1]\n",
    "    },\n",
    "    {\n",
    "        'outputs': answers[:, 1:]\n",
    "    },\n",
    "))\n",
    "\n",
    "dataset = dataset.cache()\n",
    "dataset = dataset.shuffle(BUFFER_SIZE)\n",
    "dataset = dataset.batch(BATCH_SIZE)\n",
    "dataset = dataset.prefetch(tf.data.experimental.AUTOTUNE)"
   ]
  },
  {
   "cell_type": "markdown",
   "id": "805e4b7b",
   "metadata": {},
   "source": [
    "# 3. 트랜스포머 구성 레이어 만들기   \n",
    "- 트랜스포머에 사용되는 모델 구조\n",
    "    - positional encoding\n",
    "    - encoder\n",
    "        - self-attention layer(Multi-head) + normalization : 인코더 입력으로 들어간 문장 내 단어간 상호 유사도 구함\n",
    "        - feed forward layer + normalization\n",
    "    - decoder\n",
    "        - self-attention lyaer(Masked Multi-head)  + normalization : 단어 생성하는 디코더가 이전에 생성된 앞단어와의 유사도 구함\n",
    "        - encoder-decoder attention(Multi-head)  + normalization : 예측 위한 인코더에 입력된 단어들과의 유사도 구함\n",
    "        - feed forward  + normalization\n",
    "\n",
    "- positional encoding    \n",
    "    \n",
    "- 유사도 구하기 (sacled dot product attention)   \n",
    "    $Attention(Q,K,V)=softmax(\\frac{QK_T}{\\sqrt{d_k}})V$   \n",
    "- Muiti head attention    \n",
    "    - 병렬 attention 수행   \n",
    "- masking   \n",
    "    - padding masking (짧은 길이 채우는 것)   \n",
    "    - look-ahead masking (다음 단어 가리기)   "
   ]
  },
  {
   "cell_type": "code",
   "execution_count": 21,
   "id": "2085a61e",
   "metadata": {},
   "outputs": [],
   "source": [
    "# 포지셔널 인코딩 레이어\n",
    "class PositionalEncoding(tf.keras.layers.Layer):\n",
    "\n",
    "    def __init__(self, position, d_model):\n",
    "        super(PositionalEncoding, self).__init__()\n",
    "        self.pos_encoding = self.positional_encoding(position, d_model)\n",
    "\n",
    "    def get_angles(self, position, i, d_model):\n",
    "        angles = 1 / tf.pow(10000, (2 * (i // 2)) / tf.cast(d_model, tf.float32))\n",
    "        return position * angles\n",
    "\n",
    "    def positional_encoding(self, position, d_model):\n",
    "        # 각도 배열 생성\n",
    "        angle_rads = self.get_angles(\n",
    "            position=tf.range(position, dtype=tf.float32)[:, tf.newaxis],\n",
    "            i=tf.range(d_model, dtype=tf.float32)[tf.newaxis, :],\n",
    "            d_model=d_model)\n",
    "\n",
    "        # 배열의 짝수 인덱스에는 sin 함수 적용\n",
    "        sines = tf.math.sin(angle_rads[:, 0::2])\n",
    "        # 배열의 홀수 인덱스에는 cosine 함수 적용\n",
    "        cosines = tf.math.cos(angle_rads[:, 1::2])\n",
    "\n",
    "        # sin과 cosine이 교차되도록 재배열\n",
    "        pos_encoding = tf.stack([sines, cosines], axis=0)\n",
    "        pos_encoding = tf.transpose(pos_encoding,[1, 2, 0]) \n",
    "        pos_encoding = tf.reshape(pos_encoding, [position, d_model])\n",
    "\n",
    "        pos_encoding = pos_encoding[tf.newaxis, ...]\n",
    "        return tf.cast(pos_encoding, tf.float32)\n",
    "\n",
    "    def call(self, inputs):\n",
    "        return inputs + self.pos_encoding[:, :tf.shape(inputs)[1], :]\n"
   ]
  },
  {
   "cell_type": "code",
   "execution_count": 22,
   "id": "90e1c411",
   "metadata": {},
   "outputs": [],
   "source": [
    "# 스케일드 닷 프로덕트 어텐션 함수 = transformer에서 말하는 attention\n",
    "def scaled_dot_product_attention(query, key, value, mask):\n",
    "    # 어텐션 가중치는 Q와 K의 닷 프로덕트\n",
    "    matmul_qk = tf.matmul(query, key, transpose_b=True)\n",
    "\n",
    "    # 가중치를 정규화\n",
    "    depth = tf.cast(tf.shape(key)[-1], tf.float32)\n",
    "    logits = matmul_qk / tf.math.sqrt(depth)\n",
    "\n",
    "    # 패딩에 마스크 추가\n",
    "    if mask is not None:\n",
    "        logits += (mask * -1e9)\n",
    "\n",
    "    # softmax적용\n",
    "    attention_weights = tf.nn.softmax(logits, axis=-1)\n",
    "\n",
    "  # 최종 어텐션은 가중치와 V의 닷 프로덕트\n",
    "    output = tf.matmul(attention_weights, value)\n",
    "    return output"
   ]
  },
  {
   "cell_type": "code",
   "execution_count": 23,
   "id": "5d3ad310",
   "metadata": {},
   "outputs": [],
   "source": [
    "class MultiHeadAttention(tf.keras.layers.Layer):\n",
    "\n",
    "    def __init__(self, d_model, num_heads, name=\"multi_head_attention\"):\n",
    "        super(MultiHeadAttention, self).__init__(name=name)\n",
    "        self.num_heads = num_heads\n",
    "        self.d_model = d_model\n",
    "\n",
    "        assert d_model % self.num_heads == 0\n",
    "   \n",
    "        self.depth = d_model // self.num_heads\n",
    "\n",
    "        self.query_dense = tf.keras.layers.Dense(units=d_model)\n",
    "        self.key_dense = tf.keras.layers.Dense(units=d_model)\n",
    "        self.value_dense = tf.keras.layers.Dense(units=d_model)\n",
    "\n",
    "        self.dense = tf.keras.layers.Dense(units=d_model)\n",
    "\n",
    "    def split_heads(self, inputs, batch_size):\n",
    "        inputs = tf.reshape(\n",
    "            inputs, shape=(batch_size, -1, self.num_heads, self.depth))\n",
    "        return tf.transpose(inputs, perm=[0, 2, 1, 3])\n",
    "\n",
    "    def call(self, inputs):\n",
    "        query, key, value, mask = inputs['query'], inputs['key'], inputs[\n",
    "            'value'], inputs['mask']\n",
    "        batch_size = tf.shape(query)[0]\n",
    "\n",
    "        # Q, K, V에 각각 Dense를 적용합니다\n",
    "        query = self.query_dense(query)\n",
    "        key = self.key_dense(key)\n",
    "        value = self.value_dense(value)\n",
    "\n",
    "        # 병렬 연산을 위한 머리를 여러 개 만듭니다\n",
    "        query = self.split_heads(query, batch_size)\n",
    "        key = self.split_heads(key, batch_size)\n",
    "        value = self.split_heads(value, batch_size)\n",
    "\n",
    "        # 스케일드 닷 프로덕트 어텐션 함수\n",
    "        scaled_attention = scaled_dot_product_attention(query, key, value, mask)\n",
    "\n",
    "        scaled_attention = tf.transpose(scaled_attention, perm=[0, 2, 1, 3])\n",
    "\n",
    "        # 어텐션 연산 후에 각 결과를 다시 연결(concatenate)합니다\n",
    "        concat_attention = tf.reshape(scaled_attention,\n",
    "                                      (batch_size, -1, self.d_model))\n",
    "\n",
    "        # 최종 결과에도 Dense를 한 번 더 적용합니다\n",
    "        outputs = self.dense(concat_attention)\n",
    "\n",
    "        return outputs"
   ]
  },
  {
   "cell_type": "code",
   "execution_count": 24,
   "id": "c991c42f",
   "metadata": {},
   "outputs": [],
   "source": [
    "#padding masking\n",
    "def create_padding_mask(x):\n",
    "    mask = tf.cast(tf.math.equal(x, 0), tf.float32)\n",
    "    # (batch_size, 1, 1, sequence length)\n",
    "    return mask[:, tf.newaxis, tf.newaxis, :]"
   ]
  },
  {
   "cell_type": "code",
   "execution_count": 25,
   "id": "86ad89f9",
   "metadata": {},
   "outputs": [],
   "source": [
    "#look-ahead masking\n",
    "def create_look_ahead_mask(x):\n",
    "    seq_len = tf.shape(x)[1]\n",
    "    look_ahead_mask = 1 - tf.linalg.band_part(tf.ones((seq_len, seq_len)), -1, 0)\n",
    "    padding_mask = create_padding_mask(x)\n",
    "    return tf.maximum(look_ahead_mask, padding_mask)"
   ]
  },
  {
   "cell_type": "code",
   "execution_count": 26,
   "id": "6a67fa51",
   "metadata": {},
   "outputs": [],
   "source": [
    "# 인코더 하나의 레이어를 함수로 구현.\n",
    "# 이 하나의 레이어 안에는 두 개의 서브 레이어가 존재합니다.\n",
    "def encoder_layer(units, d_model, num_heads, dropout, name=\"encoder_layer\"):\n",
    "    inputs = tf.keras.Input(shape=(None, d_model), name=\"inputs\")\n",
    "\n",
    "    # 패딩 마스크 사용\n",
    "    padding_mask = tf.keras.Input(shape=(1, 1, None), name=\"padding_mask\")\n",
    "\n",
    "    # 첫 번째 서브 레이어 : 멀티 헤드 어텐션 수행 (셀프 어텐션)\n",
    "    attention = MultiHeadAttention(\n",
    "        d_model, num_heads, name=\"attention\")({\n",
    "            'query': inputs,\n",
    "            'key': inputs,\n",
    "            'value': inputs,\n",
    "            'mask': padding_mask\n",
    "        })\n",
    "\n",
    "    # 어텐션의 결과는 Dropout과 Layer Normalization이라는 훈련을 돕는 테크닉을 수행\n",
    "    attention = tf.keras.layers.Dropout(rate=dropout)(attention)\n",
    "    attention = tf.keras.layers.LayerNormalization(\n",
    "        epsilon=1e-6)(inputs + attention)\n",
    "\n",
    "    # 두 번째 서브 레이어 : 2개의 완전연결층\n",
    "    outputs = tf.keras.layers.Dense(units=units, activation='relu')(attention)\n",
    "    outputs = tf.keras.layers.Dense(units=d_model)(outputs)\n",
    "\n",
    "    # 완전연결층의 결과는 Dropout과 LayerNormalization이라는 훈련을 돕는 테크닉을 수행\n",
    "    outputs = tf.keras.layers.Dropout(rate=dropout)(outputs)\n",
    "    outputs = tf.keras.layers.LayerNormalization(\n",
    "        epsilon=1e-6)(attention + outputs)\n",
    "\n",
    "    return tf.keras.Model(\n",
    "        inputs=[inputs, padding_mask], outputs=outputs, name=name)"
   ]
  },
  {
   "cell_type": "code",
   "execution_count": 27,
   "id": "891200cf",
   "metadata": {},
   "outputs": [],
   "source": [
    "#encoder는 여러 encoder layer를 쌓아서 만든다\n",
    "def encoder(vocab_size,\n",
    "            num_layers,\n",
    "            units,\n",
    "            d_model,\n",
    "            num_heads,\n",
    "            dropout,\n",
    "            name=\"encoder\"):\n",
    "    inputs = tf.keras.Input(shape=(None,), name=\"inputs\")\n",
    "\n",
    "    # 패딩 마스크 사용\n",
    "    padding_mask = tf.keras.Input(shape=(1, 1, None), name=\"padding_mask\")\n",
    "\n",
    "    # 임베딩 레이어\n",
    "    embeddings = tf.keras.layers.Embedding(vocab_size, d_model)(inputs)\n",
    "    embeddings *= tf.math.sqrt(tf.cast(d_model, tf.float32))\n",
    "\n",
    "    # 포지셔널 인코딩\n",
    "    embeddings = PositionalEncoding(vocab_size, d_model)(embeddings)\n",
    "\n",
    "    outputs = tf.keras.layers.Dropout(rate=dropout)(embeddings)\n",
    "\n",
    "    # num_layers만큼 쌓아올린 인코더의 층.\n",
    "    for i in range(num_layers):\n",
    "        outputs = encoder_layer(\n",
    "            units=units,\n",
    "            d_model=d_model,\n",
    "            num_heads=num_heads,\n",
    "            dropout=dropout,\n",
    "            name=\"encoder_layer_{}\".format(i),\n",
    "        )([outputs, padding_mask])\n",
    "\n",
    "    return tf.keras.Model(\n",
    "        inputs=[inputs, padding_mask], outputs=outputs, name=name)"
   ]
  },
  {
   "cell_type": "code",
   "execution_count": 28,
   "id": "2c9f6169",
   "metadata": {},
   "outputs": [],
   "source": [
    "# 디코더 하나의 레이어를 함수로 구현.\n",
    "# 이 하나의 레이어 안에는 세 개의 서브 레이어가 존재합니다.\n",
    "def decoder_layer(units, d_model, num_heads, dropout, name=\"decoder_layer\"):\n",
    "    inputs = tf.keras.Input(shape=(None, d_model), name=\"inputs\")\n",
    "    enc_outputs = tf.keras.Input(shape=(None, d_model), name=\"encoder_outputs\")\n",
    "    look_ahead_mask = tf.keras.Input(\n",
    "        shape=(1, None, None), name=\"look_ahead_mask\")\n",
    "    padding_mask = tf.keras.Input(shape=(1, 1, None), name='padding_mask')\n",
    "\n",
    "    # 첫 번째 서브 레이어 : 멀티 헤드 어텐션 수행 (셀프 어텐션)\n",
    "    attention1 = MultiHeadAttention(\n",
    "        d_model, num_heads, name=\"attention_1\")(inputs={\n",
    "            'query': inputs,\n",
    "            'key': inputs,\n",
    "            'value': inputs,\n",
    "            'mask': look_ahead_mask\n",
    "        })\n",
    "\n",
    "    # 멀티 헤드 어텐션의 결과는 LayerNormalization이라는 훈련을 돕는 테크닉을 수행\n",
    "    attention1 = tf.keras.layers.LayerNormalization(\n",
    "        epsilon=1e-6)(attention1 + inputs)\n",
    "\n",
    "    # 두 번째 서브 레이어 : 마스크드 멀티 헤드 어텐션 수행 (인코더-디코더 어텐션)\n",
    "    attention2 = MultiHeadAttention(\n",
    "        d_model, num_heads, name=\"attention_2\")(inputs={\n",
    "            'query': attention1,\n",
    "            'key': enc_outputs,\n",
    "            'value': enc_outputs,\n",
    "            'mask': padding_mask\n",
    "        })\n",
    "\n",
    "    # 마스크드 멀티 헤드 어텐션의 결과는\n",
    "    # Dropout과 LayerNormalization이라는 훈련을 돕는 테크닉을 수행\n",
    "    attention2 = tf.keras.layers.Dropout(rate=dropout)(attention2)\n",
    "    attention2 = tf.keras.layers.LayerNormalization(\n",
    "        epsilon=1e-6)(attention2 + attention1)\n",
    "\n",
    "    # 세 번째 서브 레이어 : 2개의 완전연결층\n",
    "    outputs = tf.keras.layers.Dense(units=units, activation='relu')(attention2)\n",
    "    outputs = tf.keras.layers.Dense(units=d_model)(outputs)\n",
    "\n",
    "    # 완전연결층의 결과는 Dropout과 LayerNormalization 수행\n",
    "    outputs = tf.keras.layers.Dropout(rate=dropout)(outputs)\n",
    "    outputs = tf.keras.layers.LayerNormalization(\n",
    "        epsilon=1e-6)(outputs + attention2)\n",
    "\n",
    "    return tf.keras.Model(\n",
    "        inputs=[inputs, enc_outputs, look_ahead_mask, padding_mask],\n",
    "        outputs=outputs,\n",
    "        name=name)"
   ]
  },
  {
   "cell_type": "code",
   "execution_count": 29,
   "id": "01a29792",
   "metadata": {},
   "outputs": [],
   "source": [
    "#encoder는 여러 encoder layer를 쌓아서 만든다\n",
    "def decoder(vocab_size,\n",
    "            num_layers,\n",
    "            units,\n",
    "            d_model,\n",
    "            num_heads,\n",
    "            dropout,\n",
    "            name='decoder'):\n",
    "    inputs = tf.keras.Input(shape=(None,), name='inputs')\n",
    "    enc_outputs = tf.keras.Input(shape=(None, d_model), name='encoder_outputs')\n",
    "    look_ahead_mask = tf.keras.Input(\n",
    "        shape=(1, None, None), name='look_ahead_mask')\n",
    "\n",
    "    # 패딩 마스크\n",
    "    padding_mask = tf.keras.Input(shape=(1, 1, None), name='padding_mask')\n",
    "  \n",
    "    # 임베딩 레이어\n",
    "    embeddings = tf.keras.layers.Embedding(vocab_size, d_model)(inputs)\n",
    "    embeddings *= tf.math.sqrt(tf.cast(d_model, tf.float32))\n",
    "\n",
    "    # 포지셔널 인코딩\n",
    "    embeddings = PositionalEncoding(vocab_size, d_model)(embeddings)\n",
    "\n",
    "    # Dropout이라는 훈련을 돕는 테크닉을 수행\n",
    "    outputs = tf.keras.layers.Dropout(rate=dropout)(embeddings)\n",
    "\n",
    "    for i in range(num_layers):\n",
    "        outputs = decoder_layer(\n",
    "          units=units,\n",
    "          d_model=d_model,\n",
    "          num_heads=num_heads,\n",
    "          dropout=dropout,\n",
    "          name='decoder_layer_{}'.format(i),\n",
    "      )(inputs=[outputs, enc_outputs, look_ahead_mask, padding_mask])\n",
    "\n",
    "    return tf.keras.Model(\n",
    "        inputs=[inputs, enc_outputs, look_ahead_mask, padding_mask],\n",
    "        outputs=outputs,\n",
    "        name=name)"
   ]
  },
  {
   "cell_type": "markdown",
   "id": "061a9286",
   "metadata": {},
   "source": [
    "# 4. 모델 정의 및 학습"
   ]
  },
  {
   "cell_type": "code",
   "execution_count": 30,
   "id": "7de2c54c",
   "metadata": {},
   "outputs": [],
   "source": [
    "def transformer(vocab_size,\n",
    "                num_layers,\n",
    "                units,\n",
    "                d_model,\n",
    "                num_heads,\n",
    "                dropout,\n",
    "                name=\"transformer\"):\n",
    "    inputs = tf.keras.Input(shape=(None,), name=\"inputs\")\n",
    "    dec_inputs = tf.keras.Input(shape=(None,), name=\"dec_inputs\")\n",
    "\n",
    "    # 인코더에서 패딩을 위한 마스크\n",
    "    enc_padding_mask = tf.keras.layers.Lambda(\n",
    "        create_padding_mask, output_shape=(1, 1, None),\n",
    "        name='enc_padding_mask')(inputs)\n",
    "\n",
    "    # 디코더에서 미래의 토큰을 마스크 하기 위해서 사용합니다.\n",
    "    # 내부적으로 패딩 마스크도 포함되어져 있습니다.\n",
    "    look_ahead_mask = tf.keras.layers.Lambda(\n",
    "        create_look_ahead_mask,\n",
    "        output_shape=(1, None, None),\n",
    "        name='look_ahead_mask')(dec_inputs)\n",
    "\n",
    "     # 두 번째 어텐션 블록에서 인코더의 벡터들을 마스킹\n",
    "    # 디코더에서 패딩을 위한 마스크\n",
    "    dec_padding_mask = tf.keras.layers.Lambda(\n",
    "        create_padding_mask, output_shape=(1, 1, None),\n",
    "        name='dec_padding_mask')(inputs)\n",
    "\n",
    "    # 인코더\n",
    "    enc_outputs = encoder(\n",
    "        vocab_size=vocab_size,\n",
    "        num_layers=num_layers,\n",
    "        units=units,\n",
    "        d_model=d_model,\n",
    "        num_heads=num_heads,\n",
    "        dropout=dropout,\n",
    "    )(inputs=[inputs, enc_padding_mask])\n",
    "\n",
    "    # 디코더\n",
    "    dec_outputs = decoder(\n",
    "        vocab_size=vocab_size,\n",
    "        num_layers=num_layers,\n",
    "        units=units,\n",
    "        d_model=d_model,\n",
    "        num_heads=num_heads,\n",
    "        dropout=dropout,\n",
    "    )(inputs=[dec_inputs, enc_outputs, look_ahead_mask, dec_padding_mask])\n",
    "\n",
    "    # 완전연결층\n",
    "    outputs = tf.keras.layers.Dense(units=vocab_size, name=\"outputs\")(dec_outputs)\n",
    "\n",
    "    return tf.keras.Model(inputs=[inputs, dec_inputs], outputs=outputs, name=name)"
   ]
  },
  {
   "cell_type": "markdown",
   "id": "57044116",
   "metadata": {},
   "source": [
    "###  모델 생성"
   ]
  },
  {
   "cell_type": "code",
   "execution_count": 31,
   "id": "a933b6cc",
   "metadata": {},
   "outputs": [
    {
     "name": "stdout",
     "output_type": "stream",
     "text": [
      "Model: \"transformer\"\n",
      "__________________________________________________________________________________________________\n",
      "Layer (type)                    Output Shape         Param #     Connected to                     \n",
      "==================================================================================================\n",
      "inputs (InputLayer)             [(None, None)]       0                                            \n",
      "__________________________________________________________________________________________________\n",
      "dec_inputs (InputLayer)         [(None, None)]       0                                            \n",
      "__________________________________________________________________________________________________\n",
      "enc_padding_mask (Lambda)       (None, 1, 1, None)   0           inputs[0][0]                     \n",
      "__________________________________________________________________________________________________\n",
      "encoder (Functional)            (None, None, 256)    3139328     inputs[0][0]                     \n",
      "                                                                 enc_padding_mask[0][0]           \n",
      "__________________________________________________________________________________________________\n",
      "look_ahead_mask (Lambda)        (None, 1, None, None 0           dec_inputs[0][0]                 \n",
      "__________________________________________________________________________________________________\n",
      "dec_padding_mask (Lambda)       (None, 1, 1, None)   0           inputs[0][0]                     \n",
      "__________________________________________________________________________________________________\n",
      "decoder (Functional)            (None, None, 256)    3666688     dec_inputs[0][0]                 \n",
      "                                                                 encoder[0][0]                    \n",
      "                                                                 look_ahead_mask[0][0]            \n",
      "                                                                 dec_padding_mask[0][0]           \n",
      "__________________________________________________________________________________________________\n",
      "outputs (Dense)                 (None, None, 8145)   2093265     decoder[0][0]                    \n",
      "==================================================================================================\n",
      "Total params: 8,899,281\n",
      "Trainable params: 8,899,281\n",
      "Non-trainable params: 0\n",
      "__________________________________________________________________________________________________\n"
     ]
    }
   ],
   "source": [
    "tf.keras.backend.clear_session()\n",
    "\n",
    "# 하이퍼파라미터\n",
    "NUM_LAYERS = 2 # 인코더와 디코더의 층의 개수\n",
    "D_MODEL = 256 # 인코더와 디코더 내부의 입, 출력의 고정 차원\n",
    "NUM_HEADS = 8 # 멀티 헤드 어텐션에서의 헤드 수 \n",
    "UNITS = 512 # 피드 포워드 신경망의 은닉층의 크기\n",
    "DROPOUT = 0.1 # 드롭아웃의 비율\n",
    "\n",
    "model = transformer(\n",
    "    vocab_size=VOCAB_SIZE,\n",
    "    num_layers=NUM_LAYERS,\n",
    "    units=UNITS,\n",
    "    d_model=D_MODEL,\n",
    "    num_heads=NUM_HEADS,\n",
    "    dropout=DROPOUT)\n",
    "\n",
    "model.summary()"
   ]
  },
  {
   "cell_type": "markdown",
   "id": "81d86671",
   "metadata": {},
   "source": [
    "### loss function   \n",
    "레이블인 시퀀스에 패딩 되어 있으므로, loss 계산할 때 패딩 마스크 적용"
   ]
  },
  {
   "cell_type": "code",
   "execution_count": 32,
   "id": "42746bf8",
   "metadata": {},
   "outputs": [],
   "source": [
    "def loss_function(y_true, y_pred):\n",
    "    y_true = tf.reshape(y_true, shape=(-1, MAX_LENGTH - 1))\n",
    "  \n",
    "    loss = tf.keras.losses.SparseCategoricalCrossentropy(\n",
    "        from_logits=True, reduction='none')(y_true, y_pred)\n",
    "\n",
    "    mask = tf.cast(tf.not_equal(y_true, 0), tf.float32)\n",
    "    loss = tf.multiply(loss, mask)\n",
    "\n",
    "    return tf.reduce_mean(loss)"
   ]
  },
  {
   "cell_type": "markdown",
   "id": "f08f604d",
   "metadata": {},
   "source": [
    "### 고오오오오오수로 가보자 - Custom learning rate scheduling    \n",
    "- 초기에 learning rate 높였다가 서서히 낮추며 안정적으로 수렴하도록 learning rate를 정하는 방법"
   ]
  },
  {
   "cell_type": "code",
   "execution_count": 33,
   "id": "1bb0fffb",
   "metadata": {},
   "outputs": [],
   "source": [
    "class CustomSchedule(tf.keras.optimizers.schedules.LearningRateSchedule):\n",
    "\n",
    "    def __init__(self, d_model, warmup_steps=4000):\n",
    "        super(CustomSchedule, self).__init__()\n",
    "\n",
    "        self.d_model = d_model\n",
    "        self.d_model = tf.cast(self.d_model, tf.float32)\n",
    "\n",
    "        self.warmup_steps = warmup_steps\n",
    "\n",
    "    def __call__(self, step):\n",
    "        arg1 = tf.math.rsqrt(step)\n",
    "        arg2 = step * (self.warmup_steps**-1.5)\n",
    "\n",
    "        return tf.math.rsqrt(self.d_model) * tf.math.minimum(arg1, arg2)"
   ]
  },
  {
   "cell_type": "markdown",
   "id": "84fa7b4b",
   "metadata": {},
   "source": [
    "### 모델 컴파일"
   ]
  },
  {
   "cell_type": "code",
   "execution_count": 34,
   "id": "5f2c9e56",
   "metadata": {},
   "outputs": [],
   "source": [
    "learning_rate = CustomSchedule(D_MODEL)\n",
    "\n",
    "optimizer = tf.keras.optimizers.Adam(\n",
    "    learning_rate, beta_1=0.9, beta_2=0.98, epsilon=1e-9)\n",
    "\n",
    "def accuracy(y_true, y_pred):\n",
    "    y_true = tf.reshape(y_true, shape=(-1, MAX_LENGTH - 1))\n",
    "    return tf.keras.metrics.sparse_categorical_accuracy(y_true, y_pred)\n",
    "\n",
    "model.compile(optimizer=optimizer, loss=loss_function, metrics=[accuracy])"
   ]
  },
  {
   "cell_type": "markdown",
   "id": "dc51765a",
   "metadata": {},
   "source": [
    "### 훈련"
   ]
  },
  {
   "cell_type": "code",
   "execution_count": 35,
   "id": "c22ddea4",
   "metadata": {},
   "outputs": [
    {
     "name": "stdout",
     "output_type": "stream",
     "text": [
      "Epoch 1/20\n",
      "47/47 [==============================] - 21s 152ms/step - loss: 1.5597 - accuracy: 0.0051\n",
      "Epoch 2/20\n",
      "47/47 [==============================] - 7s 152ms/step - loss: 1.4723 - accuracy: 0.0247\n",
      "Epoch 3/20\n",
      "47/47 [==============================] - 7s 152ms/step - loss: 1.4044 - accuracy: 0.0247\n",
      "Epoch 4/20\n",
      "47/47 [==============================] - 7s 152ms/step - loss: 1.3403 - accuracy: 0.0325\n",
      "Epoch 5/20\n",
      "47/47 [==============================] - 7s 153ms/step - loss: 1.2535 - accuracy: 0.0493\n",
      "Epoch 6/20\n",
      "47/47 [==============================] - 7s 154ms/step - loss: 1.1769 - accuracy: 0.0496\n",
      "Epoch 7/20\n",
      "47/47 [==============================] - 7s 155ms/step - loss: 1.1135 - accuracy: 0.0499\n",
      "Epoch 8/20\n",
      "47/47 [==============================] - 7s 155ms/step - loss: 1.0577 - accuracy: 0.0500\n",
      "Epoch 9/20\n",
      "47/47 [==============================] - 7s 157ms/step - loss: 1.0069 - accuracy: 0.0506\n",
      "Epoch 10/20\n",
      "47/47 [==============================] - 7s 157ms/step - loss: 0.9641 - accuracy: 0.0522\n",
      "Epoch 11/20\n",
      "47/47 [==============================] - 7s 159ms/step - loss: 0.9311 - accuracy: 0.0541\n",
      "Epoch 12/20\n",
      "47/47 [==============================] - 8s 160ms/step - loss: 0.9021 - accuracy: 0.0556\n",
      "Epoch 13/20\n",
      "47/47 [==============================] - 8s 160ms/step - loss: 0.8742 - accuracy: 0.0570\n",
      "Epoch 14/20\n",
      "47/47 [==============================] - 8s 160ms/step - loss: 0.8473 - accuracy: 0.0587\n",
      "Epoch 15/20\n",
      "47/47 [==============================] - 8s 160ms/step - loss: 0.8205 - accuracy: 0.0609\n",
      "Epoch 16/20\n",
      "47/47 [==============================] - 8s 160ms/step - loss: 0.7931 - accuracy: 0.0635\n",
      "Epoch 17/20\n",
      "47/47 [==============================] - 8s 162ms/step - loss: 0.7650 - accuracy: 0.0668\n",
      "Epoch 18/20\n",
      "47/47 [==============================] - 8s 163ms/step - loss: 0.7354 - accuracy: 0.0699\n",
      "Epoch 19/20\n",
      "47/47 [==============================] - 8s 163ms/step - loss: 0.7052 - accuracy: 0.0730\n",
      "Epoch 20/20\n",
      "47/47 [==============================] - 8s 164ms/step - loss: 0.6737 - accuracy: 0.0767\n"
     ]
    },
    {
     "data": {
      "text/plain": [
       "<keras.callbacks.History at 0x7fb50ce36ac0>"
      ]
     },
     "execution_count": 35,
     "metadata": {},
     "output_type": "execute_result"
    }
   ],
   "source": [
    "EPOCHS = 20\n",
    "model.fit(dataset, epochs=EPOCHS, verbose=1)"
   ]
  },
  {
   "cell_type": "markdown",
   "id": "d558a03b",
   "metadata": {},
   "source": [
    "# 5. infernece -실전 커스텀"
   ]
  },
  {
   "cell_type": "code",
   "execution_count": 36,
   "id": "fcf738aa",
   "metadata": {},
   "outputs": [],
   "source": [
    "def decoder_inference(sentence):\n",
    "    sentence = preprocess_sentence(sentence)\n",
    "\n",
    "    # 입력된 문장을 정수 인코딩 후, 시작 토큰과 종료 토큰을 앞뒤로 추가.\n",
    "    # ex) Where have you been? → [[8331   86   30    5 1059    7 8332]]\n",
    "    sentence = tf.expand_dims(\n",
    "        START_TOKEN + tokenizer.encode(sentence) + END_TOKEN, axis=0)\n",
    "\n",
    "    # 디코더의 현재까지의 예측한 출력 시퀀스가 지속적으로 저장되는 변수.\n",
    "    # 처음에는 예측한 내용이 없음으로 시작 토큰만 별도 저장. ex) 8331\n",
    "    output_sequence = tf.expand_dims(START_TOKEN, 0)\n",
    "    \n",
    "    # 디코더의 인퍼런스 단계\n",
    "    for i in range(MAX_LENGTH):\n",
    "       # 디코더는 최대 MAX_LENGTH의 길이만큼 다음 단어 예측을 반복합니다.\n",
    "        predictions = model(inputs=[sentence, output_sequence], training=False)\n",
    "        predictions = predictions[:, -1:, :]\n",
    "\n",
    "      # 현재 예측한 단어의 정수\n",
    "        predicted_id = tf.cast(tf.argmax(predictions, axis=-1), tf.int32)\n",
    "\n",
    "      # 만약 현재 예측한 단어가 종료 토큰이라면 for문을 종료\n",
    "        if tf.equal(predicted_id, END_TOKEN[0]):\n",
    "             break\n",
    "\n",
    "    # 예측한 단어들은 지속적으로 output_sequence에 추가됩니다.\n",
    "    # 이 output_sequence는 다시 디코더의 입력이 됩니다.\n",
    "        output_sequence = tf.concat([output_sequence, predicted_id], axis=-1)\n",
    "\n",
    "    return tf.squeeze(output_sequence, axis=0)"
   ]
  },
  {
   "cell_type": "code",
   "execution_count": 37,
   "id": "7514c7d5",
   "metadata": {},
   "outputs": [],
   "source": [
    "def sentence_generation(sentence):\n",
    "  # 입력 문장에 대해서 디코더를 동작 시켜 예측된 정수 시퀀스를 리턴받습니다.\n",
    "    prediction = decoder_inference(sentence)\n",
    "\n",
    "  # 정수 시퀀스를 다시 텍스트 시퀀스로 변환합니다.\n",
    "    predicted_sentence = tokenizer.decode(\n",
    "        [i for i in prediction if i < tokenizer.vocab_size])\n",
    "\n",
    "    print('입력 : {}'.format(sentence))\n",
    "    print('출력 : {}'.format(predicted_sentence))\n",
    "\n",
    "    return predicted_sentence"
   ]
  },
  {
   "cell_type": "markdown",
   "id": "b9a69147",
   "metadata": {},
   "source": [
    "### 두근두근 답변 보기"
   ]
  },
  {
   "cell_type": "code",
   "execution_count": 38,
   "id": "69e82b7a",
   "metadata": {},
   "outputs": [
    {
     "name": "stdout",
     "output_type": "stream",
     "text": [
      "입력 : 배고프다\n",
      "출력 : 많이 지쳤나봐요 .\n"
     ]
    },
    {
     "data": {
      "text/plain": [
       "'많이 지쳤나봐요 .'"
      ]
     },
     "execution_count": 38,
     "metadata": {},
     "output_type": "execute_result"
    }
   ],
   "source": [
    "sentence_generation('배고프다')"
   ]
  },
  {
   "cell_type": "code",
   "execution_count": 39,
   "id": "725842cc",
   "metadata": {},
   "outputs": [
    {
     "name": "stdout",
     "output_type": "stream",
     "text": [
      "입력 : 배가 고프다\n",
      "출력 : 좋은 생각이에요 .\n"
     ]
    },
    {
     "data": {
      "text/plain": [
       "'좋은 생각이에요 .'"
      ]
     },
     "execution_count": 39,
     "metadata": {},
     "output_type": "execute_result"
    }
   ],
   "source": [
    "sentence_generation('배가 고프다')"
   ]
  },
  {
   "cell_type": "code",
   "execution_count": 40,
   "id": "c2381e9a",
   "metadata": {},
   "outputs": [
    {
     "name": "stdout",
     "output_type": "stream",
     "text": [
      "입력 : 배 고프다\n",
      "출력 : 많이 지쳤나봐요 .\n"
     ]
    },
    {
     "data": {
      "text/plain": [
       "'많이 지쳤나봐요 .'"
      ]
     },
     "execution_count": 40,
     "metadata": {},
     "output_type": "execute_result"
    }
   ],
   "source": [
    "sentence_generation('배 고프다')"
   ]
  },
  {
   "cell_type": "code",
   "execution_count": 41,
   "id": "80543090",
   "metadata": {},
   "outputs": [
    {
     "name": "stdout",
     "output_type": "stream",
     "text": [
      "입력 : 오늘 저녁 추천해주세요.\n",
      "출력 : 이제 잘 지내고 있을 거예요 .\n"
     ]
    },
    {
     "data": {
      "text/plain": [
       "'이제 잘 지내고 있을 거예요 .'"
      ]
     },
     "execution_count": 41,
     "metadata": {},
     "output_type": "execute_result"
    }
   ],
   "source": [
    "sentence_generation('오늘 저녁 추천해주세요.')"
   ]
  },
  {
   "cell_type": "code",
   "execution_count": 42,
   "id": "cdcdd057",
   "metadata": {},
   "outputs": [
    {
     "name": "stdout",
     "output_type": "stream",
     "text": [
      "입력 : 오늘 저녁 메뉴를 추천해주세요.\n",
      "출력 : 이제 잘 찾아보세요 .\n"
     ]
    },
    {
     "data": {
      "text/plain": [
       "'이제 잘 찾아보세요 .'"
      ]
     },
     "execution_count": 42,
     "metadata": {},
     "output_type": "execute_result"
    }
   ],
   "source": [
    "sentence_generation('오늘 저녁 메뉴를 추천해주세요.')"
   ]
  },
  {
   "cell_type": "code",
   "execution_count": 43,
   "id": "3d3ab0ba",
   "metadata": {},
   "outputs": [
    {
     "name": "stdout",
     "output_type": "stream",
     "text": [
      "입력 : 오늘 저녁에 뭐 먹을까요?\n",
      "출력 : 좋은 사람 만날 수 있을 거예요 .\n"
     ]
    },
    {
     "data": {
      "text/plain": [
       "'좋은 사람 만날 수 있을 거예요 .'"
      ]
     },
     "execution_count": 43,
     "metadata": {},
     "output_type": "execute_result"
    }
   ],
   "source": [
    "sentence_generation('오늘 저녁에 뭐 먹을까요?')"
   ]
  },
  {
   "cell_type": "code",
   "execution_count": 44,
   "id": "b123e9f6",
   "metadata": {},
   "outputs": [
    {
     "name": "stdout",
     "output_type": "stream",
     "text": [
      "입력 : 공부하기 싫어요\n",
      "출력 : 지금도 늦지 않았어요 .\n"
     ]
    },
    {
     "data": {
      "text/plain": [
       "'지금도 늦지 않았어요 .'"
      ]
     },
     "execution_count": 44,
     "metadata": {},
     "output_type": "execute_result"
    }
   ],
   "source": [
    "sentence_generation('공부하기 싫어요')"
   ]
  },
  {
   "cell_type": "code",
   "execution_count": 45,
   "id": "409b0594",
   "metadata": {},
   "outputs": [
    {
     "name": "stdout",
     "output_type": "stream",
     "text": [
      "입력 : 지하철역이 어디에 있나요?\n",
      "출력 : 다른 사람이 있을 거예요 .\n"
     ]
    },
    {
     "data": {
      "text/plain": [
       "'다른 사람이 있을 거예요 .'"
      ]
     },
     "execution_count": 45,
     "metadata": {},
     "output_type": "execute_result"
    }
   ],
   "source": [
    "sentence_generation('지하철역이 어디에 있나요?')"
   ]
  },
  {
   "cell_type": "code",
   "execution_count": 56,
   "id": "37db5186",
   "metadata": {},
   "outputs": [
    {
     "name": "stdout",
     "output_type": "stream",
     "text": [
      "입력 : 얼마죠?\n",
      "출력 : 다른 곳에 쓰려고 운을 아껴뒀나봐요 .\n"
     ]
    },
    {
     "data": {
      "text/plain": [
       "'다른 곳에 쓰려고 운을 아껴뒀나봐요 .'"
      ]
     },
     "execution_count": 56,
     "metadata": {},
     "output_type": "execute_result"
    }
   ],
   "source": [
    "sentence_generation('얼마죠?')"
   ]
  },
  {
   "cell_type": "code",
   "execution_count": 46,
   "id": "7c5ddb18",
   "metadata": {},
   "outputs": [
    {
     "name": "stdout",
     "output_type": "stream",
     "text": [
      "입력 : 이 챗봇은 바보입니다\n",
      "출력 : 잘 찾아보세요 .\n"
     ]
    },
    {
     "data": {
      "text/plain": [
       "'잘 찾아보세요 .'"
      ]
     },
     "execution_count": 46,
     "metadata": {},
     "output_type": "execute_result"
    }
   ],
   "source": [
    "sentence_generation('이 챗봇은 바보입니다')"
   ]
  },
  {
   "cell_type": "code",
   "execution_count": 47,
   "id": "eaad2aa3",
   "metadata": {},
   "outputs": [
    {
     "name": "stdout",
     "output_type": "stream",
     "text": [
      "입력 : 사랑이 찾아올까요?\n",
      "출력 : 좋은 사람 만날 거예요 .\n"
     ]
    },
    {
     "data": {
      "text/plain": [
       "'좋은 사람 만날 거예요 .'"
      ]
     },
     "execution_count": 47,
     "metadata": {},
     "output_type": "execute_result"
    }
   ],
   "source": [
    "sentence_generation('사랑이 찾아올까요?')"
   ]
  },
  {
   "cell_type": "code",
   "execution_count": 48,
   "id": "d3c5d31e",
   "metadata": {},
   "outputs": [
    {
     "name": "stdout",
     "output_type": "stream",
     "text": [
      "입력 : 어디로 가야하죠?\n",
      "출력 : 좋은 사람 만날 수 있을 거예요 .\n"
     ]
    },
    {
     "data": {
      "text/plain": [
       "'좋은 사람 만날 수 있을 거예요 .'"
      ]
     },
     "execution_count": 48,
     "metadata": {},
     "output_type": "execute_result"
    }
   ],
   "source": [
    "sentence_generation('어디로 가야하죠?')"
   ]
  },
  {
   "cell_type": "code",
   "execution_count": 49,
   "id": "9ef5cf34",
   "metadata": {},
   "outputs": [
    {
     "name": "stdout",
     "output_type": "stream",
     "text": [
      "입력 : 저 오늘 헤어졌어요. 위로가 필요해요\n",
      "출력 : 잘 찾아보세요 .\n"
     ]
    },
    {
     "data": {
      "text/plain": [
       "'잘 찾아보세요 .'"
      ]
     },
     "execution_count": 49,
     "metadata": {},
     "output_type": "execute_result"
    }
   ],
   "source": [
    "sentence_generation('저 오늘 헤어졌어요. 위로가 필요해요')"
   ]
  },
  {
   "cell_type": "code",
   "execution_count": 50,
   "id": "d71bd8c9",
   "metadata": {},
   "outputs": [
    {
     "name": "stdout",
     "output_type": "stream",
     "text": [
      "입력 : 헤어졌는데 그 사람이 계속 생각나요\n",
      "출력 : 좋은 사람 만날 수 있을 거예요 .\n"
     ]
    },
    {
     "data": {
      "text/plain": [
       "'좋은 사람 만날 수 있을 거예요 .'"
      ]
     },
     "execution_count": 50,
     "metadata": {},
     "output_type": "execute_result"
    }
   ],
   "source": [
    "sentence_generation('헤어졌는데 그 사람이 계속 생각나요')"
   ]
  },
  {
   "cell_type": "markdown",
   "id": "eadb3f49",
   "metadata": {},
   "source": [
    "일상 대화를 이해하지 못하는 것 같아서 데이터셋을 열어보니 연애관련 이야기가 있었다.   \n",
    "그래서 질문을 좀 더 연애와 관련된 것으로 하였지만 제대로 작동하지 않는 모습을 보여준다.   \n",
    "그냥 학습이 잘 되지 않은 것 같아 학습 파라미터를 바꿔보기로 했다."
   ]
  },
  {
   "cell_type": "markdown",
   "id": "970bd3e7",
   "metadata": {},
   "source": [
    "### 다른 학습   \n",
    "변경한 하이퍼 파라미터    \n",
    "NUM_LAYERS2 = 4    \n",
    "D_MODEL2 = 256   \n",
    "DROPOUT2 = 0.3 "
   ]
  },
  {
   "cell_type": "code",
   "execution_count": 58,
   "id": "60009881",
   "metadata": {},
   "outputs": [],
   "source": [
    "quest_list = [\"배고프다\", \"배가 고프다\", \"배 고프다\",\n",
    "            \"오늘 저녁 추천해주세요.\",\"오늘 저녁 메뉴를 추천해주세요.\",\n",
    "            \"오늘 저녁 메뉴를 추천해주세요.\",\"공부하기 싫어요\",\"지하철역이 어디에 있나요?\",\"얼마죠?\",\"이 챗봇은 바보입니다\",\"사랑이 찾아올까요?\",\n",
    "            \"어디로 가야하죠?\",\"헤어졌는데 그 사람이 계속 생각나요\"]"
   ]
  },
  {
   "cell_type": "code",
   "execution_count": 59,
   "id": "68698eb6",
   "metadata": {},
   "outputs": [
    {
     "name": "stdout",
     "output_type": "stream",
     "text": [
      "Model: \"transformer\"\n",
      "__________________________________________________________________________________________________\n",
      "Layer (type)                    Output Shape         Param #     Connected to                     \n",
      "==================================================================================================\n",
      "inputs (InputLayer)             [(None, None)]       0                                            \n",
      "__________________________________________________________________________________________________\n",
      "dec_inputs (InputLayer)         [(None, None)]       0                                            \n",
      "__________________________________________________________________________________________________\n",
      "enc_padding_mask (Lambda)       (None, 1, 1, None)   0           inputs[0][0]                     \n",
      "__________________________________________________________________________________________________\n",
      "encoder (Functional)            (None, None, 256)    3139328     inputs[0][0]                     \n",
      "                                                                 enc_padding_mask[0][0]           \n",
      "__________________________________________________________________________________________________\n",
      "look_ahead_mask (Lambda)        (None, 1, None, None 0           dec_inputs[0][0]                 \n",
      "__________________________________________________________________________________________________\n",
      "dec_padding_mask (Lambda)       (None, 1, 1, None)   0           inputs[0][0]                     \n",
      "__________________________________________________________________________________________________\n",
      "decoder (Functional)            (None, None, 256)    3666688     dec_inputs[0][0]                 \n",
      "                                                                 encoder[0][0]                    \n",
      "                                                                 look_ahead_mask[0][0]            \n",
      "                                                                 dec_padding_mask[0][0]           \n",
      "__________________________________________________________________________________________________\n",
      "outputs (Dense)                 (None, None, 8145)   2093265     decoder[0][0]                    \n",
      "==================================================================================================\n",
      "Total params: 8,899,281\n",
      "Trainable params: 8,899,281\n",
      "Non-trainable params: 0\n",
      "__________________________________________________________________________________________________\n"
     ]
    }
   ],
   "source": [
    "tf.keras.backend.clear_session()\n",
    "\n",
    "# 하이퍼파라미터\n",
    "NUM_LAYERS2 = 4 # 인코더와 디코더의 층의 개수\n",
    "D_MODEL2 = 256 # 인코더와 디코더 내부의 입, 출력의 고정 차원\n",
    "NUM_HEADS2 = 8 # 멀티 헤드 어텐션에서의 헤드 수 \n",
    "UNITS2 = 512 # 피드 포워드 신경망의 은닉층의 크기\n",
    "DROPOUT2 = 0.3 # 드롭아웃의 비율\n",
    "\n",
    "model2 = transformer(\n",
    "    vocab_size=VOCAB_SIZE,\n",
    "    num_layers=NUM_LAYERS2,\n",
    "    units=UNITS2,\n",
    "    d_model=D_MODEL2,\n",
    "    num_heads=NUM_HEADS2,\n",
    "    dropout=DROPOUT2)\n",
    "\n",
    "model.summary()"
   ]
  },
  {
   "cell_type": "code",
   "execution_count": 60,
   "id": "2caf6ad8",
   "metadata": {},
   "outputs": [],
   "source": [
    "learning_rate2 = CustomSchedule(D_MODEL2)\n",
    "\n",
    "optimizer2 = tf.keras.optimizers.Adam(\n",
    "    learning_rate2, beta_1=0.9, beta_2=0.98, epsilon=1e-9)\n",
    "\n",
    "def accuracy(y_true, y_pred):\n",
    "    y_true = tf.reshape(y_true, shape=(-1, MAX_LENGTH - 1))\n",
    "    return tf.keras.metrics.sparse_categorical_accuracy(y_true, y_pred)\n",
    "\n",
    "model2.compile(optimizer=optimizer2, loss=loss_function, metrics=[accuracy])"
   ]
  },
  {
   "cell_type": "code",
   "execution_count": 61,
   "id": "6a5f922f",
   "metadata": {},
   "outputs": [
    {
     "name": "stdout",
     "output_type": "stream",
     "text": [
      "Epoch 1/20\n",
      "47/47 [==============================] - 9s 160ms/step - loss: 0.4416 - accuracy: 0.1047\n",
      "Epoch 2/20\n",
      "47/47 [==============================] - 8s 160ms/step - loss: 0.4080 - accuracy: 0.1092\n",
      "Epoch 3/20\n",
      "47/47 [==============================] - 8s 160ms/step - loss: 0.3733 - accuracy: 0.1146\n",
      "Epoch 4/20\n",
      "47/47 [==============================] - 8s 160ms/step - loss: 0.3398 - accuracy: 0.1196\n",
      "Epoch 5/20\n",
      "47/47 [==============================] - 8s 161ms/step - loss: 0.3067 - accuracy: 0.1250\n",
      "Epoch 6/20\n",
      "47/47 [==============================] - 8s 162ms/step - loss: 0.2758 - accuracy: 0.1296\n",
      "Epoch 7/20\n",
      "47/47 [==============================] - 8s 163ms/step - loss: 0.2449 - accuracy: 0.1351\n",
      "Epoch 8/20\n",
      "47/47 [==============================] - 8s 164ms/step - loss: 0.2153 - accuracy: 0.1397\n",
      "Epoch 9/20\n",
      "47/47 [==============================] - 8s 164ms/step - loss: 0.1876 - accuracy: 0.1447\n",
      "Epoch 10/20\n",
      "47/47 [==============================] - 8s 162ms/step - loss: 0.1620 - accuracy: 0.1493\n",
      "Epoch 11/20\n",
      "47/47 [==============================] - 8s 161ms/step - loss: 0.1381 - accuracy: 0.1536\n",
      "Epoch 12/20\n",
      "47/47 [==============================] - 8s 161ms/step - loss: 0.1167 - accuracy: 0.1575\n",
      "Epoch 13/20\n",
      "47/47 [==============================] - 8s 161ms/step - loss: 0.0974 - accuracy: 0.1611\n",
      "Epoch 14/20\n",
      "47/47 [==============================] - 8s 161ms/step - loss: 0.0801 - accuracy: 0.1639\n",
      "Epoch 15/20\n",
      "47/47 [==============================] - 8s 161ms/step - loss: 0.0653 - accuracy: 0.1664\n",
      "Epoch 16/20\n",
      "47/47 [==============================] - 8s 161ms/step - loss: 0.0525 - accuracy: 0.1687\n",
      "Epoch 17/20\n",
      "47/47 [==============================] - 8s 162ms/step - loss: 0.0429 - accuracy: 0.1698\n",
      "Epoch 18/20\n",
      "47/47 [==============================] - 8s 163ms/step - loss: 0.0346 - accuracy: 0.1707\n",
      "Epoch 19/20\n",
      "47/47 [==============================] - 8s 163ms/step - loss: 0.0283 - accuracy: 0.1715\n",
      "Epoch 20/20\n",
      "47/47 [==============================] - 8s 163ms/step - loss: 0.0232 - accuracy: 0.1719\n"
     ]
    },
    {
     "data": {
      "text/plain": [
       "<keras.callbacks.History at 0x7fb47e8f1880>"
      ]
     },
     "execution_count": 61,
     "metadata": {},
     "output_type": "execute_result"
    }
   ],
   "source": [
    "EPOCHS = 20\n",
    "model.fit(dataset, epochs=EPOCHS, verbose=1)"
   ]
  },
  {
   "cell_type": "code",
   "execution_count": 62,
   "id": "0b4f71e2",
   "metadata": {},
   "outputs": [
    {
     "name": "stdout",
     "output_type": "stream",
     "text": [
      "입력 : 배고프다\n",
      "출력 : 저도 밥 먹고 싶어요\n",
      "-------------------------------\n",
      "입력 : 배가 고프다\n",
      "출력 : 득템했길 바라요 .\n",
      "-------------------------------\n",
      "입력 : 배 고프다\n",
      "출력 : 그럴 시기에요 .\n",
      "-------------------------------\n",
      "입력 : 오늘 저녁 추천해주세요.\n",
      "출력 : 미루지말고 바로 가보세요 .\n",
      "-------------------------------\n",
      "입력 : 오늘 저녁 메뉴를 추천해주세요.\n",
      "출력 : 그가 좋아할 거예요 .\n",
      "-------------------------------\n",
      "입력 : 오늘 저녁 메뉴를 추천해주세요.\n",
      "출력 : 그가 좋아할 거예요 .\n",
      "-------------------------------\n",
      "입력 : 공부하기 싫어요\n",
      "출력 : 구속되기 싫은 건지 생각해보세요 .\n",
      "-------------------------------\n",
      "입력 : 지하철역이 어디에 있나요?\n",
      "출력 : 아무런 감정 없이 연락을 지속할 수 없으니까요 .\n",
      "-------------------------------\n",
      "입력 : 얼마죠?\n",
      "출력 : 안 사면 그만큼 모으시는거예요 .\n",
      "-------------------------------\n",
      "입력 : 이 챗봇은 바보입니다\n",
      "출력 : 저는 사람으로 태어나고 싶어요 .\n",
      "-------------------------------\n",
      "입력 : 사랑이 찾아올까요?\n",
      "출력 : 좋은 사람 만날 거예요 .\n",
      "-------------------------------\n",
      "입력 : 어디로 가야하죠?\n",
      "출력 : 안 가본 가까운 곳이 좋겠죠 .\n",
      "-------------------------------\n",
      "입력 : 헤어졌는데 그 사람이 계속 생각나요\n",
      "출력 : 좋은 소식이네요 .\n",
      "-------------------------------\n"
     ]
    }
   ],
   "source": [
    "for question in quest_list:\n",
    "    sentence_generation(question)\n",
    "    print(\"-------------------------------\")"
   ]
  },
  {
   "cell_type": "markdown",
   "id": "5309a3f6",
   "metadata": {},
   "source": [
    "### 다른 학습 2   \n",
    "변경한 파라미터   \n",
    "NUM_LAYERS2 = 6   \n",
    "DROPOUT2 = 0.2"
   ]
  },
  {
   "cell_type": "code",
   "execution_count": 66,
   "id": "1961832e",
   "metadata": {},
   "outputs": [
    {
     "name": "stdout",
     "output_type": "stream",
     "text": [
      "Model: \"transformer\"\n",
      "__________________________________________________________________________________________________\n",
      "Layer (type)                    Output Shape         Param #     Connected to                     \n",
      "==================================================================================================\n",
      "inputs (InputLayer)             [(None, None)]       0                                            \n",
      "__________________________________________________________________________________________________\n",
      "dec_inputs (InputLayer)         [(None, None)]       0                                            \n",
      "__________________________________________________________________________________________________\n",
      "enc_padding_mask (Lambda)       (None, 1, 1, None)   0           inputs[0][0]                     \n",
      "__________________________________________________________________________________________________\n",
      "encoder (Functional)            (None, None, 256)    5247744     inputs[0][0]                     \n",
      "                                                                 enc_padding_mask[0][0]           \n",
      "__________________________________________________________________________________________________\n",
      "look_ahead_mask (Lambda)        (None, 1, None, None 0           dec_inputs[0][0]                 \n",
      "__________________________________________________________________________________________________\n",
      "dec_padding_mask (Lambda)       (None, 1, 1, None)   0           inputs[0][0]                     \n",
      "__________________________________________________________________________________________________\n",
      "decoder (Functional)            (None, None, 256)    6829824     dec_inputs[0][0]                 \n",
      "                                                                 encoder[0][0]                    \n",
      "                                                                 look_ahead_mask[0][0]            \n",
      "                                                                 dec_padding_mask[0][0]           \n",
      "__________________________________________________________________________________________________\n",
      "outputs (Dense)                 (None, None, 8145)   2093265     decoder[0][0]                    \n",
      "==================================================================================================\n",
      "Total params: 14,170,833\n",
      "Trainable params: 14,170,833\n",
      "Non-trainable params: 0\n",
      "__________________________________________________________________________________________________\n"
     ]
    }
   ],
   "source": [
    "tf.keras.backend.clear_session()\n",
    "\n",
    "# 하이퍼파라미터\n",
    "NUM_LAYERS3 = 6 # 인코더와 디코더의 층의 개수\n",
    "D_MODEL3 = 256 # 인코더와 디코더 내부의 입, 출력의 고정 차원\n",
    "NUM_HEADS3 = 8 # 멀티 헤드 어텐션에서의 헤드 수 \n",
    "UNITS3 = 512 # 피드 포워드 신경망의 은닉층의 크기\n",
    "DROPOUT3 = 0.2 # 드롭아웃의 비율\n",
    "\n",
    "model3 = transformer(\n",
    "    vocab_size=VOCAB_SIZE,\n",
    "    num_layers=NUM_LAYERS3,\n",
    "    units=UNITS3,\n",
    "    d_model=D_MODEL3,\n",
    "    num_heads=NUM_HEADS3,\n",
    "    dropout=DROPOUT3)\n",
    "\n",
    "model3.summary()"
   ]
  },
  {
   "cell_type": "code",
   "execution_count": 69,
   "id": "b00fd538",
   "metadata": {},
   "outputs": [],
   "source": [
    "learning_rate = CustomSchedule(D_MODEL)\n",
    "\n",
    "optimizer = tf.keras.optimizers.Adam(\n",
    "    learning_rate, beta_1=0.9, beta_2=0.98, epsilon=1e-9)\n",
    "\n",
    "def accuracy(y_true, y_pred):\n",
    "    y_true = tf.reshape(y_true, shape=(-1, MAX_LENGTH - 1))\n",
    "    return tf.keras.metrics.sparse_categorical_accuracy(y_true, y_pred)\n",
    "\n",
    "model3.compile(optimizer=optimizer, loss=loss_function, metrics=[accuracy])"
   ]
  },
  {
   "cell_type": "code",
   "execution_count": 77,
   "id": "e22108e7",
   "metadata": {},
   "outputs": [
    {
     "name": "stdout",
     "output_type": "stream",
     "text": [
      "Epoch 1/50\n",
      "47/47 [==============================] - 21s 360ms/step - loss: 0.7318 - accuracy: 0.0636\n",
      "Epoch 2/50\n",
      "47/47 [==============================] - 17s 366ms/step - loss: 0.7151 - accuracy: 0.0649\n",
      "Epoch 3/50\n",
      "47/47 [==============================] - 17s 369ms/step - loss: 0.6940 - accuracy: 0.0664\n",
      "Epoch 4/50\n",
      "47/47 [==============================] - 17s 364ms/step - loss: 0.6757 - accuracy: 0.0679\n",
      "Epoch 5/50\n",
      "47/47 [==============================] - 17s 361ms/step - loss: 0.6555 - accuracy: 0.0696\n",
      "Epoch 6/50\n",
      "47/47 [==============================] - 17s 363ms/step - loss: 0.6338 - accuracy: 0.0718\n",
      "Epoch 7/50\n",
      "47/47 [==============================] - 17s 365ms/step - loss: 0.6138 - accuracy: 0.0737\n",
      "Epoch 8/50\n",
      "47/47 [==============================] - 17s 365ms/step - loss: 0.5908 - accuracy: 0.0761\n",
      "Epoch 9/50\n",
      "47/47 [==============================] - 17s 363ms/step - loss: 0.5677 - accuracy: 0.0786\n",
      "Epoch 10/50\n",
      "47/47 [==============================] - 17s 363ms/step - loss: 0.5447 - accuracy: 0.0815\n",
      "Epoch 11/50\n",
      "47/47 [==============================] - 17s 363ms/step - loss: 0.5220 - accuracy: 0.0842\n",
      "Epoch 12/50\n",
      "47/47 [==============================] - 17s 365ms/step - loss: 0.4968 - accuracy: 0.0876\n",
      "Epoch 13/50\n",
      "47/47 [==============================] - 17s 365ms/step - loss: 0.4732 - accuracy: 0.0908\n",
      "Epoch 14/50\n",
      "47/47 [==============================] - 17s 365ms/step - loss: 0.4493 - accuracy: 0.0940\n",
      "Epoch 15/50\n",
      "47/47 [==============================] - 17s 364ms/step - loss: 0.4263 - accuracy: 0.0974\n",
      "Epoch 16/50\n",
      "47/47 [==============================] - 17s 365ms/step - loss: 0.4027 - accuracy: 0.1008\n",
      "Epoch 17/50\n",
      "47/47 [==============================] - 17s 364ms/step - loss: 0.3797 - accuracy: 0.1039\n",
      "Epoch 18/50\n",
      "47/47 [==============================] - 17s 363ms/step - loss: 0.3576 - accuracy: 0.1075\n",
      "Epoch 19/50\n",
      "47/47 [==============================] - 17s 362ms/step - loss: 0.3347 - accuracy: 0.1111\n",
      "Epoch 20/50\n",
      "47/47 [==============================] - 17s 363ms/step - loss: 0.3129 - accuracy: 0.1143\n",
      "Epoch 21/50\n",
      "47/47 [==============================] - 17s 363ms/step - loss: 0.2956 - accuracy: 0.1168\n",
      "Epoch 22/50\n",
      "47/47 [==============================] - 17s 365ms/step - loss: 0.2760 - accuracy: 0.1197\n",
      "Epoch 23/50\n",
      "47/47 [==============================] - 17s 364ms/step - loss: 0.2555 - accuracy: 0.1232\n",
      "Epoch 24/50\n",
      "47/47 [==============================] - 17s 364ms/step - loss: 0.2384 - accuracy: 0.1262\n",
      "Epoch 25/50\n",
      "47/47 [==============================] - 17s 364ms/step - loss: 0.2236 - accuracy: 0.1284\n",
      "Epoch 26/50\n",
      "47/47 [==============================] - 17s 363ms/step - loss: 0.2052 - accuracy: 0.1317\n",
      "Epoch 27/50\n",
      "47/47 [==============================] - 17s 364ms/step - loss: 0.1920 - accuracy: 0.1340\n",
      "Epoch 28/50\n",
      "47/47 [==============================] - 17s 364ms/step - loss: 0.1776 - accuracy: 0.1369\n",
      "Epoch 29/50\n",
      "47/47 [==============================] - 17s 364ms/step - loss: 0.1649 - accuracy: 0.1387\n",
      "Epoch 30/50\n",
      "47/47 [==============================] - 17s 363ms/step - loss: 0.1520 - accuracy: 0.1411\n",
      "Epoch 31/50\n",
      "47/47 [==============================] - 17s 363ms/step - loss: 0.1429 - accuracy: 0.1426\n",
      "Epoch 32/50\n",
      "47/47 [==============================] - 17s 363ms/step - loss: 0.1310 - accuracy: 0.1448\n",
      "Epoch 33/50\n",
      "47/47 [==============================] - 17s 364ms/step - loss: 0.1222 - accuracy: 0.1468\n",
      "Epoch 34/50\n",
      "47/47 [==============================] - 17s 365ms/step - loss: 0.1134 - accuracy: 0.1483\n",
      "Epoch 35/50\n",
      "47/47 [==============================] - 17s 363ms/step - loss: 0.1065 - accuracy: 0.1495\n",
      "Epoch 36/50\n",
      "47/47 [==============================] - 17s 364ms/step - loss: 0.0994 - accuracy: 0.1507\n",
      "Epoch 37/50\n",
      "47/47 [==============================] - 17s 363ms/step - loss: 0.0926 - accuracy: 0.1522\n",
      "Epoch 38/50\n",
      "47/47 [==============================] - 17s 364ms/step - loss: 0.0873 - accuracy: 0.1534\n",
      "Epoch 39/50\n",
      "47/47 [==============================] - 17s 363ms/step - loss: 0.0821 - accuracy: 0.1544\n",
      "Epoch 40/50\n",
      "47/47 [==============================] - 17s 364ms/step - loss: 0.0760 - accuracy: 0.1557\n",
      "Epoch 41/50\n",
      "47/47 [==============================] - 17s 364ms/step - loss: 0.0720 - accuracy: 0.1565\n",
      "Epoch 42/50\n",
      "47/47 [==============================] - 17s 365ms/step - loss: 0.0694 - accuracy: 0.1569\n",
      "Epoch 43/50\n",
      "47/47 [==============================] - 17s 365ms/step - loss: 0.0662 - accuracy: 0.1574\n",
      "Epoch 44/50\n",
      "47/47 [==============================] - 17s 364ms/step - loss: 0.0643 - accuracy: 0.1578\n",
      "Epoch 45/50\n",
      "47/47 [==============================] - 17s 364ms/step - loss: 0.0585 - accuracy: 0.1595\n",
      "Epoch 46/50\n",
      "47/47 [==============================] - 17s 364ms/step - loss: 0.0598 - accuracy: 0.1589\n",
      "Epoch 47/50\n",
      "47/47 [==============================] - 17s 363ms/step - loss: 0.0553 - accuracy: 0.1598\n",
      "Epoch 48/50\n",
      "47/47 [==============================] - 17s 363ms/step - loss: 0.0538 - accuracy: 0.1602\n",
      "Epoch 49/50\n",
      "47/47 [==============================] - 17s 363ms/step - loss: 0.0529 - accuracy: 0.1605\n",
      "Epoch 50/50\n",
      "47/47 [==============================] - 17s 363ms/step - loss: 0.0509 - accuracy: 0.1609\n"
     ]
    },
    {
     "data": {
      "text/plain": [
       "<keras.callbacks.History at 0x7fb3f041eee0>"
      ]
     },
     "execution_count": 77,
     "metadata": {},
     "output_type": "execute_result"
    }
   ],
   "source": [
    "from tensorflow.keras.callbacks import EarlyStopping\n",
    "early_stopping = EarlyStopping()\n",
    "\n",
    "\n",
    "EPOCHS = 50\n",
    "\n",
    "custom_early_stopping = EarlyStopping(\n",
    "    monitor='loss', \n",
    "    patience=5, \n",
    "    min_delta=0.001, \n",
    "    mode='min'\n",
    ")\n",
    "\n",
    "model3.fit(dataset, epochs=EPOCHS, verbose=1, callbacks=[custom_early_stopping])"
   ]
  },
  {
   "cell_type": "code",
   "execution_count": 78,
   "id": "fe87eabb",
   "metadata": {},
   "outputs": [
    {
     "name": "stdout",
     "output_type": "stream",
     "text": [
      "입력 : 배고프다\n",
      "출력 : 저도 밥 먹고 싶어요\n",
      "-------------------------------\n",
      "입력 : 배가 고프다\n",
      "출력 : 득템했길 바라요 .\n",
      "-------------------------------\n",
      "입력 : 배 고프다\n",
      "출력 : 그럴 시기에요 .\n",
      "-------------------------------\n",
      "입력 : 오늘 저녁 추천해주세요.\n",
      "출력 : 미루지말고 바로 가보세요 .\n",
      "-------------------------------\n",
      "입력 : 오늘 저녁 메뉴를 추천해주세요.\n",
      "출력 : 그가 좋아할 거예요 .\n",
      "-------------------------------\n",
      "입력 : 오늘 저녁 메뉴를 추천해주세요.\n",
      "출력 : 그가 좋아할 거예요 .\n",
      "-------------------------------\n",
      "입력 : 공부하기 싫어요\n",
      "출력 : 구속되기 싫은 건지 생각해보세요 .\n",
      "-------------------------------\n",
      "입력 : 지하철역이 어디에 있나요?\n",
      "출력 : 아무런 감정 없이 연락을 지속할 수 없으니까요 .\n",
      "-------------------------------\n",
      "입력 : 얼마죠?\n",
      "출력 : 안 사면 그만큼 모으시는거예요 .\n",
      "-------------------------------\n",
      "입력 : 이 챗봇은 바보입니다\n",
      "출력 : 저는 사람으로 태어나고 싶어요 .\n",
      "-------------------------------\n",
      "입력 : 사랑이 찾아올까요?\n",
      "출력 : 좋은 사람 만날 거예요 .\n",
      "-------------------------------\n",
      "입력 : 어디로 가야하죠?\n",
      "출력 : 안 가본 가까운 곳이 좋겠죠 .\n",
      "-------------------------------\n",
      "입력 : 헤어졌는데 그 사람이 계속 생각나요\n",
      "출력 : 좋은 소식이네요 .\n",
      "-------------------------------\n"
     ]
    }
   ],
   "source": [
    "for question in quest_list:\n",
    "    sentence_generation(question)\n",
    "    print(\"-------------------------------\")"
   ]
  },
  {
   "cell_type": "markdown",
   "id": "656d9572",
   "metadata": {},
   "source": [
    "### 다른 학습 3   \n",
    "변경한 파라미터    \n",
    "NUM_HEADS4 = 16   \n",
    "EPOCHS = 100"
   ]
  },
  {
   "cell_type": "code",
   "execution_count": 73,
   "id": "08b8a75c",
   "metadata": {},
   "outputs": [
    {
     "name": "stdout",
     "output_type": "stream",
     "text": [
      "Model: \"transformer\"\n",
      "__________________________________________________________________________________________________\n",
      "Layer (type)                    Output Shape         Param #     Connected to                     \n",
      "==================================================================================================\n",
      "inputs (InputLayer)             [(None, None)]       0                                            \n",
      "__________________________________________________________________________________________________\n",
      "dec_inputs (InputLayer)         [(None, None)]       0                                            \n",
      "__________________________________________________________________________________________________\n",
      "enc_padding_mask (Lambda)       (None, 1, 1, None)   0           inputs[0][0]                     \n",
      "__________________________________________________________________________________________________\n",
      "encoder (Functional)            (None, None, 256)    6301952     inputs[0][0]                     \n",
      "                                                                 enc_padding_mask[0][0]           \n",
      "__________________________________________________________________________________________________\n",
      "look_ahead_mask (Lambda)        (None, 1, None, None 0           dec_inputs[0][0]                 \n",
      "__________________________________________________________________________________________________\n",
      "dec_padding_mask (Lambda)       (None, 1, 1, None)   0           inputs[0][0]                     \n",
      "__________________________________________________________________________________________________\n",
      "decoder (Functional)            (None, None, 256)    8411392     dec_inputs[0][0]                 \n",
      "                                                                 encoder[0][0]                    \n",
      "                                                                 look_ahead_mask[0][0]            \n",
      "                                                                 dec_padding_mask[0][0]           \n",
      "__________________________________________________________________________________________________\n",
      "outputs (Dense)                 (None, None, 8145)   2093265     decoder[0][0]                    \n",
      "==================================================================================================\n",
      "Total params: 16,806,609\n",
      "Trainable params: 16,806,609\n",
      "Non-trainable params: 0\n",
      "__________________________________________________________________________________________________\n"
     ]
    }
   ],
   "source": [
    "tf.keras.backend.clear_session()\n",
    "\n",
    "# 하이퍼파라미터\n",
    "NUM_LAYERS4 = 8 # 인코더와 디코더의 층의 개수\n",
    "D_MODEL4 = 256 # 인코더와 디코더 내부의 입, 출력의 고정 차원\n",
    "NUM_HEADS4 = 16 # 멀티 헤드 어텐션에서의 헤드 수 \n",
    "UNITS4 = 512 # 피드 포워드 신경망의 은닉층의 크기\n",
    "DROPOUT4 = 0.2 # 드롭아웃의 비율\n",
    "\n",
    "model4 = transformer(\n",
    "    vocab_size=VOCAB_SIZE,\n",
    "    num_layers=NUM_LAYERS4,\n",
    "    units=UNITS4,\n",
    "    d_model=D_MODEL4,\n",
    "    num_heads=NUM_HEADS4,\n",
    "    dropout=DROPOUT4)\n",
    "\n",
    "model4.summary()"
   ]
  },
  {
   "cell_type": "code",
   "execution_count": 74,
   "id": "fbeba2fa",
   "metadata": {},
   "outputs": [],
   "source": [
    "learning_rate4 = CustomSchedule(D_MODEL)\n",
    "\n",
    "optimizer4 = tf.keras.optimizers.Adam(\n",
    "    learning_rate4, beta_1=0.9, beta_2=0.98, epsilon=1e-9)\n",
    "\n",
    "def accuracy(y_true, y_pred):\n",
    "    y_true = tf.reshape(y_true, shape=(-1, MAX_LENGTH - 1))\n",
    "    return tf.keras.metrics.sparse_categorical_accuracy(y_true, y_pred)\n",
    "\n",
    "model4.compile(optimizer=optimizer4, loss=loss_function, metrics=[accuracy])"
   ]
  },
  {
   "cell_type": "code",
   "execution_count": 75,
   "id": "b698e926",
   "metadata": {},
   "outputs": [
    {
     "name": "stdout",
     "output_type": "stream",
     "text": [
      "Epoch 1/100\n",
      "47/47 [==============================] - 44s 500ms/step - loss: 1.5488 - accuracy: 0.0100\n",
      "Epoch 2/100\n",
      "47/47 [==============================] - 24s 512ms/step - loss: 1.4640 - accuracy: 0.0257\n",
      "Epoch 3/100\n",
      "47/47 [==============================] - 24s 516ms/step - loss: 1.4100 - accuracy: 0.0256\n",
      "Epoch 4/100\n",
      "47/47 [==============================] - 24s 511ms/step - loss: 1.3520 - accuracy: 0.0257\n",
      "Epoch 5/100\n",
      "47/47 [==============================] - 24s 510ms/step - loss: 1.2840 - accuracy: 0.0256\n",
      "Epoch 6/100\n",
      "47/47 [==============================] - 24s 513ms/step - loss: 1.2127 - accuracy: 0.0256\n",
      "Epoch 7/100\n",
      "47/47 [==============================] - 24s 512ms/step - loss: 1.1501 - accuracy: 0.0288\n",
      "Epoch 8/100\n",
      "47/47 [==============================] - 24s 513ms/step - loss: 1.0883 - accuracy: 0.0494\n",
      "Epoch 9/100\n",
      "47/47 [==============================] - 24s 512ms/step - loss: 1.0580 - accuracy: 0.0497\n",
      "Epoch 10/100\n",
      "47/47 [==============================] - 24s 512ms/step - loss: 1.0326 - accuracy: 0.0498\n",
      "Epoch 11/100\n",
      "47/47 [==============================] - 24s 513ms/step - loss: 1.0093 - accuracy: 0.0500\n",
      "Epoch 12/100\n",
      "47/47 [==============================] - 24s 512ms/step - loss: 0.9845 - accuracy: 0.0504\n",
      "Epoch 13/100\n",
      "47/47 [==============================] - 24s 513ms/step - loss: 0.9591 - accuracy: 0.0511\n",
      "Epoch 14/100\n",
      "47/47 [==============================] - 24s 513ms/step - loss: 0.9380 - accuracy: 0.0519\n",
      "Epoch 15/100\n",
      "47/47 [==============================] - 24s 513ms/step - loss: 0.9231 - accuracy: 0.0527\n",
      "Epoch 16/100\n",
      "47/47 [==============================] - 24s 512ms/step - loss: 0.9114 - accuracy: 0.0532\n",
      "Epoch 17/100\n",
      "47/47 [==============================] - 24s 513ms/step - loss: 0.9009 - accuracy: 0.0536\n",
      "Epoch 18/100\n",
      "47/47 [==============================] - 24s 512ms/step - loss: 0.8923 - accuracy: 0.0540\n",
      "Epoch 19/100\n",
      "47/47 [==============================] - 24s 512ms/step - loss: 0.8801 - accuracy: 0.0544\n",
      "Epoch 20/100\n",
      "47/47 [==============================] - 24s 513ms/step - loss: 0.8681 - accuracy: 0.0551\n",
      "Epoch 21/100\n",
      "47/47 [==============================] - 24s 513ms/step - loss: 0.8568 - accuracy: 0.0555\n",
      "Epoch 22/100\n",
      "47/47 [==============================] - 24s 512ms/step - loss: 0.8447 - accuracy: 0.0561\n",
      "Epoch 23/100\n",
      "47/47 [==============================] - 24s 512ms/step - loss: 0.8323 - accuracy: 0.0568\n",
      "Epoch 24/100\n",
      "47/47 [==============================] - 24s 513ms/step - loss: 0.8187 - accuracy: 0.0574\n",
      "Epoch 25/100\n",
      "47/47 [==============================] - 24s 513ms/step - loss: 0.8058 - accuracy: 0.0580\n",
      "Epoch 26/100\n",
      "47/47 [==============================] - 24s 512ms/step - loss: 0.7933 - accuracy: 0.0585\n",
      "Epoch 27/100\n",
      "47/47 [==============================] - 24s 512ms/step - loss: 0.7801 - accuracy: 0.0590\n",
      "Epoch 28/100\n",
      "47/47 [==============================] - 24s 513ms/step - loss: 0.7682 - accuracy: 0.0596\n",
      "Epoch 29/100\n",
      "47/47 [==============================] - 24s 513ms/step - loss: 0.7543 - accuracy: 0.0604\n",
      "Epoch 30/100\n",
      "47/47 [==============================] - 24s 513ms/step - loss: 0.7412 - accuracy: 0.0608\n",
      "Epoch 31/100\n",
      "47/47 [==============================] - 24s 512ms/step - loss: 0.7263 - accuracy: 0.0617\n",
      "Epoch 32/100\n",
      "47/47 [==============================] - 24s 513ms/step - loss: 0.7117 - accuracy: 0.0627\n",
      "Epoch 33/100\n",
      "47/47 [==============================] - 24s 512ms/step - loss: 0.6978 - accuracy: 0.0636\n",
      "Epoch 34/100\n",
      "47/47 [==============================] - 24s 512ms/step - loss: 0.6822 - accuracy: 0.0645\n",
      "Epoch 35/100\n",
      "47/47 [==============================] - 24s 512ms/step - loss: 0.6679 - accuracy: 0.0656\n",
      "Epoch 36/100\n",
      "47/47 [==============================] - 24s 513ms/step - loss: 0.6528 - accuracy: 0.0667\n",
      "Epoch 37/100\n",
      "47/47 [==============================] - 24s 514ms/step - loss: 0.6365 - accuracy: 0.0682\n",
      "Epoch 38/100\n",
      "47/47 [==============================] - 24s 513ms/step - loss: 0.6197 - accuracy: 0.0693\n",
      "Epoch 39/100\n",
      "47/47 [==============================] - 24s 512ms/step - loss: 0.6030 - accuracy: 0.0708\n",
      "Epoch 40/100\n",
      "47/47 [==============================] - 24s 513ms/step - loss: 0.5873 - accuracy: 0.0721\n",
      "Epoch 41/100\n",
      "47/47 [==============================] - 24s 513ms/step - loss: 0.5708 - accuracy: 0.0738\n",
      "Epoch 42/100\n",
      "47/47 [==============================] - 24s 513ms/step - loss: 0.5536 - accuracy: 0.0756\n",
      "Epoch 43/100\n",
      "47/47 [==============================] - 24s 513ms/step - loss: 0.5379 - accuracy: 0.0777\n",
      "Epoch 44/100\n",
      "47/47 [==============================] - 24s 513ms/step - loss: 0.5197 - accuracy: 0.0797\n",
      "Epoch 45/100\n",
      "47/47 [==============================] - 24s 513ms/step - loss: 0.5049 - accuracy: 0.0814\n",
      "Epoch 46/100\n",
      "47/47 [==============================] - 24s 512ms/step - loss: 0.4878 - accuracy: 0.0836\n",
      "Epoch 47/100\n",
      "47/47 [==============================] - 24s 513ms/step - loss: 0.4721 - accuracy: 0.0859\n",
      "Epoch 48/100\n",
      "47/47 [==============================] - 24s 513ms/step - loss: 0.4550 - accuracy: 0.0884\n",
      "Epoch 49/100\n",
      "47/47 [==============================] - 24s 513ms/step - loss: 0.4394 - accuracy: 0.0907\n",
      "Epoch 50/100\n",
      "47/47 [==============================] - 24s 514ms/step - loss: 0.4240 - accuracy: 0.0928\n",
      "Epoch 51/100\n",
      "47/47 [==============================] - 24s 513ms/step - loss: 0.4060 - accuracy: 0.0958\n",
      "Epoch 52/100\n",
      "47/47 [==============================] - 24s 512ms/step - loss: 0.3901 - accuracy: 0.0982\n",
      "Epoch 53/100\n",
      "47/47 [==============================] - 24s 513ms/step - loss: 0.3749 - accuracy: 0.1005\n",
      "Epoch 54/100\n",
      "47/47 [==============================] - 24s 513ms/step - loss: 0.3605 - accuracy: 0.1028\n",
      "Epoch 55/100\n",
      "47/47 [==============================] - 24s 513ms/step - loss: 0.3450 - accuracy: 0.1055\n",
      "Epoch 56/100\n",
      "47/47 [==============================] - 24s 512ms/step - loss: 0.3308 - accuracy: 0.1079\n",
      "Epoch 57/100\n",
      "47/47 [==============================] - 24s 512ms/step - loss: 0.3140 - accuracy: 0.1106\n",
      "Epoch 58/100\n",
      "47/47 [==============================] - 24s 513ms/step - loss: 0.3002 - accuracy: 0.1128\n",
      "Epoch 59/100\n",
      "47/47 [==============================] - 24s 513ms/step - loss: 0.2897 - accuracy: 0.1145\n",
      "Epoch 60/100\n",
      "47/47 [==============================] - 24s 512ms/step - loss: 0.2773 - accuracy: 0.1165\n",
      "Epoch 61/100\n",
      "47/47 [==============================] - 24s 512ms/step - loss: 0.2651 - accuracy: 0.1185\n",
      "Epoch 62/100\n",
      "47/47 [==============================] - 24s 513ms/step - loss: 0.2551 - accuracy: 0.1204\n",
      "Epoch 63/100\n",
      "47/47 [==============================] - 24s 512ms/step - loss: 0.2443 - accuracy: 0.1222\n",
      "Epoch 64/100\n",
      "47/47 [==============================] - 24s 513ms/step - loss: 0.2372 - accuracy: 0.1230\n",
      "Epoch 65/100\n",
      "47/47 [==============================] - 24s 513ms/step - loss: 0.2262 - accuracy: 0.1251\n",
      "Epoch 66/100\n",
      "47/47 [==============================] - 24s 512ms/step - loss: 0.2191 - accuracy: 0.1262\n",
      "Epoch 67/100\n",
      "47/47 [==============================] - 24s 514ms/step - loss: 0.2113 - accuracy: 0.1273\n",
      "Epoch 68/100\n",
      "47/47 [==============================] - 24s 513ms/step - loss: 0.2039 - accuracy: 0.1289\n",
      "Epoch 69/100\n",
      "47/47 [==============================] - 24s 513ms/step - loss: 0.1973 - accuracy: 0.1299\n",
      "Epoch 70/100\n",
      "47/47 [==============================] - 24s 513ms/step - loss: 0.1912 - accuracy: 0.1310\n",
      "Epoch 71/100\n",
      "47/47 [==============================] - 24s 513ms/step - loss: 0.1876 - accuracy: 0.1313\n",
      "Epoch 72/100\n",
      "47/47 [==============================] - 24s 513ms/step - loss: 0.1827 - accuracy: 0.1322\n",
      "Epoch 73/100\n",
      "47/47 [==============================] - 24s 511ms/step - loss: 0.1781 - accuracy: 0.1326\n",
      "Epoch 74/100\n",
      "47/47 [==============================] - 24s 519ms/step - loss: 0.1729 - accuracy: 0.1334\n",
      "Epoch 75/100\n",
      "47/47 [==============================] - 24s 511ms/step - loss: 0.1694 - accuracy: 0.1343\n",
      "Epoch 76/100\n",
      "47/47 [==============================] - 24s 510ms/step - loss: 0.1651 - accuracy: 0.1347\n",
      "Epoch 77/100\n",
      "47/47 [==============================] - 24s 514ms/step - loss: 0.1619 - accuracy: 0.1356\n",
      "Epoch 78/100\n",
      "47/47 [==============================] - 24s 513ms/step - loss: 0.1587 - accuracy: 0.1360\n",
      "Epoch 79/100\n",
      "47/47 [==============================] - 24s 511ms/step - loss: 0.1548 - accuracy: 0.1365\n",
      "Epoch 80/100\n",
      "47/47 [==============================] - 24s 512ms/step - loss: 0.1535 - accuracy: 0.1369\n",
      "Epoch 81/100\n",
      "47/47 [==============================] - 24s 513ms/step - loss: 0.1523 - accuracy: 0.1372\n",
      "Epoch 82/100\n",
      "47/47 [==============================] - 24s 512ms/step - loss: 0.1485 - accuracy: 0.1377\n",
      "Epoch 83/100\n",
      "47/47 [==============================] - 24s 512ms/step - loss: 0.1483 - accuracy: 0.1377\n",
      "Epoch 84/100\n",
      "47/47 [==============================] - 24s 512ms/step - loss: 0.1469 - accuracy: 0.1379\n",
      "Epoch 85/100\n",
      "47/47 [==============================] - 24s 512ms/step - loss: 0.1441 - accuracy: 0.1385\n",
      "Epoch 86/100\n",
      "47/47 [==============================] - 24s 513ms/step - loss: 0.1431 - accuracy: 0.1384\n",
      "Epoch 87/100\n",
      "47/47 [==============================] - 24s 513ms/step - loss: 0.1378 - accuracy: 0.1395\n",
      "Epoch 88/100\n",
      "47/47 [==============================] - 24s 512ms/step - loss: 0.1352 - accuracy: 0.1401\n",
      "Epoch 89/100\n",
      "47/47 [==============================] - 24s 512ms/step - loss: 0.1333 - accuracy: 0.1404\n",
      "Epoch 90/100\n",
      "47/47 [==============================] - 24s 511ms/step - loss: 0.1292 - accuracy: 0.1412\n",
      "Epoch 91/100\n",
      "47/47 [==============================] - 24s 512ms/step - loss: 0.1284 - accuracy: 0.1415\n",
      "Epoch 92/100\n",
      "47/47 [==============================] - 24s 511ms/step - loss: 0.1267 - accuracy: 0.1417\n",
      "Epoch 93/100\n",
      "47/47 [==============================] - 24s 511ms/step - loss: 0.1230 - accuracy: 0.1424\n",
      "Epoch 94/100\n",
      "47/47 [==============================] - 24s 511ms/step - loss: 0.1219 - accuracy: 0.1427\n",
      "Epoch 95/100\n",
      "47/47 [==============================] - 24s 511ms/step - loss: 0.1196 - accuracy: 0.1432\n",
      "Epoch 96/100\n",
      "47/47 [==============================] - 24s 511ms/step - loss: 0.1164 - accuracy: 0.1436\n",
      "Epoch 97/100\n",
      "47/47 [==============================] - 24s 511ms/step - loss: 0.1141 - accuracy: 0.1442\n",
      "Epoch 98/100\n",
      "47/47 [==============================] - 24s 511ms/step - loss: 0.1130 - accuracy: 0.1445\n",
      "Epoch 99/100\n",
      "47/47 [==============================] - 24s 511ms/step - loss: 0.1096 - accuracy: 0.1451\n",
      "Epoch 100/100\n",
      "47/47 [==============================] - 24s 512ms/step - loss: 0.1074 - accuracy: 0.1456\n"
     ]
    },
    {
     "data": {
      "text/plain": [
       "<keras.callbacks.History at 0x7fb4e0103a90>"
      ]
     },
     "execution_count": 75,
     "metadata": {},
     "output_type": "execute_result"
    }
   ],
   "source": [
    "EPOCHS = 100\n",
    "model4.fit(dataset, epochs=EPOCHS, verbose=1)"
   ]
  },
  {
   "cell_type": "code",
   "execution_count": 76,
   "id": "9fd63900",
   "metadata": {},
   "outputs": [
    {
     "name": "stdout",
     "output_type": "stream",
     "text": [
      "입력 : 배고프다\n",
      "출력 : 저도 밥 먹고 싶어요\n",
      "-------------------------------\n",
      "입력 : 배가 고프다\n",
      "출력 : 득템했길 바라요 .\n",
      "-------------------------------\n",
      "입력 : 배 고프다\n",
      "출력 : 그럴 시기에요 .\n",
      "-------------------------------\n",
      "입력 : 오늘 저녁 추천해주세요.\n",
      "출력 : 미루지말고 바로 가보세요 .\n",
      "-------------------------------\n",
      "입력 : 오늘 저녁 메뉴를 추천해주세요.\n",
      "출력 : 그가 좋아할 거예요 .\n",
      "-------------------------------\n",
      "입력 : 오늘 저녁 메뉴를 추천해주세요.\n",
      "출력 : 그가 좋아할 거예요 .\n",
      "-------------------------------\n",
      "입력 : 공부하기 싫어요\n",
      "출력 : 구속되기 싫은 건지 생각해보세요 .\n",
      "-------------------------------\n",
      "입력 : 지하철역이 어디에 있나요?\n",
      "출력 : 아무런 감정 없이 연락을 지속할 수 없으니까요 .\n",
      "-------------------------------\n",
      "입력 : 얼마죠?\n",
      "출력 : 안 사면 그만큼 모으시는거예요 .\n",
      "-------------------------------\n",
      "입력 : 이 챗봇은 바보입니다\n",
      "출력 : 저는 사람으로 태어나고 싶어요 .\n",
      "-------------------------------\n",
      "입력 : 사랑이 찾아올까요?\n",
      "출력 : 좋은 사람 만날 거예요 .\n",
      "-------------------------------\n",
      "입력 : 어디로 가야하죠?\n",
      "출력 : 안 가본 가까운 곳이 좋겠죠 .\n",
      "-------------------------------\n",
      "입력 : 헤어졌는데 그 사람이 계속 생각나요\n",
      "출력 : 좋은 소식이네요 .\n",
      "-------------------------------\n"
     ]
    }
   ],
   "source": [
    "for question in quest_list:\n",
    "    sentence_generation(question)\n",
    "    print(\"-------------------------------\")"
   ]
  },
  {
   "cell_type": "markdown",
   "id": "754bb576",
   "metadata": {},
   "source": [
    "### 다른 학습 3   \n",
    "변경한 하이퍼 파라미터   \n",
    "warmup_steps=2000   "
   ]
  },
  {
   "cell_type": "code",
   "execution_count": 91,
   "id": "a51b8d41",
   "metadata": {},
   "outputs": [],
   "source": [
    "class CustomSchedule2(tf.keras.optimizers.schedules.LearningRateSchedule):\n",
    "\n",
    "    def __init__(self, d_model, warmup_steps=2000):\n",
    "        super(CustomSchedule2, self).__init__()\n",
    "\n",
    "        self.d_model = d_model\n",
    "        self.d_model = tf.cast(self.d_model, tf.float32)\n",
    "\n",
    "        self.warmup_steps = warmup_steps\n",
    "\n",
    "    def __call__(self, step):\n",
    "        arg1 = tf.math.rsqrt(step)\n",
    "        arg2 = step * (self.warmup_steps**-1.5)\n",
    "\n",
    "        return tf.math.rsqrt(self.d_model) * tf.math.minimum(arg1, arg2)"
   ]
  },
  {
   "cell_type": "code",
   "execution_count": 97,
   "id": "ebbc846d",
   "metadata": {},
   "outputs": [
    {
     "name": "stdout",
     "output_type": "stream",
     "text": [
      "Model: \"transformer\"\n",
      "__________________________________________________________________________________________________\n",
      "Layer (type)                    Output Shape         Param #     Connected to                     \n",
      "==================================================================================================\n",
      "inputs (InputLayer)             [(None, None)]       0                                            \n",
      "__________________________________________________________________________________________________\n",
      "dec_inputs (InputLayer)         [(None, None)]       0                                            \n",
      "__________________________________________________________________________________________________\n",
      "enc_padding_mask (Lambda)       (None, 1, 1, None)   0           inputs[0][0]                     \n",
      "__________________________________________________________________________________________________\n",
      "encoder (Functional)            (None, None, 256)    6301952     inputs[0][0]                     \n",
      "                                                                 enc_padding_mask[0][0]           \n",
      "__________________________________________________________________________________________________\n",
      "look_ahead_mask (Lambda)        (None, 1, None, None 0           dec_inputs[0][0]                 \n",
      "__________________________________________________________________________________________________\n",
      "dec_padding_mask (Lambda)       (None, 1, 1, None)   0           inputs[0][0]                     \n",
      "__________________________________________________________________________________________________\n",
      "decoder (Functional)            (None, None, 256)    8411392     dec_inputs[0][0]                 \n",
      "                                                                 encoder[0][0]                    \n",
      "                                                                 look_ahead_mask[0][0]            \n",
      "                                                                 dec_padding_mask[0][0]           \n",
      "__________________________________________________________________________________________________\n",
      "outputs (Dense)                 (None, None, 8145)   2093265     decoder[0][0]                    \n",
      "==================================================================================================\n",
      "Total params: 16,806,609\n",
      "Trainable params: 16,806,609\n",
      "Non-trainable params: 0\n",
      "__________________________________________________________________________________________________\n"
     ]
    }
   ],
   "source": [
    "tf.keras.backend.clear_session()\n",
    "\n",
    "# 하이퍼파라미터\n",
    "NUM_LAYERS5 = 8 # 인코더와 디코더의 층의 개수\n",
    "D_MODEL5 = 256 # 인코더와 디코더 내부의 입, 출력의 고정 차원\n",
    "NUM_HEADS5 = 16 # 멀티 헤드 어텐션에서의 헤드 수 \n",
    "UNITS5 = 512 # 피드 포워드 신경망의 은닉층의 크기\n",
    "DROPOUT5 = 0.2 # 드롭아웃의 비율\n",
    "\n",
    "model5 = transformer(\n",
    "    vocab_size=VOCAB_SIZE,\n",
    "    num_layers=NUM_LAYERS5,\n",
    "    units=UNITS5,\n",
    "    d_model=D_MODEL5,\n",
    "    num_heads=NUM_HEADS5,\n",
    "    dropout=DROPOUT5)\n",
    "\n",
    "model5.summary()"
   ]
  },
  {
   "cell_type": "code",
   "execution_count": 98,
   "id": "a9503151",
   "metadata": {},
   "outputs": [],
   "source": [
    "learning_rate5 = CustomSchedule2(D_MODEL)\n",
    "\n",
    "optimizer5 = tf.keras.optimizers.Adam(\n",
    "    learning_rate5, beta_1=0.9, beta_2=0.98, epsilon=1e-9)\n",
    "\n",
    "def accuracy(y_true, y_pred):\n",
    "    y_true = tf.reshape(y_true, shape=(-1, MAX_LENGTH - 1))\n",
    "    return tf.keras.metrics.sparse_categorical_accuracy(y_true, y_pred)\n",
    "\n",
    "model5.compile(optimizer=optimizer5, loss=loss_function, metrics=[accuracy])"
   ]
  },
  {
   "cell_type": "code",
   "execution_count": 99,
   "id": "ae811fe7",
   "metadata": {},
   "outputs": [
    {
     "name": "stdout",
     "output_type": "stream",
     "text": [
      "Epoch 1/100\n",
      "47/47 [==============================] - 45s 508ms/step - loss: 1.5233 - accuracy: 0.0145\n",
      "Epoch 2/100\n",
      "47/47 [==============================] - 24s 519ms/step - loss: 1.4050 - accuracy: 0.0253\n",
      "Epoch 3/100\n",
      "47/47 [==============================] - 24s 513ms/step - loss: 1.3005 - accuracy: 0.0251\n",
      "Epoch 4/100\n",
      "47/47 [==============================] - 24s 510ms/step - loss: 1.1859 - accuracy: 0.0250\n",
      "Epoch 5/100\n",
      "47/47 [==============================] - 24s 513ms/step - loss: 1.1170 - accuracy: 0.0252\n",
      "Epoch 6/100\n",
      "47/47 [==============================] - 24s 514ms/step - loss: 1.0850 - accuracy: 0.0418\n",
      "Epoch 7/100\n",
      "47/47 [==============================] - 24s 513ms/step - loss: 1.0298 - accuracy: 0.0494\n",
      "Epoch 8/100\n",
      "47/47 [==============================] - 24s 512ms/step - loss: 0.9931 - accuracy: 0.0504\n",
      "Epoch 9/100\n",
      "47/47 [==============================] - 24s 512ms/step - loss: 0.9558 - accuracy: 0.0514\n",
      "Epoch 10/100\n",
      "47/47 [==============================] - 24s 513ms/step - loss: 0.9305 - accuracy: 0.0523\n",
      "Epoch 11/100\n",
      "47/47 [==============================] - 24s 514ms/step - loss: 0.9127 - accuracy: 0.0533\n",
      "Epoch 12/100\n",
      "47/47 [==============================] - 24s 514ms/step - loss: 0.8998 - accuracy: 0.0539\n",
      "Epoch 13/100\n",
      "47/47 [==============================] - 24s 514ms/step - loss: 0.8891 - accuracy: 0.0540\n",
      "Epoch 14/100\n",
      "47/47 [==============================] - 24s 513ms/step - loss: 0.8730 - accuracy: 0.0547\n",
      "Epoch 15/100\n",
      "47/47 [==============================] - 24s 514ms/step - loss: 0.8564 - accuracy: 0.0554\n",
      "Epoch 16/100\n",
      "47/47 [==============================] - 24s 514ms/step - loss: 0.8395 - accuracy: 0.0559\n",
      "Epoch 17/100\n",
      "47/47 [==============================] - 24s 513ms/step - loss: 0.8291 - accuracy: 0.0560\n",
      "Epoch 18/100\n",
      "47/47 [==============================] - 24s 513ms/step - loss: 0.8136 - accuracy: 0.0566\n",
      "Epoch 19/100\n",
      "47/47 [==============================] - 24s 513ms/step - loss: 0.7994 - accuracy: 0.0570\n",
      "Epoch 20/100\n",
      "47/47 [==============================] - 24s 513ms/step - loss: 0.7861 - accuracy: 0.0576\n",
      "Epoch 21/100\n",
      "47/47 [==============================] - 24s 513ms/step - loss: 0.7727 - accuracy: 0.0583\n",
      "Epoch 22/100\n",
      "47/47 [==============================] - 24s 513ms/step - loss: 0.7577 - accuracy: 0.0588\n",
      "Epoch 23/100\n",
      "47/47 [==============================] - 24s 513ms/step - loss: 0.7411 - accuracy: 0.0597\n",
      "Epoch 24/100\n",
      "47/47 [==============================] - 24s 514ms/step - loss: 0.7234 - accuracy: 0.0608\n",
      "Epoch 25/100\n",
      "47/47 [==============================] - 24s 513ms/step - loss: 0.7068 - accuracy: 0.0615\n",
      "Epoch 26/100\n",
      "47/47 [==============================] - 24s 513ms/step - loss: 0.6900 - accuracy: 0.0625\n",
      "Epoch 27/100\n",
      "47/47 [==============================] - 24s 512ms/step - loss: 0.6716 - accuracy: 0.0638\n",
      "Epoch 28/100\n",
      "47/47 [==============================] - 24s 513ms/step - loss: 0.6555 - accuracy: 0.0648\n",
      "Epoch 29/100\n",
      "47/47 [==============================] - 24s 513ms/step - loss: 0.6369 - accuracy: 0.0661\n",
      "Epoch 30/100\n",
      "47/47 [==============================] - 24s 513ms/step - loss: 0.6189 - accuracy: 0.0678\n",
      "Epoch 31/100\n",
      "47/47 [==============================] - 24s 513ms/step - loss: 0.5988 - accuracy: 0.0700\n",
      "Epoch 32/100\n",
      "47/47 [==============================] - 24s 513ms/step - loss: 0.5806 - accuracy: 0.0716\n",
      "Epoch 33/100\n",
      "47/47 [==============================] - 24s 513ms/step - loss: 0.5609 - accuracy: 0.0737\n",
      "Epoch 34/100\n",
      "47/47 [==============================] - 24s 512ms/step - loss: 0.5450 - accuracy: 0.0758\n",
      "Epoch 35/100\n",
      "47/47 [==============================] - 24s 513ms/step - loss: 0.5261 - accuracy: 0.0783\n",
      "Epoch 36/100\n",
      "47/47 [==============================] - 24s 513ms/step - loss: 0.5080 - accuracy: 0.0805\n",
      "Epoch 37/100\n",
      "47/47 [==============================] - 24s 513ms/step - loss: 0.4867 - accuracy: 0.0836\n",
      "Epoch 38/100\n",
      "47/47 [==============================] - 24s 513ms/step - loss: 0.4722 - accuracy: 0.0857\n",
      "Epoch 39/100\n",
      "47/47 [==============================] - 24s 513ms/step - loss: 0.4525 - accuracy: 0.0885\n",
      "Epoch 40/100\n",
      "47/47 [==============================] - 24s 513ms/step - loss: 0.4345 - accuracy: 0.0913\n",
      "Epoch 41/100\n",
      "47/47 [==============================] - 24s 513ms/step - loss: 0.4201 - accuracy: 0.0936\n",
      "Epoch 42/100\n",
      "47/47 [==============================] - 24s 513ms/step - loss: 0.4086 - accuracy: 0.0956\n",
      "Epoch 43/100\n",
      "47/47 [==============================] - 24s 512ms/step - loss: 0.3929 - accuracy: 0.0982\n",
      "Epoch 44/100\n",
      "47/47 [==============================] - 24s 512ms/step - loss: 0.3774 - accuracy: 0.1008\n",
      "Epoch 45/100\n",
      "47/47 [==============================] - 24s 512ms/step - loss: 0.3633 - accuracy: 0.1032\n",
      "Epoch 46/100\n",
      "47/47 [==============================] - 24s 512ms/step - loss: 0.3492 - accuracy: 0.1058\n",
      "Epoch 47/100\n",
      "47/47 [==============================] - 24s 512ms/step - loss: 0.3380 - accuracy: 0.1084\n",
      "Epoch 48/100\n",
      "47/47 [==============================] - 24s 512ms/step - loss: 0.3267 - accuracy: 0.1104\n",
      "Epoch 49/100\n",
      "47/47 [==============================] - 24s 512ms/step - loss: 0.3135 - accuracy: 0.1131\n",
      "Epoch 50/100\n",
      "47/47 [==============================] - 24s 512ms/step - loss: 0.3032 - accuracy: 0.1149\n",
      "Epoch 51/100\n",
      "47/47 [==============================] - 24s 512ms/step - loss: 0.2969 - accuracy: 0.1160\n",
      "Epoch 52/100\n",
      "47/47 [==============================] - 24s 512ms/step - loss: 0.2883 - accuracy: 0.1178\n",
      "Epoch 53/100\n",
      "47/47 [==============================] - 24s 512ms/step - loss: 0.2828 - accuracy: 0.1189\n",
      "Epoch 54/100\n",
      "47/47 [==============================] - 24s 512ms/step - loss: 0.2758 - accuracy: 0.1205\n",
      "Epoch 55/100\n",
      "47/47 [==============================] - 24s 512ms/step - loss: 0.2715 - accuracy: 0.1210\n",
      "Epoch 56/100\n",
      "47/47 [==============================] - 24s 512ms/step - loss: 0.2641 - accuracy: 0.1228\n",
      "Epoch 57/100\n",
      "47/47 [==============================] - 24s 511ms/step - loss: 0.2624 - accuracy: 0.1229\n",
      "Epoch 58/100\n",
      "47/47 [==============================] - 24s 512ms/step - loss: 0.2560 - accuracy: 0.1241\n",
      "Epoch 59/100\n",
      "47/47 [==============================] - 24s 511ms/step - loss: 0.2520 - accuracy: 0.1250\n",
      "Epoch 60/100\n",
      "47/47 [==============================] - 24s 512ms/step - loss: 0.2502 - accuracy: 0.1251\n",
      "Epoch 61/100\n",
      "47/47 [==============================] - 24s 512ms/step - loss: 0.2432 - accuracy: 0.1265\n",
      "Epoch 62/100\n",
      "47/47 [==============================] - 24s 512ms/step - loss: 0.2402 - accuracy: 0.1272\n",
      "Epoch 63/100\n",
      "47/47 [==============================] - 24s 513ms/step - loss: 0.2362 - accuracy: 0.1279\n",
      "Epoch 64/100\n",
      "47/47 [==============================] - 24s 512ms/step - loss: 0.2341 - accuracy: 0.1286\n",
      "Epoch 65/100\n",
      "47/47 [==============================] - 24s 512ms/step - loss: 0.2322 - accuracy: 0.1286\n",
      "Epoch 66/100\n",
      "47/47 [==============================] - 24s 512ms/step - loss: 0.2280 - accuracy: 0.1294\n",
      "Epoch 67/100\n",
      "47/47 [==============================] - 24s 512ms/step - loss: 0.2256 - accuracy: 0.1301\n",
      "Epoch 68/100\n",
      "47/47 [==============================] - 24s 512ms/step - loss: 0.2228 - accuracy: 0.1303\n",
      "Epoch 69/100\n",
      "47/47 [==============================] - 24s 512ms/step - loss: 0.2201 - accuracy: 0.1307\n",
      "Epoch 70/100\n",
      "47/47 [==============================] - 24s 512ms/step - loss: 0.2199 - accuracy: 0.1309\n",
      "Epoch 71/100\n",
      "47/47 [==============================] - 24s 509ms/step - loss: 0.2183 - accuracy: 0.1307\n",
      "Epoch 72/100\n",
      "47/47 [==============================] - 24s 518ms/step - loss: 0.2131 - accuracy: 0.1318\n",
      "Epoch 73/100\n",
      "47/47 [==============================] - 24s 511ms/step - loss: 0.2115 - accuracy: 0.1322\n",
      "Epoch 74/100\n",
      "47/47 [==============================] - 24s 510ms/step - loss: 0.2083 - accuracy: 0.1326\n",
      "Epoch 75/100\n",
      "47/47 [==============================] - 24s 512ms/step - loss: 0.2080 - accuracy: 0.1327\n",
      "Epoch 76/100\n",
      "47/47 [==============================] - 24s 512ms/step - loss: 0.2064 - accuracy: 0.1331\n",
      "Epoch 77/100\n",
      "47/47 [==============================] - 24s 511ms/step - loss: 0.2033 - accuracy: 0.1332\n",
      "Epoch 78/100\n",
      "47/47 [==============================] - 24s 510ms/step - loss: 0.2017 - accuracy: 0.1335\n",
      "Epoch 79/100\n",
      "47/47 [==============================] - 24s 511ms/step - loss: 0.2001 - accuracy: 0.1337\n",
      "Epoch 80/100\n"
     ]
    },
    {
     "name": "stdout",
     "output_type": "stream",
     "text": [
      "47/47 [==============================] - 24s 510ms/step - loss: 0.1979 - accuracy: 0.1342\n",
      "Epoch 81/100\n",
      "47/47 [==============================] - 24s 511ms/step - loss: 0.1976 - accuracy: 0.1343\n",
      "Epoch 82/100\n",
      "47/47 [==============================] - 24s 511ms/step - loss: 0.1971 - accuracy: 0.1341\n",
      "Epoch 83/100\n",
      "47/47 [==============================] - 24s 511ms/step - loss: 0.1935 - accuracy: 0.1349\n",
      "Epoch 84/100\n",
      "47/47 [==============================] - 24s 512ms/step - loss: 0.1917 - accuracy: 0.1351\n",
      "Epoch 85/100\n",
      "47/47 [==============================] - 24s 512ms/step - loss: 0.1902 - accuracy: 0.1351\n",
      "Epoch 86/100\n",
      "47/47 [==============================] - 24s 512ms/step - loss: 0.1906 - accuracy: 0.1352\n",
      "Epoch 87/100\n",
      "47/47 [==============================] - 24s 512ms/step - loss: 0.1888 - accuracy: 0.1356\n",
      "Epoch 88/100\n",
      "47/47 [==============================] - 24s 512ms/step - loss: 0.1867 - accuracy: 0.1360\n",
      "Epoch 89/100\n",
      "47/47 [==============================] - 24s 511ms/step - loss: 0.1851 - accuracy: 0.1361\n",
      "Epoch 90/100\n",
      "47/47 [==============================] - 24s 511ms/step - loss: 0.1853 - accuracy: 0.1359\n",
      "Epoch 91/100\n",
      "47/47 [==============================] - 24s 511ms/step - loss: 0.1843 - accuracy: 0.1361\n",
      "Epoch 92/100\n",
      "47/47 [==============================] - 24s 511ms/step - loss: 0.1837 - accuracy: 0.1359\n",
      "Epoch 93/100\n",
      "47/47 [==============================] - 24s 510ms/step - loss: 0.1817 - accuracy: 0.1365\n",
      "Epoch 94/100\n",
      "47/47 [==============================] - 24s 510ms/step - loss: 0.1802 - accuracy: 0.1365\n",
      "Epoch 95/100\n",
      "47/47 [==============================] - 24s 511ms/step - loss: 0.1788 - accuracy: 0.1367\n",
      "Epoch 96/100\n",
      "47/47 [==============================] - 24s 512ms/step - loss: 0.1785 - accuracy: 0.1369\n",
      "Epoch 97/100\n",
      "47/47 [==============================] - 24s 512ms/step - loss: 0.1776 - accuracy: 0.1372\n",
      "Epoch 98/100\n",
      "47/47 [==============================] - 24s 512ms/step - loss: 0.1766 - accuracy: 0.1372\n",
      "Epoch 99/100\n",
      "47/47 [==============================] - 24s 512ms/step - loss: 0.1768 - accuracy: 0.1370\n",
      "Epoch 100/100\n",
      "47/47 [==============================] - 24s 512ms/step - loss: 0.1747 - accuracy: 0.1373\n"
     ]
    },
    {
     "data": {
      "text/plain": [
       "<keras.callbacks.History at 0x7fb43560a1c0>"
      ]
     },
     "execution_count": 99,
     "metadata": {},
     "output_type": "execute_result"
    }
   ],
   "source": [
    "EPOCHS = 100\n",
    "model5.fit(dataset, epochs=EPOCHS, verbose=1)"
   ]
  },
  {
   "cell_type": "code",
   "execution_count": 100,
   "id": "11e32158",
   "metadata": {},
   "outputs": [
    {
     "name": "stdout",
     "output_type": "stream",
     "text": [
      "입력 : 배고프다\n",
      "출력 : 저도 밥 먹고 싶어요\n",
      "-------------------------------\n",
      "입력 : 배가 고프다\n",
      "출력 : 득템했길 바라요 .\n",
      "-------------------------------\n",
      "입력 : 배 고프다\n",
      "출력 : 그럴 시기에요 .\n",
      "-------------------------------\n",
      "입력 : 오늘 저녁 추천해주세요.\n",
      "출력 : 미루지말고 바로 가보세요 .\n",
      "-------------------------------\n",
      "입력 : 오늘 저녁 메뉴를 추천해주세요.\n",
      "출력 : 그가 좋아할 거예요 .\n",
      "-------------------------------\n",
      "입력 : 오늘 저녁 메뉴를 추천해주세요.\n",
      "출력 : 그가 좋아할 거예요 .\n",
      "-------------------------------\n",
      "입력 : 공부하기 싫어요\n",
      "출력 : 구속되기 싫은 건지 생각해보세요 .\n",
      "-------------------------------\n",
      "입력 : 지하철역이 어디에 있나요?\n",
      "출력 : 아무런 감정 없이 연락을 지속할 수 없으니까요 .\n",
      "-------------------------------\n",
      "입력 : 얼마죠?\n",
      "출력 : 안 사면 그만큼 모으시는거예요 .\n",
      "-------------------------------\n",
      "입력 : 이 챗봇은 바보입니다\n",
      "출력 : 저는 사람으로 태어나고 싶어요 .\n",
      "-------------------------------\n",
      "입력 : 사랑이 찾아올까요?\n",
      "출력 : 좋은 사람 만날 거예요 .\n",
      "-------------------------------\n",
      "입력 : 어디로 가야하죠?\n",
      "출력 : 안 가본 가까운 곳이 좋겠죠 .\n",
      "-------------------------------\n",
      "입력 : 헤어졌는데 그 사람이 계속 생각나요\n",
      "출력 : 좋은 소식이네요 .\n",
      "-------------------------------\n"
     ]
    }
   ],
   "source": [
    "for question in quest_list:\n",
    "    sentence_generation(question)\n",
    "    print(\"-------------------------------\")"
   ]
  }
 ],
 "metadata": {
  "kernelspec": {
   "display_name": "Python 3 (ipykernel)",
   "language": "python",
   "name": "python3"
  },
  "language_info": {
   "codemirror_mode": {
    "name": "ipython",
    "version": 3
   },
   "file_extension": ".py",
   "mimetype": "text/x-python",
   "name": "python",
   "nbconvert_exporter": "python",
   "pygments_lexer": "ipython3",
   "version": "3.9.7"
  }
 },
 "nbformat": 4,
 "nbformat_minor": 5
}
