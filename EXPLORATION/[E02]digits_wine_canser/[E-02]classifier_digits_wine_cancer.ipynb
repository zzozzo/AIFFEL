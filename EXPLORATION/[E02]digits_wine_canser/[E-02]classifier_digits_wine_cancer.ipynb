{
 "cells": [
  {
   "cell_type": "markdown",
   "id": "82e09264",
   "metadata": {},
   "source": [
    "## [E-02] 회고 링크\n",
    ": https://github.com/zzozzo/AIFFEL/blob/master/EXPLORATION/%5BE02%5Ddigits_wine_canser/README.md"
   ]
  },
  {
   "cell_type": "markdown",
   "id": "2afaddcf",
   "metadata": {},
   "source": [
    "# 손글씨 분류하기"
   ]
  },
  {
   "cell_type": "code",
   "execution_count": 1,
   "id": "47a6f76a",
   "metadata": {},
   "outputs": [],
   "source": [
    "#모듈 import 하기\n",
    "import pandas as pd\n",
    "\n",
    "from sklearn import svm\n",
    "from sklearn.datasets import load_digits\n",
    "from sklearn.model_selection import train_test_split\n",
    "from sklearn.metrics import classification_report\n",
    "from sklearn.tree import DecisionTreeClassifier\n",
    "from sklearn.ensemble import RandomForestClassifier\n",
    "from sklearn.metrics import accuracy_score\n",
    "from sklearn.linear_model import SGDClassifier\n",
    "from sklearn.linear_model import LogisticRegression\n",
    "\n",
    "\n",
    "#데이터 불러오기\n",
    "data = load_digits()\n",
    "digit_data = data.data"
   ]
  },
  {
   "cell_type": "code",
   "execution_count": 2,
   "id": "c7e40ceb",
   "metadata": {},
   "outputs": [
    {
     "name": "stdout",
     "output_type": "stream",
     "text": [
      "[0 1 2 3 4 5 6 7 8 9]\n",
      "\n",
      "['pixel_0_0', 'pixel_0_1', 'pixel_0_2', 'pixel_0_3', 'pixel_0_4', 'pixel_0_5', 'pixel_0_6', 'pixel_0_7', 'pixel_1_0', 'pixel_1_1', 'pixel_1_2', 'pixel_1_3', 'pixel_1_4', 'pixel_1_5', 'pixel_1_6', 'pixel_1_7', 'pixel_2_0', 'pixel_2_1', 'pixel_2_2', 'pixel_2_3', 'pixel_2_4', 'pixel_2_5', 'pixel_2_6', 'pixel_2_7', 'pixel_3_0', 'pixel_3_1', 'pixel_3_2', 'pixel_3_3', 'pixel_3_4', 'pixel_3_5', 'pixel_3_6', 'pixel_3_7', 'pixel_4_0', 'pixel_4_1', 'pixel_4_2', 'pixel_4_3', 'pixel_4_4', 'pixel_4_5', 'pixel_4_6', 'pixel_4_7', 'pixel_5_0', 'pixel_5_1', 'pixel_5_2', 'pixel_5_3', 'pixel_5_4', 'pixel_5_5', 'pixel_5_6', 'pixel_5_7', 'pixel_6_0', 'pixel_6_1', 'pixel_6_2', 'pixel_6_3', 'pixel_6_4', 'pixel_6_5', 'pixel_6_6', 'pixel_6_7', 'pixel_7_0', 'pixel_7_1', 'pixel_7_2', 'pixel_7_3', 'pixel_7_4', 'pixel_7_5', 'pixel_7_6', 'pixel_7_7']\n"
     ]
    }
   ],
   "source": [
    "#EDA\n",
    "\n",
    "#Target Names 확인하기\n",
    "print(data.target_names)\n",
    "\n",
    "print()\n",
    "\n",
    "print(data.feature_names)\n",
    "#8*8사이즈 이미지의 각 픽셀"
   ]
  },
  {
   "cell_type": "code",
   "execution_count": 3,
   "id": "7640438a",
   "metadata": {},
   "outputs": [
    {
     "name": "stdout",
     "output_type": "stream",
     "text": [
      "(1797,)\n"
     ]
    },
    {
     "data": {
      "text/plain": [
       "array([0, 1, 2, ..., 8, 9, 8])"
      ]
     },
     "execution_count": 3,
     "metadata": {},
     "output_type": "execute_result"
    }
   ],
   "source": [
    "#ㅣabel 데이터 변수에 저장\n",
    "\n",
    "digit_label = data.target\n",
    "print(digit_label.shape)\n",
    "digit_label"
   ]
  },
  {
   "cell_type": "code",
   "execution_count": 4,
   "id": "961fed68",
   "metadata": {},
   "outputs": [
    {
     "name": "stdout",
     "output_type": "stream",
     "text": [
      ".. _digits_dataset:\n",
      "\n",
      "Optical recognition of handwritten digits dataset\n",
      "--------------------------------------------------\n",
      "\n",
      "**Data Set Characteristics:**\n",
      "\n",
      "    :Number of Instances: 1797\n",
      "    :Number of Attributes: 64\n",
      "    :Attribute Information: 8x8 image of integer pixels in the range 0..16.\n",
      "    :Missing Attribute Values: None\n",
      "    :Creator: E. Alpaydin (alpaydin '@' boun.edu.tr)\n",
      "    :Date: July; 1998\n",
      "\n",
      "This is a copy of the test set of the UCI ML hand-written digits datasets\n",
      "https://archive.ics.uci.edu/ml/datasets/Optical+Recognition+of+Handwritten+Digits\n",
      "\n",
      "The data set contains images of hand-written digits: 10 classes where\n",
      "each class refers to a digit.\n",
      "\n",
      "Preprocessing programs made available by NIST were used to extract\n",
      "normalized bitmaps of handwritten digits from a preprinted form. From a\n",
      "total of 43 people, 30 contributed to the training set and different 13\n",
      "to the test set. 32x32 bitmaps are divided into nonoverlapping blocks of\n",
      "4x4 and the number of on pixels are counted in each block. This generates\n",
      "an input matrix of 8x8 where each element is an integer in the range\n",
      "0..16. This reduces dimensionality and gives invariance to small\n",
      "distortions.\n",
      "\n",
      "For info on NIST preprocessing routines, see M. D. Garris, J. L. Blue, G.\n",
      "T. Candela, D. L. Dimmick, J. Geist, P. J. Grother, S. A. Janet, and C.\n",
      "L. Wilson, NIST Form-Based Handprint Recognition System, NISTIR 5469,\n",
      "1994.\n",
      "\n",
      ".. topic:: References\n",
      "\n",
      "  - C. Kaynak (1995) Methods of Combining Multiple Classifiers and Their\n",
      "    Applications to Handwritten Digit Recognition, MSc Thesis, Institute of\n",
      "    Graduate Studies in Science and Engineering, Bogazici University.\n",
      "  - E. Alpaydin, C. Kaynak (1998) Cascading Classifiers, Kybernetika.\n",
      "  - Ken Tang and Ponnuthurai N. Suganthan and Xi Yao and A. Kai Qin.\n",
      "    Linear dimensionalityreduction using relevance weighted LDA. School of\n",
      "    Electrical and Electronic Engineering Nanyang Technological University.\n",
      "    2005.\n",
      "  - Claudio Gentile. A New Approximate Maximal Margin Classification\n",
      "    Algorithm. NIPS. 2000.\n",
      "\n"
     ]
    }
   ],
   "source": [
    "print(data.DESCR)"
   ]
  },
  {
   "cell_type": "code",
   "execution_count": 5,
   "id": "a149526d",
   "metadata": {},
   "outputs": [
    {
     "name": "stdout",
     "output_type": "stream",
     "text": [
      "X_train 개수:  1437 , X_test 개수:  360\n"
     ]
    }
   ],
   "source": [
    "#훈련과 테스트 셋 분류하기\n",
    "X_train, X_test, y_train, y_test = train_test_split(digit_data, \n",
    "                                                    digit_label, \n",
    "                                                    test_size=0.2, \n",
    "                                                    random_state=7)\n",
    "\n",
    "print('X_train 개수: ', len(X_train),', X_test 개수: ', len(X_test))"
   ]
  },
  {
   "cell_type": "code",
   "execution_count": 6,
   "id": "da170b13",
   "metadata": {},
   "outputs": [
    {
     "name": "stdout",
     "output_type": "stream",
     "text": [
      "정확도:  0.8444444444444444\n",
      "\n",
      "\n",
      "*****Decision Tree*****\n",
      "              precision    recall  f1-score   support\n",
      "\n",
      "           0       0.98      0.98      0.98        43\n",
      "           1       0.79      0.79      0.79        42\n",
      "           2       0.82      0.82      0.82        40\n",
      "           3       0.84      0.91      0.87        34\n",
      "           4       0.79      0.92      0.85        37\n",
      "           5       0.90      0.96      0.93        28\n",
      "           6       0.93      0.93      0.93        28\n",
      "           7       0.90      0.79      0.84        33\n",
      "           8       0.80      0.65      0.72        43\n",
      "           9       0.73      0.75      0.74        32\n",
      "\n",
      "    accuracy                           0.84       360\n",
      "   macro avg       0.85      0.85      0.85       360\n",
      "weighted avg       0.85      0.84      0.84       360\n",
      "\n",
      "\n"
     ]
    }
   ],
   "source": [
    "\"\"\"\n",
    "학습시키기 #Decision Tree\n",
    "\"\"\"\n",
    "\n",
    "decision_tree = DecisionTreeClassifier(random_state=8)\n",
    "\n",
    "decision_tree.fit(X_train, y_train)\n",
    "y_pred_dt = decision_tree.predict(X_test)\n",
    "accuracy = accuracy_score(y_test, y_pred_dt)\n",
    "print(\"정확도: \" ,accuracy)\n",
    "\n",
    "print()\n",
    "print()\n",
    "\n",
    "\"\"\"\n",
    "평가하기 #Decision Tree\n",
    "\"\"\"\n",
    "print(\"*****Decision Tree*****\")\n",
    "print(classification_report(y_test, y_pred_dt))\n",
    "print()\n"
   ]
  },
  {
   "cell_type": "code",
   "execution_count": 7,
   "id": "4476f68e",
   "metadata": {},
   "outputs": [
    {
     "name": "stdout",
     "output_type": "stream",
     "text": [
      "정확도:  0.9638888888888889\n",
      "\n",
      "\n",
      "*****Random Forest*****\n",
      "              precision    recall  f1-score   support\n",
      "\n",
      "           0       1.00      0.98      0.99        43\n",
      "           1       0.93      1.00      0.97        42\n",
      "           2       1.00      1.00      1.00        40\n",
      "           3       1.00      1.00      1.00        34\n",
      "           4       0.93      1.00      0.96        37\n",
      "           5       0.90      0.96      0.93        28\n",
      "           6       1.00      0.96      0.98        28\n",
      "           7       0.94      0.97      0.96        33\n",
      "           8       1.00      0.84      0.91        43\n",
      "           9       0.94      0.94      0.94        32\n",
      "\n",
      "    accuracy                           0.96       360\n",
      "   macro avg       0.96      0.96      0.96       360\n",
      "weighted avg       0.97      0.96      0.96       360\n",
      "\n",
      "\n"
     ]
    }
   ],
   "source": [
    "\"\"\"\n",
    "학습시키기 #Random Forest\n",
    "\"\"\"\n",
    "\n",
    "random_forest = RandomForestClassifier(random_state=32)\n",
    "\n",
    "random_forest.fit(X_train, y_train)\n",
    "y_pred_rf = random_forest.predict(X_test)\n",
    "accuracy = accuracy_score(y_test, y_pred_rf)\n",
    "print(\"정확도: \" ,accuracy)\n",
    "\n",
    "print()\n",
    "print()\n",
    "\n",
    "\"\"\"\n",
    "평가하기 #Random Forest\n",
    "\"\"\"\n",
    "print(\"*****Random Forest*****\")\n",
    "print(classification_report(y_test, y_pred_rf))\n",
    "print()"
   ]
  },
  {
   "cell_type": "code",
   "execution_count": 8,
   "id": "e5f6790d",
   "metadata": {},
   "outputs": [
    {
     "name": "stdout",
     "output_type": "stream",
     "text": [
      "정확도:  0.9888888888888889\n",
      "\n",
      "\n",
      "*****SVM*****\n",
      "              precision    recall  f1-score   support\n",
      "\n",
      "           0       1.00      1.00      1.00        43\n",
      "           1       0.95      1.00      0.98        42\n",
      "           2       1.00      1.00      1.00        40\n",
      "           3       1.00      1.00      1.00        34\n",
      "           4       1.00      1.00      1.00        37\n",
      "           5       0.93      1.00      0.97        28\n",
      "           6       1.00      1.00      1.00        28\n",
      "           7       1.00      1.00      1.00        33\n",
      "           8       1.00      0.93      0.96        43\n",
      "           9       1.00      0.97      0.98        32\n",
      "\n",
      "    accuracy                           0.99       360\n",
      "   macro avg       0.99      0.99      0.99       360\n",
      "weighted avg       0.99      0.99      0.99       360\n",
      "\n",
      "\n"
     ]
    }
   ],
   "source": [
    "\"\"\"\n",
    "학습시키기 #SVM\n",
    "\"\"\"\n",
    "\n",
    "svm_clf = svm.SVC()\n",
    "\n",
    "svm_clf.fit(X_train, y_train)\n",
    "y_pred_svm = svm_clf.predict(X_test)\n",
    "accuracy = accuracy_score(y_test, y_pred_svm)\n",
    "print(\"정확도: \" ,accuracy)\n",
    "\n",
    "print()\n",
    "print()\n",
    "\n",
    "\"\"\"\n",
    "평가하기 #SVM\n",
    "\"\"\"\n",
    "print(\"*****SVM*****\")\n",
    "print(classification_report(y_test, y_pred_svm))\n",
    "print()"
   ]
  },
  {
   "cell_type": "code",
   "execution_count": 9,
   "id": "062fad90",
   "metadata": {},
   "outputs": [
    {
     "name": "stdout",
     "output_type": "stream",
     "text": [
      "정확도:  0.9361111111111111\n",
      "\n",
      "\n",
      "*****SGD Classifier*****\n",
      "              precision    recall  f1-score   support\n",
      "\n",
      "           0       1.00      1.00      1.00        43\n",
      "           1       0.78      0.95      0.86        42\n",
      "           2       0.98      1.00      0.99        40\n",
      "           3       0.97      0.91      0.94        34\n",
      "           4       0.95      1.00      0.97        37\n",
      "           5       0.96      0.93      0.95        28\n",
      "           6       0.93      0.93      0.93        28\n",
      "           7       0.97      0.97      0.97        33\n",
      "           8       0.94      0.74      0.83        43\n",
      "           9       0.94      0.94      0.94        32\n",
      "\n",
      "    accuracy                           0.94       360\n",
      "   macro avg       0.94      0.94      0.94       360\n",
      "weighted avg       0.94      0.94      0.94       360\n",
      "\n",
      "\n"
     ]
    }
   ],
   "source": [
    "\"\"\"\n",
    "학습시키기 #SGD Classifier\n",
    "\"\"\"\n",
    "\n",
    "sgd_model = SGDClassifier()\n",
    "\n",
    "sgd_model.fit(X_train, y_train)\n",
    "y_pred_sgd = sgd_model.predict(X_test)\n",
    "accuracy = accuracy_score(y_test, y_pred_sgd)\n",
    "print(\"정확도: \" ,accuracy)\n",
    "\n",
    "print()\n",
    "print()\n",
    "\n",
    "\"\"\"\n",
    "평가하기 #SGD Classifier\n",
    "\"\"\"\n",
    "print(\"*****SGD Classifier*****\")\n",
    "print(classification_report(y_test, y_pred_sgd))\n",
    "print()"
   ]
  },
  {
   "cell_type": "code",
   "execution_count": 10,
   "id": "270f86e0",
   "metadata": {},
   "outputs": [
    {
     "name": "stdout",
     "output_type": "stream",
     "text": [
      "정확도:  0.95\n",
      "\n",
      "\n",
      "*****Logistic Regression*****\n",
      "              precision    recall  f1-score   support\n",
      "\n",
      "           0       1.00      1.00      1.00        43\n",
      "           1       0.95      0.95      0.95        42\n",
      "           2       0.98      1.00      0.99        40\n",
      "           3       0.94      0.97      0.96        34\n",
      "           4       1.00      1.00      1.00        37\n",
      "           5       0.79      0.96      0.87        28\n",
      "           6       1.00      0.96      0.98        28\n",
      "           7       0.94      0.97      0.96        33\n",
      "           8       0.92      0.81      0.86        43\n",
      "           9       0.97      0.88      0.92        32\n",
      "\n",
      "    accuracy                           0.95       360\n",
      "   macro avg       0.95      0.95      0.95       360\n",
      "weighted avg       0.95      0.95      0.95       360\n",
      "\n",
      "\n"
     ]
    }
   ],
   "source": [
    "\"\"\"\n",
    "학습시키기 #Logistic Regression\n",
    "\"\"\"\n",
    "logistic_model = LogisticRegression(max_iter = 4000)\n",
    "\n",
    "logistic_model.fit(X_train, y_train)\n",
    "y_pred_lr = logistic_model.predict(X_test)\n",
    "accuracy = accuracy_score(y_test, y_pred_lr)\n",
    "print(\"정확도: \" ,accuracy)\n",
    "\n",
    "print()\n",
    "print()\n",
    "\n",
    "\"\"\"\n",
    "평가하기 #Logistic Regression\n",
    "\"\"\"\n",
    "print(\"*****Logistic Regression*****\")\n",
    "print(classification_report(y_test, y_pred_lr))\n",
    "print()"
   ]
  },
  {
   "cell_type": "markdown",
   "id": "442db7bd",
   "metadata": {},
   "source": [
    "## 손글씨 분류 성능 지표 선택"
   ]
  },
  {
   "cell_type": "code",
   "execution_count": 11,
   "id": "9ca67b40",
   "metadata": {},
   "outputs": [
    {
     "data": {
      "text/plain": [
       "Counter({0: 178,\n",
       "         1: 182,\n",
       "         2: 177,\n",
       "         3: 183,\n",
       "         4: 181,\n",
       "         5: 182,\n",
       "         6: 181,\n",
       "         7: 179,\n",
       "         8: 174,\n",
       "         9: 180})"
      ]
     },
     "execution_count": 11,
     "metadata": {},
     "output_type": "execute_result"
    }
   ],
   "source": [
    "#레이블별 데이터 수 확인\n",
    "\n",
    "import collections\n",
    "collections.Counter(digit_label)"
   ]
  },
  {
   "cell_type": "markdown",
   "id": "674f22a1",
   "metadata": {},
   "source": [
    "각 레이블별 데이터 수가 고르게 퍼져있음을 알 수 있다\n",
    "따라서 *balanced data*라 볼 수 있기 때문에 **Accuracy**를 기준으로 모델 성능을 평가할 수 있다 판단하였다.\n",
    "\n",
    "위 5가지 모델의 accuracy를 비교하였을 때 **SVM**의 성능이 **99%** 로 가장 높게 나와 SVM을 손글씨 분류 모델로 최종 선택한다."
   ]
  },
  {
   "cell_type": "markdown",
   "id": "8e771949",
   "metadata": {},
   "source": [
    "  "
   ]
  },
  {
   "cell_type": "markdown",
   "id": "488e5a12",
   "metadata": {},
   "source": [
    "# wine 분류기"
   ]
  },
  {
   "cell_type": "code",
   "execution_count": 51,
   "id": "2091ef88",
   "metadata": {},
   "outputs": [],
   "source": [
    "from sklearn import svm\n",
    "from sklearn.datasets import load_wine\n",
    "from sklearn.model_selection import train_test_split\n",
    "from sklearn.metrics import classification_report\n",
    "from sklearn.tree import DecisionTreeClassifier\n",
    "from sklearn.ensemble import RandomForestClassifier\n",
    "from sklearn.metrics import accuracy_score\n",
    "from sklearn.linear_model import SGDClassifier\n",
    "from sklearn.linear_model import LogisticRegression\n",
    "\n",
    "#데이터 불러오기\n",
    "data = load_wine()\n",
    "wine_data = data.data"
   ]
  },
  {
   "cell_type": "code",
   "execution_count": 52,
   "id": "560e09cb",
   "metadata": {},
   "outputs": [
    {
     "name": "stdout",
     "output_type": "stream",
     "text": [
      "['class_0' 'class_1' 'class_2']\n",
      "\n",
      "['alcohol', 'malic_acid', 'ash', 'alcalinity_of_ash', 'magnesium', 'total_phenols', 'flavanoids', 'nonflavanoid_phenols', 'proanthocyanins', 'color_intensity', 'hue', 'od280/od315_of_diluted_wines', 'proline']\n"
     ]
    }
   ],
   "source": [
    "#EDA\n",
    "\n",
    "#Target Names 확인하기\n",
    "print(data.target_names)\n",
    "\n",
    "print()\n",
    "\n",
    "print(data.feature_names)\n",
    "#8*8사이즈 이미지의 각 픽셀"
   ]
  },
  {
   "cell_type": "code",
   "execution_count": 53,
   "id": "9a1c596e",
   "metadata": {},
   "outputs": [
    {
     "name": "stdout",
     "output_type": "stream",
     "text": [
      "(178,)\n"
     ]
    },
    {
     "data": {
      "text/plain": [
       "array([0, 0, 0, 0, 0, 0, 0, 0, 0, 0, 0, 0, 0, 0, 0, 0, 0, 0, 0, 0, 0, 0,\n",
       "       0, 0, 0, 0, 0, 0, 0, 0, 0, 0, 0, 0, 0, 0, 0, 0, 0, 0, 0, 0, 0, 0,\n",
       "       0, 0, 0, 0, 0, 0, 0, 0, 0, 0, 0, 0, 0, 0, 0, 1, 1, 1, 1, 1, 1, 1,\n",
       "       1, 1, 1, 1, 1, 1, 1, 1, 1, 1, 1, 1, 1, 1, 1, 1, 1, 1, 1, 1, 1, 1,\n",
       "       1, 1, 1, 1, 1, 1, 1, 1, 1, 1, 1, 1, 1, 1, 1, 1, 1, 1, 1, 1, 1, 1,\n",
       "       1, 1, 1, 1, 1, 1, 1, 1, 1, 1, 1, 1, 1, 1, 1, 1, 1, 1, 1, 1, 2, 2,\n",
       "       2, 2, 2, 2, 2, 2, 2, 2, 2, 2, 2, 2, 2, 2, 2, 2, 2, 2, 2, 2, 2, 2,\n",
       "       2, 2, 2, 2, 2, 2, 2, 2, 2, 2, 2, 2, 2, 2, 2, 2, 2, 2, 2, 2, 2, 2,\n",
       "       2, 2])"
      ]
     },
     "execution_count": 53,
     "metadata": {},
     "output_type": "execute_result"
    }
   ],
   "source": [
    "#ㅣabel 데이터 변수에 저장\n",
    "\n",
    "wine_label = data.target\n",
    "print(wine_label.shape)\n",
    "wine_label"
   ]
  },
  {
   "cell_type": "code",
   "execution_count": 5,
   "id": "265c4a93",
   "metadata": {},
   "outputs": [
    {
     "name": "stdout",
     "output_type": "stream",
     "text": [
      ".. _wine_dataset:\n",
      "\n",
      "Wine recognition dataset\n",
      "------------------------\n",
      "\n",
      "**Data Set Characteristics:**\n",
      "\n",
      "    :Number of Instances: 178 (50 in each of three classes)\n",
      "    :Number of Attributes: 13 numeric, predictive attributes and the class\n",
      "    :Attribute Information:\n",
      " \t\t- Alcohol\n",
      " \t\t- Malic acid\n",
      " \t\t- Ash\n",
      "\t\t- Alcalinity of ash  \n",
      " \t\t- Magnesium\n",
      "\t\t- Total phenols\n",
      " \t\t- Flavanoids\n",
      " \t\t- Nonflavanoid phenols\n",
      " \t\t- Proanthocyanins\n",
      "\t\t- Color intensity\n",
      " \t\t- Hue\n",
      " \t\t- OD280/OD315 of diluted wines\n",
      " \t\t- Proline\n",
      "\n",
      "    - class:\n",
      "            - class_0\n",
      "            - class_1\n",
      "            - class_2\n",
      "\t\t\n",
      "    :Summary Statistics:\n",
      "    \n",
      "    ============================= ==== ===== ======= =====\n",
      "                                   Min   Max   Mean     SD\n",
      "    ============================= ==== ===== ======= =====\n",
      "    Alcohol:                      11.0  14.8    13.0   0.8\n",
      "    Malic Acid:                   0.74  5.80    2.34  1.12\n",
      "    Ash:                          1.36  3.23    2.36  0.27\n",
      "    Alcalinity of Ash:            10.6  30.0    19.5   3.3\n",
      "    Magnesium:                    70.0 162.0    99.7  14.3\n",
      "    Total Phenols:                0.98  3.88    2.29  0.63\n",
      "    Flavanoids:                   0.34  5.08    2.03  1.00\n",
      "    Nonflavanoid Phenols:         0.13  0.66    0.36  0.12\n",
      "    Proanthocyanins:              0.41  3.58    1.59  0.57\n",
      "    Colour Intensity:              1.3  13.0     5.1   2.3\n",
      "    Hue:                          0.48  1.71    0.96  0.23\n",
      "    OD280/OD315 of diluted wines: 1.27  4.00    2.61  0.71\n",
      "    Proline:                       278  1680     746   315\n",
      "    ============================= ==== ===== ======= =====\n",
      "\n",
      "    :Missing Attribute Values: None\n",
      "    :Class Distribution: class_0 (59), class_1 (71), class_2 (48)\n",
      "    :Creator: R.A. Fisher\n",
      "    :Donor: Michael Marshall (MARSHALL%PLU@io.arc.nasa.gov)\n",
      "    :Date: July, 1988\n",
      "\n",
      "This is a copy of UCI ML Wine recognition datasets.\n",
      "https://archive.ics.uci.edu/ml/machine-learning-databases/wine/wine.data\n",
      "\n",
      "The data is the results of a chemical analysis of wines grown in the same\n",
      "region in Italy by three different cultivators. There are thirteen different\n",
      "measurements taken for different constituents found in the three types of\n",
      "wine.\n",
      "\n",
      "Original Owners: \n",
      "\n",
      "Forina, M. et al, PARVUS - \n",
      "An Extendible Package for Data Exploration, Classification and Correlation. \n",
      "Institute of Pharmaceutical and Food Analysis and Technologies,\n",
      "Via Brigata Salerno, 16147 Genoa, Italy.\n",
      "\n",
      "Citation:\n",
      "\n",
      "Lichman, M. (2013). UCI Machine Learning Repository\n",
      "[https://archive.ics.uci.edu/ml]. Irvine, CA: University of California,\n",
      "School of Information and Computer Science. \n",
      "\n",
      ".. topic:: References\n",
      "\n",
      "  (1) S. Aeberhard, D. Coomans and O. de Vel, \n",
      "  Comparison of Classifiers in High Dimensional Settings, \n",
      "  Tech. Rep. no. 92-02, (1992), Dept. of Computer Science and Dept. of  \n",
      "  Mathematics and Statistics, James Cook University of North Queensland. \n",
      "  (Also submitted to Technometrics). \n",
      "\n",
      "  The data was used with many others for comparing various \n",
      "  classifiers. The classes are separable, though only RDA \n",
      "  has achieved 100% correct classification. \n",
      "  (RDA : 100%, QDA 99.4%, LDA 98.9%, 1NN 96.1% (z-transformed data)) \n",
      "  (All results using the leave-one-out technique) \n",
      "\n",
      "  (2) S. Aeberhard, D. Coomans and O. de Vel, \n",
      "  \"THE CLASSIFICATION PERFORMANCE OF RDA\" \n",
      "  Tech. Rep. no. 92-01, (1992), Dept. of Computer Science and Dept. of \n",
      "  Mathematics and Statistics, James Cook University of North Queensland. \n",
      "  (Also submitted to Journal of Chemometrics).\n",
      "\n"
     ]
    }
   ],
   "source": [
    "print(data.DESCR)"
   ]
  },
  {
   "cell_type": "code",
   "execution_count": 58,
   "id": "b8d0a711",
   "metadata": {},
   "outputs": [
    {
     "name": "stdout",
     "output_type": "stream",
     "text": [
      "X_train 개수:  142 , X_test 개수:  36\n"
     ]
    }
   ],
   "source": [
    "#훈련과 테스트 셋 분류하기\n",
    "X_train, X_test, y_train, y_test = train_test_split(wine_data, \n",
    "                                                    wine_label, \n",
    "                                                    test_size=0.2, \n",
    "                                                    random_state=42)\n",
    "\n",
    "print('X_train 개수: ', len(X_train),', X_test 개수: ', len(X_test))"
   ]
  },
  {
   "cell_type": "code",
   "execution_count": 59,
   "id": "87ffac64",
   "metadata": {},
   "outputs": [
    {
     "name": "stdout",
     "output_type": "stream",
     "text": [
      "정확도:  0.9444444444444444\n",
      "\n",
      "\n",
      "*****Decision Tree*****\n",
      "              precision    recall  f1-score   support\n",
      "\n",
      "           0       0.93      0.93      0.93        14\n",
      "           1       0.93      1.00      0.97        14\n",
      "           2       1.00      0.88      0.93         8\n",
      "\n",
      "    accuracy                           0.94        36\n",
      "   macro avg       0.95      0.93      0.94        36\n",
      "weighted avg       0.95      0.94      0.94        36\n",
      "\n",
      "\n"
     ]
    }
   ],
   "source": [
    "\"\"\"\n",
    "학습시키기 #Decision Tree\n",
    "\"\"\"\n",
    "\n",
    "decision_tree = DecisionTreeClassifier(random_state=42)\n",
    "\n",
    "decision_tree.fit(X_train, y_train)\n",
    "y_pred_dt = decision_tree.predict(X_test)\n",
    "accuracy = accuracy_score(y_test, y_pred_dt)\n",
    "print(\"정확도: \" ,accuracy)\n",
    "\n",
    "print()\n",
    "print()\n",
    "\n",
    "\"\"\"\n",
    "평가하기 #Decision Tree\n",
    "\"\"\"\n",
    "print(\"*****Decision Tree*****\")\n",
    "print(classification_report(y_test, y_pred_dt))\n",
    "print()\n"
   ]
  },
  {
   "cell_type": "code",
   "execution_count": 60,
   "id": "f6aabc97",
   "metadata": {},
   "outputs": [
    {
     "name": "stdout",
     "output_type": "stream",
     "text": [
      "정확도:  1.0\n",
      "\n",
      "\n",
      "*****Random Forest*****\n",
      "              precision    recall  f1-score   support\n",
      "\n",
      "           0       1.00      1.00      1.00        14\n",
      "           1       1.00      1.00      1.00        14\n",
      "           2       1.00      1.00      1.00         8\n",
      "\n",
      "    accuracy                           1.00        36\n",
      "   macro avg       1.00      1.00      1.00        36\n",
      "weighted avg       1.00      1.00      1.00        36\n",
      "\n",
      "\n"
     ]
    }
   ],
   "source": [
    "\"\"\"\n",
    "학습시키기 #Random Forest\n",
    "\"\"\"\n",
    "\n",
    "random_forest = RandomForestClassifier(random_state=42)\n",
    "\n",
    "random_forest.fit(X_train, y_train)\n",
    "y_pred_rf = random_forest.predict(X_test)\n",
    "accuracy = accuracy_score(y_test, y_pred_rf)\n",
    "print(\"정확도: \" ,accuracy)\n",
    "\n",
    "\n",
    "print()\n",
    "print()\n",
    "\n",
    "\"\"\"\n",
    "평가하기 #Random Forest\n",
    "\"\"\"\n",
    "print(\"*****Random Forest*****\")\n",
    "print(classification_report(y_test, y_pred_rf))\n",
    "print()"
   ]
  },
  {
   "cell_type": "code",
   "execution_count": 61,
   "id": "2068c5db",
   "metadata": {},
   "outputs": [
    {
     "name": "stdout",
     "output_type": "stream",
     "text": [
      "정확도:  0.8055555555555556\n",
      "\n",
      "\n",
      "*****SVM*****\n",
      "              precision    recall  f1-score   support\n",
      "\n",
      "           0       1.00      1.00      1.00        14\n",
      "           1       0.73      0.79      0.76        14\n",
      "           2       0.57      0.50      0.53         8\n",
      "\n",
      "    accuracy                           0.81        36\n",
      "   macro avg       0.77      0.76      0.76        36\n",
      "weighted avg       0.80      0.81      0.80        36\n",
      "\n",
      "\n"
     ]
    }
   ],
   "source": [
    "\"\"\"\n",
    "학습시키기 #SVM\n",
    "\"\"\"\n",
    "\n",
    "svm_clf = svm.SVC()\n",
    "\n",
    "svm_clf.fit(X_train, y_train)\n",
    "y_pred_svm = svm_clf.predict(X_test)\n",
    "accuracy = accuracy_score(y_test, y_pred_svm)\n",
    "print(\"정확도: \" ,accuracy)\n",
    "\n",
    "print()\n",
    "print()\n",
    "\n",
    "\"\"\"\n",
    "평가하기 #SVM\n",
    "\"\"\"\n",
    "print(\"*****SVM*****\")\n",
    "print(classification_report(y_test, y_pred_svm))\n",
    "print()"
   ]
  },
  {
   "cell_type": "code",
   "execution_count": 63,
   "id": "1fc209f1",
   "metadata": {},
   "outputs": [
    {
     "name": "stdout",
     "output_type": "stream",
     "text": [
      "정확도:  0.75\n",
      "\n",
      "\n",
      "*****SGD Classifier*****\n",
      "              precision    recall  f1-score   support\n",
      "\n",
      "           0       1.00      0.21      0.35        14\n",
      "           1       0.42      1.00      0.60        14\n",
      "           2       1.00      0.00      0.00         8\n",
      "\n",
      "    accuracy                           0.47        36\n",
      "   macro avg       0.81      0.40      0.32        36\n",
      "weighted avg       0.78      0.47      0.37        36\n",
      "\n",
      "\n"
     ]
    }
   ],
   "source": [
    "\"\"\"\n",
    "학습시키기 #SGD Classifier\n",
    "\"\"\"\n",
    "\n",
    "sgd_model = SGDClassifier()\n",
    "\n",
    "sgd_model.fit(X_train, y_train)\n",
    "y_pred_sgd = sgd_model.predict(X_test)\n",
    "accuracy = accuracy_score(y_test1, y_pred_sgd)\n",
    "print(\"정확도: \" ,accuracy)\n",
    "\n",
    "print()\n",
    "print()\n",
    "\n",
    "\"\"\"\n",
    "평가하기 #SGD Classifier\n",
    "\"\"\"\n",
    "\n",
    "print(\"*****SGD Classifier*****\")\n",
    "print(classification_report(y_test, y_pred_sgd1,zero_division=1))\n",
    "print()"
   ]
  },
  {
   "cell_type": "code",
   "execution_count": 70,
   "id": "f4f40cc7",
   "metadata": {},
   "outputs": [
    {
     "name": "stdout",
     "output_type": "stream",
     "text": [
      "정확도:  1.0\n",
      "\n",
      "\n",
      "*****Logistic Regression*****\n",
      "              precision    recall  f1-score   support\n",
      "\n",
      "           0       1.00      1.00      1.00        14\n",
      "           1       1.00      1.00      1.00        14\n",
      "           2       1.00      1.00      1.00         8\n",
      "\n",
      "    accuracy                           1.00        36\n",
      "   macro avg       1.00      1.00      1.00        36\n",
      "weighted avg       1.00      1.00      1.00        36\n",
      "\n",
      "\n"
     ]
    }
   ],
   "source": [
    "\"\"\"\n",
    "학습시키기 #Logistic Regression\n",
    "\"\"\"\n",
    "logistic_model = LogisticRegression(max_iter = 3000)\n",
    "\n",
    "logistic_model.fit(X_train, y_train)\n",
    "y_pred_lr = logistic_model.predict(X_test)\n",
    "accuracy = accuracy_score(y_test, y_pred_lr)\n",
    "print(\"정확도: \" ,accuracy)\n",
    "\n",
    "print()\n",
    "print()\n",
    "\n",
    "\"\"\"\n",
    "평가하기 #Logistic Regression\n",
    "\"\"\"\n",
    "print(\"*****Logistic Regression*****\")\n",
    "print(classification_report(y_test, y_pred_lr))\n",
    "print()"
   ]
  },
  {
   "cell_type": "markdown",
   "id": "88b8412d",
   "metadata": {},
   "source": [
    "## 와인 분류 성능 지표 선택"
   ]
  },
  {
   "cell_type": "code",
   "execution_count": 22,
   "id": "a76e35f4",
   "metadata": {},
   "outputs": [
    {
     "data": {
      "text/plain": [
       "Counter({0: 59, 1: 71, 2: 48})"
      ]
     },
     "execution_count": 22,
     "metadata": {},
     "output_type": "execute_result"
    }
   ],
   "source": [
    "#레이블별 데이터 수 확인\n",
    "\n",
    "import collections\n",
    "collections.Counter(wine_label)"
   ]
  },
  {
   "cell_type": "markdown",
   "id": "a1925b83",
   "metadata": {},
   "source": [
    "1번과 2번 레이블의 데이터 차이가 비교적 많이 나기 때문에 Accuracy만으로 평가하기에 부족하다 생각하였다. 따라서 precision을 추가로 고려하도록 한다."
   ]
  },
  {
   "cell_type": "code",
   "execution_count": 71,
   "id": "ed91837b",
   "metadata": {},
   "outputs": [
    {
     "name": "stdout",
     "output_type": "stream",
     "text": [
      "--- Decision Tree precision ---\n",
      "0.9444444444444444\n",
      "\n",
      "--- Random Forest precision ---\n",
      "1.0\n",
      "\n",
      "--- SVM precision ---\n",
      "0.8055555555555556\n",
      "\n",
      "--- SGD Classifier precision ---\n",
      "0.75\n",
      "\n",
      "--- Logistic Regression precision ---\n",
      "1.0\n",
      "\n"
     ]
    }
   ],
   "source": [
    "#각 모델 precision확인\n",
    "from sklearn.metrics import precision_score\n",
    "\n",
    "print(\"--- Decision Tree precision ---\")\n",
    "print(precision_score(y_test, y_pred_dt,average='micro'))\n",
    "print()\n",
    "print(\"--- Random Forest precision ---\")\n",
    "print(precision_score(y_test,y_pred_rf,average='micro'))\n",
    "print()\n",
    "print(\"--- SVM precision ---\")\n",
    "print(precision_score(y_test, y_pred_svm,average='micro'))\n",
    "print()\n",
    "print(\"--- SGD Classifier precision ---\")\n",
    "print(precision_score(y_test, y_pred_sgd,average='micro'))\n",
    "print()\n",
    "print(\"--- Logistic Regression precision ---\")\n",
    "print(precision_score(y_test, y_pred_lr,average='micro'))\n",
    "print()"
   ]
  },
  {
   "cell_type": "markdown",
   "id": "789c386c",
   "metadata": {},
   "source": [
    "위 5가지 모델의 **precision**을 비교하였을 때 **Random Forest**와 **Logistic Regression**의 성능이 **100%** 로 가장 높게 나왔다. 하지만 Logistic Regression의 경우 *max_iter 인자를 추가하기 전 약 98%의 pesicion의 값*이 나왔기 때문에, **Random Forest를 기반**으로 하되, 상황에 따라 Logistic Regression을 커스텀 하여 사용하면 될 것 같다."
   ]
  },
  {
   "cell_type": "markdown",
   "id": "bee98e3c",
   "metadata": {},
   "source": [
    "  "
   ]
  },
  {
   "cell_type": "markdown",
   "id": "bc412d0a",
   "metadata": {},
   "source": [
    "# 유방암 예측하기"
   ]
  },
  {
   "cell_type": "code",
   "execution_count": 41,
   "id": "b034b419",
   "metadata": {},
   "outputs": [],
   "source": [
    "from sklearn import svm\n",
    "from sklearn.datasets import load_breast_cancer\n",
    "from sklearn.model_selection import train_test_split\n",
    "from sklearn.metrics import classification_report\n",
    "from sklearn.tree import DecisionTreeClassifier\n",
    "from sklearn.ensemble import RandomForestClassifier\n",
    "from sklearn.metrics import accuracy_score\n",
    "from sklearn.linear_model import SGDClassifier\n",
    "from sklearn.linear_model import LogisticRegression\n",
    "\n",
    "data = load_breast_cancer()\n",
    "cancer_data = data.data"
   ]
  },
  {
   "cell_type": "code",
   "execution_count": 42,
   "id": "d6024aa8",
   "metadata": {},
   "outputs": [
    {
     "name": "stdout",
     "output_type": "stream",
     "text": [
      "['malignant' 'benign']\n",
      "\n",
      "['mean radius' 'mean texture' 'mean perimeter' 'mean area'\n",
      " 'mean smoothness' 'mean compactness' 'mean concavity'\n",
      " 'mean concave points' 'mean symmetry' 'mean fractal dimension'\n",
      " 'radius error' 'texture error' 'perimeter error' 'area error'\n",
      " 'smoothness error' 'compactness error' 'concavity error'\n",
      " 'concave points error' 'symmetry error' 'fractal dimension error'\n",
      " 'worst radius' 'worst texture' 'worst perimeter' 'worst area'\n",
      " 'worst smoothness' 'worst compactness' 'worst concavity'\n",
      " 'worst concave points' 'worst symmetry' 'worst fractal dimension']\n"
     ]
    }
   ],
   "source": [
    "#EDA\n",
    "\n",
    "#Target Names 확인하기\n",
    "print(data.target_names)\n",
    "\n",
    "print()\n",
    "\n",
    "print(data.feature_names)\n",
    "#8*8사이즈 이미지의 각 픽셀"
   ]
  },
  {
   "cell_type": "code",
   "execution_count": 43,
   "id": "21ce93da",
   "metadata": {},
   "outputs": [
    {
     "name": "stdout",
     "output_type": "stream",
     "text": [
      "(569,)\n"
     ]
    },
    {
     "data": {
      "text/plain": [
       "array([0, 0, 0, 0, 0, 0, 0, 0, 0, 0, 0, 0, 0, 0, 0, 0, 0, 0, 0, 1, 1, 1,\n",
       "       0, 0, 0, 0, 0, 0, 0, 0, 0, 0, 0, 0, 0, 0, 0, 1, 0, 0, 0, 0, 0, 0,\n",
       "       0, 0, 1, 0, 1, 1, 1, 1, 1, 0, 0, 1, 0, 0, 1, 1, 1, 1, 0, 1, 0, 0,\n",
       "       1, 1, 1, 1, 0, 1, 0, 0, 1, 0, 1, 0, 0, 1, 1, 1, 0, 0, 1, 0, 0, 0,\n",
       "       1, 1, 1, 0, 1, 1, 0, 0, 1, 1, 1, 0, 0, 1, 1, 1, 1, 0, 1, 1, 0, 1,\n",
       "       1, 1, 1, 1, 1, 1, 1, 0, 0, 0, 1, 0, 0, 1, 1, 1, 0, 0, 1, 0, 1, 0,\n",
       "       0, 1, 0, 0, 1, 1, 0, 1, 1, 0, 1, 1, 1, 1, 0, 1, 1, 1, 1, 1, 1, 1,\n",
       "       1, 1, 0, 1, 1, 1, 1, 0, 0, 1, 0, 1, 1, 0, 0, 1, 1, 0, 0, 1, 1, 1,\n",
       "       1, 0, 1, 1, 0, 0, 0, 1, 0, 1, 0, 1, 1, 1, 0, 1, 1, 0, 0, 1, 0, 0,\n",
       "       0, 0, 1, 0, 0, 0, 1, 0, 1, 0, 1, 1, 0, 1, 0, 0, 0, 0, 1, 1, 0, 0,\n",
       "       1, 1, 1, 0, 1, 1, 1, 1, 1, 0, 0, 1, 1, 0, 1, 1, 0, 0, 1, 0, 1, 1,\n",
       "       1, 1, 0, 1, 1, 1, 1, 1, 0, 1, 0, 0, 0, 0, 0, 0, 0, 0, 0, 0, 0, 0,\n",
       "       0, 0, 1, 1, 1, 1, 1, 1, 0, 1, 0, 1, 1, 0, 1, 1, 0, 1, 0, 0, 1, 1,\n",
       "       1, 1, 1, 1, 1, 1, 1, 1, 1, 1, 1, 0, 1, 1, 0, 1, 0, 1, 1, 1, 1, 1,\n",
       "       1, 1, 1, 1, 1, 1, 1, 1, 1, 0, 1, 1, 1, 0, 1, 0, 1, 1, 1, 1, 0, 0,\n",
       "       0, 1, 1, 1, 1, 0, 1, 0, 1, 0, 1, 1, 1, 0, 1, 1, 1, 1, 1, 1, 1, 0,\n",
       "       0, 0, 1, 1, 1, 1, 1, 1, 1, 1, 1, 1, 1, 0, 0, 1, 0, 0, 0, 1, 0, 0,\n",
       "       1, 1, 1, 1, 1, 0, 1, 1, 1, 1, 1, 0, 1, 1, 1, 0, 1, 1, 0, 0, 1, 1,\n",
       "       1, 1, 1, 1, 0, 1, 1, 1, 1, 1, 1, 1, 0, 1, 1, 1, 1, 1, 0, 1, 1, 0,\n",
       "       1, 1, 1, 1, 1, 1, 1, 1, 1, 1, 1, 1, 0, 1, 0, 0, 1, 0, 1, 1, 1, 1,\n",
       "       1, 0, 1, 1, 0, 1, 0, 1, 1, 0, 1, 0, 1, 1, 1, 1, 1, 1, 1, 1, 0, 0,\n",
       "       1, 1, 1, 1, 1, 1, 0, 1, 1, 1, 1, 1, 1, 1, 1, 1, 1, 0, 1, 1, 1, 1,\n",
       "       1, 1, 1, 0, 1, 0, 1, 1, 0, 1, 1, 1, 1, 1, 0, 0, 1, 0, 1, 0, 1, 1,\n",
       "       1, 1, 1, 0, 1, 1, 0, 1, 0, 1, 0, 0, 1, 1, 1, 0, 1, 1, 1, 1, 1, 1,\n",
       "       1, 1, 1, 1, 1, 0, 1, 0, 0, 1, 1, 1, 1, 1, 1, 1, 1, 1, 1, 1, 1, 1,\n",
       "       1, 1, 1, 1, 1, 1, 1, 1, 1, 1, 1, 1, 0, 0, 0, 0, 0, 0, 1])"
      ]
     },
     "execution_count": 43,
     "metadata": {},
     "output_type": "execute_result"
    }
   ],
   "source": [
    "#ㅣabel 데이터 변수에 저장\n",
    "\n",
    "cancer_label = data.target\n",
    "print(cancer_label.shape)\n",
    "cancer_label"
   ]
  },
  {
   "cell_type": "code",
   "execution_count": 26,
   "id": "791bb457",
   "metadata": {},
   "outputs": [
    {
     "name": "stdout",
     "output_type": "stream",
     "text": [
      ".. _breast_cancer_dataset:\n",
      "\n",
      "Breast cancer wisconsin (diagnostic) dataset\n",
      "--------------------------------------------\n",
      "\n",
      "**Data Set Characteristics:**\n",
      "\n",
      "    :Number of Instances: 569\n",
      "\n",
      "    :Number of Attributes: 30 numeric, predictive attributes and the class\n",
      "\n",
      "    :Attribute Information:\n",
      "        - radius (mean of distances from center to points on the perimeter)\n",
      "        - texture (standard deviation of gray-scale values)\n",
      "        - perimeter\n",
      "        - area\n",
      "        - smoothness (local variation in radius lengths)\n",
      "        - compactness (perimeter^2 / area - 1.0)\n",
      "        - concavity (severity of concave portions of the contour)\n",
      "        - concave points (number of concave portions of the contour)\n",
      "        - symmetry\n",
      "        - fractal dimension (\"coastline approximation\" - 1)\n",
      "\n",
      "        The mean, standard error, and \"worst\" or largest (mean of the three\n",
      "        worst/largest values) of these features were computed for each image,\n",
      "        resulting in 30 features.  For instance, field 0 is Mean Radius, field\n",
      "        10 is Radius SE, field 20 is Worst Radius.\n",
      "\n",
      "        - class:\n",
      "                - WDBC-Malignant\n",
      "                - WDBC-Benign\n",
      "\n",
      "    :Summary Statistics:\n",
      "\n",
      "    ===================================== ====== ======\n",
      "                                           Min    Max\n",
      "    ===================================== ====== ======\n",
      "    radius (mean):                        6.981  28.11\n",
      "    texture (mean):                       9.71   39.28\n",
      "    perimeter (mean):                     43.79  188.5\n",
      "    area (mean):                          143.5  2501.0\n",
      "    smoothness (mean):                    0.053  0.163\n",
      "    compactness (mean):                   0.019  0.345\n",
      "    concavity (mean):                     0.0    0.427\n",
      "    concave points (mean):                0.0    0.201\n",
      "    symmetry (mean):                      0.106  0.304\n",
      "    fractal dimension (mean):             0.05   0.097\n",
      "    radius (standard error):              0.112  2.873\n",
      "    texture (standard error):             0.36   4.885\n",
      "    perimeter (standard error):           0.757  21.98\n",
      "    area (standard error):                6.802  542.2\n",
      "    smoothness (standard error):          0.002  0.031\n",
      "    compactness (standard error):         0.002  0.135\n",
      "    concavity (standard error):           0.0    0.396\n",
      "    concave points (standard error):      0.0    0.053\n",
      "    symmetry (standard error):            0.008  0.079\n",
      "    fractal dimension (standard error):   0.001  0.03\n",
      "    radius (worst):                       7.93   36.04\n",
      "    texture (worst):                      12.02  49.54\n",
      "    perimeter (worst):                    50.41  251.2\n",
      "    area (worst):                         185.2  4254.0\n",
      "    smoothness (worst):                   0.071  0.223\n",
      "    compactness (worst):                  0.027  1.058\n",
      "    concavity (worst):                    0.0    1.252\n",
      "    concave points (worst):               0.0    0.291\n",
      "    symmetry (worst):                     0.156  0.664\n",
      "    fractal dimension (worst):            0.055  0.208\n",
      "    ===================================== ====== ======\n",
      "\n",
      "    :Missing Attribute Values: None\n",
      "\n",
      "    :Class Distribution: 212 - Malignant, 357 - Benign\n",
      "\n",
      "    :Creator:  Dr. William H. Wolberg, W. Nick Street, Olvi L. Mangasarian\n",
      "\n",
      "    :Donor: Nick Street\n",
      "\n",
      "    :Date: November, 1995\n",
      "\n",
      "This is a copy of UCI ML Breast Cancer Wisconsin (Diagnostic) datasets.\n",
      "https://goo.gl/U2Uwz2\n",
      "\n",
      "Features are computed from a digitized image of a fine needle\n",
      "aspirate (FNA) of a breast mass.  They describe\n",
      "characteristics of the cell nuclei present in the image.\n",
      "\n",
      "Separating plane described above was obtained using\n",
      "Multisurface Method-Tree (MSM-T) [K. P. Bennett, \"Decision Tree\n",
      "Construction Via Linear Programming.\" Proceedings of the 4th\n",
      "Midwest Artificial Intelligence and Cognitive Science Society,\n",
      "pp. 97-101, 1992], a classification method which uses linear\n",
      "programming to construct a decision tree.  Relevant features\n",
      "were selected using an exhaustive search in the space of 1-4\n",
      "features and 1-3 separating planes.\n",
      "\n",
      "The actual linear program used to obtain the separating plane\n",
      "in the 3-dimensional space is that described in:\n",
      "[K. P. Bennett and O. L. Mangasarian: \"Robust Linear\n",
      "Programming Discrimination of Two Linearly Inseparable Sets\",\n",
      "Optimization Methods and Software 1, 1992, 23-34].\n",
      "\n",
      "This database is also available through the UW CS ftp server:\n",
      "\n",
      "ftp ftp.cs.wisc.edu\n",
      "cd math-prog/cpo-dataset/machine-learn/WDBC/\n",
      "\n",
      ".. topic:: References\n",
      "\n",
      "   - W.N. Street, W.H. Wolberg and O.L. Mangasarian. Nuclear feature extraction \n",
      "     for breast tumor diagnosis. IS&T/SPIE 1993 International Symposium on \n",
      "     Electronic Imaging: Science and Technology, volume 1905, pages 861-870,\n",
      "     San Jose, CA, 1993.\n",
      "   - O.L. Mangasarian, W.N. Street and W.H. Wolberg. Breast cancer diagnosis and \n",
      "     prognosis via linear programming. Operations Research, 43(4), pages 570-577, \n",
      "     July-August 1995.\n",
      "   - W.H. Wolberg, W.N. Street, and O.L. Mangasarian. Machine learning techniques\n",
      "     to diagnose breast cancer from fine-needle aspirates. Cancer Letters 77 (1994) \n",
      "     163-171.\n"
     ]
    }
   ],
   "source": [
    "print(data.DESCR)"
   ]
  },
  {
   "cell_type": "code",
   "execution_count": 44,
   "id": "b39eca1f",
   "metadata": {},
   "outputs": [
    {
     "name": "stdout",
     "output_type": "stream",
     "text": [
      "X_train 개수:  455 , X_test 개수:  114\n"
     ]
    }
   ],
   "source": [
    "#훈련과 테스트 셋 분류하기\n",
    "X_train, X_test, y_train, y_test = train_test_split(cancer_data, \n",
    "                                                    cancer_label, \n",
    "                                                    test_size=0.2, \n",
    "                                                    random_state=42)\n",
    "\n",
    "print('X_train 개수: ', len(X_train),', X_test 개수: ', len(X_test))"
   ]
  },
  {
   "cell_type": "code",
   "execution_count": 45,
   "id": "6080c860",
   "metadata": {},
   "outputs": [
    {
     "name": "stdout",
     "output_type": "stream",
     "text": [
      "정확도:  0.9298245614035088\n",
      "\n",
      "\n",
      "*****Decision Tree*****\n",
      "              precision    recall  f1-score   support\n",
      "\n",
      "           0       0.91      0.91      0.91        43\n",
      "           1       0.94      0.94      0.94        71\n",
      "\n",
      "    accuracy                           0.93       114\n",
      "   macro avg       0.93      0.93      0.93       114\n",
      "weighted avg       0.93      0.93      0.93       114\n",
      "\n",
      "\n"
     ]
    }
   ],
   "source": [
    "\"\"\"\n",
    "학습시키기 #Decision Tree\n",
    "\"\"\"\n",
    "\n",
    "decision_tree = DecisionTreeClassifier(random_state=8)\n",
    "\n",
    "decision_tree.fit(X_train, y_train)\n",
    "y_pred_dt = decision_tree.predict(X_test)\n",
    "accuracy = accuracy_score(y_test, y_pred_dt)\n",
    "print(\"정확도: \" ,accuracy)\n",
    "\n",
    "print()\n",
    "print()\n",
    "\n",
    "\"\"\"\n",
    "평가하기 #Decision Tree\n",
    "\"\"\"\n",
    "print(\"*****Decision Tree*****\")\n",
    "print(classification_report(y_test, y_pred_dt))\n",
    "print()\n"
   ]
  },
  {
   "cell_type": "code",
   "execution_count": 46,
   "id": "eddcd0aa",
   "metadata": {},
   "outputs": [
    {
     "name": "stdout",
     "output_type": "stream",
     "text": [
      "정확도:  0.9649122807017544\n",
      "\n",
      "\n",
      "*****Random Forest*****\n",
      "              precision    recall  f1-score   support\n",
      "\n",
      "           0       0.98      0.93      0.95        43\n",
      "           1       0.96      0.99      0.97        71\n",
      "\n",
      "    accuracy                           0.96       114\n",
      "   macro avg       0.97      0.96      0.96       114\n",
      "weighted avg       0.97      0.96      0.96       114\n",
      "\n",
      "\n"
     ]
    }
   ],
   "source": [
    "\"\"\"\n",
    "학습시키기 #Random Forest\n",
    "\"\"\"\n",
    "\n",
    "random_forest = RandomForestClassifier(random_state=42)\n",
    "\n",
    "random_forest.fit(X_train, y_train)\n",
    "y_pred_rf = random_forest.predict(X_test)\n",
    "accuracy = accuracy_score(y_test, y_pred_rf)\n",
    "print(\"정확도: \" ,accuracy)\n",
    "\n",
    "\n",
    "print()\n",
    "print()\n",
    "\n",
    "\"\"\"\n",
    "평가하기 #Random Forest\n",
    "\"\"\"\n",
    "print(\"*****Random Forest*****\")\n",
    "print(classification_report(y_test, y_pred_rf))\n",
    "print()"
   ]
  },
  {
   "cell_type": "code",
   "execution_count": 47,
   "id": "e9856ab2",
   "metadata": {},
   "outputs": [
    {
     "name": "stdout",
     "output_type": "stream",
     "text": [
      "정확도:  0.9473684210526315\n",
      "\n",
      "\n",
      "*****SVM*****\n",
      "              precision    recall  f1-score   support\n",
      "\n",
      "           0       1.00      0.86      0.92        43\n",
      "           1       0.92      1.00      0.96        71\n",
      "\n",
      "    accuracy                           0.95       114\n",
      "   macro avg       0.96      0.93      0.94       114\n",
      "weighted avg       0.95      0.95      0.95       114\n",
      "\n",
      "\n"
     ]
    }
   ],
   "source": [
    "\"\"\"\n",
    "학습시키기 #SVM\n",
    "\"\"\"\n",
    "\n",
    "svm_clf = svm.SVC()\n",
    "\n",
    "svm_clf.fit(X_train, y_train)\n",
    "y_pred_svm = svm_clf.predict(X_test)\n",
    "accuracy = accuracy_score(y_test, y_pred_svm)\n",
    "print(\"정확도: \" ,accuracy)\n",
    "\n",
    "print()\n",
    "print()\n",
    "\n",
    "\"\"\"\n",
    "평가하기 #SVM\n",
    "\"\"\"\n",
    "print(\"*****SVM*****\")\n",
    "print(classification_report(y_test, y_pred_svm))\n",
    "print()"
   ]
  },
  {
   "cell_type": "code",
   "execution_count": 48,
   "id": "9a125803",
   "metadata": {},
   "outputs": [
    {
     "name": "stdout",
     "output_type": "stream",
     "text": [
      "정확도:  0.868421052631579\n",
      "\n",
      "\n",
      "*****SGD Classifier*****\n",
      "              precision    recall  f1-score   support\n",
      "\n",
      "           0       0.74      1.00      0.85        43\n",
      "           1       1.00      0.79      0.88        71\n",
      "\n",
      "    accuracy                           0.87       114\n",
      "   macro avg       0.87      0.89      0.87       114\n",
      "weighted avg       0.90      0.87      0.87       114\n",
      "\n",
      "\n"
     ]
    }
   ],
   "source": [
    "\"\"\"\n",
    "학습시키기 #SGD Classifier\n",
    "\"\"\"\n",
    "\n",
    "sgd_model = SGDClassifier()\n",
    "\n",
    "sgd_model.fit(X_train, y_train)\n",
    "y_pred_sgd = sgd_model.predict(X_test)\n",
    "accuracy = accuracy_score(y_test, y_pred_sgd)\n",
    "print(\"정확도: \" ,accuracy)\n",
    "\n",
    "print()\n",
    "print()\n",
    "\n",
    "\"\"\"\n",
    "평가하기 #SGD Classifier\n",
    "\"\"\"\n",
    "\n",
    "print(\"*****SGD Classifier*****\")\n",
    "print(classification_report(y_test, y_pred_sgd))\n",
    "print()"
   ]
  },
  {
   "cell_type": "code",
   "execution_count": 49,
   "id": "69fde423",
   "metadata": {},
   "outputs": [
    {
     "name": "stdout",
     "output_type": "stream",
     "text": [
      "정확도:  0.956140350877193\n",
      "\n",
      "\n",
      "*****Logistic Regression*****\n",
      "              precision    recall  f1-score   support\n",
      "\n",
      "           0       0.97      0.91      0.94        43\n",
      "           1       0.95      0.99      0.97        71\n",
      "\n",
      "    accuracy                           0.96       114\n",
      "   macro avg       0.96      0.95      0.95       114\n",
      "weighted avg       0.96      0.96      0.96       114\n",
      "\n",
      "\n"
     ]
    }
   ],
   "source": [
    "\"\"\"\n",
    "학습시키기 #Logistic Regression\n",
    "\"\"\"\n",
    "logistic_model = LogisticRegression(max_iter = 4000)\n",
    "\n",
    "logistic_model.fit(X_train, y_train)\n",
    "y_pred_lr = logistic_model.predict(X_test)\n",
    "accuracy = accuracy_score(y_test, y_pred_lr)\n",
    "print(\"정확도: \" ,accuracy)\n",
    "\n",
    "print()\n",
    "print()\n",
    "\n",
    "\"\"\"\n",
    "평가하기 #Logistic Regression\n",
    "\"\"\"\n",
    "print(\"*****Logistic Regression*****\")\n",
    "print(classification_report(y_test, y_pred_lr))\n",
    "print()"
   ]
  },
  {
   "cell_type": "markdown",
   "id": "b98680b1",
   "metadata": {},
   "source": [
    "## 유방암 여부 분류 성능 지표 선택"
   ]
  },
  {
   "cell_type": "code",
   "execution_count": 50,
   "id": "2c49a379",
   "metadata": {},
   "outputs": [
    {
     "name": "stdout",
     "output_type": "stream",
     "text": [
      "--- Decision Tree Recall ---\n",
      "0.9298245614035088\n",
      "\n",
      "--- Random Forest Recall ---\n",
      "0.9649122807017544\n",
      "\n",
      "--- SVM Recall ---\n",
      "0.9473684210526315\n",
      "\n",
      "--- SGD Classifier Recall ---\n",
      "0.868421052631579\n",
      "\n",
      "--- Logistic Regression Recall ---\n",
      "0.956140350877193\n",
      "\n"
     ]
    }
   ],
   "source": [
    "#각 모델 recall확인\n",
    "from sklearn.metrics import recall_score\n",
    "\n",
    "print(\"--- Decision Tree Recall ---\")\n",
    "print(recall_score(y_test, y_pred_dt,average='micro'))\n",
    "print()\n",
    "print(\"--- Random Forest Recall ---\")\n",
    "print(recall_score(y_test,y_pred_rf,average='micro'))\n",
    "print()\n",
    "print(\"--- SVM Recall ---\")\n",
    "print(recall_score(y_test, y_pred_svm,average='micro'))\n",
    "print()\n",
    "print(\"--- SGD Classifier Recall ---\")\n",
    "print(recall_score(y_test, y_pred_sgd,average='micro'))\n",
    "print()\n",
    "print(\"--- Logistic Regression Recall ---\")\n",
    "print(recall_score(y_test, y_pred_lr,average='micro'))\n",
    "print()"
   ]
  },
  {
   "cell_type": "markdown",
   "id": "b2821ed0",
   "metadata": {},
   "source": [
    "유방암 판단 여부는 암인데 암이 아닌 것으로 판단하는 비율을 줄여야 하기 때문에 recall을 평가 지표로 하기로 했다.\n",
    "! recall : 암이 아닌 것으로 판단하는 경우가 적어야 할 때\n",
    "\n",
    "위 5가지 모델의 recall을 비교하였을 때 Random Forest와 Logistic Regression의 순으로 Recall 값이 가장 높은 것을 확인할 수 있다. 두 모델의 accuracy는 모두 약 96%이며 recall의 값도 약 96%이므로 두 모델을 함께 사용해도 좋을 것 같다."
   ]
  }
 ],
 "metadata": {
  "kernelspec": {
   "display_name": "Python 3 (ipykernel)",
   "language": "python",
   "name": "python3"
  },
  "language_info": {
   "codemirror_mode": {
    "name": "ipython",
    "version": 3
   },
   "file_extension": ".py",
   "mimetype": "text/x-python",
   "name": "python",
   "nbconvert_exporter": "python",
   "pygments_lexer": "ipython3",
   "version": "3.9.7"
  }
 },
 "nbformat": 4,
 "nbformat_minor": 5
}
