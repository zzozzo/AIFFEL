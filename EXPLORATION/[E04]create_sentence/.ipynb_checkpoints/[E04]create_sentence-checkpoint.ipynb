{
 "cells": [
  {
   "cell_type": "markdown",
   "id": "f5c838b4",
   "metadata": {},
   "source": [
    "회고 : https://github.com/zzozzo/AIFFEL/blob/master/EXPLORATION/%5BE04%5Dcreate_sentence/README.md"
   ]
  },
  {
   "cell_type": "markdown",
   "id": "09f99fec",
   "metadata": {},
   "source": [
    "## 작사가 인공지능 만들기"
   ]
  },
  {
   "cell_type": "markdown",
   "id": "f6da769c",
   "metadata": {},
   "source": [
    "### 1. 데이터 불러오기"
   ]
  },
  {
   "cell_type": "code",
   "execution_count": 289,
   "id": "ff3bc9a8",
   "metadata": {},
   "outputs": [],
   "source": [
    "import os, re \n",
    "import glob\n",
    "import numpy as np\n",
    "import tensorflow as tf\n",
    "\n",
    "from sklearn.model_selection import train_test_split"
   ]
  },
  {
   "cell_type": "code",
   "execution_count": 290,
   "id": "2c057a19",
   "metadata": {},
   "outputs": [
    {
     "name": "stdout",
     "output_type": "stream",
     "text": [
      "데이터 크기: 187088\n",
      "Examples:\n",
      " [\"Now I've heard there was a secret chord\", 'That David played, and it pleased the Lord', \"But you don't really care for music, do you?\"]\n"
     ]
    }
   ],
   "source": [
    "txt_file_path = os.getenv('HOME')+'/aiffel/lyricist/data/lyrics/*'\n",
    "\n",
    "txt_list = glob.glob(txt_file_path)\n",
    "\n",
    "raw_corpus = []\n",
    "\n",
    "# 리스트에 문장단위로 저장\n",
    "for txt_file in txt_list:\n",
    "    with open(txt_file, \"r\") as f:\n",
    "        raw = f.read().splitlines()\n",
    "        raw_corpus.extend(raw)\n",
    "\n",
    "print(\"데이터 크기:\", len(raw_corpus))\n",
    "print(\"Examples:\\n\", raw_corpus[:3])"
   ]
  },
  {
   "cell_type": "markdown",
   "id": "a54e0dda",
   "metadata": {},
   "source": [
    "### 2. 데이터 전처리"
   ]
  },
  {
   "cell_type": "code",
   "execution_count": 291,
   "id": "eb7deb3e",
   "metadata": {},
   "outputs": [
    {
     "name": "stdout",
     "output_type": "stream",
     "text": [
      "0 : Now I've heard there was a secret chord\n",
      "1 : That David played, and it pleased the Lord\n",
      "2 : But you don't really care for music, do you?\n",
      "3 : It goes like this\n",
      "4 : The fourth, the fifth\n",
      "5 : The minor fall, the major lift\n",
      "6 : The baffled king composing Hallelujah Hallelujah\n",
      "7 : Hallelujah\n",
      "8 : Hallelujah\n",
      "9 : Hallelujah Your faith was strong but you needed proof\n"
     ]
    }
   ],
   "source": [
    "for idx, sentence in enumerate(raw_corpus):\n",
    "    if len(sentence) == 0: continue   # 길이가 0인 문장은 건너뛰기\n",
    "    if sentence[-1] == \":\": continue  # 문장의 끝이 : 인 문장은 건너뛰기\n",
    "        \n",
    "    if idx > 9: break \n",
    "    print(idx,\":\",sentence)"
   ]
  },
  {
   "cell_type": "code",
   "execution_count": 292,
   "id": "350dbc83",
   "metadata": {},
   "outputs": [
    {
     "name": "stdout",
     "output_type": "stream",
     "text": [
      "<start> this is sample sentence . <end>\n"
     ]
    }
   ],
   "source": [
    "def preprocess_sentence(sentence):\n",
    "    sentence = sentence.lower().strip() # 1 소문자로 바꾸고, 양쪽 공백을 지우기\n",
    "    sentence = re.sub(r\"([?.!,¿])\", r\" \\1 \", sentence) # 2 특수문자 양쪽에 공백 넣기\n",
    "    sentence = re.sub(r'[\" \"]+', \" \", sentence) # 3여러개의 공백은 하나의 공백으로 바꾸기\n",
    "    sentence = re.sub(r\"[^a-zA-Z?.!,¿]+\", \" \", sentence) # 4 a-zA-Z?.!,¿가 아닌 모든 문자를 하나의 공백으로 바꿈\n",
    "    sentence = sentence.strip() # 5 다시 양쪽 공백을 지움\n",
    "    sentence = '<start> ' + sentence + ' <end>' # 6 문장 시작에는 <start>, 끝에는 <end>를 추가\n",
    "    #if len(sentence.split()) >15: \n",
    "    #    sentence = ''\n",
    "        \n",
    "    return sentence\n",
    "\n",
    "# 문장 필터링 작동 확인하기\n",
    "print(preprocess_sentence(\"This @_is ;;;sample        sentence.\"))"
   ]
  },
  {
   "cell_type": "code",
   "execution_count": 293,
   "id": "231baef1",
   "metadata": {
    "scrolled": true
   },
   "outputs": [
    {
     "name": "stdout",
     "output_type": "stream",
     "text": [
      "149991\n"
     ]
    }
   ],
   "source": [
    "# 정제된 문장 저장할 리스트 선언\n",
    "corpus = []\n",
    "\n",
    "\n",
    "for sentence in raw_corpus:\n",
    "    # 불필요한 문장 건너 뛰기\n",
    "    if len(sentence) == 0: continue\n",
    "    if sentence[-1] == \":\": continue\n",
    "    \n",
    "    # 정제\n",
    "    preprocessed_sentence = preprocess_sentence(sentence)\n",
    "    if len(preprocessed_sentence.split()) >=15: \n",
    "        continue #토큰 15개 초과할 경우 패스 \n",
    "    else: corpus.append(preprocessed_sentence)\n",
    "print(len(corpus))  \n",
    "\n",
    "# 정제된 결과중 조건 길이 넘어간 문장 제거\n",
    "# cnt=0\n",
    "# for s in corpus :\n",
    "#     cnt+=1\n",
    "#     if len(s.split()) == 0:\n",
    "#         corpus.pop(cnt)\n",
    "# print(len(corpus))  "
   ]
  },
  {
   "cell_type": "code",
   "execution_count": 294,
   "id": "257838a3",
   "metadata": {},
   "outputs": [
    {
     "name": "stdout",
     "output_type": "stream",
     "text": [
      "[[   2   50    4 ...    0    0    0]\n",
      " [   2   15 3392 ...    0    0    0]\n",
      " [   2   33    7 ...   46    3    0]\n",
      " ...\n",
      " [   2    4  119 ...    0    0    0]\n",
      " [   2  252  192 ...   12    3    0]\n",
      " [   2    7   35 ...    0    0    0]] <keras_preprocessing.text.Tokenizer object at 0x7f7fca434640>\n"
     ]
    }
   ],
   "source": [
    "# 토큰화 - 텐서플로우의 Tokenizer와 pad_sequences 사용\n",
    "def tokenize(corpus):\n",
    "    # 15000단어를 기억할 수 있는 tokenizer를 만들겁니다\n",
    "    # 우리는 이미 문장을 정제했으니 filters가 필요없어요\n",
    "    # 15000단어에 포함되지 못한 단어는 '<unk>'로 바꿀거에요\n",
    "    tokenizer = tf.keras.preprocessing.text.Tokenizer(\n",
    "        num_words=15000, \n",
    "        filters=' ',\n",
    "        oov_token=\"<unk>\"\n",
    "    )\n",
    "    # corpus를 이용해 tokenizer 내부의 단어장을 완성\n",
    "    tokenizer.fit_on_texts(corpus)\n",
    "    # 준비한 tokenizer를 이용해 corpus를 Tensor로 변환\n",
    "    tensor = tokenizer.texts_to_sequences(corpus)   \n",
    "    # 입력 데이터의 시퀀스 길이를 일정하게 맞춰줌\n",
    "    # 만약 시퀀스가 짧다면 문장 뒤에 패딩을 붙여 길이를 맞춰줍니다.\n",
    "    # 문장 앞에 패딩을 붙여 길이를 맞추고 싶다면 padding='pre'를 사용합니다\n",
    "    tensor = tf.keras.preprocessing.sequence.pad_sequences(tensor, padding='post',maxlen=15)  \n",
    "    \n",
    "    print(tensor,tokenizer)\n",
    "    return tensor, tokenizer\n",
    "\n",
    "tensor, tokenizer = tokenize(corpus)"
   ]
  },
  {
   "cell_type": "code",
   "execution_count": 295,
   "id": "eebaa850",
   "metadata": {},
   "outputs": [
    {
     "name": "stdout",
     "output_type": "stream",
     "text": [
      "[[   2   50    4   98  299   61   52    9  953 6634]\n",
      " [   2   15 3392  889    5    8   11 6060    6  380]\n",
      " [   2   33    7   42   16  163  288   28  321    5]]\n"
     ]
    }
   ],
   "source": [
    "print(tensor[:3, :10])"
   ]
  },
  {
   "cell_type": "code",
   "execution_count": 296,
   "id": "0ae28a23",
   "metadata": {},
   "outputs": [
    {
     "name": "stdout",
     "output_type": "stream",
     "text": [
      "[   2   50    4   98  299   61   52    9  953 6634    3    0    0    0]\n",
      "[  50    4   98  299   61   52    9  953 6634    3    0    0    0    0]\n"
     ]
    }
   ],
   "source": [
    "#소스 문장 만들기\n",
    "# tensor에서 마지막 토큰을 잘라내서 소스 문장을 생성\n",
    "# 마지막 토큰은 <end>가 아니라 <pad>일 가능성이 높습니다.\n",
    "src_input = tensor[:, :-1]  \n",
    "# tensor에서 <start>를 잘라내서 타겟 문장을 생성\n",
    "tgt_input = tensor[:, 1:]    \n",
    "\n",
    "print(src_input[0])\n",
    "print(tgt_input[0])"
   ]
  },
  {
   "cell_type": "code",
   "execution_count": 297,
   "id": "992f862d",
   "metadata": {},
   "outputs": [
    {
     "data": {
      "text/plain": [
       "<BatchDataset shapes: ((256, 14), (256, 14)), types: (tf.int32, tf.int32)>"
      ]
     },
     "execution_count": 297,
     "metadata": {},
     "output_type": "execute_result"
    }
   ],
   "source": [
    "BUFFER_SIZE = len(src_input)\n",
    "BATCH_SIZE = 256\n",
    "steps_per_epoch = len(src_input) // BATCH_SIZE\n",
    "\n",
    " # tokenizer가 구축한 단어사전 내 12000개와, 여기 포함되지 않은 0:<pad>를 포함하여 12001개\n",
    "VOCAB_SIZE = tokenizer.num_words + 1   \n",
    "\n",
    "# 데이터셋 객체 만들기\n",
    "dataset = tf.data.Dataset.from_tensor_slices((src_input, tgt_input))\n",
    "dataset = dataset.shuffle(BUFFER_SIZE)\n",
    "dataset = dataset.batch(BATCH_SIZE, drop_remainder=True)\n",
    "dataset"
   ]
  },
  {
   "cell_type": "markdown",
   "id": "dd46b88e",
   "metadata": {},
   "source": [
    "### 3. 훈련시키기"
   ]
  },
  {
   "cell_type": "code",
   "execution_count": 298,
   "id": "b5cbf93e",
   "metadata": {},
   "outputs": [],
   "source": [
    "#데이터셋 나누기\n",
    "#train : test = 8 : 2\n",
    "enc_train, enc_val, dec_train, dec_val = train_test_split(src_input, \n",
    "                                                    tgt_input, \n",
    "                                                    test_size=0.2, \n",
    "                                                    random_state=7)"
   ]
  },
  {
   "cell_type": "code",
   "execution_count": 299,
   "id": "140f013d",
   "metadata": {},
   "outputs": [
    {
     "name": "stdout",
     "output_type": "stream",
     "text": [
      "Source Train: (119992, 14)\n",
      "Target Train: (119992, 14)\n"
     ]
    }
   ],
   "source": [
    "print(\"Source Train:\", enc_train.shape)\n",
    "print(\"Target Train:\", dec_train.shape)"
   ]
  },
  {
   "cell_type": "code",
   "execution_count": 300,
   "id": "a45c6241",
   "metadata": {},
   "outputs": [],
   "source": [
    "#문장 생성기 모델\n",
    "class TextGenerator(tf.keras.Model):\n",
    "    def __init__(self, vocab_size, embedding_size, hidden_size):\n",
    "        super().__init__()\n",
    "        \n",
    "        self.embedding = tf.keras.layers.Embedding(vocab_size, embedding_size)\n",
    "        self.rnn_1 = tf.keras.layers.LSTM(hidden_size, return_sequences=True)\n",
    "        self.rnn_2 = tf.keras.layers.LSTM(hidden_size, return_sequences=True)\n",
    "        self.linear = tf.keras.layers.Dense(vocab_size)\n",
    "        \n",
    "    def call(self, x):\n",
    "        out = self.embedding(x)\n",
    "        out = self.rnn_1(out)\n",
    "        out = self.rnn_2(out)\n",
    "        out = self.linear(out)\n",
    "        \n",
    "        return out\n",
    "    \n",
    "embedding_size = 256\n",
    "hidden_size = 1024\n",
    "model = TextGenerator(tokenizer.num_words + 1, embedding_size , hidden_size)"
   ]
  },
  {
   "cell_type": "code",
   "execution_count": 301,
   "id": "c9c30824",
   "metadata": {},
   "outputs": [
    {
     "data": {
      "text/plain": [
       "<tf.Tensor: shape=(256, 14, 15001), dtype=float32, numpy=\n",
       "array([[[ 3.95873321e-05,  1.37586481e-04, -1.13619208e-04, ...,\n",
       "          5.79519219e-05,  8.85828485e-05, -8.17414402e-05],\n",
       "        [ 1.24967701e-04,  8.09032426e-05,  1.37072522e-04, ...,\n",
       "         -1.57536795e-06, -5.66761191e-05, -1.78900773e-05],\n",
       "        [ 1.66950282e-04,  5.04581549e-05,  3.04665242e-04, ...,\n",
       "         -6.00914063e-05, -3.14783538e-04, -1.05146813e-04],\n",
       "        ...,\n",
       "        [-8.22840258e-04,  5.61932451e-04,  3.76066979e-04, ...,\n",
       "          1.17559405e-03,  5.96772297e-05,  7.45888741e-04],\n",
       "        [-4.89803962e-04,  5.82335924e-04,  2.52123456e-04, ...,\n",
       "          1.09432428e-03,  9.60334510e-05,  6.98231161e-04],\n",
       "        [-6.60888036e-05,  5.30260557e-04,  9.22384061e-05, ...,\n",
       "          8.73109326e-04,  1.37662806e-04,  6.57466706e-04]],\n",
       "\n",
       "       [[ 3.95873321e-05,  1.37586481e-04, -1.13619208e-04, ...,\n",
       "          5.79519219e-05,  8.85828485e-05, -8.17414402e-05],\n",
       "        [-3.68156943e-05,  5.37658168e-04, -3.21970700e-04, ...,\n",
       "          1.55548565e-04,  2.33454106e-04, -1.80618328e-04],\n",
       "        [-2.94769765e-04,  4.24280588e-04, -3.49795446e-04, ...,\n",
       "          3.37077276e-04,  3.48711124e-04, -2.09531921e-04],\n",
       "        ...,\n",
       "        [-1.18879625e-03, -5.43190341e-04,  2.07163597e-04, ...,\n",
       "          3.29865026e-04,  6.20838895e-04, -1.74284505e-04],\n",
       "        [-1.15063309e-03, -6.73310831e-04,  4.23761667e-04, ...,\n",
       "          2.61121109e-04,  7.23916979e-04, -4.93997999e-04],\n",
       "        [-1.01441552e-03, -6.56894699e-04,  5.73326775e-04, ...,\n",
       "          2.47405726e-04,  6.43327367e-04, -6.53899566e-04]],\n",
       "\n",
       "       [[ 3.95873321e-05,  1.37586481e-04, -1.13619208e-04, ...,\n",
       "          5.79519219e-05,  8.85828485e-05, -8.17414402e-05],\n",
       "        [-1.35425769e-04,  1.89290906e-04, -1.95865228e-04, ...,\n",
       "          1.57697883e-04,  9.82574711e-05,  6.55934855e-05],\n",
       "        [-1.82273634e-05, -7.62079508e-05, -1.13465641e-04, ...,\n",
       "          5.34093240e-04,  2.34393854e-04,  2.13562118e-04],\n",
       "        ...,\n",
       "        [ 1.21977041e-03, -6.63296203e-04,  3.86205036e-04, ...,\n",
       "         -8.54646787e-04, -4.99488146e-04,  7.24741723e-04],\n",
       "        [ 1.52467936e-03, -7.67821097e-04,  1.52840192e-04, ...,\n",
       "         -1.22478791e-03, -5.51579753e-04,  7.42867880e-04],\n",
       "        [ 1.77633658e-03, -8.88987503e-04, -1.07189488e-04, ...,\n",
       "         -1.59296871e-03, -5.99793741e-04,  8.08206270e-04]],\n",
       "\n",
       "       ...,\n",
       "\n",
       "       [[ 3.95873321e-05,  1.37586481e-04, -1.13619208e-04, ...,\n",
       "          5.79519219e-05,  8.85828485e-05, -8.17414402e-05],\n",
       "        [-5.29912213e-05,  2.86285765e-04, -1.03467682e-04, ...,\n",
       "          1.99694317e-04,  1.47813902e-04, -7.68129830e-05],\n",
       "        [-1.65738369e-04,  5.34312858e-04,  2.75915627e-05, ...,\n",
       "          3.62312130e-04,  1.55847360e-04, -1.35956318e-04],\n",
       "        ...,\n",
       "        [ 1.31968118e-03, -1.16576717e-04, -9.80759971e-04, ...,\n",
       "         -1.75140460e-03, -3.63503175e-04,  2.48713652e-04],\n",
       "        [ 1.57312863e-03, -3.37619713e-04, -1.14322104e-03, ...,\n",
       "         -2.03184760e-03, -4.08022897e-04,  4.54854220e-04],\n",
       "        [ 1.77061488e-03, -5.45125164e-04, -1.31814880e-03, ...,\n",
       "         -2.29939818e-03, -4.45343059e-04,  6.67361019e-04]],\n",
       "\n",
       "       [[ 3.95873321e-05,  1.37586481e-04, -1.13619208e-04, ...,\n",
       "          5.79519219e-05,  8.85828485e-05, -8.17414402e-05],\n",
       "        [ 1.24967701e-04,  8.09032426e-05,  1.37072522e-04, ...,\n",
       "         -1.57536795e-06, -5.66761191e-05, -1.78900773e-05],\n",
       "        [ 3.27210291e-05, -1.58930561e-04,  3.19647574e-04, ...,\n",
       "          1.12702655e-05,  2.03721676e-04, -1.88463411e-04],\n",
       "        ...,\n",
       "        [ 1.93025067e-03, -4.25086968e-04, -4.11794987e-04, ...,\n",
       "         -1.31946651e-03, -2.19264075e-05,  7.08114472e-04],\n",
       "        [ 2.09553586e-03, -5.99106192e-04, -6.78147771e-04, ...,\n",
       "         -1.68882264e-03, -1.16111762e-04,  8.46824376e-04],\n",
       "        [ 2.21448718e-03, -7.69177102e-04, -9.42564977e-04, ...,\n",
       "         -2.03259685e-03, -1.97397050e-04,  1.00411603e-03]],\n",
       "\n",
       "       [[ 3.95873321e-05,  1.37586481e-04, -1.13619208e-04, ...,\n",
       "          5.79519219e-05,  8.85828485e-05, -8.17414402e-05],\n",
       "        [ 1.72594999e-04,  1.39424446e-04, -1.42138219e-04, ...,\n",
       "          2.86490162e-04, -1.25749080e-04, -2.19157751e-04],\n",
       "        [ 2.36495398e-04,  2.17937923e-05,  3.79265985e-05, ...,\n",
       "          3.21327447e-04, -3.52085655e-04, -4.70354338e-04],\n",
       "        ...,\n",
       "        [ 1.08886545e-03,  7.77183333e-04, -2.06865716e-05, ...,\n",
       "         -3.32215786e-05, -4.49134037e-04,  5.55064944e-05],\n",
       "        [ 1.44676713e-03,  6.42057799e-04, -2.38576118e-04, ...,\n",
       "         -3.49932059e-04, -4.59770847e-04,  7.63225325e-05],\n",
       "        [ 1.77287986e-03,  4.47741913e-04, -4.55753092e-04, ...,\n",
       "         -7.08890788e-04, -4.77398891e-04,  1.40678210e-04]]],\n",
       "      dtype=float32)>"
      ]
     },
     "execution_count": 301,
     "metadata": {},
     "output_type": "execute_result"
    }
   ],
   "source": [
    "# 데이터셋에서 데이터 한 배치만 불러오는 방법입니다.\n",
    "# 지금은 동작 원리에 너무 빠져들지 마세요~\n",
    "for src_sample, tgt_sample in dataset.take(1): break\n",
    "\n",
    "# 한 배치만 불러온 데이터를 모델에 넣어봅니다\n",
    "model(src_sample)"
   ]
  },
  {
   "cell_type": "code",
   "execution_count": 302,
   "id": "b42d1370",
   "metadata": {},
   "outputs": [
    {
     "name": "stdout",
     "output_type": "stream",
     "text": [
      "Model: \"text_generator_6\"\n",
      "_________________________________________________________________\n",
      "Layer (type)                 Output Shape              Param #   \n",
      "=================================================================\n",
      "embedding_6 (Embedding)      multiple                  3840256   \n",
      "_________________________________________________________________\n",
      "lstm_12 (LSTM)               multiple                  5246976   \n",
      "_________________________________________________________________\n",
      "lstm_13 (LSTM)               multiple                  8392704   \n",
      "_________________________________________________________________\n",
      "dense_6 (Dense)              multiple                  15376025  \n",
      "=================================================================\n",
      "Total params: 32,855,961\n",
      "Trainable params: 32,855,961\n",
      "Non-trainable params: 0\n",
      "_________________________________________________________________\n"
     ]
    }
   ],
   "source": [
    "model.summary()"
   ]
  },
  {
   "cell_type": "code",
   "execution_count": 303,
   "id": "de31926e",
   "metadata": {},
   "outputs": [
    {
     "name": "stdout",
     "output_type": "stream",
     "text": [
      "Epoch 1/30\n",
      "585/585 [==============================] - 113s 190ms/step - loss: 3.3829\n",
      "Epoch 2/30\n",
      "585/585 [==============================] - 112s 191ms/step - loss: 2.9237\n",
      "Epoch 3/30\n",
      "585/585 [==============================] - 112s 191ms/step - loss: 2.7546\n",
      "Epoch 4/30\n",
      "585/585 [==============================] - 112s 192ms/step - loss: 2.6267\n",
      "Epoch 5/30\n",
      "585/585 [==============================] - 113s 192ms/step - loss: 2.5180\n",
      "Epoch 6/30\n",
      "585/585 [==============================] - 113s 192ms/step - loss: 2.4203\n",
      "Epoch 7/30\n",
      "585/585 [==============================] - 112s 191ms/step - loss: 2.3304\n",
      "Epoch 8/30\n",
      "585/585 [==============================] - 113s 192ms/step - loss: 2.2469\n",
      "Epoch 9/30\n",
      "585/585 [==============================] - 112s 192ms/step - loss: 2.1687\n",
      "Epoch 10/30\n",
      "585/585 [==============================] - 112s 191ms/step - loss: 2.0957\n",
      "Epoch 11/30\n",
      "585/585 [==============================] - 113s 192ms/step - loss: 2.0274\n",
      "Epoch 12/30\n",
      "585/585 [==============================] - 113s 192ms/step - loss: 1.9629\n",
      "Epoch 13/30\n",
      "585/585 [==============================] - 112s 191ms/step - loss: 1.9019\n",
      "Epoch 14/30\n",
      "585/585 [==============================] - 113s 193ms/step - loss: 1.8443\n",
      "Epoch 15/30\n",
      "585/585 [==============================] - 113s 192ms/step - loss: 1.7894\n",
      "Epoch 16/30\n",
      "585/585 [==============================] - 112s 192ms/step - loss: 1.7373\n",
      "Epoch 17/30\n",
      "585/585 [==============================] - 112s 191ms/step - loss: 1.6870\n",
      "Epoch 18/30\n",
      "585/585 [==============================] - 113s 192ms/step - loss: 1.6393\n",
      "Epoch 19/30\n",
      "585/585 [==============================] - 112s 192ms/step - loss: 1.5932\n",
      "Epoch 20/30\n",
      "585/585 [==============================] - 112s 192ms/step - loss: 1.5492\n",
      "Epoch 21/30\n",
      "585/585 [==============================] - 112s 191ms/step - loss: 1.5073\n",
      "Epoch 22/30\n",
      "585/585 [==============================] - 112s 192ms/step - loss: 1.4665\n",
      "Epoch 23/30\n",
      "585/585 [==============================] - 112s 191ms/step - loss: 1.4279\n",
      "Epoch 24/30\n",
      "585/585 [==============================] - 112s 191ms/step - loss: 1.3917\n",
      "Epoch 25/30\n",
      "585/585 [==============================] - 112s 191ms/step - loss: 1.3565\n",
      "Epoch 26/30\n",
      "585/585 [==============================] - 112s 191ms/step - loss: 1.3231\n",
      "Epoch 27/30\n",
      "585/585 [==============================] - 111s 190ms/step - loss: 1.2915\n",
      "Epoch 28/30\n",
      "585/585 [==============================] - 112s 190ms/step - loss: 1.2619\n",
      "Epoch 29/30\n",
      "585/585 [==============================] - 111s 190ms/step - loss: 1.2336\n",
      "Epoch 30/30\n",
      "585/585 [==============================] - 111s 190ms/step - loss: 1.2069\n"
     ]
    },
    {
     "data": {
      "text/plain": [
       "<keras.callbacks.History at 0x7f7f7979e520>"
      ]
     },
     "execution_count": 303,
     "metadata": {},
     "output_type": "execute_result"
    }
   ],
   "source": [
    "optimizer = tf.keras.optimizers.Adam()\n",
    "loss = tf.keras.losses.SparseCategoricalCrossentropy(\n",
    "    from_logits=True, reduction='none')\n",
    "\n",
    "model.compile(loss=loss, optimizer=optimizer)\n",
    "model.fit(dataset, epochs=30)"
   ]
  },
  {
   "cell_type": "code",
   "execution_count": 307,
   "id": "7207cce2",
   "metadata": {},
   "outputs": [],
   "source": [
    "def generate_text(model, tokenizer, init_sentence=\"<start>\", max_len=20):\n",
    "    # 테스트를 위해서 입력받은 init_sentence도 텐서로 변환합니다\n",
    "    test_input = tokenizer.texts_to_sequences([init_sentence])\n",
    "    test_tensor = tf.convert_to_tensor(test_input, dtype=tf.int64)\n",
    "    end_token = tokenizer.word_index[\"<end>\"]\n",
    "\n",
    "    # 단어 하나씩 예측하는 루프\n",
    "    while True:\n",
    "        # 1 입력받은 문장의 텐서를 입력\n",
    "        predict = model(test_tensor) \n",
    "        # 2 예측된 값 중 가장 높은 확률인 word index를 뽑아냄\n",
    "        predict_word = tf.argmax(tf.nn.softmax(predict, axis=-1), axis=-1)[:, -1] \n",
    "        # 3 2에서 예측된 word index를 문장 뒤에 붙임\n",
    "        test_tensor = tf.concat([test_tensor, tf.expand_dims(predict_word, axis=0)], axis=-1)\n",
    "        # 4 모델이 <end>를 예측했거나, max_len에 도달했다면 문장 생성을 마침\n",
    "        if predict_word.numpy()[0] == end_token: break\n",
    "        if test_tensor.shape[1] >= max_len: break\n",
    "\n",
    "    generated = \"\"\n",
    "    # tokenizer를 이용해 word index를 단어로 하나씩 변환합니다 \n",
    "    for word_index in test_tensor[0].numpy():\n",
    "        generated += tokenizer.index_word[word_index] + \" \"\n",
    "\n",
    "    return generated"
   ]
  },
  {
   "cell_type": "code",
   "execution_count": 313,
   "id": "378c8130",
   "metadata": {},
   "outputs": [
    {
     "data": {
      "text/plain": [
       "'<start> i know you hear me <end> '"
      ]
     },
     "execution_count": 313,
     "metadata": {},
     "output_type": "execute_result"
    }
   ],
   "source": [
    "generate_text(model, tokenizer, init_sentence=\"<start> i know\", max_len=15)"
   ]
  },
  {
   "cell_type": "code",
   "execution_count": 314,
   "id": "b96a6ea3",
   "metadata": {},
   "outputs": [
    {
     "data": {
      "text/plain": [
       "'<start> why you wanna get with me <end> '"
      ]
     },
     "execution_count": 314,
     "metadata": {},
     "output_type": "execute_result"
    }
   ],
   "source": [
    "generate_text(model, tokenizer, init_sentence=\"<start> why \", max_len=15)"
   ]
  }
 ],
 "metadata": {
  "kernelspec": {
   "display_name": "Python 3 (ipykernel)",
   "language": "python",
   "name": "python3"
  },
  "language_info": {
   "codemirror_mode": {
    "name": "ipython",
    "version": 3
   },
   "file_extension": ".py",
   "mimetype": "text/x-python",
   "name": "python",
   "nbconvert_exporter": "python",
   "pygments_lexer": "ipython3",
   "version": "3.9.7"
  }
 },
 "nbformat": 4,
 "nbformat_minor": 5
}
