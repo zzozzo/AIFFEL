{
 "cells": [
  {
   "cell_type": "code",
   "execution_count": 1,
   "id": "1ac81add",
   "metadata": {},
   "outputs": [],
   "source": [
    "import matplotlib.pyplot as plt\n",
    "\n",
    "import warnings\n",
    "warnings.filterwarnings(\"ignore\")\n",
    "\n",
    "import os\n",
    "from os.path import join\n",
    "\n",
    "import pandas as pd\n",
    "import numpy as np\n",
    "\n",
    "import missingno as msno\n",
    "\n",
    "from sklearn.ensemble import GradientBoostingRegressor\n",
    "from sklearn.model_selection import KFold, cross_val_score\n",
    "from sklearn.model_selection import train_test_split\n",
    "from sklearn.metrics import mean_squared_error\n",
    "from sklearn.model_selection import GridSearchCV\n",
    "import xgboost as xgb\n",
    "import lightgbm as lgb\n",
    "\n",
    "import matplotlib.pyplot as plt\n",
    "import seaborn as sns\n",
    "from xgboost import XGBRegressor\n",
    "from lightgbm import LGBMRegressor\n",
    "from sklearn.ensemble import GradientBoostingRegressor, RandomForestRegressor\n",
    "\n",
    "import scipy as sp"
   ]
  },
  {
   "cell_type": "markdown",
   "id": "cbd86af7",
   "metadata": {},
   "source": [
    "### 데이터 불러오기"
   ]
  },
  {
   "cell_type": "markdown",
   "id": "29c0fe4a",
   "metadata": {},
   "source": [
    "__데이터의 각 변수의 의미__\n",
    "1. ID : 집을 구분하는 번호\n",
    "2. date : 집을 구매한 날짜\n",
    "3. price : 타겟 변수인 집의 가격\n",
    "4. bedrooms : 침실의 수\n",
    "5. bathrooms : 침실당 화장실 개수\n",
    "6. sqft_living : 주거 공간의 평방 피트\n",
    "7. sqft_lot : 부지의 평방 피트\n",
    "8. floors : 집의 층수\n",
    "9. waterfront : 집의 전방에 강이 흐르는지 유무 (a.k.a. 리버뷰)\n",
    "10. view : 집이 얼마나 좋아 보이는지의 정도\n",
    "11. condition : 집의 전반적인 상태\n",
    "12. grade : King County grading 시스템 기준으로 매긴 집의 등급\n",
    "13. sqft_above : 지하실을 제외한 평방 피트\n",
    "14. sqft_basement : 지하실의 평방 피트\n",
    "15. yr_built : 집을 지은 년도\n",
    "16. yr_renovated : 집을 재건축한 년도\n",
    "17. zipcode : 우편번호\n",
    "18. lat : 위도\n",
    "19. long : 경도\n",
    "20. sqft_living15 : 2015년 기준 주거 공간의 평방 피트(집을 재건축했다면, 변화가 있을 수 있음)\n",
    "21. sqft_lot15 : 2015년 기준 부지의 평방 피트(집을 재건축했다면, 변화가 있을 수 있음)   \n",
    "\n",
    "이 특징들을 이용해 집 값을 예측하게 됨"
   ]
  },
  {
   "cell_type": "code",
   "execution_count": 2,
   "id": "5fa9303f",
   "metadata": {},
   "outputs": [],
   "source": [
    "data_dir = os.getenv('HOME')+'/aiffel/kaggle_kakr_housing/data'\n",
    "\n",
    "train_data_path = join(data_dir, 'train.csv')\n",
    "sub_data_path = join(data_dir, 'test.csv')  \n",
    "\n",
    "data = pd.read_csv(train_data_path)\n",
    "sub = pd.read_csv(sub_data_path)"
   ]
  },
  {
   "cell_type": "markdown",
   "id": "cd871491",
   "metadata": {},
   "source": [
    "### EDA"
   ]
  },
  {
   "cell_type": "code",
   "execution_count": 3,
   "id": "e6588f3e",
   "metadata": {},
   "outputs": [
    {
     "name": "stdout",
     "output_type": "stream",
     "text": [
      "train data dim : (15035, 21)\n",
      "sub data dim : (6468, 20)\n"
     ]
    }
   ],
   "source": [
    "#데이터 shape 확인하기\n",
    "print('train data dim : {}'.format(data.shape))\n",
    "print('sub data dim : {}'.format(sub.shape))"
   ]
  },
  {
   "cell_type": "code",
   "execution_count": 4,
   "id": "7ca8a6cf",
   "metadata": {},
   "outputs": [
    {
     "name": "stdout",
     "output_type": "stream",
     "text": [
      "Index(['id', 'date', 'price', 'bedrooms', 'bathrooms', 'sqft_living',\n",
      "       'sqft_lot', 'floors', 'waterfront', 'view', 'condition', 'grade',\n",
      "       'sqft_above', 'sqft_basement', 'yr_built', 'yr_renovated', 'zipcode',\n",
      "       'lat', 'long', 'sqft_living15', 'sqft_lot15'],\n",
      "      dtype='object')\n",
      "Index(['id', 'date', 'bedrooms', 'bathrooms', 'sqft_living', 'sqft_lot',\n",
      "       'floors', 'waterfront', 'view', 'condition', 'grade', 'sqft_above',\n",
      "       'sqft_basement', 'yr_built', 'yr_renovated', 'zipcode', 'lat', 'long',\n",
      "       'sqft_living15', 'sqft_lot15'],\n",
      "      dtype='object')\n"
     ]
    }
   ],
   "source": [
    "#trian, test set의 컬럼명 확인하기\n",
    "print(data.columns)\n",
    "print(sub.columns)"
   ]
  },
  {
   "cell_type": "code",
   "execution_count": 5,
   "id": "4b6d2dce",
   "metadata": {},
   "outputs": [],
   "source": [
    "#id 컬럼 삭제\n",
    "sub_data_id = data['id']\n",
    "del data['id']\n",
    "\n",
    "sub_sub_id = sub['id']\n",
    "del sub['id']"
   ]
  },
  {
   "cell_type": "code",
   "execution_count": 6,
   "id": "b3ad2b89",
   "metadata": {},
   "outputs": [
    {
     "data": {
      "text/html": [
       "<div>\n",
       "<style scoped>\n",
       "    .dataframe tbody tr th:only-of-type {\n",
       "        vertical-align: middle;\n",
       "    }\n",
       "\n",
       "    .dataframe tbody tr th {\n",
       "        vertical-align: top;\n",
       "    }\n",
       "\n",
       "    .dataframe thead th {\n",
       "        text-align: right;\n",
       "    }\n",
       "</style>\n",
       "<table border=\"1\" class=\"dataframe\">\n",
       "  <thead>\n",
       "    <tr style=\"text-align: right;\">\n",
       "      <th></th>\n",
       "      <th>date</th>\n",
       "      <th>price</th>\n",
       "      <th>bedrooms</th>\n",
       "      <th>bathrooms</th>\n",
       "      <th>sqft_living</th>\n",
       "      <th>sqft_lot</th>\n",
       "      <th>floors</th>\n",
       "      <th>waterfront</th>\n",
       "      <th>view</th>\n",
       "      <th>condition</th>\n",
       "      <th>grade</th>\n",
       "      <th>sqft_above</th>\n",
       "      <th>sqft_basement</th>\n",
       "      <th>yr_built</th>\n",
       "      <th>yr_renovated</th>\n",
       "      <th>zipcode</th>\n",
       "      <th>lat</th>\n",
       "      <th>long</th>\n",
       "      <th>sqft_living15</th>\n",
       "      <th>sqft_lot15</th>\n",
       "    </tr>\n",
       "  </thead>\n",
       "  <tbody>\n",
       "    <tr>\n",
       "      <th>0</th>\n",
       "      <td>20141013T000000</td>\n",
       "      <td>221900.0</td>\n",
       "      <td>3</td>\n",
       "      <td>1.00</td>\n",
       "      <td>1180</td>\n",
       "      <td>5650</td>\n",
       "      <td>1.0</td>\n",
       "      <td>0</td>\n",
       "      <td>0</td>\n",
       "      <td>3</td>\n",
       "      <td>7</td>\n",
       "      <td>1180</td>\n",
       "      <td>0</td>\n",
       "      <td>1955</td>\n",
       "      <td>0</td>\n",
       "      <td>98178</td>\n",
       "      <td>47.5112</td>\n",
       "      <td>-122.257</td>\n",
       "      <td>1340</td>\n",
       "      <td>5650</td>\n",
       "    </tr>\n",
       "    <tr>\n",
       "      <th>1</th>\n",
       "      <td>20150225T000000</td>\n",
       "      <td>180000.0</td>\n",
       "      <td>2</td>\n",
       "      <td>1.00</td>\n",
       "      <td>770</td>\n",
       "      <td>10000</td>\n",
       "      <td>1.0</td>\n",
       "      <td>0</td>\n",
       "      <td>0</td>\n",
       "      <td>3</td>\n",
       "      <td>6</td>\n",
       "      <td>770</td>\n",
       "      <td>0</td>\n",
       "      <td>1933</td>\n",
       "      <td>0</td>\n",
       "      <td>98028</td>\n",
       "      <td>47.7379</td>\n",
       "      <td>-122.233</td>\n",
       "      <td>2720</td>\n",
       "      <td>8062</td>\n",
       "    </tr>\n",
       "    <tr>\n",
       "      <th>2</th>\n",
       "      <td>20150218T000000</td>\n",
       "      <td>510000.0</td>\n",
       "      <td>3</td>\n",
       "      <td>2.00</td>\n",
       "      <td>1680</td>\n",
       "      <td>8080</td>\n",
       "      <td>1.0</td>\n",
       "      <td>0</td>\n",
       "      <td>0</td>\n",
       "      <td>3</td>\n",
       "      <td>8</td>\n",
       "      <td>1680</td>\n",
       "      <td>0</td>\n",
       "      <td>1987</td>\n",
       "      <td>0</td>\n",
       "      <td>98074</td>\n",
       "      <td>47.6168</td>\n",
       "      <td>-122.045</td>\n",
       "      <td>1800</td>\n",
       "      <td>7503</td>\n",
       "    </tr>\n",
       "    <tr>\n",
       "      <th>3</th>\n",
       "      <td>20140627T000000</td>\n",
       "      <td>257500.0</td>\n",
       "      <td>3</td>\n",
       "      <td>2.25</td>\n",
       "      <td>1715</td>\n",
       "      <td>6819</td>\n",
       "      <td>2.0</td>\n",
       "      <td>0</td>\n",
       "      <td>0</td>\n",
       "      <td>3</td>\n",
       "      <td>7</td>\n",
       "      <td>1715</td>\n",
       "      <td>0</td>\n",
       "      <td>1995</td>\n",
       "      <td>0</td>\n",
       "      <td>98003</td>\n",
       "      <td>47.3097</td>\n",
       "      <td>-122.327</td>\n",
       "      <td>2238</td>\n",
       "      <td>6819</td>\n",
       "    </tr>\n",
       "    <tr>\n",
       "      <th>4</th>\n",
       "      <td>20150115T000000</td>\n",
       "      <td>291850.0</td>\n",
       "      <td>3</td>\n",
       "      <td>1.50</td>\n",
       "      <td>1060</td>\n",
       "      <td>9711</td>\n",
       "      <td>1.0</td>\n",
       "      <td>0</td>\n",
       "      <td>0</td>\n",
       "      <td>3</td>\n",
       "      <td>7</td>\n",
       "      <td>1060</td>\n",
       "      <td>0</td>\n",
       "      <td>1963</td>\n",
       "      <td>0</td>\n",
       "      <td>98198</td>\n",
       "      <td>47.4095</td>\n",
       "      <td>-122.315</td>\n",
       "      <td>1650</td>\n",
       "      <td>9711</td>\n",
       "    </tr>\n",
       "  </tbody>\n",
       "</table>\n",
       "</div>"
      ],
      "text/plain": [
       "              date     price  bedrooms  bathrooms  sqft_living  sqft_lot  \\\n",
       "0  20141013T000000  221900.0         3       1.00         1180      5650   \n",
       "1  20150225T000000  180000.0         2       1.00          770     10000   \n",
       "2  20150218T000000  510000.0         3       2.00         1680      8080   \n",
       "3  20140627T000000  257500.0         3       2.25         1715      6819   \n",
       "4  20150115T000000  291850.0         3       1.50         1060      9711   \n",
       "\n",
       "   floors  waterfront  view  condition  grade  sqft_above  sqft_basement  \\\n",
       "0     1.0           0     0          3      7        1180              0   \n",
       "1     1.0           0     0          3      6         770              0   \n",
       "2     1.0           0     0          3      8        1680              0   \n",
       "3     2.0           0     0          3      7        1715              0   \n",
       "4     1.0           0     0          3      7        1060              0   \n",
       "\n",
       "   yr_built  yr_renovated  zipcode      lat     long  sqft_living15  \\\n",
       "0      1955             0    98178  47.5112 -122.257           1340   \n",
       "1      1933             0    98028  47.7379 -122.233           2720   \n",
       "2      1987             0    98074  47.6168 -122.045           1800   \n",
       "3      1995             0    98003  47.3097 -122.327           2238   \n",
       "4      1963             0    98198  47.4095 -122.315           1650   \n",
       "\n",
       "   sqft_lot15  \n",
       "0        5650  \n",
       "1        8062  \n",
       "2        7503  \n",
       "3        6819  \n",
       "4        9711  "
      ]
     },
     "execution_count": 6,
     "metadata": {},
     "output_type": "execute_result"
    }
   ],
   "source": [
    "data.head()"
   ]
  },
  {
   "cell_type": "code",
   "execution_count": 7,
   "id": "a5195298",
   "metadata": {},
   "outputs": [
    {
     "data": {
      "text/html": [
       "<div>\n",
       "<style scoped>\n",
       "    .dataframe tbody tr th:only-of-type {\n",
       "        vertical-align: middle;\n",
       "    }\n",
       "\n",
       "    .dataframe tbody tr th {\n",
       "        vertical-align: top;\n",
       "    }\n",
       "\n",
       "    .dataframe thead th {\n",
       "        text-align: right;\n",
       "    }\n",
       "</style>\n",
       "<table border=\"1\" class=\"dataframe\">\n",
       "  <thead>\n",
       "    <tr style=\"text-align: right;\">\n",
       "      <th></th>\n",
       "      <th>date</th>\n",
       "      <th>bedrooms</th>\n",
       "      <th>bathrooms</th>\n",
       "      <th>sqft_living</th>\n",
       "      <th>sqft_lot</th>\n",
       "      <th>floors</th>\n",
       "      <th>waterfront</th>\n",
       "      <th>view</th>\n",
       "      <th>condition</th>\n",
       "      <th>grade</th>\n",
       "      <th>sqft_above</th>\n",
       "      <th>sqft_basement</th>\n",
       "      <th>yr_built</th>\n",
       "      <th>yr_renovated</th>\n",
       "      <th>zipcode</th>\n",
       "      <th>lat</th>\n",
       "      <th>long</th>\n",
       "      <th>sqft_living15</th>\n",
       "      <th>sqft_lot15</th>\n",
       "    </tr>\n",
       "  </thead>\n",
       "  <tbody>\n",
       "    <tr>\n",
       "      <th>0</th>\n",
       "      <td>20141209T000000</td>\n",
       "      <td>3</td>\n",
       "      <td>2.25</td>\n",
       "      <td>2570</td>\n",
       "      <td>7242</td>\n",
       "      <td>2.0</td>\n",
       "      <td>0</td>\n",
       "      <td>0</td>\n",
       "      <td>3</td>\n",
       "      <td>7</td>\n",
       "      <td>2170</td>\n",
       "      <td>400</td>\n",
       "      <td>1951</td>\n",
       "      <td>1991</td>\n",
       "      <td>98125</td>\n",
       "      <td>47.7210</td>\n",
       "      <td>-122.319</td>\n",
       "      <td>1690</td>\n",
       "      <td>7639</td>\n",
       "    </tr>\n",
       "    <tr>\n",
       "      <th>1</th>\n",
       "      <td>20141209T000000</td>\n",
       "      <td>4</td>\n",
       "      <td>3.00</td>\n",
       "      <td>1960</td>\n",
       "      <td>5000</td>\n",
       "      <td>1.0</td>\n",
       "      <td>0</td>\n",
       "      <td>0</td>\n",
       "      <td>5</td>\n",
       "      <td>7</td>\n",
       "      <td>1050</td>\n",
       "      <td>910</td>\n",
       "      <td>1965</td>\n",
       "      <td>0</td>\n",
       "      <td>98136</td>\n",
       "      <td>47.5208</td>\n",
       "      <td>-122.393</td>\n",
       "      <td>1360</td>\n",
       "      <td>5000</td>\n",
       "    </tr>\n",
       "    <tr>\n",
       "      <th>2</th>\n",
       "      <td>20140512T000000</td>\n",
       "      <td>4</td>\n",
       "      <td>4.50</td>\n",
       "      <td>5420</td>\n",
       "      <td>101930</td>\n",
       "      <td>1.0</td>\n",
       "      <td>0</td>\n",
       "      <td>0</td>\n",
       "      <td>3</td>\n",
       "      <td>11</td>\n",
       "      <td>3890</td>\n",
       "      <td>1530</td>\n",
       "      <td>2001</td>\n",
       "      <td>0</td>\n",
       "      <td>98053</td>\n",
       "      <td>47.6561</td>\n",
       "      <td>-122.005</td>\n",
       "      <td>4760</td>\n",
       "      <td>101930</td>\n",
       "    </tr>\n",
       "    <tr>\n",
       "      <th>3</th>\n",
       "      <td>20150415T000000</td>\n",
       "      <td>3</td>\n",
       "      <td>1.00</td>\n",
       "      <td>1780</td>\n",
       "      <td>7470</td>\n",
       "      <td>1.0</td>\n",
       "      <td>0</td>\n",
       "      <td>0</td>\n",
       "      <td>3</td>\n",
       "      <td>7</td>\n",
       "      <td>1050</td>\n",
       "      <td>730</td>\n",
       "      <td>1960</td>\n",
       "      <td>0</td>\n",
       "      <td>98146</td>\n",
       "      <td>47.5123</td>\n",
       "      <td>-122.337</td>\n",
       "      <td>1780</td>\n",
       "      <td>8113</td>\n",
       "    </tr>\n",
       "    <tr>\n",
       "      <th>4</th>\n",
       "      <td>20150312T000000</td>\n",
       "      <td>3</td>\n",
       "      <td>2.50</td>\n",
       "      <td>1890</td>\n",
       "      <td>6560</td>\n",
       "      <td>2.0</td>\n",
       "      <td>0</td>\n",
       "      <td>0</td>\n",
       "      <td>3</td>\n",
       "      <td>7</td>\n",
       "      <td>1890</td>\n",
       "      <td>0</td>\n",
       "      <td>2003</td>\n",
       "      <td>0</td>\n",
       "      <td>98038</td>\n",
       "      <td>47.3684</td>\n",
       "      <td>-122.031</td>\n",
       "      <td>2390</td>\n",
       "      <td>7570</td>\n",
       "    </tr>\n",
       "  </tbody>\n",
       "</table>\n",
       "</div>"
      ],
      "text/plain": [
       "              date  bedrooms  bathrooms  sqft_living  sqft_lot  floors  \\\n",
       "0  20141209T000000         3       2.25         2570      7242     2.0   \n",
       "1  20141209T000000         4       3.00         1960      5000     1.0   \n",
       "2  20140512T000000         4       4.50         5420    101930     1.0   \n",
       "3  20150415T000000         3       1.00         1780      7470     1.0   \n",
       "4  20150312T000000         3       2.50         1890      6560     2.0   \n",
       "\n",
       "   waterfront  view  condition  grade  sqft_above  sqft_basement  yr_built  \\\n",
       "0           0     0          3      7        2170            400      1951   \n",
       "1           0     0          5      7        1050            910      1965   \n",
       "2           0     0          3     11        3890           1530      2001   \n",
       "3           0     0          3      7        1050            730      1960   \n",
       "4           0     0          3      7        1890              0      2003   \n",
       "\n",
       "   yr_renovated  zipcode      lat     long  sqft_living15  sqft_lot15  \n",
       "0          1991    98125  47.7210 -122.319           1690        7639  \n",
       "1             0    98136  47.5208 -122.393           1360        5000  \n",
       "2             0    98053  47.6561 -122.005           4760      101930  \n",
       "3             0    98146  47.5123 -122.337           1780        8113  \n",
       "4             0    98038  47.3684 -122.031           2390        7570  "
      ]
     },
     "execution_count": 7,
     "metadata": {},
     "output_type": "execute_result"
    }
   ],
   "source": [
    "sub.head()"
   ]
  },
  {
   "cell_type": "markdown",
   "id": "cda10cda",
   "metadata": {},
   "source": [
    "__date의 형식 변경 -> 일자 T부터 삭제__"
   ]
  },
  {
   "cell_type": "code",
   "execution_count": 8,
   "id": "9e0b842c",
   "metadata": {},
   "outputs": [
    {
     "data": {
      "text/html": [
       "<div>\n",
       "<style scoped>\n",
       "    .dataframe tbody tr th:only-of-type {\n",
       "        vertical-align: middle;\n",
       "    }\n",
       "\n",
       "    .dataframe tbody tr th {\n",
       "        vertical-align: top;\n",
       "    }\n",
       "\n",
       "    .dataframe thead th {\n",
       "        text-align: right;\n",
       "    }\n",
       "</style>\n",
       "<table border=\"1\" class=\"dataframe\">\n",
       "  <thead>\n",
       "    <tr style=\"text-align: right;\">\n",
       "      <th></th>\n",
       "      <th>date</th>\n",
       "      <th>price</th>\n",
       "      <th>bedrooms</th>\n",
       "      <th>bathrooms</th>\n",
       "      <th>sqft_living</th>\n",
       "      <th>sqft_lot</th>\n",
       "      <th>floors</th>\n",
       "      <th>waterfront</th>\n",
       "      <th>view</th>\n",
       "      <th>condition</th>\n",
       "      <th>grade</th>\n",
       "      <th>sqft_above</th>\n",
       "      <th>sqft_basement</th>\n",
       "      <th>yr_built</th>\n",
       "      <th>yr_renovated</th>\n",
       "      <th>zipcode</th>\n",
       "      <th>lat</th>\n",
       "      <th>long</th>\n",
       "      <th>sqft_living15</th>\n",
       "      <th>sqft_lot15</th>\n",
       "    </tr>\n",
       "  </thead>\n",
       "  <tbody>\n",
       "    <tr>\n",
       "      <th>0</th>\n",
       "      <td>20141013</td>\n",
       "      <td>221900.0</td>\n",
       "      <td>3</td>\n",
       "      <td>1.00</td>\n",
       "      <td>1180</td>\n",
       "      <td>5650</td>\n",
       "      <td>1.0</td>\n",
       "      <td>0</td>\n",
       "      <td>0</td>\n",
       "      <td>3</td>\n",
       "      <td>7</td>\n",
       "      <td>1180</td>\n",
       "      <td>0</td>\n",
       "      <td>1955</td>\n",
       "      <td>0</td>\n",
       "      <td>98178</td>\n",
       "      <td>47.5112</td>\n",
       "      <td>-122.257</td>\n",
       "      <td>1340</td>\n",
       "      <td>5650</td>\n",
       "    </tr>\n",
       "    <tr>\n",
       "      <th>1</th>\n",
       "      <td>20150225</td>\n",
       "      <td>180000.0</td>\n",
       "      <td>2</td>\n",
       "      <td>1.00</td>\n",
       "      <td>770</td>\n",
       "      <td>10000</td>\n",
       "      <td>1.0</td>\n",
       "      <td>0</td>\n",
       "      <td>0</td>\n",
       "      <td>3</td>\n",
       "      <td>6</td>\n",
       "      <td>770</td>\n",
       "      <td>0</td>\n",
       "      <td>1933</td>\n",
       "      <td>0</td>\n",
       "      <td>98028</td>\n",
       "      <td>47.7379</td>\n",
       "      <td>-122.233</td>\n",
       "      <td>2720</td>\n",
       "      <td>8062</td>\n",
       "    </tr>\n",
       "    <tr>\n",
       "      <th>2</th>\n",
       "      <td>20150218</td>\n",
       "      <td>510000.0</td>\n",
       "      <td>3</td>\n",
       "      <td>2.00</td>\n",
       "      <td>1680</td>\n",
       "      <td>8080</td>\n",
       "      <td>1.0</td>\n",
       "      <td>0</td>\n",
       "      <td>0</td>\n",
       "      <td>3</td>\n",
       "      <td>8</td>\n",
       "      <td>1680</td>\n",
       "      <td>0</td>\n",
       "      <td>1987</td>\n",
       "      <td>0</td>\n",
       "      <td>98074</td>\n",
       "      <td>47.6168</td>\n",
       "      <td>-122.045</td>\n",
       "      <td>1800</td>\n",
       "      <td>7503</td>\n",
       "    </tr>\n",
       "    <tr>\n",
       "      <th>3</th>\n",
       "      <td>20140627</td>\n",
       "      <td>257500.0</td>\n",
       "      <td>3</td>\n",
       "      <td>2.25</td>\n",
       "      <td>1715</td>\n",
       "      <td>6819</td>\n",
       "      <td>2.0</td>\n",
       "      <td>0</td>\n",
       "      <td>0</td>\n",
       "      <td>3</td>\n",
       "      <td>7</td>\n",
       "      <td>1715</td>\n",
       "      <td>0</td>\n",
       "      <td>1995</td>\n",
       "      <td>0</td>\n",
       "      <td>98003</td>\n",
       "      <td>47.3097</td>\n",
       "      <td>-122.327</td>\n",
       "      <td>2238</td>\n",
       "      <td>6819</td>\n",
       "    </tr>\n",
       "    <tr>\n",
       "      <th>4</th>\n",
       "      <td>20150115</td>\n",
       "      <td>291850.0</td>\n",
       "      <td>3</td>\n",
       "      <td>1.50</td>\n",
       "      <td>1060</td>\n",
       "      <td>9711</td>\n",
       "      <td>1.0</td>\n",
       "      <td>0</td>\n",
       "      <td>0</td>\n",
       "      <td>3</td>\n",
       "      <td>7</td>\n",
       "      <td>1060</td>\n",
       "      <td>0</td>\n",
       "      <td>1963</td>\n",
       "      <td>0</td>\n",
       "      <td>98198</td>\n",
       "      <td>47.4095</td>\n",
       "      <td>-122.315</td>\n",
       "      <td>1650</td>\n",
       "      <td>9711</td>\n",
       "    </tr>\n",
       "  </tbody>\n",
       "</table>\n",
       "</div>"
      ],
      "text/plain": [
       "       date     price  bedrooms  bathrooms  sqft_living  sqft_lot  floors  \\\n",
       "0  20141013  221900.0         3       1.00         1180      5650     1.0   \n",
       "1  20150225  180000.0         2       1.00          770     10000     1.0   \n",
       "2  20150218  510000.0         3       2.00         1680      8080     1.0   \n",
       "3  20140627  257500.0         3       2.25         1715      6819     2.0   \n",
       "4  20150115  291850.0         3       1.50         1060      9711     1.0   \n",
       "\n",
       "   waterfront  view  condition  grade  sqft_above  sqft_basement  yr_built  \\\n",
       "0           0     0          3      7        1180              0      1955   \n",
       "1           0     0          3      6         770              0      1933   \n",
       "2           0     0          3      8        1680              0      1987   \n",
       "3           0     0          3      7        1715              0      1995   \n",
       "4           0     0          3      7        1060              0      1963   \n",
       "\n",
       "   yr_renovated  zipcode      lat     long  sqft_living15  sqft_lot15  \n",
       "0             0    98178  47.5112 -122.257           1340        5650  \n",
       "1             0    98028  47.7379 -122.233           2720        8062  \n",
       "2             0    98074  47.6168 -122.045           1800        7503  \n",
       "3             0    98003  47.3097 -122.327           2238        6819  \n",
       "4             0    98198  47.4095 -122.315           1650        9711  "
      ]
     },
     "execution_count": 8,
     "metadata": {},
     "output_type": "execute_result"
    }
   ],
   "source": [
    "data['date'] = data['date'].apply(lambda x : str(x[:8])).astype(int)\n",
    "data.head()"
   ]
  },
  {
   "cell_type": "code",
   "execution_count": 9,
   "id": "4c1f36e6",
   "metadata": {},
   "outputs": [
    {
     "data": {
      "text/html": [
       "<div>\n",
       "<style scoped>\n",
       "    .dataframe tbody tr th:only-of-type {\n",
       "        vertical-align: middle;\n",
       "    }\n",
       "\n",
       "    .dataframe tbody tr th {\n",
       "        vertical-align: top;\n",
       "    }\n",
       "\n",
       "    .dataframe thead th {\n",
       "        text-align: right;\n",
       "    }\n",
       "</style>\n",
       "<table border=\"1\" class=\"dataframe\">\n",
       "  <thead>\n",
       "    <tr style=\"text-align: right;\">\n",
       "      <th></th>\n",
       "      <th>date</th>\n",
       "      <th>bedrooms</th>\n",
       "      <th>bathrooms</th>\n",
       "      <th>sqft_living</th>\n",
       "      <th>sqft_lot</th>\n",
       "      <th>floors</th>\n",
       "      <th>waterfront</th>\n",
       "      <th>view</th>\n",
       "      <th>condition</th>\n",
       "      <th>grade</th>\n",
       "      <th>sqft_above</th>\n",
       "      <th>sqft_basement</th>\n",
       "      <th>yr_built</th>\n",
       "      <th>yr_renovated</th>\n",
       "      <th>zipcode</th>\n",
       "      <th>lat</th>\n",
       "      <th>long</th>\n",
       "      <th>sqft_living15</th>\n",
       "      <th>sqft_lot15</th>\n",
       "    </tr>\n",
       "  </thead>\n",
       "  <tbody>\n",
       "    <tr>\n",
       "      <th>0</th>\n",
       "      <td>20141209</td>\n",
       "      <td>3</td>\n",
       "      <td>2.25</td>\n",
       "      <td>2570</td>\n",
       "      <td>7242</td>\n",
       "      <td>2.0</td>\n",
       "      <td>0</td>\n",
       "      <td>0</td>\n",
       "      <td>3</td>\n",
       "      <td>7</td>\n",
       "      <td>2170</td>\n",
       "      <td>400</td>\n",
       "      <td>1951</td>\n",
       "      <td>1991</td>\n",
       "      <td>98125</td>\n",
       "      <td>47.7210</td>\n",
       "      <td>-122.319</td>\n",
       "      <td>1690</td>\n",
       "      <td>7639</td>\n",
       "    </tr>\n",
       "    <tr>\n",
       "      <th>1</th>\n",
       "      <td>20141209</td>\n",
       "      <td>4</td>\n",
       "      <td>3.00</td>\n",
       "      <td>1960</td>\n",
       "      <td>5000</td>\n",
       "      <td>1.0</td>\n",
       "      <td>0</td>\n",
       "      <td>0</td>\n",
       "      <td>5</td>\n",
       "      <td>7</td>\n",
       "      <td>1050</td>\n",
       "      <td>910</td>\n",
       "      <td>1965</td>\n",
       "      <td>0</td>\n",
       "      <td>98136</td>\n",
       "      <td>47.5208</td>\n",
       "      <td>-122.393</td>\n",
       "      <td>1360</td>\n",
       "      <td>5000</td>\n",
       "    </tr>\n",
       "    <tr>\n",
       "      <th>2</th>\n",
       "      <td>20140512</td>\n",
       "      <td>4</td>\n",
       "      <td>4.50</td>\n",
       "      <td>5420</td>\n",
       "      <td>101930</td>\n",
       "      <td>1.0</td>\n",
       "      <td>0</td>\n",
       "      <td>0</td>\n",
       "      <td>3</td>\n",
       "      <td>11</td>\n",
       "      <td>3890</td>\n",
       "      <td>1530</td>\n",
       "      <td>2001</td>\n",
       "      <td>0</td>\n",
       "      <td>98053</td>\n",
       "      <td>47.6561</td>\n",
       "      <td>-122.005</td>\n",
       "      <td>4760</td>\n",
       "      <td>101930</td>\n",
       "    </tr>\n",
       "    <tr>\n",
       "      <th>3</th>\n",
       "      <td>20150415</td>\n",
       "      <td>3</td>\n",
       "      <td>1.00</td>\n",
       "      <td>1780</td>\n",
       "      <td>7470</td>\n",
       "      <td>1.0</td>\n",
       "      <td>0</td>\n",
       "      <td>0</td>\n",
       "      <td>3</td>\n",
       "      <td>7</td>\n",
       "      <td>1050</td>\n",
       "      <td>730</td>\n",
       "      <td>1960</td>\n",
       "      <td>0</td>\n",
       "      <td>98146</td>\n",
       "      <td>47.5123</td>\n",
       "      <td>-122.337</td>\n",
       "      <td>1780</td>\n",
       "      <td>8113</td>\n",
       "    </tr>\n",
       "    <tr>\n",
       "      <th>4</th>\n",
       "      <td>20150312</td>\n",
       "      <td>3</td>\n",
       "      <td>2.50</td>\n",
       "      <td>1890</td>\n",
       "      <td>6560</td>\n",
       "      <td>2.0</td>\n",
       "      <td>0</td>\n",
       "      <td>0</td>\n",
       "      <td>3</td>\n",
       "      <td>7</td>\n",
       "      <td>1890</td>\n",
       "      <td>0</td>\n",
       "      <td>2003</td>\n",
       "      <td>0</td>\n",
       "      <td>98038</td>\n",
       "      <td>47.3684</td>\n",
       "      <td>-122.031</td>\n",
       "      <td>2390</td>\n",
       "      <td>7570</td>\n",
       "    </tr>\n",
       "  </tbody>\n",
       "</table>\n",
       "</div>"
      ],
      "text/plain": [
       "       date  bedrooms  bathrooms  sqft_living  sqft_lot  floors  waterfront  \\\n",
       "0  20141209         3       2.25         2570      7242     2.0           0   \n",
       "1  20141209         4       3.00         1960      5000     1.0           0   \n",
       "2  20140512         4       4.50         5420    101930     1.0           0   \n",
       "3  20150415         3       1.00         1780      7470     1.0           0   \n",
       "4  20150312         3       2.50         1890      6560     2.0           0   \n",
       "\n",
       "   view  condition  grade  sqft_above  sqft_basement  yr_built  yr_renovated  \\\n",
       "0     0          3      7        2170            400      1951          1991   \n",
       "1     0          5      7        1050            910      1965             0   \n",
       "2     0          3     11        3890           1530      2001             0   \n",
       "3     0          3      7        1050            730      1960             0   \n",
       "4     0          3      7        1890              0      2003             0   \n",
       "\n",
       "   zipcode      lat     long  sqft_living15  sqft_lot15  \n",
       "0    98125  47.7210 -122.319           1690        7639  \n",
       "1    98136  47.5208 -122.393           1360        5000  \n",
       "2    98053  47.6561 -122.005           4760      101930  \n",
       "3    98146  47.5123 -122.337           1780        8113  \n",
       "4    98038  47.3684 -122.031           2390        7570  "
      ]
     },
     "execution_count": 9,
     "metadata": {},
     "output_type": "execute_result"
    }
   ],
   "source": [
    "sub['date'] = sub['date'].apply(lambda x : str(x[:8])).astype(int)\n",
    "sub.head()"
   ]
  },
  {
   "cell_type": "markdown",
   "id": "21a2800a",
   "metadata": {},
   "source": [
    "__결측치 확인하기__   \n",
    "결측치 없는 것으로 확인됨"
   ]
  },
  {
   "cell_type": "code",
   "execution_count": 10,
   "id": "d3ec5f28",
   "metadata": {},
   "outputs": [
    {
     "name": "stdout",
     "output_type": "stream",
     "text": [
      "date : 0\n",
      "price : 0\n",
      "bedrooms : 0\n",
      "bathrooms : 0\n",
      "sqft_living : 0\n",
      "sqft_lot : 0\n",
      "floors : 0\n",
      "waterfront : 0\n",
      "view : 0\n",
      "condition : 0\n",
      "grade : 0\n",
      "sqft_above : 0\n",
      "sqft_basement : 0\n",
      "yr_built : 0\n",
      "yr_renovated : 0\n",
      "zipcode : 0\n",
      "lat : 0\n",
      "long : 0\n",
      "sqft_living15 : 0\n",
      "sqft_lot15 : 0\n"
     ]
    }
   ],
   "source": [
    "for c in data.columns:\n",
    "    print('{} : {}'.format(c, len(data.loc[pd.isnull(data[c]), c].values)))"
   ]
  },
  {
   "cell_type": "code",
   "execution_count": 11,
   "id": "928e2b2e",
   "metadata": {},
   "outputs": [
    {
     "name": "stdout",
     "output_type": "stream",
     "text": [
      "date : 0\n",
      "bedrooms : 0\n",
      "bathrooms : 0\n",
      "sqft_living : 0\n",
      "sqft_lot : 0\n",
      "floors : 0\n",
      "waterfront : 0\n",
      "view : 0\n",
      "condition : 0\n",
      "grade : 0\n",
      "sqft_above : 0\n",
      "sqft_basement : 0\n",
      "yr_built : 0\n",
      "yr_renovated : 0\n",
      "zipcode : 0\n",
      "lat : 0\n",
      "long : 0\n",
      "sqft_living15 : 0\n",
      "sqft_lot15 : 0\n"
     ]
    }
   ],
   "source": [
    "for c in sub.columns:\n",
    "    print('{} : {}'.format(c, len(data.loc[pd.isnull(data[c]), c].values)))"
   ]
  },
  {
   "cell_type": "code",
   "execution_count": 12,
   "id": "a3270a01",
   "metadata": {},
   "outputs": [
    {
     "data": {
      "image/png": "[encoded data removed]",
      "text/plain": [
       "<Figure size 432x288 with 1 Axes>"
      ]
     },
     "metadata": {
      "needs_background": "light"
     },
     "output_type": "display_data"
    }
   ],
   "source": [
    "#price 데이터 분포 살펴보기\n",
    "sns.kdeplot(data['price'])\n",
    "plt.show()"
   ]
  },
  {
   "cell_type": "code",
   "execution_count": 13,
   "id": "27fd7954",
   "metadata": {},
   "outputs": [
    {
     "data": {
      "image/png": "[encoded data removed]",
      "text/plain": [
       "<Figure size 432x288 with 1 Axes>"
      ]
     },
     "metadata": {
      "needs_background": "light"
     },
     "output_type": "display_data"
    }
   ],
   "source": [
    "#정규분포 형태로 스케일링 하기\n",
    "data['price'] = np.log1p(data['price'])\n",
    "\n",
    "sns.kdeplot(data['price'])\n",
    "plt.show()"
   ]
  },
  {
   "cell_type": "markdown",
   "id": "0a711131",
   "metadata": {},
   "source": [
    "__집값과 변수간의 correlation 보기__   \n",
    "heatmap을 이용해 집값과 기타 변수들 간의 어떤 상관 관계가 있는지 체크해 데이터 더 정제하기"
   ]
  },
  {
   "cell_type": "code",
   "execution_count": 14,
   "id": "31b96714",
   "metadata": {},
   "outputs": [
    {
     "name": "stdout",
     "output_type": "stream",
     "text": [
      "['price' 'grade' 'sqft_living' 'sqft_living15' 'sqft_above' 'bathrooms'\n",
      " 'lat' 'bedrooms' 'floors' 'view' 'sqft_basement']\n"
     ]
    },
    {
     "data": {
      "text/plain": [
       "<AxesSubplot:>"
      ]
     },
     "execution_count": 14,
     "metadata": {},
     "output_type": "execute_result"
    },
    {
     "data": {
      "image/png": "[encoded data removed]",
      "text/plain": [
       "<Figure size 792x792 with 2 Axes>"
      ]
     },
     "metadata": {
      "needs_background": "light"
     },
     "output_type": "display_data"
    }
   ],
   "source": [
    "cor_abs = abs(data.corr(method='spearman')) \n",
    "cor_cols = cor_abs.nlargest(n=11, columns='price' ).index # price과 correlation이 높은 column 10개 뽑기(내림차순)\n",
    "# spearman coefficient matrix\n",
    "cor = np.array(sp.stats.spearmanr(data[cor_cols].values))[0] # 11 x 11\n",
    "print(cor_cols.values)\n",
    "plt.figure(figsize=(11,11))\n",
    "sns.set(font_scale=1.25)\n",
    "sns.heatmap(cor, fmt='.2f', annot=True, square=True , annot_kws={'size' : 8} ,xticklabels=cor_cols.values, yticklabels=cor_cols.values)"
   ]
  },
  {
   "cell_type": "markdown",
   "id": "39c3d7b9",
   "metadata": {},
   "source": [
    "__집 값과 가장 연관 있는 상위 10개 변수__   \n",
    "-grade(집 등급), sqft_living(거주공간 면적), sqft_living15(2015년 기준 거주공간 면적), sqft_above(지하실 제외한 면적), bathrooms(화장실 수), lat(위도), bedrooms(침실 수), floors(집의 층 수), view(뷰의 여부), sqrf_basement(지하실 면적)    \n",
    "   \n",
    "방 개수보다 화장실 수 가 더 상관관계 있다는게 새롭다   \n",
    "아침마다 화장실 전쟁을 피할 수 있는게 방에서 혼자 잘 수 있는 것보다 더 재력의 상징인가.."
   ]
  },
  {
   "cell_type": "markdown",
   "id": "0c2041e9",
   "metadata": {},
   "source": [
    "#### __가격과 관련있는 데이터 살펴보기__   "
   ]
  },
  {
   "cell_type": "code",
   "execution_count": 15,
   "id": "a66ac2f4",
   "metadata": {},
   "outputs": [
    {
     "data": {
      "image/png": "[encoded data removed]",
      "text/plain": [
       "<Figure size 576x432 with 1 Axes>"
      ]
     },
     "metadata": {},
     "output_type": "display_data"
    }
   ],
   "source": [
    "#grade data 확인하기\n",
    "greade_data = pd.concat([data['price'], data['grade']], axis=1)\n",
    "f, ax = plt.subplots(figsize=(8, 6))\n",
    "fig = sns.boxplot(x='grade', y=\"price\", data=data)"
   ]
  },
  {
   "cell_type": "markdown",
   "id": "9cd72d62",
   "metadata": {},
   "source": [
    "grade의 경우 \"1-3은 건물 건축 및 디자인에 미치지 못하고 7은 평균 수준의 건축 및 디자인을, 11-13은 높은 수준의 건축 및 디자인을 지니고 있습니다.\" 지표라고 한다.   \n",
    "\n",
    "하지만 grade 3에서 값이 높은 것, 등급 11에서 차이가 큰 이상치가 나타나는 이유를 찾아봐야 한다."
   ]
  },
  {
   "cell_type": "code",
   "execution_count": 16,
   "id": "fc01f389",
   "metadata": {},
   "outputs": [
    {
     "data": {
      "image/png": "[encoded data removed]",
      "text/plain": [
       "<Figure size 576x432 with 1 Axes>"
      ]
     },
     "metadata": {},
     "output_type": "display_data"
    }
   ],
   "source": [
    "#sqft_living 확인하기\n",
    "sqft_living_data = pd.concat([data['price'], data['sqft_living']], axis=1)\n",
    "f, ax = plt.subplots(figsize=(8, 6))\n",
    "fig = sns.regplot(x='sqft_living', y=\"price\", data=data)"
   ]
  },
  {
   "cell_type": "markdown",
   "id": "4cd4cb9d",
   "metadata": {},
   "source": [
    "sqtf_living은 실 평수라고 생각하면 된다.   \n",
    "전반적으로 면적이 커질수록 값도 올라가는 모양을 보이지만, [12000, 14000]구간에서 1개의 점이 이상치로 생각된다.   "
   ]
  },
  {
   "cell_type": "code",
   "execution_count": 17,
   "id": "4b0a619d",
   "metadata": {},
   "outputs": [
    {
     "data": {
      "image/png": "[encoded data removed]",
      "text/plain": [
       "<Figure size 576x432 with 1 Axes>"
      ]
     },
     "metadata": {},
     "output_type": "display_data"
    }
   ],
   "source": [
    "#sqft_living15 확인하기\n",
    "living15_data = pd.concat([data['price'], data['sqft_living15']], axis=1)\n",
    "f, ax = plt.subplots(figsize=(8, 6))\n",
    "fig = sns.regplot(x='sqft_living15', y=\"price\", data=data)"
   ]
  },
  {
   "cell_type": "markdown",
   "id": "b37f613a",
   "metadata": {},
   "source": [
    "sqrf_living15는 15년도 기준 실평수이다.   \n",
    "크게 가공 관련된 인사이트는 떠오르지 않는다."
   ]
  },
  {
   "cell_type": "code",
   "execution_count": 18,
   "id": "9a8ba31d",
   "metadata": {},
   "outputs": [
    {
     "data": {
      "image/png": "[encoded data removed]",
      "text/plain": [
       "<Figure size 1296x432 with 1 Axes>"
      ]
     },
     "metadata": {},
     "output_type": "display_data"
    }
   ],
   "source": [
    "#bathroom data 확인하기\n",
    "bathroom_data = pd.concat([data['price'], data['bathrooms']], axis=1)\n",
    "f, ax = plt.subplots(figsize=(18, 6))\n",
    "fig = sns.boxplot(x='bathrooms', y=\"price\", data=data)"
   ]
  },
  {
   "cell_type": "markdown",
   "id": "8d74de98",
   "metadata": {},
   "source": [
    "특이하게 화장실 수치에 소수점이 들어가 있다. 이는 다음을 의미한다.   \n",
    "-0.5 : 세면대, 화장실   \n",
    "-0.75 : 세면대, 화장실, 샤워실   \n",
    "-1 : 세면대, 화장실, 샤워실, 욕조   "
   ]
  },
  {
   "cell_type": "code",
   "execution_count": 19,
   "id": "3a971403",
   "metadata": {},
   "outputs": [
    {
     "data": {
      "image/png": "[encoded data removed]",
      "text/plain": [
       "<Figure size 1296x432 with 1 Axes>"
      ]
     },
     "metadata": {},
     "output_type": "display_data"
    }
   ],
   "source": [
    "#bedreoom data 확인하기\n",
    "bedreoom_data = pd.concat([data['price'], data['bedrooms']], axis=1)\n",
    "f, ax = plt.subplots(figsize=(18, 6))\n",
    "fig = sns.boxplot(x='bedrooms', y=\"price\", data=data)"
   ]
  },
  {
   "cell_type": "markdown",
   "id": "10e7dd16",
   "metadata": {},
   "source": [
    "방의 수가 많아질 수록 값이 비싸진다. 하지만 방의 개수가 작지만 값이 비싼 경우도 있는데, 이는 부동산 가격이 높은 곳이기 때문에 방 수가 적어도 비싼 것일 수도 있다고 한다."
   ]
  },
  {
   "cell_type": "markdown",
   "id": "7e49267b",
   "metadata": {},
   "source": [
    "#### 이상치 다루기"
   ]
  },
  {
   "cell_type": "code",
   "execution_count": 20,
   "id": "e29848ef",
   "metadata": {},
   "outputs": [
    {
     "data": {
      "text/html": [
       "<div>\n",
       "<style scoped>\n",
       "    .dataframe tbody tr th:only-of-type {\n",
       "        vertical-align: middle;\n",
       "    }\n",
       "\n",
       "    .dataframe tbody tr th {\n",
       "        vertical-align: top;\n",
       "    }\n",
       "\n",
       "    .dataframe thead th {\n",
       "        text-align: right;\n",
       "    }\n",
       "</style>\n",
       "<table border=\"1\" class=\"dataframe\">\n",
       "  <thead>\n",
       "    <tr style=\"text-align: right;\">\n",
       "      <th></th>\n",
       "      <th>date</th>\n",
       "      <th>price</th>\n",
       "      <th>bedrooms</th>\n",
       "      <th>bathrooms</th>\n",
       "      <th>sqft_living</th>\n",
       "      <th>sqft_lot</th>\n",
       "      <th>floors</th>\n",
       "      <th>waterfront</th>\n",
       "      <th>view</th>\n",
       "      <th>condition</th>\n",
       "      <th>grade</th>\n",
       "      <th>sqft_above</th>\n",
       "      <th>sqft_basement</th>\n",
       "      <th>yr_built</th>\n",
       "      <th>yr_renovated</th>\n",
       "      <th>zipcode</th>\n",
       "      <th>lat</th>\n",
       "      <th>long</th>\n",
       "      <th>sqft_living15</th>\n",
       "      <th>sqft_lot15</th>\n",
       "    </tr>\n",
       "  </thead>\n",
       "  <tbody>\n",
       "    <tr>\n",
       "      <th>8912</th>\n",
       "      <td>20140505</td>\n",
       "      <td>14.639686</td>\n",
       "      <td>7</td>\n",
       "      <td>8.0</td>\n",
       "      <td>13540</td>\n",
       "      <td>307752</td>\n",
       "      <td>3.0</td>\n",
       "      <td>0</td>\n",
       "      <td>4</td>\n",
       "      <td>3</td>\n",
       "      <td>12</td>\n",
       "      <td>9410</td>\n",
       "      <td>4130</td>\n",
       "      <td>1999</td>\n",
       "      <td>0</td>\n",
       "      <td>98053</td>\n",
       "      <td>47.6675</td>\n",
       "      <td>-121.986</td>\n",
       "      <td>4850</td>\n",
       "      <td>217800</td>\n",
       "    </tr>\n",
       "  </tbody>\n",
       "</table>\n",
       "</div>"
      ],
      "text/plain": [
       "          date      price  bedrooms  bathrooms  sqft_living  sqft_lot  floors  \\\n",
       "8912  20140505  14.639686         7        8.0        13540    307752     3.0   \n",
       "\n",
       "      waterfront  view  condition  grade  sqft_above  sqft_basement  yr_built  \\\n",
       "8912           0     4          3     12        9410           4130      1999   \n",
       "\n",
       "      yr_renovated  zipcode      lat     long  sqft_living15  sqft_lot15  \n",
       "8912             0    98053  47.6675 -121.986           4850      217800  "
      ]
     },
     "execution_count": 20,
     "metadata": {},
     "output_type": "execute_result"
    }
   ],
   "source": [
    "#sqft_living 이상치 확인\n",
    "data.loc[data['sqft_living'] > 13000]"
   ]
  },
  {
   "cell_type": "code",
   "execution_count": 21,
   "id": "19152989",
   "metadata": {},
   "outputs": [],
   "source": [
    "data = data.loc[data['sqft_living']!=13540]"
   ]
  },
  {
   "cell_type": "code",
   "execution_count": 22,
   "id": "0841ebb9",
   "metadata": {},
   "outputs": [
    {
     "data": {
      "text/html": [
       "<div>\n",
       "<style scoped>\n",
       "    .dataframe tbody tr th:only-of-type {\n",
       "        vertical-align: middle;\n",
       "    }\n",
       "\n",
       "    .dataframe tbody tr th {\n",
       "        vertical-align: top;\n",
       "    }\n",
       "\n",
       "    .dataframe thead th {\n",
       "        text-align: right;\n",
       "    }\n",
       "</style>\n",
       "<table border=\"1\" class=\"dataframe\">\n",
       "  <thead>\n",
       "    <tr style=\"text-align: right;\">\n",
       "      <th></th>\n",
       "      <th>date</th>\n",
       "      <th>price</th>\n",
       "      <th>bedrooms</th>\n",
       "      <th>bathrooms</th>\n",
       "      <th>sqft_living</th>\n",
       "      <th>sqft_lot</th>\n",
       "      <th>floors</th>\n",
       "      <th>waterfront</th>\n",
       "      <th>view</th>\n",
       "      <th>condition</th>\n",
       "      <th>grade</th>\n",
       "      <th>sqft_above</th>\n",
       "      <th>sqft_basement</th>\n",
       "      <th>yr_built</th>\n",
       "      <th>yr_renovated</th>\n",
       "      <th>zipcode</th>\n",
       "      <th>lat</th>\n",
       "      <th>long</th>\n",
       "      <th>sqft_living15</th>\n",
       "      <th>sqft_lot15</th>\n",
       "    </tr>\n",
       "  </thead>\n",
       "  <tbody>\n",
       "    <tr>\n",
       "      <th>2302</th>\n",
       "      <td>20150225</td>\n",
       "      <td>12.476104</td>\n",
       "      <td>1</td>\n",
       "      <td>0.75</td>\n",
       "      <td>520</td>\n",
       "      <td>12981</td>\n",
       "      <td>1.0</td>\n",
       "      <td>0</td>\n",
       "      <td>0</td>\n",
       "      <td>5</td>\n",
       "      <td>3</td>\n",
       "      <td>520</td>\n",
       "      <td>0</td>\n",
       "      <td>1920</td>\n",
       "      <td>0</td>\n",
       "      <td>98022</td>\n",
       "      <td>47.2082</td>\n",
       "      <td>-121.995</td>\n",
       "      <td>1340</td>\n",
       "      <td>12233</td>\n",
       "    </tr>\n",
       "    <tr>\n",
       "      <th>4123</th>\n",
       "      <td>20141104</td>\n",
       "      <td>12.542548</td>\n",
       "      <td>1</td>\n",
       "      <td>0.00</td>\n",
       "      <td>600</td>\n",
       "      <td>24501</td>\n",
       "      <td>1.0</td>\n",
       "      <td>0</td>\n",
       "      <td>0</td>\n",
       "      <td>2</td>\n",
       "      <td>3</td>\n",
       "      <td>600</td>\n",
       "      <td>0</td>\n",
       "      <td>1950</td>\n",
       "      <td>0</td>\n",
       "      <td>98045</td>\n",
       "      <td>47.5316</td>\n",
       "      <td>-121.749</td>\n",
       "      <td>990</td>\n",
       "      <td>22549</td>\n",
       "    </tr>\n",
       "  </tbody>\n",
       "</table>\n",
       "</div>"
      ],
      "text/plain": [
       "          date      price  bedrooms  bathrooms  sqft_living  sqft_lot  floors  \\\n",
       "2302  20150225  12.476104         1       0.75          520     12981     1.0   \n",
       "4123  20141104  12.542548         1       0.00          600     24501     1.0   \n",
       "\n",
       "      waterfront  view  condition  grade  sqft_above  sqft_basement  yr_built  \\\n",
       "2302           0     0          5      3         520              0      1920   \n",
       "4123           0     0          2      3         600              0      1950   \n",
       "\n",
       "      yr_renovated  zipcode      lat     long  sqft_living15  sqft_lot15  \n",
       "2302             0    98022  47.2082 -121.995           1340       12233  \n",
       "4123             0    98045  47.5316 -121.749            990       22549  "
      ]
     },
     "execution_count": 22,
     "metadata": {},
     "output_type": "execute_result"
    }
   ],
   "source": [
    "#grade 이상치 확인\n",
    "data.loc[(data['price']>12) & (data['grade'] == 3)]"
   ]
  },
  {
   "cell_type": "markdown",
   "id": "5606c0b0",
   "metadata": {},
   "source": [
    "실 평수가 매우 작은 것을 알 수 있다."
   ]
  },
  {
   "cell_type": "code",
   "execution_count": 23,
   "id": "ed7a25fe",
   "metadata": {},
   "outputs": [],
   "source": [
    "data = data.drop([data.index[2302], data.index[4123]])"
   ]
  },
  {
   "cell_type": "code",
   "execution_count": 24,
   "id": "75b6e627",
   "metadata": {},
   "outputs": [
    {
     "data": {
      "text/html": [
       "<div>\n",
       "<style scoped>\n",
       "    .dataframe tbody tr th:only-of-type {\n",
       "        vertical-align: middle;\n",
       "    }\n",
       "\n",
       "    .dataframe tbody tr th {\n",
       "        vertical-align: top;\n",
       "    }\n",
       "\n",
       "    .dataframe thead th {\n",
       "        text-align: right;\n",
       "    }\n",
       "</style>\n",
       "<table border=\"1\" class=\"dataframe\">\n",
       "  <thead>\n",
       "    <tr style=\"text-align: right;\">\n",
       "      <th></th>\n",
       "      <th>date</th>\n",
       "      <th>price</th>\n",
       "      <th>bedrooms</th>\n",
       "      <th>bathrooms</th>\n",
       "      <th>sqft_living</th>\n",
       "      <th>sqft_lot</th>\n",
       "      <th>floors</th>\n",
       "      <th>waterfront</th>\n",
       "      <th>view</th>\n",
       "      <th>condition</th>\n",
       "      <th>grade</th>\n",
       "      <th>sqft_above</th>\n",
       "      <th>sqft_basement</th>\n",
       "      <th>yr_built</th>\n",
       "      <th>yr_renovated</th>\n",
       "      <th>zipcode</th>\n",
       "      <th>lat</th>\n",
       "      <th>long</th>\n",
       "      <th>sqft_living15</th>\n",
       "      <th>sqft_lot15</th>\n",
       "    </tr>\n",
       "  </thead>\n",
       "  <tbody>\n",
       "    <tr>\n",
       "      <th>2775</th>\n",
       "      <td>20140611</td>\n",
       "      <td>15.77031</td>\n",
       "      <td>5</td>\n",
       "      <td>4.5</td>\n",
       "      <td>10040</td>\n",
       "      <td>37325</td>\n",
       "      <td>2.0</td>\n",
       "      <td>1</td>\n",
       "      <td>2</td>\n",
       "      <td>3</td>\n",
       "      <td>11</td>\n",
       "      <td>7680</td>\n",
       "      <td>2360</td>\n",
       "      <td>1940</td>\n",
       "      <td>2001</td>\n",
       "      <td>98004</td>\n",
       "      <td>47.65</td>\n",
       "      <td>-122.214</td>\n",
       "      <td>3930</td>\n",
       "      <td>25449</td>\n",
       "    </tr>\n",
       "  </tbody>\n",
       "</table>\n",
       "</div>"
      ],
      "text/plain": [
       "          date     price  bedrooms  bathrooms  sqft_living  sqft_lot  floors  \\\n",
       "2775  20140611  15.77031         5        4.5        10040     37325     2.0   \n",
       "\n",
       "      waterfront  view  condition  grade  sqft_above  sqft_basement  yr_built  \\\n",
       "2775           1     2          3     11        7680           2360      1940   \n",
       "\n",
       "      yr_renovated  zipcode    lat     long  sqft_living15  sqft_lot15  \n",
       "2775          2001    98004  47.65 -122.214           3930       25449  "
      ]
     },
     "execution_count": 24,
     "metadata": {},
     "output_type": "execute_result"
    }
   ],
   "source": [
    "data.loc[(data['price']>15.5) & (data['grade'] == 11)]"
   ]
  },
  {
   "cell_type": "code",
   "execution_count": 25,
   "id": "4d82751a",
   "metadata": {},
   "outputs": [],
   "source": [
    "data = data.drop([data.index[2775]])"
   ]
  },
  {
   "cell_type": "code",
   "execution_count": 26,
   "id": "bdf93183",
   "metadata": {},
   "outputs": [
    {
     "data": {
      "text/plain": [
       "0        12.309987\n",
       "1        12.100718\n",
       "2        13.142168\n",
       "3        12.458779\n",
       "4        12.583999\n",
       "           ...    \n",
       "15030    13.322338\n",
       "15031    13.822984\n",
       "15032    12.793862\n",
       "15033    12.899222\n",
       "15034    12.691584\n",
       "Name: price, Length: 15031, dtype: float64"
      ]
     },
     "execution_count": 26,
     "metadata": {},
     "output_type": "execute_result"
    }
   ],
   "source": [
    "#예측해야 하는 'price'는 y 변수에 저장한 뒤 데이터에서 지워줌\n",
    "y = data['price']\n",
    "del data['price']\n",
    "y"
   ]
  },
  {
   "cell_type": "code",
   "execution_count": 27,
   "id": "2831756d",
   "metadata": {},
   "outputs": [
    {
     "name": "stdout",
     "output_type": "stream",
     "text": [
      "<class 'pandas.core.frame.DataFrame'>\n",
      "Int64Index: 15031 entries, 0 to 15034\n",
      "Data columns (total 19 columns):\n",
      " #   Column         Non-Null Count  Dtype  \n",
      "---  ------         --------------  -----  \n",
      " 0   date           15031 non-null  int64  \n",
      " 1   bedrooms       15031 non-null  int64  \n",
      " 2   bathrooms      15031 non-null  float64\n",
      " 3   sqft_living    15031 non-null  int64  \n",
      " 4   sqft_lot       15031 non-null  int64  \n",
      " 5   floors         15031 non-null  float64\n",
      " 6   waterfront     15031 non-null  int64  \n",
      " 7   view           15031 non-null  int64  \n",
      " 8   condition      15031 non-null  int64  \n",
      " 9   grade          15031 non-null  int64  \n",
      " 10  sqft_above     15031 non-null  int64  \n",
      " 11  sqft_basement  15031 non-null  int64  \n",
      " 12  yr_built       15031 non-null  int64  \n",
      " 13  yr_renovated   15031 non-null  int64  \n",
      " 14  zipcode        15031 non-null  int64  \n",
      " 15  lat            15031 non-null  float64\n",
      " 16  long           15031 non-null  float64\n",
      " 17  sqft_living15  15031 non-null  int64  \n",
      " 18  sqft_lot15     15031 non-null  int64  \n",
      "dtypes: float64(4), int64(15)\n",
      "memory usage: 2.3 MB\n"
     ]
    }
   ],
   "source": [
    "data.info()"
   ]
  },
  {
   "cell_type": "code",
   "execution_count": 28,
   "id": "1d95d69b",
   "metadata": {},
   "outputs": [
    {
     "name": "stdout",
     "output_type": "stream",
     "text": [
      "<class 'pandas.core.frame.DataFrame'>\n",
      "RangeIndex: 6468 entries, 0 to 6467\n",
      "Data columns (total 19 columns):\n",
      " #   Column         Non-Null Count  Dtype  \n",
      "---  ------         --------------  -----  \n",
      " 0   date           6468 non-null   int64  \n",
      " 1   bedrooms       6468 non-null   int64  \n",
      " 2   bathrooms      6468 non-null   float64\n",
      " 3   sqft_living    6468 non-null   int64  \n",
      " 4   sqft_lot       6468 non-null   int64  \n",
      " 5   floors         6468 non-null   float64\n",
      " 6   waterfront     6468 non-null   int64  \n",
      " 7   view           6468 non-null   int64  \n",
      " 8   condition      6468 non-null   int64  \n",
      " 9   grade          6468 non-null   int64  \n",
      " 10  sqft_above     6468 non-null   int64  \n",
      " 11  sqft_basement  6468 non-null   int64  \n",
      " 12  yr_built       6468 non-null   int64  \n",
      " 13  yr_renovated   6468 non-null   int64  \n",
      " 14  zipcode        6468 non-null   int64  \n",
      " 15  lat            6468 non-null   float64\n",
      " 16  long           6468 non-null   float64\n",
      " 17  sqft_living15  6468 non-null   int64  \n",
      " 18  sqft_lot15     6468 non-null   int64  \n",
      "dtypes: float64(4), int64(15)\n",
      "memory usage: 960.2 KB\n"
     ]
    }
   ],
   "source": [
    "sub.info()"
   ]
  },
  {
   "cell_type": "markdown",
   "id": "0ac28efe",
   "metadata": {},
   "source": [
    "### 모델 만들기"
   ]
  },
  {
   "cell_type": "markdown",
   "id": "e2dda909",
   "metadata": {},
   "source": [
    "#### 필요한 함수 정의   \n",
    "-RMSE : Root Mean Squre Error 구하는 함수   \n",
    "-get_scores : 모델에 대한 RMSE 값 구하는 함수   \n",
    "-get_cv_score : cross-validation 값 구하는 함수   \n",
    "-my_GridSearch : 튜닝 위한 파라미터 찾는 그리디 서치 함수   "
   ]
  },
  {
   "cell_type": "code",
   "execution_count": 29,
   "id": "5c065569",
   "metadata": {},
   "outputs": [],
   "source": [
    "#RMSE 함수\n",
    "def rmse(y_test, y_pred):\n",
    "    return np.sqrt(mean_squared_error(np.expm1(y_test), np.expm1(y_pred)))"
   ]
  },
  {
   "cell_type": "code",
   "execution_count": 30,
   "id": "6f5d5028",
   "metadata": {},
   "outputs": [],
   "source": [
    "#각 모델에 대한 RMSE Score 확인\n",
    "def get_scores(models, train, y):\n",
    "    df = {}\n",
    "    for model in models:\n",
    "        model_name = model.__class__.__name__\n",
    "        X_train, X_test, y_train, y_test = train_test_split(train, y, random_state=random_state, test_size=0.2)\n",
    "        model.fit(X_train, y_train)\n",
    "        y_pred = model.predict(X_test)\n",
    "        df[model_name] = rmse(y_test, y_pred)\n",
    "        score_df = pd.DataFrame(df, index=['RMSE']).T.sort_values('RMSE', ascending=False)\n",
    "    return score_df"
   ]
  },
  {
   "cell_type": "code",
   "execution_count": 31,
   "id": "52a2cbb5",
   "metadata": {},
   "outputs": [],
   "source": [
    "#교차 검증 함수\n",
    "def get_cv_score(models):\n",
    "    kfold = KFold(n_splits=5).get_n_splits(x.values)\n",
    "    for m in models:\n",
    "        CV_score = np.mean(cross_val_score(m['model'], X=x.values, y=y, cv=kfold))\n",
    "        print(f\"Model: {m['name']}, CV score:{CV_score:.4f}\")"
   ]
  },
  {
   "cell_type": "code",
   "execution_count": 32,
   "id": "518874f4",
   "metadata": {},
   "outputs": [],
   "source": [
    "#튜닝 위한 그리디 서치 함수\n",
    "def my_GridSearch(model, train, y, param_grid, verbose, n_jobs):\n",
    "    grid_model = GridSearchCV(model, param_grid=param_grid,\n",
    "                              scoring='neg_mean_squared_error',\n",
    "                              cv=5, verbose=1, n_jobs=5)\n",
    "    grid_model.fit(train, y)\n",
    "    \n",
    "    params = grid_model.cv_results_['params']\n",
    "    score = grid_model.cv_results_['mean_test_score']\n",
    "    results = pd.DataFrame(params)\n",
    "    \n",
    "    results[\"score\"] = score\n",
    "    results['RMSLE'] = np.sqrt(-1 * results['score'])\n",
    "    \n",
    "    results=results.sort_values(by=[\"RMSLE\"])\n",
    "    \n",
    "    return results\n"
   ]
  },
  {
   "cell_type": "markdown",
   "id": "91b14358",
   "metadata": {},
   "source": [
    "#### 모델링하기  "
   ]
  },
  {
   "cell_type": "code",
   "execution_count": 33,
   "id": "18a3dc91",
   "metadata": {},
   "outputs": [],
   "source": [
    "#모델 가져오기\n",
    "random_state=2021 #고정 random_state 사용    \n",
    "\n",
    "gboost = GradientBoostingRegressor(random_state=random_state)\n",
    "xgboost = XGBRegressor(random_state=random_state)\n",
    "lightgbm = LGBMRegressor(random_state=random_state)\n",
    "rdforest = RandomForestRegressor(random_state=random_state)\n",
    "\n",
    "models = [gboost, xgboost, lightgbm, rdforest]"
   ]
  },
  {
   "cell_type": "code",
   "execution_count": 34,
   "id": "caffb28f",
   "metadata": {},
   "outputs": [
    {
     "data": {
      "text/html": [
       "<div>\n",
       "<style scoped>\n",
       "    .dataframe tbody tr th:only-of-type {\n",
       "        vertical-align: middle;\n",
       "    }\n",
       "\n",
       "    .dataframe tbody tr th {\n",
       "        vertical-align: top;\n",
       "    }\n",
       "\n",
       "    .dataframe thead th {\n",
       "        text-align: right;\n",
       "    }\n",
       "</style>\n",
       "<table border=\"1\" class=\"dataframe\">\n",
       "  <thead>\n",
       "    <tr style=\"text-align: right;\">\n",
       "      <th></th>\n",
       "      <th>RMSE</th>\n",
       "    </tr>\n",
       "  </thead>\n",
       "  <tbody>\n",
       "    <tr>\n",
       "      <th>GradientBoostingRegressor</th>\n",
       "      <td>153910.082666</td>\n",
       "    </tr>\n",
       "    <tr>\n",
       "      <th>RandomForestRegressor</th>\n",
       "      <td>138848.856786</td>\n",
       "    </tr>\n",
       "    <tr>\n",
       "      <th>LGBMRegressor</th>\n",
       "      <td>136856.344810</td>\n",
       "    </tr>\n",
       "    <tr>\n",
       "      <th>XGBRegressor</th>\n",
       "      <td>134726.663105</td>\n",
       "    </tr>\n",
       "  </tbody>\n",
       "</table>\n",
       "</div>"
      ],
      "text/plain": [
       "                                    RMSE\n",
       "GradientBoostingRegressor  153910.082666\n",
       "RandomForestRegressor      138848.856786\n",
       "LGBMRegressor              136856.344810\n",
       "XGBRegressor               134726.663105"
      ]
     },
     "execution_count": 34,
     "metadata": {},
     "output_type": "execute_result"
    }
   ],
   "source": [
    "#모델 socre 확인\n",
    "get_scores(models, data, y)"
   ]
  },
  {
   "cell_type": "markdown",
   "id": "c89a81ed",
   "metadata": {},
   "source": [
    "#### Grid search 이용한 최적의 하이퍼 파라미터 찾기\n",
    "-주어진 네가지 모델을 실행시켰을 때 최적의 파라미터 찾기"
   ]
  },
  {
   "cell_type": "markdown",
   "id": "3f2c1446",
   "metadata": {},
   "source": [
    "__GradientBoostingRegressor__   "
   ]
  },
  {
   "cell_type": "code",
   "execution_count": 35,
   "id": "0a99e0d5",
   "metadata": {},
   "outputs": [],
   "source": [
    "#파라미터 찾기용\n",
    "param_grid = {\n",
    "    'n_estimators': [50, 100],\n",
    "    'max_depth': [1, 10],\n",
    "}"
   ]
  },
  {
   "cell_type": "code",
   "execution_count": 36,
   "id": "2a1efdcc",
   "metadata": {},
   "outputs": [],
   "source": [
    "#모델 가져오기\n",
    "model = GradientBoostingRegressor(random_state=random_state)"
   ]
  },
  {
   "cell_type": "code",
   "execution_count": 37,
   "id": "81d7ab28",
   "metadata": {},
   "outputs": [
    {
     "name": "stdout",
     "output_type": "stream",
     "text": [
      "Fitting 5 folds for each of 4 candidates, totalling 20 fits\n"
     ]
    }
   ],
   "source": [
    "result_GB = my_GridSearch(model, data, y, param_grid, verbose=2, n_jobs=5)"
   ]
  },
  {
   "cell_type": "code",
   "execution_count": 38,
   "id": "c429c685",
   "metadata": {},
   "outputs": [
    {
     "data": {
      "text/html": [
       "<div>\n",
       "<style scoped>\n",
       "    .dataframe tbody tr th:only-of-type {\n",
       "        vertical-align: middle;\n",
       "    }\n",
       "\n",
       "    .dataframe tbody tr th {\n",
       "        vertical-align: top;\n",
       "    }\n",
       "\n",
       "    .dataframe thead th {\n",
       "        text-align: right;\n",
       "    }\n",
       "</style>\n",
       "<table border=\"1\" class=\"dataframe\">\n",
       "  <thead>\n",
       "    <tr style=\"text-align: right;\">\n",
       "      <th></th>\n",
       "      <th>max_depth</th>\n",
       "      <th>n_estimators</th>\n",
       "      <th>score</th>\n",
       "      <th>RMSLE</th>\n",
       "    </tr>\n",
       "  </thead>\n",
       "  <tbody>\n",
       "    <tr>\n",
       "      <th>3</th>\n",
       "      <td>10</td>\n",
       "      <td>100</td>\n",
       "      <td>-0.029697</td>\n",
       "      <td>0.172327</td>\n",
       "    </tr>\n",
       "    <tr>\n",
       "      <th>2</th>\n",
       "      <td>10</td>\n",
       "      <td>50</td>\n",
       "      <td>-0.030050</td>\n",
       "      <td>0.173349</td>\n",
       "    </tr>\n",
       "    <tr>\n",
       "      <th>1</th>\n",
       "      <td>1</td>\n",
       "      <td>100</td>\n",
       "      <td>-0.055039</td>\n",
       "      <td>0.234603</td>\n",
       "    </tr>\n",
       "    <tr>\n",
       "      <th>0</th>\n",
       "      <td>1</td>\n",
       "      <td>50</td>\n",
       "      <td>-0.073270</td>\n",
       "      <td>0.270684</td>\n",
       "    </tr>\n",
       "  </tbody>\n",
       "</table>\n",
       "</div>"
      ],
      "text/plain": [
       "   max_depth  n_estimators     score     RMSLE\n",
       "3         10           100 -0.029697  0.172327\n",
       "2         10            50 -0.030050  0.173349\n",
       "1          1           100 -0.055039  0.234603\n",
       "0          1            50 -0.073270  0.270684"
      ]
     },
     "execution_count": 38,
     "metadata": {},
     "output_type": "execute_result"
    }
   ],
   "source": [
    "result_GB.sort_values('RMSLE', ascending=True).head(15)"
   ]
  },
  {
   "cell_type": "markdown",
   "id": "9c2da75e",
   "metadata": {},
   "source": [
    "최적의 파라미터는  max_depth = 10, n_estimators = 100임을 알 수 있음"
   ]
  },
  {
   "cell_type": "markdown",
   "id": "ba9e2106",
   "metadata": {},
   "source": [
    "__XGBRegressor__"
   ]
  },
  {
   "cell_type": "code",
   "execution_count": 39,
   "id": "5dfeaf33",
   "metadata": {},
   "outputs": [],
   "source": [
    "#파라미터 찾기용\n",
    "param_grid = {\n",
    "    'n_estimators': [50, 100],\n",
    "    'max_depth': [1, 10],\n",
    "}"
   ]
  },
  {
   "cell_type": "code",
   "execution_count": 40,
   "id": "ccc87744",
   "metadata": {},
   "outputs": [],
   "source": [
    "#모델 가져오기\n",
    "model = XGBRegressor(random_state=random_state)"
   ]
  },
  {
   "cell_type": "code",
   "execution_count": 41,
   "id": "ede23a21",
   "metadata": {},
   "outputs": [
    {
     "name": "stdout",
     "output_type": "stream",
     "text": [
      "Fitting 5 folds for each of 4 candidates, totalling 20 fits\n"
     ]
    },
    {
     "name": "stderr",
     "output_type": "stream",
     "text": [
      "/opt/conda/lib/python3.9/site-packages/pkg_resources/__init__.py:116: PkgResourcesDeprecationWarning: 0.996-ko-0.9.2 is an invalid version and will not be supported in a future release\n",
      "  warnings.warn(\n",
      "/opt/conda/lib/python3.9/site-packages/pkg_resources/__init__.py:116: PkgResourcesDeprecationWarning: 0.996-ko-0.9.2 is an invalid version and will not be supported in a future release\n",
      "  warnings.warn(\n",
      "/opt/conda/lib/python3.9/site-packages/pkg_resources/__init__.py:116: PkgResourcesDeprecationWarning: 0.996-ko-0.9.2 is an invalid version and will not be supported in a future release\n",
      "  warnings.warn(\n",
      "/opt/conda/lib/python3.9/site-packages/pkg_resources/__init__.py:116: PkgResourcesDeprecationWarning: 0.996-ko-0.9.2 is an invalid version and will not be supported in a future release\n",
      "  warnings.warn(\n",
      "/opt/conda/lib/python3.9/site-packages/pkg_resources/__init__.py:116: PkgResourcesDeprecationWarning: 0.996-ko-0.9.2 is an invalid version and will not be supported in a future release\n",
      "  warnings.warn(\n"
     ]
    }
   ],
   "source": [
    "result_XGB = my_GridSearch(model, data, y, param_grid, verbose=2, n_jobs=5)"
   ]
  },
  {
   "cell_type": "code",
   "execution_count": 42,
   "id": "e5695c2c",
   "metadata": {},
   "outputs": [
    {
     "data": {
      "text/html": [
       "<div>\n",
       "<style scoped>\n",
       "    .dataframe tbody tr th:only-of-type {\n",
       "        vertical-align: middle;\n",
       "    }\n",
       "\n",
       "    .dataframe tbody tr th {\n",
       "        vertical-align: top;\n",
       "    }\n",
       "\n",
       "    .dataframe thead th {\n",
       "        text-align: right;\n",
       "    }\n",
       "</style>\n",
       "<table border=\"1\" class=\"dataframe\">\n",
       "  <thead>\n",
       "    <tr style=\"text-align: right;\">\n",
       "      <th></th>\n",
       "      <th>max_depth</th>\n",
       "      <th>n_estimators</th>\n",
       "      <th>score</th>\n",
       "      <th>RMSLE</th>\n",
       "    </tr>\n",
       "  </thead>\n",
       "  <tbody>\n",
       "    <tr>\n",
       "      <th>2</th>\n",
       "      <td>10</td>\n",
       "      <td>50</td>\n",
       "      <td>-0.030739</td>\n",
       "      <td>0.175326</td>\n",
       "    </tr>\n",
       "    <tr>\n",
       "      <th>3</th>\n",
       "      <td>10</td>\n",
       "      <td>100</td>\n",
       "      <td>-0.030901</td>\n",
       "      <td>0.175787</td>\n",
       "    </tr>\n",
       "    <tr>\n",
       "      <th>1</th>\n",
       "      <td>1</td>\n",
       "      <td>100</td>\n",
       "      <td>-0.042947</td>\n",
       "      <td>0.207237</td>\n",
       "    </tr>\n",
       "    <tr>\n",
       "      <th>0</th>\n",
       "      <td>1</td>\n",
       "      <td>50</td>\n",
       "      <td>-0.048747</td>\n",
       "      <td>0.220787</td>\n",
       "    </tr>\n",
       "  </tbody>\n",
       "</table>\n",
       "</div>"
      ],
      "text/plain": [
       "   max_depth  n_estimators     score     RMSLE\n",
       "2         10            50 -0.030739  0.175326\n",
       "3         10           100 -0.030901  0.175787\n",
       "1          1           100 -0.042947  0.207237\n",
       "0          1            50 -0.048747  0.220787"
      ]
     },
     "execution_count": 42,
     "metadata": {},
     "output_type": "execute_result"
    }
   ],
   "source": [
    "result_XGB.sort_values('RMSLE', ascending=True).head(15)"
   ]
  },
  {
   "cell_type": "markdown",
   "id": "90be1c66",
   "metadata": {},
   "source": [
    "XGB의 경우 max_depth =10, n_estimators = 50에서 가장 성능이 좋은 것으로 나타났다.\n",
    "하지만 시간이 너무 오래걸린다."
   ]
  },
  {
   "cell_type": "markdown",
   "id": "cdea2d1f",
   "metadata": {},
   "source": [
    "__LGBMRegressor__"
   ]
  },
  {
   "cell_type": "code",
   "execution_count": 43,
   "id": "7b2d9b17",
   "metadata": {},
   "outputs": [
    {
     "name": "stdout",
     "output_type": "stream",
     "text": [
      "Fitting 5 folds for each of 4 candidates, totalling 20 fits\n"
     ]
    }
   ],
   "source": [
    "param_grid = {\n",
    "    'n_estimators': [50, 100],\n",
    "    'max_depth': [1, 10],\n",
    "}\n",
    "\n",
    "model = LGBMRegressor(random_state=random_state)\n",
    "result_LGBM = my_GridSearch(model, data, y, param_grid, verbose=2, n_jobs=5)"
   ]
  },
  {
   "cell_type": "code",
   "execution_count": 44,
   "id": "cb3f1f2d",
   "metadata": {},
   "outputs": [
    {
     "data": {
      "text/html": [
       "<div>\n",
       "<style scoped>\n",
       "    .dataframe tbody tr th:only-of-type {\n",
       "        vertical-align: middle;\n",
       "    }\n",
       "\n",
       "    .dataframe tbody tr th {\n",
       "        vertical-align: top;\n",
       "    }\n",
       "\n",
       "    .dataframe thead th {\n",
       "        text-align: right;\n",
       "    }\n",
       "</style>\n",
       "<table border=\"1\" class=\"dataframe\">\n",
       "  <thead>\n",
       "    <tr style=\"text-align: right;\">\n",
       "      <th></th>\n",
       "      <th>max_depth</th>\n",
       "      <th>n_estimators</th>\n",
       "      <th>score</th>\n",
       "      <th>RMSLE</th>\n",
       "    </tr>\n",
       "  </thead>\n",
       "  <tbody>\n",
       "    <tr>\n",
       "      <th>3</th>\n",
       "      <td>10</td>\n",
       "      <td>100</td>\n",
       "      <td>-0.027163</td>\n",
       "      <td>0.164812</td>\n",
       "    </tr>\n",
       "    <tr>\n",
       "      <th>2</th>\n",
       "      <td>10</td>\n",
       "      <td>50</td>\n",
       "      <td>-0.029256</td>\n",
       "      <td>0.171044</td>\n",
       "    </tr>\n",
       "    <tr>\n",
       "      <th>1</th>\n",
       "      <td>1</td>\n",
       "      <td>100</td>\n",
       "      <td>-0.055071</td>\n",
       "      <td>0.234672</td>\n",
       "    </tr>\n",
       "    <tr>\n",
       "      <th>0</th>\n",
       "      <td>1</td>\n",
       "      <td>50</td>\n",
       "      <td>-0.073382</td>\n",
       "      <td>0.270892</td>\n",
       "    </tr>\n",
       "  </tbody>\n",
       "</table>\n",
       "</div>"
      ],
      "text/plain": [
       "   max_depth  n_estimators     score     RMSLE\n",
       "3         10           100 -0.027163  0.164812\n",
       "2         10            50 -0.029256  0.171044\n",
       "1          1           100 -0.055071  0.234672\n",
       "0          1            50 -0.073382  0.270892"
      ]
     },
     "execution_count": 44,
     "metadata": {},
     "output_type": "execute_result"
    }
   ],
   "source": [
    "result_LGBM.sort_values('RMSLE', ascending=True).head(15)"
   ]
  },
  {
   "cell_type": "markdown",
   "id": "6130691b",
   "metadata": {},
   "source": [
    "XGB의 경우 max_depth =10, n_estimators = 100에서 가장 성능이 좋은 것으로 나타났다."
   ]
  },
  {
   "cell_type": "markdown",
   "id": "ede63908",
   "metadata": {},
   "source": [
    "__RandomForestRegressor__"
   ]
  },
  {
   "cell_type": "code",
   "execution_count": 45,
   "id": "1069c439",
   "metadata": {},
   "outputs": [
    {
     "name": "stdout",
     "output_type": "stream",
     "text": [
      "Fitting 5 folds for each of 4 candidates, totalling 20 fits\n"
     ]
    }
   ],
   "source": [
    "param_grid = {\n",
    "    'n_estimators': [50, 100],\n",
    "    'max_depth': [1, 10],\n",
    "}\n",
    "\n",
    "model = RandomForestRegressor(random_state=random_state)\n",
    "result_RF = my_GridSearch(model, data, y, param_grid, verbose=2, n_jobs=5)"
   ]
  },
  {
   "cell_type": "code",
   "execution_count": 46,
   "id": "35420001",
   "metadata": {},
   "outputs": [
    {
     "data": {
      "text/html": [
       "<div>\n",
       "<style scoped>\n",
       "    .dataframe tbody tr th:only-of-type {\n",
       "        vertical-align: middle;\n",
       "    }\n",
       "\n",
       "    .dataframe tbody tr th {\n",
       "        vertical-align: top;\n",
       "    }\n",
       "\n",
       "    .dataframe thead th {\n",
       "        text-align: right;\n",
       "    }\n",
       "</style>\n",
       "<table border=\"1\" class=\"dataframe\">\n",
       "  <thead>\n",
       "    <tr style=\"text-align: right;\">\n",
       "      <th></th>\n",
       "      <th>max_depth</th>\n",
       "      <th>n_estimators</th>\n",
       "      <th>score</th>\n",
       "      <th>RMSLE</th>\n",
       "    </tr>\n",
       "  </thead>\n",
       "  <tbody>\n",
       "    <tr>\n",
       "      <th>3</th>\n",
       "      <td>10</td>\n",
       "      <td>100</td>\n",
       "      <td>-0.035072</td>\n",
       "      <td>0.187276</td>\n",
       "    </tr>\n",
       "    <tr>\n",
       "      <th>2</th>\n",
       "      <td>10</td>\n",
       "      <td>50</td>\n",
       "      <td>-0.035385</td>\n",
       "      <td>0.188109</td>\n",
       "    </tr>\n",
       "    <tr>\n",
       "      <th>0</th>\n",
       "      <td>1</td>\n",
       "      <td>50</td>\n",
       "      <td>-0.177412</td>\n",
       "      <td>0.421203</td>\n",
       "    </tr>\n",
       "    <tr>\n",
       "      <th>1</th>\n",
       "      <td>1</td>\n",
       "      <td>100</td>\n",
       "      <td>-0.177421</td>\n",
       "      <td>0.421214</td>\n",
       "    </tr>\n",
       "  </tbody>\n",
       "</table>\n",
       "</div>"
      ],
      "text/plain": [
       "   max_depth  n_estimators     score     RMSLE\n",
       "3         10           100 -0.035072  0.187276\n",
       "2         10            50 -0.035385  0.188109\n",
       "0          1            50 -0.177412  0.421203\n",
       "1          1           100 -0.177421  0.421214"
      ]
     },
     "execution_count": 46,
     "metadata": {},
     "output_type": "execute_result"
    }
   ],
   "source": [
    "result_RF.sort_values('RMSLE', ascending=True).head(15)"
   ]
  },
  {
   "cell_type": "markdown",
   "id": "39a9c1c9",
   "metadata": {},
   "source": [
    "Random Forest의 경우 max_depth = 10, n_estimators = 100 에서 가장 성능이 좋은 것으로 나타났다. "
   ]
  },
  {
   "cell_type": "markdown",
   "id": "57a7f51f",
   "metadata": {},
   "source": [
    "---------------------------------------"
   ]
  },
  {
   "cell_type": "code",
   "execution_count": 53,
   "id": "94ebba3f",
   "metadata": {},
   "outputs": [
    {
     "data": {
      "text/html": [
       "<div>\n",
       "<style scoped>\n",
       "    .dataframe tbody tr th:only-of-type {\n",
       "        vertical-align: middle;\n",
       "    }\n",
       "\n",
       "    .dataframe tbody tr th {\n",
       "        vertical-align: top;\n",
       "    }\n",
       "\n",
       "    .dataframe thead th {\n",
       "        text-align: right;\n",
       "    }\n",
       "</style>\n",
       "<table border=\"1\" class=\"dataframe\">\n",
       "  <thead>\n",
       "    <tr style=\"text-align: right;\">\n",
       "      <th></th>\n",
       "      <th>id</th>\n",
       "      <th>price</th>\n",
       "    </tr>\n",
       "  </thead>\n",
       "  <tbody>\n",
       "    <tr>\n",
       "      <th>0</th>\n",
       "      <td>15035</td>\n",
       "      <td>100000</td>\n",
       "    </tr>\n",
       "    <tr>\n",
       "      <th>1</th>\n",
       "      <td>15036</td>\n",
       "      <td>100000</td>\n",
       "    </tr>\n",
       "    <tr>\n",
       "      <th>2</th>\n",
       "      <td>15037</td>\n",
       "      <td>100000</td>\n",
       "    </tr>\n",
       "    <tr>\n",
       "      <th>3</th>\n",
       "      <td>15038</td>\n",
       "      <td>100000</td>\n",
       "    </tr>\n",
       "    <tr>\n",
       "      <th>4</th>\n",
       "      <td>15039</td>\n",
       "      <td>100000</td>\n",
       "    </tr>\n",
       "  </tbody>\n",
       "</table>\n",
       "</div>"
      ],
      "text/plain": [
       "      id   price\n",
       "0  15035  100000\n",
       "1  15036  100000\n",
       "2  15037  100000\n",
       "3  15038  100000\n",
       "4  15039  100000"
      ]
     },
     "execution_count": 53,
     "metadata": {},
     "output_type": "execute_result"
    }
   ],
   "source": [
    "data_dir = os.getenv('HOME')+'/aiffel/kaggle_kakr_housing/data'\n",
    "\n",
    "submission_path = join(data_dir, 'sample_submission.csv')\n",
    "submission = pd.read_csv(submission_path)\n",
    "submission.head()"
   ]
  },
  {
   "cell_type": "code",
   "execution_count": 55,
   "id": "84211d5f",
   "metadata": {},
   "outputs": [],
   "source": [
    "\"\"\"\n",
    "아래의 과정을 수행하는 `save_submission(model, train, y, test, model_name, rmsle)` 함수를 구현해 주세요.\n",
    "1. 모델을 `train`, `y`로 학습시킵니다.\n",
    "2. `test`에 대해 예측합니다.\n",
    "3. 예측값을 `np.expm1`으로 변환하고, `submission_model_name_RMSLE_100000.csv` 형태의 `csv` 파일을 저장합니다.\n",
    "\"\"\"\n",
    "\n",
    "# 제출 파일 저장하기\n",
    "def save_submission(model, train, y, test, model_name, rmsle):\n",
    "    model.fit(train, y)\n",
    "    \n",
    "    prediction = model.predict(test)\n",
    "    prediction = np.expm1(prediction)\n",
    "    \n",
    "    data_dir = os.getenv('HOME')+'/aiffel/kaggle_kakr_housing/data'\n",
    "    submission_path = join(data_dir, 'sample_submission.csv')\n",
    "    submission = pd.read_csv(submission_path)\n",
    "    \n",
    "    submission['price'] = prediction\n",
    "    \n",
    "    submission_csv_path = '{}/submission_{}_RMSLE_{}.csv'.format(data_dir, model_name, rmsle)\n",
    "    submission.to_csv(submission_csv_path, index=False)\n",
    "    \n",
    "    print('{} saved!'.format(submission_csv_path))"
   ]
  },
  {
   "cell_type": "markdown",
   "id": "d8f84810",
   "metadata": {},
   "source": [
    "### 학습 시키기"
   ]
  },
  {
   "cell_type": "code",
   "execution_count": 62,
   "id": "ace3b35d",
   "metadata": {},
   "outputs": [
    {
     "data": {
      "text/plain": [
       "GradientBoostingRegressor(max_depth=10, random_state=2021)"
      ]
     },
     "execution_count": 62,
     "metadata": {},
     "output_type": "execute_result"
    }
   ],
   "source": [
    "model = GradientBoostingRegressor(max_depth=10, n_estimators=100, random_state=random_state)\n",
    "model.fit(data, y)"
   ]
  },
  {
   "cell_type": "code",
   "execution_count": 63,
   "id": "08ca8df1",
   "metadata": {},
   "outputs": [
    {
     "data": {
      "text/plain": [
       "array([ 467639.50772372,  498191.24081918, 1340731.41854476, ...,\n",
       "        458770.31670938,  325670.16001927,  447308.84206987])"
      ]
     },
     "execution_count": 63,
     "metadata": {},
     "output_type": "execute_result"
    }
   ],
   "source": [
    "prediction = model.predict(sub)\n",
    "prediction = np.expm1(prediction) # 로그 스케일링한 것 다시 원래 스케일로 돌리기\n",
    "prediction"
   ]
  },
  {
   "cell_type": "code",
   "execution_count": 64,
   "id": "e162388b",
   "metadata": {},
   "outputs": [
    {
     "data": {
      "text/html": [
       "<div>\n",
       "<style scoped>\n",
       "    .dataframe tbody tr th:only-of-type {\n",
       "        vertical-align: middle;\n",
       "    }\n",
       "\n",
       "    .dataframe tbody tr th {\n",
       "        vertical-align: top;\n",
       "    }\n",
       "\n",
       "    .dataframe thead th {\n",
       "        text-align: right;\n",
       "    }\n",
       "</style>\n",
       "<table border=\"1\" class=\"dataframe\">\n",
       "  <thead>\n",
       "    <tr style=\"text-align: right;\">\n",
       "      <th></th>\n",
       "      <th>id</th>\n",
       "      <th>price</th>\n",
       "    </tr>\n",
       "  </thead>\n",
       "  <tbody>\n",
       "    <tr>\n",
       "      <th>0</th>\n",
       "      <td>15035</td>\n",
       "      <td>4.676395e+05</td>\n",
       "    </tr>\n",
       "    <tr>\n",
       "      <th>1</th>\n",
       "      <td>15036</td>\n",
       "      <td>4.981912e+05</td>\n",
       "    </tr>\n",
       "    <tr>\n",
       "      <th>2</th>\n",
       "      <td>15037</td>\n",
       "      <td>1.340731e+06</td>\n",
       "    </tr>\n",
       "    <tr>\n",
       "      <th>3</th>\n",
       "      <td>15038</td>\n",
       "      <td>2.860704e+05</td>\n",
       "    </tr>\n",
       "    <tr>\n",
       "      <th>4</th>\n",
       "      <td>15039</td>\n",
       "      <td>3.267635e+05</td>\n",
       "    </tr>\n",
       "  </tbody>\n",
       "</table>\n",
       "</div>"
      ],
      "text/plain": [
       "      id         price\n",
       "0  15035  4.676395e+05\n",
       "1  15036  4.981912e+05\n",
       "2  15037  1.340731e+06\n",
       "3  15038  2.860704e+05\n",
       "4  15039  3.267635e+05"
      ]
     },
     "execution_count": 64,
     "metadata": {},
     "output_type": "execute_result"
    }
   ],
   "source": [
    "submission['price'] = prediction\n",
    "submission.head()"
   ]
  },
  {
   "cell_type": "code",
   "execution_count": 65,
   "id": "dd29acd9",
   "metadata": {},
   "outputs": [
    {
     "name": "stdout",
     "output_type": "stream",
     "text": [
      "/aiffel/aiffel/kaggle_kakr_housing/data/submission_GD_RMSLE_0.172327.csv\n"
     ]
    }
   ],
   "source": [
    "submission_csv_path = '{}/submission_{}_RMSLE_{}.csv'.format(data_dir, 'GD', '0.172327')\n",
    "submission.to_csv(submission_csv_path, index=False)\n",
    "print(submission_csv_path)"
   ]
  },
  {
   "cell_type": "markdown",
   "id": "cb52d214",
   "metadata": {},
   "source": [
    "kaggle score: 127001.32894"
   ]
  },
  {
   "cell_type": "code",
   "execution_count": 66,
   "id": "462f3d5e",
   "metadata": {},
   "outputs": [
    {
     "name": "stdout",
     "output_type": "stream",
     "text": [
      "/aiffel/aiffel/kaggle_kakr_housing/data/submission_xgb_RMSLE_0.175326.csv saved!\n"
     ]
    }
   ],
   "source": [
    "model = XGBRegressor(max_depth=10, n_estimators=50, random_state=random_state)\n",
    "save_submission(model, data, y, sub, 'xgb', rmsle='0.175326)"
   ]
  },
  {
   "cell_type": "markdown",
   "id": "5d2c2ab1",
   "metadata": {},
   "source": [
    "kaggle score: 121051.81276"
   ]
  },
  {
   "cell_type": "code",
   "execution_count": 68,
   "id": "27bfb1c8",
   "metadata": {},
   "outputs": [
    {
     "name": "stdout",
     "output_type": "stream",
     "text": [
      "/aiffel/aiffel/kaggle_kakr_housing/data/submission_lgbm_RMSLE_0.164812.csv saved!\n"
     ]
    }
   ],
   "source": [
    "model = LGBMRegressor(max_depth=10, n_estimators=100, random_state=random_state)\n",
    "save_submission(model, data, y, sub, 'lgbm', rmsle='0.164812')"
   ]
  },
  {
   "cell_type": "markdown",
   "id": "a2eac1cc",
   "metadata": {},
   "source": [
    "kaggle score : 117872.94961"
   ]
  },
  {
   "cell_type": "code",
   "execution_count": 70,
   "id": "1ca76b23",
   "metadata": {},
   "outputs": [
    {
     "name": "stdout",
     "output_type": "stream",
     "text": [
      "/aiffel/aiffel/kaggle_kakr_housing/data/submission_rf_RMSLE_0.187276.csv saved!\n"
     ]
    }
   ],
   "source": [
    "model = RandomForestRegressor(max_depth=10, n_estimators=100, random_state=random_state)\n",
    "save_submission(model, data, y, sub, 'rf', rmsle='0.187276')"
   ]
  },
  {
   "cell_type": "markdown",
   "id": "dab60dd6",
   "metadata": {},
   "source": [
    "kaggle score : 144219.85339"
   ]
  },
  {
   "cell_type": "code",
   "execution_count": 47,
   "id": "19ee43bc",
   "metadata": {},
   "outputs": [],
   "source": [
    "#여러 모델 입력 시 각 모델에 대한 예측과 결과를 평균 내어 주는 함수\n",
    "def AveragingBlending(models, x, y, sub_x):\n",
    "    for m in models : \n",
    "        m['model'].fit(x.values, y)\n",
    "    \n",
    "    predictions = np.column_stack([\n",
    "        m['model'].predict(sub_x.values) for m in models\n",
    "    ])\n",
    "    return np.mean(predictions, axis=1)"
   ]
  }
 ],
 "metadata": {
  "kernelspec": {
   "display_name": "Python 3 (ipykernel)",
   "language": "python",
   "name": "python3"
  },
  "language_info": {
   "codemirror_mode": {
    "name": "ipython",
    "version": 3
   },
   "file_extension": ".py",
   "mimetype": "text/x-python",
   "name": "python",
   "nbconvert_exporter": "python",
   "pygments_lexer": "ipython3",
   "version": "3.9.7"
  }
 },
 "nbformat": 4,
 "nbformat_minor": 5
}
