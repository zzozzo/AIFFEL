{
 "cells": [
  {
   "cell_type": "code",
   "execution_count": 152,
   "id": "8ae54902",
   "metadata": {},
   "outputs": [
    {
     "data": {
      "text/html": [
       "<div>\n",
       "<style scoped>\n",
       "    .dataframe tbody tr th:only-of-type {\n",
       "        vertical-align: middle;\n",
       "    }\n",
       "\n",
       "    .dataframe tbody tr th {\n",
       "        vertical-align: top;\n",
       "    }\n",
       "\n",
       "    .dataframe thead th {\n",
       "        text-align: right;\n",
       "    }\n",
       "</style>\n",
       "<table border=\"1\" class=\"dataframe\">\n",
       "  <thead>\n",
       "    <tr style=\"text-align: right;\">\n",
       "      <th></th>\n",
       "      <th>id</th>\n",
       "      <th>document</th>\n",
       "      <th>label</th>\n",
       "    </tr>\n",
       "  </thead>\n",
       "  <tbody>\n",
       "    <tr>\n",
       "      <th>0</th>\n",
       "      <td>9976970</td>\n",
       "      <td>아 더빙.. 진짜 짜증나네요 목소리</td>\n",
       "      <td>0</td>\n",
       "    </tr>\n",
       "    <tr>\n",
       "      <th>1</th>\n",
       "      <td>3819312</td>\n",
       "      <td>흠...포스터보고 초딩영화줄....오버연기조차 가볍지 않구나</td>\n",
       "      <td>1</td>\n",
       "    </tr>\n",
       "    <tr>\n",
       "      <th>2</th>\n",
       "      <td>10265843</td>\n",
       "      <td>너무재밓었다그래서보는것을추천한다</td>\n",
       "      <td>0</td>\n",
       "    </tr>\n",
       "    <tr>\n",
       "      <th>3</th>\n",
       "      <td>9045019</td>\n",
       "      <td>교도소 이야기구먼 ..솔직히 재미는 없다..평점 조정</td>\n",
       "      <td>0</td>\n",
       "    </tr>\n",
       "    <tr>\n",
       "      <th>4</th>\n",
       "      <td>6483659</td>\n",
       "      <td>사이몬페그의 익살스런 연기가 돋보였던 영화!스파이더맨에서 늙어보이기만 했던 커스틴 ...</td>\n",
       "      <td>1</td>\n",
       "    </tr>\n",
       "  </tbody>\n",
       "</table>\n",
       "</div>"
      ],
      "text/plain": [
       "         id                                           document  label\n",
       "0   9976970                                아 더빙.. 진짜 짜증나네요 목소리      0\n",
       "1   3819312                  흠...포스터보고 초딩영화줄....오버연기조차 가볍지 않구나      1\n",
       "2  10265843                                  너무재밓었다그래서보는것을추천한다      0\n",
       "3   9045019                      교도소 이야기구먼 ..솔직히 재미는 없다..평점 조정      0\n",
       "4   6483659  사이몬페그의 익살스런 연기가 돋보였던 영화!스파이더맨에서 늙어보이기만 했던 커스틴 ...      1"
      ]
     },
     "execution_count": 152,
     "metadata": {},
     "output_type": "execute_result"
    }
   ],
   "source": [
    "import pandas as pd\n",
    "\n",
    "# 데이터를 읽어봅시다. \n",
    "train_data = pd.read_table('~/aiffel/sentiment_classification/data/ratings_train.txt')\n",
    "test_data = pd.read_table('~/aiffel/sentiment_classification/data/ratings_test.txt')\n",
    "\n",
    "train_data.head()"
   ]
  },
  {
   "cell_type": "code",
   "execution_count": 153,
   "id": "37de42b3",
   "metadata": {},
   "outputs": [
    {
     "name": "stderr",
     "output_type": "stream",
     "text": [
      "/tmp/ipykernel_13/915885256.py:3: FutureWarning: The default value of regex will change from True to False in a future version.\n",
      "  dataset['document'] = dataset['document'].str.replace(\"[^ㄱ-ㅎㅏ-ㅣ가-힣 ]\",\"\") # 정규 표현식 수행\n",
      "/tmp/ipykernel_13/915885256.py:4: FutureWarning: The default value of regex will change from True to False in a future version.\n",
      "  dataset['document'] = dataset['document'].str.replace('^ +', \"\") # 공백은 empty 값으로 변경\n"
     ]
    },
    {
     "name": "stdout",
     "output_type": "stream",
     "text": [
      "<class 'pandas.core.frame.DataFrame'>\n",
      "Int64Index: 146183 entries, 0 to 149999\n",
      "Data columns (total 3 columns):\n",
      " #   Column    Non-Null Count   Dtype \n",
      "---  ------    --------------   ----- \n",
      " 0   id        146183 non-null  int64 \n",
      " 1   document  145393 non-null  object\n",
      " 2   label     146183 non-null  int64 \n",
      "dtypes: int64(2), object(1)\n",
      "memory usage: 4.5+ MB\n"
     ]
    }
   ],
   "source": [
    "    def nrmz(dataset): \n",
    "        dataset.drop_duplicates(subset = ['document'], inplace=True) # document 열에서 중복인 내용이 있다면 중복 제거\n",
    "        dataset['document'] = dataset['document'].str.replace(\"[^ㄱ-ㅎㅏ-ㅣ가-힣 ]\",\"\") # 정규 표현식 수행\n",
    "        dataset['document'] = dataset['document'].str.replace('^ +', \"\") # 공백은 empty 값으로 변경\n",
    "        dataset['document'].replace('', np.nan, inplace=True) # 공백은 Null 값으로 변경\n",
    "        dataset = dataset.dropna(how='any') # Null 값 제거\n",
    "        \n",
    "    nrmz(train_data)\n",
    "    nrmz(test_data)\n",
    "    train_data.info()\n",
    "    "
   ]
  },
  {
   "cell_type": "code",
   "execution_count": 154,
   "id": "ed0a4eaa",
   "metadata": {},
   "outputs": [
    {
     "name": "stderr",
     "output_type": "stream",
     "text": [
      "/tmp/ipykernel_13/2860097851.py:10: FutureWarning: The default value of regex will change from True to False in a future version.\n",
      "  train_data['document'] = train_data['document'].str.replace(\"[^ㄱ-ㅎㅏ-ㅣ가-힣 ]\",\"\") # 정규 표현식 수행\n",
      "/tmp/ipykernel_13/2860097851.py:11: FutureWarning: The default value of regex will change from True to False in a future version.\n",
      "  train_data['document'] = train_data['document'].str.replace('^ +', \"\") # 공백은 empty 값으로 변경\n",
      "/tmp/ipykernel_13/2860097851.py:16: FutureWarning: The default value of regex will change from True to False in a future version.\n",
      "  test_data['document'] = test_data['document'].str.replace(\"[^ㄱ-ㅎㅏ-ㅣ가-힣 ]\",\"\") # 정규 표현식 수행\n",
      "/tmp/ipykernel_13/2860097851.py:17: FutureWarning: The default value of regex will change from True to False in a future version.\n",
      "  test_data['document'] = test_data['document'].str.replace('^ +', \"\") # 공백은 empty 값으로 변경\n"
     ]
    }
   ],
   "source": [
    "from konlpy.tag import Mecab\n",
    "import numpy as np\n",
    "from collections import Counter\n",
    "\n",
    "tokenizer = Mecab()\n",
    "stopwords = ['의','가','이','은','들','는','좀','잘','걍','과','도','를','으로','자','에','와','한','하다']\n",
    "\n",
    "def load_data(train_data, test_data, num_words=10000):\n",
    "    \n",
    "    train_data['document'] = train_data['document'].str.replace(\"[^ㄱ-ㅎㅏ-ㅣ가-힣 ]\",\"\") # 정규 표현식 수행\n",
    "    train_data['document'] = train_data['document'].str.replace('^ +', \"\") # 공백은 empty 값으로 변경\n",
    "    train_data['document'].replace('', np.nan, inplace=True) # 공백은 Null 값으로 변경\n",
    "    train_data.drop_duplicates(subset = ['document'], inplace=True) # document 열에서 중복인 내용이 있다면 중복 제거\n",
    "    train_data = train_data.dropna(how='any') # Null 값 제거\n",
    "    \n",
    "    test_data['document'] = test_data['document'].str.replace(\"[^ㄱ-ㅎㅏ-ㅣ가-힣 ]\",\"\") # 정규 표현식 수행\n",
    "    test_data['document'] = test_data['document'].str.replace('^ +', \"\") # 공백은 empty 값으로 변경\n",
    "    test_data['document'].replace('', np.nan, inplace=True) # 공백은 Null 값으로 변경\n",
    "    test_data.drop_duplicates(subset = ['document'], inplace=True) # document 열에서 중복인 내용이 있다면 중복 제거\n",
    "    test_data = test_data.dropna(how='any') # Null 값 제거\n",
    "    \n",
    "    \n",
    "    X_train = []\n",
    "    for sentence in train_data['document']:\n",
    "        temp_X = tokenizer.morphs(sentence) # 토큰화\n",
    "        temp_X = [word for word in temp_X if not word in stopwords] # 불용어 제거\n",
    "        X_train.append(temp_X)\n",
    "\n",
    "    X_test = []\n",
    "    for sentence in test_data['document']:\n",
    "        temp_X = tokenizer.morphs(sentence) # 토큰화\n",
    "        temp_X = [word for word in temp_X if not word in stopwords] # 불용어 제거\n",
    "        X_test.append(temp_X)\n",
    "    \n",
    "    words = np.concatenate(X_train).tolist()\n",
    "    counter = Counter(words)\n",
    "    counter = counter.most_common(10000-4)\n",
    "    vocab = ['<PAD>', '<BOS>', '<UNK>', '<UNUSED>'] + [key for key, _ in counter]\n",
    "    word_to_index = {word:index for index, word in enumerate(vocab)}\n",
    "        \n",
    "    def wordlist_to_indexlist(wordlist):\n",
    "        return [word_to_index[word] if word in word_to_index else word_to_index['<UNK>'] for word in wordlist]\n",
    "        \n",
    "    X_train = list(map(wordlist_to_indexlist, X_train))\n",
    "    X_test = list(map(wordlist_to_indexlist, X_test))\n",
    "        \n",
    "    return X_train, np.array(list(train_data['label'])), X_test, np.array(list(test_data['label'])), word_to_index\n",
    "    \n",
    "X_train, y_train, X_test, y_test, word_to_index = load_data(train_data, test_data) "
   ]
  },
  {
   "cell_type": "code",
   "execution_count": 155,
   "id": "237163a0",
   "metadata": {},
   "outputs": [],
   "source": [
    "# 문장 1개를 활용할 딕셔너리와 함께 주면, 단어 인덱스 리스트 벡터로 변환해 주는 함수입니다. \n",
    "# 단, 모든 문장은 <BOS>로 시작하는 것으로 합니다. \n",
    "def get_encoded_sentence(sentence, word_to_index):\n",
    "    return [word_to_index['<BOS>']]+[word_to_index[word] if word in word_to_index else word_to_index['<UNK>'] for word in sentence.split()]\n",
    "\n",
    "# 여러 개의 문장 리스트를 한꺼번에 단어 인덱스 리스트 벡터로 encode해 주는 함수입니다. \n",
    "def get_encoded_sentences(sentences, word_to_index):\n",
    "    return [get_encoded_sentence(sentence, word_to_index) for sentence in sentences]\n",
    "\n",
    "# 숫자 벡터로 encode된 문장을 원래대로 decode하는 함수입니다. \n",
    "def get_decoded_sentence(encoded_sentence, index_to_word):\n",
    "    return ' '.join(index_to_word[index] if index in index_to_word else '<UNK>' for index in encoded_sentence[1:])  #[1:]를 통해 <BOS>를 제외\n",
    "\n",
    "# 여러 개의 숫자 벡터로 encode된 문장을 한꺼번에 원래대로 decode하는 함수입니다. \n",
    "def get_decoded_sentences(encoded_sentences, index_to_word):\n",
    "    return [get_decoded_sentence(encoded_sentence, index_to_word) for encoded_sentence in encoded_sentences]"
   ]
  },
  {
   "cell_type": "code",
   "execution_count": 156,
   "id": "ee1a7dbf",
   "metadata": {},
   "outputs": [
    {
     "name": "stdout",
     "output_type": "stream",
     "text": [
      "[27, 67, 891, 33, 214, 15, 28, 698]\n",
      "라벨:  0\n",
      "1번째 리뷰 문장 길이:  8\n",
      "2번째 리뷰 문장 길이:  13\n"
     ]
    }
   ],
   "source": [
    "print(X_train[0])  # 1번째 리뷰데이터\n",
    "print('라벨: ', y_train[0])  # 1번째 리뷰데이터의 라벨\n",
    "print('1번째 리뷰 문장 길이: ', len(X_train[0]))\n",
    "print('2번째 리뷰 문장 길이: ', len(X_train[1]))"
   ]
  },
  {
   "cell_type": "code",
   "execution_count": 157,
   "id": "8400bd30",
   "metadata": {},
   "outputs": [],
   "source": [
    "index_to_word = {index:word for word, index in word_to_index.items()}"
   ]
  },
  {
   "cell_type": "code",
   "execution_count": 158,
   "id": "00ebb9c3",
   "metadata": {},
   "outputs": [
    {
     "name": "stdout",
     "output_type": "stream",
     "text": [
      "문장길이 평균 :  13.927888796879312\n",
      "문장길이 최대 :  83\n",
      "문장길이 표준편차 :  11.454835366606218\n",
      "pad_sequences maxlen :  31\n",
      "전체 문장의 0.910472946580629%가 maxlen 설정값 이내에 포함됩니다. \n"
     ]
    }
   ],
   "source": [
    "total_data_text = list(X_train) + list(X_test)\n",
    "# 텍스트데이터 문장길이의 리스트를 생성한 후\n",
    "num_tokens = [len(tokens) for tokens in total_data_text]\n",
    "num_tokens = np.array(num_tokens)\n",
    "# 문장길이의 평균값, 최대값, 표준편차를 계산해 본다. \n",
    "print('문장길이 평균 : ', np.mean(num_tokens))\n",
    "print('문장길이 최대 : ', np.max(num_tokens))\n",
    "print('문장길이 표준편차 : ', np.std(num_tokens))\n",
    "\n",
    "# 예를들어, 최대 길이를 (평균 + 2*표준편차)로 한다면,  \n",
    "max_tokens = np.mean(num_tokens) + 1.5 * np.std(num_tokens)\n",
    "maxlen = int(max_tokens)\n",
    "print('pad_sequences maxlen : ', maxlen)\n",
    "print('전체 문장의 {}%가 maxlen 설정값 이내에 포함됩니다. '.format(np.sum(num_tokens < max_tokens) / len(num_tokens)))"
   ]
  },
  {
   "cell_type": "code",
   "execution_count": 159,
   "id": "490ff149",
   "metadata": {},
   "outputs": [
    {
     "name": "stdout",
     "output_type": "stream",
     "text": [
      "(143620, 31)\n"
     ]
    }
   ],
   "source": [
    "import tensorflow as tf\n",
    "\n",
    "X_train = tf.keras.preprocessing.sequence.pad_sequences(X_train,\n",
    "                                                        value=word_to_index[\"<PAD>\"],\n",
    "                                                        padding='pre', # 혹은 'pre'\n",
    "                                                        maxlen=maxlen)\n",
    "\n",
    "X_test = tf.keras.preprocessing.sequence.pad_sequences(X_test,\n",
    "                                                       value=word_to_index[\"<PAD>\"],\n",
    "                                                       padding='pre', # 혹은 'pre'\n",
    "                                                       maxlen=maxlen)\n",
    "\n",
    "\n",
    "print(X_train.shape)"
   ]
  },
  {
   "cell_type": "code",
   "execution_count": 160,
   "id": "ed1a6d29",
   "metadata": {},
   "outputs": [
    {
     "name": "stdout",
     "output_type": "stream",
     "text": [
      "(113620, 31)\n",
      "(113620,)\n"
     ]
    }
   ],
   "source": [
    "# validation set 30000건 분리\n",
    "x_val = X_train[:30000]   \n",
    "y_val = y_train[:30000]\n",
    "\n",
    "# validation set을 제외한 나머지 116182건\n",
    "partial_x_train = X_train[30000:]  \n",
    "partial_y_train = y_train[30000:]\n",
    "\n",
    "print(partial_x_train.shape)\n",
    "print(partial_y_train.shape)"
   ]
  },
  {
   "cell_type": "markdown",
   "id": "d383394d",
   "metadata": {},
   "source": [
    "RNN"
   ]
  },
  {
   "cell_type": "code",
   "execution_count": 161,
   "id": "08fb877e",
   "metadata": {},
   "outputs": [
    {
     "name": "stdout",
     "output_type": "stream",
     "text": [
      "Model: \"sequential_26\"\n",
      "_________________________________________________________________\n",
      "Layer (type)                 Output Shape              Param #   \n",
      "=================================================================\n",
      "embedding_26 (Embedding)     (None, None, 100)         1000000   \n",
      "_________________________________________________________________\n",
      "lstm_8 (LSTM)                (None, 8)                 3488      \n",
      "_________________________________________________________________\n",
      "dense_37 (Dense)             (None, 8)                 72        \n",
      "_________________________________________________________________\n",
      "dense_38 (Dense)             (None, 1)                 9         \n",
      "=================================================================\n",
      "Total params: 1,003,569\n",
      "Trainable params: 1,003,569\n",
      "Non-trainable params: 0\n",
      "_________________________________________________________________\n"
     ]
    }
   ],
   "source": [
    "vocab_size = 10000  # 어휘 사전의 크기입니다(10개의 단어)\n",
    "word_vector_dim = 100  # 단어 하나를 표현하는 임베딩 벡터의 차원수입니다. \n",
    "\n",
    "model = tf.keras.Sequential()\n",
    "model.add(tf.keras.layers.Embedding(vocab_size, word_vector_dim, input_shape=(None,)))\n",
    "model.add(tf.keras.layers.LSTM(8))   # 가장 널리 쓰이는 RNN인 LSTM 레이어를 사용하였습니다. 이때 LSTM state 벡터의 차원수는 8로 하였습니다. (변경 가능)\n",
    "model.add(tf.keras.layers.Dense(8, activation='relu'))\n",
    "model.add(tf.keras.layers.Dense(1, activation='sigmoid'))  # 최종 출력은 긍정/부정을 나타내는 1dim 입니다.\n",
    "\n",
    "model.summary()"
   ]
  },
  {
   "cell_type": "code",
   "execution_count": 162,
   "id": "f57376a9",
   "metadata": {},
   "outputs": [
    {
     "name": "stdout",
     "output_type": "stream",
     "text": [
      "Epoch 1/20\n",
      "222/222 [==============================] - 3s 7ms/step - loss: 0.4795 - accuracy: 0.7896 - val_loss: 0.3636 - val_accuracy: 0.8422\n",
      "Epoch 2/20\n",
      "222/222 [==============================] - 1s 5ms/step - loss: 0.3420 - accuracy: 0.8541 - val_loss: 0.3584 - val_accuracy: 0.8412\n",
      "Epoch 3/20\n",
      "222/222 [==============================] - 1s 6ms/step - loss: 0.3148 - accuracy: 0.8660 - val_loss: 0.3513 - val_accuracy: 0.8452\n",
      "Epoch 4/20\n",
      "222/222 [==============================] - 1s 5ms/step - loss: 0.2949 - accuracy: 0.8762 - val_loss: 0.3556 - val_accuracy: 0.8443\n",
      "Epoch 5/20\n",
      "222/222 [==============================] - 1s 6ms/step - loss: 0.2753 - accuracy: 0.8856 - val_loss: 0.3606 - val_accuracy: 0.8460\n",
      "Epoch 6/20\n",
      "222/222 [==============================] - 1s 5ms/step - loss: 0.2563 - accuracy: 0.8937 - val_loss: 0.3704 - val_accuracy: 0.8454\n",
      "Epoch 7/20\n",
      "222/222 [==============================] - 1s 6ms/step - loss: 0.2382 - accuracy: 0.9024 - val_loss: 0.3838 - val_accuracy: 0.8436\n",
      "Epoch 8/20\n",
      "222/222 [==============================] - 1s 5ms/step - loss: 0.2222 - accuracy: 0.9097 - val_loss: 0.4059 - val_accuracy: 0.8422\n",
      "Epoch 9/20\n",
      "222/222 [==============================] - 1s 6ms/step - loss: 0.2066 - accuracy: 0.9173 - val_loss: 0.4208 - val_accuracy: 0.8386\n",
      "Epoch 10/20\n",
      "222/222 [==============================] - 1s 5ms/step - loss: 0.1927 - accuracy: 0.9240 - val_loss: 0.4341 - val_accuracy: 0.8374\n",
      "Epoch 11/20\n",
      "222/222 [==============================] - 1s 5ms/step - loss: 0.1793 - accuracy: 0.9305 - val_loss: 0.4598 - val_accuracy: 0.8366\n",
      "Epoch 12/20\n",
      "222/222 [==============================] - 1s 6ms/step - loss: 0.1693 - accuracy: 0.9356 - val_loss: 0.4709 - val_accuracy: 0.8330\n",
      "Epoch 13/20\n",
      "222/222 [==============================] - 1s 5ms/step - loss: 0.1597 - accuracy: 0.9398 - val_loss: 0.5031 - val_accuracy: 0.8333\n",
      "Epoch 14/20\n",
      "222/222 [==============================] - 1s 6ms/step - loss: 0.1493 - accuracy: 0.9441 - val_loss: 0.5342 - val_accuracy: 0.8324\n",
      "Epoch 15/20\n",
      "222/222 [==============================] - 1s 5ms/step - loss: 0.1393 - accuracy: 0.9493 - val_loss: 0.5639 - val_accuracy: 0.8302\n",
      "Epoch 16/20\n",
      "222/222 [==============================] - 1s 6ms/step - loss: 0.1318 - accuracy: 0.9521 - val_loss: 0.5650 - val_accuracy: 0.8267\n",
      "Epoch 17/20\n",
      "222/222 [==============================] - 1s 5ms/step - loss: 0.1254 - accuracy: 0.9544 - val_loss: 0.5828 - val_accuracy: 0.8254\n",
      "Epoch 18/20\n",
      "222/222 [==============================] - 1s 5ms/step - loss: 0.1174 - accuracy: 0.9588 - val_loss: 0.6111 - val_accuracy: 0.8252\n",
      "Epoch 19/20\n",
      "222/222 [==============================] - 1s 5ms/step - loss: 0.1111 - accuracy: 0.9614 - val_loss: 0.6413 - val_accuracy: 0.8263\n",
      "Epoch 20/20\n",
      "222/222 [==============================] - 1s 6ms/step - loss: 0.1055 - accuracy: 0.9636 - val_loss: 0.6592 - val_accuracy: 0.8247\n"
     ]
    }
   ],
   "source": [
    "model.compile(optimizer='adam',\n",
    "              loss='binary_crossentropy',\n",
    "              metrics=['accuracy'])\n",
    "              \n",
    "epochs=20  # 몇 epoch를 훈련하면 좋을지 결과를 보면서 바꾸어 봅시다. \n",
    "\n",
    "history = model.fit(partial_x_train,\n",
    "                    partial_y_train,\n",
    "                    epochs=epochs,\n",
    "                    batch_size=512,\n",
    "                    validation_data=(x_val, y_val),\n",
    "                    verbose=1)"
   ]
  },
  {
   "cell_type": "code",
   "execution_count": 163,
   "id": "bb0911e4",
   "metadata": {},
   "outputs": [
    {
     "name": "stdout",
     "output_type": "stream",
     "text": [
      "1513/1513 - 3s - loss: 0.6642 - accuracy: 0.8250\n",
      "[0.6641845107078552, 0.8250015377998352]\n"
     ]
    }
   ],
   "source": [
    "results = model.evaluate(X_test,  y_test, verbose=2)\n",
    "\n",
    "print(results)"
   ]
  },
  {
   "cell_type": "code",
   "execution_count": 164,
   "id": "52bec8d8",
   "metadata": {},
   "outputs": [
    {
     "name": "stdout",
     "output_type": "stream",
     "text": [
      "dict_keys(['loss', 'accuracy', 'val_loss', 'val_accuracy'])\n"
     ]
    }
   ],
   "source": [
    "history_dict = history.history\n",
    "print(history_dict.keys()) # epoch에 따른 그래프를 그려볼 수 있는 항목들"
   ]
  },
  {
   "cell_type": "code",
   "execution_count": 165,
   "id": "5abb63ae",
   "metadata": {},
   "outputs": [
    {
     "data": {
      "image/png": "[encoded data removed]",
      "text/plain": [
       "<Figure size 720x720 with 2 Axes>"
      ]
     },
     "metadata": {
      "needs_background": "light"
     },
     "output_type": "display_data"
    }
   ],
   "source": [
    "import matplotlib.pyplot as plt\n",
    "\n",
    "acc = history_dict['accuracy']\n",
    "val_acc = history_dict['val_accuracy']\n",
    "loss = history_dict['loss']\n",
    "val_loss = history_dict['val_loss']\n",
    "\n",
    "epochs = range(1, len(acc) + 1)\n",
    "\n",
    "fig , ax = plt.subplots(1,2,figsize = (10,10))\n",
    "\n",
    "ax[0].plot(epochs, loss, 'r', label='Training loss')\n",
    "ax[0].plot(epochs, val_loss, 'b', label='Validation loss')\n",
    "ax[0].set_title('Training and validation loss')\n",
    "ax[0].set_xlabel('Epochs')\n",
    "ax[0].set_ylabel('Loss')\n",
    "ax[0].legend()\n",
    "\n",
    "ax[1].plot(epochs, acc, 'r', label='Training acc')\n",
    "ax[1].plot(epochs, val_acc, 'b', label='Validation acc')\n",
    "ax[1].set_title('Training and validation accuracy')\n",
    "ax[1].set_xlabel('Epochs')\n",
    "ax[1].set_ylabel('Accuracy')\n",
    "ax[1].legend()\n",
    "\n",
    "plt.show()"
   ]
  },
  {
   "cell_type": "code",
   "execution_count": 166,
   "id": "1e62a4dd",
   "metadata": {},
   "outputs": [
    {
     "name": "stdout",
     "output_type": "stream",
     "text": [
      "(10000, 100)\n"
     ]
    }
   ],
   "source": [
    "embedding_layer = model.layers[0]\n",
    "weights = embedding_layer.get_weights()[0]\n",
    "print(weights.shape)    # shape: (vocab_size, embedding_dim)"
   ]
  },
  {
   "cell_type": "code",
   "execution_count": 167,
   "id": "619b562a",
   "metadata": {},
   "outputs": [],
   "source": [
    "import os\n",
    "from gensim.models import KeyedVectors\n",
    "# 학습한 Embedding 파라미터를 파일에 써서 저장합니다. \n",
    "word2vec_file_path = os.getenv('HOME')+'/aiffel/sentiment_classification/data/word2vec.txt'\n",
    "f = open(word2vec_file_path, 'w')\n",
    "f.write('{} {}\\n'.format(vocab_size-4, word_vector_dim))  # 몇개의 벡터를 얼마 사이즈로 기재할지 타이틀을 씁니다.\n",
    "\n",
    "# 단어 개수(에서 특수문자 4개는 제외하고)만큼의 워드 벡터를 파일에 기록합니다. \n",
    "vectors = model.get_weights()[0]\n",
    "for i in range(4,vocab_size):\n",
    "    f.write('{} {}\\n'.format(index_to_word[i], ' '.join(map(str, list(vectors[i, :])))))\n",
    "f.close()"
   ]
  },
  {
   "cell_type": "code",
   "execution_count": 168,
   "id": "a4902d4d",
   "metadata": {},
   "outputs": [],
   "source": [
    "word_vectors = Word2VecKeyedVectors.load_word2vec_format(word2vec_file_path, binary=False)"
   ]
  },
  {
   "cell_type": "code",
   "execution_count": 169,
   "id": "65f2f186",
   "metadata": {},
   "outputs": [
    {
     "data": {
      "text/plain": [
       "[('너무', 0.632769763469696),\n",
       " ('완전', 0.5178683400154114),\n",
       " ('마니', 0.5114922523498535),\n",
       " ('너무나', 0.4899294972419739),\n",
       " ('삐', 0.48803967237472534),\n",
       " ('영어', 0.4866272509098053),\n",
       " ('제', 0.4850623309612274),\n",
       " ('강인', 0.4832506477832794),\n",
       " ('넘', 0.4820665121078491),\n",
       " ('그레이', 0.48061561584472656)]"
      ]
     },
     "execution_count": 169,
     "metadata": {},
     "output_type": "execute_result"
    }
   ],
   "source": [
    "word_vectors.similar_by_word(\"진짜\")"
   ]
  },
  {
   "cell_type": "code",
   "execution_count": 170,
   "id": "b561c1cb",
   "metadata": {},
   "outputs": [],
   "source": [
    "vocab_size = 10000    # 어휘 사전의 크기입니다(10,000개의 단어)\n",
    "word_vector_dim = 100  # 워드 벡터의 차원수 (변경가능한 하이퍼파라미터)\n",
    "\n",
    "embedding_matrix = np.random.rand(vocab_size, word_vector_dim)\n",
    "\n",
    "# embedding_matrix에 Word2Vec 워드벡터를 단어 하나씩마다 차례차례 카피한다.\n",
    "for i in range(4,vocab_size):\n",
    "    if index_to_word[i] in word_vectors:\n",
    "        embedding_matrix[i] = word_vectors[index_to_word[i]]\n"
   ]
  },
  {
   "cell_type": "markdown",
   "id": "657f5a52",
   "metadata": {},
   "source": [
    "global_max_pooling1d"
   ]
  },
  {
   "cell_type": "code",
   "execution_count": 171,
   "id": "980c2de3",
   "metadata": {},
   "outputs": [
    {
     "name": "stdout",
     "output_type": "stream",
     "text": [
      "Model: \"sequential_27\"\n",
      "_________________________________________________________________\n",
      "Layer (type)                 Output Shape              Param #   \n",
      "=================================================================\n",
      "embedding_27 (Embedding)     (None, 31, 100)           1000000   \n",
      "_________________________________________________________________\n",
      "global_max_pooling1d_10 (Glo (None, 100)               0         \n",
      "_________________________________________________________________\n",
      "dense_39 (Dense)             (None, 8)                 808       \n",
      "_________________________________________________________________\n",
      "dense_40 (Dense)             (None, 1)                 9         \n",
      "=================================================================\n",
      "Total params: 1,000,817\n",
      "Trainable params: 1,000,817\n",
      "Non-trainable params: 0\n",
      "_________________________________________________________________\n"
     ]
    }
   ],
   "source": [
    "vocab_size = 10000  # 어휘 사전의 크기입니다(10개의 단어)\n",
    "word_vector_dim = 100   # 단어 하나를 표현하는 임베딩 벡터의 차원 수입니다. \n",
    "\n",
    "model = tf.keras.Sequential()\n",
    "model.add(tf.keras.layers.Embedding(vocab_size, \n",
    "                                 word_vector_dim, \n",
    "                                 embeddings_initializer=Constant(embedding_matrix),  # 카피한 임베딩을 여기서 활용\n",
    "                                 input_length=maxlen, \n",
    "                                 trainable=True)) \n",
    "model.add(tf.keras.layers.GlobalMaxPooling1D())\n",
    "model.add(tf.keras.layers.Dense(8, activation='relu'))\n",
    "model.add(tf.keras.layers.Dense(1, activation='sigmoid'))  # 최종 출력은 긍정/부정을 나타내는 1dim 입니다.\n",
    "\n",
    "model.summary()"
   ]
  },
  {
   "cell_type": "code",
   "execution_count": 172,
   "id": "42f12f65",
   "metadata": {},
   "outputs": [
    {
     "name": "stdout",
     "output_type": "stream",
     "text": [
      "Epoch 1/20\n",
      "222/222 [==============================] - 1s 4ms/step - loss: 0.6270 - accuracy: 0.7377 - val_loss: 0.5096 - val_accuracy: 0.7931\n",
      "Epoch 2/20\n",
      "222/222 [==============================] - 1s 4ms/step - loss: 0.4163 - accuracy: 0.8305 - val_loss: 0.3894 - val_accuracy: 0.8252\n",
      "Epoch 3/20\n",
      "222/222 [==============================] - 1s 4ms/step - loss: 0.3458 - accuracy: 0.8542 - val_loss: 0.3726 - val_accuracy: 0.8333\n",
      "Epoch 4/20\n",
      "222/222 [==============================] - 1s 3ms/step - loss: 0.3180 - accuracy: 0.8671 - val_loss: 0.3697 - val_accuracy: 0.8359\n",
      "Epoch 5/20\n",
      "222/222 [==============================] - 1s 3ms/step - loss: 0.2994 - accuracy: 0.8760 - val_loss: 0.3703 - val_accuracy: 0.8371\n",
      "Epoch 6/20\n",
      "222/222 [==============================] - 1s 4ms/step - loss: 0.2846 - accuracy: 0.8832 - val_loss: 0.3736 - val_accuracy: 0.8361\n",
      "Epoch 7/20\n",
      "222/222 [==============================] - 1s 4ms/step - loss: 0.2718 - accuracy: 0.8892 - val_loss: 0.3802 - val_accuracy: 0.8365\n",
      "Epoch 8/20\n",
      "222/222 [==============================] - 1s 4ms/step - loss: 0.2604 - accuracy: 0.8949 - val_loss: 0.3843 - val_accuracy: 0.8369\n",
      "Epoch 9/20\n",
      "222/222 [==============================] - 1s 4ms/step - loss: 0.2498 - accuracy: 0.9005 - val_loss: 0.3900 - val_accuracy: 0.8368\n",
      "Epoch 10/20\n",
      "222/222 [==============================] - 1s 3ms/step - loss: 0.2396 - accuracy: 0.9054 - val_loss: 0.3965 - val_accuracy: 0.8364\n",
      "Epoch 11/20\n",
      "222/222 [==============================] - 1s 3ms/step - loss: 0.2291 - accuracy: 0.9105 - val_loss: 0.4068 - val_accuracy: 0.8352\n",
      "Epoch 12/20\n",
      "222/222 [==============================] - 1s 4ms/step - loss: 0.2200 - accuracy: 0.9145 - val_loss: 0.4158 - val_accuracy: 0.8343\n",
      "Epoch 13/20\n",
      "222/222 [==============================] - 1s 4ms/step - loss: 0.2098 - accuracy: 0.9196 - val_loss: 0.4233 - val_accuracy: 0.8335\n",
      "Epoch 14/20\n",
      "222/222 [==============================] - 1s 4ms/step - loss: 0.2005 - accuracy: 0.9239 - val_loss: 0.4343 - val_accuracy: 0.8331\n",
      "Epoch 15/20\n",
      "222/222 [==============================] - 1s 3ms/step - loss: 0.1905 - accuracy: 0.9283 - val_loss: 0.4477 - val_accuracy: 0.8310\n",
      "Epoch 16/20\n",
      "222/222 [==============================] - 1s 4ms/step - loss: 0.1812 - accuracy: 0.9321 - val_loss: 0.4639 - val_accuracy: 0.8297\n",
      "Epoch 17/20\n",
      "222/222 [==============================] - 1s 4ms/step - loss: 0.1720 - accuracy: 0.9367 - val_loss: 0.4839 - val_accuracy: 0.8281\n",
      "Epoch 18/20\n",
      "222/222 [==============================] - 1s 4ms/step - loss: 0.1632 - accuracy: 0.9410 - val_loss: 0.4901 - val_accuracy: 0.8271\n",
      "Epoch 19/20\n",
      "222/222 [==============================] - 1s 4ms/step - loss: 0.1539 - accuracy: 0.9449 - val_loss: 0.5127 - val_accuracy: 0.8259\n",
      "Epoch 20/20\n",
      "222/222 [==============================] - 1s 4ms/step - loss: 0.1452 - accuracy: 0.9491 - val_loss: 0.5216 - val_accuracy: 0.8248\n"
     ]
    }
   ],
   "source": [
    "model.compile(optimizer='adam',\n",
    "              loss='binary_crossentropy',\n",
    "              metrics=['accuracy'])\n",
    "              \n",
    "epochs=20  # 몇 epoch를 훈련하면 좋을지 결과를 보면서 바꾸어 봅시다. \n",
    "\n",
    "history = model.fit(partial_x_train,\n",
    "                    partial_y_train,\n",
    "                    epochs=epochs,\n",
    "                    batch_size=512,\n",
    "                    validation_data=(x_val, y_val),\n",
    "                    verbose=1)"
   ]
  },
  {
   "cell_type": "code",
   "execution_count": 173,
   "id": "8a602570",
   "metadata": {},
   "outputs": [
    {
     "name": "stdout",
     "output_type": "stream",
     "text": [
      "1513/1513 - 2s - loss: 0.5237 - accuracy: 0.8209\n",
      "[0.5237411260604858, 0.8209303617477417]\n"
     ]
    }
   ],
   "source": [
    "results = model.evaluate(X_test,  y_test, verbose=2)\n",
    "\n",
    "print(results)"
   ]
  },
  {
   "cell_type": "code",
   "execution_count": 174,
   "id": "4e2c342d",
   "metadata": {},
   "outputs": [
    {
     "name": "stdout",
     "output_type": "stream",
     "text": [
      "dict_keys(['loss', 'accuracy', 'val_loss', 'val_accuracy'])\n"
     ]
    },
    {
     "data": {
      "image/png": "[encoded data removed]",
      "text/plain": [
       "<Figure size 720x720 with 2 Axes>"
      ]
     },
     "metadata": {
      "needs_background": "light"
     },
     "output_type": "display_data"
    }
   ],
   "source": [
    "history_dict = history.history\n",
    "print(history_dict.keys()) # epoch에 따른 그래프를 그려볼 수 있는 항목들\n",
    "\n",
    "import matplotlib.pyplot as plt\n",
    "\n",
    "acc = history_dict['accuracy']\n",
    "val_acc = history_dict['val_accuracy']\n",
    "loss = history_dict['loss']\n",
    "val_loss = history_dict['val_loss']\n",
    "\n",
    "epochs = range(1, len(acc) + 1)\n",
    "\n",
    "fig , ax = plt.subplots(1,2,figsize = (10,10))\n",
    "\n",
    "ax[0].plot(epochs, loss, 'r', label='Training loss')\n",
    "ax[0].plot(epochs, val_loss, 'b', label='Validation loss')\n",
    "ax[0].set_title('Training and validation loss')\n",
    "ax[0].set_xlabel('Epochs')\n",
    "ax[0].set_ylabel('Loss')\n",
    "ax[0].legend()\n",
    "\n",
    "ax[1].plot(epochs, acc, 'r', label='Training acc')\n",
    "ax[1].plot(epochs, val_acc, 'b', label='Validation acc')\n",
    "ax[1].set_title('Training and validation accuracy')\n",
    "ax[1].set_xlabel('Epochs')\n",
    "ax[1].set_ylabel('Accuracy')\n",
    "ax[1].legend()\n",
    "\n",
    "plt.show()"
   ]
  },
  {
   "cell_type": "markdown",
   "id": "28d24499",
   "metadata": {},
   "source": [
    "GRU"
   ]
  },
  {
   "cell_type": "code",
   "execution_count": 175,
   "id": "0dc740cf",
   "metadata": {},
   "outputs": [
    {
     "name": "stdout",
     "output_type": "stream",
     "text": [
      "Model: \"sequential_28\"\n",
      "_________________________________________________________________\n",
      "Layer (type)                 Output Shape              Param #   \n",
      "=================================================================\n",
      "embedding_28 (Embedding)     (None, 31, 100)           1000000   \n",
      "_________________________________________________________________\n",
      "gru_1 (GRU)                  (None, 128)               88320     \n",
      "_________________________________________________________________\n",
      "dense_41 (Dense)             (None, 1)                 129       \n",
      "=================================================================\n",
      "Total params: 1,088,449\n",
      "Trainable params: 1,088,449\n",
      "Non-trainable params: 0\n",
      "_________________________________________________________________\n"
     ]
    }
   ],
   "source": [
    "vocab_size = 10000  # 어휘 사전의 크기입니다(10개의 단어)\n",
    "word_vector_dim = 100   # 단어 하나를 표현하는 임베딩 벡터의 차원 수입니다. \n",
    "\n",
    "model = tf.keras.Sequential()\n",
    "model.add(tf.keras.layers.Embedding(vocab_size, \n",
    "                                 word_vector_dim, \n",
    "                                 embeddings_initializer=Constant(embedding_matrix),  # 카피한 임베딩을 여기서 활용\n",
    "                                 input_length=maxlen, \n",
    "                                 trainable=True)) \n",
    "model.add(tf.keras.layers.GRU(128))\n",
    "model.add(tf.keras.layers.Dense(1, activation='sigmoid'))  # 최종 출력은 긍정/부정을 나타내는 1dim 입니다.\n",
    "\n",
    "model.summary()"
   ]
  },
  {
   "cell_type": "code",
   "execution_count": 176,
   "id": "b8975da8",
   "metadata": {},
   "outputs": [
    {
     "name": "stdout",
     "output_type": "stream",
     "text": [
      "Epoch 1/20\n",
      "222/222 [==============================] - 3s 10ms/step - loss: 0.3463 - accuracy: 0.8535 - val_loss: 0.3661 - val_accuracy: 0.8405\n",
      "Epoch 2/20\n",
      "222/222 [==============================] - 2s 8ms/step - loss: 0.2656 - accuracy: 0.8906 - val_loss: 0.3796 - val_accuracy: 0.8403\n",
      "Epoch 3/20\n",
      "222/222 [==============================] - 2s 8ms/step - loss: 0.2168 - accuracy: 0.9138 - val_loss: 0.4240 - val_accuracy: 0.8385\n",
      "Epoch 4/20\n",
      "222/222 [==============================] - 2s 8ms/step - loss: 0.1815 - accuracy: 0.9292 - val_loss: 0.4774 - val_accuracy: 0.8392\n",
      "Epoch 5/20\n",
      "222/222 [==============================] - 2s 8ms/step - loss: 0.1544 - accuracy: 0.9409 - val_loss: 0.4822 - val_accuracy: 0.8308\n",
      "Epoch 6/20\n",
      "222/222 [==============================] - 2s 8ms/step - loss: 0.1358 - accuracy: 0.9497 - val_loss: 0.5506 - val_accuracy: 0.8339\n",
      "Epoch 7/20\n",
      "222/222 [==============================] - 2s 8ms/step - loss: 0.1204 - accuracy: 0.9558 - val_loss: 0.5699 - val_accuracy: 0.8343\n",
      "Epoch 8/20\n",
      "222/222 [==============================] - 2s 8ms/step - loss: 0.1093 - accuracy: 0.9598 - val_loss: 0.6209 - val_accuracy: 0.8302\n",
      "Epoch 9/20\n",
      "222/222 [==============================] - 2s 8ms/step - loss: 0.0996 - accuracy: 0.9642 - val_loss: 0.6570 - val_accuracy: 0.8311\n",
      "Epoch 10/20\n",
      "222/222 [==============================] - 2s 8ms/step - loss: 0.0897 - accuracy: 0.9680 - val_loss: 0.7099 - val_accuracy: 0.8318\n",
      "Epoch 11/20\n",
      "222/222 [==============================] - 2s 8ms/step - loss: 0.0832 - accuracy: 0.9700 - val_loss: 0.7242 - val_accuracy: 0.8287\n",
      "Epoch 12/20\n",
      "222/222 [==============================] - 2s 8ms/step - loss: 0.0768 - accuracy: 0.9722 - val_loss: 0.7905 - val_accuracy: 0.8300\n",
      "Epoch 13/20\n",
      "222/222 [==============================] - 2s 8ms/step - loss: 0.0701 - accuracy: 0.9752 - val_loss: 0.8307 - val_accuracy: 0.8262\n",
      "Epoch 14/20\n",
      "222/222 [==============================] - 2s 8ms/step - loss: 0.0656 - accuracy: 0.9767 - val_loss: 0.8927 - val_accuracy: 0.8266\n",
      "Epoch 15/20\n",
      "222/222 [==============================] - 2s 8ms/step - loss: 0.0629 - accuracy: 0.9774 - val_loss: 0.8967 - val_accuracy: 0.8281\n",
      "Epoch 16/20\n",
      "222/222 [==============================] - 2s 8ms/step - loss: 0.0591 - accuracy: 0.9784 - val_loss: 0.9280 - val_accuracy: 0.8270\n",
      "Epoch 17/20\n",
      "222/222 [==============================] - 2s 8ms/step - loss: 0.0544 - accuracy: 0.9805 - val_loss: 0.9190 - val_accuracy: 0.8253\n",
      "Epoch 18/20\n",
      "222/222 [==============================] - 2s 8ms/step - loss: 0.0514 - accuracy: 0.9816 - val_loss: 0.9737 - val_accuracy: 0.8284\n",
      "Epoch 19/20\n",
      "222/222 [==============================] - 2s 8ms/step - loss: 0.0476 - accuracy: 0.9828 - val_loss: 1.0281 - val_accuracy: 0.8276\n",
      "Epoch 20/20\n",
      "222/222 [==============================] - 2s 8ms/step - loss: 0.0446 - accuracy: 0.9835 - val_loss: 1.0793 - val_accuracy: 0.8274\n"
     ]
    }
   ],
   "source": [
    "model.compile(optimizer='adam',\n",
    "              loss='binary_crossentropy',\n",
    "              metrics=['accuracy'])\n",
    "              \n",
    "epochs=20  # 몇 epoch를 훈련하면 좋을지 결과를 보면서 바꾸어 봅시다. \n",
    "\n",
    "history = model.fit(partial_x_train,\n",
    "                    partial_y_train,\n",
    "                    epochs=epochs,\n",
    "                    batch_size=512,\n",
    "                    validation_data=(x_val, y_val),\n",
    "                    verbose=1)"
   ]
  },
  {
   "cell_type": "code",
   "execution_count": 177,
   "id": "1ebdbb0b",
   "metadata": {},
   "outputs": [
    {
     "name": "stdout",
     "output_type": "stream",
     "text": [
      "1513/1513 - 3s - loss: 1.1147 - accuracy: 0.8201\n",
      "[1.114738941192627, 0.8201450705528259]\n"
     ]
    }
   ],
   "source": [
    "results = model.evaluate(X_test,  y_test, verbose=2)\n",
    "\n",
    "print(results)"
   ]
  },
  {
   "cell_type": "code",
   "execution_count": 178,
   "id": "3d90f079",
   "metadata": {},
   "outputs": [
    {
     "name": "stdout",
     "output_type": "stream",
     "text": [
      "dict_keys(['loss', 'accuracy', 'val_loss', 'val_accuracy'])\n"
     ]
    },
    {
     "data": {
      "image/png": "[encoded data removed]",
      "text/plain": [
       "<Figure size 720x720 with 2 Axes>"
      ]
     },
     "metadata": {
      "needs_background": "light"
     },
     "output_type": "display_data"
    }
   ],
   "source": [
    "history_dict = history.history\n",
    "print(history_dict.keys()) # epoch에 따른 그래프를 그려볼 수 있는 항목들\n",
    "\n",
    "import matplotlib.pyplot as plt\n",
    "\n",
    "acc = history_dict['accuracy']\n",
    "val_acc = history_dict['val_accuracy']\n",
    "loss = history_dict['loss']\n",
    "val_loss = history_dict['val_loss']\n",
    "\n",
    "epochs = range(1, len(acc) + 1)\n",
    "\n",
    "fig , ax = plt.subplots(1,2,figsize = (10,10))\n",
    "\n",
    "ax[0].plot(epochs, loss, 'r', label='Training loss')\n",
    "ax[0].plot(epochs, val_loss, 'b', label='Validation loss')\n",
    "ax[0].set_title('Training and validation loss')\n",
    "ax[0].set_xlabel('Epochs')\n",
    "ax[0].set_ylabel('Loss')\n",
    "ax[0].legend()\n",
    "\n",
    "ax[1].plot(epochs, acc, 'r', label='Training acc')\n",
    "ax[1].plot(epochs, val_acc, 'b', label='Validation acc')\n",
    "ax[1].set_title('Training and validation accuracy')\n",
    "ax[1].set_xlabel('Epochs')\n",
    "ax[1].set_ylabel('Accuracy')\n",
    "ax[1].legend()\n",
    "\n",
    "plt.show()"
   ]
  },
  {
   "cell_type": "markdown",
   "id": "1655b090",
   "metadata": {},
   "source": [
    "LSTM"
   ]
  },
  {
   "cell_type": "code",
   "execution_count": 179,
   "id": "56ef5df1",
   "metadata": {},
   "outputs": [
    {
     "name": "stdout",
     "output_type": "stream",
     "text": [
      "Model: \"sequential_29\"\n",
      "_________________________________________________________________\n",
      "Layer (type)                 Output Shape              Param #   \n",
      "=================================================================\n",
      "embedding_29 (Embedding)     (None, 31, 100)           1000000   \n",
      "_________________________________________________________________\n",
      "lstm_9 (LSTM)                (None, 8)                 3488      \n",
      "_________________________________________________________________\n",
      "dense_42 (Dense)             (None, 8)                 72        \n",
      "_________________________________________________________________\n",
      "dense_43 (Dense)             (None, 1)                 9         \n",
      "=================================================================\n",
      "Total params: 1,003,569\n",
      "Trainable params: 1,003,569\n",
      "Non-trainable params: 0\n",
      "_________________________________________________________________\n"
     ]
    }
   ],
   "source": [
    "vocab_size = 10000  # 어휘 사전의 크기입니다(10개의 단어)\n",
    "word_vector_dim = 100  # 단어 하나를 표현하는 임베딩 벡터의 차원수입니다. \n",
    "\n",
    "model = tf.keras.Sequential()\n",
    "model.add(tf.keras.layers.Embedding(vocab_size, \n",
    "                                 word_vector_dim, \n",
    "                                 embeddings_initializer=Constant(embedding_matrix),  # 카피한 임베딩을 여기서 활용\n",
    "                                 input_length=maxlen, \n",
    "                                 trainable=True)) \n",
    "model.add(tf.keras.layers.LSTM(8))   # 가장 널리 쓰이는 RNN인 LSTM 레이어를 사용하였습니다. 이때 LSTM state 벡터의 차원수는 8로 하였습니다. (변경 가능)\n",
    "model.add(tf.keras.layers.Dense(8, activation='relu'))\n",
    "model.add(tf.keras.layers.Dense(1, activation='sigmoid'))  # 최종 출력은 긍정/부정을 나타내는 1dim 입니다.\n",
    "\n",
    "model.summary()"
   ]
  },
  {
   "cell_type": "code",
   "execution_count": 180,
   "id": "ae6a6916",
   "metadata": {},
   "outputs": [
    {
     "name": "stdout",
     "output_type": "stream",
     "text": [
      "Epoch 1/20\n",
      "222/222 [==============================] - 3s 7ms/step - loss: 0.4473 - accuracy: 0.8278 - val_loss: 0.3694 - val_accuracy: 0.8405\n",
      "Epoch 2/20\n",
      "222/222 [==============================] - 1s 5ms/step - loss: 0.2922 - accuracy: 0.8798 - val_loss: 0.3648 - val_accuracy: 0.8431\n",
      "Epoch 3/20\n",
      "222/222 [==============================] - 1s 5ms/step - loss: 0.2559 - accuracy: 0.8956 - val_loss: 0.3834 - val_accuracy: 0.8402\n",
      "Epoch 4/20\n",
      "222/222 [==============================] - 1s 5ms/step - loss: 0.2312 - accuracy: 0.9063 - val_loss: 0.4038 - val_accuracy: 0.8381\n",
      "Epoch 5/20\n",
      "222/222 [==============================] - 1s 6ms/step - loss: 0.2099 - accuracy: 0.9161 - val_loss: 0.4267 - val_accuracy: 0.8375\n",
      "Epoch 6/20\n",
      "222/222 [==============================] - 1s 6ms/step - loss: 0.1921 - accuracy: 0.9238 - val_loss: 0.4550 - val_accuracy: 0.8378\n",
      "Epoch 7/20\n",
      "222/222 [==============================] - 1s 5ms/step - loss: 0.1759 - accuracy: 0.9320 - val_loss: 0.4786 - val_accuracy: 0.8362\n",
      "Epoch 8/20\n",
      "222/222 [==============================] - 1s 6ms/step - loss: 0.1612 - accuracy: 0.9383 - val_loss: 0.4971 - val_accuracy: 0.8336\n",
      "Epoch 9/20\n",
      "222/222 [==============================] - 1s 6ms/step - loss: 0.1491 - accuracy: 0.9441 - val_loss: 0.5270 - val_accuracy: 0.8334\n",
      "Epoch 10/20\n",
      "222/222 [==============================] - 1s 5ms/step - loss: 0.1393 - accuracy: 0.9477 - val_loss: 0.5581 - val_accuracy: 0.8322\n",
      "Epoch 11/20\n",
      "222/222 [==============================] - 1s 6ms/step - loss: 0.1285 - accuracy: 0.9526 - val_loss: 0.5929 - val_accuracy: 0.8307\n",
      "Epoch 12/20\n",
      "222/222 [==============================] - 1s 6ms/step - loss: 0.1208 - accuracy: 0.9565 - val_loss: 0.6081 - val_accuracy: 0.8254\n",
      "Epoch 13/20\n",
      "222/222 [==============================] - 1s 6ms/step - loss: 0.1131 - accuracy: 0.9599 - val_loss: 0.6242 - val_accuracy: 0.8246\n",
      "Epoch 14/20\n",
      "222/222 [==============================] - 1s 5ms/step - loss: 0.1070 - accuracy: 0.9621 - val_loss: 0.6663 - val_accuracy: 0.8246\n",
      "Epoch 15/20\n",
      "222/222 [==============================] - 1s 5ms/step - loss: 0.1009 - accuracy: 0.9650 - val_loss: 0.6866 - val_accuracy: 0.8254\n",
      "Epoch 16/20\n",
      "222/222 [==============================] - 1s 5ms/step - loss: 0.0970 - accuracy: 0.9666 - val_loss: 0.7079 - val_accuracy: 0.8253\n",
      "Epoch 17/20\n",
      "222/222 [==============================] - 1s 6ms/step - loss: 0.0917 - accuracy: 0.9687 - val_loss: 0.7259 - val_accuracy: 0.8198\n",
      "Epoch 18/20\n",
      "222/222 [==============================] - 1s 6ms/step - loss: 0.0888 - accuracy: 0.9697 - val_loss: 0.7567 - val_accuracy: 0.8245\n",
      "Epoch 19/20\n",
      "222/222 [==============================] - 1s 5ms/step - loss: 0.0849 - accuracy: 0.9714 - val_loss: 0.7823 - val_accuracy: 0.8234\n",
      "Epoch 20/20\n",
      "222/222 [==============================] - 1s 5ms/step - loss: 0.0809 - accuracy: 0.9727 - val_loss: 0.7881 - val_accuracy: 0.8207\n"
     ]
    }
   ],
   "source": [
    "model.compile(optimizer='adam',\n",
    "              loss='binary_crossentropy',\n",
    "              metrics=['accuracy'])\n",
    "              \n",
    "epochs=20  # 몇 epoch를 훈련하면 좋을지 결과를 보면서 바꾸어 봅시다. \n",
    "\n",
    "history = model.fit(partial_x_train,\n",
    "                    partial_y_train,\n",
    "                    epochs=epochs,\n",
    "                    batch_size=512,\n",
    "                    validation_data=(x_val, y_val),\n",
    "                    verbose=1)"
   ]
  },
  {
   "cell_type": "code",
   "execution_count": 181,
   "id": "b1742394",
   "metadata": {},
   "outputs": [
    {
     "name": "stdout",
     "output_type": "stream",
     "text": [
      "1513/1513 - 3s - loss: 0.7997 - accuracy: 0.8174\n",
      "[0.7997312545776367, 0.8173965215682983]\n"
     ]
    }
   ],
   "source": [
    "results = model.evaluate(X_test,  y_test, verbose=2)\n",
    "\n",
    "print(results)"
   ]
  },
  {
   "cell_type": "code",
   "execution_count": 182,
   "id": "9e7c30c6",
   "metadata": {},
   "outputs": [
    {
     "name": "stdout",
     "output_type": "stream",
     "text": [
      "dict_keys(['loss', 'accuracy', 'val_loss', 'val_accuracy'])\n"
     ]
    },
    {
     "data": {
      "image/png": "[encoded data removed]",
      "text/plain": [
       "<Figure size 720x720 with 2 Axes>"
      ]
     },
     "metadata": {
      "needs_background": "light"
     },
     "output_type": "display_data"
    }
   ],
   "source": [
    "history_dict = history.history\n",
    "print(history_dict.keys()) # epoch에 따른 그래프를 그려볼 수 있는 항목들\n",
    "\n",
    "import matplotlib.pyplot as plt\n",
    "\n",
    "acc = history_dict['accuracy']\n",
    "val_acc = history_dict['val_accuracy']\n",
    "loss = history_dict['loss']\n",
    "val_loss = history_dict['val_loss']\n",
    "\n",
    "epochs = range(1, len(acc) + 1)\n",
    "\n",
    "fig , ax = plt.subplots(1,2,figsize = (10,10))\n",
    "\n",
    "ax[0].plot(epochs, loss, 'r', label='Training loss')\n",
    "ax[0].plot(epochs, val_loss, 'b', label='Validation loss')\n",
    "ax[0].set_title('Training and validation loss')\n",
    "ax[0].set_xlabel('Epochs')\n",
    "ax[0].set_ylabel('Loss')\n",
    "ax[0].legend()\n",
    "\n",
    "ax[1].plot(epochs, acc, 'r', label='Training acc')\n",
    "ax[1].plot(epochs, val_acc, 'b', label='Validation acc')\n",
    "ax[1].set_title('Training and validation accuracy')\n",
    "ax[1].set_xlabel('Epochs')\n",
    "ax[1].set_ylabel('Accuracy')\n",
    "ax[1].legend()\n",
    "\n",
    "plt.show()"
   ]
  },
  {
   "cell_type": "markdown",
   "id": "08dd3aa2",
   "metadata": {},
   "source": [
    "대체 왜.. word2vec 적용하지 않은 LSTM이 적용한 LSTM보다 성능이 좋게 나오는걸까\n",
    "\n",
    "일반 LSTM :1513/1513 - 3s - loss: 0.6885 - accuracy: 0.8241   \n",
    "W2V Global : 1513/1513 - 2s - loss: 0.5189 - accuracy: 0.8216   \n",
    "W2V GRU : 1513/1513 - 3s - loss: 0.7660 - accuracy: 0.8213   \n",
    "W2V LSTM : 1513/1513 - 3s - loss: 1.2308 - accuracy: 0.8111   \n",
    "\n",
    "이렇게 모아두고 보니 accuracy 일반 LSTM이 제일 좋게 나왔지만,    \n",
    "loss까지 고려하면 word2vec을 적용한 global도 나쁘지 않은 성적이라 생각이 들었다."
   ]
  },
  {
   "cell_type": "code",
   "execution_count": 198,
   "id": "5883a0af",
   "metadata": {},
   "outputs": [
    {
     "name": "stdout",
     "output_type": "stream",
     "text": [
      "Collecting gensim==3.1.0\n",
      "  Downloading gensim-3.1.0.tar.gz (15.1 MB)\n",
      "     |████████████████████████████████| 15.1 MB 5.4 MB/s            \n",
      "\u001b[?25h  Preparing metadata (setup.py) ... \u001b[?25ldone\n",
      "\u001b[?25hRequirement already satisfied: numpy>=1.11.3 in /opt/conda/lib/python3.9/site-packages (from gensim==3.1.0) (1.21.4)\n",
      "Requirement already satisfied: scipy>=0.18.1 in /opt/conda/lib/python3.9/site-packages (from gensim==3.1.0) (1.7.1)\n",
      "Requirement already satisfied: six>=1.5.0 in /opt/conda/lib/python3.9/site-packages (from gensim==3.1.0) (1.16.0)\n",
      "Requirement already satisfied: smart_open>=1.2.1 in /opt/conda/lib/python3.9/site-packages (from gensim==3.1.0) (5.2.1)\n",
      "Building wheels for collected packages: gensim\n",
      "  Building wheel for gensim (setup.py) ... \u001b[?25ldone\n",
      "\u001b[?25h  Created wheel for gensim: filename=gensim-3.1.0-cp39-cp39-linux_x86_64.whl size=14202319 sha256=7b1c9ced7b9525a17f809aec417ba59a3b493e6b9ed886641190ebf1dfd7e9c4\n",
      "  Stored in directory: /aiffel/.cache/pip/wheels/e3/e6/49/d888151faafc4d1587fa23913a8d1899088c4e64d253dedfcf\n",
      "Successfully built gensim\n",
      "Installing collected packages: gensim\n",
      "  Attempting uninstall: gensim\n",
      "    Found existing installation: gensim 4.1.2\n",
      "    Uninstalling gensim-4.1.2:\n",
      "      Successfully uninstalled gensim-4.1.2\n",
      "Successfully installed gensim-3.1.0\n",
      "\u001b[33mWARNING: Running pip as the 'root' user can result in broken permissions and conflicting behaviour with the system package manager. It is recommended to use a virtual environment instead: https://pip.pypa.io/warnings/venv\u001b[0m\n",
      "Note: you may need to restart the kernel to use updated packages.\n"
     ]
    }
   ],
   "source": [
    "pip install gensim==3.1.0"
   ]
  },
  {
   "cell_type": "code",
   "execution_count": 199,
   "id": "6778fc2a",
   "metadata": {},
   "outputs": [
    {
     "ename": "AttributeError",
     "evalue": "Can't get attribute 'Vocab' on <module 'gensim.models.word2vec' from '/opt/conda/lib/python3.9/site-packages/gensim/models/word2vec.py'>",
     "output_type": "error",
     "traceback": [
      "\u001b[0;31m---------------------------------------------------------------------------\u001b[0m",
      "\u001b[0;31mAttributeError\u001b[0m                            Traceback (most recent call last)",
      "\u001b[0;32m/tmp/ipykernel_13/2955316910.py\u001b[0m in \u001b[0;36m<module>\u001b[0;34m\u001b[0m\n\u001b[1;32m      3\u001b[0m \u001b[0;34m\u001b[0m\u001b[0m\n\u001b[1;32m      4\u001b[0m \u001b[0mword2vec_file\u001b[0m \u001b[0;34m=\u001b[0m \u001b[0mos\u001b[0m\u001b[0;34m.\u001b[0m\u001b[0mgetenv\u001b[0m\u001b[0;34m(\u001b[0m\u001b[0;34m'HOME'\u001b[0m\u001b[0;34m)\u001b[0m\u001b[0;34m+\u001b[0m\u001b[0;34m'/aiffel/sentiment_classification/data/ko.bin'\u001b[0m\u001b[0;34m\u001b[0m\u001b[0;34m\u001b[0m\u001b[0m\n\u001b[0;32m----> 5\u001b[0;31m \u001b[0mword2vec\u001b[0m \u001b[0;34m=\u001b[0m \u001b[0mgensim\u001b[0m\u001b[0;34m.\u001b[0m\u001b[0mmodels\u001b[0m\u001b[0;34m.\u001b[0m\u001b[0mWord2Vec\u001b[0m\u001b[0;34m.\u001b[0m\u001b[0mload\u001b[0m\u001b[0;34m(\u001b[0m\u001b[0mword2vec_file\u001b[0m\u001b[0;34m)\u001b[0m\u001b[0;34m\u001b[0m\u001b[0;34m\u001b[0m\u001b[0m\n\u001b[0m",
      "\u001b[0;32m/opt/conda/lib/python3.9/site-packages/gensim/models/word2vec.py\u001b[0m in \u001b[0;36mload\u001b[0;34m(cls, rethrow, *args, **kwargs)\u001b[0m\n",
      "\u001b[0;32m/opt/conda/lib/python3.9/site-packages/gensim/models/word2vec.py\u001b[0m in \u001b[0;36mload\u001b[0;34m(cls, rethrow, *args, **kwargs)\u001b[0m\n",
      "\u001b[0;32m/opt/conda/lib/python3.9/site-packages/gensim/utils.py\u001b[0m in \u001b[0;36mload\u001b[0;34m(cls, fname, mmap)\u001b[0m\n\u001b[1;32m    483\u001b[0m         \u001b[0ma\u001b[0m \u001b[0mlist\u001b[0m \u001b[0mof\u001b[0m \u001b[0mattribute\u001b[0m \u001b[0mnames\u001b[0m \u001b[0mto\u001b[0m \u001b[0mbe\u001b[0m \u001b[0mstored\u001b[0m \u001b[0;32min\u001b[0m \u001b[0mseparate\u001b[0m \u001b[0mfiles\u001b[0m\u001b[0;34m.\u001b[0m \u001b[0mThe\u001b[0m\u001b[0;34m\u001b[0m\u001b[0;34m\u001b[0m\u001b[0m\n\u001b[1;32m    484\u001b[0m         \u001b[0mautomatic\u001b[0m \u001b[0mcheck\u001b[0m \u001b[0;32mis\u001b[0m \u001b[0;32mnot\u001b[0m \u001b[0mperformed\u001b[0m \u001b[0;32min\u001b[0m \u001b[0mthis\u001b[0m \u001b[0mcase\u001b[0m\u001b[0;34m.\u001b[0m\u001b[0;34m\u001b[0m\u001b[0;34m\u001b[0m\u001b[0m\n\u001b[0;32m--> 485\u001b[0;31m \u001b[0;34m\u001b[0m\u001b[0m\n\u001b[0m\u001b[1;32m    486\u001b[0m         `ignore` is a set of attribute names to *not* serialize (file\n\u001b[1;32m    487\u001b[0m         handles, caches etc). On subsequent load() these attributes will\n",
      "\u001b[0;32m/opt/conda/lib/python3.9/site-packages/gensim/utils.py\u001b[0m in \u001b[0;36munpickle\u001b[0;34m(fname)\u001b[0m\n",
      "\u001b[0;31mAttributeError\u001b[0m: Can't get attribute 'Vocab' on <module 'gensim.models.word2vec' from '/opt/conda/lib/python3.9/site-packages/gensim/models/word2vec.py'>"
     ]
    }
   ],
   "source": [
    "import gensim\n",
    "\n",
    "\n",
    "word2vec_file = os.getenv('HOME')+'/aiffel/sentiment_classification/data/ko.bin'\n",
    "word2vec = gensim.models.Word2Vec.load(word2vec_file)"
   ]
  }
 ],
 "metadata": {
  "kernelspec": {
   "display_name": "Python 3 (ipykernel)",
   "language": "python",
   "name": "python3"
  },
  "language_info": {
   "codemirror_mode": {
    "name": "ipython",
    "version": 3
   },
   "file_extension": ".py",
   "mimetype": "text/x-python",
   "name": "python",
   "nbconvert_exporter": "python",
   "pygments_lexer": "ipython3",
   "version": "3.9.7"
  }
 },
 "nbformat": 4,
 "nbformat_minor": 5
}
