{
 "cells": [
  {
   "cell_type": "markdown",
   "id": "54affc19",
   "metadata": {},
   "source": [
    "추가 회고 : "
   ]
  },
  {
   "cell_type": "code",
   "execution_count": 4,
   "id": "f52dac0b",
   "metadata": {},
   "outputs": [
    {
     "data": {
      "text/html": [
       "<div>\n",
       "<style scoped>\n",
       "    .dataframe tbody tr th:only-of-type {\n",
       "        vertical-align: middle;\n",
       "    }\n",
       "\n",
       "    .dataframe tbody tr th {\n",
       "        vertical-align: top;\n",
       "    }\n",
       "\n",
       "    .dataframe thead th {\n",
       "        text-align: right;\n",
       "    }\n",
       "</style>\n",
       "<table border=\"1\" class=\"dataframe\">\n",
       "  <thead>\n",
       "    <tr style=\"text-align: right;\">\n",
       "      <th></th>\n",
       "      <th>id</th>\n",
       "      <th>document</th>\n",
       "      <th>label</th>\n",
       "    </tr>\n",
       "  </thead>\n",
       "  <tbody>\n",
       "    <tr>\n",
       "      <th>0</th>\n",
       "      <td>9976970</td>\n",
       "      <td>아 더빙.. 진짜 짜증나네요 목소리</td>\n",
       "      <td>0</td>\n",
       "    </tr>\n",
       "    <tr>\n",
       "      <th>1</th>\n",
       "      <td>3819312</td>\n",
       "      <td>흠...포스터보고 초딩영화줄....오버연기조차 가볍지 않구나</td>\n",
       "      <td>1</td>\n",
       "    </tr>\n",
       "    <tr>\n",
       "      <th>2</th>\n",
       "      <td>10265843</td>\n",
       "      <td>너무재밓었다그래서보는것을추천한다</td>\n",
       "      <td>0</td>\n",
       "    </tr>\n",
       "    <tr>\n",
       "      <th>3</th>\n",
       "      <td>9045019</td>\n",
       "      <td>교도소 이야기구먼 ..솔직히 재미는 없다..평점 조정</td>\n",
       "      <td>0</td>\n",
       "    </tr>\n",
       "    <tr>\n",
       "      <th>4</th>\n",
       "      <td>6483659</td>\n",
       "      <td>사이몬페그의 익살스런 연기가 돋보였던 영화!스파이더맨에서 늙어보이기만 했던 커스틴 ...</td>\n",
       "      <td>1</td>\n",
       "    </tr>\n",
       "  </tbody>\n",
       "</table>\n",
       "</div>"
      ],
      "text/plain": [
       "         id                                           document  label\n",
       "0   9976970                                아 더빙.. 진짜 짜증나네요 목소리      0\n",
       "1   3819312                  흠...포스터보고 초딩영화줄....오버연기조차 가볍지 않구나      1\n",
       "2  10265843                                  너무재밓었다그래서보는것을추천한다      0\n",
       "3   9045019                      교도소 이야기구먼 ..솔직히 재미는 없다..평점 조정      0\n",
       "4   6483659  사이몬페그의 익살스런 연기가 돋보였던 영화!스파이더맨에서 늙어보이기만 했던 커스틴 ...      1"
      ]
     },
     "execution_count": 4,
     "metadata": {},
     "output_type": "execute_result"
    }
   ],
   "source": [
    "import pandas as pd\n",
    "\n",
    "# 데이터를 읽어봅시다. \n",
    "train_data = pd.read_table('~/aiffel/sentiment_classification/data/ratings_train.txt')\n",
    "test_data = pd.read_table('~/aiffel/sentiment_classification/data/ratings_test.txt')\n",
    "\n",
    "train_data.head()"
   ]
  },
  {
   "cell_type": "code",
   "execution_count": 5,
   "id": "c81d4daf",
   "metadata": {},
   "outputs": [
    {
     "data": {
      "text/plain": [
       "'3.4.0'"
      ]
     },
     "execution_count": 5,
     "metadata": {},
     "output_type": "execute_result"
    }
   ],
   "source": [
    "import gensim\n",
    "gensim.__version__"
   ]
  },
  {
   "cell_type": "code",
   "execution_count": 6,
   "id": "66617847",
   "metadata": {},
   "outputs": [
    {
     "name": "stderr",
     "output_type": "stream",
     "text": [
      "/tmp/ipykernel_1501/2860097851.py:10: FutureWarning: The default value of regex will change from True to False in a future version.\n",
      "  train_data['document'] = train_data['document'].str.replace(\"[^ㄱ-ㅎㅏ-ㅣ가-힣 ]\",\"\") # 정규 표현식 수행\n",
      "/tmp/ipykernel_1501/2860097851.py:11: FutureWarning: The default value of regex will change from True to False in a future version.\n",
      "  train_data['document'] = train_data['document'].str.replace('^ +', \"\") # 공백은 empty 값으로 변경\n",
      "/tmp/ipykernel_1501/2860097851.py:16: FutureWarning: The default value of regex will change from True to False in a future version.\n",
      "  test_data['document'] = test_data['document'].str.replace(\"[^ㄱ-ㅎㅏ-ㅣ가-힣 ]\",\"\") # 정규 표현식 수행\n",
      "/tmp/ipykernel_1501/2860097851.py:17: FutureWarning: The default value of regex will change from True to False in a future version.\n",
      "  test_data['document'] = test_data['document'].str.replace('^ +', \"\") # 공백은 empty 값으로 변경\n"
     ]
    }
   ],
   "source": [
    "from konlpy.tag import Mecab\n",
    "import numpy as np\n",
    "from collections import Counter\n",
    "\n",
    "tokenizer = Mecab()\n",
    "stopwords = ['의','가','이','은','들','는','좀','잘','걍','과','도','를','으로','자','에','와','한','하다']\n",
    "\n",
    "def load_data(train_data, test_data, num_words=10000):\n",
    "    \n",
    "    train_data['document'] = train_data['document'].str.replace(\"[^ㄱ-ㅎㅏ-ㅣ가-힣 ]\",\"\") # 정규 표현식 수행\n",
    "    train_data['document'] = train_data['document'].str.replace('^ +', \"\") # 공백은 empty 값으로 변경\n",
    "    train_data['document'].replace('', np.nan, inplace=True) # 공백은 Null 값으로 변경\n",
    "    train_data.drop_duplicates(subset = ['document'], inplace=True) # document 열에서 중복인 내용이 있다면 중복 제거\n",
    "    train_data = train_data.dropna(how='any') # Null 값 제거\n",
    "    \n",
    "    test_data['document'] = test_data['document'].str.replace(\"[^ㄱ-ㅎㅏ-ㅣ가-힣 ]\",\"\") # 정규 표현식 수행\n",
    "    test_data['document'] = test_data['document'].str.replace('^ +', \"\") # 공백은 empty 값으로 변경\n",
    "    test_data['document'].replace('', np.nan, inplace=True) # 공백은 Null 값으로 변경\n",
    "    test_data.drop_duplicates(subset = ['document'], inplace=True) # document 열에서 중복인 내용이 있다면 중복 제거\n",
    "    test_data = test_data.dropna(how='any') # Null 값 제거\n",
    "    \n",
    "    \n",
    "    X_train = []\n",
    "    for sentence in train_data['document']:\n",
    "        temp_X = tokenizer.morphs(sentence) # 토큰화\n",
    "        temp_X = [word for word in temp_X if not word in stopwords] # 불용어 제거\n",
    "        X_train.append(temp_X)\n",
    "\n",
    "    X_test = []\n",
    "    for sentence in test_data['document']:\n",
    "        temp_X = tokenizer.morphs(sentence) # 토큰화\n",
    "        temp_X = [word for word in temp_X if not word in stopwords] # 불용어 제거\n",
    "        X_test.append(temp_X)\n",
    "    \n",
    "    words = np.concatenate(X_train).tolist()\n",
    "    counter = Counter(words)\n",
    "    counter = counter.most_common(10000-4)\n",
    "    vocab = ['<PAD>', '<BOS>', '<UNK>', '<UNUSED>'] + [key for key, _ in counter]\n",
    "    word_to_index = {word:index for index, word in enumerate(vocab)}\n",
    "        \n",
    "    def wordlist_to_indexlist(wordlist):\n",
    "        return [word_to_index[word] if word in word_to_index else word_to_index['<UNK>'] for word in wordlist]\n",
    "        \n",
    "    X_train = list(map(wordlist_to_indexlist, X_train))\n",
    "    X_test = list(map(wordlist_to_indexlist, X_test))\n",
    "        \n",
    "    return X_train, np.array(list(train_data['label'])), X_test, np.array(list(test_data['label'])), word_to_index\n",
    "    \n",
    "X_train, y_train, X_test, y_test, word_to_index = load_data(train_data, test_data) "
   ]
  },
  {
   "cell_type": "code",
   "execution_count": 7,
   "id": "b2d271df",
   "metadata": {},
   "outputs": [],
   "source": [
    "# 문장 1개를 활용할 딕셔너리와 함께 주면, 단어 인덱스 리스트 벡터로 변환해 주는 함수입니다. \n",
    "# 단, 모든 문장은 <BOS>로 시작하는 것으로 합니다. \n",
    "def get_encoded_sentence(sentence, word_to_index):\n",
    "    return [word_to_index['<BOS>']]+[word_to_index[word] if word in word_to_index else word_to_index['<UNK>'] for word in sentence.split()]\n",
    "\n",
    "# 여러 개의 문장 리스트를 한꺼번에 단어 인덱스 리스트 벡터로 encode해 주는 함수입니다. \n",
    "def get_encoded_sentences(sentences, word_to_index):\n",
    "    return [get_encoded_sentence(sentence, word_to_index) for sentence in sentences]\n",
    "\n",
    "# 숫자 벡터로 encode된 문장을 원래대로 decode하는 함수입니다. \n",
    "def get_decoded_sentence(encoded_sentence, index_to_word):\n",
    "    return ' '.join(index_to_word[index] if index in index_to_word else '<UNK>' for index in encoded_sentence[1:])  #[1:]를 통해 <BOS>를 제외\n",
    "\n",
    "# 여러 개의 숫자 벡터로 encode된 문장을 한꺼번에 원래대로 decode하는 함수입니다. \n",
    "def get_decoded_sentences(encoded_sentences, index_to_word):\n",
    "    return [get_decoded_sentence(encoded_sentence, index_to_word) for encoded_sentence in encoded_sentences]"
   ]
  },
  {
   "cell_type": "code",
   "execution_count": 8,
   "id": "3842d8d3",
   "metadata": {},
   "outputs": [
    {
     "name": "stdout",
     "output_type": "stream",
     "text": [
      "[27, 67, 891, 33, 214, 15, 28, 698]\n",
      "라벨:  0\n",
      "1번째 리뷰 문장 길이:  8\n",
      "2번째 리뷰 문장 길이:  13\n"
     ]
    }
   ],
   "source": [
    "print(X_train[0])  # 1번째 리뷰데이터\n",
    "print('라벨: ', y_train[0])  # 1번째 리뷰데이터의 라벨\n",
    "print('1번째 리뷰 문장 길이: ', len(X_train[0]))\n",
    "print('2번째 리뷰 문장 길이: ', len(X_train[1]))"
   ]
  },
  {
   "cell_type": "code",
   "execution_count": 52,
   "id": "395c1228",
   "metadata": {},
   "outputs": [
    {
     "name": "stdout",
     "output_type": "stream",
     "text": [
      "<PAD> <PAD> <PAD> <PAD> <PAD> <PAD> <PAD> <PAD> <PAD> <PAD> <PAD> <PAD> <PAD> <PAD> <PAD> <PAD> <PAD> <PAD> <PAD> <PAD> <PAD> <PAD> 아 더 빙 진짜 짜증 나 네요 목소리\n",
      "라벨:  [  0   0   0   0   0   0   0   0   0   0   0   0   0   0   0   0   0   0\n",
      "   0   0   0   0   0  27  67 891  33 214  15  28 698]\n",
      "<PAD> <PAD> <PAD> <PAD> <PAD> <PAD> <PAD> <PAD> <UNK> 익살 스런 연기 돋보였 던 영화 스파이더맨 에서 늙 어 보이 기 만 했 던 <UNK> <UNK> 너무나 이뻐 보였 다\n",
      "라벨:  [   0    0    0    0    0    0    0    0    0    2 8488 1049   47 2698\n",
      "   54    4 2620   34 1116   29  323   36   17   35   54    2    2  393\n",
      " 2875 1674    5]\n"
     ]
    }
   ],
   "source": [
    "print(get_decoded_sentence(X_train[0], index_to_word)) # 부정 0\n",
    "print('라벨: ', X_train[0])  # 1번째 리뷰데이터의 라벨\n",
    "\n",
    "print(get_decoded_sentence(X_train[4], index_to_word)) # 긍정 1\n",
    "print('라벨: ', X_train[4])"
   ]
  },
  {
   "cell_type": "code",
   "execution_count": 9,
   "id": "e0fd767b",
   "metadata": {},
   "outputs": [],
   "source": [
    "index_to_word = {index:word for word, index in word_to_index.items()}"
   ]
  },
  {
   "cell_type": "code",
   "execution_count": 10,
   "id": "090e2e1b",
   "metadata": {},
   "outputs": [
    {
     "name": "stdout",
     "output_type": "stream",
     "text": [
      "문장길이 평균 :  13.927888796879312\n",
      "문장길이 최대 :  83\n",
      "문장길이 표준편차 :  11.454835366606218\n",
      "pad_sequences maxlen :  31\n",
      "전체 문장의 0.910472946580629%가 maxlen 설정값 이내에 포함됩니다. \n"
     ]
    }
   ],
   "source": [
    "total_data_text = list(X_train) + list(X_test)\n",
    "# 텍스트데이터 문장길이의 리스트를 생성한 후\n",
    "num_tokens = [len(tokens) for tokens in total_data_text]\n",
    "num_tokens = np.array(num_tokens)\n",
    "# 문장길이의 평균값, 최대값, 표준편차를 계산해 본다. \n",
    "print('문장길이 평균 : ', np.mean(num_tokens))\n",
    "print('문장길이 최대 : ', np.max(num_tokens))\n",
    "print('문장길이 표준편차 : ', np.std(num_tokens))\n",
    "\n",
    "# 예를들어, 최대 길이를 (평균 + 2*표준편차)로 한다면,  \n",
    "max_tokens = np.mean(num_tokens) + 1.5 * np.std(num_tokens)\n",
    "maxlen = int(max_tokens)\n",
    "print('pad_sequences maxlen : ', maxlen)\n",
    "print('전체 문장의 {}%가 maxlen 설정값 이내에 포함됩니다. '.format(np.sum(num_tokens < max_tokens) / len(num_tokens)))"
   ]
  },
  {
   "cell_type": "code",
   "execution_count": 11,
   "id": "c81a9a49",
   "metadata": {},
   "outputs": [
    {
     "name": "stdout",
     "output_type": "stream",
     "text": [
      "(143620, 31)\n"
     ]
    }
   ],
   "source": [
    "import tensorflow as tf\n",
    "\n",
    "X_train = tf.keras.preprocessing.sequence.pad_sequences(X_train,\n",
    "                                                        value=word_to_index[\"<PAD>\"],\n",
    "                                                        padding='pre', # 혹은 'pre'\n",
    "                                                        maxlen=maxlen)\n",
    "\n",
    "X_test = tf.keras.preprocessing.sequence.pad_sequences(X_test,\n",
    "                                                       value=word_to_index[\"<PAD>\"],\n",
    "                                                       padding='pre', # 혹은 'pre'\n",
    "                                                       maxlen=maxlen)\n",
    "\n",
    "\n",
    "print(X_train.shape)"
   ]
  },
  {
   "cell_type": "code",
   "execution_count": 12,
   "id": "877e5fca",
   "metadata": {},
   "outputs": [
    {
     "name": "stdout",
     "output_type": "stream",
     "text": [
      "(113620, 31)\n",
      "(113620,)\n"
     ]
    }
   ],
   "source": [
    "# validation set 30000건 분리\n",
    "x_val = X_train[:30000]   \n",
    "y_val = y_train[:30000]\n",
    "\n",
    "# validation set을 제외한 나머지 116182건\n",
    "partial_x_train = X_train[30000:]  \n",
    "partial_y_train = y_train[30000:]\n",
    "\n",
    "print(partial_x_train.shape)\n",
    "print(partial_y_train.shape)"
   ]
  },
  {
   "cell_type": "markdown",
   "id": "f92f89fe",
   "metadata": {},
   "source": [
    "RNN"
   ]
  },
  {
   "cell_type": "code",
   "execution_count": 13,
   "id": "6c6e994a",
   "metadata": {},
   "outputs": [
    {
     "name": "stdout",
     "output_type": "stream",
     "text": [
      "Model: \"sequential\"\n",
      "_________________________________________________________________\n",
      "Layer (type)                 Output Shape              Param #   \n",
      "=================================================================\n",
      "embedding (Embedding)        (None, None, 100)         1000000   \n",
      "_________________________________________________________________\n",
      "lstm (LSTM)                  (None, 8)                 3488      \n",
      "_________________________________________________________________\n",
      "dense (Dense)                (None, 8)                 72        \n",
      "_________________________________________________________________\n",
      "dense_1 (Dense)              (None, 1)                 9         \n",
      "=================================================================\n",
      "Total params: 1,003,569\n",
      "Trainable params: 1,003,569\n",
      "Non-trainable params: 0\n",
      "_________________________________________________________________\n"
     ]
    }
   ],
   "source": [
    "vocab_size = 10000  # 어휘 사전의 크기입니다(10개의 단어)\n",
    "word_vector_dim = 100  # 단어 하나를 표현하는 임베딩 벡터의 차원수입니다. \n",
    "\n",
    "model = tf.keras.Sequential()\n",
    "model.add(tf.keras.layers.Embedding(vocab_size, word_vector_dim, input_shape=(None,)))\n",
    "model.add(tf.keras.layers.LSTM(8))   # 가장 널리 쓰이는 RNN인 LSTM 레이어를 사용하였습니다. 이때 LSTM state 벡터의 차원수는 8로 하였습니다. (변경 가능)\n",
    "model.add(tf.keras.layers.Dense(8, activation='relu'))\n",
    "model.add(tf.keras.layers.Dense(1, activation='sigmoid'))  # 최종 출력은 긍정/부정을 나타내는 1dim 입니다.\n",
    "\n",
    "model.summary()"
   ]
  },
  {
   "cell_type": "code",
   "execution_count": 14,
   "id": "88f7d523",
   "metadata": {},
   "outputs": [
    {
     "name": "stdout",
     "output_type": "stream",
     "text": [
      "Epoch 1/20\n",
      "222/222 [==============================] - 5s 7ms/step - loss: 0.4713 - accuracy: 0.7967 - val_loss: 0.3681 - val_accuracy: 0.8396\n",
      "Epoch 2/20\n",
      "222/222 [==============================] - 1s 6ms/step - loss: 0.3426 - accuracy: 0.8555 - val_loss: 0.3560 - val_accuracy: 0.8430\n",
      "Epoch 3/20\n",
      "222/222 [==============================] - 1s 5ms/step - loss: 0.3166 - accuracy: 0.8680 - val_loss: 0.3576 - val_accuracy: 0.8434\n",
      "Epoch 4/20\n",
      "222/222 [==============================] - 1s 6ms/step - loss: 0.3000 - accuracy: 0.8753 - val_loss: 0.3589 - val_accuracy: 0.8451\n",
      "Epoch 5/20\n",
      "222/222 [==============================] - 1s 6ms/step - loss: 0.2839 - accuracy: 0.8825 - val_loss: 0.3620 - val_accuracy: 0.8462\n",
      "Epoch 6/20\n",
      "222/222 [==============================] - 1s 6ms/step - loss: 0.2679 - accuracy: 0.8903 - val_loss: 0.3704 - val_accuracy: 0.8449\n",
      "Epoch 7/20\n",
      "222/222 [==============================] - 1s 6ms/step - loss: 0.2511 - accuracy: 0.8974 - val_loss: 0.3793 - val_accuracy: 0.8449\n",
      "Epoch 8/20\n",
      "222/222 [==============================] - 1s 6ms/step - loss: 0.2341 - accuracy: 0.9056 - val_loss: 0.3965 - val_accuracy: 0.8437\n",
      "Epoch 9/20\n",
      "222/222 [==============================] - 1s 5ms/step - loss: 0.2184 - accuracy: 0.9114 - val_loss: 0.4029 - val_accuracy: 0.8439\n",
      "Epoch 10/20\n",
      "222/222 [==============================] - 1s 5ms/step - loss: 0.2031 - accuracy: 0.9178 - val_loss: 0.4223 - val_accuracy: 0.8410\n",
      "Epoch 11/20\n",
      "222/222 [==============================] - 1s 5ms/step - loss: 0.1887 - accuracy: 0.9247 - val_loss: 0.4436 - val_accuracy: 0.8419\n",
      "Epoch 12/20\n",
      "222/222 [==============================] - 1s 5ms/step - loss: 0.1754 - accuracy: 0.9310 - val_loss: 0.4735 - val_accuracy: 0.8397\n",
      "Epoch 13/20\n",
      "222/222 [==============================] - 1s 5ms/step - loss: 0.1624 - accuracy: 0.9370 - val_loss: 0.5064 - val_accuracy: 0.8387\n",
      "Epoch 14/20\n",
      "222/222 [==============================] - 1s 5ms/step - loss: 0.1528 - accuracy: 0.9411 - val_loss: 0.5358 - val_accuracy: 0.8401\n",
      "Epoch 15/20\n",
      "222/222 [==============================] - 1s 5ms/step - loss: 0.1413 - accuracy: 0.9462 - val_loss: 0.5730 - val_accuracy: 0.8349\n",
      "Epoch 16/20\n",
      "222/222 [==============================] - 1s 5ms/step - loss: 0.1314 - accuracy: 0.9511 - val_loss: 0.5928 - val_accuracy: 0.8341\n",
      "Epoch 17/20\n",
      "222/222 [==============================] - 1s 5ms/step - loss: 0.1238 - accuracy: 0.9546 - val_loss: 0.6297 - val_accuracy: 0.8316\n",
      "Epoch 18/20\n",
      "222/222 [==============================] - 1s 6ms/step - loss: 0.1168 - accuracy: 0.9575 - val_loss: 0.6542 - val_accuracy: 0.8309\n",
      "Epoch 19/20\n",
      "222/222 [==============================] - 1s 5ms/step - loss: 0.1078 - accuracy: 0.9612 - val_loss: 0.7009 - val_accuracy: 0.8270\n",
      "Epoch 20/20\n",
      "222/222 [==============================] - 1s 6ms/step - loss: 0.1005 - accuracy: 0.9642 - val_loss: 0.7386 - val_accuracy: 0.8277\n"
     ]
    }
   ],
   "source": [
    "model.compile(optimizer='adam',\n",
    "              loss='binary_crossentropy',\n",
    "              metrics=['accuracy'])\n",
    "              \n",
    "epochs=20  # 몇 epoch를 훈련하면 좋을지 결과를 보면서 바꾸어 봅시다. \n",
    "\n",
    "history = model.fit(partial_x_train,\n",
    "                    partial_y_train,\n",
    "                    epochs=epochs,\n",
    "                    batch_size=512,\n",
    "                    validation_data=(x_val, y_val),\n",
    "                    verbose=1)"
   ]
  },
  {
   "cell_type": "code",
   "execution_count": 15,
   "id": "a843123e",
   "metadata": {},
   "outputs": [
    {
     "name": "stdout",
     "output_type": "stream",
     "text": [
      "1513/1513 - 3s - loss: 0.7324 - accuracy: 0.8284\n",
      "[0.7324377298355103, 0.8283907771110535]\n"
     ]
    }
   ],
   "source": [
    "results = model.evaluate(X_test,  y_test, verbose=2)\n",
    "\n",
    "print(results)"
   ]
  },
  {
   "cell_type": "code",
   "execution_count": 16,
   "id": "45a39f35",
   "metadata": {},
   "outputs": [
    {
     "name": "stdout",
     "output_type": "stream",
     "text": [
      "dict_keys(['loss', 'accuracy', 'val_loss', 'val_accuracy'])\n"
     ]
    }
   ],
   "source": [
    "history_dict = history.history\n",
    "print(history_dict.keys()) # epoch에 따른 그래프를 그려볼 수 있는 항목들"
   ]
  },
  {
   "cell_type": "code",
   "execution_count": 17,
   "id": "9fc920d8",
   "metadata": {},
   "outputs": [
    {
     "data": {
      "image/png": "[encoded data removed]",
      "text/plain": [
       "<Figure size 720x720 with 2 Axes>"
      ]
     },
     "metadata": {
      "needs_background": "light"
     },
     "output_type": "display_data"
    }
   ],
   "source": [
    "import matplotlib.pyplot as plt\n",
    "\n",
    "acc = history_dict['accuracy']\n",
    "val_acc = history_dict['val_accuracy']\n",
    "loss = history_dict['loss']\n",
    "val_loss = history_dict['val_loss']\n",
    "\n",
    "epochs = range(1, len(acc) + 1)\n",
    "\n",
    "fig , ax = plt.subplots(1,2,figsize = (10,10))\n",
    "\n",
    "ax[0].plot(epochs, loss, 'r', label='Training loss')\n",
    "ax[0].plot(epochs, val_loss, 'b', label='Validation loss')\n",
    "ax[0].set_title('Training and validation loss')\n",
    "ax[0].set_xlabel('Epochs')\n",
    "ax[0].set_ylabel('Loss')\n",
    "ax[0].legend()\n",
    "\n",
    "ax[1].plot(epochs, acc, 'r', label='Training acc')\n",
    "ax[1].plot(epochs, val_acc, 'b', label='Validation acc')\n",
    "ax[1].set_title('Training and validation accuracy')\n",
    "ax[1].set_xlabel('Epochs')\n",
    "ax[1].set_ylabel('Accuracy')\n",
    "ax[1].legend()\n",
    "\n",
    "plt.show()"
   ]
  },
  {
   "cell_type": "code",
   "execution_count": 18,
   "id": "dd30e4ee",
   "metadata": {},
   "outputs": [
    {
     "name": "stdout",
     "output_type": "stream",
     "text": [
      "(10000, 100)\n"
     ]
    }
   ],
   "source": [
    "embedding_layer = model.layers[0]\n",
    "weights = embedding_layer.get_weights()[0]\n",
    "print(weights.shape)    # shape: (vocab_size, embedding_dim)"
   ]
  },
  {
   "cell_type": "code",
   "execution_count": 19,
   "id": "e48ef9e7",
   "metadata": {},
   "outputs": [
    {
     "name": "stdout",
     "output_type": "stream",
     "text": [
      "Requirement already satisfied: gensim in /opt/conda/lib/python3.9/site-packages (3.4.0)\n",
      "Collecting gensim\n",
      "  Using cached gensim-4.1.2-cp39-cp39-manylinux_2_12_x86_64.manylinux2010_x86_64.whl (24.0 MB)\n",
      "Requirement already satisfied: numpy>=1.17.0 in /opt/conda/lib/python3.9/site-packages (from gensim) (1.21.4)\n",
      "Requirement already satisfied: smart-open>=1.8.1 in /opt/conda/lib/python3.9/site-packages (from gensim) (5.2.1)\n",
      "Requirement already satisfied: scipy>=0.18.1 in /opt/conda/lib/python3.9/site-packages (from gensim) (1.7.1)\n",
      "Installing collected packages: gensim\n",
      "Successfully installed gensim-4.1.2\n",
      "\u001b[33mWARNING: Running pip as the 'root' user can result in broken permissions and conflicting behaviour with the system package manager. It is recommended to use a virtual environment instead: https://pip.pypa.io/warnings/venv\u001b[0m\n",
      "Note: you may need to restart the kernel to use updated packages.\n"
     ]
    }
   ],
   "source": [
    "pip install --upgrade gensim --user"
   ]
  },
  {
   "cell_type": "code",
   "execution_count": 20,
   "id": "467fa2ec",
   "metadata": {},
   "outputs": [],
   "source": [
    "import os\n",
    "\n",
    "# 학습한 Embedding 파라미터를 파일에 써서 저장합니다. \n",
    "word2vec_file_path = os.getenv('HOME')+'/aiffel/sentiment_classification/data/word2vec.txt'\n",
    "f = open(word2vec_file_path, 'w')\n",
    "f.write('{} {}\\n'.format(vocab_size-4, word_vector_dim))  # 몇개의 벡터를 얼마 사이즈로 기재할지 타이틀을 씁니다.\n",
    "\n",
    "# 단어 개수(에서 특수문자 4개는 제외하고)만큼의 워드 벡터를 파일에 기록합니다. \n",
    "vectors = model.get_weights()[0]\n",
    "for i in range(4,vocab_size):\n",
    "    f.write('{} {}\\n'.format(index_to_word[i], ' '.join(map(str, list(vectors[i, :])))))\n",
    "f.close()"
   ]
  },
  {
   "cell_type": "code",
   "execution_count": 21,
   "id": "c96bd498",
   "metadata": {},
   "outputs": [],
   "source": [
    "from gensim.models.keyedvectors import Word2VecKeyedVectors\n",
    "word_vectors = Word2VecKeyedVectors.load_word2vec_format(word2vec_file_path, binary=False)"
   ]
  },
  {
   "cell_type": "code",
   "execution_count": 22,
   "id": "99e68695",
   "metadata": {},
   "outputs": [
    {
     "data": {
      "text/plain": [
       "[('매우', 0.7289503812789917),\n",
       " ('정말', 0.7093715071678162),\n",
       " ('졸라', 0.6585070490837097),\n",
       " ('긴장감', 0.6209666728973389),\n",
       " ('이번', 0.6136350631713867),\n",
       " ('개인', 0.610276460647583),\n",
       " ('바램', 0.5977984070777893),\n",
       " ('성장통', 0.5925370454788208),\n",
       " ('보다', 0.5867720246315002),\n",
       " ('터짐', 0.5848726630210876)]"
      ]
     },
     "execution_count": 22,
     "metadata": {},
     "output_type": "execute_result"
    }
   ],
   "source": [
    "word_vectors.similar_by_word(\"진짜\")"
   ]
  },
  {
   "cell_type": "code",
   "execution_count": 23,
   "id": "85d58e9d",
   "metadata": {},
   "outputs": [],
   "source": [
    "vocab_size = 10000    # 어휘 사전의 크기입니다(10,000개의 단어)\n",
    "word_vector_dim = 100  # 워드 벡터의 차원수 (변경가능한 하이퍼파라미터)\n",
    "\n",
    "embedding_matrix = np.random.rand(vocab_size, word_vector_dim)\n",
    "\n",
    "# embedding_matrix에 Word2Vec 워드벡터를 단어 하나씩마다 차례차례 카피한다.\n",
    "for i in range(4,vocab_size):\n",
    "    if index_to_word[i] in word_vectors:\n",
    "        embedding_matrix[i] = word_vectors[index_to_word[i]]\n"
   ]
  },
  {
   "cell_type": "code",
   "execution_count": 24,
   "id": "1888e093",
   "metadata": {},
   "outputs": [],
   "source": [
    "from tensorflow.keras.initializers import Constant\n"
   ]
  },
  {
   "cell_type": "markdown",
   "id": "266812b3",
   "metadata": {},
   "source": [
    "global_max_pooling1d"
   ]
  },
  {
   "cell_type": "code",
   "execution_count": 25,
   "id": "45efb13b",
   "metadata": {},
   "outputs": [
    {
     "name": "stdout",
     "output_type": "stream",
     "text": [
      "Model: \"sequential_1\"\n",
      "_________________________________________________________________\n",
      "Layer (type)                 Output Shape              Param #   \n",
      "=================================================================\n",
      "embedding_1 (Embedding)      (None, 31, 100)           1000000   \n",
      "_________________________________________________________________\n",
      "global_max_pooling1d (Global (None, 100)               0         \n",
      "_________________________________________________________________\n",
      "dense_2 (Dense)              (None, 8)                 808       \n",
      "_________________________________________________________________\n",
      "dense_3 (Dense)              (None, 1)                 9         \n",
      "=================================================================\n",
      "Total params: 1,000,817\n",
      "Trainable params: 1,000,817\n",
      "Non-trainable params: 0\n",
      "_________________________________________________________________\n"
     ]
    }
   ],
   "source": [
    "vocab_size = 10000  # 어휘 사전의 크기입니다(10개의 단어)\n",
    "word_vector_dim = 100   # 단어 하나를 표현하는 임베딩 벡터의 차원 수입니다. \n",
    "\n",
    "model = tf.keras.Sequential()\n",
    "model.add(tf.keras.layers.Embedding(vocab_size, \n",
    "                                 word_vector_dim, \n",
    "                                 embeddings_initializer=Constant(embedding_matrix),  # 카피한 임베딩을 여기서 활용\n",
    "                                 input_length=maxlen, \n",
    "                                 trainable=True)) \n",
    "model.add(tf.keras.layers.GlobalMaxPooling1D())\n",
    "model.add(tf.keras.layers.Dense(8, activation='relu'))\n",
    "model.add(tf.keras.layers.Dense(1, activation='sigmoid'))  # 최종 출력은 긍정/부정을 나타내는 1dim 입니다.\n",
    "\n",
    "model.summary()"
   ]
  },
  {
   "cell_type": "code",
   "execution_count": 26,
   "id": "5cb45161",
   "metadata": {},
   "outputs": [
    {
     "name": "stdout",
     "output_type": "stream",
     "text": [
      "Epoch 1/20\n",
      "222/222 [==============================] - 1s 4ms/step - loss: 0.6661 - accuracy: 0.6857 - val_loss: 0.5877 - val_accuracy: 0.7950\n",
      "Epoch 2/20\n",
      "222/222 [==============================] - 1s 4ms/step - loss: 0.4694 - accuracy: 0.8280 - val_loss: 0.4070 - val_accuracy: 0.8232\n",
      "Epoch 3/20\n",
      "222/222 [==============================] - 1s 4ms/step - loss: 0.3662 - accuracy: 0.8480 - val_loss: 0.3799 - val_accuracy: 0.8307\n",
      "Epoch 4/20\n",
      "222/222 [==============================] - 1s 3ms/step - loss: 0.3351 - accuracy: 0.8606 - val_loss: 0.3729 - val_accuracy: 0.8326\n",
      "Epoch 5/20\n",
      "222/222 [==============================] - 1s 4ms/step - loss: 0.3159 - accuracy: 0.8686 - val_loss: 0.3719 - val_accuracy: 0.8357\n",
      "Epoch 6/20\n",
      "222/222 [==============================] - 1s 4ms/step - loss: 0.3017 - accuracy: 0.8747 - val_loss: 0.3758 - val_accuracy: 0.8344\n",
      "Epoch 7/20\n",
      "222/222 [==============================] - 1s 4ms/step - loss: 0.2892 - accuracy: 0.8808 - val_loss: 0.3755 - val_accuracy: 0.8358\n",
      "Epoch 8/20\n",
      "222/222 [==============================] - 1s 4ms/step - loss: 0.2784 - accuracy: 0.8863 - val_loss: 0.3794 - val_accuracy: 0.8353\n",
      "Epoch 9/20\n",
      "222/222 [==============================] - 1s 4ms/step - loss: 0.2692 - accuracy: 0.8905 - val_loss: 0.3861 - val_accuracy: 0.8352\n",
      "Epoch 10/20\n",
      "222/222 [==============================] - 1s 4ms/step - loss: 0.2594 - accuracy: 0.8950 - val_loss: 0.3916 - val_accuracy: 0.8346\n",
      "Epoch 11/20\n",
      "222/222 [==============================] - 1s 4ms/step - loss: 0.2497 - accuracy: 0.8997 - val_loss: 0.3957 - val_accuracy: 0.8341\n",
      "Epoch 12/20\n",
      "222/222 [==============================] - 1s 4ms/step - loss: 0.2400 - accuracy: 0.9037 - val_loss: 0.4047 - val_accuracy: 0.8334\n",
      "Epoch 13/20\n",
      "222/222 [==============================] - 1s 4ms/step - loss: 0.2309 - accuracy: 0.9076 - val_loss: 0.4123 - val_accuracy: 0.8321\n",
      "Epoch 14/20\n",
      "222/222 [==============================] - 1s 4ms/step - loss: 0.2222 - accuracy: 0.9117 - val_loss: 0.4209 - val_accuracy: 0.8314\n",
      "Epoch 15/20\n",
      "222/222 [==============================] - 1s 4ms/step - loss: 0.2138 - accuracy: 0.9159 - val_loss: 0.4283 - val_accuracy: 0.8310\n",
      "Epoch 16/20\n",
      "222/222 [==============================] - 1s 4ms/step - loss: 0.2059 - accuracy: 0.9196 - val_loss: 0.4385 - val_accuracy: 0.8305\n",
      "Epoch 17/20\n",
      "222/222 [==============================] - 1s 4ms/step - loss: 0.1983 - accuracy: 0.9229 - val_loss: 0.4474 - val_accuracy: 0.8297\n",
      "Epoch 18/20\n",
      "222/222 [==============================] - 1s 4ms/step - loss: 0.1908 - accuracy: 0.9265 - val_loss: 0.4597 - val_accuracy: 0.8294\n",
      "Epoch 19/20\n",
      "222/222 [==============================] - 1s 4ms/step - loss: 0.1834 - accuracy: 0.9300 - val_loss: 0.4718 - val_accuracy: 0.8286\n",
      "Epoch 20/20\n",
      "222/222 [==============================] - 1s 4ms/step - loss: 0.1761 - accuracy: 0.9334 - val_loss: 0.4845 - val_accuracy: 0.8273\n"
     ]
    }
   ],
   "source": [
    "model.compile(optimizer='adam',\n",
    "              loss='binary_crossentropy',\n",
    "              metrics=['accuracy'])\n",
    "              \n",
    "epochs=20  # 몇 epoch를 훈련하면 좋을지 결과를 보면서 바꾸어 봅시다. \n",
    "\n",
    "history = model.fit(partial_x_train,\n",
    "                    partial_y_train,\n",
    "                    epochs=epochs,\n",
    "                    batch_size=512,\n",
    "                    validation_data=(x_val, y_val),\n",
    "                    verbose=1)"
   ]
  },
  {
   "cell_type": "code",
   "execution_count": 27,
   "id": "74906246",
   "metadata": {},
   "outputs": [
    {
     "name": "stdout",
     "output_type": "stream",
     "text": [
      "1513/1513 - 2s - loss: 0.4899 - accuracy: 0.8223\n",
      "[0.4898717999458313, 0.822294294834137]\n"
     ]
    }
   ],
   "source": [
    "results = model.evaluate(X_test,  y_test, verbose=2)\n",
    "\n",
    "print(results)"
   ]
  },
  {
   "cell_type": "code",
   "execution_count": 28,
   "id": "de871db0",
   "metadata": {},
   "outputs": [
    {
     "name": "stdout",
     "output_type": "stream",
     "text": [
      "dict_keys(['loss', 'accuracy', 'val_loss', 'val_accuracy'])\n"
     ]
    },
    {
     "data": {
      "image/png": "[encoded data removed]",
      "text/plain": [
       "<Figure size 720x720 with 2 Axes>"
      ]
     },
     "metadata": {
      "needs_background": "light"
     },
     "output_type": "display_data"
    }
   ],
   "source": [
    "history_dict = history.history\n",
    "print(history_dict.keys()) # epoch에 따른 그래프를 그려볼 수 있는 항목들\n",
    "\n",
    "import matplotlib.pyplot as plt\n",
    "\n",
    "acc = history_dict['accuracy']\n",
    "val_acc = history_dict['val_accuracy']\n",
    "loss = history_dict['loss']\n",
    "val_loss = history_dict['val_loss']\n",
    "\n",
    "epochs = range(1, len(acc) + 1)\n",
    "\n",
    "fig , ax = plt.subplots(1,2,figsize = (10,10))\n",
    "\n",
    "ax[0].plot(epochs, loss, 'r', label='Training loss')\n",
    "ax[0].plot(epochs, val_loss, 'b', label='Validation loss')\n",
    "ax[0].set_title('Training and validation loss')\n",
    "ax[0].set_xlabel('Epochs')\n",
    "ax[0].set_ylabel('Loss')\n",
    "ax[0].legend()\n",
    "\n",
    "ax[1].plot(epochs, acc, 'r', label='Training acc')\n",
    "ax[1].plot(epochs, val_acc, 'b', label='Validation acc')\n",
    "ax[1].set_title('Training and validation accuracy')\n",
    "ax[1].set_xlabel('Epochs')\n",
    "ax[1].set_ylabel('Accuracy')\n",
    "ax[1].legend()\n",
    "\n",
    "plt.show()"
   ]
  },
  {
   "cell_type": "markdown",
   "id": "b9d87442",
   "metadata": {},
   "source": [
    "GRU"
   ]
  },
  {
   "cell_type": "code",
   "execution_count": 29,
   "id": "b5723e77",
   "metadata": {},
   "outputs": [
    {
     "name": "stdout",
     "output_type": "stream",
     "text": [
      "Model: \"sequential_2\"\n",
      "_________________________________________________________________\n",
      "Layer (type)                 Output Shape              Param #   \n",
      "=================================================================\n",
      "embedding_2 (Embedding)      (None, 31, 100)           1000000   \n",
      "_________________________________________________________________\n",
      "gru (GRU)                    (None, 128)               88320     \n",
      "_________________________________________________________________\n",
      "dense_4 (Dense)              (None, 1)                 129       \n",
      "=================================================================\n",
      "Total params: 1,088,449\n",
      "Trainable params: 1,088,449\n",
      "Non-trainable params: 0\n",
      "_________________________________________________________________\n"
     ]
    }
   ],
   "source": [
    "vocab_size = 10000  # 어휘 사전의 크기입니다(10개의 단어)\n",
    "word_vector_dim = 100   # 단어 하나를 표현하는 임베딩 벡터의 차원 수입니다. \n",
    "\n",
    "model = tf.keras.Sequential()\n",
    "model.add(tf.keras.layers.Embedding(vocab_size, \n",
    "                                 word_vector_dim, \n",
    "                                 embeddings_initializer=Constant(embedding_matrix),  # 카피한 임베딩을 여기서 활용\n",
    "                                 input_length=maxlen, \n",
    "                                 trainable=True)) \n",
    "model.add(tf.keras.layers.GRU(128))\n",
    "model.add(tf.keras.layers.Dense(1, activation='sigmoid'))  # 최종 출력은 긍정/부정을 나타내는 1dim 입니다.\n",
    "\n",
    "model.summary()"
   ]
  },
  {
   "cell_type": "code",
   "execution_count": 30,
   "id": "7a7160a8",
   "metadata": {},
   "outputs": [
    {
     "name": "stdout",
     "output_type": "stream",
     "text": [
      "Epoch 1/20\n",
      "222/222 [==============================] - 3s 10ms/step - loss: 0.3501 - accuracy: 0.8521 - val_loss: 0.3602 - val_accuracy: 0.8415\n",
      "Epoch 2/20\n",
      "222/222 [==============================] - 2s 8ms/step - loss: 0.2761 - accuracy: 0.8854 - val_loss: 0.3921 - val_accuracy: 0.8415\n",
      "Epoch 3/20\n",
      "222/222 [==============================] - 2s 8ms/step - loss: 0.2236 - accuracy: 0.9083 - val_loss: 0.4329 - val_accuracy: 0.8405\n",
      "Epoch 4/20\n",
      "222/222 [==============================] - 2s 8ms/step - loss: 0.1854 - accuracy: 0.9253 - val_loss: 0.4687 - val_accuracy: 0.8397\n",
      "Epoch 5/20\n",
      "222/222 [==============================] - 2s 8ms/step - loss: 0.1592 - accuracy: 0.9367 - val_loss: 0.5049 - val_accuracy: 0.8355\n",
      "Epoch 6/20\n",
      "222/222 [==============================] - 2s 8ms/step - loss: 0.1399 - accuracy: 0.9450 - val_loss: 0.5679 - val_accuracy: 0.8318\n",
      "Epoch 7/20\n",
      "222/222 [==============================] - 2s 8ms/step - loss: 0.1253 - accuracy: 0.9516 - val_loss: 0.6444 - val_accuracy: 0.8325\n",
      "Epoch 8/20\n",
      "222/222 [==============================] - 2s 8ms/step - loss: 0.1134 - accuracy: 0.9560 - val_loss: 0.6714 - val_accuracy: 0.8319\n",
      "Epoch 9/20\n",
      "222/222 [==============================] - 2s 8ms/step - loss: 0.1011 - accuracy: 0.9614 - val_loss: 0.7181 - val_accuracy: 0.8267\n",
      "Epoch 10/20\n",
      "222/222 [==============================] - 2s 8ms/step - loss: 0.0913 - accuracy: 0.9659 - val_loss: 0.7764 - val_accuracy: 0.8288\n",
      "Epoch 11/20\n",
      "222/222 [==============================] - 2s 8ms/step - loss: 0.0857 - accuracy: 0.9683 - val_loss: 0.7951 - val_accuracy: 0.8291\n",
      "Epoch 12/20\n",
      "222/222 [==============================] - 2s 8ms/step - loss: 0.0810 - accuracy: 0.9702 - val_loss: 0.8154 - val_accuracy: 0.8250\n",
      "Epoch 13/20\n",
      "222/222 [==============================] - 2s 8ms/step - loss: 0.0704 - accuracy: 0.9741 - val_loss: 0.8731 - val_accuracy: 0.8266\n",
      "Epoch 14/20\n",
      "222/222 [==============================] - 2s 8ms/step - loss: 0.0667 - accuracy: 0.9753 - val_loss: 0.8667 - val_accuracy: 0.8280\n",
      "Epoch 15/20\n",
      "222/222 [==============================] - 2s 8ms/step - loss: 0.0599 - accuracy: 0.9776 - val_loss: 0.9519 - val_accuracy: 0.8262\n",
      "Epoch 16/20\n",
      "222/222 [==============================] - 2s 8ms/step - loss: 0.0537 - accuracy: 0.9800 - val_loss: 1.0111 - val_accuracy: 0.8286\n",
      "Epoch 17/20\n",
      "222/222 [==============================] - 2s 8ms/step - loss: 0.0495 - accuracy: 0.9818 - val_loss: 0.9973 - val_accuracy: 0.8264\n",
      "Epoch 18/20\n",
      "222/222 [==============================] - 2s 8ms/step - loss: 0.0477 - accuracy: 0.9825 - val_loss: 1.0932 - val_accuracy: 0.8270\n",
      "Epoch 19/20\n",
      "222/222 [==============================] - 2s 8ms/step - loss: 0.0448 - accuracy: 0.9834 - val_loss: 1.1063 - val_accuracy: 0.8250\n",
      "Epoch 20/20\n",
      "222/222 [==============================] - 2s 8ms/step - loss: 0.0421 - accuracy: 0.9847 - val_loss: 1.1548 - val_accuracy: 0.8274\n"
     ]
    }
   ],
   "source": [
    "model.compile(optimizer='adam',\n",
    "              loss='binary_crossentropy',\n",
    "              metrics=['accuracy'])\n",
    "              \n",
    "epochs=20  # 몇 epoch를 훈련하면 좋을지 결과를 보면서 바꾸어 봅시다. \n",
    "\n",
    "history = model.fit(partial_x_train,\n",
    "                    partial_y_train,\n",
    "                    epochs=epochs,\n",
    "                    batch_size=512,\n",
    "                    validation_data=(x_val, y_val),\n",
    "                    verbose=1)"
   ]
  },
  {
   "cell_type": "code",
   "execution_count": 31,
   "id": "3b4007bf",
   "metadata": {},
   "outputs": [
    {
     "name": "stdout",
     "output_type": "stream",
     "text": [
      "1513/1513 - 3s - loss: 1.1823 - accuracy: 0.8210\n",
      "[1.1823325157165527, 0.8209923505783081]\n"
     ]
    }
   ],
   "source": [
    "results = model.evaluate(X_test,  y_test, verbose=2)\n",
    "\n",
    "print(results)"
   ]
  },
  {
   "cell_type": "code",
   "execution_count": 32,
   "id": "b2fdc049",
   "metadata": {},
   "outputs": [
    {
     "name": "stdout",
     "output_type": "stream",
     "text": [
      "dict_keys(['loss', 'accuracy', 'val_loss', 'val_accuracy'])\n"
     ]
    },
    {
     "data": {
      "image/png": "[encoded data removed]",
      "text/plain": [
       "<Figure size 720x720 with 2 Axes>"
      ]
     },
     "metadata": {
      "needs_background": "light"
     },
     "output_type": "display_data"
    }
   ],
   "source": [
    "history_dict = history.history\n",
    "print(history_dict.keys()) # epoch에 따른 그래프를 그려볼 수 있는 항목들\n",
    "\n",
    "import matplotlib.pyplot as plt\n",
    "\n",
    "acc = history_dict['accuracy']\n",
    "val_acc = history_dict['val_accuracy']\n",
    "loss = history_dict['loss']\n",
    "val_loss = history_dict['val_loss']\n",
    "\n",
    "epochs = range(1, len(acc) + 1)\n",
    "\n",
    "fig , ax = plt.subplots(1,2,figsize = (10,10))\n",
    "\n",
    "ax[0].plot(epochs, loss, 'r', label='Training loss')\n",
    "ax[0].plot(epochs, val_loss, 'b', label='Validation loss')\n",
    "ax[0].set_title('Training and validation loss')\n",
    "ax[0].set_xlabel('Epochs')\n",
    "ax[0].set_ylabel('Loss')\n",
    "ax[0].legend()\n",
    "\n",
    "ax[1].plot(epochs, acc, 'r', label='Training acc')\n",
    "ax[1].plot(epochs, val_acc, 'b', label='Validation acc')\n",
    "ax[1].set_title('Training and validation accuracy')\n",
    "ax[1].set_xlabel('Epochs')\n",
    "ax[1].set_ylabel('Accuracy')\n",
    "ax[1].legend()\n",
    "\n",
    "plt.show()"
   ]
  },
  {
   "cell_type": "markdown",
   "id": "35851f6e",
   "metadata": {},
   "source": [
    "LSTM"
   ]
  },
  {
   "cell_type": "code",
   "execution_count": 33,
   "id": "7f3fdca3",
   "metadata": {},
   "outputs": [
    {
     "name": "stdout",
     "output_type": "stream",
     "text": [
      "Model: \"sequential_3\"\n",
      "_________________________________________________________________\n",
      "Layer (type)                 Output Shape              Param #   \n",
      "=================================================================\n",
      "embedding_3 (Embedding)      (None, 31, 100)           1000000   \n",
      "_________________________________________________________________\n",
      "lstm_1 (LSTM)                (None, 8)                 3488      \n",
      "_________________________________________________________________\n",
      "dense_5 (Dense)              (None, 8)                 72        \n",
      "_________________________________________________________________\n",
      "dense_6 (Dense)              (None, 1)                 9         \n",
      "=================================================================\n",
      "Total params: 1,003,569\n",
      "Trainable params: 1,003,569\n",
      "Non-trainable params: 0\n",
      "_________________________________________________________________\n"
     ]
    }
   ],
   "source": [
    "vocab_size = 10000  # 어휘 사전의 크기입니다(10개의 단어)\n",
    "word_vector_dim = 100  # 단어 하나를 표현하는 임베딩 벡터의 차원수입니다. \n",
    "\n",
    "model = tf.keras.Sequential()\n",
    "model.add(tf.keras.layers.Embedding(vocab_size, \n",
    "                                 word_vector_dim, \n",
    "                                 embeddings_initializer=Constant(embedding_matrix),  # 카피한 임베딩을 여기서 활용\n",
    "                                 input_length=maxlen, \n",
    "                                 trainable=True)) \n",
    "model.add(tf.keras.layers.LSTM(8))   # 가장 널리 쓰이는 RNN인 LSTM 레이어를 사용하였습니다. 이때 LSTM state 벡터의 차원수는 8로 하였습니다. (변경 가능)\n",
    "model.add(tf.keras.layers.Dense(8, activation='relu'))\n",
    "model.add(tf.keras.layers.Dense(1, activation='sigmoid'))  # 최종 출력은 긍정/부정을 나타내는 1dim 입니다.\n",
    "\n",
    "model.summary()"
   ]
  },
  {
   "cell_type": "code",
   "execution_count": 34,
   "id": "cdcf1be5",
   "metadata": {},
   "outputs": [
    {
     "name": "stdout",
     "output_type": "stream",
     "text": [
      "Epoch 1/20\n",
      "222/222 [==============================] - 3s 7ms/step - loss: 0.4477 - accuracy: 0.8138 - val_loss: 0.3734 - val_accuracy: 0.8416\n",
      "Epoch 2/20\n",
      "222/222 [==============================] - 1s 6ms/step - loss: 0.3108 - accuracy: 0.8723 - val_loss: 0.3636 - val_accuracy: 0.8425\n",
      "Epoch 3/20\n",
      "222/222 [==============================] - 1s 6ms/step - loss: 0.2799 - accuracy: 0.8856 - val_loss: 0.3668 - val_accuracy: 0.8445\n",
      "Epoch 4/20\n",
      "222/222 [==============================] - 1s 6ms/step - loss: 0.2495 - accuracy: 0.8983 - val_loss: 0.3751 - val_accuracy: 0.8443\n",
      "Epoch 5/20\n",
      "222/222 [==============================] - 1s 5ms/step - loss: 0.2212 - accuracy: 0.9103 - val_loss: 0.3968 - val_accuracy: 0.8435\n",
      "Epoch 6/20\n",
      "222/222 [==============================] - 1s 6ms/step - loss: 0.1989 - accuracy: 0.9194 - val_loss: 0.4228 - val_accuracy: 0.8414\n",
      "Epoch 7/20\n",
      "222/222 [==============================] - 1s 6ms/step - loss: 0.1813 - accuracy: 0.9268 - val_loss: 0.4586 - val_accuracy: 0.8387\n",
      "Epoch 8/20\n",
      "222/222 [==============================] - 1s 5ms/step - loss: 0.1655 - accuracy: 0.9333 - val_loss: 0.4921 - val_accuracy: 0.8377\n",
      "Epoch 9/20\n",
      "222/222 [==============================] - 1s 5ms/step - loss: 0.1529 - accuracy: 0.9384 - val_loss: 0.5482 - val_accuracy: 0.8368\n",
      "Epoch 10/20\n",
      "222/222 [==============================] - 1s 6ms/step - loss: 0.1413 - accuracy: 0.9434 - val_loss: 0.5644 - val_accuracy: 0.8348\n",
      "Epoch 11/20\n",
      "222/222 [==============================] - 1s 6ms/step - loss: 0.1310 - accuracy: 0.9488 - val_loss: 0.6117 - val_accuracy: 0.8321\n",
      "Epoch 12/20\n",
      "222/222 [==============================] - 1s 6ms/step - loss: 0.1226 - accuracy: 0.9525 - val_loss: 0.6372 - val_accuracy: 0.8335\n",
      "Epoch 13/20\n",
      "222/222 [==============================] - 1s 5ms/step - loss: 0.1146 - accuracy: 0.9558 - val_loss: 0.6712 - val_accuracy: 0.8318\n",
      "Epoch 14/20\n",
      "222/222 [==============================] - 1s 6ms/step - loss: 0.1082 - accuracy: 0.9586 - val_loss: 0.7148 - val_accuracy: 0.8301\n",
      "Epoch 15/20\n",
      "222/222 [==============================] - 1s 5ms/step - loss: 0.1018 - accuracy: 0.9615 - val_loss: 0.7235 - val_accuracy: 0.8303\n",
      "Epoch 16/20\n",
      "222/222 [==============================] - 1s 5ms/step - loss: 0.0960 - accuracy: 0.9643 - val_loss: 0.7667 - val_accuracy: 0.8286\n",
      "Epoch 17/20\n",
      "222/222 [==============================] - 1s 5ms/step - loss: 0.0897 - accuracy: 0.9667 - val_loss: 0.8063 - val_accuracy: 0.8296\n",
      "Epoch 18/20\n",
      "222/222 [==============================] - 1s 6ms/step - loss: 0.0854 - accuracy: 0.9681 - val_loss: 0.8416 - val_accuracy: 0.8287\n",
      "Epoch 19/20\n",
      "222/222 [==============================] - 1s 6ms/step - loss: 0.0806 - accuracy: 0.9704 - val_loss: 0.8837 - val_accuracy: 0.8261\n",
      "Epoch 20/20\n",
      "222/222 [==============================] - 1s 6ms/step - loss: 0.0769 - accuracy: 0.9725 - val_loss: 0.9060 - val_accuracy: 0.8235\n"
     ]
    }
   ],
   "source": [
    "model.compile(optimizer='adam',\n",
    "              loss='binary_crossentropy',\n",
    "              metrics=['accuracy'])\n",
    "              \n",
    "epochs=20  # 몇 epoch를 훈련하면 좋을지 결과를 보면서 바꾸어 봅시다. \n",
    "\n",
    "history = model.fit(partial_x_train,\n",
    "                    partial_y_train,\n",
    "                    epochs=epochs,\n",
    "                    batch_size=512,\n",
    "                    validation_data=(x_val, y_val),\n",
    "                    verbose=1)"
   ]
  },
  {
   "cell_type": "code",
   "execution_count": 35,
   "id": "395fb620",
   "metadata": {},
   "outputs": [
    {
     "name": "stdout",
     "output_type": "stream",
     "text": [
      "1513/1513 - 3s - loss: 0.9057 - accuracy: 0.8213\n",
      "[0.9056727886199951, 0.8212816715240479]\n"
     ]
    }
   ],
   "source": [
    "results = model.evaluate(X_test,  y_test, verbose=2)\n",
    "\n",
    "print(results)"
   ]
  },
  {
   "cell_type": "code",
   "execution_count": 36,
   "id": "c359da95",
   "metadata": {},
   "outputs": [
    {
     "name": "stdout",
     "output_type": "stream",
     "text": [
      "dict_keys(['loss', 'accuracy', 'val_loss', 'val_accuracy'])\n"
     ]
    },
    {
     "data": {
      "image/png": "[encoded data removed]",
      "text/plain": [
       "<Figure size 720x720 with 2 Axes>"
      ]
     },
     "metadata": {
      "needs_background": "light"
     },
     "output_type": "display_data"
    }
   ],
   "source": [
    "history_dict = history.history\n",
    "print(history_dict.keys()) # epoch에 따른 그래프를 그려볼 수 있는 항목들\n",
    "\n",
    "import matplotlib.pyplot as plt\n",
    "\n",
    "acc = history_dict['accuracy']\n",
    "val_acc = history_dict['val_accuracy']\n",
    "loss = history_dict['loss']\n",
    "val_loss = history_dict['val_loss']\n",
    "\n",
    "epochs = range(1, len(acc) + 1)\n",
    "\n",
    "fig , ax = plt.subplots(1,2,figsize = (10,10))\n",
    "\n",
    "ax[0].plot(epochs, loss, 'r', label='Training loss')\n",
    "ax[0].plot(epochs, val_loss, 'b', label='Validation loss')\n",
    "ax[0].set_title('Training and validation loss')\n",
    "ax[0].set_xlabel('Epochs')\n",
    "ax[0].set_ylabel('Loss')\n",
    "ax[0].legend()\n",
    "\n",
    "ax[1].plot(epochs, acc, 'r', label='Training acc')\n",
    "ax[1].plot(epochs, val_acc, 'b', label='Validation acc')\n",
    "ax[1].set_title('Training and validation accuracy')\n",
    "ax[1].set_xlabel('Epochs')\n",
    "ax[1].set_ylabel('Accuracy')\n",
    "ax[1].legend()\n",
    "\n",
    "plt.show()"
   ]
  },
  {
   "cell_type": "markdown",
   "id": "7d48fae5",
   "metadata": {},
   "source": [
    "대체 왜.. word2vec 적용하지 않은 LSTM이 적용한 LSTM보다 성능이 좋게 나오는걸까\n",
    "\n",
    "일반 LSTM :1513/1513 - 3s - loss: 0.6885 - accuracy: 0.8241   \n",
    "W2V Global : 1513/1513 - 2s - loss: 0.5189 - accuracy: 0.8216   \n",
    "W2V GRU : 1513/1513 - 3s - loss: 0.7660 - accuracy: 0.8213   \n",
    "W2V LSTM : 1513/1513 - 3s - loss: 1.2308 - accuracy: 0.8111   \n",
    "\n",
    "이렇게 모아두고 보니 accuracy 일반 LSTM이 제일 좋게 나왔지만,    \n",
    "loss까지 고려하면 word2vec을 적용한 global도 나쁘지 않은 성적이라 생각이 들었다."
   ]
  },
  {
   "cell_type": "markdown",
   "id": "2d0fe71a",
   "metadata": {},
   "source": [
    "## word2vec 한국어 적용"
   ]
  },
  {
   "cell_type": "code",
   "execution_count": 48,
   "id": "1e10929c",
   "metadata": {},
   "outputs": [],
   "source": [
    "import gensim\n",
    "from gensim.models import KeyedVectors\n",
    "word2vec_path = os.getenv('HOME')+'/aiffel/sentiment_classification/data/ko.bin'\n",
    "word2vec = gensim.models.Word2Vec.load(word2vec_path)"
   ]
  },
  {
   "cell_type": "code",
   "execution_count": 49,
   "id": "1bb48ef9",
   "metadata": {},
   "outputs": [
    {
     "name": "stderr",
     "output_type": "stream",
     "text": [
      "/tmp/ipykernel_1501/1343737346.py:1: DeprecationWarning: Call to deprecated `similar_by_word` (Method will be removed in 4.0.0, use self.wv.similar_by_word() instead).\n",
      "  word2vec.similar_by_word(\"노래\")\n"
     ]
    },
    {
     "data": {
      "text/plain": [
       "[('가사', 0.7066930532455444),\n",
       " ('곡조', 0.6870777010917664),\n",
       " ('곡', 0.6749094724655151),\n",
       " ('발라드', 0.6573207378387451),\n",
       " ('멜로디', 0.6572505235671997),\n",
       " ('주제가', 0.6365448832511902),\n",
       " ('애국가', 0.6258596181869507),\n",
       " ('곡인', 0.6254721879959106),\n",
       " ('히트곡', 0.6253563165664673),\n",
       " ('원곡', 0.6200122833251953)]"
      ]
     },
     "execution_count": 49,
     "metadata": {},
     "output_type": "execute_result"
    }
   ],
   "source": [
    "word2vec.similar_by_word(\"노래\")"
   ]
  },
  {
   "cell_type": "markdown",
   "id": "5c8a078a",
   "metadata": {},
   "source": [
    "사람이 봤을 때 꽤 유사한 단어들이 추출되는 것이 보인다."
   ]
  },
  {
   "cell_type": "code",
   "execution_count": 51,
   "id": "f7fa992e",
   "metadata": {},
   "outputs": [
    {
     "name": "stderr",
     "output_type": "stream",
     "text": [
      "/tmp/ipykernel_1501/1234835990.py:6: DeprecationWarning: Call to deprecated `__contains__` (Method will be removed in 4.0.0, use self.wv.__contains__() instead).\n",
      "  if index_to_word[i] in word2vec:\n",
      "/tmp/ipykernel_1501/1234835990.py:7: DeprecationWarning: Call to deprecated `__getitem__` (Method will be removed in 4.0.0, use self.wv.__getitem__() instead).\n",
      "  embedding_matrix[i] = word2vec[index_to_word[i]]\n"
     ]
    }
   ],
   "source": [
    "vocab_size = 10000    # 어휘 사전의 크기입니다(10,000개의 단어)\n",
    "word_vector_dim = 200  # 워드 벡터의 차원수 200으로 설정\n",
    "embedding_matrix = np.random.rand(vocab_size, word_vector_dim)\n",
    "\n",
    "for i in range(4,vocab_size):\n",
    "    if index_to_word[i] in word2vec:\n",
    "        embedding_matrix[i] = word2vec[index_to_word[i]]"
   ]
  },
  {
   "cell_type": "code",
   "execution_count": 85,
   "id": "6a8da1cd",
   "metadata": {},
   "outputs": [
    {
     "name": "stdout",
     "output_type": "stream",
     "text": [
      "Model: \"sequential_15\"\n",
      "_________________________________________________________________\n",
      "Layer (type)                 Output Shape              Param #   \n",
      "=================================================================\n",
      "embedding_15 (Embedding)     (None, 31, 200)           2000000   \n",
      "_________________________________________________________________\n",
      "lstm_13 (LSTM)               (None, 128)               168448    \n",
      "_________________________________________________________________\n",
      "dense_25 (Dense)             (None, 8)                 1032      \n",
      "_________________________________________________________________\n",
      "dense_26 (Dense)             (None, 1)                 9         \n",
      "=================================================================\n",
      "Total params: 2,169,489\n",
      "Trainable params: 2,169,489\n",
      "Non-trainable params: 0\n",
      "_________________________________________________________________\n"
     ]
    }
   ],
   "source": [
    "vocab_size = 10000  # 어휘 사전의 크기입니다(10개의 단어)\n",
    "word_vector_dim = 200  # 단어 하나를 표현하는 임베딩 벡터의 차원수입니다. \n",
    "\n",
    "model_basic = tf.keras.Sequential()\n",
    "model_basic.add(tf.keras.layers.Embedding(vocab_size, \n",
    "                                 word_vector_dim, \n",
    "                                 embeddings_initializer=Constant(embedding_matrix),  # 카피한 임베딩을 여기서 활용\n",
    "                                 input_length=maxlen, \n",
    "                                 trainable=True)) \n",
    "model_basic.add(tf.keras.layers.LSTM(128))   # 가장 널리 쓰이는 RNN인 LSTM 레이어를 사용하였습니다. 이때 LSTM state 벡터의 차원수는 8로 하였습니다. (변경 가능)\n",
    "model_basic.add(tf.keras.layers.Dense(8, activation='relu'))\n",
    "model_basic.add(tf.keras.layers.Dense(1, activation='sigmoid'))  # 최종 출력은 긍정/부정을 나타내는 1dim 입니다.\n",
    "\n",
    "model_basic.summary()"
   ]
  },
  {
   "cell_type": "code",
   "execution_count": 86,
   "id": "a3d4193a",
   "metadata": {},
   "outputs": [
    {
     "name": "stdout",
     "output_type": "stream",
     "text": [
      "Epoch 1/10\n",
      "222/222 [==============================] - 5s 13ms/step - loss: 0.4676 - accuracy: 0.7733 - val_loss: 0.3776 - val_accuracy: 0.8293\n",
      "Epoch 2/10\n",
      "222/222 [==============================] - 2s 11ms/step - loss: 0.3451 - accuracy: 0.8484 - val_loss: 0.3482 - val_accuracy: 0.8477\n",
      "Epoch 3/10\n",
      "222/222 [==============================] - 3s 11ms/step - loss: 0.2990 - accuracy: 0.8723 - val_loss: 0.3315 - val_accuracy: 0.8551\n",
      "Epoch 4/10\n",
      "222/222 [==============================] - 3s 11ms/step - loss: 0.2661 - accuracy: 0.8885 - val_loss: 0.3300 - val_accuracy: 0.8585\n",
      "Epoch 5/10\n",
      "222/222 [==============================] - 3s 11ms/step - loss: 0.2392 - accuracy: 0.9014 - val_loss: 0.3431 - val_accuracy: 0.8549\n",
      "Epoch 6/10\n",
      "222/222 [==============================] - 3s 11ms/step - loss: 0.2123 - accuracy: 0.9143 - val_loss: 0.3572 - val_accuracy: 0.8528\n",
      "Epoch 7/10\n",
      "222/222 [==============================] - 3s 11ms/step - loss: 0.1829 - accuracy: 0.9273 - val_loss: 0.3929 - val_accuracy: 0.8494\n",
      "Epoch 8/10\n",
      "222/222 [==============================] - 3s 12ms/step - loss: 0.1568 - accuracy: 0.9395 - val_loss: 0.4198 - val_accuracy: 0.8495\n",
      "Epoch 9/10\n",
      "222/222 [==============================] - 3s 12ms/step - loss: 0.1281 - accuracy: 0.9510 - val_loss: 0.4720 - val_accuracy: 0.8453\n",
      "Epoch 10/10\n",
      "222/222 [==============================] - 3s 12ms/step - loss: 0.1039 - accuracy: 0.9617 - val_loss: 0.5294 - val_accuracy: 0.8471\n"
     ]
    }
   ],
   "source": [
    "model_basic.compile(optimizer='adam',\n",
    "              loss='binary_crossentropy',\n",
    "              metrics=['accuracy'])\n",
    "              \n",
    "epochs=10  # 몇 epoch를 훈련하면 좋을지 결과를 보면서 바꾸어 봅시다. \n",
    "\n",
    "history_basic = model_basic.fit(partial_x_train,\n",
    "                    partial_y_train,\n",
    "                    epochs=epochs,\n",
    "                    batch_size=512,\n",
    "                    validation_data=(x_val, y_val),\n",
    "                    verbose=1)"
   ]
  },
  {
   "cell_type": "code",
   "execution_count": 101,
   "id": "793c6265",
   "metadata": {},
   "outputs": [
    {
     "name": "stdout",
     "output_type": "stream",
     "text": [
      "기본 LSTM 성능\n",
      "1513/1513 - 3s - loss: 0.5354 - accuracy: 0.8434\n"
     ]
    }
   ],
   "source": [
    "print(\"기본 LSTM 성능\")\n",
    "results_basic = model_basic.evaluate(X_test,  y_test, verbose=2)"
   ]
  },
  {
   "cell_type": "markdown",
   "id": "ea1c7246",
   "metadata": {},
   "source": [
    "## 성능 향상을 위한 drop out 적용\n",
    "\n",
    "LSTM의 성능 향상을 위해 drop out을 적용하였다."
   ]
  },
  {
   "cell_type": "code",
   "execution_count": 88,
   "id": "adf61db7",
   "metadata": {},
   "outputs": [
    {
     "name": "stdout",
     "output_type": "stream",
     "text": [
      "Model: \"sequential_16\"\n",
      "_________________________________________________________________\n",
      "Layer (type)                 Output Shape              Param #   \n",
      "=================================================================\n",
      "embedding_16 (Embedding)     (None, 31, 200)           2000000   \n",
      "_________________________________________________________________\n",
      "lstm_14 (LSTM)               (None, 128)               168448    \n",
      "_________________________________________________________________\n",
      "dropout_11 (Dropout)         (None, 128)               0         \n",
      "_________________________________________________________________\n",
      "dense_27 (Dense)             (None, 8)                 1032      \n",
      "_________________________________________________________________\n",
      "dropout_12 (Dropout)         (None, 8)                 0         \n",
      "_________________________________________________________________\n",
      "dense_28 (Dense)             (None, 1)                 9         \n",
      "=================================================================\n",
      "Total params: 2,169,489\n",
      "Trainable params: 2,169,489\n",
      "Non-trainable params: 0\n",
      "_________________________________________________________________\n"
     ]
    }
   ],
   "source": [
    "vocab_size = 10000  # 어휘 사전의 크기입니다(10개의 단어)\n",
    "word_vector_dim = 200  # 단어 하나를 표현하는 임베딩 벡터의 차원수입니다. \n",
    "\n",
    "model_drop = tf.keras.Sequential()\n",
    "model_drop.add(tf.keras.layers.Embedding(vocab_size, \n",
    "                                 word_vector_dim, \n",
    "                                 embeddings_initializer=Constant(embedding_matrix),  # 카피한 임베딩을 여기서 활용\n",
    "                                 input_length=maxlen, \n",
    "                                 trainable=True)) \n",
    "model_drop.add(tf.keras.layers.LSTM(128))   \n",
    "model_drop.add(tf.keras.layers.Dropout(0.25))\n",
    "model_drop.add(tf.keras.layers.Dense(8, activation='relu'))\n",
    "model_drop.add(tf.keras.layers.Dropout(0.4))\n",
    "model_drop.add(tf.keras.layers.Dense(1, activation='sigmoid'))  # 최종 출력은 긍정/부정을 나타내는 1dim 입니다.\n",
    "\n",
    "model_drop.summary()"
   ]
  },
  {
   "cell_type": "code",
   "execution_count": 89,
   "id": "690d1485",
   "metadata": {},
   "outputs": [
    {
     "name": "stdout",
     "output_type": "stream",
     "text": [
      "Epoch 1/10\n",
      "222/222 [==============================] - 4s 13ms/step - loss: 0.5236 - accuracy: 0.7439 - val_loss: 0.3972 - val_accuracy: 0.8223\n",
      "Epoch 2/10\n",
      "222/222 [==============================] - 3s 11ms/step - loss: 0.3968 - accuracy: 0.8355 - val_loss: 0.3527 - val_accuracy: 0.8428\n",
      "Epoch 3/10\n",
      "222/222 [==============================] - 3s 11ms/step - loss: 0.3568 - accuracy: 0.8579 - val_loss: 0.3313 - val_accuracy: 0.8529\n",
      "Epoch 4/10\n",
      "222/222 [==============================] - 3s 11ms/step - loss: 0.3278 - accuracy: 0.8724 - val_loss: 0.3321 - val_accuracy: 0.8552\n",
      "Epoch 5/10\n",
      "222/222 [==============================] - 3s 12ms/step - loss: 0.3044 - accuracy: 0.8817 - val_loss: 0.3363 - val_accuracy: 0.8526\n",
      "Epoch 6/10\n",
      "222/222 [==============================] - 3s 12ms/step - loss: 0.2863 - accuracy: 0.8900 - val_loss: 0.3426 - val_accuracy: 0.8550\n",
      "Epoch 7/10\n",
      "222/222 [==============================] - 3s 12ms/step - loss: 0.2671 - accuracy: 0.8982 - val_loss: 0.3676 - val_accuracy: 0.8547\n",
      "Epoch 8/10\n",
      "222/222 [==============================] - 3s 12ms/step - loss: 0.2458 - accuracy: 0.9076 - val_loss: 0.3827 - val_accuracy: 0.8559\n",
      "Epoch 9/10\n",
      "222/222 [==============================] - 3s 12ms/step - loss: 0.2276 - accuracy: 0.9156 - val_loss: 0.3886 - val_accuracy: 0.8563\n",
      "Epoch 10/10\n",
      "222/222 [==============================] - 3s 12ms/step - loss: 0.2123 - accuracy: 0.9228 - val_loss: 0.3968 - val_accuracy: 0.8543\n"
     ]
    }
   ],
   "source": [
    "model_drop.compile(optimizer='adam',\n",
    "              loss='binary_crossentropy',\n",
    "              metrics=['accuracy'])\n",
    "              \n",
    "epochs=10  # 몇 epoch를 훈련하면 좋을지 결과를 보면서 바꾸어 봅시다. \n",
    "\n",
    "history_drop = model_drop.fit(partial_x_train,\n",
    "                    partial_y_train,\n",
    "                    epochs=epochs,\n",
    "                    batch_size=512,\n",
    "                    validation_data=(x_val, y_val),\n",
    "                    verbose=1)"
   ]
  },
  {
   "cell_type": "code",
   "execution_count": 102,
   "id": "ba342076",
   "metadata": {},
   "outputs": [
    {
     "name": "stdout",
     "output_type": "stream",
     "text": [
      "drop out 적용한 LSTM 성능\n",
      "1513/1513 - 3s - loss: 0.4025 - accuracy: 0.8501\n"
     ]
    }
   ],
   "source": [
    "print(\"drop out 적용한 LSTM 성능\")\n",
    "results_drop = model_drop.evaluate(X_test,  y_test, verbose=2)"
   ]
  },
  {
   "cell_type": "markdown",
   "id": "83948a07",
   "metadata": {},
   "source": [
    "dropout 적용 이후 성능이 향상된 것을 확인할 수 있었다."
   ]
  },
  {
   "cell_type": "code",
   "execution_count": 95,
   "id": "da19aef3",
   "metadata": {},
   "outputs": [
    {
     "name": "stdout",
     "output_type": "stream",
     "text": [
      "dict_keys(['loss', 'accuracy', 'val_loss', 'val_accuracy'])\n"
     ]
    }
   ],
   "source": [
    "history_basic = history_basic.history\n",
    "history_drop = history_drop.history\n",
    "\n",
    "print(history_dict.keys()) # epoch에 따른 그래프를 그려볼 수 있는 항목들"
   ]
  },
  {
   "cell_type": "code",
   "execution_count": 97,
   "id": "e7af4ae6",
   "metadata": {},
   "outputs": [],
   "source": [
    "#plot 그리기 함수화\n",
    "import matplotlib.pyplot as plt\n",
    "\n",
    "def make_plt(his_ver):\n",
    "    acc = his_ver['accuracy']\n",
    "    val_acc = his_ver['val_accuracy']\n",
    "    loss = his_ver['loss']\n",
    "    val_loss = his_ver['val_loss']\n",
    "\n",
    "    epochs = range(1, len(acc) + 1)\n",
    "\n",
    "    fig , ax = plt.subplots(1,2,figsize = (10,10))\n",
    "\n",
    "    ax[0].plot(epochs, loss, 'r', label='Training loss')\n",
    "    ax[0].plot(epochs, val_loss, 'b', label='Validation loss')\n",
    "    ax[0].set_title('Training and validation loss')\n",
    "    ax[0].set_xlabel('Epochs')\n",
    "    ax[0].set_ylabel('Loss')\n",
    "    ax[0].legend()\n",
    "\n",
    "    ax[1].plot(epochs, acc, 'r', label='Training acc')\n",
    "    ax[1].plot(epochs, val_acc, 'b', label='Validation acc')\n",
    "    ax[1].set_title('Training and validation accuracy')\n",
    "    ax[1].set_xlabel('Epochs')\n",
    "    ax[1].set_ylabel('Accuracy')\n",
    "    ax[1].legend()\n",
    "\n",
    "    plt.show()"
   ]
  },
  {
   "cell_type": "code",
   "execution_count": 98,
   "id": "fd58937e",
   "metadata": {},
   "outputs": [
    {
     "data": {
      "image/png": "[encoded data removed]",
      "text/plain": [
       "<Figure size 720x720 with 2 Axes>"
      ]
     },
     "metadata": {
      "needs_background": "light"
     },
     "output_type": "display_data"
    }
   ],
   "source": [
    "make_plt(history_basic) # non- drop out"
   ]
  },
  {
   "cell_type": "code",
   "execution_count": 99,
   "id": "4d88da31",
   "metadata": {},
   "outputs": [
    {
     "data": {
      "image/png": "[encoded data removed]",
      "text/plain": [
       "<Figure size 720x720 with 2 Axes>"
      ]
     },
     "metadata": {
      "needs_background": "light"
     },
     "output_type": "display_data"
    }
   ],
   "source": [
    "make_plt(history_drop) #drop out"
   ]
  }
 ],
 "metadata": {
  "kernelspec": {
   "display_name": "Python 3 (ipykernel)",
   "language": "python",
   "name": "python3"
  },
  "language_info": {
   "codemirror_mode": {
    "name": "ipython",
    "version": 3
   },
   "file_extension": ".py",
   "mimetype": "text/x-python",
   "name": "python",
   "nbconvert_exporter": "python",
   "pygments_lexer": "ipython3",
   "version": "3.9.7"
  }
 },
 "nbformat": 4,
 "nbformat_minor": 5
}
