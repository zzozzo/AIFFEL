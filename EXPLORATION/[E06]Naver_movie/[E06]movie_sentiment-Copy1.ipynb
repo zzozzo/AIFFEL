{
 "cells": [
  {
   "cell_type": "markdown",
   "id": "57b156ff",
   "metadata": {},
   "source": [
    "추가 회고 : https://github.com/zzozzo/AIFFEL/blob/master/EXPLORATION/%5BE06%5DNaver_movie/README.md"
   ]
  },
  {
   "cell_type": "markdown",
   "id": "79984aae",
   "metadata": {},
   "source": [
    "# 1.데이터 불러오기"
   ]
  },
  {
   "cell_type": "code",
   "execution_count": 1,
   "id": "1270703f",
   "metadata": {},
   "outputs": [
    {
     "data": {
      "text/html": [
       "<div>\n",
       "<style scoped>\n",
       "    .dataframe tbody tr th:only-of-type {\n",
       "        vertical-align: middle;\n",
       "    }\n",
       "\n",
       "    .dataframe tbody tr th {\n",
       "        vertical-align: top;\n",
       "    }\n",
       "\n",
       "    .dataframe thead th {\n",
       "        text-align: right;\n",
       "    }\n",
       "</style>\n",
       "<table border=\"1\" class=\"dataframe\">\n",
       "  <thead>\n",
       "    <tr style=\"text-align: right;\">\n",
       "      <th></th>\n",
       "      <th>id</th>\n",
       "      <th>document</th>\n",
       "      <th>label</th>\n",
       "    </tr>\n",
       "  </thead>\n",
       "  <tbody>\n",
       "    <tr>\n",
       "      <th>0</th>\n",
       "      <td>9976970</td>\n",
       "      <td>아 더빙.. 진짜 짜증나네요 목소리</td>\n",
       "      <td>0</td>\n",
       "    </tr>\n",
       "    <tr>\n",
       "      <th>1</th>\n",
       "      <td>3819312</td>\n",
       "      <td>흠...포스터보고 초딩영화줄....오버연기조차 가볍지 않구나</td>\n",
       "      <td>1</td>\n",
       "    </tr>\n",
       "    <tr>\n",
       "      <th>2</th>\n",
       "      <td>10265843</td>\n",
       "      <td>너무재밓었다그래서보는것을추천한다</td>\n",
       "      <td>0</td>\n",
       "    </tr>\n",
       "    <tr>\n",
       "      <th>3</th>\n",
       "      <td>9045019</td>\n",
       "      <td>교도소 이야기구먼 ..솔직히 재미는 없다..평점 조정</td>\n",
       "      <td>0</td>\n",
       "    </tr>\n",
       "    <tr>\n",
       "      <th>4</th>\n",
       "      <td>6483659</td>\n",
       "      <td>사이몬페그의 익살스런 연기가 돋보였던 영화!스파이더맨에서 늙어보이기만 했던 커스틴 ...</td>\n",
       "      <td>1</td>\n",
       "    </tr>\n",
       "  </tbody>\n",
       "</table>\n",
       "</div>"
      ],
      "text/plain": [
       "         id                                           document  label\n",
       "0   9976970                                아 더빙.. 진짜 짜증나네요 목소리      0\n",
       "1   3819312                  흠...포스터보고 초딩영화줄....오버연기조차 가볍지 않구나      1\n",
       "2  10265843                                  너무재밓었다그래서보는것을추천한다      0\n",
       "3   9045019                      교도소 이야기구먼 ..솔직히 재미는 없다..평점 조정      0\n",
       "4   6483659  사이몬페그의 익살스런 연기가 돋보였던 영화!스파이더맨에서 늙어보이기만 했던 커스틴 ...      1"
      ]
     },
     "execution_count": 1,
     "metadata": {},
     "output_type": "execute_result"
    }
   ],
   "source": [
    "import pandas as pd\n",
    "\n",
    "# 데이터를 읽어봅시다. \n",
    "train_data = pd.read_table('~/aiffel/sentiment_classification/data/ratings_train.txt')\n",
    "test_data = pd.read_table('~/aiffel/sentiment_classification/data/ratings_test.txt')\n",
    "\n",
    "train_data.head()"
   ]
  },
  {
   "cell_type": "code",
   "execution_count": 2,
   "id": "1cebee4c",
   "metadata": {},
   "outputs": [
    {
     "data": {
      "text/plain": [
       "'3.4.0'"
      ]
     },
     "execution_count": 2,
     "metadata": {},
     "output_type": "execute_result"
    }
   ],
   "source": [
    "import gensim\n",
    "gensim.__version__"
   ]
  },
  {
   "cell_type": "markdown",
   "id": "c30114ab",
   "metadata": {},
   "source": [
    "# 2. 데이터 가공하기"
   ]
  },
  {
   "cell_type": "code",
   "execution_count": 3,
   "id": "63e90c55",
   "metadata": {},
   "outputs": [
    {
     "name": "stderr",
     "output_type": "stream",
     "text": [
      "/tmp/ipykernel_3264/2860097851.py:10: FutureWarning: The default value of regex will change from True to False in a future version.\n",
      "  train_data['document'] = train_data['document'].str.replace(\"[^ㄱ-ㅎㅏ-ㅣ가-힣 ]\",\"\") # 정규 표현식 수행\n",
      "/tmp/ipykernel_3264/2860097851.py:11: FutureWarning: The default value of regex will change from True to False in a future version.\n",
      "  train_data['document'] = train_data['document'].str.replace('^ +', \"\") # 공백은 empty 값으로 변경\n",
      "/tmp/ipykernel_3264/2860097851.py:16: FutureWarning: The default value of regex will change from True to False in a future version.\n",
      "  test_data['document'] = test_data['document'].str.replace(\"[^ㄱ-ㅎㅏ-ㅣ가-힣 ]\",\"\") # 정규 표현식 수행\n",
      "/tmp/ipykernel_3264/2860097851.py:17: FutureWarning: The default value of regex will change from True to False in a future version.\n",
      "  test_data['document'] = test_data['document'].str.replace('^ +', \"\") # 공백은 empty 값으로 변경\n"
     ]
    }
   ],
   "source": [
    "from konlpy.tag import Mecab\n",
    "import numpy as np\n",
    "from collections import Counter\n",
    "\n",
    "tokenizer = Mecab()\n",
    "stopwords = ['의','가','이','은','들','는','좀','잘','걍','과','도','를','으로','자','에','와','한','하다']\n",
    "\n",
    "def load_data(train_data, test_data, num_words=10000):\n",
    "    \n",
    "    #한글을 제외한 나머지 문자 제거\n",
    "    train_data['document'] = train_data['document'].str.replace(\"[^ㄱ-ㅎㅏ-ㅣ가-힣 ]\",\"\") # 정규 표현식 수행\n",
    "    train_data['document'] = train_data['document'].str.replace('^ +', \"\") # 공백은 empty 값으로 변경\n",
    "    train_data['document'].replace('', np.nan, inplace=True) # 공백은 Null 값으로 변경\n",
    "    train_data.drop_duplicates(subset = ['document'], inplace=True) # document 열에서 중복인 내용이 있다면 중복 제거\n",
    "    train_data = train_data.dropna(how='any') # Null 값 제거\n",
    "    \n",
    "    test_data['document'] = test_data['document'].str.replace(\"[^ㄱ-ㅎㅏ-ㅣ가-힣 ]\",\"\") # 정규 표현식 수행\n",
    "    test_data['document'] = test_data['document'].str.replace('^ +', \"\") # 공백은 empty 값으로 변경\n",
    "    test_data['document'].replace('', np.nan, inplace=True) # 공백은 Null 값으로 변경\n",
    "    test_data.drop_duplicates(subset = ['document'], inplace=True) # document 열에서 중복인 내용이 있다면 중복 제거\n",
    "    test_data = test_data.dropna(how='any') # Null 값 제거\n",
    "    \n",
    "    \n",
    "    X_train = []\n",
    "    for sentence in train_data['document']:\n",
    "        temp_X = tokenizer.morphs(sentence) # 토큰화\n",
    "        temp_X = [word for word in temp_X if not word in stopwords] # 불용어 제거\n",
    "        X_train.append(temp_X)\n",
    "\n",
    "    X_test = []\n",
    "    for sentence in test_data['document']:\n",
    "        temp_X = tokenizer.morphs(sentence) # 토큰화\n",
    "        temp_X = [word for word in temp_X if not word in stopwords] # 불용어 제거\n",
    "        X_test.append(temp_X)\n",
    "    \n",
    "    words = np.concatenate(X_train).tolist()\n",
    "    counter = Counter(words)\n",
    "    counter = counter.most_common(10000-4)\n",
    "    vocab = ['<PAD>', '<BOS>', '<UNK>', '<UNUSED>'] + [key for key, _ in counter]\n",
    "    word_to_index = {word:index for index, word in enumerate(vocab)}\n",
    "        \n",
    "    def wordlist_to_indexlist(wordlist):\n",
    "        return [word_to_index[word] if word in word_to_index else word_to_index['<UNK>'] for word in wordlist]\n",
    "        \n",
    "    X_train = list(map(wordlist_to_indexlist, X_train))\n",
    "    X_test = list(map(wordlist_to_indexlist, X_test))\n",
    "        \n",
    "    return X_train, np.array(list(train_data['label'])), X_test, np.array(list(test_data['label'])), word_to_index\n",
    "    \n",
    "X_train, y_train, X_test, y_test, word_to_index = load_data(train_data, test_data) "
   ]
  },
  {
   "cell_type": "code",
   "execution_count": 4,
   "id": "ca5be007",
   "metadata": {},
   "outputs": [],
   "source": [
    "# 문장 1개를 활용할 딕셔너리와 함께 주면, 단어 인덱스 리스트 벡터로 변환해 주는 함수입니다. \n",
    "# 단, 모든 문장은 <BOS>로 시작하는 것으로 합니다. \n",
    "def get_encoded_sentence(sentence, word_to_index):\n",
    "    return [word_to_index['<BOS>']]+[word_to_index[word] if word in word_to_index else word_to_index['<UNK>'] for word in sentence.split()]\n",
    "\n",
    "# 여러 개의 문장 리스트를 한꺼번에 단어 인덱스 리스트 벡터로 encode해 주는 함수입니다. \n",
    "def get_encoded_sentences(sentences, word_to_index):\n",
    "    return [get_encoded_sentence(sentence, word_to_index) for sentence in sentences]\n",
    "\n",
    "# 숫자 벡터로 encode된 문장을 원래대로 decode하는 함수입니다. \n",
    "def get_decoded_sentence(encoded_sentence, index_to_word):\n",
    "    return ' '.join(index_to_word[index] if index in index_to_word else '<UNK>' for index in encoded_sentence[1:])  #[1:]를 통해 <BOS>를 제외\n",
    "\n",
    "# 여러 개의 숫자 벡터로 encode된 문장을 한꺼번에 원래대로 decode하는 함수입니다. \n",
    "def get_decoded_sentences(encoded_sentences, index_to_word):\n",
    "    return [get_decoded_sentence(encoded_sentence, index_to_word) for encoded_sentence in encoded_sentences]"
   ]
  },
  {
   "cell_type": "code",
   "execution_count": 5,
   "id": "b9023e2b",
   "metadata": {},
   "outputs": [
    {
     "name": "stdout",
     "output_type": "stream",
     "text": [
      "[27, 67, 891, 33, 214, 15, 28, 698]\n",
      "라벨:  0\n",
      "1번째 리뷰 문장 길이:  8\n",
      "2번째 리뷰 문장 길이:  13\n"
     ]
    }
   ],
   "source": [
    "print(X_train[0])  # 1번째 리뷰데이터\n",
    "print('라벨: ', y_train[0])  # 1번째 리뷰데이터의 라벨\n",
    "print('1번째 리뷰 문장 길이: ', len(X_train[0]))\n",
    "print('2번째 리뷰 문장 길이: ', len(X_train[1]))"
   ]
  },
  {
   "cell_type": "code",
   "execution_count": 6,
   "id": "c43d293e",
   "metadata": {},
   "outputs": [],
   "source": [
    "index_to_word = {index:word for word, index in word_to_index.items()}"
   ]
  },
  {
   "cell_type": "code",
   "execution_count": 7,
   "id": "c2f40d77",
   "metadata": {},
   "outputs": [
    {
     "name": "stdout",
     "output_type": "stream",
     "text": [
      "더 빙 진짜 짜증 나 네요 목소리\n",
      "라벨:  [27, 67, 891, 33, 214, 15, 28, 698]\n",
      "익살 스런 연기 돋보였 던 영화 스파이더맨 에서 늙 어 보이 기 만 했 던 <UNK> <UNK> 너무나 이뻐 보였 다\n",
      "라벨:  [2, 8488, 1049, 47, 2698, 54, 4, 2620, 34, 1116, 29, 323, 36, 17, 35, 54, 2, 2, 393, 2875, 1674, 5]\n"
     ]
    }
   ],
   "source": [
    "print(get_decoded_sentence(X_train[0], index_to_word)) # 부정 0\n",
    "print('라벨: ', X_train[0])  # 1번째 리뷰데이터의 라벨\n",
    "\n",
    "print(get_decoded_sentence(X_train[4], index_to_word)) # 긍정 1\n",
    "print('라벨: ', X_train[4])"
   ]
  },
  {
   "cell_type": "code",
   "execution_count": 8,
   "id": "8c58d151",
   "metadata": {},
   "outputs": [
    {
     "name": "stdout",
     "output_type": "stream",
     "text": [
      "문장길이 평균 :  13.927888796879312\n",
      "문장길이 최대 :  83\n",
      "문장길이 표준편차 :  11.454835366606218\n",
      "pad_sequences maxlen :  31\n",
      "전체 문장의 0.910472946580629%가 maxlen 설정값 이내에 포함됩니다. \n"
     ]
    }
   ],
   "source": [
    "total_data_text = list(X_train) + list(X_test)\n",
    "# 텍스트데이터 문장길이의 리스트를 생성한 후\n",
    "num_tokens = [len(tokens) for tokens in total_data_text]\n",
    "num_tokens = np.array(num_tokens)\n",
    "# 문장길이의 평균값, 최대값, 표준편차를 계산해 본다. \n",
    "print('문장길이 평균 : ', np.mean(num_tokens))\n",
    "print('문장길이 최대 : ', np.max(num_tokens))\n",
    "print('문장길이 표준편차 : ', np.std(num_tokens))\n",
    "\n",
    "# 문장 최대 길이 평균+1.5*std\n",
    "max_tokens = np.mean(num_tokens) + 1.5 * np.std(num_tokens)\n",
    "maxlen = int(max_tokens)\n",
    "print('pad_sequences maxlen : ', maxlen)\n",
    "print('전체 문장의 {}%가 maxlen 설정값 이내에 포함됩니다. '.format(np.sum(num_tokens < max_tokens) / len(num_tokens)))"
   ]
  },
  {
   "cell_type": "code",
   "execution_count": 9,
   "id": "2fdf55d8",
   "metadata": {},
   "outputs": [
    {
     "name": "stdout",
     "output_type": "stream",
     "text": [
      "(143620, 31)\n"
     ]
    }
   ],
   "source": [
    "import tensorflow as tf\n",
    "\n",
    "X_train = tf.keras.preprocessing.sequence.pad_sequences(X_train,\n",
    "                                                        value=word_to_index[\"<PAD>\"],\n",
    "                                                        padding='pre', # 혹은 'pre'\n",
    "                                                        maxlen=maxlen)\n",
    "\n",
    "X_test = tf.keras.preprocessing.sequence.pad_sequences(X_test,\n",
    "                                                       value=word_to_index[\"<PAD>\"],\n",
    "                                                       padding='pre', # 혹은 'pre'\n",
    "                                                       maxlen=maxlen)\n",
    "\n",
    "\n",
    "print(X_train.shape)"
   ]
  },
  {
   "cell_type": "code",
   "execution_count": 10,
   "id": "648a8acd",
   "metadata": {},
   "outputs": [
    {
     "name": "stdout",
     "output_type": "stream",
     "text": [
      "(113620, 31)\n",
      "(113620,)\n"
     ]
    }
   ],
   "source": [
    "# validation set 30000건 분리\n",
    "x_val = X_train[:30000]   \n",
    "y_val = y_train[:30000]\n",
    "\n",
    "# validation set을 제외한 나머지 116182건\n",
    "partial_x_train = X_train[30000:]  \n",
    "partial_y_train = y_train[30000:]\n",
    "\n",
    "print(partial_x_train.shape)\n",
    "print(partial_y_train.shape)"
   ]
  },
  {
   "cell_type": "markdown",
   "id": "491f08b3",
   "metadata": {},
   "source": [
    "# 3. RNN 모델 사용"
   ]
  },
  {
   "cell_type": "code",
   "execution_count": 11,
   "id": "e7b8076d",
   "metadata": {},
   "outputs": [
    {
     "name": "stdout",
     "output_type": "stream",
     "text": [
      "Model: \"sequential\"\n",
      "_________________________________________________________________\n",
      "Layer (type)                 Output Shape              Param #   \n",
      "=================================================================\n",
      "embedding (Embedding)        (None, None, 100)         1000000   \n",
      "_________________________________________________________________\n",
      "lstm (LSTM)                  (None, 8)                 3488      \n",
      "_________________________________________________________________\n",
      "dense (Dense)                (None, 8)                 72        \n",
      "_________________________________________________________________\n",
      "dense_1 (Dense)              (None, 1)                 9         \n",
      "=================================================================\n",
      "Total params: 1,003,569\n",
      "Trainable params: 1,003,569\n",
      "Non-trainable params: 0\n",
      "_________________________________________________________________\n"
     ]
    }
   ],
   "source": [
    "vocab_size = 10000  # 어휘 사전의 크기입니다(10개의 단어)\n",
    "word_vector_dim = 100  # 단어 하나를 표현하는 임베딩 벡터의 차원수입니다. \n",
    "\n",
    "model = tf.keras.Sequential()\n",
    "model.add(tf.keras.layers.Embedding(vocab_size, word_vector_dim, input_shape=(None,)))\n",
    "model.add(tf.keras.layers.LSTM(8))   # 가장 널리 쓰이는 RNN인 LSTM 레이어를 사용하였습니다. 이때 LSTM state 벡터의 차원수는 8로 하였습니다. (변경 가능)\n",
    "model.add(tf.keras.layers.Dense(8, activation='relu'))\n",
    "model.add(tf.keras.layers.Dense(1, activation='sigmoid'))  # 최종 출력은 긍정/부정을 나타내는 1dim 입니다.\n",
    "\n",
    "model.summary()"
   ]
  },
  {
   "cell_type": "code",
   "execution_count": 12,
   "id": "85bfef08",
   "metadata": {},
   "outputs": [
    {
     "name": "stdout",
     "output_type": "stream",
     "text": [
      "Epoch 1/20\n",
      "222/222 [==============================] - 5s 7ms/step - loss: 0.5246 - accuracy: 0.7669 - val_loss: 0.3943 - val_accuracy: 0.8399\n",
      "Epoch 2/20\n",
      "222/222 [==============================] - 1s 5ms/step - loss: 0.3523 - accuracy: 0.8514 - val_loss: 0.3542 - val_accuracy: 0.8446\n",
      "Epoch 3/20\n",
      "222/222 [==============================] - 1s 5ms/step - loss: 0.3140 - accuracy: 0.8669 - val_loss: 0.3516 - val_accuracy: 0.8466\n",
      "Epoch 4/20\n",
      "222/222 [==============================] - 1s 5ms/step - loss: 0.2909 - accuracy: 0.8774 - val_loss: 0.3520 - val_accuracy: 0.8480\n",
      "Epoch 5/20\n",
      "222/222 [==============================] - 1s 5ms/step - loss: 0.2688 - accuracy: 0.8875 - val_loss: 0.3643 - val_accuracy: 0.8477\n",
      "Epoch 6/20\n",
      "222/222 [==============================] - 1s 5ms/step - loss: 0.2482 - accuracy: 0.8969 - val_loss: 0.3789 - val_accuracy: 0.8468\n",
      "Epoch 7/20\n",
      "222/222 [==============================] - 1s 5ms/step - loss: 0.2285 - accuracy: 0.9062 - val_loss: 0.3884 - val_accuracy: 0.8446\n",
      "Epoch 8/20\n",
      "222/222 [==============================] - 1s 5ms/step - loss: 0.2126 - accuracy: 0.9129 - val_loss: 0.4166 - val_accuracy: 0.8434\n",
      "Epoch 9/20\n",
      "222/222 [==============================] - 1s 5ms/step - loss: 0.1973 - accuracy: 0.9205 - val_loss: 0.4425 - val_accuracy: 0.8405\n",
      "Epoch 10/20\n",
      "222/222 [==============================] - 1s 5ms/step - loss: 0.1832 - accuracy: 0.9279 - val_loss: 0.4702 - val_accuracy: 0.8379\n",
      "Epoch 11/20\n",
      "222/222 [==============================] - 1s 5ms/step - loss: 0.1714 - accuracy: 0.9330 - val_loss: 0.4922 - val_accuracy: 0.8339\n",
      "Epoch 12/20\n",
      "222/222 [==============================] - 1s 5ms/step - loss: 0.1593 - accuracy: 0.9388 - val_loss: 0.5158 - val_accuracy: 0.8331\n",
      "Epoch 13/20\n",
      "222/222 [==============================] - 1s 5ms/step - loss: 0.1500 - accuracy: 0.9437 - val_loss: 0.5543 - val_accuracy: 0.8338\n",
      "Epoch 14/20\n",
      "222/222 [==============================] - 1s 5ms/step - loss: 0.1389 - accuracy: 0.9481 - val_loss: 0.5841 - val_accuracy: 0.8333\n",
      "Epoch 15/20\n",
      "222/222 [==============================] - 1s 5ms/step - loss: 0.1312 - accuracy: 0.9520 - val_loss: 0.5909 - val_accuracy: 0.8302\n",
      "Epoch 16/20\n",
      "222/222 [==============================] - 1s 5ms/step - loss: 0.1242 - accuracy: 0.9551 - val_loss: 0.6398 - val_accuracy: 0.8297\n",
      "Epoch 17/20\n",
      "222/222 [==============================] - 1s 5ms/step - loss: 0.1188 - accuracy: 0.9573 - val_loss: 0.6711 - val_accuracy: 0.8275\n",
      "Epoch 18/20\n",
      "222/222 [==============================] - 1s 6ms/step - loss: 0.1101 - accuracy: 0.9610 - val_loss: 0.6874 - val_accuracy: 0.8286\n",
      "Epoch 19/20\n",
      "222/222 [==============================] - 1s 5ms/step - loss: 0.1029 - accuracy: 0.9640 - val_loss: 0.7275 - val_accuracy: 0.8264\n",
      "Epoch 20/20\n",
      "222/222 [==============================] - 1s 5ms/step - loss: 0.0994 - accuracy: 0.9653 - val_loss: 0.7717 - val_accuracy: 0.8262\n"
     ]
    }
   ],
   "source": [
    "model.compile(optimizer='adam',\n",
    "              loss='binary_crossentropy',\n",
    "              metrics=['accuracy'])\n",
    "              \n",
    "epochs=20  # 몇 epoch를 훈련하면 좋을지 결과를 보면서 바꾸어 봅시다. \n",
    "\n",
    "history = model.fit(partial_x_train,\n",
    "                    partial_y_train,\n",
    "                    epochs=epochs,\n",
    "                    batch_size=512,\n",
    "                    validation_data=(x_val, y_val),\n",
    "                    verbose=1)"
   ]
  },
  {
   "cell_type": "code",
   "execution_count": 13,
   "id": "b2d5aad0",
   "metadata": {},
   "outputs": [
    {
     "name": "stdout",
     "output_type": "stream",
     "text": [
      "1513/1513 - 3s - loss: 0.7766 - accuracy: 0.8247\n",
      "[0.7765732407569885, 0.824650228023529]\n"
     ]
    }
   ],
   "source": [
    "results = model.evaluate(X_test,  y_test, verbose=2)\n",
    "\n",
    "print(results)"
   ]
  },
  {
   "cell_type": "markdown",
   "id": "dfc9f792",
   "metadata": {},
   "source": [
    "정확도가 82%로 나왔다."
   ]
  },
  {
   "cell_type": "code",
   "execution_count": 14,
   "id": "0459ebdf",
   "metadata": {},
   "outputs": [
    {
     "name": "stdout",
     "output_type": "stream",
     "text": [
      "dict_keys(['loss', 'accuracy', 'val_loss', 'val_accuracy'])\n"
     ]
    }
   ],
   "source": [
    "history_dict = history.history\n",
    "print(history_dict.keys()) # epoch에 따른 그래프를 그려볼 수 있는 항목들"
   ]
  },
  {
   "cell_type": "code",
   "execution_count": 15,
   "id": "8796da2a",
   "metadata": {},
   "outputs": [
    {
     "data": {
      "image/png": "[encoded data removed]",
      "text/plain": [
       "<Figure size 720x720 with 2 Axes>"
      ]
     },
     "metadata": {
      "needs_background": "light"
     },
     "output_type": "display_data"
    }
   ],
   "source": [
    "import matplotlib.pyplot as plt\n",
    "\n",
    "acc = history_dict['accuracy']\n",
    "val_acc = history_dict['val_accuracy']\n",
    "loss = history_dict['loss']\n",
    "val_loss = history_dict['val_loss']\n",
    "\n",
    "epochs = range(1, len(acc) + 1)\n",
    "\n",
    "fig , ax = plt.subplots(1,2,figsize = (10,10))\n",
    "\n",
    "ax[0].plot(epochs, loss, 'r', label='Training loss')\n",
    "ax[0].plot(epochs, val_loss, 'b', label='Validation loss')\n",
    "ax[0].set_title('Training and validation loss')\n",
    "ax[0].set_xlabel('Epochs')\n",
    "ax[0].set_ylabel('Loss')\n",
    "ax[0].legend()\n",
    "\n",
    "ax[1].plot(epochs, acc, 'r', label='Training acc')\n",
    "ax[1].plot(epochs, val_acc, 'b', label='Validation acc')\n",
    "ax[1].set_title('Training and validation accuracy')\n",
    "ax[1].set_xlabel('Epochs')\n",
    "ax[1].set_ylabel('Accuracy')\n",
    "ax[1].legend()\n",
    "\n",
    "plt.show()"
   ]
  },
  {
   "cell_type": "code",
   "execution_count": 16,
   "id": "d90c6e6b",
   "metadata": {},
   "outputs": [
    {
     "name": "stdout",
     "output_type": "stream",
     "text": [
      "(10000, 100)\n"
     ]
    }
   ],
   "source": [
    "embedding_layer = model.layers[0]\n",
    "weights = embedding_layer.get_weights()[0]\n",
    "print(weights.shape)    # shape: (vocab_size, embedding_dim)"
   ]
  },
  {
   "cell_type": "code",
   "execution_count": 17,
   "id": "e4f5edde",
   "metadata": {},
   "outputs": [
    {
     "name": "stdout",
     "output_type": "stream",
     "text": [
      "Requirement already satisfied: gensim in /opt/conda/lib/python3.9/site-packages (3.4.0)\n",
      "Collecting gensim\n",
      "  Using cached gensim-4.1.2-cp39-cp39-manylinux_2_12_x86_64.manylinux2010_x86_64.whl (24.0 MB)\n",
      "Requirement already satisfied: numpy>=1.17.0 in /opt/conda/lib/python3.9/site-packages (from gensim) (1.21.4)\n",
      "Requirement already satisfied: smart-open>=1.8.1 in /opt/conda/lib/python3.9/site-packages (from gensim) (5.2.1)\n",
      "Requirement already satisfied: scipy>=0.18.1 in /opt/conda/lib/python3.9/site-packages (from gensim) (1.7.1)\n",
      "Installing collected packages: gensim\n",
      "Successfully installed gensim-4.1.2\n",
      "\u001b[33mWARNING: Running pip as the 'root' user can result in broken permissions and conflicting behaviour with the system package manager. It is recommended to use a virtual environment instead: https://pip.pypa.io/warnings/venv\u001b[0m\n",
      "Note: you may need to restart the kernel to use updated packages.\n"
     ]
    }
   ],
   "source": [
    "pip install --upgrade gensim --user"
   ]
  },
  {
   "cell_type": "markdown",
   "id": "83c91f32",
   "metadata": {},
   "source": [
    "# 4. Word2Vec 적용"
   ]
  },
  {
   "cell_type": "code",
   "execution_count": 18,
   "id": "9b4b0730",
   "metadata": {},
   "outputs": [],
   "source": [
    "import os\n",
    "\n",
    "# 학습한 Embedding 파라미터를 파일에 써서 저장합니다. \n",
    "word2vec_file_path = os.getenv('HOME')+'/aiffel/sentiment_classification/data/word2vec.txt'\n",
    "f = open(word2vec_file_path, 'w')\n",
    "f.write('{} {}\\n'.format(vocab_size-4, word_vector_dim))  # 몇개의 벡터를 얼마 사이즈로 기재할지 타이틀을 씁니다.\n",
    "\n",
    "# 단어 개수(에서 특수문자 4개는 제외하고)만큼의 워드 벡터를 파일에 기록합니다. \n",
    "vectors = model.get_weights()[0]\n",
    "for i in range(4,vocab_size):\n",
    "    f.write('{} {}\\n'.format(index_to_word[i], ' '.join(map(str, list(vectors[i, :])))))\n",
    "f.close()"
   ]
  },
  {
   "cell_type": "code",
   "execution_count": 19,
   "id": "f471427e",
   "metadata": {},
   "outputs": [],
   "source": [
    "from gensim.models.keyedvectors import Word2VecKeyedVectors\n",
    "word_vectors = Word2VecKeyedVectors.load_word2vec_format(word2vec_file_path, binary=False)"
   ]
  },
  {
   "cell_type": "code",
   "execution_count": 20,
   "id": "df1eb58e",
   "metadata": {},
   "outputs": [
    {
     "data": {
      "text/plain": [
       "[('암튼', 0.6974523067474365),\n",
       " ('이미숙', 0.6759247183799744),\n",
       " ('긴장감', 0.6450934410095215),\n",
       " ('성숙', 0.644021213054657),\n",
       " ('저리', 0.6323623657226562),\n",
       " ('우아', 0.6267034411430359),\n",
       " ('접하', 0.6230952739715576),\n",
       " ('어쨋든', 0.6172388195991516),\n",
       " ('귀여웠', 0.613524317741394),\n",
       " ('가치', 0.6102499961853027)]"
      ]
     },
     "execution_count": 20,
     "metadata": {},
     "output_type": "execute_result"
    }
   ],
   "source": [
    "word_vectors.similar_by_word(\"진짜\")"
   ]
  },
  {
   "cell_type": "code",
   "execution_count": 21,
   "id": "0162fb28",
   "metadata": {},
   "outputs": [],
   "source": [
    "vocab_size = 10000    # 어휘 사전의 크기입니다(10,000개의 단어)\n",
    "word_vector_dim = 100  # 워드 벡터의 차원수 (변경가능한 하이퍼파라미터)\n",
    "\n",
    "embedding_matrix = np.random.rand(vocab_size, word_vector_dim)\n",
    "\n",
    "# embedding_matrix에 Word2Vec 워드벡터를 단어 하나씩마다 차례차례 카피한다.\n",
    "for i in range(4,vocab_size):\n",
    "    if index_to_word[i] in word_vectors:\n",
    "        embedding_matrix[i] = word_vectors[index_to_word[i]]\n"
   ]
  },
  {
   "cell_type": "code",
   "execution_count": 22,
   "id": "061e31a8",
   "metadata": {},
   "outputs": [],
   "source": [
    "from tensorflow.keras.initializers import Constant\n"
   ]
  },
  {
   "cell_type": "markdown",
   "id": "ad85d083",
   "metadata": {},
   "source": [
    "# 5. 모델 학습"
   ]
  },
  {
   "cell_type": "markdown",
   "id": "dd1962e9",
   "metadata": {},
   "source": [
    "### 1) Global MaxPooling1D   \n",
    "accuracy: 0.8189 "
   ]
  },
  {
   "cell_type": "code",
   "execution_count": 23,
   "id": "8f37d2bb",
   "metadata": {},
   "outputs": [
    {
     "name": "stdout",
     "output_type": "stream",
     "text": [
      "Model: \"sequential_1\"\n",
      "_________________________________________________________________\n",
      "Layer (type)                 Output Shape              Param #   \n",
      "=================================================================\n",
      "embedding_1 (Embedding)      (None, 31, 100)           1000000   \n",
      "_________________________________________________________________\n",
      "global_max_pooling1d (Global (None, 100)               0         \n",
      "_________________________________________________________________\n",
      "dense_2 (Dense)              (None, 8)                 808       \n",
      "_________________________________________________________________\n",
      "dense_3 (Dense)              (None, 1)                 9         \n",
      "=================================================================\n",
      "Total params: 1,000,817\n",
      "Trainable params: 1,000,817\n",
      "Non-trainable params: 0\n",
      "_________________________________________________________________\n"
     ]
    }
   ],
   "source": [
    "vocab_size = 10000  # 어휘 사전의 크기입니다(10개의 단어)\n",
    "word_vector_dim = 100   # 단어 하나를 표현하는 임베딩 벡터의 차원 수입니다. \n",
    "\n",
    "model = tf.keras.Sequential()\n",
    "model.add(tf.keras.layers.Embedding(vocab_size, \n",
    "                                 word_vector_dim, \n",
    "                                 embeddings_initializer=Constant(embedding_matrix),  # 카피한 임베딩을 여기서 활용\n",
    "                                 input_length=maxlen, \n",
    "                                 trainable=True)) \n",
    "model.add(tf.keras.layers.GlobalMaxPooling1D())\n",
    "model.add(tf.keras.layers.Dense(8, activation='relu'))\n",
    "model.add(tf.keras.layers.Dense(1, activation='sigmoid'))  # 최종 출력은 긍정/부정을 나타내는 1dim 입니다.\n",
    "\n",
    "model.summary()"
   ]
  },
  {
   "cell_type": "code",
   "execution_count": 24,
   "id": "4d8ee7b1",
   "metadata": {},
   "outputs": [
    {
     "name": "stdout",
     "output_type": "stream",
     "text": [
      "Epoch 1/20\n",
      "222/222 [==============================] - 1s 4ms/step - loss: 0.6169 - accuracy: 0.7148 - val_loss: 0.4864 - val_accuracy: 0.8089\n",
      "Epoch 2/20\n",
      "222/222 [==============================] - 1s 3ms/step - loss: 0.4111 - accuracy: 0.8313 - val_loss: 0.3919 - val_accuracy: 0.8247\n",
      "Epoch 3/20\n",
      "222/222 [==============================] - 1s 4ms/step - loss: 0.3508 - accuracy: 0.8521 - val_loss: 0.3772 - val_accuracy: 0.8299\n",
      "Epoch 4/20\n",
      "222/222 [==============================] - 1s 3ms/step - loss: 0.3235 - accuracy: 0.8648 - val_loss: 0.3738 - val_accuracy: 0.8338\n",
      "Epoch 5/20\n",
      "222/222 [==============================] - 1s 3ms/step - loss: 0.3046 - accuracy: 0.8737 - val_loss: 0.3742 - val_accuracy: 0.8351\n",
      "Epoch 6/20\n",
      "222/222 [==============================] - 1s 3ms/step - loss: 0.2895 - accuracy: 0.8806 - val_loss: 0.3758 - val_accuracy: 0.8343\n",
      "Epoch 7/20\n",
      "222/222 [==============================] - 1s 4ms/step - loss: 0.2765 - accuracy: 0.8867 - val_loss: 0.3824 - val_accuracy: 0.8340\n",
      "Epoch 8/20\n",
      "222/222 [==============================] - 1s 3ms/step - loss: 0.2652 - accuracy: 0.8920 - val_loss: 0.3848 - val_accuracy: 0.8356\n",
      "Epoch 9/20\n",
      "222/222 [==============================] - 1s 3ms/step - loss: 0.2533 - accuracy: 0.8981 - val_loss: 0.3900 - val_accuracy: 0.8350\n",
      "Epoch 10/20\n",
      "222/222 [==============================] - 1s 3ms/step - loss: 0.2440 - accuracy: 0.9021 - val_loss: 0.3951 - val_accuracy: 0.8343\n",
      "Epoch 11/20\n",
      "222/222 [==============================] - 1s 3ms/step - loss: 0.2340 - accuracy: 0.9068 - val_loss: 0.4011 - val_accuracy: 0.8344\n",
      "Epoch 12/20\n",
      "222/222 [==============================] - 1s 3ms/step - loss: 0.2247 - accuracy: 0.9110 - val_loss: 0.4105 - val_accuracy: 0.8327\n",
      "Epoch 13/20\n",
      "222/222 [==============================] - 1s 3ms/step - loss: 0.2154 - accuracy: 0.9157 - val_loss: 0.4203 - val_accuracy: 0.8325\n",
      "Epoch 14/20\n",
      "222/222 [==============================] - 1s 3ms/step - loss: 0.2065 - accuracy: 0.9200 - val_loss: 0.4263 - val_accuracy: 0.8309\n",
      "Epoch 15/20\n",
      "222/222 [==============================] - 1s 3ms/step - loss: 0.1988 - accuracy: 0.9236 - val_loss: 0.4333 - val_accuracy: 0.8307\n",
      "Epoch 16/20\n",
      "222/222 [==============================] - 1s 4ms/step - loss: 0.1904 - accuracy: 0.9277 - val_loss: 0.4470 - val_accuracy: 0.8279\n",
      "Epoch 17/20\n",
      "222/222 [==============================] - 1s 3ms/step - loss: 0.1824 - accuracy: 0.9315 - val_loss: 0.4550 - val_accuracy: 0.8288\n",
      "Epoch 18/20\n",
      "222/222 [==============================] - 1s 3ms/step - loss: 0.1758 - accuracy: 0.9342 - val_loss: 0.4731 - val_accuracy: 0.8246\n",
      "Epoch 19/20\n",
      "222/222 [==============================] - 1s 3ms/step - loss: 0.1682 - accuracy: 0.9375 - val_loss: 0.4815 - val_accuracy: 0.8261\n",
      "Epoch 20/20\n",
      "222/222 [==============================] - 1s 4ms/step - loss: 0.1614 - accuracy: 0.9410 - val_loss: 0.4911 - val_accuracy: 0.8253\n"
     ]
    }
   ],
   "source": [
    "model.compile(optimizer='adam',\n",
    "              loss='binary_crossentropy',\n",
    "              metrics=['accuracy'])\n",
    "              \n",
    "epochs=20  # 몇 epoch를 훈련하면 좋을지 결과를 보면서 바꾸어 봅시다. \n",
    "\n",
    "history = model.fit(partial_x_train,\n",
    "                    partial_y_train,\n",
    "                    epochs=epochs,\n",
    "                    batch_size=512,\n",
    "                    validation_data=(x_val, y_val),\n",
    "                    verbose=1)"
   ]
  },
  {
   "cell_type": "code",
   "execution_count": 25,
   "id": "af3c3046",
   "metadata": {},
   "outputs": [
    {
     "name": "stdout",
     "output_type": "stream",
     "text": [
      "1513/1513 - 2s - loss: 0.4972 - accuracy: 0.8189\n",
      "[0.4972434639930725, 0.8189257979393005]\n"
     ]
    }
   ],
   "source": [
    "results = model.evaluate(X_test,  y_test, verbose=2)\n",
    "\n",
    "print(results)"
   ]
  },
  {
   "cell_type": "code",
   "execution_count": 26,
   "id": "5f84bdf2",
   "metadata": {},
   "outputs": [
    {
     "name": "stdout",
     "output_type": "stream",
     "text": [
      "dict_keys(['loss', 'accuracy', 'val_loss', 'val_accuracy'])\n"
     ]
    },
    {
     "data": {
      "image/png": "[encoded data removed]",
      "text/plain": [
       "<Figure size 720x720 with 2 Axes>"
      ]
     },
     "metadata": {
      "needs_background": "light"
     },
     "output_type": "display_data"
    }
   ],
   "source": [
    "history_dict = history.history\n",
    "print(history_dict.keys()) # epoch에 따른 그래프를 그려볼 수 있는 항목들\n",
    "\n",
    "import matplotlib.pyplot as plt\n",
    "\n",
    "acc = history_dict['accuracy']\n",
    "val_acc = history_dict['val_accuracy']\n",
    "loss = history_dict['loss']\n",
    "val_loss = history_dict['val_loss']\n",
    "\n",
    "epochs = range(1, len(acc) + 1)\n",
    "\n",
    "fig , ax = plt.subplots(1,2,figsize = (10,10))\n",
    "\n",
    "ax[0].plot(epochs, loss, 'r', label='Training loss')\n",
    "ax[0].plot(epochs, val_loss, 'b', label='Validation loss')\n",
    "ax[0].set_title('Training and validation loss')\n",
    "ax[0].set_xlabel('Epochs')\n",
    "ax[0].set_ylabel('Loss')\n",
    "ax[0].legend()\n",
    "\n",
    "ax[1].plot(epochs, acc, 'r', label='Training acc')\n",
    "ax[1].plot(epochs, val_acc, 'b', label='Validation acc')\n",
    "ax[1].set_title('Training and validation accuracy')\n",
    "ax[1].set_xlabel('Epochs')\n",
    "ax[1].set_ylabel('Accuracy')\n",
    "ax[1].legend()\n",
    "\n",
    "plt.show()"
   ]
  },
  {
   "cell_type": "markdown",
   "id": "135246f5",
   "metadata": {},
   "source": [
    "### 2) GRU   \n",
    "accuracy: 0.8202"
   ]
  },
  {
   "cell_type": "code",
   "execution_count": 27,
   "id": "e41908d3",
   "metadata": {},
   "outputs": [
    {
     "name": "stdout",
     "output_type": "stream",
     "text": [
      "Model: \"sequential_2\"\n",
      "_________________________________________________________________\n",
      "Layer (type)                 Output Shape              Param #   \n",
      "=================================================================\n",
      "embedding_2 (Embedding)      (None, 31, 100)           1000000   \n",
      "_________________________________________________________________\n",
      "gru (GRU)                    (None, 128)               88320     \n",
      "_________________________________________________________________\n",
      "dense_4 (Dense)              (None, 1)                 129       \n",
      "=================================================================\n",
      "Total params: 1,088,449\n",
      "Trainable params: 1,088,449\n",
      "Non-trainable params: 0\n",
      "_________________________________________________________________\n"
     ]
    }
   ],
   "source": [
    "vocab_size = 10000  # 어휘 사전의 크기입니다(10개의 단어)\n",
    "word_vector_dim = 100   # 단어 하나를 표현하는 임베딩 벡터의 차원 수입니다. \n",
    "\n",
    "model = tf.keras.Sequential()\n",
    "model.add(tf.keras.layers.Embedding(vocab_size, \n",
    "                                 word_vector_dim, \n",
    "                                 embeddings_initializer=Constant(embedding_matrix),  # 카피한 임베딩을 여기서 활용\n",
    "                                 input_length=maxlen, \n",
    "                                 trainable=True)) \n",
    "model.add(tf.keras.layers.GRU(128))\n",
    "model.add(tf.keras.layers.Dense(1, activation='sigmoid'))  # 최종 출력은 긍정/부정을 나타내는 1dim 입니다.\n",
    "\n",
    "model.summary()"
   ]
  },
  {
   "cell_type": "code",
   "execution_count": 28,
   "id": "f46d590e",
   "metadata": {},
   "outputs": [
    {
     "name": "stdout",
     "output_type": "stream",
     "text": [
      "Epoch 1/20\n",
      "222/222 [==============================] - 3s 10ms/step - loss: 0.3414 - accuracy: 0.8557 - val_loss: 0.3709 - val_accuracy: 0.8422\n",
      "Epoch 2/20\n",
      "222/222 [==============================] - 2s 8ms/step - loss: 0.2569 - accuracy: 0.8954 - val_loss: 0.3794 - val_accuracy: 0.8426\n",
      "Epoch 3/20\n",
      "222/222 [==============================] - 2s 8ms/step - loss: 0.2053 - accuracy: 0.9179 - val_loss: 0.4226 - val_accuracy: 0.8415\n",
      "Epoch 4/20\n",
      "222/222 [==============================] - 2s 8ms/step - loss: 0.1728 - accuracy: 0.9325 - val_loss: 0.4686 - val_accuracy: 0.8392\n",
      "Epoch 5/20\n",
      "222/222 [==============================] - 2s 8ms/step - loss: 0.1499 - accuracy: 0.9423 - val_loss: 0.5248 - val_accuracy: 0.8363\n",
      "Epoch 6/20\n",
      "222/222 [==============================] - 2s 8ms/step - loss: 0.1311 - accuracy: 0.9503 - val_loss: 0.5738 - val_accuracy: 0.8339\n",
      "Epoch 7/20\n",
      "222/222 [==============================] - 2s 8ms/step - loss: 0.1170 - accuracy: 0.9561 - val_loss: 0.6140 - val_accuracy: 0.8275\n",
      "Epoch 8/20\n",
      "222/222 [==============================] - 2s 8ms/step - loss: 0.1066 - accuracy: 0.9602 - val_loss: 0.6730 - val_accuracy: 0.8256\n",
      "Epoch 9/20\n",
      "222/222 [==============================] - 2s 8ms/step - loss: 0.0962 - accuracy: 0.9643 - val_loss: 0.7533 - val_accuracy: 0.8289\n",
      "Epoch 10/20\n",
      "222/222 [==============================] - 2s 8ms/step - loss: 0.0877 - accuracy: 0.9674 - val_loss: 0.7909 - val_accuracy: 0.8302\n",
      "Epoch 11/20\n",
      "222/222 [==============================] - 2s 8ms/step - loss: 0.0820 - accuracy: 0.9698 - val_loss: 0.8585 - val_accuracy: 0.8249\n",
      "Epoch 12/20\n",
      "222/222 [==============================] - 2s 8ms/step - loss: 0.0749 - accuracy: 0.9718 - val_loss: 0.9130 - val_accuracy: 0.8292\n",
      "Epoch 13/20\n",
      "222/222 [==============================] - 2s 8ms/step - loss: 0.0719 - accuracy: 0.9736 - val_loss: 0.8570 - val_accuracy: 0.8250\n",
      "Epoch 14/20\n",
      "222/222 [==============================] - 2s 8ms/step - loss: 0.0680 - accuracy: 0.9748 - val_loss: 0.9731 - val_accuracy: 0.8215\n",
      "Epoch 15/20\n",
      "222/222 [==============================] - 2s 8ms/step - loss: 0.0604 - accuracy: 0.9777 - val_loss: 0.9834 - val_accuracy: 0.8225\n",
      "Epoch 16/20\n",
      "222/222 [==============================] - 2s 8ms/step - loss: 0.0561 - accuracy: 0.9794 - val_loss: 1.0263 - val_accuracy: 0.8203\n",
      "Epoch 17/20\n",
      "222/222 [==============================] - 2s 8ms/step - loss: 0.0526 - accuracy: 0.9800 - val_loss: 1.0965 - val_accuracy: 0.8232\n",
      "Epoch 18/20\n",
      "222/222 [==============================] - 2s 8ms/step - loss: 0.0488 - accuracy: 0.9819 - val_loss: 1.0493 - val_accuracy: 0.8232\n",
      "Epoch 19/20\n",
      "222/222 [==============================] - 2s 8ms/step - loss: 0.0470 - accuracy: 0.9827 - val_loss: 1.1208 - val_accuracy: 0.8233\n",
      "Epoch 20/20\n",
      "222/222 [==============================] - 2s 8ms/step - loss: 0.0457 - accuracy: 0.9826 - val_loss: 1.1582 - val_accuracy: 0.8224\n"
     ]
    }
   ],
   "source": [
    "model.compile(optimizer='adam',\n",
    "              loss='binary_crossentropy',\n",
    "              metrics=['accuracy'])\n",
    "              \n",
    "epochs=20  # 몇 epoch를 훈련하면 좋을지 결과를 보면서 바꾸어 봅시다. \n",
    "\n",
    "history = model.fit(partial_x_train,\n",
    "                    partial_y_train,\n",
    "                    epochs=epochs,\n",
    "                    batch_size=512,\n",
    "                    validation_data=(x_val, y_val),\n",
    "                    verbose=1)"
   ]
  },
  {
   "cell_type": "code",
   "execution_count": 29,
   "id": "994e959b",
   "metadata": {},
   "outputs": [
    {
     "name": "stdout",
     "output_type": "stream",
     "text": [
      "1513/1513 - 3s - loss: 1.1550 - accuracy: 0.8202\n",
      "[1.1549997329711914, 0.8201863765716553]\n"
     ]
    }
   ],
   "source": [
    "results = model.evaluate(X_test,  y_test, verbose=2)\n",
    "\n",
    "print(results)"
   ]
  },
  {
   "cell_type": "code",
   "execution_count": 30,
   "id": "2c8af98f",
   "metadata": {},
   "outputs": [
    {
     "name": "stdout",
     "output_type": "stream",
     "text": [
      "dict_keys(['loss', 'accuracy', 'val_loss', 'val_accuracy'])\n"
     ]
    },
    {
     "data": {
      "image/png": "[encoded data removed]",
      "text/plain": [
       "<Figure size 720x720 with 2 Axes>"
      ]
     },
     "metadata": {
      "needs_background": "light"
     },
     "output_type": "display_data"
    }
   ],
   "source": [
    "history_dict = history.history\n",
    "print(history_dict.keys()) # epoch에 따른 그래프를 그려볼 수 있는 항목들\n",
    "\n",
    "import matplotlib.pyplot as plt\n",
    "\n",
    "acc = history_dict['accuracy']\n",
    "val_acc = history_dict['val_accuracy']\n",
    "loss = history_dict['loss']\n",
    "val_loss = history_dict['val_loss']\n",
    "\n",
    "epochs = range(1, len(acc) + 1)\n",
    "\n",
    "fig , ax = plt.subplots(1,2,figsize = (10,10))\n",
    "\n",
    "ax[0].plot(epochs, loss, 'r', label='Training loss')\n",
    "ax[0].plot(epochs, val_loss, 'b', label='Validation loss')\n",
    "ax[0].set_title('Training and validation loss')\n",
    "ax[0].set_xlabel('Epochs')\n",
    "ax[0].set_ylabel('Loss')\n",
    "ax[0].legend()\n",
    "\n",
    "ax[1].plot(epochs, acc, 'r', label='Training acc')\n",
    "ax[1].plot(epochs, val_acc, 'b', label='Validation acc')\n",
    "ax[1].set_title('Training and validation accuracy')\n",
    "ax[1].set_xlabel('Epochs')\n",
    "ax[1].set_ylabel('Accuracy')\n",
    "ax[1].legend()\n",
    "\n",
    "plt.show()"
   ]
  },
  {
   "cell_type": "markdown",
   "id": "1a1d55fc",
   "metadata": {},
   "source": [
    "### 3) LSTM   \n",
    "accuracy: 0.8209"
   ]
  },
  {
   "cell_type": "code",
   "execution_count": 31,
   "id": "2cc1f520",
   "metadata": {},
   "outputs": [
    {
     "name": "stdout",
     "output_type": "stream",
     "text": [
      "Model: \"sequential_3\"\n",
      "_________________________________________________________________\n",
      "Layer (type)                 Output Shape              Param #   \n",
      "=================================================================\n",
      "embedding_3 (Embedding)      (None, 31, 100)           1000000   \n",
      "_________________________________________________________________\n",
      "lstm_1 (LSTM)                (None, 8)                 3488      \n",
      "_________________________________________________________________\n",
      "dense_5 (Dense)              (None, 8)                 72        \n",
      "_________________________________________________________________\n",
      "dense_6 (Dense)              (None, 1)                 9         \n",
      "=================================================================\n",
      "Total params: 1,003,569\n",
      "Trainable params: 1,003,569\n",
      "Non-trainable params: 0\n",
      "_________________________________________________________________\n"
     ]
    }
   ],
   "source": [
    "vocab_size = 10000  # 어휘 사전의 크기입니다(10개의 단어)\n",
    "word_vector_dim = 100  # 단어 하나를 표현하는 임베딩 벡터의 차원수입니다. \n",
    "\n",
    "model = tf.keras.Sequential()\n",
    "model.add(tf.keras.layers.Embedding(vocab_size, \n",
    "                                 word_vector_dim, \n",
    "                                 embeddings_initializer=Constant(embedding_matrix),  # 카피한 임베딩을 여기서 활용\n",
    "                                 input_length=maxlen, \n",
    "                                 trainable=True)) \n",
    "model.add(tf.keras.layers.LSTM(8))   # 가장 널리 쓰이는 RNN인 LSTM 레이어를 사용하였습니다. 이때 LSTM state 벡터의 차원수는 8로 하였습니다. (변경 가능)\n",
    "model.add(tf.keras.layers.Dense(8, activation='relu'))\n",
    "model.add(tf.keras.layers.Dense(1, activation='sigmoid'))  # 최종 출력은 긍정/부정을 나타내는 1dim 입니다.\n",
    "\n",
    "model.summary()"
   ]
  },
  {
   "cell_type": "code",
   "execution_count": 32,
   "id": "c566c0fa",
   "metadata": {},
   "outputs": [
    {
     "name": "stdout",
     "output_type": "stream",
     "text": [
      "Epoch 1/20\n",
      "222/222 [==============================] - 3s 7ms/step - loss: 0.4430 - accuracy: 0.8268 - val_loss: 0.3698 - val_accuracy: 0.8407\n",
      "Epoch 2/20\n",
      "222/222 [==============================] - 1s 5ms/step - loss: 0.3102 - accuracy: 0.8723 - val_loss: 0.3633 - val_accuracy: 0.8426\n",
      "Epoch 3/20\n",
      "222/222 [==============================] - 1s 5ms/step - loss: 0.2817 - accuracy: 0.8850 - val_loss: 0.3683 - val_accuracy: 0.8447\n",
      "Epoch 4/20\n",
      "222/222 [==============================] - 1s 5ms/step - loss: 0.2568 - accuracy: 0.8956 - val_loss: 0.3801 - val_accuracy: 0.8446\n",
      "Epoch 5/20\n",
      "222/222 [==============================] - 1s 5ms/step - loss: 0.2292 - accuracy: 0.9079 - val_loss: 0.3961 - val_accuracy: 0.8436\n",
      "Epoch 6/20\n",
      "222/222 [==============================] - 1s 5ms/step - loss: 0.2066 - accuracy: 0.9183 - val_loss: 0.4175 - val_accuracy: 0.8420\n",
      "Epoch 7/20\n",
      "222/222 [==============================] - 1s 5ms/step - loss: 0.1863 - accuracy: 0.9282 - val_loss: 0.4407 - val_accuracy: 0.8421\n",
      "Epoch 8/20\n",
      "222/222 [==============================] - 1s 5ms/step - loss: 0.1708 - accuracy: 0.9345 - val_loss: 0.4611 - val_accuracy: 0.8389\n",
      "Epoch 9/20\n",
      "222/222 [==============================] - 1s 5ms/step - loss: 0.1589 - accuracy: 0.9395 - val_loss: 0.4943 - val_accuracy: 0.8363\n",
      "Epoch 10/20\n",
      "222/222 [==============================] - 1s 6ms/step - loss: 0.1471 - accuracy: 0.9451 - val_loss: 0.5239 - val_accuracy: 0.8351\n",
      "Epoch 11/20\n",
      "222/222 [==============================] - 1s 5ms/step - loss: 0.1365 - accuracy: 0.9500 - val_loss: 0.5478 - val_accuracy: 0.8325\n",
      "Epoch 12/20\n",
      "222/222 [==============================] - 1s 6ms/step - loss: 0.1291 - accuracy: 0.9529 - val_loss: 0.5770 - val_accuracy: 0.8325\n",
      "Epoch 13/20\n",
      "222/222 [==============================] - 1s 5ms/step - loss: 0.1216 - accuracy: 0.9566 - val_loss: 0.5935 - val_accuracy: 0.8293\n",
      "Epoch 14/20\n",
      "222/222 [==============================] - 1s 5ms/step - loss: 0.1132 - accuracy: 0.9601 - val_loss: 0.6353 - val_accuracy: 0.8284\n",
      "Epoch 15/20\n",
      "222/222 [==============================] - 1s 5ms/step - loss: 0.1064 - accuracy: 0.9625 - val_loss: 0.6617 - val_accuracy: 0.8304\n",
      "Epoch 16/20\n",
      "222/222 [==============================] - 1s 5ms/step - loss: 0.1009 - accuracy: 0.9651 - val_loss: 0.6628 - val_accuracy: 0.8299\n",
      "Epoch 17/20\n",
      "222/222 [==============================] - 1s 5ms/step - loss: 0.0972 - accuracy: 0.9664 - val_loss: 0.7189 - val_accuracy: 0.8296\n",
      "Epoch 18/20\n",
      "222/222 [==============================] - 1s 6ms/step - loss: 0.0926 - accuracy: 0.9686 - val_loss: 0.7329 - val_accuracy: 0.8263\n",
      "Epoch 19/20\n",
      "222/222 [==============================] - 1s 6ms/step - loss: 0.0867 - accuracy: 0.9708 - val_loss: 0.7725 - val_accuracy: 0.8274\n",
      "Epoch 20/20\n",
      "222/222 [==============================] - 1s 6ms/step - loss: 0.0852 - accuracy: 0.9710 - val_loss: 0.7906 - val_accuracy: 0.8278\n"
     ]
    }
   ],
   "source": [
    "model.compile(optimizer='adam',\n",
    "              loss='binary_crossentropy',\n",
    "              metrics=['accuracy'])\n",
    "              \n",
    "epochs=20  # 몇 epoch를 훈련하면 좋을지 결과를 보면서 바꾸어 봅시다. \n",
    "\n",
    "history = model.fit(partial_x_train,\n",
    "                    partial_y_train,\n",
    "                    epochs=epochs,\n",
    "                    batch_size=512,\n",
    "                    validation_data=(x_val, y_val),\n",
    "                    verbose=1)"
   ]
  },
  {
   "cell_type": "code",
   "execution_count": 33,
   "id": "56ec1244",
   "metadata": {},
   "outputs": [
    {
     "name": "stdout",
     "output_type": "stream",
     "text": [
      "1513/1513 - 3s - loss: 0.8109 - accuracy: 0.8209\n",
      "[0.8109428882598877, 0.8208890557289124]\n"
     ]
    }
   ],
   "source": [
    "results = model.evaluate(X_test,  y_test, verbose=2)\n",
    "\n",
    "print(results)"
   ]
  },
  {
   "cell_type": "code",
   "execution_count": 34,
   "id": "d933c766",
   "metadata": {},
   "outputs": [
    {
     "name": "stdout",
     "output_type": "stream",
     "text": [
      "dict_keys(['loss', 'accuracy', 'val_loss', 'val_accuracy'])\n"
     ]
    },
    {
     "data": {
      "image/png": "[encoded data removed]",
      "text/plain": [
       "<Figure size 720x720 with 2 Axes>"
      ]
     },
     "metadata": {
      "needs_background": "light"
     },
     "output_type": "display_data"
    }
   ],
   "source": [
    "history_dict = history.history\n",
    "print(history_dict.keys()) # epoch에 따른 그래프를 그려볼 수 있는 항목들\n",
    "\n",
    "import matplotlib.pyplot as plt\n",
    "\n",
    "acc = history_dict['accuracy']\n",
    "val_acc = history_dict['val_accuracy']\n",
    "loss = history_dict['loss']\n",
    "val_loss = history_dict['val_loss']\n",
    "\n",
    "epochs = range(1, len(acc) + 1)\n",
    "\n",
    "fig , ax = plt.subplots(1,2,figsize = (10,10))\n",
    "\n",
    "ax[0].plot(epochs, loss, 'r', label='Training loss')\n",
    "ax[0].plot(epochs, val_loss, 'b', label='Validation loss')\n",
    "ax[0].set_title('Training and validation loss')\n",
    "ax[0].set_xlabel('Epochs')\n",
    "ax[0].set_ylabel('Loss')\n",
    "ax[0].legend()\n",
    "\n",
    "ax[1].plot(epochs, acc, 'r', label='Training acc')\n",
    "ax[1].plot(epochs, val_acc, 'b', label='Validation acc')\n",
    "ax[1].set_title('Training and validation accuracy')\n",
    "ax[1].set_xlabel('Epochs')\n",
    "ax[1].set_ylabel('Accuracy')\n",
    "ax[1].legend()\n",
    "\n",
    "plt.show()"
   ]
  },
  {
   "cell_type": "markdown",
   "id": "2d6559bd",
   "metadata": {},
   "source": [
    "대체 왜.. word2vec 적용하지 않은 LSTM이 적용한 LSTM보다 성능이 좋게 나오는걸까\n",
    "\n",
    "일반 LSTM :1513/1513 - 3s - loss: 0.6885 - accuracy: 0.8241   \n",
    "W2V Global : 1513/1513 - 2s - loss: 0.5189 - accuracy: 0.8216   \n",
    "W2V GRU : 1513/1513 - 3s - loss: 0.7660 - accuracy: 0.8213   \n",
    "W2V LSTM : 1513/1513 - 3s - loss: 1.2308 - accuracy: 0.8111   \n",
    "\n",
    "이렇게 모아두고 보니 accuracy 일반 LSTM이 제일 좋게 나왔지만,    \n",
    "loss까지 고려하면 word2vec을 적용한 global도 나쁘지 않은 성적이라 생각이 들었다."
   ]
  },
  {
   "cell_type": "markdown",
   "id": "49e84773",
   "metadata": {},
   "source": [
    "# 6. word2vec 한국어 적용"
   ]
  },
  {
   "cell_type": "code",
   "execution_count": 35,
   "id": "f8b740ad",
   "metadata": {},
   "outputs": [
    {
     "name": "stdout",
     "output_type": "stream",
     "text": [
      "Collecting gensim==3.4.0\n",
      "  Using cached gensim-3.4.0-cp39-cp39-linux_x86_64.whl\n",
      "Requirement already satisfied: numpy>=1.11.3 in /opt/conda/lib/python3.9/site-packages (from gensim==3.4.0) (1.21.4)\n",
      "Requirement already satisfied: scipy>=0.18.1 in /opt/conda/lib/python3.9/site-packages (from gensim==3.4.0) (1.7.1)\n",
      "Requirement already satisfied: six>=1.5.0 in /opt/conda/lib/python3.9/site-packages (from gensim==3.4.0) (1.16.0)\n",
      "Requirement already satisfied: smart-open>=1.2.1 in /opt/conda/lib/python3.9/site-packages (from gensim==3.4.0) (5.2.1)\n",
      "Installing collected packages: gensim\n",
      "  Attempting uninstall: gensim\n",
      "    Found existing installation: gensim 4.1.2\n",
      "    Uninstalling gensim-4.1.2:\n",
      "      Successfully uninstalled gensim-4.1.2\n",
      "Successfully installed gensim-3.4.0\n",
      "\u001b[33mWARNING: Running pip as the 'root' user can result in broken permissions and conflicting behaviour with the system package manager. It is recommended to use a virtual environment instead: https://pip.pypa.io/warnings/venv\u001b[0m\n"
     ]
    }
   ],
   "source": [
    "!pip install gensim==3.4.0"
   ]
  },
  {
   "cell_type": "code",
   "execution_count": 36,
   "id": "eab331f4",
   "metadata": {},
   "outputs": [],
   "source": [
    "import gensim\n",
    "from gensim.models import KeyedVectors\n",
    "word2vec_path = os.getenv('HOME')+'/aiffel/sentiment_classification/data/ko.bin'\n",
    "word2vec = gensim.models.Word2Vec.load(word2vec_path)"
   ]
  },
  {
   "cell_type": "code",
   "execution_count": 37,
   "id": "c7d32435",
   "metadata": {},
   "outputs": [
    {
     "name": "stderr",
     "output_type": "stream",
     "text": [
      "/tmp/ipykernel_3264/1343737346.py:1: DeprecationWarning: Call to deprecated `similar_by_word` (Method will be removed in 4.0.0, use self.wv.similar_by_word() instead).\n",
      "  word2vec.similar_by_word(\"노래\")\n"
     ]
    },
    {
     "data": {
      "text/plain": [
       "[('가사', 0.7066930532455444),\n",
       " ('곡조', 0.6870777010917664),\n",
       " ('곡', 0.6749094724655151),\n",
       " ('발라드', 0.6573207378387451),\n",
       " ('멜로디', 0.6572505235671997),\n",
       " ('주제가', 0.6365448832511902),\n",
       " ('애국가', 0.6258596181869507),\n",
       " ('곡인', 0.6254721879959106),\n",
       " ('히트곡', 0.6253563165664673),\n",
       " ('원곡', 0.6200122833251953)]"
      ]
     },
     "execution_count": 37,
     "metadata": {},
     "output_type": "execute_result"
    }
   ],
   "source": [
    "word2vec.similar_by_word(\"노래\")"
   ]
  },
  {
   "cell_type": "markdown",
   "id": "2d527d77",
   "metadata": {},
   "source": [
    "사람이 봤을 때 꽤 유사한 단어들이 추출되는 것이 보인다."
   ]
  },
  {
   "cell_type": "code",
   "execution_count": 38,
   "id": "3f16e52d",
   "metadata": {},
   "outputs": [
    {
     "name": "stderr",
     "output_type": "stream",
     "text": [
      "/tmp/ipykernel_3264/1805107949.py:6: DeprecationWarning: Call to deprecated `__contains__` (Method will be removed in 4.0.0, use self.wv.__contains__() instead).\n",
      "  if index_to_word[i] in word2vec:\n",
      "/tmp/ipykernel_3264/1805107949.py:7: DeprecationWarning: Call to deprecated `__getitem__` (Method will be removed in 4.0.0, use self.wv.__getitem__() instead).\n",
      "  embedding_matrix[i] = word2vec[index_to_word[i]]\n"
     ]
    }
   ],
   "source": [
    "vocab_size = 10000    # 어휘 사전의 크기입니다(10,000개의 단어)\n",
    "word_vector_dim = 200  # 워드 벡터의 차원수 200으로 설정\n",
    "embedding_matrix = np.random.rand(vocab_size, word_vector_dim)\n",
    "\n",
    "for i in range(4,vocab_size):\n",
    "    if index_to_word[i] in word2vec:\n",
    "        embedding_matrix[i] = word2vec[index_to_word[i]]"
   ]
  },
  {
   "cell_type": "markdown",
   "id": "2fcc7a49",
   "metadata": {},
   "source": [
    "### 1) LSTM으로 보는 한국어 Word2Vec의 성능   \n",
    "accuracy: 0.8471   \n",
    "   \n",
    "한국어 Word2Vec을 적용한 뒤 성능이 향상된 것이 비교적 도드라진다."
   ]
  },
  {
   "cell_type": "code",
   "execution_count": 39,
   "id": "e97ce7d2",
   "metadata": {},
   "outputs": [
    {
     "name": "stdout",
     "output_type": "stream",
     "text": [
      "Model: \"sequential_4\"\n",
      "_________________________________________________________________\n",
      "Layer (type)                 Output Shape              Param #   \n",
      "=================================================================\n",
      "embedding_4 (Embedding)      (None, 31, 200)           2000000   \n",
      "_________________________________________________________________\n",
      "lstm_2 (LSTM)                (None, 128)               168448    \n",
      "_________________________________________________________________\n",
      "dense_7 (Dense)              (None, 8)                 1032      \n",
      "_________________________________________________________________\n",
      "dense_8 (Dense)              (None, 1)                 9         \n",
      "=================================================================\n",
      "Total params: 2,169,489\n",
      "Trainable params: 2,169,489\n",
      "Non-trainable params: 0\n",
      "_________________________________________________________________\n"
     ]
    }
   ],
   "source": [
    "vocab_size = 10000  # 어휘 사전의 크기입니다(10개의 단어)\n",
    "word_vector_dim = 200  # 단어 하나를 표현하는 임베딩 벡터의 차원수입니다. \n",
    "\n",
    "model_basic = tf.keras.Sequential()\n",
    "model_basic.add(tf.keras.layers.Embedding(vocab_size, \n",
    "                                 word_vector_dim, \n",
    "                                 embeddings_initializer=Constant(embedding_matrix),  # 카피한 임베딩을 여기서 활용\n",
    "                                 input_length=maxlen, \n",
    "                                 trainable=True)) \n",
    "model_basic.add(tf.keras.layers.LSTM(128))   # 가장 널리 쓰이는 RNN인 LSTM 레이어를 사용하였습니다. 이때 LSTM state 벡터의 차원수는 8로 하였습니다. (변경 가능)\n",
    "model_basic.add(tf.keras.layers.Dense(8, activation='relu'))\n",
    "model_basic.add(tf.keras.layers.Dense(1, activation='sigmoid'))  # 최종 출력은 긍정/부정을 나타내는 1dim 입니다.\n",
    "\n",
    "model_basic.summary()"
   ]
  },
  {
   "cell_type": "code",
   "execution_count": 40,
   "id": "2f96f62b",
   "metadata": {},
   "outputs": [
    {
     "name": "stdout",
     "output_type": "stream",
     "text": [
      "Epoch 1/10\n",
      "222/222 [==============================] - 4s 13ms/step - loss: 0.4644 - accuracy: 0.7743 - val_loss: 0.3736 - val_accuracy: 0.8315\n",
      "Epoch 2/10\n",
      "222/222 [==============================] - 2s 11ms/step - loss: 0.3414 - accuracy: 0.8500 - val_loss: 0.3442 - val_accuracy: 0.8509\n",
      "Epoch 3/10\n",
      "222/222 [==============================] - 2s 11ms/step - loss: 0.2983 - accuracy: 0.8726 - val_loss: 0.3286 - val_accuracy: 0.8577\n",
      "Epoch 4/10\n",
      "222/222 [==============================] - 2s 11ms/step - loss: 0.2689 - accuracy: 0.8875 - val_loss: 0.3299 - val_accuracy: 0.8585\n",
      "Epoch 5/10\n",
      "222/222 [==============================] - 3s 11ms/step - loss: 0.2414 - accuracy: 0.9007 - val_loss: 0.3531 - val_accuracy: 0.8579\n",
      "Epoch 6/10\n",
      "222/222 [==============================] - 2s 11ms/step - loss: 0.2152 - accuracy: 0.9134 - val_loss: 0.3581 - val_accuracy: 0.8557\n",
      "Epoch 7/10\n",
      "222/222 [==============================] - 2s 11ms/step - loss: 0.1870 - accuracy: 0.9260 - val_loss: 0.3740 - val_accuracy: 0.8547\n",
      "Epoch 8/10\n",
      "222/222 [==============================] - 3s 11ms/step - loss: 0.1603 - accuracy: 0.9374 - val_loss: 0.4226 - val_accuracy: 0.8518\n",
      "Epoch 9/10\n",
      "222/222 [==============================] - 2s 11ms/step - loss: 0.1337 - accuracy: 0.9489 - val_loss: 0.4786 - val_accuracy: 0.8487\n",
      "Epoch 10/10\n",
      "222/222 [==============================] - 3s 11ms/step - loss: 0.1106 - accuracy: 0.9580 - val_loss: 0.5223 - val_accuracy: 0.8483\n"
     ]
    }
   ],
   "source": [
    "model_basic.compile(optimizer='adam',\n",
    "              loss='binary_crossentropy',\n",
    "              metrics=['accuracy'])\n",
    "              \n",
    "epochs=10  # 몇 epoch를 훈련하면 좋을지 결과를 보면서 바꾸어 봅시다. \n",
    "\n",
    "history_basic = model_basic.fit(partial_x_train,\n",
    "                    partial_y_train,\n",
    "                    epochs=epochs,\n",
    "                    batch_size=512,\n",
    "                    validation_data=(x_val, y_val),\n",
    "                    verbose=1)"
   ]
  },
  {
   "cell_type": "code",
   "execution_count": 41,
   "id": "89e94451",
   "metadata": {},
   "outputs": [
    {
     "name": "stdout",
     "output_type": "stream",
     "text": [
      "기본 LSTM 성능\n",
      "1513/1513 - 3s - loss: 0.5232 - accuracy: 0.8471\n"
     ]
    }
   ],
   "source": [
    "print(\"기본 LSTM 성능\")\n",
    "results_basic = model_basic.evaluate(X_test,  y_test, verbose=2)"
   ]
  },
  {
   "cell_type": "markdown",
   "id": "05617cc1",
   "metadata": {},
   "source": [
    "### 2) 성능 향상을 위한 drop out 및 Bidirectional LSTM 적용\n",
    "\n",
    "LSTM의 성능 향상을 위해 drop out와 bidirectional LSTM을 적용하였다.   \n",
    "다양한 파라미터 조합을 고려하였을 때 정확도 85%를 유지하지만, drop out의 파라미터 값과 첫번째 Dense의 뉴런 수가 변하면 정확도가 84%까지 떨어지는 현상이 발견되었다."
   ]
  },
  {
   "cell_type": "code",
   "execution_count": 42,
   "id": "5b3a556b",
   "metadata": {},
   "outputs": [
    {
     "name": "stdout",
     "output_type": "stream",
     "text": [
      "Model: \"sequential_5\"\n",
      "_________________________________________________________________\n",
      "Layer (type)                 Output Shape              Param #   \n",
      "=================================================================\n",
      "embedding_5 (Embedding)      (None, 31, 200)           2000000   \n",
      "_________________________________________________________________\n",
      "bidirectional (Bidirectional (None, 256)               336896    \n",
      "_________________________________________________________________\n",
      "dropout (Dropout)            (None, 256)               0         \n",
      "_________________________________________________________________\n",
      "dense_9 (Dense)              (None, 8)                 2056      \n",
      "_________________________________________________________________\n",
      "dropout_1 (Dropout)          (None, 8)                 0         \n",
      "_________________________________________________________________\n",
      "dense_10 (Dense)             (None, 1)                 9         \n",
      "=================================================================\n",
      "Total params: 2,338,961\n",
      "Trainable params: 2,338,961\n",
      "Non-trainable params: 0\n",
      "_________________________________________________________________\n"
     ]
    }
   ],
   "source": [
    "vocab_size = 10000  # 어휘 사전의 크기입니다(10개의 단어)\n",
    "word_vector_dim = 200  # 단어 하나를 표현하는 임베딩 벡터의 차원수입니다. \n",
    "\n",
    "model_drop = tf.keras.Sequential()\n",
    "model_drop.add(tf.keras.layers.Embedding(vocab_size, \n",
    "                                 word_vector_dim, \n",
    "                                 embeddings_initializer=Constant(embedding_matrix),  # 카피한 임베딩을 여기서 활용\n",
    "                                 input_length=maxlen, \n",
    "                                 trainable=True)) \n",
    "model_drop.add(tf.keras.layers.Bidirectional(tf.keras.layers.LSTM(128)))\n",
    "model_drop.add(tf.keras.layers.Dropout(0.4))\n",
    "model_drop.add(tf.keras.layers.Dense(8, activation='relu'))\n",
    "model_drop.add(tf.keras.layers.Dropout(0.25))\n",
    "model_drop.add(tf.keras.layers.Dense(1, activation='sigmoid'))  # 최종 출력은 긍정/부정을 나타내는 1dim 입니다.\n",
    "\n",
    "model_drop.summary()"
   ]
  },
  {
   "cell_type": "code",
   "execution_count": 43,
   "id": "b4b2ccdc",
   "metadata": {},
   "outputs": [
    {
     "name": "stdout",
     "output_type": "stream",
     "text": [
      "Epoch 1/10\n",
      "222/222 [==============================] - 7s 23ms/step - loss: 0.5256 - accuracy: 0.7202 - val_loss: 0.3860 - val_accuracy: 0.8256\n",
      "Epoch 2/10\n",
      "222/222 [==============================] - 5s 21ms/step - loss: 0.3744 - accuracy: 0.8397 - val_loss: 0.3373 - val_accuracy: 0.8496\n",
      "Epoch 3/10\n",
      "222/222 [==============================] - 5s 21ms/step - loss: 0.3306 - accuracy: 0.8634 - val_loss: 0.3326 - val_accuracy: 0.8536\n",
      "Epoch 4/10\n",
      "222/222 [==============================] - 5s 21ms/step - loss: 0.2990 - accuracy: 0.8787 - val_loss: 0.3296 - val_accuracy: 0.8591\n",
      "Epoch 5/10\n",
      "222/222 [==============================] - 5s 21ms/step - loss: 0.2780 - accuracy: 0.8883 - val_loss: 0.3315 - val_accuracy: 0.8599\n",
      "Epoch 6/10\n",
      "222/222 [==============================] - 5s 21ms/step - loss: 0.2546 - accuracy: 0.8979 - val_loss: 0.3523 - val_accuracy: 0.8587\n",
      "Epoch 7/10\n",
      "222/222 [==============================] - 5s 21ms/step - loss: 0.2350 - accuracy: 0.9080 - val_loss: 0.3554 - val_accuracy: 0.8580\n",
      "Epoch 8/10\n",
      "222/222 [==============================] - 5s 21ms/step - loss: 0.2162 - accuracy: 0.9158 - val_loss: 0.3737 - val_accuracy: 0.8564\n",
      "Epoch 9/10\n",
      "222/222 [==============================] - 5s 21ms/step - loss: 0.1968 - accuracy: 0.9242 - val_loss: 0.4164 - val_accuracy: 0.8550\n",
      "Epoch 10/10\n",
      "222/222 [==============================] - 5s 21ms/step - loss: 0.1793 - accuracy: 0.9321 - val_loss: 0.4260 - val_accuracy: 0.8561\n"
     ]
    }
   ],
   "source": [
    "model_drop.compile(optimizer='adam',\n",
    "              loss='binary_crossentropy',\n",
    "              metrics=['accuracy'])\n",
    "              \n",
    "epochs=10  # 몇 epoch를 훈련하면 좋을지 결과를 보면서 바꾸어 봅시다. \n",
    "\n",
    "history_drop = model_drop.fit(partial_x_train,\n",
    "                    partial_y_train,\n",
    "                    epochs=epochs,\n",
    "                    batch_size=512,\n",
    "                    validation_data=(x_val, y_val),\n",
    "                    verbose=1)"
   ]
  },
  {
   "cell_type": "code",
   "execution_count": 44,
   "id": "0c16fffe",
   "metadata": {},
   "outputs": [
    {
     "name": "stdout",
     "output_type": "stream",
     "text": [
      "drop out 적용한 LSTM 성능\n",
      "1513/1513 - 4s - loss: 0.4340 - accuracy: 0.8507\n"
     ]
    }
   ],
   "source": [
    "print(\"drop out 적용한 LSTM 성능\")\n",
    "results_drop = model_drop.evaluate(X_test,  y_test, verbose=2)"
   ]
  },
  {
   "cell_type": "code",
   "execution_count": 45,
   "id": "75933f76",
   "metadata": {},
   "outputs": [
    {
     "name": "stdout",
     "output_type": "stream",
     "text": [
      "dict_keys(['loss', 'accuracy', 'val_loss', 'val_accuracy'])\n"
     ]
    }
   ],
   "source": [
    "history_basic = history_basic.history\n",
    "history_drop = history_drop.history\n",
    "\n",
    "print(history_dict.keys()) # epoch에 따른 그래프를 그려볼 수 있는 항목들"
   ]
  },
  {
   "cell_type": "code",
   "execution_count": 46,
   "id": "63fde0ea",
   "metadata": {},
   "outputs": [],
   "source": [
    "#plot 그리기 함수화\n",
    "import matplotlib.pyplot as plt\n",
    "\n",
    "def make_plt(his_ver):\n",
    "    acc = his_ver['accuracy']\n",
    "    val_acc = his_ver['val_accuracy']\n",
    "    loss = his_ver['loss']\n",
    "    val_loss = his_ver['val_loss']\n",
    "\n",
    "    epochs = range(1, len(acc) + 1)\n",
    "\n",
    "    fig , ax = plt.subplots(1,2,figsize = (10,10))\n",
    "\n",
    "    ax[0].plot(epochs, loss, 'r', label='Training loss')\n",
    "    ax[0].plot(epochs, val_loss, 'b', label='Validation loss')\n",
    "    ax[0].set_title('Training and validation loss')\n",
    "    ax[0].set_xlabel('Epochs')\n",
    "    ax[0].set_ylabel('Loss')\n",
    "    ax[0].legend()\n",
    "\n",
    "    ax[1].plot(epochs, acc, 'r', label='Training acc')\n",
    "    ax[1].plot(epochs, val_acc, 'b', label='Validation acc')\n",
    "    ax[1].set_title('Training and validation accuracy')\n",
    "    ax[1].set_xlabel('Epochs')\n",
    "    ax[1].set_ylabel('Accuracy')\n",
    "    ax[1].legend()\n",
    "\n",
    "    plt.show()"
   ]
  },
  {
   "cell_type": "code",
   "execution_count": 47,
   "id": "4ef9b49d",
   "metadata": {},
   "outputs": [
    {
     "data": {
      "image/png": "[encoded data removed]",
      "text/plain": [
       "<Figure size 720x720 with 2 Axes>"
      ]
     },
     "metadata": {
      "needs_background": "light"
     },
     "output_type": "display_data"
    }
   ],
   "source": [
    "make_plt(history_basic) # non- drop out"
   ]
  },
  {
   "cell_type": "code",
   "execution_count": 48,
   "id": "7c8e4438",
   "metadata": {},
   "outputs": [
    {
     "data": {
      "image/png": "[encoded data removed]",
      "text/plain": [
       "<Figure size 720x720 with 2 Axes>"
      ]
     },
     "metadata": {
      "needs_background": "light"
     },
     "output_type": "display_data"
    }
   ],
   "source": [
    "make_plt(history_drop) #drop out"
   ]
  },
  {
   "cell_type": "markdown",
   "id": "6dfc93c6",
   "metadata": {},
   "source": [
    "### 3) L2 적용\n",
    "앞선 과정으로 정확도가 향상되는 모습을 보이긴 하였지만, drop out 값에 따라 다시 84%대의 정확도가 나오게 됨   \n",
    "이를 개선하고자 L2를 적용하였음   \n",
    "대부분의 파라미터 조합에서 85%의 정확도를 안정적으로 보여주지만, 여전히 첫번째 Dense의 뉴런 값이 16이상이 될 경우 84%로 떨어지는 현상이 발견되어 이 부분을 더 공부해 봐야겠다."
   ]
  },
  {
   "cell_type": "code",
   "execution_count": 59,
   "id": "232cf6a2",
   "metadata": {},
   "outputs": [
    {
     "name": "stdout",
     "output_type": "stream",
     "text": [
      "Model: \"sequential_7\"\n",
      "_________________________________________________________________\n",
      "Layer (type)                 Output Shape              Param #   \n",
      "=================================================================\n",
      "embedding_7 (Embedding)      (None, 31, 200)           2000000   \n",
      "_________________________________________________________________\n",
      "bidirectional_2 (Bidirection (None, 256)               336896    \n",
      "_________________________________________________________________\n",
      "dropout_4 (Dropout)          (None, 256)               0         \n",
      "_________________________________________________________________\n",
      "dense_13 (Dense)             (None, 8)                 2056      \n",
      "_________________________________________________________________\n",
      "dropout_5 (Dropout)          (None, 8)                 0         \n",
      "_________________________________________________________________\n",
      "dense_14 (Dense)             (None, 1)                 9         \n",
      "=================================================================\n",
      "Total params: 2,338,961\n",
      "Trainable params: 2,338,961\n",
      "Non-trainable params: 0\n",
      "_________________________________________________________________\n"
     ]
    }
   ],
   "source": [
    "from keras import regularizers\n",
    "\n",
    "vocab_size = 10000  # 어휘 사전의 크기입니다(10개의 단어)\n",
    "word_vector_dim = 200  # 단어 하나를 표현하는 임베딩 벡터의 차원수입니다. \n",
    "\n",
    "model_re = tf.keras.Sequential()\n",
    "model_re.add(tf.keras.layers.Embedding(vocab_size, \n",
    "                                 word_vector_dim, \n",
    "                                 embeddings_initializer=Constant(embedding_matrix),  # 카피한 임베딩을 여기서 활용\n",
    "                                 input_length=maxlen, \n",
    "                                 trainable=True)) \n",
    "model_re.add(tf.keras.layers.Bidirectional(tf.keras.layers.LSTM(128)))\n",
    "model_re.add(tf.keras.layers.Dropout(0.4))\n",
    "model_re.add(tf.keras.layers.Dense(8, activation='relu', kernel_regularizer=tf.keras.regularizers.L2(0.01))) #L2 추가\n",
    "model_re.add(tf.keras.layers.Dropout(0.25))\n",
    "model_re.add(tf.keras.layers.Dense(1, activation='sigmoid'))  # 최종 출력은 긍정/부정을 나타내는 1dim 입니다.\n",
    "\n",
    "model_re.summary()"
   ]
  },
  {
   "cell_type": "code",
   "execution_count": 60,
   "id": "30b43cd3",
   "metadata": {},
   "outputs": [
    {
     "name": "stdout",
     "output_type": "stream",
     "text": [
      "Epoch 1/10\n",
      "222/222 [==============================] - 8s 25ms/step - loss: 0.5733 - accuracy: 0.7351 - val_loss: 0.4111 - val_accuracy: 0.8194\n",
      "Epoch 2/10\n",
      "222/222 [==============================] - 4s 20ms/step - loss: 0.3863 - accuracy: 0.8406 - val_loss: 0.3509 - val_accuracy: 0.8502\n",
      "Epoch 3/10\n",
      "222/222 [==============================] - 4s 20ms/step - loss: 0.3410 - accuracy: 0.8646 - val_loss: 0.3368 - val_accuracy: 0.8567\n",
      "Epoch 4/10\n",
      "222/222 [==============================] - 4s 20ms/step - loss: 0.3119 - accuracy: 0.8796 - val_loss: 0.3361 - val_accuracy: 0.8572\n",
      "Epoch 5/10\n",
      "222/222 [==============================] - 4s 20ms/step - loss: 0.2895 - accuracy: 0.8906 - val_loss: 0.3374 - val_accuracy: 0.8593\n",
      "Epoch 6/10\n",
      "222/222 [==============================] - 4s 20ms/step - loss: 0.2691 - accuracy: 0.8995 - val_loss: 0.3468 - val_accuracy: 0.8588\n",
      "Epoch 7/10\n",
      "222/222 [==============================] - 4s 20ms/step - loss: 0.2494 - accuracy: 0.9088 - val_loss: 0.3445 - val_accuracy: 0.8589\n",
      "Epoch 8/10\n",
      "222/222 [==============================] - 4s 20ms/step - loss: 0.2285 - accuracy: 0.9173 - val_loss: 0.3573 - val_accuracy: 0.8565\n",
      "Epoch 9/10\n",
      "222/222 [==============================] - 4s 20ms/step - loss: 0.2121 - accuracy: 0.9260 - val_loss: 0.3767 - val_accuracy: 0.8556\n",
      "Epoch 10/10\n",
      "222/222 [==============================] - 4s 20ms/step - loss: 0.1943 - accuracy: 0.9332 - val_loss: 0.4161 - val_accuracy: 0.8532\n"
     ]
    }
   ],
   "source": [
    "model_re.compile(optimizer='adam',\n",
    "              loss='binary_crossentropy',\n",
    "              metrics=['accuracy'])\n",
    "              \n",
    "epochs=10  # 몇 epoch를 훈련하면 좋을지 결과를 보면서 바꾸어 봅시다. \n",
    "\n",
    "history_re = model_re.fit(partial_x_train,\n",
    "                    partial_y_train,\n",
    "                    epochs=epochs,\n",
    "                    batch_size=512,\n",
    "                    validation_data=(x_val, y_val),\n",
    "                    verbose=1)"
   ]
  },
  {
   "cell_type": "code",
   "execution_count": 61,
   "id": "f2960a2e",
   "metadata": {},
   "outputs": [
    {
     "name": "stdout",
     "output_type": "stream",
     "text": [
      "L2 적용한 LSTM 성능\n",
      "1513/1513 - 4s - loss: 0.4223 - accuracy: 0.8508\n"
     ]
    }
   ],
   "source": [
    "print(\"L2 적용한 LSTM 성능\")\n",
    "results_re = model_re.evaluate(X_test,  y_test, verbose=2)"
   ]
  },
  {
   "cell_type": "code",
   "execution_count": 62,
   "id": "46bcbf80",
   "metadata": {},
   "outputs": [
    {
     "data": {
      "image/png": "[encoded data removed]",
      "text/plain": [
       "<Figure size 720x720 with 2 Axes>"
      ]
     },
     "metadata": {
      "needs_background": "light"
     },
     "output_type": "display_data"
    }
   ],
   "source": [
    "history_re = history_re.history\n",
    "make_plt(history_re) "
   ]
  }
 ],
 "metadata": {
  "kernelspec": {
   "display_name": "Python 3 (ipykernel)",
   "language": "python",
   "name": "python3"
  },
  "language_info": {
   "codemirror_mode": {
    "name": "ipython",
    "version": 3
   },
   "file_extension": ".py",
   "mimetype": "text/x-python",
   "name": "python",
   "nbconvert_exporter": "python",
   "pygments_lexer": "ipython3",
   "version": "3.9.7"
  }
 },
 "nbformat": 4,
 "nbformat_minor": 5
}
