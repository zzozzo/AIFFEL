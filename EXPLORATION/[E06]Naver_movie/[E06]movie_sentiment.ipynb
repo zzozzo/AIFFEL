{
 "cells": [
  {
   "cell_type": "markdown",
   "id": "acb9d3c7",
   "metadata": {},
   "source": [
    "## 데이터 불러오기"
   ]
  },
  {
   "cell_type": "code",
   "execution_count": 44,
   "id": "4cb02ded",
   "metadata": {},
   "outputs": [
    {
     "data": {
      "text/html": [
       "<div>\n",
       "<style scoped>\n",
       "    .dataframe tbody tr th:only-of-type {\n",
       "        vertical-align: middle;\n",
       "    }\n",
       "\n",
       "    .dataframe tbody tr th {\n",
       "        vertical-align: top;\n",
       "    }\n",
       "\n",
       "    .dataframe thead th {\n",
       "        text-align: right;\n",
       "    }\n",
       "</style>\n",
       "<table border=\"1\" class=\"dataframe\">\n",
       "  <thead>\n",
       "    <tr style=\"text-align: right;\">\n",
       "      <th></th>\n",
       "      <th>id</th>\n",
       "      <th>document</th>\n",
       "      <th>label</th>\n",
       "    </tr>\n",
       "  </thead>\n",
       "  <tbody>\n",
       "    <tr>\n",
       "      <th>0</th>\n",
       "      <td>9976970</td>\n",
       "      <td>아 더빙.. 진짜 짜증나네요 목소리</td>\n",
       "      <td>0</td>\n",
       "    </tr>\n",
       "    <tr>\n",
       "      <th>1</th>\n",
       "      <td>3819312</td>\n",
       "      <td>흠...포스터보고 초딩영화줄....오버연기조차 가볍지 않구나</td>\n",
       "      <td>1</td>\n",
       "    </tr>\n",
       "    <tr>\n",
       "      <th>2</th>\n",
       "      <td>10265843</td>\n",
       "      <td>너무재밓었다그래서보는것을추천한다</td>\n",
       "      <td>0</td>\n",
       "    </tr>\n",
       "    <tr>\n",
       "      <th>3</th>\n",
       "      <td>9045019</td>\n",
       "      <td>교도소 이야기구먼 ..솔직히 재미는 없다..평점 조정</td>\n",
       "      <td>0</td>\n",
       "    </tr>\n",
       "    <tr>\n",
       "      <th>4</th>\n",
       "      <td>6483659</td>\n",
       "      <td>사이몬페그의 익살스런 연기가 돋보였던 영화!스파이더맨에서 늙어보이기만 했던 커스틴 ...</td>\n",
       "      <td>1</td>\n",
       "    </tr>\n",
       "  </tbody>\n",
       "</table>\n",
       "</div>"
      ],
      "text/plain": [
       "         id                                           document  label\n",
       "0   9976970                                아 더빙.. 진짜 짜증나네요 목소리      0\n",
       "1   3819312                  흠...포스터보고 초딩영화줄....오버연기조차 가볍지 않구나      1\n",
       "2  10265843                                  너무재밓었다그래서보는것을추천한다      0\n",
       "3   9045019                      교도소 이야기구먼 ..솔직히 재미는 없다..평점 조정      0\n",
       "4   6483659  사이몬페그의 익살스런 연기가 돋보였던 영화!스파이더맨에서 늙어보이기만 했던 커스틴 ...      1"
      ]
     },
     "execution_count": 44,
     "metadata": {},
     "output_type": "execute_result"
    }
   ],
   "source": [
    "import pandas as pd\n",
    "\n",
    "# 데이터를 읽어봅시다. \n",
    "train_data = pd.read_table('~/aiffel/sentiment_classification/data/ratings_train.txt')\n",
    "test_data = pd.read_table('~/aiffel/sentiment_classification/data/ratings_test.txt')\n",
    "\n",
    "train_data.head()"
   ]
  },
  {
   "cell_type": "markdown",
   "id": "e705f6e3",
   "metadata": {},
   "source": [
    "## 데이터 전처리"
   ]
  },
  {
   "cell_type": "code",
   "execution_count": 45,
   "id": "d4a1a2d0",
   "metadata": {},
   "outputs": [
    {
     "name": "stderr",
     "output_type": "stream",
     "text": [
      "/tmp/ipykernel_2713/2860097851.py:10: FutureWarning: The default value of regex will change from True to False in a future version.\n",
      "  train_data['document'] = train_data['document'].str.replace(\"[^ㄱ-ㅎㅏ-ㅣ가-힣 ]\",\"\") # 정규 표현식 수행\n",
      "/tmp/ipykernel_2713/2860097851.py:11: FutureWarning: The default value of regex will change from True to False in a future version.\n",
      "  train_data['document'] = train_data['document'].str.replace('^ +', \"\") # 공백은 empty 값으로 변경\n",
      "/tmp/ipykernel_2713/2860097851.py:16: FutureWarning: The default value of regex will change from True to False in a future version.\n",
      "  test_data['document'] = test_data['document'].str.replace(\"[^ㄱ-ㅎㅏ-ㅣ가-힣 ]\",\"\") # 정규 표현식 수행\n",
      "/tmp/ipykernel_2713/2860097851.py:17: FutureWarning: The default value of regex will change from True to False in a future version.\n",
      "  test_data['document'] = test_data['document'].str.replace('^ +', \"\") # 공백은 empty 값으로 변경\n"
     ]
    }
   ],
   "source": [
    "from konlpy.tag import Mecab\n",
    "import numpy as np\n",
    "from collections import Counter\n",
    "\n",
    "tokenizer = Mecab()\n",
    "stopwords = ['의','가','이','은','들','는','좀','잘','걍','과','도','를','으로','자','에','와','한','하다']\n",
    "\n",
    "def load_data(train_data, test_data, num_words=10000):\n",
    "    \n",
    "    train_data['document'] = train_data['document'].str.replace(\"[^ㄱ-ㅎㅏ-ㅣ가-힣 ]\",\"\") # 정규 표현식 수행\n",
    "    train_data['document'] = train_data['document'].str.replace('^ +', \"\") # 공백은 empty 값으로 변경\n",
    "    train_data['document'].replace('', np.nan, inplace=True) # 공백은 Null 값으로 변경\n",
    "    train_data.drop_duplicates(subset = ['document'], inplace=True) # document 열에서 중복인 내용이 있다면 중복 제거\n",
    "    train_data = train_data.dropna(how='any') # Null 값 제거\n",
    "    \n",
    "    test_data['document'] = test_data['document'].str.replace(\"[^ㄱ-ㅎㅏ-ㅣ가-힣 ]\",\"\") # 정규 표현식 수행\n",
    "    test_data['document'] = test_data['document'].str.replace('^ +', \"\") # 공백은 empty 값으로 변경\n",
    "    test_data['document'].replace('', np.nan, inplace=True) # 공백은 Null 값으로 변경\n",
    "    test_data.drop_duplicates(subset = ['document'], inplace=True) # document 열에서 중복인 내용이 있다면 중복 제거\n",
    "    test_data = test_data.dropna(how='any') # Null 값 제거\n",
    "    \n",
    "    \n",
    "    X_train = []\n",
    "    for sentence in train_data['document']:\n",
    "        temp_X = tokenizer.morphs(sentence) # 토큰화\n",
    "        temp_X = [word for word in temp_X if not word in stopwords] # 불용어 제거\n",
    "        X_train.append(temp_X)\n",
    "\n",
    "    X_test = []\n",
    "    for sentence in test_data['document']:\n",
    "        temp_X = tokenizer.morphs(sentence) # 토큰화\n",
    "        temp_X = [word for word in temp_X if not word in stopwords] # 불용어 제거\n",
    "        X_test.append(temp_X)\n",
    "    \n",
    "    words = np.concatenate(X_train).tolist()\n",
    "    counter = Counter(words)\n",
    "    counter = counter.most_common(10000-4)\n",
    "    vocab = ['<PAD>', '<BOS>', '<UNK>', '<UNUSED>'] + [key for key, _ in counter]\n",
    "    word_to_index = {word:index for index, word in enumerate(vocab)}\n",
    "        \n",
    "    def wordlist_to_indexlist(wordlist):\n",
    "        return [word_to_index[word] if word in word_to_index else word_to_index['<UNK>'] for word in wordlist]\n",
    "        \n",
    "    X_train = list(map(wordlist_to_indexlist, X_train))\n",
    "    X_test = list(map(wordlist_to_indexlist, X_test))\n",
    "        \n",
    "    return X_train, np.array(list(train_data['label'])), X_test, np.array(list(test_data['label'])), word_to_index\n",
    "    \n",
    "X_train, y_train, X_test, y_test, word_to_index = load_data(train_data, test_data) "
   ]
  },
  {
   "cell_type": "code",
   "execution_count": 46,
   "id": "0d5b56cb",
   "metadata": {},
   "outputs": [],
   "source": [
    "# 문장 1개를 활용할 딕셔너리와 함께 주면, 단어 인덱스 리스트 벡터로 변환해 주는 함수입니다. \n",
    "# 단, 모든 문장은 <BOS>로 시작하는 것으로 합니다. \n",
    "def get_encoded_sentence(sentence, word_to_index):\n",
    "    return [word_to_index['<BOS>']]+[word_to_index[word] if word in word_to_index else word_to_index['<UNK>'] for word in sentence.split()]\n",
    "\n",
    "# 여러 개의 문장 리스트를 한꺼번에 단어 인덱스 리스트 벡터로 encode해 주는 함수입니다. \n",
    "def get_encoded_sentences(sentences, word_to_index):\n",
    "    return [get_encoded_sentence(sentence, word_to_index) for sentence in sentences]\n",
    "\n",
    "# 숫자 벡터로 encode된 문장을 원래대로 decode하는 함수입니다. \n",
    "def get_decoded_sentence(encoded_sentence, index_to_word):\n",
    "    return ' '.join(index_to_word[index] if index in index_to_word else '<UNK>' for index in encoded_sentence[1:])  #[1:]를 통해 <BOS>를 제외\n",
    "\n",
    "# 여러 개의 숫자 벡터로 encode된 문장을 한꺼번에 원래대로 decode하는 함수입니다. \n",
    "def get_decoded_sentences(encoded_sentences, index_to_word):\n",
    "    return [get_decoded_sentence(encoded_sentence, index_to_word) for encoded_sentence in encoded_sentences]"
   ]
  },
  {
   "cell_type": "code",
   "execution_count": 47,
   "id": "44c15aa1",
   "metadata": {},
   "outputs": [
    {
     "name": "stdout",
     "output_type": "stream",
     "text": [
      "[27, 67, 891, 33, 214, 15, 28, 698]\n",
      "라벨:  0\n",
      "1번째 리뷰 문장 길이:  8\n",
      "2번째 리뷰 문장 길이:  13\n"
     ]
    }
   ],
   "source": [
    "print(X_train[0])  # 1번째 리뷰데이터\n",
    "print('라벨: ', y_train[0])  # 1번째 리뷰데이터의 라벨\n",
    "print('1번째 리뷰 문장 길이: ', len(X_train[0]))\n",
    "print('2번째 리뷰 문장 길이: ', len(X_train[1]))"
   ]
  },
  {
   "cell_type": "code",
   "execution_count": 48,
   "id": "ccac5488",
   "metadata": {},
   "outputs": [],
   "source": [
    "index_to_word = {index:word for word, index in word_to_index.items()}"
   ]
  },
  {
   "cell_type": "code",
   "execution_count": 49,
   "id": "36184f6b",
   "metadata": {},
   "outputs": [
    {
     "name": "stdout",
     "output_type": "stream",
     "text": [
      "문장길이 평균 :  13.927888796879312\n",
      "문장길이 최대 :  83\n",
      "문장길이 표준편차 :  11.454835366606218\n",
      "pad_sequences maxlen :  31\n",
      "전체 문장의 0.910472946580629%가 maxlen 설정값 이내에 포함됩니다. \n"
     ]
    }
   ],
   "source": [
    "total_data_text = list(X_train) + list(X_test)\n",
    "# 텍스트데이터 문장길이의 리스트를 생성한 후\n",
    "num_tokens = [len(tokens) for tokens in total_data_text]\n",
    "num_tokens = np.array(num_tokens)\n",
    "# 문장길이의 평균값, 최대값, 표준편차를 계산해 본다. \n",
    "print('문장길이 평균 : ', np.mean(num_tokens))\n",
    "print('문장길이 최대 : ', np.max(num_tokens))\n",
    "print('문장길이 표준편차 : ', np.std(num_tokens))\n",
    "\n",
    "# 예를들어, 최대 길이를 (평균 + 2*표준편차)로 한다면,  \n",
    "max_tokens = np.mean(num_tokens) + 1.5 * np.std(num_tokens)\n",
    "maxlen = int(max_tokens)\n",
    "print('pad_sequences maxlen : ', maxlen)\n",
    "print('전체 문장의 {}%가 maxlen 설정값 이내에 포함됩니다. '.format(np.sum(num_tokens < max_tokens) / len(num_tokens)))"
   ]
  },
  {
   "cell_type": "code",
   "execution_count": 50,
   "id": "4d592915",
   "metadata": {},
   "outputs": [
    {
     "name": "stdout",
     "output_type": "stream",
     "text": [
      "(143620, 31)\n"
     ]
    }
   ],
   "source": [
    "import tensorflow as tf\n",
    "\n",
    "X_train = tf.keras.preprocessing.sequence.pad_sequences(X_train,\n",
    "                                                        value=word_to_index[\"<PAD>\"],\n",
    "                                                        padding='pre', # 혹은 'pre'\n",
    "                                                        maxlen=maxlen)\n",
    "\n",
    "X_test = tf.keras.preprocessing.sequence.pad_sequences(X_test,\n",
    "                                                       value=word_to_index[\"<PAD>\"],\n",
    "                                                       padding='pre', # 혹은 'pre'\n",
    "                                                       maxlen=maxlen)\n",
    "\n",
    "\n",
    "print(X_train.shape)"
   ]
  },
  {
   "cell_type": "code",
   "execution_count": 51,
   "id": "64e0e669",
   "metadata": {},
   "outputs": [
    {
     "name": "stdout",
     "output_type": "stream",
     "text": [
      "(113620, 31)\n",
      "(113620,)\n"
     ]
    }
   ],
   "source": [
    "# validation set 30000건 분리\n",
    "x_val = X_train[:30000]   \n",
    "y_val = y_train[:30000]\n",
    "\n",
    "# validation set을 제외한 나머지 116182건\n",
    "partial_x_train = X_train[30000:]  \n",
    "partial_y_train = y_train[30000:]\n",
    "\n",
    "print(partial_x_train.shape)\n",
    "print(partial_y_train.shape)"
   ]
  },
  {
   "cell_type": "markdown",
   "id": "a826a3b2",
   "metadata": {},
   "source": [
    "RNN"
   ]
  },
  {
   "cell_type": "code",
   "execution_count": 52,
   "id": "20818b7b",
   "metadata": {},
   "outputs": [
    {
     "name": "stdout",
     "output_type": "stream",
     "text": [
      "Model: \"sequential_4\"\n",
      "_________________________________________________________________\n",
      "Layer (type)                 Output Shape              Param #   \n",
      "=================================================================\n",
      "embedding_3 (Embedding)      (None, None, 100)         1000000   \n",
      "_________________________________________________________________\n",
      "lstm_2 (LSTM)                (None, 8)                 3488      \n",
      "_________________________________________________________________\n",
      "dense_6 (Dense)              (None, 8)                 72        \n",
      "_________________________________________________________________\n",
      "dense_7 (Dense)              (None, 1)                 9         \n",
      "=================================================================\n",
      "Total params: 1,003,569\n",
      "Trainable params: 1,003,569\n",
      "Non-trainable params: 0\n",
      "_________________________________________________________________\n"
     ]
    }
   ],
   "source": [
    "vocab_size = 10000  # 어휘 사전의 크기입니다(10개의 단어)\n",
    "word_vector_dim = 100  # 단어 하나를 표현하는 임베딩 벡터의 차원수입니다. \n",
    "\n",
    "model = tf.keras.Sequential()\n",
    "model.add(tf.keras.layers.Embedding(vocab_size, word_vector_dim, input_shape=(None,)))\n",
    "model.add(tf.keras.layers.LSTM(8))   # 가장 널리 쓰이는 RNN인 LSTM 레이어를 사용하였습니다. 이때 LSTM state 벡터의 차원수는 8로 하였습니다. (변경 가능)\n",
    "model.add(tf.keras.layers.Dense(8, activation='relu'))\n",
    "model.add(tf.keras.layers.Dense(1, activation='sigmoid'))  # 최종 출력은 긍정/부정을 나타내는 1dim 입니다.\n",
    "\n",
    "model.summary()"
   ]
  },
  {
   "cell_type": "code",
   "execution_count": 53,
   "id": "d6ce1ca8",
   "metadata": {},
   "outputs": [
    {
     "name": "stdout",
     "output_type": "stream",
     "text": [
      "Epoch 1/20\n",
      "222/222 [==============================] - 3s 7ms/step - loss: 0.4698 - accuracy: 0.7940 - val_loss: 0.3716 - val_accuracy: 0.8385\n",
      "Epoch 2/20\n",
      "222/222 [==============================] - 1s 6ms/step - loss: 0.3442 - accuracy: 0.8547 - val_loss: 0.3588 - val_accuracy: 0.8420\n",
      "Epoch 3/20\n",
      "222/222 [==============================] - 1s 5ms/step - loss: 0.3186 - accuracy: 0.8666 - val_loss: 0.3570 - val_accuracy: 0.8435\n",
      "Epoch 4/20\n",
      "222/222 [==============================] - 1s 6ms/step - loss: 0.3004 - accuracy: 0.8755 - val_loss: 0.3590 - val_accuracy: 0.8436\n",
      "Epoch 5/20\n",
      "222/222 [==============================] - 1s 5ms/step - loss: 0.2841 - accuracy: 0.8835 - val_loss: 0.3631 - val_accuracy: 0.8440\n",
      "Epoch 6/20\n",
      "222/222 [==============================] - 1s 5ms/step - loss: 0.2686 - accuracy: 0.8907 - val_loss: 0.3727 - val_accuracy: 0.8427\n",
      "Epoch 7/20\n",
      "222/222 [==============================] - 1s 6ms/step - loss: 0.2545 - accuracy: 0.8980 - val_loss: 0.3826 - val_accuracy: 0.8426\n",
      "Epoch 8/20\n",
      "222/222 [==============================] - 1s 5ms/step - loss: 0.2404 - accuracy: 0.9047 - val_loss: 0.3904 - val_accuracy: 0.8413\n",
      "Epoch 9/20\n",
      "222/222 [==============================] - 1s 5ms/step - loss: 0.2260 - accuracy: 0.9115 - val_loss: 0.4016 - val_accuracy: 0.8417\n",
      "Epoch 10/20\n",
      "222/222 [==============================] - 1s 5ms/step - loss: 0.2125 - accuracy: 0.9173 - val_loss: 0.4177 - val_accuracy: 0.8428\n",
      "Epoch 11/20\n",
      "222/222 [==============================] - 1s 6ms/step - loss: 0.1988 - accuracy: 0.9239 - val_loss: 0.4300 - val_accuracy: 0.8416\n",
      "Epoch 12/20\n",
      "222/222 [==============================] - 1s 6ms/step - loss: 0.1845 - accuracy: 0.9304 - val_loss: 0.4492 - val_accuracy: 0.8396\n",
      "Epoch 13/20\n",
      "222/222 [==============================] - 1s 5ms/step - loss: 0.1718 - accuracy: 0.9354 - val_loss: 0.4707 - val_accuracy: 0.8378\n",
      "Epoch 14/20\n",
      "222/222 [==============================] - 1s 5ms/step - loss: 0.1601 - accuracy: 0.9404 - val_loss: 0.4864 - val_accuracy: 0.8347\n",
      "Epoch 15/20\n",
      "222/222 [==============================] - 1s 6ms/step - loss: 0.1488 - accuracy: 0.9458 - val_loss: 0.5114 - val_accuracy: 0.8347\n",
      "Epoch 16/20\n",
      "222/222 [==============================] - 1s 5ms/step - loss: 0.1375 - accuracy: 0.9505 - val_loss: 0.5482 - val_accuracy: 0.8321\n",
      "Epoch 17/20\n",
      "222/222 [==============================] - 1s 6ms/step - loss: 0.1277 - accuracy: 0.9550 - val_loss: 0.5603 - val_accuracy: 0.8306\n",
      "Epoch 18/20\n",
      "222/222 [==============================] - 1s 6ms/step - loss: 0.1195 - accuracy: 0.9576 - val_loss: 0.5920 - val_accuracy: 0.8264\n",
      "Epoch 19/20\n",
      "222/222 [==============================] - 1s 5ms/step - loss: 0.1125 - accuracy: 0.9605 - val_loss: 0.6116 - val_accuracy: 0.8255\n",
      "Epoch 20/20\n",
      "222/222 [==============================] - 1s 5ms/step - loss: 0.1062 - accuracy: 0.9632 - val_loss: 0.6291 - val_accuracy: 0.8258\n"
     ]
    }
   ],
   "source": [
    "model.compile(optimizer='adam',\n",
    "              loss='binary_crossentropy',\n",
    "              metrics=['accuracy'])\n",
    "              \n",
    "epochs=20  # 몇 epoch를 훈련하면 좋을지 결과를 보면서 바꾸어 봅시다. \n",
    "\n",
    "history = model.fit(partial_x_train,\n",
    "                    partial_y_train,\n",
    "                    epochs=epochs,\n",
    "                    batch_size=512,\n",
    "                    validation_data=(x_val, y_val),\n",
    "                    verbose=1)"
   ]
  },
  {
   "cell_type": "code",
   "execution_count": 54,
   "id": "647fad97",
   "metadata": {},
   "outputs": [
    {
     "name": "stdout",
     "output_type": "stream",
     "text": [
      "1513/1513 - 3s - loss: 0.6390 - accuracy: 0.8222\n",
      "[0.6389515995979309, 0.8221909999847412]\n"
     ]
    }
   ],
   "source": [
    "results = model.evaluate(X_test,  y_test, verbose=2)\n",
    "\n",
    "print(results)"
   ]
  },
  {
   "cell_type": "code",
   "execution_count": 55,
   "id": "b3aff0b3",
   "metadata": {},
   "outputs": [
    {
     "name": "stdout",
     "output_type": "stream",
     "text": [
      "dict_keys(['loss', 'accuracy', 'val_loss', 'val_accuracy'])\n"
     ]
    }
   ],
   "source": [
    "history_dict = history.history\n",
    "print(history_dict.keys()) # epoch에 따른 그래프를 그려볼 수 있는 항목들"
   ]
  },
  {
   "cell_type": "code",
   "execution_count": 56,
   "id": "642e66e2",
   "metadata": {},
   "outputs": [
    {
     "data": {
      "image/png": "[encoded data removed]",
      "text/plain": [
       "<Figure size 720x720 with 2 Axes>"
      ]
     },
     "metadata": {
      "needs_background": "light"
     },
     "output_type": "display_data"
    }
   ],
   "source": [
    "import matplotlib.pyplot as plt\n",
    "\n",
    "acc = history_dict['accuracy']\n",
    "val_acc = history_dict['val_accuracy']\n",
    "loss = history_dict['loss']\n",
    "val_loss = history_dict['val_loss']\n",
    "\n",
    "epochs = range(1, len(acc) + 1)\n",
    "\n",
    "fig , ax = plt.subplots(1,2,figsize = (10,10))\n",
    "\n",
    "ax[0].plot(epochs, loss, 'r', label='Training loss')\n",
    "ax[0].plot(epochs, val_loss, 'b', label='Validation loss')\n",
    "ax[0].set_title('Training and validation loss')\n",
    "ax[0].set_xlabel('Epochs')\n",
    "ax[0].set_ylabel('Loss')\n",
    "ax[0].legend()\n",
    "\n",
    "ax[1].plot(epochs, acc, 'r', label='Training acc')\n",
    "ax[1].plot(epochs, val_acc, 'b', label='Validation acc')\n",
    "ax[1].set_title('Training and validation accuracy')\n",
    "ax[1].set_xlabel('Epochs')\n",
    "ax[1].set_ylabel('Accuracy')\n",
    "ax[1].legend()\n",
    "\n",
    "plt.show()"
   ]
  },
  {
   "cell_type": "code",
   "execution_count": 57,
   "id": "415ef50c",
   "metadata": {},
   "outputs": [
    {
     "name": "stdout",
     "output_type": "stream",
     "text": [
      "(10000, 100)\n"
     ]
    }
   ],
   "source": [
    "embedding_layer = model.layers[0]\n",
    "weights = embedding_layer.get_weights()[0]\n",
    "print(weights.shape)    # shape: (vocab_size, embedding_dim)"
   ]
  },
  {
   "cell_type": "code",
   "execution_count": 58,
   "id": "ea404fbf",
   "metadata": {},
   "outputs": [],
   "source": [
    "import os\n",
    "\n",
    "# 학습한 Embedding 파라미터를 파일에 써서 저장합니다. \n",
    "word2vec_file_path = os.getenv('HOME')+'/aiffel/sentiment_classification/data/word2vec.txt'\n",
    "f = open(word2vec_file_path, 'w')\n",
    "f.write('{} {}\\n'.format(vocab_size-4, word_vector_dim))  # 몇개의 벡터를 얼마 사이즈로 기재할지 타이틀을 씁니다.\n",
    "\n",
    "# 단어 개수(에서 특수문자 4개는 제외하고)만큼의 워드 벡터를 파일에 기록합니다. \n",
    "vectors = model.get_weights()[0]\n",
    "for i in range(4,vocab_size):\n",
    "    f.write('{} {}\\n'.format(index_to_word[i], ' '.join(map(str, list(vectors[i, :])))))\n",
    "f.close()"
   ]
  },
  {
   "cell_type": "code",
   "execution_count": 59,
   "id": "1d6b7b18",
   "metadata": {},
   "outputs": [],
   "source": [
    "from gensim.models.keyedvectors import Word2VecKeyedVectors\n",
    "word_vectors = Word2VecKeyedVectors.load_word2vec_format(word2vec_file_path, binary=False)"
   ]
  },
  {
   "cell_type": "code",
   "execution_count": 60,
   "id": "4eb228be",
   "metadata": {},
   "outputs": [
    {
     "data": {
      "text/plain": [
       "[('정말', 0.6057486534118652),\n",
       " ('몰입', 0.5629903674125671),\n",
       " ('매력', 0.5474951863288879),\n",
       " ('등', 0.5439119935035706),\n",
       " ('그', 0.5412258505821228),\n",
       " ('다', 0.5391986966133118),\n",
       " ('그걸로', 0.5267331004142761),\n",
       " ('난', 0.5180496573448181),\n",
       " ('꾼', 0.5179941654205322),\n",
       " ('위상', 0.5140265822410583)]"
      ]
     },
     "execution_count": 60,
     "metadata": {},
     "output_type": "execute_result"
    }
   ],
   "source": [
    "word_vectors.similar_by_word(\"진짜\")"
   ]
  },
  {
   "cell_type": "code",
   "execution_count": 61,
   "id": "c769c170",
   "metadata": {},
   "outputs": [],
   "source": [
    "vocab_size = 10000    # 어휘 사전의 크기입니다(10,000개의 단어)\n",
    "word_vector_dim = 100  # 워드 벡터의 차원수 (변경가능한 하이퍼파라미터)\n",
    "\n",
    "embedding_matrix = np.random.rand(vocab_size, word_vector_dim)\n",
    "\n",
    "# embedding_matrix에 Word2Vec 워드벡터를 단어 하나씩마다 차례차례 카피한다.\n",
    "for i in range(4,vocab_size):\n",
    "    if index_to_word[i] in word_vectors:\n",
    "        embedding_matrix[i] = word_vectors[index_to_word[i]]\n"
   ]
  },
  {
   "cell_type": "code",
   "execution_count": 62,
   "id": "4219380d",
   "metadata": {},
   "outputs": [],
   "source": [
    "from tensorflow.keras.initializers import Constant\n"
   ]
  },
  {
   "cell_type": "markdown",
   "id": "5a822afc",
   "metadata": {},
   "source": [
    "global_max_pooling1d"
   ]
  },
  {
   "cell_type": "code",
   "execution_count": 63,
   "id": "3a92aef8",
   "metadata": {},
   "outputs": [
    {
     "name": "stdout",
     "output_type": "stream",
     "text": [
      "Model: \"sequential_5\"\n",
      "_________________________________________________________________\n",
      "Layer (type)                 Output Shape              Param #   \n",
      "=================================================================\n",
      "embedding_4 (Embedding)      (None, 31, 100)           1000000   \n",
      "_________________________________________________________________\n",
      "global_max_pooling1d_1 (Glob (None, 100)               0         \n",
      "_________________________________________________________________\n",
      "dense_8 (Dense)              (None, 8)                 808       \n",
      "_________________________________________________________________\n",
      "dense_9 (Dense)              (None, 1)                 9         \n",
      "=================================================================\n",
      "Total params: 1,000,817\n",
      "Trainable params: 1,000,817\n",
      "Non-trainable params: 0\n",
      "_________________________________________________________________\n"
     ]
    }
   ],
   "source": [
    "vocab_size = 10000  # 어휘 사전의 크기입니다(10개의 단어)\n",
    "word_vector_dim = 100   # 단어 하나를 표현하는 임베딩 벡터의 차원 수입니다. \n",
    "\n",
    "model = tf.keras.Sequential()\n",
    "model.add(tf.keras.layers.Embedding(vocab_size, \n",
    "                                 word_vector_dim, \n",
    "                                 embeddings_initializer=Constant(embedding_matrix),  # 카피한 임베딩을 여기서 활용\n",
    "                                 input_length=maxlen, \n",
    "                                 trainable=True)) \n",
    "model.add(tf.keras.layers.GlobalMaxPooling1D())\n",
    "model.add(tf.keras.layers.Dense(8, activation='relu'))\n",
    "model.add(tf.keras.layers.Dense(1, activation='sigmoid'))  # 최종 출력은 긍정/부정을 나타내는 1dim 입니다.\n",
    "\n",
    "model.summary()"
   ]
  },
  {
   "cell_type": "code",
   "execution_count": 64,
   "id": "fa95bdf2",
   "metadata": {},
   "outputs": [
    {
     "name": "stdout",
     "output_type": "stream",
     "text": [
      "Epoch 1/20\n",
      "222/222 [==============================] - 1s 4ms/step - loss: 0.6178 - accuracy: 0.7099 - val_loss: 0.4887 - val_accuracy: 0.8001\n",
      "Epoch 2/20\n",
      "222/222 [==============================] - 1s 3ms/step - loss: 0.4079 - accuracy: 0.8267 - val_loss: 0.3904 - val_accuracy: 0.8236\n",
      "Epoch 3/20\n",
      "222/222 [==============================] - 1s 3ms/step - loss: 0.3480 - accuracy: 0.8522 - val_loss: 0.3789 - val_accuracy: 0.8308\n",
      "Epoch 4/20\n",
      "222/222 [==============================] - 1s 4ms/step - loss: 0.3219 - accuracy: 0.8643 - val_loss: 0.3761 - val_accuracy: 0.8321\n",
      "Epoch 5/20\n",
      "222/222 [==============================] - 1s 3ms/step - loss: 0.3028 - accuracy: 0.8736 - val_loss: 0.3799 - val_accuracy: 0.8325\n",
      "Epoch 6/20\n",
      "222/222 [==============================] - 1s 4ms/step - loss: 0.2875 - accuracy: 0.8814 - val_loss: 0.3822 - val_accuracy: 0.8349\n",
      "Epoch 7/20\n",
      "222/222 [==============================] - 1s 3ms/step - loss: 0.2748 - accuracy: 0.8875 - val_loss: 0.3902 - val_accuracy: 0.8331\n",
      "Epoch 8/20\n",
      "222/222 [==============================] - 1s 3ms/step - loss: 0.2638 - accuracy: 0.8932 - val_loss: 0.3953 - val_accuracy: 0.8335\n",
      "Epoch 9/20\n",
      "222/222 [==============================] - 1s 3ms/step - loss: 0.2532 - accuracy: 0.8984 - val_loss: 0.4015 - val_accuracy: 0.8333\n",
      "Epoch 10/20\n",
      "222/222 [==============================] - 1s 3ms/step - loss: 0.2440 - accuracy: 0.9029 - val_loss: 0.4081 - val_accuracy: 0.8328\n",
      "Epoch 11/20\n",
      "222/222 [==============================] - 1s 4ms/step - loss: 0.2345 - accuracy: 0.9073 - val_loss: 0.4164 - val_accuracy: 0.8327\n",
      "Epoch 12/20\n",
      "222/222 [==============================] - 1s 3ms/step - loss: 0.2262 - accuracy: 0.9112 - val_loss: 0.4284 - val_accuracy: 0.8296\n",
      "Epoch 13/20\n",
      "222/222 [==============================] - 1s 3ms/step - loss: 0.2184 - accuracy: 0.9153 - val_loss: 0.4315 - val_accuracy: 0.8307\n",
      "Epoch 14/20\n",
      "222/222 [==============================] - 1s 4ms/step - loss: 0.2099 - accuracy: 0.9193 - val_loss: 0.4447 - val_accuracy: 0.8287\n",
      "Epoch 15/20\n",
      "222/222 [==============================] - 1s 3ms/step - loss: 0.2020 - accuracy: 0.9234 - val_loss: 0.4537 - val_accuracy: 0.8282\n",
      "Epoch 16/20\n",
      "222/222 [==============================] - 1s 4ms/step - loss: 0.1945 - accuracy: 0.9271 - val_loss: 0.4635 - val_accuracy: 0.8264\n",
      "Epoch 17/20\n",
      "222/222 [==============================] - 1s 4ms/step - loss: 0.1869 - accuracy: 0.9298 - val_loss: 0.4741 - val_accuracy: 0.8258\n",
      "Epoch 18/20\n",
      "222/222 [==============================] - 1s 3ms/step - loss: 0.1794 - accuracy: 0.9338 - val_loss: 0.4859 - val_accuracy: 0.8253\n",
      "Epoch 19/20\n",
      "222/222 [==============================] - 1s 4ms/step - loss: 0.1718 - accuracy: 0.9373 - val_loss: 0.5000 - val_accuracy: 0.8228\n",
      "Epoch 20/20\n",
      "222/222 [==============================] - 1s 4ms/step - loss: 0.1637 - accuracy: 0.9414 - val_loss: 0.5126 - val_accuracy: 0.8225\n"
     ]
    }
   ],
   "source": [
    "model.compile(optimizer='adam',\n",
    "              loss='binary_crossentropy',\n",
    "              metrics=['accuracy'])\n",
    "              \n",
    "epochs=20  # 몇 epoch를 훈련하면 좋을지 결과를 보면서 바꾸어 봅시다. \n",
    "\n",
    "history = model.fit(partial_x_train,\n",
    "                    partial_y_train,\n",
    "                    epochs=epochs,\n",
    "                    batch_size=512,\n",
    "                    validation_data=(x_val, y_val),\n",
    "                    verbose=1)"
   ]
  },
  {
   "cell_type": "code",
   "execution_count": 65,
   "id": "553fe52f",
   "metadata": {},
   "outputs": [
    {
     "name": "stdout",
     "output_type": "stream",
     "text": [
      "1513/1513 - 2s - loss: 0.5160 - accuracy: 0.8185\n",
      "[0.5159592032432556, 0.818512499332428]\n"
     ]
    }
   ],
   "source": [
    "results = model.evaluate(X_test,  y_test, verbose=2)\n",
    "\n",
    "print(results)"
   ]
  },
  {
   "cell_type": "code",
   "execution_count": 66,
   "id": "e44911ff",
   "metadata": {},
   "outputs": [
    {
     "name": "stdout",
     "output_type": "stream",
     "text": [
      "dict_keys(['loss', 'accuracy', 'val_loss', 'val_accuracy'])\n"
     ]
    },
    {
     "data": {
      "image/png": "[encoded data removed]",
      "text/plain": [
       "<Figure size 720x720 with 2 Axes>"
      ]
     },
     "metadata": {
      "needs_background": "light"
     },
     "output_type": "display_data"
    }
   ],
   "source": [
    "history_dict = history.history\n",
    "print(history_dict.keys()) # epoch에 따른 그래프를 그려볼 수 있는 항목들\n",
    "\n",
    "import matplotlib.pyplot as plt\n",
    "\n",
    "acc = history_dict['accuracy']\n",
    "val_acc = history_dict['val_accuracy']\n",
    "loss = history_dict['loss']\n",
    "val_loss = history_dict['val_loss']\n",
    "\n",
    "epochs = range(1, len(acc) + 1)\n",
    "\n",
    "fig , ax = plt.subplots(1,2,figsize = (10,10))\n",
    "\n",
    "ax[0].plot(epochs, loss, 'r', label='Training loss')\n",
    "ax[0].plot(epochs, val_loss, 'b', label='Validation loss')\n",
    "ax[0].set_title('Training and validation loss')\n",
    "ax[0].set_xlabel('Epochs')\n",
    "ax[0].set_ylabel('Loss')\n",
    "ax[0].legend()\n",
    "\n",
    "ax[1].plot(epochs, acc, 'r', label='Training acc')\n",
    "ax[1].plot(epochs, val_acc, 'b', label='Validation acc')\n",
    "ax[1].set_title('Training and validation accuracy')\n",
    "ax[1].set_xlabel('Epochs')\n",
    "ax[1].set_ylabel('Accuracy')\n",
    "ax[1].legend()\n",
    "\n",
    "plt.show()"
   ]
  },
  {
   "cell_type": "markdown",
   "id": "14996bc9",
   "metadata": {},
   "source": [
    "GRU"
   ]
  },
  {
   "cell_type": "code",
   "execution_count": 67,
   "id": "67036006",
   "metadata": {},
   "outputs": [
    {
     "name": "stdout",
     "output_type": "stream",
     "text": [
      "Model: \"sequential_6\"\n",
      "_________________________________________________________________\n",
      "Layer (type)                 Output Shape              Param #   \n",
      "=================================================================\n",
      "embedding_5 (Embedding)      (None, 31, 100)           1000000   \n",
      "_________________________________________________________________\n",
      "gru (GRU)                    (None, 128)               88320     \n",
      "_________________________________________________________________\n",
      "dense_10 (Dense)             (None, 1)                 129       \n",
      "=================================================================\n",
      "Total params: 1,088,449\n",
      "Trainable params: 1,088,449\n",
      "Non-trainable params: 0\n",
      "_________________________________________________________________\n"
     ]
    }
   ],
   "source": [
    "vocab_size = 10000  # 어휘 사전의 크기입니다(10개의 단어)\n",
    "word_vector_dim = 100   # 단어 하나를 표현하는 임베딩 벡터의 차원 수입니다. \n",
    "\n",
    "model = tf.keras.Sequential()\n",
    "model.add(tf.keras.layers.Embedding(vocab_size, \n",
    "                                 word_vector_dim, \n",
    "                                 embeddings_initializer=Constant(embedding_matrix),  # 카피한 임베딩을 여기서 활용\n",
    "                                 input_length=maxlen, \n",
    "                                 trainable=True)) \n",
    "model.add(tf.keras.layers.GRU(128))\n",
    "model.add(tf.keras.layers.Dense(1, activation='sigmoid'))  # 최종 출력은 긍정/부정을 나타내는 1dim 입니다.\n",
    "\n",
    "model.summary()"
   ]
  },
  {
   "cell_type": "code",
   "execution_count": 68,
   "id": "c344629d",
   "metadata": {},
   "outputs": [
    {
     "name": "stdout",
     "output_type": "stream",
     "text": [
      "Epoch 1/20\n",
      "222/222 [==============================] - 3s 10ms/step - loss: 0.3360 - accuracy: 0.8588 - val_loss: 0.3705 - val_accuracy: 0.8425\n",
      "Epoch 2/20\n",
      "222/222 [==============================] - 2s 8ms/step - loss: 0.2525 - accuracy: 0.8959 - val_loss: 0.3849 - val_accuracy: 0.8403\n",
      "Epoch 3/20\n",
      "222/222 [==============================] - 2s 8ms/step - loss: 0.2050 - accuracy: 0.9182 - val_loss: 0.4312 - val_accuracy: 0.8351\n",
      "Epoch 4/20\n",
      "222/222 [==============================] - 2s 8ms/step - loss: 0.1718 - accuracy: 0.9333 - val_loss: 0.4865 - val_accuracy: 0.8387\n",
      "Epoch 5/20\n",
      "222/222 [==============================] - 2s 8ms/step - loss: 0.1472 - accuracy: 0.9444 - val_loss: 0.5451 - val_accuracy: 0.8346\n",
      "Epoch 6/20\n",
      "222/222 [==============================] - 2s 8ms/step - loss: 0.1296 - accuracy: 0.9515 - val_loss: 0.5542 - val_accuracy: 0.8320\n",
      "Epoch 7/20\n",
      "222/222 [==============================] - 2s 8ms/step - loss: 0.1150 - accuracy: 0.9577 - val_loss: 0.6316 - val_accuracy: 0.8304\n",
      "Epoch 8/20\n",
      "222/222 [==============================] - 2s 8ms/step - loss: 0.1043 - accuracy: 0.9620 - val_loss: 0.6650 - val_accuracy: 0.8312\n",
      "Epoch 9/20\n",
      "222/222 [==============================] - 2s 8ms/step - loss: 0.0940 - accuracy: 0.9660 - val_loss: 0.7350 - val_accuracy: 0.8300\n",
      "Epoch 10/20\n",
      "222/222 [==============================] - 2s 8ms/step - loss: 0.0868 - accuracy: 0.9688 - val_loss: 0.7040 - val_accuracy: 0.8244\n",
      "Epoch 11/20\n",
      "222/222 [==============================] - 2s 8ms/step - loss: 0.0785 - accuracy: 0.9720 - val_loss: 0.7984 - val_accuracy: 0.8263\n",
      "Epoch 12/20\n",
      "222/222 [==============================] - 2s 8ms/step - loss: 0.0721 - accuracy: 0.9743 - val_loss: 0.8218 - val_accuracy: 0.8278\n",
      "Epoch 13/20\n",
      "222/222 [==============================] - 2s 8ms/step - loss: 0.0661 - accuracy: 0.9767 - val_loss: 0.8519 - val_accuracy: 0.8246\n",
      "Epoch 14/20\n",
      "222/222 [==============================] - 2s 8ms/step - loss: 0.0618 - accuracy: 0.9775 - val_loss: 0.9232 - val_accuracy: 0.8232\n",
      "Epoch 15/20\n",
      "222/222 [==============================] - 2s 8ms/step - loss: 0.0562 - accuracy: 0.9799 - val_loss: 0.9475 - val_accuracy: 0.8262\n",
      "Epoch 16/20\n",
      "222/222 [==============================] - 2s 8ms/step - loss: 0.0552 - accuracy: 0.9799 - val_loss: 0.9716 - val_accuracy: 0.8244\n",
      "Epoch 17/20\n",
      "222/222 [==============================] - 2s 8ms/step - loss: 0.0506 - accuracy: 0.9818 - val_loss: 1.0274 - val_accuracy: 0.8216\n",
      "Epoch 18/20\n",
      "222/222 [==============================] - 2s 8ms/step - loss: 0.0457 - accuracy: 0.9835 - val_loss: 1.0944 - val_accuracy: 0.8219\n",
      "Epoch 19/20\n",
      "222/222 [==============================] - 2s 8ms/step - loss: 0.0427 - accuracy: 0.9845 - val_loss: 1.1033 - val_accuracy: 0.8220\n",
      "Epoch 20/20\n",
      "222/222 [==============================] - 2s 8ms/step - loss: 0.0395 - accuracy: 0.9857 - val_loss: 1.1815 - val_accuracy: 0.8236\n"
     ]
    }
   ],
   "source": [
    "model.compile(optimizer='adam',\n",
    "              loss='binary_crossentropy',\n",
    "              metrics=['accuracy'])\n",
    "              \n",
    "epochs=20  # 몇 epoch를 훈련하면 좋을지 결과를 보면서 바꾸어 봅시다. \n",
    "\n",
    "history = model.fit(partial_x_train,\n",
    "                    partial_y_train,\n",
    "                    epochs=epochs,\n",
    "                    batch_size=512,\n",
    "                    validation_data=(x_val, y_val),\n",
    "                    verbose=1)"
   ]
  },
  {
   "cell_type": "code",
   "execution_count": 69,
   "id": "0be18ba1",
   "metadata": {},
   "outputs": [
    {
     "name": "stdout",
     "output_type": "stream",
     "text": [
      "1513/1513 - 3s - loss: 1.2120 - accuracy: 0.8182\n",
      "[1.212024211883545, 0.818161129951477]\n"
     ]
    }
   ],
   "source": [
    "results = model.evaluate(X_test,  y_test, verbose=2)\n",
    "\n",
    "print(results)"
   ]
  },
  {
   "cell_type": "code",
   "execution_count": 70,
   "id": "8a00c281",
   "metadata": {},
   "outputs": [
    {
     "name": "stdout",
     "output_type": "stream",
     "text": [
      "dict_keys(['loss', 'accuracy', 'val_loss', 'val_accuracy'])\n"
     ]
    },
    {
     "data": {
      "image/png": "[encoded data removed]",
      "text/plain": [
       "<Figure size 720x720 with 2 Axes>"
      ]
     },
     "metadata": {
      "needs_background": "light"
     },
     "output_type": "display_data"
    }
   ],
   "source": [
    "history_dict = history.history\n",
    "print(history_dict.keys()) # epoch에 따른 그래프를 그려볼 수 있는 항목들\n",
    "\n",
    "import matplotlib.pyplot as plt\n",
    "\n",
    "acc = history_dict['accuracy']\n",
    "val_acc = history_dict['val_accuracy']\n",
    "loss = history_dict['loss']\n",
    "val_loss = history_dict['val_loss']\n",
    "\n",
    "epochs = range(1, len(acc) + 1)\n",
    "\n",
    "fig , ax = plt.subplots(1,2,figsize = (10,10))\n",
    "\n",
    "ax[0].plot(epochs, loss, 'r', label='Training loss')\n",
    "ax[0].plot(epochs, val_loss, 'b', label='Validation loss')\n",
    "ax[0].set_title('Training and validation loss')\n",
    "ax[0].set_xlabel('Epochs')\n",
    "ax[0].set_ylabel('Loss')\n",
    "ax[0].legend()\n",
    "\n",
    "ax[1].plot(epochs, acc, 'r', label='Training acc')\n",
    "ax[1].plot(epochs, val_acc, 'b', label='Validation acc')\n",
    "ax[1].set_title('Training and validation accuracy')\n",
    "ax[1].set_xlabel('Epochs')\n",
    "ax[1].set_ylabel('Accuracy')\n",
    "ax[1].legend()\n",
    "\n",
    "plt.show()"
   ]
  },
  {
   "cell_type": "markdown",
   "id": "7d090ad1",
   "metadata": {},
   "source": [
    "LSTM"
   ]
  },
  {
   "cell_type": "code",
   "execution_count": 71,
   "id": "cea41d2d",
   "metadata": {},
   "outputs": [
    {
     "name": "stdout",
     "output_type": "stream",
     "text": [
      "Model: \"sequential_7\"\n",
      "_________________________________________________________________\n",
      "Layer (type)                 Output Shape              Param #   \n",
      "=================================================================\n",
      "embedding_6 (Embedding)      (None, 31, 100)           1000000   \n",
      "_________________________________________________________________\n",
      "lstm_3 (LSTM)                (None, 8)                 3488      \n",
      "_________________________________________________________________\n",
      "dense_11 (Dense)             (None, 8)                 72        \n",
      "_________________________________________________________________\n",
      "dense_12 (Dense)             (None, 1)                 9         \n",
      "=================================================================\n",
      "Total params: 1,003,569\n",
      "Trainable params: 1,003,569\n",
      "Non-trainable params: 0\n",
      "_________________________________________________________________\n"
     ]
    }
   ],
   "source": [
    "vocab_size = 10000  # 어휘 사전의 크기입니다(10개의 단어)\n",
    "word_vector_dim = 100  # 단어 하나를 표현하는 임베딩 벡터의 차원수입니다. \n",
    "\n",
    "model = tf.keras.Sequential()\n",
    "model.add(tf.keras.layers.Embedding(vocab_size, \n",
    "                                 word_vector_dim, \n",
    "                                 embeddings_initializer=Constant(embedding_matrix),  # 카피한 임베딩을 여기서 활용\n",
    "                                 input_length=maxlen, \n",
    "                                 trainable=True)) \n",
    "model.add(tf.keras.layers.LSTM(8))   # 가장 널리 쓰이는 RNN인 LSTM 레이어를 사용하였습니다. 이때 LSTM state 벡터의 차원수는 8로 하였습니다. (변경 가능)\n",
    "model.add(tf.keras.layers.Dense(8, activation='relu'))\n",
    "model.add(tf.keras.layers.Dense(1, activation='sigmoid'))  # 최종 출력은 긍정/부정을 나타내는 1dim 입니다.\n",
    "\n",
    "model.summary()"
   ]
  },
  {
   "cell_type": "code",
   "execution_count": 72,
   "id": "b946beee",
   "metadata": {},
   "outputs": [
    {
     "name": "stdout",
     "output_type": "stream",
     "text": [
      "Epoch 1/20\n",
      "222/222 [==============================] - 3s 7ms/step - loss: 0.4357 - accuracy: 0.8293 - val_loss: 0.3699 - val_accuracy: 0.8409\n",
      "Epoch 2/20\n",
      "222/222 [==============================] - 1s 6ms/step - loss: 0.3037 - accuracy: 0.8729 - val_loss: 0.3626 - val_accuracy: 0.8426\n",
      "Epoch 3/20\n",
      "222/222 [==============================] - 1s 6ms/step - loss: 0.2730 - accuracy: 0.8871 - val_loss: 0.3710 - val_accuracy: 0.8441\n",
      "Epoch 4/20\n",
      "222/222 [==============================] - 1s 6ms/step - loss: 0.2448 - accuracy: 0.9001 - val_loss: 0.3896 - val_accuracy: 0.8426\n",
      "Epoch 5/20\n",
      "222/222 [==============================] - 1s 5ms/step - loss: 0.2172 - accuracy: 0.9133 - val_loss: 0.4155 - val_accuracy: 0.8396\n",
      "Epoch 6/20\n",
      "222/222 [==============================] - 1s 5ms/step - loss: 0.1936 - accuracy: 0.9240 - val_loss: 0.4351 - val_accuracy: 0.8395\n",
      "Epoch 7/20\n",
      "222/222 [==============================] - 1s 6ms/step - loss: 0.1729 - accuracy: 0.9337 - val_loss: 0.4796 - val_accuracy: 0.8382\n",
      "Epoch 8/20\n",
      "222/222 [==============================] - 1s 5ms/step - loss: 0.1573 - accuracy: 0.9412 - val_loss: 0.4918 - val_accuracy: 0.8365\n",
      "Epoch 9/20\n",
      "222/222 [==============================] - 1s 5ms/step - loss: 0.1440 - accuracy: 0.9469 - val_loss: 0.5271 - val_accuracy: 0.8334\n",
      "Epoch 10/20\n",
      "222/222 [==============================] - 1s 5ms/step - loss: 0.1315 - accuracy: 0.9519 - val_loss: 0.5607 - val_accuracy: 0.8319\n",
      "Epoch 11/20\n",
      "222/222 [==============================] - 1s 6ms/step - loss: 0.1221 - accuracy: 0.9562 - val_loss: 0.6032 - val_accuracy: 0.8310\n",
      "Epoch 12/20\n",
      "222/222 [==============================] - 1s 6ms/step - loss: 0.1138 - accuracy: 0.9596 - val_loss: 0.6187 - val_accuracy: 0.8312\n",
      "Epoch 13/20\n",
      "222/222 [==============================] - 1s 5ms/step - loss: 0.1065 - accuracy: 0.9623 - val_loss: 0.6500 - val_accuracy: 0.8301\n",
      "Epoch 14/20\n",
      "222/222 [==============================] - 1s 6ms/step - loss: 0.1003 - accuracy: 0.9647 - val_loss: 0.6630 - val_accuracy: 0.8274\n",
      "Epoch 15/20\n",
      "222/222 [==============================] - 1s 5ms/step - loss: 0.0938 - accuracy: 0.9673 - val_loss: 0.7100 - val_accuracy: 0.8286\n",
      "Epoch 16/20\n",
      "222/222 [==============================] - 1s 6ms/step - loss: 0.0892 - accuracy: 0.9693 - val_loss: 0.7260 - val_accuracy: 0.8265\n",
      "Epoch 17/20\n",
      "222/222 [==============================] - 1s 6ms/step - loss: 0.0854 - accuracy: 0.9704 - val_loss: 0.7555 - val_accuracy: 0.8245\n",
      "Epoch 18/20\n",
      "222/222 [==============================] - 1s 6ms/step - loss: 0.0816 - accuracy: 0.9721 - val_loss: 0.7915 - val_accuracy: 0.8251\n",
      "Epoch 19/20\n",
      "222/222 [==============================] - 1s 5ms/step - loss: 0.0770 - accuracy: 0.9735 - val_loss: 0.8069 - val_accuracy: 0.8220\n",
      "Epoch 20/20\n",
      "222/222 [==============================] - 1s 6ms/step - loss: 0.0748 - accuracy: 0.9742 - val_loss: 0.8041 - val_accuracy: 0.8233\n"
     ]
    }
   ],
   "source": [
    "model.compile(optimizer='adam',\n",
    "              loss='binary_crossentropy',\n",
    "              metrics=['accuracy'])\n",
    "              \n",
    "epochs=20  # 몇 epoch를 훈련하면 좋을지 결과를 보면서 바꾸어 봅시다. \n",
    "\n",
    "history = model.fit(partial_x_train,\n",
    "                    partial_y_train,\n",
    "                    epochs=epochs,\n",
    "                    batch_size=512,\n",
    "                    validation_data=(x_val, y_val),\n",
    "                    verbose=1)"
   ]
  },
  {
   "cell_type": "code",
   "execution_count": 73,
   "id": "19ba78a6",
   "metadata": {},
   "outputs": [
    {
     "name": "stdout",
     "output_type": "stream",
     "text": [
      "1513/1513 - 3s - loss: 0.8280 - accuracy: 0.8157\n",
      "[0.8279699087142944, 0.8157225847244263]\n"
     ]
    }
   ],
   "source": [
    "results = model.evaluate(X_test,  y_test, verbose=2)\n",
    "\n",
    "print(results)"
   ]
  },
  {
   "cell_type": "code",
   "execution_count": 74,
   "id": "616ac77a",
   "metadata": {},
   "outputs": [
    {
     "name": "stdout",
     "output_type": "stream",
     "text": [
      "dict_keys(['loss', 'accuracy', 'val_loss', 'val_accuracy'])\n"
     ]
    },
    {
     "data": {
      "image/png": "[encoded data removed]",
      "text/plain": [
       "<Figure size 720x720 with 2 Axes>"
      ]
     },
     "metadata": {
      "needs_background": "light"
     },
     "output_type": "display_data"
    }
   ],
   "source": [
    "history_dict = history.history\n",
    "print(history_dict.keys()) # epoch에 따른 그래프를 그려볼 수 있는 항목들\n",
    "\n",
    "import matplotlib.pyplot as plt\n",
    "\n",
    "acc = history_dict['accuracy']\n",
    "val_acc = history_dict['val_accuracy']\n",
    "loss = history_dict['loss']\n",
    "val_loss = history_dict['val_loss']\n",
    "\n",
    "epochs = range(1, len(acc) + 1)\n",
    "\n",
    "fig , ax = plt.subplots(1,2,figsize = (10,10))\n",
    "\n",
    "ax[0].plot(epochs, loss, 'r', label='Training loss')\n",
    "ax[0].plot(epochs, val_loss, 'b', label='Validation loss')\n",
    "ax[0].set_title('Training and validation loss')\n",
    "ax[0].set_xlabel('Epochs')\n",
    "ax[0].set_ylabel('Loss')\n",
    "ax[0].legend()\n",
    "\n",
    "ax[1].plot(epochs, acc, 'r', label='Training acc')\n",
    "ax[1].plot(epochs, val_acc, 'b', label='Validation acc')\n",
    "ax[1].set_title('Training and validation accuracy')\n",
    "ax[1].set_xlabel('Epochs')\n",
    "ax[1].set_ylabel('Accuracy')\n",
    "ax[1].legend()\n",
    "\n",
    "plt.show()"
   ]
  },
  {
   "cell_type": "markdown",
   "id": "178eb601",
   "metadata": {},
   "source": [
    "대체 왜.. word2vec 적용하지 않은 LSTM이 적용한 LSTM보다 성능이 좋게 나오는걸까\n",
    "\n",
    "일반 LSTM :loss: 0.6390 - accuracy: 0.8222\n",
    "W2V Global : loss: 0.5160 - accuracy: 0.8185\n",
    "W2V GRU : - loss: 1.2120 - accuracy: 0.8182\n",
    "W2V LSTM : loss: 0.8280 - accuracy: 0.8157\n",
    "\n",
    "이렇게 모아두고 보니 accuracy 일반 LSTM이 제일 좋게 나왔지만,    \n",
    "loss까지 고려하면 word2vec을 적용한 global도 나쁘지 않은 성적이라 생각이 들었다."
   ]
  }
 ],
 "metadata": {
  "kernelspec": {
   "display_name": "Python 3 (ipykernel)",
   "language": "python",
   "name": "python3"
  },
  "language_info": {
   "codemirror_mode": {
    "name": "ipython",
    "version": 3
   },
   "file_extension": ".py",
   "mimetype": "text/x-python",
   "name": "python",
   "nbconvert_exporter": "python",
   "pygments_lexer": "ipython3",
   "version": "3.9.7"
  }
 },
 "nbformat": 4,
 "nbformat_minor": 5
}
