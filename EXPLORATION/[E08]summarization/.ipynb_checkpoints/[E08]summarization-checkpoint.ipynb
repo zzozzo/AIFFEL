{
 "cells": [
  {
   "cell_type": "markdown",
   "id": "a4cfe6f2",
   "metadata": {},
   "source": [
    "# 1. 패키지 import + 데이터 다운로드\n"
   ]
  },
  {
   "cell_type": "code",
   "execution_count": 2,
   "id": "96125947",
   "metadata": {},
   "outputs": [
    {
     "name": "stderr",
     "output_type": "stream",
     "text": [
      "[nltk_data] Downloading package stopwords to /aiffel/nltk_data...\n",
      "[nltk_data]   Package stopwords is already up-to-date!\n"
     ]
    }
   ],
   "source": [
    "import nltk\n",
    "nltk.download('stopwords')\n",
    "\n",
    "import numpy as np\n",
    "import pandas as pd\n",
    "import os\n",
    "import re\n",
    "import matplotlib.pyplot as plt\n",
    "from nltk.corpus import stopwords\n",
    "from bs4 import BeautifulSoup \n",
    "from tensorflow.keras.preprocessing.text import Tokenizer \n",
    "from tensorflow.keras.preprocessing.sequence import pad_sequences\n",
    "import urllib.request\n",
    "import warnings\n",
    "warnings.filterwarnings(\"ignore\", category=UserWarning, module='bs4')"
   ]
  },
  {
   "cell_type": "code",
   "execution_count": 3,
   "id": "9488c220",
   "metadata": {},
   "outputs": [
    {
     "name": "stdout",
     "output_type": "stream",
     "text": [
      "전체 샘플수 : 98401\n"
     ]
    }
   ],
   "source": [
    "import urllib.request\n",
    "urllib.request.urlretrieve(\"https://raw.githubusercontent.com/sunnysai12345/News_Summary/master/news_summary_more.csv\", filename=\"news_summary_more.csv\")\n",
    "data = pd.read_csv('news_summary_more.csv', encoding='iso-8859-1')\n",
    "\n",
    "#샘플수 확인\n",
    "print('전체 샘플수 :', (len(data)))"
   ]
  },
  {
   "cell_type": "code",
   "execution_count": 4,
   "id": "1f483509",
   "metadata": {},
   "outputs": [
    {
     "data": {
      "text/html": [
       "<div>\n",
       "<style scoped>\n",
       "    .dataframe tbody tr th:only-of-type {\n",
       "        vertical-align: middle;\n",
       "    }\n",
       "\n",
       "    .dataframe tbody tr th {\n",
       "        vertical-align: top;\n",
       "    }\n",
       "\n",
       "    .dataframe thead th {\n",
       "        text-align: right;\n",
       "    }\n",
       "</style>\n",
       "<table border=\"1\" class=\"dataframe\">\n",
       "  <thead>\n",
       "    <tr style=\"text-align: right;\">\n",
       "      <th></th>\n",
       "      <th>headlines</th>\n",
       "      <th>text</th>\n",
       "    </tr>\n",
       "  </thead>\n",
       "  <tbody>\n",
       "    <tr>\n",
       "      <th>39895</th>\n",
       "      <td>Afghanistan pacer breaks stump into two agains...</td>\n",
       "      <td>Afghanistan pacer Shapoor Zadran's delivery to...</td>\n",
       "    </tr>\n",
       "    <tr>\n",
       "      <th>39188</th>\n",
       "      <td>Orangutan tries to fight off bulldozer destroy...</td>\n",
       "      <td>A footage released by an animal welfare group ...</td>\n",
       "    </tr>\n",
       "    <tr>\n",
       "      <th>29077</th>\n",
       "      <td>4 students top CBSE Class 10 Board exams with ...</td>\n",
       "      <td>Prakhar Mittal from Gurugram, Rimjhim Agrawal ...</td>\n",
       "    </tr>\n",
       "    <tr>\n",
       "      <th>94606</th>\n",
       "      <td>Yoga Club inaugurated in Japanese Parliament</td>\n",
       "      <td>A 'Yoga Club' inspired by Indian spiritual lea...</td>\n",
       "    </tr>\n",
       "    <tr>\n",
       "      <th>56686</th>\n",
       "      <td>'Feminism' named Word of the Year by Merriam-W...</td>\n",
       "      <td>'Feminism' has been named the Word of the Year...</td>\n",
       "    </tr>\n",
       "    <tr>\n",
       "      <th>34979</th>\n",
       "      <td>Gave away Tipu Sultan's sword as it brought ba...</td>\n",
       "      <td>Vijay Mallya has told a London court that he g...</td>\n",
       "    </tr>\n",
       "    <tr>\n",
       "      <th>83307</th>\n",
       "      <td>Off-duty female cop subdues flier opening emer...</td>\n",
       "      <td>Off-duty female police officer Pamela Minchew ...</td>\n",
       "    </tr>\n",
       "    <tr>\n",
       "      <th>57117</th>\n",
       "      <td>We don't want to become a bank: MobiKwik Co-fo...</td>\n",
       "      <td>When asked about expanding to a payments bank,...</td>\n",
       "    </tr>\n",
       "    <tr>\n",
       "      <th>16629</th>\n",
       "      <td>PM Modi blind to plight of manual scavengers: ...</td>\n",
       "      <td>Terming Swachh Bharat as a \"hollow slogan\", Co...</td>\n",
       "    </tr>\n",
       "    <tr>\n",
       "      <th>54272</th>\n",
       "      <td>Pakistani lawmaker demands ban on Doraemon</td>\n",
       "      <td>A Pakistani lawmaker has submitted a resolutio...</td>\n",
       "    </tr>\n",
       "  </tbody>\n",
       "</table>\n",
       "</div>"
      ],
      "text/plain": [
       "                                               headlines  \\\n",
       "39895  Afghanistan pacer breaks stump into two agains...   \n",
       "39188  Orangutan tries to fight off bulldozer destroy...   \n",
       "29077  4 students top CBSE Class 10 Board exams with ...   \n",
       "94606       Yoga Club inaugurated in Japanese Parliament   \n",
       "56686  'Feminism' named Word of the Year by Merriam-W...   \n",
       "34979  Gave away Tipu Sultan's sword as it brought ba...   \n",
       "83307  Off-duty female cop subdues flier opening emer...   \n",
       "57117  We don't want to become a bank: MobiKwik Co-fo...   \n",
       "16629  PM Modi blind to plight of manual scavengers: ...   \n",
       "54272         Pakistani lawmaker demands ban on Doraemon   \n",
       "\n",
       "                                                    text  \n",
       "39895  Afghanistan pacer Shapoor Zadran's delivery to...  \n",
       "39188  A footage released by an animal welfare group ...  \n",
       "29077  Prakhar Mittal from Gurugram, Rimjhim Agrawal ...  \n",
       "94606  A 'Yoga Club' inspired by Indian spiritual lea...  \n",
       "56686  'Feminism' has been named the Word of the Year...  \n",
       "34979  Vijay Mallya has told a London court that he g...  \n",
       "83307  Off-duty female police officer Pamela Minchew ...  \n",
       "57117  When asked about expanding to a payments bank,...  \n",
       "16629  Terming Swachh Bharat as a \"hollow slogan\", Co...  \n",
       "54272  A Pakistani lawmaker has submitted a resolutio...  "
      ]
     },
     "execution_count": 4,
     "metadata": {},
     "output_type": "execute_result"
    }
   ],
   "source": [
    "data.sample(10)"
   ]
  },
  {
   "cell_type": "markdown",
   "id": "b3e3dd46",
   "metadata": {},
   "source": [
    "- 추상적 요약을 하는 경우에는 text를 본문, headlines를 이미 요약된 데이터로 설정할 수 있음   \n",
    "- 추출적 요약을 하는 경우에는 text열만을 사용"
   ]
  },
  {
   "cell_type": "markdown",
   "id": "d864403a",
   "metadata": {},
   "source": [
    "# 2. 데이터 전처리\n",
    "- 중복 데이터 처리하기   \n",
    "- null값 처리하기   \n",
    "- 정규화 하기   \n",
    "- 불용어 제거   \n",
    "- 데이터 샘플 최대 길이 정하기   \n",
    "- 시작, 종료 토큰 추가하기      \n",
    "- 데이터셋 분리하기   \n",
    "- 정수 인코딩   \n",
    "- 패딩하기   "
   ]
  },
  {
   "cell_type": "markdown",
   "id": "fc34e861",
   "metadata": {},
   "source": [
    "### 1) 중복 데이터 처리하기 "
   ]
  },
  {
   "cell_type": "code",
   "execution_count": 5,
   "id": "0f7b48c1",
   "metadata": {},
   "outputs": [
    {
     "name": "stdout",
     "output_type": "stream",
     "text": [
      "headlines 열에서 중복을 배제한 유일한 샘플의 수 : 98280\n",
      "text 열에서 중복을 배제한 유일한 샘플의 수 : 98360\n"
     ]
    }
   ],
   "source": [
    "#중복 확인하기\n",
    "print('headlines 열에서 중복을 배제한 유일한 샘플의 수 :', data['headlines'].nunique())\n",
    "print('text 열에서 중복을 배제한 유일한 샘플의 수 :', data['text'].nunique())"
   ]
  },
  {
   "cell_type": "code",
   "execution_count": 6,
   "id": "07c0745a",
   "metadata": {},
   "outputs": [
    {
     "name": "stdout",
     "output_type": "stream",
     "text": [
      "전체 샘플수 : 98360\n"
     ]
    }
   ],
   "source": [
    "#중복 제거하기\n",
    "# inplace=True 를 설정하면 DataFrame 타입 값을 return 하지 않고 data 내부를 직접적으로 바꿉니다\n",
    "data.drop_duplicates(subset = ['text'], inplace=True)\n",
    "print('전체 샘플수 :', (len(data)))"
   ]
  },
  {
   "cell_type": "markdown",
   "id": "76e31b81",
   "metadata": {},
   "source": [
    "### 2) null값 처리하기"
   ]
  },
  {
   "cell_type": "code",
   "execution_count": 13,
   "id": "62ad26fe",
   "metadata": {},
   "outputs": [
    {
     "name": "stdout",
     "output_type": "stream",
     "text": [
      "headlines    0\n",
      "text         0\n",
      "dtype: int64\n"
     ]
    }
   ],
   "source": [
    "#null값 확인하기\n",
    "print(data.isnull().sum())"
   ]
  },
  {
   "cell_type": "markdown",
   "id": "5df28858",
   "metadata": {},
   "source": [
    "null 값이 없다!!   \n",
    "우선 제거를 패스한다"
   ]
  },
  {
   "cell_type": "markdown",
   "id": "ff0cee23",
   "metadata": {},
   "source": [
    "### 3) 정규화 하기"
   ]
  },
  {
   "cell_type": "code",
   "execution_count": 14,
   "id": "2775bd8e",
   "metadata": {},
   "outputs": [
    {
     "name": "stdout",
     "output_type": "stream",
     "text": [
      "정규화 사전의 수:  120\n"
     ]
    }
   ],
   "source": [
    "#텍스트 = 정규화 사전\n",
    "contractions = {\"ain't\": \"is not\", \"aren't\": \"are not\",\"can't\": \"cannot\", \"'cause\": \"because\", \"could've\": \"could have\", \"couldn't\": \"could not\",\n",
    "                           \"didn't\": \"did not\",  \"doesn't\": \"does not\", \"don't\": \"do not\", \"hadn't\": \"had not\", \"hasn't\": \"has not\", \"haven't\": \"have not\",\n",
    "                           \"he'd\": \"he would\",\"he'll\": \"he will\", \"he's\": \"he is\", \"how'd\": \"how did\", \"how'd'y\": \"how do you\", \"how'll\": \"how will\", \"how's\": \"how is\",\n",
    "                           \"I'd\": \"I would\", \"I'd've\": \"I would have\", \"I'll\": \"I will\", \"I'll've\": \"I will have\",\"I'm\": \"I am\", \"I've\": \"I have\", \"i'd\": \"i would\",\n",
    "                           \"i'd've\": \"i would have\", \"i'll\": \"i will\",  \"i'll've\": \"i will have\",\"i'm\": \"i am\", \"i've\": \"i have\", \"isn't\": \"is not\", \"it'd\": \"it would\",\n",
    "                           \"it'd've\": \"it would have\", \"it'll\": \"it will\", \"it'll've\": \"it will have\",\"it's\": \"it is\", \"let's\": \"let us\", \"ma'am\": \"madam\",\n",
    "                           \"mayn't\": \"may not\", \"might've\": \"might have\",\"mightn't\": \"might not\",\"mightn't've\": \"might not have\", \"must've\": \"must have\",\n",
    "                           \"mustn't\": \"must not\", \"mustn't've\": \"must not have\", \"needn't\": \"need not\", \"needn't've\": \"need not have\",\"o'clock\": \"of the clock\",\n",
    "                           \"oughtn't\": \"ought not\", \"oughtn't've\": \"ought not have\", \"shan't\": \"shall not\", \"sha'n't\": \"shall not\", \"shan't've\": \"shall not have\",\n",
    "                           \"she'd\": \"she would\", \"she'd've\": \"she would have\", \"she'll\": \"she will\", \"she'll've\": \"she will have\", \"she's\": \"she is\",\n",
    "                           \"should've\": \"should have\", \"shouldn't\": \"should not\", \"shouldn't've\": \"should not have\", \"so've\": \"so have\",\"so's\": \"so as\",\n",
    "                           \"this's\": \"this is\",\"that'd\": \"that would\", \"that'd've\": \"that would have\", \"that's\": \"that is\", \"there'd\": \"there would\",\n",
    "                           \"there'd've\": \"there would have\", \"there's\": \"there is\", \"here's\": \"here is\",\"they'd\": \"they would\", \"they'd've\": \"they would have\",\n",
    "                           \"they'll\": \"they will\", \"they'll've\": \"they will have\", \"they're\": \"they are\", \"they've\": \"they have\", \"to've\": \"to have\",\n",
    "                           \"wasn't\": \"was not\", \"we'd\": \"we would\", \"we'd've\": \"we would have\", \"we'll\": \"we will\", \"we'll've\": \"we will have\", \"we're\": \"we are\",\n",
    "                           \"we've\": \"we have\", \"weren't\": \"were not\", \"what'll\": \"what will\", \"what'll've\": \"what will have\", \"what're\": \"what are\",\n",
    "                           \"what's\": \"what is\", \"what've\": \"what have\", \"when's\": \"when is\", \"when've\": \"when have\", \"where'd\": \"where did\", \"where's\": \"where is\",\n",
    "                           \"where've\": \"where have\", \"who'll\": \"who will\", \"who'll've\": \"who will have\", \"who's\": \"who is\", \"who've\": \"who have\",\n",
    "                           \"why's\": \"why is\", \"why've\": \"why have\", \"will've\": \"will have\", \"won't\": \"will not\", \"won't've\": \"will not have\",\n",
    "                           \"would've\": \"would have\", \"wouldn't\": \"would not\", \"wouldn't've\": \"would not have\", \"y'all\": \"you all\",\n",
    "                           \"y'all'd\": \"you all would\",\"y'all'd've\": \"you all would have\",\"y'all're\": \"you all are\",\"y'all've\": \"you all have\",\n",
    "                           \"you'd\": \"you would\", \"you'd've\": \"you would have\", \"you'll\": \"you will\", \"you'll've\": \"you will have\",\n",
    "                           \"you're\": \"you are\", \"you've\": \"you have\"}\n",
    "\n",
    "print(\"정규화 사전의 수: \", len(contractions))"
   ]
  },
  {
   "cell_type": "markdown",
   "id": "02e9ad13",
   "metadata": {},
   "source": [
    "### 4) 불용어 제거 "
   ]
  },
  {
   "cell_type": "code",
   "execution_count": 19,
   "id": "649b8eda",
   "metadata": {},
   "outputs": [],
   "source": [
    "#불용어 제거\n",
    "# 데이터 전처리 함수\n",
    "def preprocess_sentence(sentence, remove_stopwords=True):\n",
    "    sentence = sentence.lower() # 텍스트 소문자화\n",
    "    sentence = BeautifulSoup(sentence, \"lxml\").text # <br />, <a href = ...> 등의 html 태그 제거\n",
    "    sentence = re.sub(r'\\([^)]*\\)', '', sentence) # 괄호로 닫힌 문자열 (...) 제거 Ex) my husband (and myself!) for => my husband for\n",
    "    sentence = re.sub('\"','', sentence) # 쌍따옴표 \" 제거\n",
    "    sentence = ' '.join([contractions[t] if t in contractions else t for t in sentence.split(\" \")]) # 약어 정규화\n",
    "    sentence = re.sub(r\"'s\\b\",\"\", sentence) # 소유격 제거. Ex) roland's -> roland\n",
    "    sentence = re.sub(\"[^a-zA-Z]\", \" \", sentence) # 영어 외 문자(숫자, 특수문자 등) 공백으로 변환\n",
    "    sentence = re.sub('[m]{2,}', 'mm', sentence) # m이 3개 이상이면 2개로 변경. Ex) ummmmmmm yeah -> umm yeah\n",
    "    sentence = re.sub('https?://\\S+|www\\.\\S+', '', sentence)#url 제거\n",
    "    \n",
    "    # 불용어 제거 (Text)\n",
    "    if remove_stopwords:\n",
    "        tokens = ' '.join(word for word in sentence.split() if not word in stopwords.words('english') if len(word) > 1)\n",
    "    # 불용어 미제거 (Summary)\n",
    "    else:\n",
    "        tokens = ' '.join(word for word in sentence.split() if len(word) > 1)\n",
    "    return tokens"
   ]
  },
  {
   "cell_type": "code",
   "execution_count": 20,
   "id": "ec493073",
   "metadata": {},
   "outputs": [
    {
     "name": "stdout",
     "output_type": "stream",
     "text": [
      "Text 전처리 후 결과:  ['saurav kant alumnus upgrad iiit pg program machine learning artificial intelligence sr systems engineer infosys almost years work experience program upgrad degree career support helped transition data scientist tech mahindra salary hike upgrad online power learning powered lakh careers', 'kunal shah credit card bill payment platform cred gave users chance win free food swiggy one year pranav kaushik delhi techie bagged reward spending cred coins users get one cred coin per rupee bill paid used avail rewards brands like ixigo bookmyshow ubereats cult fit', 'new zealand defeated india wickets fourth odi hamilton thursday win first match five match odi series india lost international match rohit sharma captaincy consecutive victories dating back march match witnessed india getting seventh lowest total odi cricket history', 'aegon life iterm insurance plan customers enjoy tax benefits premiums paid save taxes plan provides life cover age years also customers options insure critical illnesses disability accidental death benefit rider life cover age years', 'speaking sexual harassment allegations rajkumar hirani sonam kapoor said known hirani many years true metoo movement get derailed metoo movement always believe woman case need reserve judgment added hirani accused assistant worked sanju']\n"
     ]
    }
   ],
   "source": [
    "clean_text = []\n",
    "# 전체 Text 데이터에 대한 전처리 : 10분 이상 시간이 걸릴 수 있습니다. \n",
    "for s in data['text']:\n",
    "    clean_text.append(preprocess_sentence(s))\n",
    "\n",
    "# 전처리 후 출력\n",
    "print(\"Text 전처리 후 결과: \", clean_text[:5])"
   ]
  },
  {
   "cell_type": "code",
   "execution_count": 21,
   "id": "b5861125",
   "metadata": {},
   "outputs": [
    {
     "name": "stdout",
     "output_type": "stream",
     "text": [
      "headlines 전처리 후 결과:  ['upgrad learner switches to career in ml al with salary hike', 'delhi techie wins free food from swiggy for one year on cred', 'new zealand end rohit sharma led india match winning streak', 'aegon life iterm insurance plan helps customers save tax', 'have known hirani for yrs what if metoo claims are not true sonam']\n"
     ]
    }
   ],
   "source": [
    "clean_headlines = []\n",
    "# 전체 Summary 데이터에 대한 전처리 : 5분 이상 시간이 걸릴 수 있습니다. \n",
    "for s in data['headlines']:\n",
    "    clean_headlines.append(preprocess_sentence(s, False))\n",
    "\n",
    "print(\"headlines 전처리 후 결과: \", clean_headlines[:5])"
   ]
  },
  {
   "cell_type": "code",
   "execution_count": 135,
   "id": "7a0235f2",
   "metadata": {},
   "outputs": [
    {
     "name": "stdout",
     "output_type": "stream",
     "text": [
      "headlines         0\n",
      "text              0\n",
      "decoder_input     0\n",
      "decoder_target    0\n",
      "dtype: int64\n"
     ]
    }
   ],
   "source": [
    "print(data.isnull().sum())"
   ]
  },
  {
   "cell_type": "markdown",
   "id": "ce3478f2",
   "metadata": {},
   "source": [
    "### 5) 데이터 샘플 최대 길이 정하기 "
   ]
  },
  {
   "cell_type": "code",
   "execution_count": 28,
   "id": "009b834d",
   "metadata": {},
   "outputs": [
    {
     "name": "stdout",
     "output_type": "stream",
     "text": [
      "텍스트의 최소 길이 : 1\n",
      "텍스트의 최대 길이 : 91\n",
      "텍스트의 평균 길이 : 58.23813542090281\n",
      "텍스트의 길이 분산 : 2.3842567599226006\n",
      "헤드라인의 최소 길이 : 1\n",
      "헤드라인의 최대 길이 : 18\n",
      "헤드라인의 평균 길이 : 9.553660024400163\n"
     ]
    },
    {
     "data": {
      "image/png": "[encoded data removed]",
      "text/plain": [
       "<Figure size 432x288 with 2 Axes>"
      ]
     },
     "metadata": {
      "needs_background": "light"
     },
     "output_type": "display_data"
    },
    {
     "data": {
      "image/png": "[encoded data removed]",
      "text/plain": [
       "<Figure size 432x288 with 1 Axes>"
      ]
     },
     "metadata": {
      "needs_background": "light"
     },
     "output_type": "display_data"
    },
    {
     "data": {
      "image/png": "[encoded data removed]",
      "text/plain": [
       "<Figure size 432x288 with 1 Axes>"
      ]
     },
     "metadata": {
      "needs_background": "light"
     },
     "output_type": "display_data"
    }
   ],
   "source": [
    "# 길이 분포 확인하기\n",
    "import matplotlib.pyplot as plt\n",
    "\n",
    "text_len = [len(s.split()) for s in data['text']]\n",
    "headlines_len = [len(s.split()) for s in data['headlines']]\n",
    "\n",
    "print('텍스트의 최소 길이 : {}'.format(np.min(text_len)))\n",
    "print('텍스트의 최대 길이 : {}'.format(np.max(text_len)))\n",
    "print('텍스트의 평균 길이 : {}'.format(np.mean(text_len)))\n",
    "print('텍스트의 길이 분산 : {}'.format(np.std(text_len)))\n",
    "print('헤드라인의 최소 길이 : {}'.format(np.min(headlines_len)))\n",
    "print('헤드라인의 최대 길이 : {}'.format(np.max(headlines_len)))\n",
    "print('헤드라인의 평균 길이 : {}'.format(np.mean(headlines_len)))\n",
    "\n",
    "plt.subplot(1,2,1)\n",
    "plt.boxplot(text_len)\n",
    "plt.title('text')\n",
    "plt.subplot(1,2,2)\n",
    "plt.boxplot(headlines_len)\n",
    "plt.title('headlines')\n",
    "plt.tight_layout()\n",
    "plt.show()\n",
    "\n",
    "plt.title('text')\n",
    "plt.hist(text_len, bins = 40)\n",
    "plt.xlabel('length of samples')\n",
    "plt.ylabel('number of samples')\n",
    "plt.show()\n",
    "\n",
    "plt.title('headlines')\n",
    "plt.hist(headlines_len, bins = 40)\n",
    "plt.xlabel('length of samples')\n",
    "plt.ylabel('number of samples')\n",
    "plt.show()"
   ]
  },
  {
   "cell_type": "markdown",
   "id": "3a607cf6",
   "metadata": {},
   "source": [
    "정제된 데이터를 확인해보니 다음과 같은 특징이 발견되었다.   \n",
    "1. 텍스트와 헤드라인 모두 데이터의 최소 크기가 1이다   \n",
    "2. 텍스트 데이터의 길이는 평균 약 58이며, 데이터 대부분이 약 50대 중후반~60대 초반에 몰려 있는 것을 볼 수 있다.   \n",
    "3. 헤드라인 데이터의 길이는 평균 약 10이며, 전반적으로 고르게 분포한다.   \n",
    "\n",
    "여기서 궁금한 점   \n",
    "->과연 데이터 길이가 1인 데이터는 무엇일까..   \n",
    "리소스 낭비하긴하지만 찾아보자   \n"
   ]
  },
  {
   "cell_type": "code",
   "execution_count": 61,
   "id": "ff1885a3",
   "metadata": {},
   "outputs": [
    {
     "data": {
      "text/html": [
       "<div>\n",
       "<style scoped>\n",
       "    .dataframe tbody tr th:only-of-type {\n",
       "        vertical-align: middle;\n",
       "    }\n",
       "\n",
       "    .dataframe tbody tr th {\n",
       "        vertical-align: top;\n",
       "    }\n",
       "\n",
       "    .dataframe thead th {\n",
       "        text-align: right;\n",
       "    }\n",
       "</style>\n",
       "<table border=\"1\" class=\"dataframe\">\n",
       "  <thead>\n",
       "    <tr style=\"text-align: right;\">\n",
       "      <th></th>\n",
       "      <th>headlines</th>\n",
       "      <th>text</th>\n",
       "    </tr>\n",
       "  </thead>\n",
       "  <tbody>\n",
       "    <tr>\n",
       "      <th>52</th>\n",
       "      <td>headlines</td>\n",
       "      <td>text</td>\n",
       "    </tr>\n",
       "  </tbody>\n",
       "</table>\n",
       "</div>"
      ],
      "text/plain": [
       "    headlines  text\n",
       "52  headlines  text"
      ]
     },
     "execution_count": 61,
     "metadata": {},
     "output_type": "execute_result"
    }
   ],
   "source": [
    "data[data[\"text\"].str.len()<100]"
   ]
  },
  {
   "cell_type": "code",
   "execution_count": 66,
   "id": "e34e9a3d",
   "metadata": {},
   "outputs": [
    {
     "data": {
      "text/html": [
       "<div>\n",
       "<style scoped>\n",
       "    .dataframe tbody tr th:only-of-type {\n",
       "        vertical-align: middle;\n",
       "    }\n",
       "\n",
       "    .dataframe tbody tr th {\n",
       "        vertical-align: top;\n",
       "    }\n",
       "\n",
       "    .dataframe thead th {\n",
       "        text-align: right;\n",
       "    }\n",
       "</style>\n",
       "<table border=\"1\" class=\"dataframe\">\n",
       "  <thead>\n",
       "    <tr style=\"text-align: right;\">\n",
       "      <th></th>\n",
       "      <th>headlines</th>\n",
       "      <th>text</th>\n",
       "    </tr>\n",
       "  </thead>\n",
       "  <tbody>\n",
       "    <tr>\n",
       "      <th>4281</th>\n",
       "      <td>No more skipping breakfast with '3 Minute Brea...</td>\n",
       "      <td>Backed by the observation that breakfast is th...</td>\n",
       "    </tr>\n",
       "    <tr>\n",
       "      <th>22479</th>\n",
       "      <td>Vodafone RED Postpaid offers Amazon Prime at n...</td>\n",
       "      <td>Make the #SmartestMove &amp; get 1-year of Amazon ...</td>\n",
       "    </tr>\n",
       "  </tbody>\n",
       "</table>\n",
       "</div>"
      ],
      "text/plain": [
       "                                               headlines  \\\n",
       "4281   No more skipping breakfast with '3 Minute Brea...   \n",
       "22479  Vodafone RED Postpaid offers Amazon Prime at n...   \n",
       "\n",
       "                                                    text  \n",
       "4281   Backed by the observation that breakfast is th...  \n",
       "22479  Make the #SmartestMove & get 1-year of Amazon ...  "
      ]
     },
     "execution_count": 66,
     "metadata": {},
     "output_type": "execute_result"
    }
   ],
   "source": [
    "data[data[\"text\"].str.len()<250]"
   ]
  },
  {
   "cell_type": "markdown",
   "id": "d04d0041",
   "metadata": {},
   "source": [
    "data[data[\"text\"].str.len()<100]로 입력하니까 각 칸 안에 있는 문자 하나하나의 길이로 따지는 것 같다.    \n",
    "우선은 52번 컬럼을 지워야겠다."
   ]
  },
  {
   "cell_type": "code",
   "execution_count": 62,
   "id": "3798efaa",
   "metadata": {},
   "outputs": [],
   "source": [
    "data=data.drop(52)"
   ]
  },
  {
   "cell_type": "code",
   "execution_count": 70,
   "id": "2bf670ef",
   "metadata": {},
   "outputs": [
    {
     "name": "stdout",
     "output_type": "stream",
     "text": [
      "텍스트의 최소 길이 : 38\n",
      "텍스트의 최대 길이 : 91\n",
      "텍스트의 평균 길이 : 58.23871735174209\n",
      "텍스트의 길이 분산 : 2.3772734629468455\n",
      "헤드라인의 최소 길이 : 3\n",
      "헤드라인의 최대 길이 : 18\n",
      "헤드라인의 평균 길이 : 9.5537469880743\n",
      "헤드라인의 길이 분산 : 1.457642915029255\n"
     ]
    },
    {
     "data": {
      "image/png": "[encoded data removed]",
      "text/plain": [
       "<Figure size 432x288 with 2 Axes>"
      ]
     },
     "metadata": {
      "needs_background": "light"
     },
     "output_type": "display_data"
    },
    {
     "data": {
      "image/png": "[encoded data removed]",
      "text/plain": [
       "<Figure size 432x288 with 1 Axes>"
      ]
     },
     "metadata": {
      "needs_background": "light"
     },
     "output_type": "display_data"
    },
    {
     "data": {
      "image/png": "[encoded data removed]",
      "text/plain": [
       "<Figure size 432x288 with 1 Axes>"
      ]
     },
     "metadata": {
      "needs_background": "light"
     },
     "output_type": "display_data"
    }
   ],
   "source": [
    "# 길이 분포 확인하기\n",
    "import matplotlib.pyplot as plt\n",
    "\n",
    "text_len = [len(s.split()) for s in data['text']]\n",
    "headlines_len = [len(s.split()) for s in data['headlines']]\n",
    "\n",
    "print('텍스트의 최소 길이 : {}'.format(np.min(text_len)))\n",
    "print('텍스트의 최대 길이 : {}'.format(np.max(text_len)))\n",
    "print('텍스트의 평균 길이 : {}'.format(np.mean(text_len)))\n",
    "print('텍스트의 길이 분산 : {}'.format(np.std(text_len)))\n",
    "print('헤드라인의 최소 길이 : {}'.format(np.min(headlines_len)))\n",
    "print('헤드라인의 최대 길이 : {}'.format(np.max(headlines_len)))\n",
    "print('헤드라인의 평균 길이 : {}'.format(np.mean(headlines_len)))\n",
    "print('헤드라인의 길이 분산 : {}'.format(np.std(headlines_len)))\n",
    "\n",
    "plt.subplot(1,2,1)\n",
    "plt.boxplot(text_len)\n",
    "plt.title('text')\n",
    "plt.subplot(1,2,2)\n",
    "plt.boxplot(headlines_len)\n",
    "plt.title('headlines')\n",
    "plt.tight_layout()\n",
    "plt.show()\n",
    "\n",
    "plt.title('text')\n",
    "plt.hist(text_len, bins = 40)\n",
    "plt.xlabel('length of samples')\n",
    "plt.ylabel('number of samples')\n",
    "plt.show()\n",
    "\n",
    "plt.title('headlines')\n",
    "plt.hist(headlines_len, bins = 40)\n",
    "plt.xlabel('length of samples')\n",
    "plt.ylabel('number of samples')\n",
    "plt.show()"
   ]
  },
  {
   "cell_type": "markdown",
   "id": "22e38215",
   "metadata": {},
   "source": [
    "길이 1짜리 데이터가 모두 사라졌다.   \n",
    "52번 컬럼이 길이 1짜리 데이터가 맞았다."
   ]
  },
  {
   "cell_type": "code",
   "execution_count": 81,
   "id": "a55b426d",
   "metadata": {},
   "outputs": [],
   "source": [
    "#샘플 최대 길이 설정\n",
    "text_max_len = 60\n",
    "headlines_max_len = 12"
   ]
  },
  {
   "cell_type": "code",
   "execution_count": 82,
   "id": "2dbd653a",
   "metadata": {},
   "outputs": [],
   "source": [
    "def below_threshold_len(max_len, nested_list):\n",
    "    cnt = 0\n",
    "    for s in nested_list:\n",
    "        if(len(s.split()) <= max_len):\n",
    "            cnt = cnt + 1\n",
    "    print('전체 샘플 중 길이가 %s 이하인 샘플의 비율: %s'%(max_len, (cnt / len(nested_list))))"
   ]
  },
  {
   "cell_type": "code",
   "execution_count": 83,
   "id": "ba0b7630",
   "metadata": {},
   "outputs": [
    {
     "name": "stdout",
     "output_type": "stream",
     "text": [
      "전체 샘플 중 길이가 60 이하인 샘플의 비율: 0.9974481237100824\n",
      "전체 샘플 중 길이가 12 이하인 샘플의 비율: 0.976819609796765\n"
     ]
    }
   ],
   "source": [
    "#샘플 포함 비율 확인하기\n",
    "below_threshold_len(text_max_len, data['text'])\n",
    "below_threshold_len(headlines_max_len,  data['headlines'])"
   ]
  },
  {
   "cell_type": "code",
   "execution_count": 84,
   "id": "4a5ab283",
   "metadata": {},
   "outputs": [
    {
     "name": "stdout",
     "output_type": "stream",
     "text": [
      "전체 샘플수 : 95837\n"
     ]
    }
   ],
   "source": [
    "#최대 길이보다 길면 제외\n",
    "data = data[data['text'].apply(lambda x: len(x.split()) <= text_max_len)]\n",
    "data = data[data['headlines'].apply(lambda x: len(x.split()) <= headlines_max_len)]\n",
    "print('전체 샘플수 :', (len(data)))"
   ]
  },
  {
   "cell_type": "markdown",
   "id": "7dd35c44",
   "metadata": {},
   "source": [
    "### 6) 시작, 종료 토큰 추가하기"
   ]
  },
  {
   "cell_type": "code",
   "execution_count": 85,
   "id": "4b0f8802",
   "metadata": {},
   "outputs": [
    {
     "data": {
      "text/html": [
       "<div>\n",
       "<style scoped>\n",
       "    .dataframe tbody tr th:only-of-type {\n",
       "        vertical-align: middle;\n",
       "    }\n",
       "\n",
       "    .dataframe tbody tr th {\n",
       "        vertical-align: top;\n",
       "    }\n",
       "\n",
       "    .dataframe thead th {\n",
       "        text-align: right;\n",
       "    }\n",
       "</style>\n",
       "<table border=\"1\" class=\"dataframe\">\n",
       "  <thead>\n",
       "    <tr style=\"text-align: right;\">\n",
       "      <th></th>\n",
       "      <th>headlines</th>\n",
       "      <th>text</th>\n",
       "      <th>decoder_input</th>\n",
       "      <th>decoder_target</th>\n",
       "    </tr>\n",
       "  </thead>\n",
       "  <tbody>\n",
       "    <tr>\n",
       "      <th>1</th>\n",
       "      <td>Delhi techie wins free food from Swiggy for on...</td>\n",
       "      <td>Kunal Shah's credit card bill payment platform...</td>\n",
       "      <td>sostoken Delhi techie wins free food from Swig...</td>\n",
       "      <td>Delhi techie wins free food from Swiggy for on...</td>\n",
       "    </tr>\n",
       "    <tr>\n",
       "      <th>2</th>\n",
       "      <td>New Zealand end Rohit Sharma-led India's 12-ma...</td>\n",
       "      <td>New Zealand defeated India by 8 wickets in the...</td>\n",
       "      <td>sostoken New Zealand end Rohit Sharma-led Indi...</td>\n",
       "      <td>New Zealand end Rohit Sharma-led India's 12-ma...</td>\n",
       "    </tr>\n",
       "    <tr>\n",
       "      <th>3</th>\n",
       "      <td>Aegon life iTerm insurance plan helps customer...</td>\n",
       "      <td>With Aegon Life iTerm Insurance plan, customer...</td>\n",
       "      <td>sostoken Aegon life iTerm insurance plan helps...</td>\n",
       "      <td>Aegon life iTerm insurance plan helps customer...</td>\n",
       "    </tr>\n",
       "    <tr>\n",
       "      <th>5</th>\n",
       "      <td>Rahat Fateh Ali Khan denies getting notice for...</td>\n",
       "      <td>Pakistani singer Rahat Fateh Ali Khan has deni...</td>\n",
       "      <td>sostoken Rahat Fateh Ali Khan denies getting n...</td>\n",
       "      <td>Rahat Fateh Ali Khan denies getting notice for...</td>\n",
       "    </tr>\n",
       "    <tr>\n",
       "      <th>7</th>\n",
       "      <td>Govt directs Alok Verma to join work 1 day bef...</td>\n",
       "      <td>Weeks after ex-CBI Director Alok Verma told th...</td>\n",
       "      <td>sostoken Govt directs Alok Verma to join work ...</td>\n",
       "      <td>Govt directs Alok Verma to join work 1 day bef...</td>\n",
       "    </tr>\n",
       "  </tbody>\n",
       "</table>\n",
       "</div>"
      ],
      "text/plain": [
       "                                           headlines  \\\n",
       "1  Delhi techie wins free food from Swiggy for on...   \n",
       "2  New Zealand end Rohit Sharma-led India's 12-ma...   \n",
       "3  Aegon life iTerm insurance plan helps customer...   \n",
       "5  Rahat Fateh Ali Khan denies getting notice for...   \n",
       "7  Govt directs Alok Verma to join work 1 day bef...   \n",
       "\n",
       "                                                text  \\\n",
       "1  Kunal Shah's credit card bill payment platform...   \n",
       "2  New Zealand defeated India by 8 wickets in the...   \n",
       "3  With Aegon Life iTerm Insurance plan, customer...   \n",
       "5  Pakistani singer Rahat Fateh Ali Khan has deni...   \n",
       "7  Weeks after ex-CBI Director Alok Verma told th...   \n",
       "\n",
       "                                       decoder_input  \\\n",
       "1  sostoken Delhi techie wins free food from Swig...   \n",
       "2  sostoken New Zealand end Rohit Sharma-led Indi...   \n",
       "3  sostoken Aegon life iTerm insurance plan helps...   \n",
       "5  sostoken Rahat Fateh Ali Khan denies getting n...   \n",
       "7  sostoken Govt directs Alok Verma to join work ...   \n",
       "\n",
       "                                      decoder_target  \n",
       "1  Delhi techie wins free food from Swiggy for on...  \n",
       "2  New Zealand end Rohit Sharma-led India's 12-ma...  \n",
       "3  Aegon life iTerm insurance plan helps customer...  \n",
       "5  Rahat Fateh Ali Khan denies getting notice for...  \n",
       "7  Govt directs Alok Verma to join work 1 day bef...  "
      ]
     },
     "execution_count": 85,
     "metadata": {},
     "output_type": "execute_result"
    }
   ],
   "source": [
    "# 요약 데이터에는 시작 토큰과 종료 토큰을 추가한다.\n",
    "data['decoder_input'] = data['headlines'].apply(lambda x : 'sostoken '+ x)\n",
    "data['decoder_target'] = data['headlines'].apply(lambda x : x + ' eostoken')\n",
    "data.head()"
   ]
  },
  {
   "cell_type": "code",
   "execution_count": 87,
   "id": "bae73e61",
   "metadata": {},
   "outputs": [],
   "source": [
    "#인코더의 이볅, 디코더의 입력과 레이블 다시 numpy로 저장해주기\n",
    "encoder_input = np.array(data['text']) # 인코더의 입력\n",
    "decoder_input = np.array(data['decoder_input']) # 디코더의 입력\n",
    "decoder_target = np.array(data['decoder_target']) # 디코더의 레이블"
   ]
  },
  {
   "cell_type": "markdown",
   "id": "fe4bf68a",
   "metadata": {},
   "source": [
    "### 7) 데이터셋 분리하기"
   ]
  },
  {
   "cell_type": "code",
   "execution_count": 88,
   "id": "0c897d07",
   "metadata": {},
   "outputs": [
    {
     "name": "stdout",
     "output_type": "stream",
     "text": [
      "테스트 데이터의 수 : 19167\n"
     ]
    }
   ],
   "source": [
    "indices = np.arange(encoder_input.shape[0])\n",
    "np.random.shuffle(indices)\n",
    "\n",
    "encoder_input = encoder_input[indices]\n",
    "decoder_input = decoder_input[indices]\n",
    "decoder_target = decoder_target[indices]\n",
    "\n",
    "n_of_val = int(len(encoder_input)*0.2)\n",
    "print('테스트 데이터의 수 :', n_of_val)"
   ]
  },
  {
   "cell_type": "code",
   "execution_count": 89,
   "id": "28041644",
   "metadata": {},
   "outputs": [
    {
     "name": "stdout",
     "output_type": "stream",
     "text": [
      "훈련 데이터의 개수 : 76670\n",
      "훈련 레이블의 개수 : 76670\n",
      "테스트 데이터의 개수 : 19167\n",
      "테스트 레이블의 개수 : 19167\n"
     ]
    }
   ],
   "source": [
    "encoder_input_train = encoder_input[:-n_of_val]\n",
    "decoder_input_train = decoder_input[:-n_of_val]\n",
    "decoder_target_train = decoder_target[:-n_of_val]\n",
    "\n",
    "encoder_input_test = encoder_input[-n_of_val:]\n",
    "decoder_input_test = decoder_input[-n_of_val:]\n",
    "decoder_target_test = decoder_target[-n_of_val:]\n",
    "\n",
    "print('훈련 데이터의 개수 :', len(encoder_input_train))\n",
    "print('훈련 레이블의 개수 :', len(decoder_input_train))\n",
    "print('테스트 데이터의 개수 :', len(encoder_input_test))\n",
    "print('테스트 레이블의 개수 :', len(decoder_input_test))"
   ]
  },
  {
   "cell_type": "markdown",
   "id": "d0c531da",
   "metadata": {},
   "source": [
    "### 8) 단어집합 만들기 & 정수 인코딩"
   ]
  },
  {
   "cell_type": "markdown",
   "id": "2a448cb4",
   "metadata": {},
   "source": [
    "단어집합 = 각 단어에 고유한 정수 맵핑하는 작업"
   ]
  },
  {
   "cell_type": "markdown",
   "id": "ffdd1faf",
   "metadata": {},
   "source": [
    "인코더 데이터에 대한 단어집합 제작 및 정수 인코딩 수행"
   ]
  },
  {
   "cell_type": "code",
   "execution_count": 90,
   "id": "7a27cba9",
   "metadata": {},
   "outputs": [],
   "source": [
    "src_tokenizer = Tokenizer() # 토크나이저 정의\n",
    "src_tokenizer.fit_on_texts(encoder_input_train) # 입력된 데이터로부터 단어 집합 생성"
   ]
  },
  {
   "cell_type": "code",
   "execution_count": 98,
   "id": "27e5cb41",
   "metadata": {},
   "outputs": [
    {
     "name": "stdout",
     "output_type": "stream",
     "text": [
      "단어 집합(vocabulary)의 크기 : 90173\n",
      "등장 빈도가 7번 이하인 희귀 단어의 수: 67461\n",
      "단어 집합에서 희귀 단어를 제외시킬 경우의 단어 집합의 크기 22712\n",
      "단어 집합에서 희귀 단어의 비율: 74.8128597251949\n",
      "전체 등장 빈도에서 희귀 단어 등장 빈도 비율: 3.039723260612898\n"
     ]
    }
   ],
   "source": [
    "threshold = 8 #등장횟수 8회 미만인 단어 제외\n",
    "total_cnt = len(src_tokenizer.word_index) # 단어의 수\n",
    "rare_cnt = 0 # 등장 빈도수가 threshold보다 작은 단어의 개수를 카운트\n",
    "total_freq = 0 # 훈련 데이터의 전체 단어 빈도수 총 합\n",
    "rare_freq = 0 # 등장 빈도수가 threshold보다 작은 단어의 등장 빈도수의 총 합\n",
    "\n",
    "# 단어와 빈도수의 쌍(pair)을 key와 value로 받는다.\n",
    "for key, value in src_tokenizer.word_counts.items():\n",
    "    total_freq = total_freq + value\n",
    "\n",
    "    # 단어의 등장 빈도수가 threshold보다 작으면\n",
    "    if(value < threshold):\n",
    "        rare_cnt = rare_cnt + 1\n",
    "        rare_freq = rare_freq + value\n",
    "\n",
    "print('단어 집합(vocabulary)의 크기 :', total_cnt)\n",
    "print('등장 빈도가 %s번 이하인 희귀 단어의 수: %s'%(threshold - 1, rare_cnt))\n",
    "print('단어 집합에서 희귀 단어를 제외시킬 경우의 단어 집합의 크기 %s'%(total_cnt - rare_cnt))\n",
    "print(\"단어 집합에서 희귀 단어의 비율:\", (rare_cnt / total_cnt)*100)\n",
    "print(\"전체 등장 빈도에서 희귀 단어 등장 빈도 비율:\", (rare_freq / total_freq)*100)"
   ]
  },
  {
   "cell_type": "code",
   "execution_count": 100,
   "id": "541ef428",
   "metadata": {},
   "outputs": [],
   "source": [
    "#단어 집합 크기 설정(등장횟수 임계치에 걸린 단어 제외한 나머지 단어의 크기에서 계산)\n",
    "src_vocab = 22000\n",
    "src_tokenizer = Tokenizer(num_words=src_vocab) # 단어 집합의 크기를 8,000으로 제한\n",
    "src_tokenizer.fit_on_texts(encoder_input_train) # 단어 집합 재생성"
   ]
  },
  {
   "cell_type": "code",
   "execution_count": 101,
   "id": "07e46500",
   "metadata": {},
   "outputs": [
    {
     "name": "stdout",
     "output_type": "stream",
     "text": [
      "[[805, 11, 8120, 1582, 2414, 58, 4, 945, 4050, 104, 95, 59, 284, 244, 1476, 633, 337, 56, 2053, 4, 3, 776, 341, 104, 1, 8120, 204, 27, 10, 1, 1394, 10931, 1308, 344, 1, 1987, 12, 268, 945, 1352, 27, 738, 185, 21, 3960, 74, 1, 738, 11, 945, 1352, 27, 12, 3834, 15, 275, 344, 15, 8120, 14, 33], [3, 218, 217, 55, 306, 28, 12, 112, 6, 2130, 15, 14319, 49, 4, 3, 208, 3128, 7, 1, 265, 500, 2664, 1035, 8, 357, 31, 1015, 26, 10, 1, 1035, 29, 4232, 18, 1, 489, 879, 157, 21258, 177, 11, 1, 594, 1233, 500, 1361, 34, 2569, 6, 16583, 26, 189, 22, 269, 367, 50, 703, 185], [3, 41, 2317, 1030, 8, 1094, 8927, 6, 4772, 616, 22, 17365, 2498, 209, 137, 2077, 5, 188, 3695, 77, 2570, 286, 5329, 166, 1752, 1, 1030, 1007, 1, 903, 2726, 11, 1, 6704, 78, 2351, 1630, 6, 4286, 3462, 1, 339, 2342, 22, 1419, 5622, 5, 4772, 3975, 221, 20, 6082, 6, 7910, 20, 444, 20, 60, 4837, 2570, 12680]]\n"
     ]
    }
   ],
   "source": [
    "# 텍스트 시퀀스를 정수 시퀀스로 변환\n",
    "encoder_input_train = src_tokenizer.texts_to_sequences(encoder_input_train) \n",
    "encoder_input_test = src_tokenizer.texts_to_sequences(encoder_input_test)\n",
    "\n",
    "# 잘 진행되었는지 샘플 출력\n",
    "print(encoder_input_train[:3])"
   ]
  },
  {
   "cell_type": "markdown",
   "id": "c211ecec",
   "metadata": {},
   "source": [
    "디코더 데이터에 대한 단어집합 제작 및 정수 인코딩 수행"
   ]
  },
  {
   "cell_type": "code",
   "execution_count": 102,
   "id": "110677fc",
   "metadata": {},
   "outputs": [],
   "source": [
    "tar_tokenizer = Tokenizer()\n",
    "tar_tokenizer.fit_on_texts(decoder_input_train)"
   ]
  },
  {
   "cell_type": "code",
   "execution_count": 104,
   "id": "e0e93c9c",
   "metadata": {},
   "outputs": [
    {
     "name": "stdout",
     "output_type": "stream",
     "text": [
      "단어 집합(vocabulary)의 크기 : 40465\n",
      "등장 빈도가 4번 이하인 희귀 단어의 수: 27916\n",
      "단어 집합에서 희귀 단어를 제외시킬 경우의 단어 집합의 크기 12549\n",
      "단어 집합에서 희귀 단어의 비율: 68.98801433337452\n",
      "전체 등장 빈도에서 희귀 단어 등장 빈도 비율: 5.4794187596690085\n"
     ]
    }
   ],
   "source": [
    "threshold = 5 #등장회수 5회미만인 단어 제외\n",
    "total_cnt = len(tar_tokenizer.word_index) # 단어의 수\n",
    "rare_cnt = 0 # 등장 빈도수가 threshold보다 작은 단어의 개수를 카운트\n",
    "total_freq = 0 # 훈련 데이터의 전체 단어 빈도수 총 합\n",
    "rare_freq = 0 # 등장 빈도수가 threshold보다 작은 단어의 등장 빈도수의 총 합\n",
    "\n",
    "# 단어와 빈도수의 쌍(pair)을 key와 value로 받는다.\n",
    "for key, value in tar_tokenizer.word_counts.items():\n",
    "    total_freq = total_freq + value\n",
    "\n",
    "    # 단어의 등장 빈도수가 threshold보다 작으면\n",
    "    if(value < threshold):\n",
    "        rare_cnt = rare_cnt + 1\n",
    "        rare_freq = rare_freq + value\n",
    "\n",
    "print('단어 집합(vocabulary)의 크기 :', total_cnt)\n",
    "print('등장 빈도가 %s번 이하인 희귀 단어의 수: %s'%(threshold - 1, rare_cnt))\n",
    "print('단어 집합에서 희귀 단어를 제외시킬 경우의 단어 집합의 크기 %s'%(total_cnt - rare_cnt))\n",
    "print(\"단어 집합에서 희귀 단어의 비율:\", (rare_cnt / total_cnt)*100)\n",
    "print(\"전체 등장 빈도에서 희귀 단어 등장 빈도 비율:\", (rare_freq / total_freq)*100)"
   ]
  },
  {
   "cell_type": "code",
   "execution_count": 105,
   "id": "67acca4f",
   "metadata": {},
   "outputs": [
    {
     "name": "stdout",
     "output_type": "stream",
     "text": [
      "input\n",
      "input  [[1, 234, 395, 6766, 988, 4, 2194, 523, 524, 191, 89], [1, 375, 52, 1322, 16, 7544, 65, 185], [1, 10, 603, 172, 129, 2578, 3, 392, 58, 1545, 5, 1967, 200], [1, 12, 120, 3393, 637, 4, 18, 57, 5, 101, 1612], [1, 735, 1085, 204, 4988, 49, 85, 5169, 4, 12, 4, 789, 319]]\n",
      "target\n",
      "decoder  [[234, 395, 6766, 988, 4, 2194, 523, 524, 191, 89, 2], [375, 52, 1322, 16, 7544, 65, 185, 2], [10, 603, 172, 129, 2578, 3, 392, 58, 1545, 5, 1967, 200, 2], [12, 120, 3393, 637, 4, 18, 57, 5, 101, 1612, 2], [735, 1085, 204, 4988, 49, 85, 5169, 4, 12, 4, 789, 319, 2]]\n"
     ]
    }
   ],
   "source": [
    "tar_vocab = 12000\n",
    "tar_tokenizer = Tokenizer(num_words=tar_vocab) \n",
    "tar_tokenizer.fit_on_texts(decoder_input_train)\n",
    "tar_tokenizer.fit_on_texts(decoder_target_train)\n",
    "\n",
    "# 텍스트 시퀀스를 정수 시퀀스로 변환\n",
    "decoder_input_train = tar_tokenizer.texts_to_sequences(decoder_input_train) \n",
    "decoder_target_train = tar_tokenizer.texts_to_sequences(decoder_target_train)\n",
    "decoder_input_test = tar_tokenizer.texts_to_sequences(decoder_input_test)\n",
    "decoder_target_test = tar_tokenizer.texts_to_sequences(decoder_target_test)\n",
    "\n",
    "# 잘 변환되었는지 확인\n",
    "print('input')\n",
    "print('input ',decoder_input_train[:5])\n",
    "print('target')\n",
    "print('decoder ',decoder_target_train[:5])"
   ]
  },
  {
   "cell_type": "code",
   "execution_count": 106,
   "id": "64a10cdf",
   "metadata": {},
   "outputs": [
    {
     "name": "stdout",
     "output_type": "stream",
     "text": [
      "삭제할 훈련 데이터의 개수 : 0\n",
      "삭제할 테스트 데이터의 개수 : 0\n",
      "훈련 데이터의 개수 : 76670\n",
      "훈련 레이블의 개수 : 76670\n",
      "테스트 데이터의 개수 : 19167\n",
      "테스트 레이블의 개수 : 19167\n"
     ]
    }
   ],
   "source": [
    "#빈 샘플 제거해주기\n",
    "drop_train = [index for index, sentence in enumerate(decoder_input_train) if len(sentence) == 1]\n",
    "drop_test = [index for index, sentence in enumerate(decoder_input_test) if len(sentence) == 1]\n",
    "\n",
    "print('삭제할 훈련 데이터의 개수 :', len(drop_train))\n",
    "print('삭제할 테스트 데이터의 개수 :', len(drop_test))\n",
    "\n",
    "encoder_input_train = [sentence for index, sentence in enumerate(encoder_input_train) if index not in drop_train]\n",
    "decoder_input_train = [sentence for index, sentence in enumerate(decoder_input_train) if index not in drop_train]\n",
    "decoder_target_train = [sentence for index, sentence in enumerate(decoder_target_train) if index not in drop_train]\n",
    "\n",
    "encoder_input_test = [sentence for index, sentence in enumerate(encoder_input_test) if index not in drop_test]\n",
    "decoder_input_test = [sentence for index, sentence in enumerate(decoder_input_test) if index not in drop_test]\n",
    "decoder_target_test = [sentence for index, sentence in enumerate(decoder_target_test) if index not in drop_test]\n",
    "\n",
    "print('훈련 데이터의 개수 :', len(encoder_input_train))\n",
    "print('훈련 레이블의 개수 :', len(decoder_input_train))\n",
    "print('테스트 데이터의 개수 :', len(encoder_input_test))\n",
    "print('테스트 레이블의 개수 :', len(decoder_input_test))"
   ]
  },
  {
   "cell_type": "markdown",
   "id": "3302d564",
   "metadata": {},
   "source": [
    "### 9)패딩하기"
   ]
  },
  {
   "cell_type": "code",
   "execution_count": 107,
   "id": "bd8e5031",
   "metadata": {},
   "outputs": [],
   "source": [
    "encoder_input_train = pad_sequences(encoder_input_train, maxlen=text_max_len, padding='post')\n",
    "encoder_input_test = pad_sequences(encoder_input_test, maxlen=text_max_len, padding='post')\n",
    "decoder_input_train = pad_sequences(decoder_input_train, maxlen=headlines_max_len, padding='post')\n",
    "decoder_target_train = pad_sequences(decoder_target_train, maxlen=headlines_max_len, padding='post')\n",
    "decoder_input_test = pad_sequences(decoder_input_test, maxlen=headlines_max_len, padding='post')\n",
    "decoder_target_test = pad_sequences(decoder_target_test, maxlen=headlines_max_len, padding='post')"
   ]
  },
  {
   "cell_type": "markdown",
   "id": "fe42de7d",
   "metadata": {},
   "source": [
    "# 3. 모델 설계하기"
   ]
  },
  {
   "cell_type": "markdown",
   "id": "c0c863ba",
   "metadata": {},
   "source": [
    "### 1) 인코더"
   ]
  },
  {
   "cell_type": "code",
   "execution_count": 112,
   "id": "30b1480c",
   "metadata": {},
   "outputs": [],
   "source": [
    "from tensorflow.keras.layers import Input, LSTM, Embedding, Dense, Concatenate, TimeDistributed\n",
    "from tensorflow.keras.models import Model\n",
    "from tensorflow.keras.callbacks import EarlyStopping, ModelCheckpoint\n",
    "\n",
    "\n",
    "# 인코더 설계 시작\n",
    "embedding_dim = 128\n",
    "hidden_size = 256\n",
    "\n",
    "# 인코더\n",
    "encoder_inputs = Input(shape=(text_max_len,))\n",
    "\n",
    "# 인코더의 임베딩 층\n",
    "enc_emb = Embedding(src_vocab, embedding_dim)(encoder_inputs)\n",
    "\n",
    "#시간 관계상 먼저 보통 dropout으로 진행\n",
    "# 인코더의 LSTM 1\n",
    "encoder_lstm1 = LSTM(hidden_size, return_sequences=True, return_state=True ,dropout = 0.4)#, recurrent_dropout = 0.4)\n",
    "encoder_output1, state_h1, state_c1 = encoder_lstm1(enc_emb)\n",
    "\n",
    "# 인코더의 LSTM 2\n",
    "encoder_lstm2 = LSTM(hidden_size, return_sequences=True, return_state=True, dropout=0.4)#, recurrent_dropout = 0.4)\n",
    "encoder_output2, state_h2, state_c2 = encoder_lstm2(encoder_output1)\n",
    "\n",
    "# 인코더의 LSTM 3\n",
    "encoder_lstm3 = LSTM(hidden_size, return_state=True, return_sequences=True, dropout=0.4)#, recurrent_dropout = 0.4)\n",
    "encoder_outputs, state_h, state_c= encoder_lstm3(encoder_output2)"
   ]
  },
  {
   "cell_type": "markdown",
   "id": "12ceeb4c",
   "metadata": {},
   "source": [
    "### 2) 디코더"
   ]
  },
  {
   "cell_type": "code",
   "execution_count": 113,
   "id": "d5636ff0",
   "metadata": {},
   "outputs": [
    {
     "name": "stdout",
     "output_type": "stream",
     "text": [
      "WARNING:tensorflow:Layer lstm_7 will not use cuDNN kernels since it doesn't meet the criteria. It will use a generic GPU kernel as fallback when running on GPU.\n"
     ]
    }
   ],
   "source": [
    "# 디코더 설계\n",
    "decoder_inputs = Input(shape=(None,))\n",
    "\n",
    "# 디코더의 임베딩 층\n",
    "dec_emb_layer = Embedding(tar_vocab, embedding_dim)\n",
    "dec_emb = dec_emb_layer(decoder_inputs)\n",
    "\n",
    "# 디코더의 LSTM\n",
    "decoder_lstm = LSTM(hidden_size, return_sequences=True, return_state=True, dropout=0.4, recurrent_dropout=0.2)\n",
    "decoder_outputs, _, _ = decoder_lstm(dec_emb, initial_state=[state_h, state_c])"
   ]
  },
  {
   "cell_type": "markdown",
   "id": "2513b1f0",
   "metadata": {},
   "source": [
    "### 3) 디코더 출력층 설계"
   ]
  },
  {
   "cell_type": "code",
   "execution_count": 114,
   "id": "915ec8f0",
   "metadata": {},
   "outputs": [
    {
     "name": "stdout",
     "output_type": "stream",
     "text": [
      "Model: \"model_2\"\n",
      "__________________________________________________________________________________________________\n",
      "Layer (type)                    Output Shape         Param #     Connected to                     \n",
      "==================================================================================================\n",
      "input_3 (InputLayer)            [(None, 60)]         0                                            \n",
      "__________________________________________________________________________________________________\n",
      "embedding_2 (Embedding)         (None, 60, 128)      2816000     input_3[0][0]                    \n",
      "__________________________________________________________________________________________________\n",
      "lstm_4 (LSTM)                   [(None, 60, 256), (N 394240      embedding_2[0][0]                \n",
      "__________________________________________________________________________________________________\n",
      "input_4 (InputLayer)            [(None, None)]       0                                            \n",
      "__________________________________________________________________________________________________\n",
      "lstm_5 (LSTM)                   [(None, 60, 256), (N 525312      lstm_4[0][0]                     \n",
      "__________________________________________________________________________________________________\n",
      "embedding_3 (Embedding)         (None, None, 128)    1536000     input_4[0][0]                    \n",
      "__________________________________________________________________________________________________\n",
      "lstm_6 (LSTM)                   [(None, 60, 256), (N 525312      lstm_5[0][0]                     \n",
      "__________________________________________________________________________________________________\n",
      "lstm_7 (LSTM)                   [(None, None, 256),  394240      embedding_3[0][0]                \n",
      "                                                                 lstm_6[0][1]                     \n",
      "                                                                 lstm_6[0][2]                     \n",
      "__________________________________________________________________________________________________\n",
      "dense_2 (Dense)                 (None, None, 12000)  3084000     lstm_7[0][0]                     \n",
      "==================================================================================================\n",
      "Total params: 9,275,104\n",
      "Trainable params: 9,275,104\n",
      "Non-trainable params: 0\n",
      "__________________________________________________________________________________________________\n"
     ]
    }
   ],
   "source": [
    "# 디코더의 출력층\n",
    "decoder_softmax_layer = Dense(tar_vocab, activation='softmax')\n",
    "decoder_softmax_outputs = decoder_softmax_layer(decoder_outputs) \n",
    "\n",
    "# 모델 정의\n",
    "model = Model([encoder_inputs, decoder_inputs], decoder_softmax_outputs)\n",
    "model.summary()"
   ]
  },
  {
   "cell_type": "markdown",
   "id": "3faad737",
   "metadata": {},
   "source": [
    "### 4) 어텐션 메커니즘"
   ]
  },
  {
   "cell_type": "code",
   "execution_count": 115,
   "id": "acb63651",
   "metadata": {},
   "outputs": [
    {
     "name": "stdout",
     "output_type": "stream",
     "text": [
      "Model: \"model_3\"\n",
      "__________________________________________________________________________________________________\n",
      "Layer (type)                    Output Shape         Param #     Connected to                     \n",
      "==================================================================================================\n",
      "input_3 (InputLayer)            [(None, 60)]         0                                            \n",
      "__________________________________________________________________________________________________\n",
      "embedding_2 (Embedding)         (None, 60, 128)      2816000     input_3[0][0]                    \n",
      "__________________________________________________________________________________________________\n",
      "lstm_4 (LSTM)                   [(None, 60, 256), (N 394240      embedding_2[0][0]                \n",
      "__________________________________________________________________________________________________\n",
      "input_4 (InputLayer)            [(None, None)]       0                                            \n",
      "__________________________________________________________________________________________________\n",
      "lstm_5 (LSTM)                   [(None, 60, 256), (N 525312      lstm_4[0][0]                     \n",
      "__________________________________________________________________________________________________\n",
      "embedding_3 (Embedding)         (None, None, 128)    1536000     input_4[0][0]                    \n",
      "__________________________________________________________________________________________________\n",
      "lstm_6 (LSTM)                   [(None, 60, 256), (N 525312      lstm_5[0][0]                     \n",
      "__________________________________________________________________________________________________\n",
      "lstm_7 (LSTM)                   [(None, None, 256),  394240      embedding_3[0][0]                \n",
      "                                                                 lstm_6[0][1]                     \n",
      "                                                                 lstm_6[0][2]                     \n",
      "__________________________________________________________________________________________________\n",
      "attention_layer (AdditiveAttent (None, None, 256)    256         lstm_7[0][0]                     \n",
      "                                                                 lstm_6[0][0]                     \n",
      "__________________________________________________________________________________________________\n",
      "concat_layer (Concatenate)      (None, None, 512)    0           lstm_7[0][0]                     \n",
      "                                                                 attention_layer[0][0]            \n",
      "__________________________________________________________________________________________________\n",
      "dense_3 (Dense)                 (None, None, 12000)  6156000     concat_layer[0][0]               \n",
      "==================================================================================================\n",
      "Total params: 12,347,360\n",
      "Trainable params: 12,347,360\n",
      "Non-trainable params: 0\n",
      "__________________________________________________________________________________________________\n"
     ]
    }
   ],
   "source": [
    "from tensorflow.keras.layers import AdditiveAttention\n",
    "\n",
    "# 어텐션 층(어텐션 함수)\n",
    "attn_layer = AdditiveAttention(name='attention_layer')\n",
    "\n",
    "# 인코더와 디코더의 모든 time step의 hidden state를 어텐션 층에 전달하고 결과를 리턴\n",
    "attn_out = attn_layer([decoder_outputs, encoder_outputs])\n",
    "\n",
    "\n",
    "# 어텐션의 결과와 디코더의 hidden state들을 연결\n",
    "decoder_concat_input = Concatenate(axis=-1, name='concat_layer')([decoder_outputs, attn_out])\n",
    "\n",
    "# 디코더의 출력층\n",
    "decoder_softmax_layer = Dense(tar_vocab, activation='softmax')\n",
    "decoder_softmax_outputs = decoder_softmax_layer(decoder_concat_input)\n",
    "\n",
    "# 모델 정의\n",
    "model = Model([encoder_inputs, decoder_inputs], decoder_softmax_outputs)\n",
    "model.summary()"
   ]
  },
  {
   "cell_type": "markdown",
   "id": "9b2576e0",
   "metadata": {},
   "source": [
    "# 4. 모델 훈련하기"
   ]
  },
  {
   "cell_type": "code",
   "execution_count": 116,
   "id": "0d4ed0d4",
   "metadata": {},
   "outputs": [
    {
     "name": "stdout",
     "output_type": "stream",
     "text": [
      "Epoch 1/50\n",
      "300/300 [==============================] - 56s 162ms/step - loss: 5.9380 - val_loss: 5.4954\n",
      "Epoch 2/50\n",
      "300/300 [==============================] - 48s 161ms/step - loss: 5.3665 - val_loss: 5.0849\n",
      "Epoch 3/50\n",
      "300/300 [==============================] - 48s 160ms/step - loss: 4.9782 - val_loss: 4.7948\n",
      "Epoch 4/50\n",
      "300/300 [==============================] - 48s 161ms/step - loss: 4.7010 - val_loss: 4.6075\n",
      "Epoch 5/50\n",
      "300/300 [==============================] - 48s 160ms/step - loss: 4.4904 - val_loss: 4.4649\n",
      "Epoch 6/50\n",
      "300/300 [==============================] - 48s 161ms/step - loss: 4.3116 - val_loss: 4.3502\n",
      "Epoch 7/50\n",
      "300/300 [==============================] - 48s 161ms/step - loss: 4.1611 - val_loss: 4.2528\n",
      "Epoch 8/50\n",
      "300/300 [==============================] - 48s 160ms/step - loss: 4.0285 - val_loss: 4.1753\n",
      "Epoch 9/50\n",
      "300/300 [==============================] - 48s 160ms/step - loss: 3.9113 - val_loss: 4.1112\n",
      "Epoch 10/50\n",
      "300/300 [==============================] - 48s 160ms/step - loss: 3.8052 - val_loss: 4.0684\n",
      "Epoch 11/50\n",
      "300/300 [==============================] - 48s 160ms/step - loss: 3.7172 - val_loss: 4.0280\n",
      "Epoch 12/50\n",
      "300/300 [==============================] - 48s 160ms/step - loss: 3.6331 - val_loss: 3.9918\n",
      "Epoch 13/50\n",
      "300/300 [==============================] - 48s 161ms/step - loss: 3.5582 - val_loss: 3.9632\n",
      "Epoch 14/50\n",
      "300/300 [==============================] - 48s 160ms/step - loss: 3.4884 - val_loss: 3.9421\n",
      "Epoch 15/50\n",
      "300/300 [==============================] - 48s 160ms/step - loss: 3.4247 - val_loss: 3.9138\n",
      "Epoch 16/50\n",
      "300/300 [==============================] - 48s 160ms/step - loss: 3.3624 - val_loss: 3.9012\n",
      "Epoch 17/50\n",
      "300/300 [==============================] - 48s 160ms/step - loss: 3.3022 - val_loss: 3.8861\n",
      "Epoch 18/50\n",
      "300/300 [==============================] - 48s 161ms/step - loss: 3.2490 - val_loss: 3.8704\n",
      "Epoch 19/50\n",
      "300/300 [==============================] - 48s 160ms/step - loss: 3.2024 - val_loss: 3.8603\n",
      "Epoch 20/50\n",
      "300/300 [==============================] - 48s 161ms/step - loss: 3.1528 - val_loss: 3.8473\n",
      "Epoch 21/50\n",
      "300/300 [==============================] - 48s 161ms/step - loss: 3.1042 - val_loss: 3.8427\n",
      "Epoch 22/50\n",
      "300/300 [==============================] - 48s 161ms/step - loss: 3.0618 - val_loss: 3.8375\n",
      "Epoch 23/50\n",
      "300/300 [==============================] - 48s 161ms/step - loss: 3.0243 - val_loss: 3.8346\n",
      "Epoch 24/50\n",
      "300/300 [==============================] - 48s 161ms/step - loss: 2.9853 - val_loss: 3.8240\n",
      "Epoch 25/50\n",
      "300/300 [==============================] - 48s 160ms/step - loss: 2.9504 - val_loss: 3.8239\n",
      "Epoch 26/50\n",
      "300/300 [==============================] - 48s 161ms/step - loss: 2.9161 - val_loss: 3.8207\n",
      "Epoch 27/50\n",
      "300/300 [==============================] - 48s 160ms/step - loss: 2.8875 - val_loss: 3.8244\n",
      "Epoch 28/50\n",
      "300/300 [==============================] - 48s 160ms/step - loss: 2.8563 - val_loss: 3.8271\n",
      "Epoch 00028: early stopping\n"
     ]
    }
   ],
   "source": [
    "model.compile(optimizer='rmsprop', loss='sparse_categorical_crossentropy')\n",
    "es = EarlyStopping(monitor='val_loss', patience=2, verbose=1)\n",
    "history = model.fit(x=[encoder_input_train, decoder_input_train], y=decoder_target_train, \\\n",
    "          validation_data=([encoder_input_test, decoder_input_test], decoder_target_test), \\\n",
    "          batch_size=256, callbacks=[es], epochs=50)"
   ]
  },
  {
   "cell_type": "code",
   "execution_count": 117,
   "id": "cd4e16c2",
   "metadata": {},
   "outputs": [
    {
     "data": {
      "image/png": "[encoded data removed]",
      "text/plain": [
       "<Figure size 432x288 with 1 Axes>"
      ]
     },
     "metadata": {
      "needs_background": "light"
     },
     "output_type": "display_data"
    }
   ],
   "source": [
    "plt.plot(history.history['loss'], label='train')\n",
    "plt.plot(history.history['val_loss'], label='test')\n",
    "plt.legend()\n",
    "plt.show()"
   ]
  },
  {
   "cell_type": "markdown",
   "id": "7176d8e5",
   "metadata": {},
   "source": [
    "loss가 줄어들다 전체 50 에포크 중 28번째 이후로 줄지 않아 종료되었다.   \n",
    "dropout = 0.4로 설정하였을 때 결과이다."
   ]
  },
  {
   "cell_type": "markdown",
   "id": "b1577a0e",
   "metadata": {},
   "source": [
    "# 5. 인퍼런스 모델 구현하기    "
   ]
  },
  {
   "cell_type": "markdown",
   "id": "ceac4a79",
   "metadata": {},
   "source": [
    "텍스트 데이터 실제로 복원하기 위해 3개 사전을 미리 정의"
   ]
  },
  {
   "cell_type": "code",
   "execution_count": 124,
   "id": "ea920395",
   "metadata": {},
   "outputs": [],
   "source": [
    "src_index_to_word = src_tokenizer.index_word # 원문 단어 집합에서 정수 -> 단어를 얻음\n",
    "tar_word_to_index = tar_tokenizer.word_index # 요약 단어 집합에서 단어 -> 정수를 얻음\n",
    "tar_index_to_word = tar_tokenizer.index_word # 요약 단어 집합에서 정수 -> 단어를 얻음"
   ]
  },
  {
   "cell_type": "markdown",
   "id": "b05edc06",
   "metadata": {},
   "source": [
    "인퍼런스 위한 모델 설계   \n",
    "인코더와 디코더 모델을 분리해 설계"
   ]
  },
  {
   "cell_type": "code",
   "execution_count": 125,
   "id": "741253bc",
   "metadata": {},
   "outputs": [],
   "source": [
    "# 인코더 설계\n",
    "encoder_model = Model(inputs=encoder_inputs, outputs=[encoder_outputs, state_h, state_c])\n",
    "\n",
    "# 이전 시점의 상태들을 저장하는 텐서\n",
    "decoder_state_input_h = Input(shape=(hidden_size,))\n",
    "decoder_state_input_c = Input(shape=(hidden_size,))\n",
    "\n",
    "dec_emb2 = dec_emb_layer(decoder_inputs)\n",
    "\n",
    "# 문장의 다음 단어를 예측하기 위해서 초기 상태(initial_state)를 이전 시점의 상태로 사용. 이는 뒤의 함수 decode_sequence()에 구현\n",
    "# 훈련 과정에서와 달리 LSTM의 리턴하는 은닉 상태와 셀 상태인 state_h와 state_c를 버리지 않음.\n",
    "decoder_outputs2, state_h2, state_c2 = decoder_lstm(dec_emb2, initial_state=[decoder_state_input_h, decoder_state_input_c])"
   ]
  },
  {
   "cell_type": "markdown",
   "id": "02ef0933",
   "metadata": {},
   "source": [
    "어텐션 메커니즘 사용하는 출력층 설계"
   ]
  },
  {
   "cell_type": "code",
   "execution_count": 126,
   "id": "2415b818",
   "metadata": {},
   "outputs": [],
   "source": [
    "# 어텐션 함수\n",
    "decoder_hidden_state_input = Input(shape=(text_max_len, hidden_size))\n",
    "attn_out_inf = attn_layer([decoder_outputs2, decoder_hidden_state_input])\n",
    "decoder_inf_concat = Concatenate(axis=-1, name='concat')([decoder_outputs2, attn_out_inf])\n",
    "\n",
    "# 디코더의 출력층\n",
    "decoder_outputs2 = decoder_softmax_layer(decoder_inf_concat) \n",
    "\n",
    "# 최종 디코더 모델\n",
    "decoder_model = Model(\n",
    "    [decoder_inputs] + [decoder_hidden_state_input,decoder_state_input_h, decoder_state_input_c],\n",
    "    [decoder_outputs2] + [state_h2, state_c2])"
   ]
  },
  {
   "cell_type": "markdown",
   "id": "3ca17d38",
   "metadata": {},
   "source": [
    "인퍼런스 단계에서 단어 시퀀스를 완성하는 함수 만들기"
   ]
  },
  {
   "cell_type": "code",
   "execution_count": 131,
   "id": "a311e22c",
   "metadata": {},
   "outputs": [],
   "source": [
    "def decode_sequence(input_seq):\n",
    "    # 입력으로부터 인코더의 상태를 얻음\n",
    "    e_out, e_h, e_c = encoder_model.predict(input_seq)\n",
    "\n",
    "     # <SOS>에 해당하는 토큰 생성\n",
    "    target_seq = np.zeros((1,1))\n",
    "    target_seq[0, 0] = tar_word_to_index['sostoken']\n",
    "\n",
    "    stop_condition = False\n",
    "    decoded_sentence = ''\n",
    "    while not stop_condition: # stop_condition이 True가 될 때까지 루프 반복\n",
    "\n",
    "        output_tokens, h, c = decoder_model.predict([target_seq] + [e_out, e_h, e_c])\n",
    "        sampled_token_index = np.argmax(output_tokens[0, -1, :])\n",
    "        sampled_token = tar_index_to_word[sampled_token_index]\n",
    "\n",
    "        if (sampled_token!='eostoken'):\n",
    "            decoded_sentence += ' '+sampled_token\n",
    "\n",
    "        #  <eos>에 도달하거나 최대 길이를 넘으면 중단.\n",
    "        if (sampled_token == 'eostoken'  or len(decoded_sentence.split()) >= (headlines_max_len-1)):\n",
    "            stop_condition = True\n",
    "\n",
    "        # 길이가 1인 타겟 시퀀스를 업데이트\n",
    "        target_seq = np.zeros((1,1))\n",
    "        target_seq[0, 0] = sampled_token_index\n",
    "\n",
    "        # 상태를 업데이트 합니다.\n",
    "        e_h, e_c = h, c\n",
    "\n",
    "    return decoded_sentence"
   ]
  },
  {
   "cell_type": "markdown",
   "id": "1a1e1aab",
   "metadata": {},
   "source": [
    "# 6. 모델 테스트하기"
   ]
  },
  {
   "cell_type": "code",
   "execution_count": 132,
   "id": "cca92fdd",
   "metadata": {},
   "outputs": [],
   "source": [
    "# 원문의 정수 시퀀스를 텍스트 시퀀스로 변환\n",
    "def seq2text(input_seq):\n",
    "    temp=''\n",
    "    for i in input_seq:\n",
    "        if (i!=0):\n",
    "            temp = temp + src_index_to_word[i]+' '\n",
    "    return temp\n",
    "\n",
    "# 요약문의 정수 시퀀스를 텍스트 시퀀스로 변환\n",
    "def seq2head(input_seq):\n",
    "    temp=''\n",
    "    for i in input_seq:\n",
    "        if ((i!=0 and i!=tar_word_to_index['sostoken']) and i!=tar_word_to_index['eostoken']):\n",
    "            temp = temp + tar_index_to_word[i] + ' '\n",
    "    return temp"
   ]
  },
  {
   "cell_type": "code",
   "execution_count": 133,
   "id": "16b91f76",
   "metadata": {},
   "outputs": [
    {
     "name": "stdout",
     "output_type": "stream",
     "text": [
      "원문 : sharing her picture with late actress sridevi taken on the sets of 'zero' karisma kapoor wrote thank you team 'zero' for giving me the opportunity to share screen space with the legend and my all time favourite sridevi sridevi who passed away earlier this year has a cameo in 'zero' along with karisma kajol rani mukerji and alia bhatt \n",
      "실제 요약 : all time favourite sridevi karisma on pic from sets of zero \n",
      "예측 요약 :  sridevi shares pic with sridevi from her 1st film on debut\n",
      "\n",
      "\n",
      "원문 : windies batsman viv richards has said he loves virat kohli's captaincy india weren't like this in 1970s 1980s or 1990s but it's nice to have someone like virat i love it aggression why not they now love to give it back that's what cricket is all about he added indian team today is the team to beat he further said \n",
      "실제 요약 : love kohli's captaincy india now love to give it back richards \n",
      "예측 요약 :  kohli is not virat kohli on kohli's remark\n",
      "\n",
      "\n",
      "원문 : bengaluru based home healthcare startup medical has raised 26 million funding in its series c funding round led by partners and ventures existing investors including accel partners and qualcomm ventures also participated in the funding round founded in 2013 offers in home medical services including and provides doctors and nurses for home visits \n",
      "실제 요약 : home healthcare startup raises 26 mn in series c \n",
      "예측 요약 :  bengaluru based startup raises 4 million\n",
      "\n",
      "\n",
      "원문 : congress president rahul gandhi has met muslim intellectuals in delhi to reportedly assure them that congress will adopt an inclusive approach for all sections of society the intellectuals reportedly told gandhi that muslims were feeling threatened due to congress' soft hindutva agenda following which gandhi said the party would not compromise on its core ideology or allow any injustice \n",
      "실제 요약 : cong won't allow rahul tells muslim \n",
      "예측 요약 :  rahul gandhi calls for congress' reservation\n",
      "\n",
      "\n",
      "원문 : markets regulator sebi on wednesday set new rules aimed at improving corporate governance in publicly traded companies the board said an individual can serve as a director on the boards of only seven companies by april 2020 moreover the top 500 companies by market value will be required to have separate ceos managing directors and from april 1 2020 \n",
      "실제 요약 : sebi board corporate governance norms \n",
      "예측 요약 :  sebi to probe il fs of companies for data\n",
      "\n",
      "\n",
      "원문 : slamming pm narendra modi delhi cm arvind kejriwal on thursday tweeted that people were missing an educated pm like dr manmohan singh alongside a report on the falling value of rupee kejriwal has repeatedly questioned the authenticity of pm modi's educational qualification notably singh had completed his phd from oxford university and was a professor at delhi school of economics \n",
      "실제 요약 : people missing educated pm like manmohan singh kejriwal \n",
      "예측 요약 :  pm modi's speech was like pm modi's disaster kejriwal\n",
      "\n",
      "\n",
      "원문 : internet services apart from broadband and leased lines have been suspended indefinitely in rajasthan's ahead of hanuman jayanti to prevent communal clashes services like bulk social media platforms and whatsapp also stand suspended the step was taken after people from hindu and muslim communities tweeted about bringing weapons during the hanuman jayanti celebrations \n",
      "실제 요약 : internet suspended in rajasthan ahead of hanuman jayanti \n",
      "예측 요약 :  google suspends new anti anti sterlite protests\n",
      "\n",
      "\n",
      "원문 : the red corner notice issued at the request of a member country is a request to locate and provisionally arrest an individual pending extradition it is not an international arrest warrant and each member country decides for itself what legal value to give the notice within their borders interpol cannot any member country to arrest an individual \n",
      "실제 요약 : what happens when interpol issues a red corner notice \n",
      "예측 요약 :  arrest warrant issued against nirav modi's arrest\n",
      "\n",
      "\n",
      "원문 : a physical education textbook for cbse class 12 students says that 24 figure is the best body shape for females published by new saraswati house the book further states that this is the reason why such type of shape is taken into consideration in beauty the book added that the body shape is considered the best for males \n",
      "실제 요약 : cbse textbook says perfect female figure is 24 \n",
      "예측 요약 :  cbse class 10 book question on class 10\n",
      "\n",
      "\n",
      "원문 : indian railways plans to about 400 'a 1' and 'a' category stations with private participation railways minister suresh prabhu has said these stations are generally located in major cities and are important tourist destinations prabhu said the cost of redevelopment will be met by the commercial development of spare railway land air space in and around the station \n",
      "실제 요약 : indian railways to 400 major stations \n",
      "예측 요약 :  railways to launch all indian railways in mumbai\n",
      "\n",
      "\n",
      "원문 : the us on wednesday said it is working with india and nuclear supplies group nsg members to push for new delhi's membership to the group the united states supports india's full membership in the four multilateral export control and we believe that india is ready for nsg membership a us state department spokesperson said \n",
      "실제 요약 : donald trump administration backs india's bid for nsg seat \n",
      "예측 요약 :  us to launch new nuclear program in india\n",
      "\n",
      "\n",
      "원문 : army chief general bipin rawat on saturday warned that incidents like the doklam standoff were likely to increase in future and said china is attempting to change the status quo on its border with india he further cautioned the troops against letting their guard down and hinted at the possibility of doklam like incidents in other sectors of the country \n",
      "실제 요약 : incidents like doklam may increase in future army chief \n",
      "예측 요약 :  china army chief urges china to build army car\n",
      "\n",
      "\n",
      "원문 : the song 'ek do teen which featured madhuri dixit from the 1988 film has been recreated as 'ek do teen song' for the film 'baaghi 2' the recreated version features actress jacqueline fernandez and has been sung by shreya ghoshal starring tiger shroff and disha patani in the lead roles 'baaghi 2' will release on march 30 \n",
      "실제 요약 : jacqueline stars in recreated ek do teen song for baaghi 2 \n",
      "예측 요약 :  sunny leone to appear together in song\n",
      "\n",
      "\n",
      "원문 : senior journalist and public relations officer in prime minister's office pmo jagdish thakkar passed away aged 72 on monday thakkar who had been unwell for some time passed away at delhi's all india institute of medical sciences thakkar worked with pm narendra modi since he was the chief minister of gujarat and later joined him in the pmo \n",
      "실제 요약 : public relations officer passes away \n",
      "예측 요약 :  former army chief passes away aged 91\n",
      "\n",
      "\n",
      "원문 : the telangana police has arrested five people for allegedly selling married women hailing from andhra pradesh and telangana to arab in gulf countries the accused sent victims to gulf nations on the pretext of providing them jobs and then forced them into prostitution police said the accused have trafficked over 100 women an investigation revealed \n",
      "실제 요약 : cops bust group selling indian women to arab \n",
      "예측 요약 :  2 arrested for sexually abusing women in goa\n",
      "\n",
      "\n",
      "원문 : the police on saturday discovered that property papers worth hundreds of crores were looted from ex tamil nadu cm jayalalithaa's estate bungalow on april 23 in which a security guard was also murdered notably some papers were also in the name of aiadmk jailed chief sasikala natarajan this comes amid the death of two accused in the murder \n",
      "실제 요약 : property papers worth crores looted from jaya's bungalow \n",
      "예측 요약 :  police officer recovered from andhra pradesh home scam\n",
      "\n",
      "\n",
      "원문 : facebook has sought more time from the indian government to determine the extent to which its security breach affected indian users the ministry of electronics and information technology had asked the social media giant to the impact on its users in india last week facebook had reported a security breach that had compromised data of over 50 million accounts \n",
      "실제 요약 : fb seeks more time to study breach impact on indian users \n",
      "예측 요약 :  facebook to fb accounts for indian soldiers\n",
      "\n",
      "\n",
      "원문 : arjun kapoor has said he never wanted to be an actor while adding i looked like a basketball so i didn't really think about acting he added when he was in the tenth standard he decided he'll become a director after watching the 1998 film stock and two smoking arjun made his acting debut in 2012 with 'ishaqzaade' \n",
      "실제 요약 : i looked like basketball never thought about acting arjun \n"
     ]
    },
    {
     "name": "stdout",
     "output_type": "stream",
     "text": [
      "예측 요약 :  i was a lot of my life arjun kapoor\n",
      "\n",
      "\n",
      "원문 : a report submitted by a special investigation team sit has claimed that uttar pradesh police constable prashant chaudhary shot dead apple executive vivek tiwari without any provocation it added that chaudhary who earlier claimed he shot in self defence had opened fire without any immediate threat to his life the seven member sit was headed by inspector general pandey \n",
      "실제 요약 : police firing that killed apple exec was sit \n",
      "예측 요약 :  police officer booked for killing in up\n",
      "\n",
      "\n",
      "원문 : the 18 rebel aiadmk mlas will not move the supreme court against the madras high court's order upholding their disqualification but will face the by elections leader ttv dhinakaran said chief election commissioner op rawat had said the commission will start making arrangements for by elections if the disqualified mlas fail to challenge the verdict within 30 days \n",
      "실제 요약 : 18 aiadmk rebel mlas won't challenge disqualification order \n",
      "예측 요약 :  sc moves sc to hear plea against evm tampering\n",
      "\n",
      "\n",
      "원문 : a cook was fired from a government school in rajasthan for throwing away the mid day meal touched by a schoolgirl who belonged to a lower caste the school principal has said the action was taken after a video of the girl narrating the incident went viral the principal said the cook tendered her apology but the locals were not \n",
      "실제 요약 : cook fired for throwing food touched by lower caste girl \n",
      "예측 요약 :  rajasthan shelter train attacked by mid day meal\n",
      "\n",
      "\n",
      "원문 : seeking action against lawyers for obstructing the filing of chargesheet in the kathua rape case the supreme court on friday said no one should be allowed to obstruct justice to the eight year old victim serving notices to the bar associations of kathua and j k hc the sc added the victim's counsel must be allowed to present her case \n",
      "실제 요약 : no one can justice sc on kathua rape case \n",
      "예측 요약 :  no one of kathua rape cases not linked to sc\n",
      "\n",
      "\n",
      "원문 : talking about the unnao rape case karnataka congress working president dinesh rao on saturday said that uttar pradesh cm yogi adityanath would have resigned by now if he had any decency mr adityanath is a disgrace to indian politics and he is unfit to be the chief minister of uttar pradesh rao added \n",
      "실제 요약 : yogi would've resigned if he had any cong leader \n",
      "예측 요약 :  cong has no one of our party yogi adityanath\n",
      "\n",
      "\n",
      "원문 : communal violence was triggered in west bengal's north 24 district on monday reportedly over an facebook post by a student three hundred paramilitary personnel have been deployed by the centre to help contain the violence reportedly have torched police vehicles vandalised shops and houses and blocked roads \n",
      "실제 요약 : facebook post sparks communal violence in west bengal \n",
      "예측 요약 :  sp leader held for violent violence\n",
      "\n",
      "\n",
      "원문 : the rss on thursday said that the charges against bjp chief amit shah's son jay shah can be probed if there is prima facie evidence necessary enquiry should be done and action can be taken accordingly those making the allegations should prove them first senior rss functionary said \n",
      "실제 요약 : jay shah can be probed if there is evidence rss \n",
      "예측 요약 :  amit shah calls amit shah's son\n",
      "\n",
      "\n",
      "원문 : indian opener rohit sharma was hit on the head by australian wicketkeeper matthew throw during the fourth odi on thursday the incident happened in the 16th over when wade received the ball from long on and attempted to return it to the bowler the ball fell short of the bowler and landed on non striker sharma's helmet \n",
      "실제 요약 : rohit sharma hit on the head by throw \n",
      "예측 요약 :  rohit sharma hits six metre ball while taking off\n",
      "\n",
      "\n",
      "원문 : the income tax department conducted raids at 22 locations in delhi and gurugram on tuesday in connection with benami land deals involving rjd chief lalu prasad yadav and his family there are allegations of benami deals worth about ã¢ââ¹1 000 crore and subsequent tax evasion an official said the raids were conducted on people and businessmen connected to the deal \n",
      "실제 요약 : t raids 22 places in ã¢ââ¹1 000 cr benami scam involving lalu \n",
      "예측 요약 :  delhi high court seizes lalu prasad's farmhouse of benami assets\n",
      "\n",
      "\n",
      "원문 : the fifth largest diamond in history the legend has been sold for 40 million nearly crore in belgium the carat diamond which is approximately the size of two golf balls was found in in southern africa earlier this year it is a d colour type diamond meaning it has very few or no nitrogen atoms \n",
      "실제 요약 : world's fifth largest diamond sells for crore \n",
      "예측 요약 :  diamond sold for the first time ever\n",
      "\n",
      "\n",
      "원문 : the government is not considering any proposal to rank kendriya across the country union minister upendra kushwaha said on monday this comes after reports said that the government was planning to rank the on the lines of universities and colleges with an aim to improve the institutions by holding a competition \n",
      "실제 요약 : govt not planning to rank \n",
      "예측 요약 :  no budget between govt union minister\n",
      "\n",
      "\n",
      "원문 : the rbi has said that any entity regulated by it like banks shall be barred from providing services to any individual or business dealing in bitcoin and other cryptocurrencies rbi has given three months to banks to exit their relationship with such entities the regulator however said it will promote the use of blockchain in financial services for strengthening transparency \n",
      "실제 요약 : rbi bans banks from dealing with bitcoin other cryptocurrencies \n",
      "예측 요약 :  rbi should not be a non payment of rbi governor\n",
      "\n",
      "\n",
      "원문 : the international monetary fund's imf communications director rice has said that the tax collection in india's 2018 19 budget are ambitious it that the government would be able to climb higher tax revenue from the same amount of consumption and income rice added however he further said that imf welcomes the budget targets and is supportive of them \n",
      "실제 요약 : tax collection in india's budget imf \n",
      "예측 요약 :  india will be held in the world board ant buffett's\n",
      "\n",
      "\n",
      "원문 : has said he's jealous of filmmakers in his company who're making movies i want to be a director again producing movies is amazing but the pleasure you get out of directing a film on your own is another thing he added johar further said he has never been more lost in his life about what he wants to do next \n",
      "실제 요약 : i'm jealous of filmmakers who are making movies johar \n",
      "예측 요약 :  i am not a film for the script says sushant\n",
      "\n",
      "\n",
      "원문 : paul michael who jointly won the 2018 nobel memorial prize in economics said in 2017 that india's aadhaar biometric database was the most sophisticated that he'd ever seen who was world bank chief economist at that time also said the government should give some control to individuals as to how the data is being used by private companies \n",
      "실제 요약 : nobel winning economist paul backed aadhaar in 2017 \n",
      "예측 요약 :  world bank won 1 million prize for world bank\n",
      "\n",
      "\n",
      "원문 : japan has activated its first marine unit since world war ii to counter invaders occupying the country's islands along the east china sea this comes after china which also claims the group of islands announced 175 billion for defence in its budget for 2018 given the situation defence of our islands is critical japan's defence ministry said \n",
      "실제 요약 : japan 1st marine unit since to boost defence \n",
      "예측 요약 :  china opens world's biggest military drill\n",
      "\n",
      "\n",
      "원문 : after uttar pradesh cm yogi adityanath said he is a hindu and does not celebrate eid samajwadi party chief akhilesh yadav asked if you are hindu then say who we are cm adityanath should either accept us as hindus or count us among the dalits and backwards yadav added this comes ahead of the up bypolls scheduled for march 11 \n",
      "실제 요약 : who are we asks akhilesh after up cm yogi says he's hindu \n",
      "예측 요약 :  yogi adityanath is a cows akhilesh on ram mandir remark\n",
      "\n",
      "\n",
      "원문 : addressing a students' convention in delhi pm narendra modi on monday said that those people who cannot keep india clean have no right to chant vande mataram we eat paan and then spit and say vande mataram do we have the right to say vande mataram people who work tirelessly have the first right to chant vande mataram modi added \n",
      "실제 요약 : those who shouldn't chant vande mataram pm \n",
      "예측 요약 :  not red pm modi on red fort sing for traffic cong\n",
      "\n",
      "\n",
      "원문 : australian batsman aaron finch has been declared ready to bat in the second test after scans revealed that he has suffered no serious injury finch was retired hurt after indian pacer mohammad shami's delivery hit him on his right index finger following the delivery finch was rushed to a nearby hospital for an x ray \n",
      "실제 요약 : aaron finch ready to bat scans confirm no serious injury \n"
     ]
    },
    {
     "name": "stdout",
     "output_type": "stream",
     "text": [
      "예측 요약 :  i was a lot of a ball tampering scandal\n",
      "\n",
      "\n",
      "원문 : google's self driving car spinoff company waymo has launched an educational campaign called talk self for fully self driving cars the campaign aims to increase understanding of self driving technology and how it can help address safety challenges on roads waymo has collaborated with several digital outdoor and radio advertising organisation in arizona us for the same \n",
      "실제 요약 : waymo launches educational campaign for self driving cars \n",
      "예측 요약 :  google unveils self driving cars in self driving cars\n",
      "\n",
      "\n",
      "원문 : senior rss leader suresh joshi on thursday said india has never considered pakistan as its enemy while pakistan has always considered india as its enemy he further claimed india has never considered china our enemy but china behaves with india as if it is our enemy bangladesh has resorted to a passive attack on india through infiltration he added \n",
      "실제 요약 : india never considered pakistan china as its enemies rss \n",
      "예측 요약 :  india should be a third country ex pak leader\n",
      "\n",
      "\n",
      "원문 : addressing a press conference on saturday karni sena chief lokendra singh kalvi again denied any role in the attack on school bus in gurugram on january 24 adding that he had proof that they had no part in any attack in the country he said we are open to probe by highest of authorities including the central bureau of investigation \n",
      "실제 요약 : karni sena denies role in gurugram school bus attack \n",
      "예측 요약 :  let people killed in bus accident shiv sena\n",
      "\n",
      "\n",
      "원문 : djibouti football federation has dissolved the country's senior national team in order to poor the decision comes after djibouti lost 5 1 against ethiopia in their 2018 african nations championship qualifier match on saturday according to the officials the federation will now focus on youth football and will participate in under 15 under 17 or under 20 tournaments \n",
      "실제 요약 : country national football team to stop bad results \n",
      "예측 요약 :  brazil team to reach champions trophy final for 3rd time\n",
      "\n",
      "\n",
      "원문 : aap delhi convenor dilip k pandey on wednesday resigned from the post after the party's loss in municipal corporation of delhi mcd elections i have resigned d post of aap delhi convenor conveyed to national convenor to give this responsibility to someone else tweeted pandey bjp swept the elections winning 181 out of the total 270 wards \n",
      "실제 요약 : aap delhi resigns after party's loss in mcd polls \n",
      "예측 요약 :  aap mlas who mlas quit aap after aap mlas\n",
      "\n",
      "\n",
      "원문 : author de was slammed on twitter for calling a few of india's men's cricketers while adding she hoped the country's amazing women cricketers were protected from a user tweeted below the belt you can be of women without pulling the men down another tweet read why should the women not benefit from their stardom \n",
      "실제 요약 : shobhaa de slammed for calling indian cricketers \n",
      "예측 요약 :  twitter slams media for women who criticised\n",
      "\n",
      "\n",
      "원문 : at least two persons died and 40 were injured after a stampede took place at chennai's hall on wednesday where dmk chief m karunanidhi's mortal remains were kept the injured were admitted to rajiv gandhi government hospital over one lakh people were waiting outside the hall to get a glimpse of the five time tamil nadu chief minister \n",
      "실제 요약 : 2 dead in stampede as people pay last respects to karunanidhi \n",
      "예측 요약 :  3 injured as national national event in uttar pradesh\n",
      "\n",
      "\n",
      "원문 : chief election commissioner op rawat has dismissed congress' allegations on the commission's delay in announcement of election dates saying politicians and political parties have to see politics in everything because of their inherent nature congress spokesperson randeep surjewala had hinted that the delay in the announcement was to accommodate pm narendra modi's rally in ajmer \n",
      "실제 요약 : politicians see politics in everything election body chief \n",
      "예측 요약 :  no one of poll in poll ec\n",
      "\n",
      "\n",
      "원문 : further against the us dollar to close at a fresh record low of 71 76 a dollar the sixth consecutive session when the currency fell this was 0 27 down from tuesday's close of 71 57 the rupee has weakened 11 this year while foreign investors have sold 60 million and 5 75 billion in equity and debt markets respectively \n",
      "실제 요약 : rupee closes at fresh record low of 71 76 against us dollar \n",
      "예측 요약 :  sensex falls points nifty hit by 0 of 1 trillion\n",
      "\n",
      "\n",
      "원문 : a russia uk research collaboration has successfully demonstrated that a type of which combines light and matter can be used to solve complex problems conventional computers track entire functions for their lowest points to find solutions whereas the entire landscape can be filled with magic dust which would shine only at the deepest level giving the solution said researchers \n",
      "실제 요약 : computers based on of light and matter proposed \n",
      "예측 요약 :  scientists develop images of copying water\n",
      "\n",
      "\n",
      "원문 : the andhra pradesh unit of the congress has decided to send e rakhis to prime minister narendra modi in order to pressurise the centre into fulfilling its promises to the state the rakhis reportedly have rahul gandhi's image in the centre and carry slogans about promises made by the centre such as special category status to andhra pradesh among others \n",
      "실제 요약 : ap congress send rakhis to pm modi asking to fulfil promises \n",
      "예측 요약 :  pm modi govt to give up to form govt in goa\n",
      "\n",
      "\n",
      "원문 : malayalam actor mohanlal revealed the title of his upcoming film on twitter on sunday on the occasion of his birthday titled the film will be the first time that mohanlal will be working with director mohanlal was honoured in 2001 with the padma shri india's fourth highest civilian honour for his contributions towards indian cinema \n",
      "실제 요약 : mohanlal reveals title of upcoming film on his birthday \n",
      "예측 요약 :  actor wishes actor on his b'day\n",
      "\n",
      "\n",
      "원문 : england and manchester united captain david beckham revealed in a talk show that it is heartbreaking that none of his three sons play football despite being talented the 43 year old also revealed that his six year old daughter harper plays the sport and he gets very while watching her play the sport it's down to harper now beckham said \n",
      "실제 요약 : that my sons don't play football beckham \n",
      "예측 요약 :  will be part of the year with captain says coach\n",
      "\n",
      "\n"
     ]
    }
   ],
   "source": [
    "for i in range(50, 100):\n",
    "    print(\"원문 :\", seq2text(encoder_input_test[i]))\n",
    "    print(\"실제 요약 :\", seq2head(decoder_input_test[i]))\n",
    "    print(\"예측 요약 :\", decode_sequence(encoder_input_test[i].reshape(1, text_max_len)))\n",
    "    print(\"\\n\")"
   ]
  },
  {
   "cell_type": "markdown",
   "id": "35e7bcb6",
   "metadata": {},
   "source": [
    "# Summa 이용한 추출 요약 해보기"
   ]
  },
  {
   "cell_type": "code",
   "execution_count": 134,
   "id": "2464bf5d",
   "metadata": {},
   "outputs": [],
   "source": [
    "import requests\n",
    "from summa.summarizer import summarize"
   ]
  },
  {
   "cell_type": "code",
   "execution_count": 141,
   "id": "a3874bc3",
   "metadata": {},
   "outputs": [],
   "source": [
    "text = requests.get(\"https://raw.githubusercontent.com/sunnysai12345/News_Summary/master/news_summary_more.csv\").text"
   ]
  },
  {
   "cell_type": "code",
   "execution_count": null,
   "id": "759184e5",
   "metadata": {},
   "outputs": [],
   "source": [
    "print('Summary:')\n",
    "print(summarize(text, ratio=0.005))"
   ]
  }
 ],
 "metadata": {
  "kernelspec": {
   "display_name": "Python 3 (ipykernel)",
   "language": "python",
   "name": "python3"
  },
  "language_info": {
   "codemirror_mode": {
    "name": "ipython",
    "version": 3
   },
   "file_extension": ".py",
   "mimetype": "text/x-python",
   "name": "python",
   "nbconvert_exporter": "python",
   "pygments_lexer": "ipython3",
   "version": "3.9.7"
  }
 },
 "nbformat": 4,
 "nbformat_minor": 5
}
