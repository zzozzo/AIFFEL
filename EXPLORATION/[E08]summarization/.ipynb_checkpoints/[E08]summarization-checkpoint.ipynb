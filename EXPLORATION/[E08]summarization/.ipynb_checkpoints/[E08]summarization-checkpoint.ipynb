{
 "cells": [
  {
   "cell_type": "markdown",
   "id": "85e4c9ea",
   "metadata": {},
   "source": [
    "# 1. 패키지 import + 데이터 다운로드\n"
   ]
  },
  {
   "cell_type": "code",
   "execution_count": 1,
   "id": "4a7cf997",
   "metadata": {},
   "outputs": [
    {
     "name": "stderr",
     "output_type": "stream",
     "text": [
      "[nltk_data] Downloading package stopwords to /aiffel/nltk_data...\n",
      "[nltk_data]   Package stopwords is already up-to-date!\n"
     ]
    }
   ],
   "source": [
    "import nltk\n",
    "nltk.download('stopwords')\n",
    "\n",
    "import numpy as np\n",
    "import pandas as pd\n",
    "import os\n",
    "import re\n",
    "import matplotlib.pyplot as plt\n",
    "from nltk.corpus import stopwords\n",
    "from bs4 import BeautifulSoup \n",
    "from tensorflow.keras.preprocessing.text import Tokenizer \n",
    "from tensorflow.keras.preprocessing.sequence import pad_sequences\n",
    "import urllib.request\n",
    "import warnings\n",
    "warnings.filterwarnings(\"ignore\", category=UserWarning, module='bs4')"
   ]
  },
  {
   "cell_type": "code",
   "execution_count": 2,
   "id": "1173f567",
   "metadata": {},
   "outputs": [
    {
     "name": "stdout",
     "output_type": "stream",
     "text": [
      "전체 샘플수 : 98401\n"
     ]
    }
   ],
   "source": [
    "import urllib.request\n",
    "urllib.request.urlretrieve(\"https://raw.githubusercontent.com/sunnysai12345/News_Summary/master/news_summary_more.csv\", filename=\"news_summary_more.csv\")\n",
    "data = pd.read_csv('news_summary_more.csv', encoding='iso-8859-1')\n",
    "\n",
    "#샘플수 확인\n",
    "print('전체 샘플수 :', (len(data)))"
   ]
  },
  {
   "cell_type": "code",
   "execution_count": 3,
   "id": "d64e1885",
   "metadata": {},
   "outputs": [
    {
     "data": {
      "text/html": [
       "<div>\n",
       "<style scoped>\n",
       "    .dataframe tbody tr th:only-of-type {\n",
       "        vertical-align: middle;\n",
       "    }\n",
       "\n",
       "    .dataframe tbody tr th {\n",
       "        vertical-align: top;\n",
       "    }\n",
       "\n",
       "    .dataframe thead th {\n",
       "        text-align: right;\n",
       "    }\n",
       "</style>\n",
       "<table border=\"1\" class=\"dataframe\">\n",
       "  <thead>\n",
       "    <tr style=\"text-align: right;\">\n",
       "      <th></th>\n",
       "      <th>headlines</th>\n",
       "      <th>text</th>\n",
       "    </tr>\n",
       "  </thead>\n",
       "  <tbody>\n",
       "    <tr>\n",
       "      <th>2540</th>\n",
       "      <td>Shareef tha voh bechara: Anupam Kher's mother ...</td>\n",
       "      <td>In a video shared by Anupam Kher asking his mo...</td>\n",
       "    </tr>\n",
       "    <tr>\n",
       "      <th>90964</th>\n",
       "      <td>Will join BJP if asked to: Murder accused UP MLA</td>\n",
       "      <td>Amanmani Tripathi, who is an independent MLA f...</td>\n",
       "    </tr>\n",
       "    <tr>\n",
       "      <th>73798</th>\n",
       "      <td>Priyanka, Modi named influencers of 2017 by Li...</td>\n",
       "      <td>Actress Priyanka Chopra along with PM Narendra...</td>\n",
       "    </tr>\n",
       "    <tr>\n",
       "      <th>66122</th>\n",
       "      <td>FIFA suspends Pakistan from international foot...</td>\n",
       "      <td>FIFA has suspended Pakistan Football Federatio...</td>\n",
       "    </tr>\n",
       "    <tr>\n",
       "      <th>63589</th>\n",
       "      <td>Google plans update to fix Pixel 2 sound issues</td>\n",
       "      <td>Technology giant Google is planning a software...</td>\n",
       "    </tr>\n",
       "    <tr>\n",
       "      <th>78566</th>\n",
       "      <td>Former HC judge Karnan seeks pardon from Presi...</td>\n",
       "      <td>Former Calcutta High Court judge CS Karnan on ...</td>\n",
       "    </tr>\n",
       "    <tr>\n",
       "      <th>67008</th>\n",
       "      <td>Google removes headphone jack in Pixel 2 smart...</td>\n",
       "      <td>Technology giant Google has removed the headph...</td>\n",
       "    </tr>\n",
       "    <tr>\n",
       "      <th>31320</th>\n",
       "      <td>Ex-VP Ansari supports AMU students in Jinnah p...</td>\n",
       "      <td>Former Vice President Hamid Ansari has said th...</td>\n",
       "    </tr>\n",
       "    <tr>\n",
       "      <th>55561</th>\n",
       "      <td>Australia's 1st submarine vanished in WWI foun...</td>\n",
       "      <td>Australia's first submarine which disappeared ...</td>\n",
       "    </tr>\n",
       "    <tr>\n",
       "      <th>91658</th>\n",
       "      <td>BJP will punish perpetrators of Sukma encounte...</td>\n",
       "      <td>Bharatiya Janata Party (BJP) National Presiden...</td>\n",
       "    </tr>\n",
       "  </tbody>\n",
       "</table>\n",
       "</div>"
      ],
      "text/plain": [
       "                                               headlines  \\\n",
       "2540   Shareef tha voh bechara: Anupam Kher's mother ...   \n",
       "90964   Will join BJP if asked to: Murder accused UP MLA   \n",
       "73798  Priyanka, Modi named influencers of 2017 by Li...   \n",
       "66122  FIFA suspends Pakistan from international foot...   \n",
       "63589    Google plans update to fix Pixel 2 sound issues   \n",
       "78566  Former HC judge Karnan seeks pardon from Presi...   \n",
       "67008  Google removes headphone jack in Pixel 2 smart...   \n",
       "31320  Ex-VP Ansari supports AMU students in Jinnah p...   \n",
       "55561  Australia's 1st submarine vanished in WWI foun...   \n",
       "91658  BJP will punish perpetrators of Sukma encounte...   \n",
       "\n",
       "                                                    text  \n",
       "2540   In a video shared by Anupam Kher asking his mo...  \n",
       "90964  Amanmani Tripathi, who is an independent MLA f...  \n",
       "73798  Actress Priyanka Chopra along with PM Narendra...  \n",
       "66122  FIFA has suspended Pakistan Football Federatio...  \n",
       "63589  Technology giant Google is planning a software...  \n",
       "78566  Former Calcutta High Court judge CS Karnan on ...  \n",
       "67008  Technology giant Google has removed the headph...  \n",
       "31320  Former Vice President Hamid Ansari has said th...  \n",
       "55561  Australia's first submarine which disappeared ...  \n",
       "91658  Bharatiya Janata Party (BJP) National Presiden...  "
      ]
     },
     "execution_count": 3,
     "metadata": {},
     "output_type": "execute_result"
    }
   ],
   "source": [
    "data.sample(10)"
   ]
  },
  {
   "cell_type": "markdown",
   "id": "09f88194",
   "metadata": {},
   "source": [
    "- 추상적 요약을 하는 경우에는 text를 본문, headlines를 이미 요약된 데이터로 설정할 수 있음   \n",
    "- 추출적 요약을 하는 경우에는 text열만을 사용"
   ]
  },
  {
   "cell_type": "markdown",
   "id": "29c31a68",
   "metadata": {},
   "source": [
    "# 2. 데이터 전처리\n",
    "- 중복 데이터 처리하기   \n",
    "- null값 처리하기   \n",
    "- 정규화 하기   \n",
    "- 불용어 제거   \n",
    "- 데이터 샘플 최대 길이 정하기   \n",
    "- 시작, 종료 토큰 추가하기      \n",
    "- 데이터셋 분리하기   \n",
    "- 정수 인코딩   \n",
    "- 패딩하기   "
   ]
  },
  {
   "cell_type": "markdown",
   "id": "eb18f0fa",
   "metadata": {},
   "source": [
    "### 1) 중복 데이터 처리하기 "
   ]
  },
  {
   "cell_type": "code",
   "execution_count": 4,
   "id": "e6d9adfe",
   "metadata": {},
   "outputs": [
    {
     "name": "stdout",
     "output_type": "stream",
     "text": [
      "headlines 열에서 중복을 배제한 유일한 샘플의 수 : 98280\n",
      "text 열에서 중복을 배제한 유일한 샘플의 수 : 98360\n"
     ]
    }
   ],
   "source": [
    "#중복 확인하기\n",
    "print('headlines 열에서 중복을 배제한 유일한 샘플의 수 :', data['headlines'].nunique())\n",
    "print('text 열에서 중복을 배제한 유일한 샘플의 수 :', data['text'].nunique())"
   ]
  },
  {
   "cell_type": "code",
   "execution_count": 5,
   "id": "3cee9c0b",
   "metadata": {},
   "outputs": [
    {
     "name": "stdout",
     "output_type": "stream",
     "text": [
      "전체 샘플수 : 98360\n"
     ]
    }
   ],
   "source": [
    "#중복 제거하기\n",
    "# inplace=True 를 설정하면 DataFrame 타입 값을 return 하지 않고 data 내부를 직접적으로 바꿉니다\n",
    "data.drop_duplicates(subset = ['text'], inplace=True)\n",
    "print('전체 샘플수 :', (len(data)))"
   ]
  },
  {
   "cell_type": "markdown",
   "id": "6606f922",
   "metadata": {},
   "source": [
    "### 2) null값 처리하기"
   ]
  },
  {
   "cell_type": "code",
   "execution_count": 6,
   "id": "e6f6f513",
   "metadata": {},
   "outputs": [
    {
     "name": "stdout",
     "output_type": "stream",
     "text": [
      "headlines    0\n",
      "text         0\n",
      "dtype: int64\n"
     ]
    }
   ],
   "source": [
    "#null값 확인하기\n",
    "print(data.isnull().sum())"
   ]
  },
  {
   "cell_type": "markdown",
   "id": "2d567576",
   "metadata": {},
   "source": [
    "null 값이 없다!!   \n",
    "우선 제거를 패스한다"
   ]
  },
  {
   "cell_type": "markdown",
   "id": "07ad9b57",
   "metadata": {},
   "source": [
    "### 3) 정규화 하기"
   ]
  },
  {
   "cell_type": "code",
   "execution_count": 7,
   "id": "2fe9970b",
   "metadata": {},
   "outputs": [
    {
     "name": "stdout",
     "output_type": "stream",
     "text": [
      "정규화 사전의 수:  120\n"
     ]
    }
   ],
   "source": [
    "#텍스트 = 정규화 사전\n",
    "contractions = {\"ain't\": \"is not\", \"aren't\": \"are not\",\"can't\": \"cannot\", \"'cause\": \"because\", \"could've\": \"could have\", \"couldn't\": \"could not\",\n",
    "                           \"didn't\": \"did not\",  \"doesn't\": \"does not\", \"don't\": \"do not\", \"hadn't\": \"had not\", \"hasn't\": \"has not\", \"haven't\": \"have not\",\n",
    "                           \"he'd\": \"he would\",\"he'll\": \"he will\", \"he's\": \"he is\", \"how'd\": \"how did\", \"how'd'y\": \"how do you\", \"how'll\": \"how will\", \"how's\": \"how is\",\n",
    "                           \"I'd\": \"I would\", \"I'd've\": \"I would have\", \"I'll\": \"I will\", \"I'll've\": \"I will have\",\"I'm\": \"I am\", \"I've\": \"I have\", \"i'd\": \"i would\",\n",
    "                           \"i'd've\": \"i would have\", \"i'll\": \"i will\",  \"i'll've\": \"i will have\",\"i'm\": \"i am\", \"i've\": \"i have\", \"isn't\": \"is not\", \"it'd\": \"it would\",\n",
    "                           \"it'd've\": \"it would have\", \"it'll\": \"it will\", \"it'll've\": \"it will have\",\"it's\": \"it is\", \"let's\": \"let us\", \"ma'am\": \"madam\",\n",
    "                           \"mayn't\": \"may not\", \"might've\": \"might have\",\"mightn't\": \"might not\",\"mightn't've\": \"might not have\", \"must've\": \"must have\",\n",
    "                           \"mustn't\": \"must not\", \"mustn't've\": \"must not have\", \"needn't\": \"need not\", \"needn't've\": \"need not have\",\"o'clock\": \"of the clock\",\n",
    "                           \"oughtn't\": \"ought not\", \"oughtn't've\": \"ought not have\", \"shan't\": \"shall not\", \"sha'n't\": \"shall not\", \"shan't've\": \"shall not have\",\n",
    "                           \"she'd\": \"she would\", \"she'd've\": \"she would have\", \"she'll\": \"she will\", \"she'll've\": \"she will have\", \"she's\": \"she is\",\n",
    "                           \"should've\": \"should have\", \"shouldn't\": \"should not\", \"shouldn't've\": \"should not have\", \"so've\": \"so have\",\"so's\": \"so as\",\n",
    "                           \"this's\": \"this is\",\"that'd\": \"that would\", \"that'd've\": \"that would have\", \"that's\": \"that is\", \"there'd\": \"there would\",\n",
    "                           \"there'd've\": \"there would have\", \"there's\": \"there is\", \"here's\": \"here is\",\"they'd\": \"they would\", \"they'd've\": \"they would have\",\n",
    "                           \"they'll\": \"they will\", \"they'll've\": \"they will have\", \"they're\": \"they are\", \"they've\": \"they have\", \"to've\": \"to have\",\n",
    "                           \"wasn't\": \"was not\", \"we'd\": \"we would\", \"we'd've\": \"we would have\", \"we'll\": \"we will\", \"we'll've\": \"we will have\", \"we're\": \"we are\",\n",
    "                           \"we've\": \"we have\", \"weren't\": \"were not\", \"what'll\": \"what will\", \"what'll've\": \"what will have\", \"what're\": \"what are\",\n",
    "                           \"what's\": \"what is\", \"what've\": \"what have\", \"when's\": \"when is\", \"when've\": \"when have\", \"where'd\": \"where did\", \"where's\": \"where is\",\n",
    "                           \"where've\": \"where have\", \"who'll\": \"who will\", \"who'll've\": \"who will have\", \"who's\": \"who is\", \"who've\": \"who have\",\n",
    "                           \"why's\": \"why is\", \"why've\": \"why have\", \"will've\": \"will have\", \"won't\": \"will not\", \"won't've\": \"will not have\",\n",
    "                           \"would've\": \"would have\", \"wouldn't\": \"would not\", \"wouldn't've\": \"would not have\", \"y'all\": \"you all\",\n",
    "                           \"y'all'd\": \"you all would\",\"y'all'd've\": \"you all would have\",\"y'all're\": \"you all are\",\"y'all've\": \"you all have\",\n",
    "                           \"you'd\": \"you would\", \"you'd've\": \"you would have\", \"you'll\": \"you will\", \"you'll've\": \"you will have\",\n",
    "                           \"you're\": \"you are\", \"you've\": \"you have\"}\n",
    "\n",
    "print(\"정규화 사전의 수: \", len(contractions))"
   ]
  },
  {
   "cell_type": "markdown",
   "id": "74b6fcd4",
   "metadata": {},
   "source": [
    "### 4) 불용어 제거 "
   ]
  },
  {
   "cell_type": "code",
   "execution_count": 8,
   "id": "0e92f257",
   "metadata": {},
   "outputs": [],
   "source": [
    "#불용어 제거\n",
    "# 데이터 전처리 함수\n",
    "def preprocess_sentence(sentence, remove_stopwords=True):\n",
    "    sentence = sentence.lower() # 텍스트 소문자화\n",
    "    sentence = BeautifulSoup(sentence, \"lxml\").text # <br />, <a href = ...> 등의 html 태그 제거\n",
    "    sentence = re.sub(r'\\([^)]*\\)', '', sentence) # 괄호로 닫힌 문자열 (...) 제거 Ex) my husband (and myself!) for => my husband for\n",
    "    sentence = re.sub('\"','', sentence) # 쌍따옴표 \" 제거\n",
    "    sentence = ' '.join([contractions[t] if t in contractions else t for t in sentence.split(\" \")]) # 약어 정규화\n",
    "    sentence = re.sub(r\"'s\\b\",\"\", sentence) # 소유격 제거. Ex) roland's -> roland\n",
    "    sentence = re.sub(\"[^a-zA-Z]\", \" \", sentence) # 영어 외 문자(숫자, 특수문자 등) 공백으로 변환\n",
    "    sentence = re.sub('[m]{2,}', 'mm', sentence) # m이 3개 이상이면 2개로 변경. Ex) ummmmmmm yeah -> umm yeah\n",
    "    sentence = re.sub('https?://\\S+|www\\.\\S+', '', sentence)#url 제거\n",
    "    \n",
    "    # 불용어 제거 (Text)\n",
    "    if remove_stopwords:\n",
    "        tokens = ' '.join(word for word in sentence.split() if not word in stopwords.words('english') if len(word) > 1)\n",
    "    # 불용어 미제거 (Summary)\n",
    "    else:\n",
    "        tokens = ' '.join(word for word in sentence.split() if len(word) > 1)\n",
    "    return tokens"
   ]
  },
  {
   "cell_type": "code",
   "execution_count": 9,
   "id": "ed6af200",
   "metadata": {},
   "outputs": [
    {
     "name": "stdout",
     "output_type": "stream",
     "text": [
      "Text 전처리 후 결과:  ['saurav kant alumnus upgrad iiit pg program machine learning artificial intelligence sr systems engineer infosys almost years work experience program upgrad degree career support helped transition data scientist tech mahindra salary hike upgrad online power learning powered lakh careers', 'kunal shah credit card bill payment platform cred gave users chance win free food swiggy one year pranav kaushik delhi techie bagged reward spending cred coins users get one cred coin per rupee bill paid used avail rewards brands like ixigo bookmyshow ubereats cult fit', 'new zealand defeated india wickets fourth odi hamilton thursday win first match five match odi series india lost international match rohit sharma captaincy consecutive victories dating back march match witnessed india getting seventh lowest total odi cricket history', 'aegon life iterm insurance plan customers enjoy tax benefits premiums paid save taxes plan provides life cover age years also customers options insure critical illnesses disability accidental death benefit rider life cover age years', 'speaking sexual harassment allegations rajkumar hirani sonam kapoor said known hirani many years true metoo movement get derailed metoo movement always believe woman case need reserve judgment added hirani accused assistant worked sanju']\n"
     ]
    }
   ],
   "source": [
    "clean_text = []\n",
    "# 전체 Text 데이터에 대한 전처리 : 10분 이상 시간이 걸릴 수 있습니다. \n",
    "for s in data['text']:\n",
    "    clean_text.append(preprocess_sentence(s))\n",
    "\n",
    "# 전처리 후 출력\n",
    "print(\"Text 전처리 후 결과: \", clean_text[:5])"
   ]
  },
  {
   "cell_type": "code",
   "execution_count": 10,
   "id": "aae0c008",
   "metadata": {},
   "outputs": [
    {
     "name": "stdout",
     "output_type": "stream",
     "text": [
      "headlines 전처리 후 결과:  ['upgrad learner switches to career in ml al with salary hike', 'delhi techie wins free food from swiggy for one year on cred', 'new zealand end rohit sharma led india match winning streak', 'aegon life iterm insurance plan helps customers save tax', 'have known hirani for yrs what if metoo claims are not true sonam']\n"
     ]
    }
   ],
   "source": [
    "clean_headlines = []\n",
    "# 전체 Summary 데이터에 대한 전처리 : 5분 이상 시간이 걸릴 수 있습니다. \n",
    "for s in data['headlines']:\n",
    "    clean_headlines.append(preprocess_sentence(s, False))\n",
    "\n",
    "print(\"headlines 전처리 후 결과: \", clean_headlines[:5])"
   ]
  },
  {
   "cell_type": "code",
   "execution_count": 11,
   "id": "331e4364",
   "metadata": {},
   "outputs": [
    {
     "name": "stdout",
     "output_type": "stream",
     "text": [
      "headlines    0\n",
      "text         0\n",
      "dtype: int64\n"
     ]
    }
   ],
   "source": [
    "print(data.isnull().sum())"
   ]
  },
  {
   "cell_type": "markdown",
   "id": "575e1074",
   "metadata": {},
   "source": [
    "### 5) 데이터 샘플 최대 길이 정하기 "
   ]
  },
  {
   "cell_type": "code",
   "execution_count": 12,
   "id": "dc5a3a25",
   "metadata": {},
   "outputs": [
    {
     "name": "stdout",
     "output_type": "stream",
     "text": [
      "텍스트의 최소 길이 : 1\n",
      "텍스트의 최대 길이 : 91\n",
      "텍스트의 평균 길이 : 58.23813542090281\n",
      "텍스트의 길이 분산 : 2.3842567599226006\n",
      "헤드라인의 최소 길이 : 1\n",
      "헤드라인의 최대 길이 : 18\n",
      "헤드라인의 평균 길이 : 9.553660024400163\n"
     ]
    },
    {
     "data": {
      "image/png": "[encoded data removed]",
      "text/plain": [
       "<Figure size 432x288 with 2 Axes>"
      ]
     },
     "metadata": {
      "needs_background": "light"
     },
     "output_type": "display_data"
    },
    {
     "data": {
      "image/png": "[encoded data removed]",
      "text/plain": [
       "<Figure size 432x288 with 1 Axes>"
      ]
     },
     "metadata": {
      "needs_background": "light"
     },
     "output_type": "display_data"
    },
    {
     "data": {
      "image/png": "[encoded data removed]",
      "text/plain": [
       "<Figure size 432x288 with 1 Axes>"
      ]
     },
     "metadata": {
      "needs_background": "light"
     },
     "output_type": "display_data"
    }
   ],
   "source": [
    "# 길이 분포 확인하기\n",
    "import matplotlib.pyplot as plt\n",
    "\n",
    "text_len = [len(s.split()) for s in data['text']]\n",
    "headlines_len = [len(s.split()) for s in data['headlines']]\n",
    "\n",
    "print('텍스트의 최소 길이 : {}'.format(np.min(text_len)))\n",
    "print('텍스트의 최대 길이 : {}'.format(np.max(text_len)))\n",
    "print('텍스트의 평균 길이 : {}'.format(np.mean(text_len)))\n",
    "print('텍스트의 길이 분산 : {}'.format(np.std(text_len)))\n",
    "print('헤드라인의 최소 길이 : {}'.format(np.min(headlines_len)))\n",
    "print('헤드라인의 최대 길이 : {}'.format(np.max(headlines_len)))\n",
    "print('헤드라인의 평균 길이 : {}'.format(np.mean(headlines_len)))\n",
    "\n",
    "plt.subplot(1,2,1)\n",
    "plt.boxplot(text_len)\n",
    "plt.title('text')\n",
    "plt.subplot(1,2,2)\n",
    "plt.boxplot(headlines_len)\n",
    "plt.title('headlines')\n",
    "plt.tight_layout()\n",
    "plt.show()\n",
    "\n",
    "plt.title('text')\n",
    "plt.hist(text_len, bins = 40)\n",
    "plt.xlabel('length of samples')\n",
    "plt.ylabel('number of samples')\n",
    "plt.show()\n",
    "\n",
    "plt.title('headlines')\n",
    "plt.hist(headlines_len, bins = 40)\n",
    "plt.xlabel('length of samples')\n",
    "plt.ylabel('number of samples')\n",
    "plt.show()"
   ]
  },
  {
   "cell_type": "markdown",
   "id": "224ea8ac",
   "metadata": {},
   "source": [
    "정제된 데이터를 확인해보니 다음과 같은 특징이 발견되었다.   \n",
    "1. 텍스트와 헤드라인 모두 데이터의 최소 크기가 1이다   \n",
    "2. 텍스트 데이터의 길이는 평균 약 58이며, 데이터 대부분이 약 50대 중후반~60대 초반에 몰려 있는 것을 볼 수 있다.   \n",
    "3. 헤드라인 데이터의 길이는 평균 약 10이며, 전반적으로 고르게 분포한다.   \n",
    "\n",
    "여기서 궁금한 점   \n",
    "->과연 데이터 길이가 1인 데이터는 무엇일까..   \n",
    "리소스 낭비하긴하지만 찾아보자   \n"
   ]
  },
  {
   "cell_type": "code",
   "execution_count": 13,
   "id": "87e3a501",
   "metadata": {},
   "outputs": [
    {
     "data": {
      "text/html": [
       "<div>\n",
       "<style scoped>\n",
       "    .dataframe tbody tr th:only-of-type {\n",
       "        vertical-align: middle;\n",
       "    }\n",
       "\n",
       "    .dataframe tbody tr th {\n",
       "        vertical-align: top;\n",
       "    }\n",
       "\n",
       "    .dataframe thead th {\n",
       "        text-align: right;\n",
       "    }\n",
       "</style>\n",
       "<table border=\"1\" class=\"dataframe\">\n",
       "  <thead>\n",
       "    <tr style=\"text-align: right;\">\n",
       "      <th></th>\n",
       "      <th>headlines</th>\n",
       "      <th>text</th>\n",
       "    </tr>\n",
       "  </thead>\n",
       "  <tbody>\n",
       "    <tr>\n",
       "      <th>52</th>\n",
       "      <td>headlines</td>\n",
       "      <td>text</td>\n",
       "    </tr>\n",
       "  </tbody>\n",
       "</table>\n",
       "</div>"
      ],
      "text/plain": [
       "    headlines  text\n",
       "52  headlines  text"
      ]
     },
     "execution_count": 13,
     "metadata": {},
     "output_type": "execute_result"
    }
   ],
   "source": [
    "data[data[\"text\"].str.len()<100]"
   ]
  },
  {
   "cell_type": "code",
   "execution_count": 14,
   "id": "e7a127d2",
   "metadata": {},
   "outputs": [
    {
     "data": {
      "text/html": [
       "<div>\n",
       "<style scoped>\n",
       "    .dataframe tbody tr th:only-of-type {\n",
       "        vertical-align: middle;\n",
       "    }\n",
       "\n",
       "    .dataframe tbody tr th {\n",
       "        vertical-align: top;\n",
       "    }\n",
       "\n",
       "    .dataframe thead th {\n",
       "        text-align: right;\n",
       "    }\n",
       "</style>\n",
       "<table border=\"1\" class=\"dataframe\">\n",
       "  <thead>\n",
       "    <tr style=\"text-align: right;\">\n",
       "      <th></th>\n",
       "      <th>headlines</th>\n",
       "      <th>text</th>\n",
       "    </tr>\n",
       "  </thead>\n",
       "  <tbody>\n",
       "    <tr>\n",
       "      <th>52</th>\n",
       "      <td>headlines</td>\n",
       "      <td>text</td>\n",
       "    </tr>\n",
       "    <tr>\n",
       "      <th>4281</th>\n",
       "      <td>No more skipping breakfast with '3 Minute Brea...</td>\n",
       "      <td>Backed by the observation that breakfast is th...</td>\n",
       "    </tr>\n",
       "    <tr>\n",
       "      <th>22479</th>\n",
       "      <td>Vodafone RED Postpaid offers Amazon Prime at n...</td>\n",
       "      <td>Make the #SmartestMove &amp; get 1-year of Amazon ...</td>\n",
       "    </tr>\n",
       "  </tbody>\n",
       "</table>\n",
       "</div>"
      ],
      "text/plain": [
       "                                               headlines  \\\n",
       "52                                             headlines   \n",
       "4281   No more skipping breakfast with '3 Minute Brea...   \n",
       "22479  Vodafone RED Postpaid offers Amazon Prime at n...   \n",
       "\n",
       "                                                    text  \n",
       "52                                                  text  \n",
       "4281   Backed by the observation that breakfast is th...  \n",
       "22479  Make the #SmartestMove & get 1-year of Amazon ...  "
      ]
     },
     "execution_count": 14,
     "metadata": {},
     "output_type": "execute_result"
    }
   ],
   "source": [
    "data[data[\"text\"].str.len()<250]"
   ]
  },
  {
   "cell_type": "markdown",
   "id": "82ea2ebf",
   "metadata": {},
   "source": [
    "data[data[\"text\"].str.len()<100]로 입력하니까 각 칸 안에 있는 문자 하나하나의 길이로 따지는 것 같다.    \n",
    "우선은 52번 컬럼을 지워야겠다."
   ]
  },
  {
   "cell_type": "code",
   "execution_count": 15,
   "id": "64b1b797",
   "metadata": {},
   "outputs": [],
   "source": [
    "data=data.drop(52)"
   ]
  },
  {
   "cell_type": "code",
   "execution_count": 16,
   "id": "4b0d2eac",
   "metadata": {},
   "outputs": [
    {
     "name": "stdout",
     "output_type": "stream",
     "text": [
      "텍스트의 최소 길이 : 38\n",
      "텍스트의 최대 길이 : 91\n",
      "텍스트의 평균 길이 : 58.23871735174209\n",
      "텍스트의 길이 분산 : 2.3772734629468455\n",
      "헤드라인의 최소 길이 : 3\n",
      "헤드라인의 최대 길이 : 18\n",
      "헤드라인의 평균 길이 : 9.5537469880743\n",
      "헤드라인의 길이 분산 : 1.457642915029255\n"
     ]
    },
    {
     "data": {
      "image/png": "[encoded data removed]",
      "text/plain": [
       "<Figure size 432x288 with 2 Axes>"
      ]
     },
     "metadata": {
      "needs_background": "light"
     },
     "output_type": "display_data"
    },
    {
     "data": {
      "image/png": "[encoded data removed]",
      "text/plain": [
       "<Figure size 432x288 with 1 Axes>"
      ]
     },
     "metadata": {
      "needs_background": "light"
     },
     "output_type": "display_data"
    },
    {
     "data": {
      "image/png": "[encoded data removed]",
      "text/plain": [
       "<Figure size 432x288 with 1 Axes>"
      ]
     },
     "metadata": {
      "needs_background": "light"
     },
     "output_type": "display_data"
    }
   ],
   "source": [
    "# 길이 분포 확인하기\n",
    "import matplotlib.pyplot as plt\n",
    "\n",
    "text_len = [len(s.split()) for s in data['text']]\n",
    "headlines_len = [len(s.split()) for s in data['headlines']]\n",
    "\n",
    "print('텍스트의 최소 길이 : {}'.format(np.min(text_len)))\n",
    "print('텍스트의 최대 길이 : {}'.format(np.max(text_len)))\n",
    "print('텍스트의 평균 길이 : {}'.format(np.mean(text_len)))\n",
    "print('텍스트의 길이 분산 : {}'.format(np.std(text_len)))\n",
    "print('헤드라인의 최소 길이 : {}'.format(np.min(headlines_len)))\n",
    "print('헤드라인의 최대 길이 : {}'.format(np.max(headlines_len)))\n",
    "print('헤드라인의 평균 길이 : {}'.format(np.mean(headlines_len)))\n",
    "print('헤드라인의 길이 분산 : {}'.format(np.std(headlines_len)))\n",
    "\n",
    "plt.subplot(1,2,1)\n",
    "plt.boxplot(text_len)\n",
    "plt.title('text')\n",
    "plt.subplot(1,2,2)\n",
    "plt.boxplot(headlines_len)\n",
    "plt.title('headlines')\n",
    "plt.tight_layout()\n",
    "plt.show()\n",
    "\n",
    "plt.title('text')\n",
    "plt.hist(text_len, bins = 40)\n",
    "plt.xlabel('length of samples')\n",
    "plt.ylabel('number of samples')\n",
    "plt.show()\n",
    "\n",
    "plt.title('headlines')\n",
    "plt.hist(headlines_len, bins = 40)\n",
    "plt.xlabel('length of samples')\n",
    "plt.ylabel('number of samples')\n",
    "plt.show()"
   ]
  },
  {
   "cell_type": "markdown",
   "id": "70aa2d82",
   "metadata": {},
   "source": [
    "길이 1짜리 데이터가 모두 사라졌다.   \n",
    "52번 컬럼이 길이 1짜리 데이터가 맞았다."
   ]
  },
  {
   "cell_type": "code",
   "execution_count": 17,
   "id": "311656e0",
   "metadata": {},
   "outputs": [],
   "source": [
    "#샘플 최대 길이 설정\n",
    "text_max_len = 60\n",
    "headlines_max_len = 12"
   ]
  },
  {
   "cell_type": "code",
   "execution_count": 18,
   "id": "1d440825",
   "metadata": {},
   "outputs": [],
   "source": [
    "def below_threshold_len(max_len, nested_list):\n",
    "    cnt = 0\n",
    "    for s in nested_list:\n",
    "        if(len(s.split()) <= max_len):\n",
    "            cnt = cnt + 1\n",
    "    print('전체 샘플 중 길이가 %s 이하인 샘플의 비율: %s'%(max_len, (cnt / len(nested_list))))"
   ]
  },
  {
   "cell_type": "code",
   "execution_count": 19,
   "id": "35c01664",
   "metadata": {},
   "outputs": [
    {
     "name": "stdout",
     "output_type": "stream",
     "text": [
      "전체 샘플 중 길이가 60 이하인 샘플의 비율: 0.9974481237100824\n",
      "전체 샘플 중 길이가 12 이하인 샘플의 비율: 0.976819609796765\n"
     ]
    }
   ],
   "source": [
    "#샘플 포함 비율 확인하기\n",
    "below_threshold_len(text_max_len, data['text'])\n",
    "below_threshold_len(headlines_max_len,  data['headlines'])"
   ]
  },
  {
   "cell_type": "code",
   "execution_count": 20,
   "id": "c94ccaeb",
   "metadata": {},
   "outputs": [
    {
     "name": "stdout",
     "output_type": "stream",
     "text": [
      "전체 샘플수 : 95837\n"
     ]
    }
   ],
   "source": [
    "#최대 길이보다 길면 제외\n",
    "data = data[data['text'].apply(lambda x: len(x.split()) <= text_max_len)]\n",
    "data = data[data['headlines'].apply(lambda x: len(x.split()) <= headlines_max_len)]\n",
    "print('전체 샘플수 :', (len(data)))"
   ]
  },
  {
   "cell_type": "markdown",
   "id": "95809b21",
   "metadata": {},
   "source": [
    "### 6) 시작, 종료 토큰 추가하기"
   ]
  },
  {
   "cell_type": "code",
   "execution_count": 21,
   "id": "eecf446b",
   "metadata": {},
   "outputs": [
    {
     "data": {
      "text/html": [
       "<div>\n",
       "<style scoped>\n",
       "    .dataframe tbody tr th:only-of-type {\n",
       "        vertical-align: middle;\n",
       "    }\n",
       "\n",
       "    .dataframe tbody tr th {\n",
       "        vertical-align: top;\n",
       "    }\n",
       "\n",
       "    .dataframe thead th {\n",
       "        text-align: right;\n",
       "    }\n",
       "</style>\n",
       "<table border=\"1\" class=\"dataframe\">\n",
       "  <thead>\n",
       "    <tr style=\"text-align: right;\">\n",
       "      <th></th>\n",
       "      <th>headlines</th>\n",
       "      <th>text</th>\n",
       "      <th>decoder_input</th>\n",
       "      <th>decoder_target</th>\n",
       "    </tr>\n",
       "  </thead>\n",
       "  <tbody>\n",
       "    <tr>\n",
       "      <th>1</th>\n",
       "      <td>Delhi techie wins free food from Swiggy for on...</td>\n",
       "      <td>Kunal Shah's credit card bill payment platform...</td>\n",
       "      <td>sostoken Delhi techie wins free food from Swig...</td>\n",
       "      <td>Delhi techie wins free food from Swiggy for on...</td>\n",
       "    </tr>\n",
       "    <tr>\n",
       "      <th>2</th>\n",
       "      <td>New Zealand end Rohit Sharma-led India's 12-ma...</td>\n",
       "      <td>New Zealand defeated India by 8 wickets in the...</td>\n",
       "      <td>sostoken New Zealand end Rohit Sharma-led Indi...</td>\n",
       "      <td>New Zealand end Rohit Sharma-led India's 12-ma...</td>\n",
       "    </tr>\n",
       "    <tr>\n",
       "      <th>3</th>\n",
       "      <td>Aegon life iTerm insurance plan helps customer...</td>\n",
       "      <td>With Aegon Life iTerm Insurance plan, customer...</td>\n",
       "      <td>sostoken Aegon life iTerm insurance plan helps...</td>\n",
       "      <td>Aegon life iTerm insurance plan helps customer...</td>\n",
       "    </tr>\n",
       "    <tr>\n",
       "      <th>5</th>\n",
       "      <td>Rahat Fateh Ali Khan denies getting notice for...</td>\n",
       "      <td>Pakistani singer Rahat Fateh Ali Khan has deni...</td>\n",
       "      <td>sostoken Rahat Fateh Ali Khan denies getting n...</td>\n",
       "      <td>Rahat Fateh Ali Khan denies getting notice for...</td>\n",
       "    </tr>\n",
       "    <tr>\n",
       "      <th>7</th>\n",
       "      <td>Govt directs Alok Verma to join work 1 day bef...</td>\n",
       "      <td>Weeks after ex-CBI Director Alok Verma told th...</td>\n",
       "      <td>sostoken Govt directs Alok Verma to join work ...</td>\n",
       "      <td>Govt directs Alok Verma to join work 1 day bef...</td>\n",
       "    </tr>\n",
       "  </tbody>\n",
       "</table>\n",
       "</div>"
      ],
      "text/plain": [
       "                                           headlines  \\\n",
       "1  Delhi techie wins free food from Swiggy for on...   \n",
       "2  New Zealand end Rohit Sharma-led India's 12-ma...   \n",
       "3  Aegon life iTerm insurance plan helps customer...   \n",
       "5  Rahat Fateh Ali Khan denies getting notice for...   \n",
       "7  Govt directs Alok Verma to join work 1 day bef...   \n",
       "\n",
       "                                                text  \\\n",
       "1  Kunal Shah's credit card bill payment platform...   \n",
       "2  New Zealand defeated India by 8 wickets in the...   \n",
       "3  With Aegon Life iTerm Insurance plan, customer...   \n",
       "5  Pakistani singer Rahat Fateh Ali Khan has deni...   \n",
       "7  Weeks after ex-CBI Director Alok Verma told th...   \n",
       "\n",
       "                                       decoder_input  \\\n",
       "1  sostoken Delhi techie wins free food from Swig...   \n",
       "2  sostoken New Zealand end Rohit Sharma-led Indi...   \n",
       "3  sostoken Aegon life iTerm insurance plan helps...   \n",
       "5  sostoken Rahat Fateh Ali Khan denies getting n...   \n",
       "7  sostoken Govt directs Alok Verma to join work ...   \n",
       "\n",
       "                                      decoder_target  \n",
       "1  Delhi techie wins free food from Swiggy for on...  \n",
       "2  New Zealand end Rohit Sharma-led India's 12-ma...  \n",
       "3  Aegon life iTerm insurance plan helps customer...  \n",
       "5  Rahat Fateh Ali Khan denies getting notice for...  \n",
       "7  Govt directs Alok Verma to join work 1 day bef...  "
      ]
     },
     "execution_count": 21,
     "metadata": {},
     "output_type": "execute_result"
    }
   ],
   "source": [
    "# 요약 데이터에는 시작 토큰과 종료 토큰을 추가한다.\n",
    "data['decoder_input'] = data['headlines'].apply(lambda x : 'sostoken '+ x)\n",
    "data['decoder_target'] = data['headlines'].apply(lambda x : x + ' eostoken')\n",
    "data.head()"
   ]
  },
  {
   "cell_type": "code",
   "execution_count": 22,
   "id": "b40de509",
   "metadata": {},
   "outputs": [],
   "source": [
    "#인코더의 이볅, 디코더의 입력과 레이블 다시 numpy로 저장해주기\n",
    "encoder_input = np.array(data['text']) # 인코더의 입력\n",
    "decoder_input = np.array(data['decoder_input']) # 디코더의 입력\n",
    "decoder_target = np.array(data['decoder_target']) # 디코더의 레이블"
   ]
  },
  {
   "cell_type": "markdown",
   "id": "4b356040",
   "metadata": {},
   "source": [
    "### 7) 데이터셋 분리하기"
   ]
  },
  {
   "cell_type": "code",
   "execution_count": 23,
   "id": "e665f7a6",
   "metadata": {},
   "outputs": [
    {
     "name": "stdout",
     "output_type": "stream",
     "text": [
      "테스트 데이터의 수 : 19167\n"
     ]
    }
   ],
   "source": [
    "indices = np.arange(encoder_input.shape[0])\n",
    "np.random.shuffle(indices)\n",
    "\n",
    "encoder_input = encoder_input[indices]\n",
    "decoder_input = decoder_input[indices]\n",
    "decoder_target = decoder_target[indices]\n",
    "\n",
    "n_of_val = int(len(encoder_input)*0.2)\n",
    "print('테스트 데이터의 수 :', n_of_val)"
   ]
  },
  {
   "cell_type": "code",
   "execution_count": 24,
   "id": "2395ad8e",
   "metadata": {},
   "outputs": [
    {
     "name": "stdout",
     "output_type": "stream",
     "text": [
      "훈련 데이터의 개수 : 76670\n",
      "훈련 레이블의 개수 : 76670\n",
      "테스트 데이터의 개수 : 19167\n",
      "테스트 레이블의 개수 : 19167\n"
     ]
    }
   ],
   "source": [
    "encoder_input_train = encoder_input[:-n_of_val]\n",
    "decoder_input_train = decoder_input[:-n_of_val]\n",
    "decoder_target_train = decoder_target[:-n_of_val]\n",
    "\n",
    "encoder_input_test = encoder_input[-n_of_val:]\n",
    "decoder_input_test = decoder_input[-n_of_val:]\n",
    "decoder_target_test = decoder_target[-n_of_val:]\n",
    "\n",
    "print('훈련 데이터의 개수 :', len(encoder_input_train))\n",
    "print('훈련 레이블의 개수 :', len(decoder_input_train))\n",
    "print('테스트 데이터의 개수 :', len(encoder_input_test))\n",
    "print('테스트 레이블의 개수 :', len(decoder_input_test))"
   ]
  },
  {
   "cell_type": "markdown",
   "id": "78977083",
   "metadata": {},
   "source": [
    "### 8) 단어집합 만들기 & 정수 인코딩"
   ]
  },
  {
   "cell_type": "markdown",
   "id": "e59914d7",
   "metadata": {},
   "source": [
    "단어집합 = 각 단어에 고유한 정수 맵핑하는 작업"
   ]
  },
  {
   "cell_type": "markdown",
   "id": "b945ee2c",
   "metadata": {},
   "source": [
    "인코더 데이터에 대한 단어집합 제작 및 정수 인코딩 수행"
   ]
  },
  {
   "cell_type": "code",
   "execution_count": 25,
   "id": "fc93633a",
   "metadata": {},
   "outputs": [],
   "source": [
    "src_tokenizer = Tokenizer() # 토크나이저 정의\n",
    "src_tokenizer.fit_on_texts(encoder_input_train) # 입력된 데이터로부터 단어 집합 생성"
   ]
  },
  {
   "cell_type": "code",
   "execution_count": 26,
   "id": "b19b1237",
   "metadata": {},
   "outputs": [
    {
     "name": "stdout",
     "output_type": "stream",
     "text": [
      "단어 집합(vocabulary)의 크기 : 90425\n",
      "등장 빈도가 7번 이하인 희귀 단어의 수: 67749\n",
      "단어 집합에서 희귀 단어를 제외시킬 경우의 단어 집합의 크기 22676\n",
      "단어 집합에서 희귀 단어의 비율: 74.92286425214266\n",
      "전체 등장 빈도에서 희귀 단어 등장 빈도 비율: 3.0558481921190417\n"
     ]
    }
   ],
   "source": [
    "threshold = 8 #등장횟수 8회 미만인 단어 제외\n",
    "total_cnt = len(src_tokenizer.word_index) # 단어의 수\n",
    "rare_cnt = 0 # 등장 빈도수가 threshold보다 작은 단어의 개수를 카운트\n",
    "total_freq = 0 # 훈련 데이터의 전체 단어 빈도수 총 합\n",
    "rare_freq = 0 # 등장 빈도수가 threshold보다 작은 단어의 등장 빈도수의 총 합\n",
    "\n",
    "# 단어와 빈도수의 쌍(pair)을 key와 value로 받는다.\n",
    "for key, value in src_tokenizer.word_counts.items():\n",
    "    total_freq = total_freq + value\n",
    "\n",
    "    # 단어의 등장 빈도수가 threshold보다 작으면\n",
    "    if(value < threshold):\n",
    "        rare_cnt = rare_cnt + 1\n",
    "        rare_freq = rare_freq + value\n",
    "\n",
    "print('단어 집합(vocabulary)의 크기 :', total_cnt)\n",
    "print('등장 빈도가 %s번 이하인 희귀 단어의 수: %s'%(threshold - 1, rare_cnt))\n",
    "print('단어 집합에서 희귀 단어를 제외시킬 경우의 단어 집합의 크기 %s'%(total_cnt - rare_cnt))\n",
    "print(\"단어 집합에서 희귀 단어의 비율:\", (rare_cnt / total_cnt)*100)\n",
    "print(\"전체 등장 빈도에서 희귀 단어 등장 빈도 비율:\", (rare_freq / total_freq)*100)"
   ]
  },
  {
   "cell_type": "code",
   "execution_count": 27,
   "id": "236669a8",
   "metadata": {},
   "outputs": [],
   "source": [
    "#단어 집합 크기 설정(등장횟수 임계치에 걸린 단어 제외한 나머지 단어의 크기에서 계산)\n",
    "src_vocab = 22000\n",
    "src_tokenizer = Tokenizer(num_words=src_vocab) # 단어 집합의 크기를 8,000으로 제한\n",
    "src_tokenizer.fit_on_texts(encoder_input_train) # 단어 집합 재생성"
   ]
  },
  {
   "cell_type": "code",
   "execution_count": 28,
   "id": "4a1f58ed",
   "metadata": {},
   "outputs": [
    {
     "name": "stdout",
     "output_type": "stream",
     "text": [
      "[[1, 86, 49, 6, 1459, 996, 5, 86, 7760, 7, 122, 4708, 3105, 6, 2798, 4, 232, 1069, 575, 7761, 519, 36, 181, 4986, 1148, 3105, 11, 27, 7568, 2631, 1, 1133, 1585, 6, 388, 29, 27, 38, 643, 1, 7760, 9, 8472, 4106, 2882, 93, 3, 1834, 62, 34, 4708, 82, 10, 15412, 181, 101, 3076, 1002, 12, 435], [1, 357, 437, 4868, 10262, 7, 759, 12, 22, 479, 1181, 106, 1536, 22, 1, 1506, 5, 4286, 15968, 114, 2, 1, 2982, 87, 1561, 1, 10262, 808, 15, 20, 1549, 1065, 255, 2724, 225, 19, 1497, 828, 9709, 6, 1793, 67, 1, 301, 12, 3185, 4, 545, 385], [15413, 22, 1, 377, 798, 26, 1575, 18, 3003, 6, 173, 6537, 4, 1, 2671, 173, 15, 1962, 6, 44, 809, 96, 2049, 2, 165, 4416, 103, 6, 6608, 1934, 96, 6418, 258, 11, 3, 10929, 10, 1, 377, 798, 13, 68, 2328, 1, 8206, 5, 3, 423, 1358, 11, 77, 1081, 1, 4350, 330, 5, 14353]]\n"
     ]
    }
   ],
   "source": [
    "# 텍스트 시퀀스를 정수 시퀀스로 변환\n",
    "encoder_input_train = src_tokenizer.texts_to_sequences(encoder_input_train) \n",
    "encoder_input_test = src_tokenizer.texts_to_sequences(encoder_input_test)\n",
    "\n",
    "# 잘 진행되었는지 샘플 출력\n",
    "print(encoder_input_train[:3])"
   ]
  },
  {
   "cell_type": "markdown",
   "id": "e702adc5",
   "metadata": {},
   "source": [
    "디코더 데이터에 대한 단어집합 제작 및 정수 인코딩 수행"
   ]
  },
  {
   "cell_type": "code",
   "execution_count": 29,
   "id": "f96c9cab",
   "metadata": {},
   "outputs": [],
   "source": [
    "tar_tokenizer = Tokenizer()\n",
    "tar_tokenizer.fit_on_texts(decoder_input_train)"
   ]
  },
  {
   "cell_type": "code",
   "execution_count": 30,
   "id": "ca63a67a",
   "metadata": {},
   "outputs": [
    {
     "name": "stdout",
     "output_type": "stream",
     "text": [
      "단어 집합(vocabulary)의 크기 : 40335\n",
      "등장 빈도가 4번 이하인 희귀 단어의 수: 27797\n",
      "단어 집합에서 희귀 단어를 제외시킬 경우의 단어 집합의 크기 12538\n",
      "단어 집합에서 희귀 단어의 비율: 68.91533407710425\n",
      "전체 등장 빈도에서 희귀 단어 등장 빈도 비율: 5.475412187599908\n"
     ]
    }
   ],
   "source": [
    "threshold = 5 #등장회수 5회미만인 단어 제외\n",
    "total_cnt = len(tar_tokenizer.word_index) # 단어의 수\n",
    "rare_cnt = 0 # 등장 빈도수가 threshold보다 작은 단어의 개수를 카운트\n",
    "total_freq = 0 # 훈련 데이터의 전체 단어 빈도수 총 합\n",
    "rare_freq = 0 # 등장 빈도수가 threshold보다 작은 단어의 등장 빈도수의 총 합\n",
    "\n",
    "# 단어와 빈도수의 쌍(pair)을 key와 value로 받는다.\n",
    "for key, value in tar_tokenizer.word_counts.items():\n",
    "    total_freq = total_freq + value\n",
    "\n",
    "    # 단어의 등장 빈도수가 threshold보다 작으면\n",
    "    if(value < threshold):\n",
    "        rare_cnt = rare_cnt + 1\n",
    "        rare_freq = rare_freq + value\n",
    "\n",
    "print('단어 집합(vocabulary)의 크기 :', total_cnt)\n",
    "print('등장 빈도가 %s번 이하인 희귀 단어의 수: %s'%(threshold - 1, rare_cnt))\n",
    "print('단어 집합에서 희귀 단어를 제외시킬 경우의 단어 집합의 크기 %s'%(total_cnt - rare_cnt))\n",
    "print(\"단어 집합에서 희귀 단어의 비율:\", (rare_cnt / total_cnt)*100)\n",
    "print(\"전체 등장 빈도에서 희귀 단어 등장 빈도 비율:\", (rare_freq / total_freq)*100)"
   ]
  },
  {
   "cell_type": "code",
   "execution_count": 31,
   "id": "00aed992",
   "metadata": {},
   "outputs": [
    {
     "name": "stdout",
     "output_type": "stream",
     "text": [
      "input\n",
      "input  [[1, 2272, 4, 390, 1357, 713, 10144, 865, 5365], [1, 121, 384, 7176, 34, 11, 421, 50, 1474], [1, 99, 699, 4152, 6, 4014, 4, 119, 2897], [1, 28, 9317, 171, 5594, 4015, 3081, 7, 1637], [1, 38, 1266, 3, 1993, 130, 17, 9318]]\n",
      "target\n",
      "decoder  [[2272, 4, 390, 1357, 713, 10144, 865, 5365, 2], [121, 384, 7176, 34, 11, 421, 50, 1474, 2], [99, 699, 4152, 6, 4014, 4, 119, 2897, 2], [28, 9317, 171, 5594, 4015, 3081, 7, 1637, 2], [38, 1266, 3, 1993, 130, 17, 9318, 2]]\n"
     ]
    }
   ],
   "source": [
    "tar_vocab = 12000\n",
    "tar_tokenizer = Tokenizer(num_words=tar_vocab) \n",
    "tar_tokenizer.fit_on_texts(decoder_input_train)\n",
    "tar_tokenizer.fit_on_texts(decoder_target_train)\n",
    "\n",
    "# 텍스트 시퀀스를 정수 시퀀스로 변환\n",
    "decoder_input_train = tar_tokenizer.texts_to_sequences(decoder_input_train) \n",
    "decoder_target_train = tar_tokenizer.texts_to_sequences(decoder_target_train)\n",
    "decoder_input_test = tar_tokenizer.texts_to_sequences(decoder_input_test)\n",
    "decoder_target_test = tar_tokenizer.texts_to_sequences(decoder_target_test)\n",
    "\n",
    "# 잘 변환되었는지 확인\n",
    "print('input')\n",
    "print('input ',decoder_input_train[:5])\n",
    "print('target')\n",
    "print('decoder ',decoder_target_train[:5])"
   ]
  },
  {
   "cell_type": "code",
   "execution_count": 32,
   "id": "358694be",
   "metadata": {},
   "outputs": [
    {
     "name": "stdout",
     "output_type": "stream",
     "text": [
      "삭제할 훈련 데이터의 개수 : 0\n",
      "삭제할 테스트 데이터의 개수 : 0\n",
      "훈련 데이터의 개수 : 76670\n",
      "훈련 레이블의 개수 : 76670\n",
      "테스트 데이터의 개수 : 19167\n",
      "테스트 레이블의 개수 : 19167\n"
     ]
    }
   ],
   "source": [
    "#빈 샘플 제거해주기\n",
    "drop_train = [index for index, sentence in enumerate(decoder_input_train) if len(sentence) == 1]\n",
    "drop_test = [index for index, sentence in enumerate(decoder_input_test) if len(sentence) == 1]\n",
    "\n",
    "print('삭제할 훈련 데이터의 개수 :', len(drop_train))\n",
    "print('삭제할 테스트 데이터의 개수 :', len(drop_test))\n",
    "\n",
    "encoder_input_train = [sentence for index, sentence in enumerate(encoder_input_train) if index not in drop_train]\n",
    "decoder_input_train = [sentence for index, sentence in enumerate(decoder_input_train) if index not in drop_train]\n",
    "decoder_target_train = [sentence for index, sentence in enumerate(decoder_target_train) if index not in drop_train]\n",
    "\n",
    "encoder_input_test = [sentence for index, sentence in enumerate(encoder_input_test) if index not in drop_test]\n",
    "decoder_input_test = [sentence for index, sentence in enumerate(decoder_input_test) if index not in drop_test]\n",
    "decoder_target_test = [sentence for index, sentence in enumerate(decoder_target_test) if index not in drop_test]\n",
    "\n",
    "print('훈련 데이터의 개수 :', len(encoder_input_train))\n",
    "print('훈련 레이블의 개수 :', len(decoder_input_train))\n",
    "print('테스트 데이터의 개수 :', len(encoder_input_test))\n",
    "print('테스트 레이블의 개수 :', len(decoder_input_test))"
   ]
  },
  {
   "cell_type": "markdown",
   "id": "e9229f62",
   "metadata": {},
   "source": [
    "### 9)패딩하기"
   ]
  },
  {
   "cell_type": "code",
   "execution_count": 33,
   "id": "5c32d459",
   "metadata": {},
   "outputs": [],
   "source": [
    "encoder_input_train = pad_sequences(encoder_input_train, maxlen=text_max_len, padding='post')\n",
    "encoder_input_test = pad_sequences(encoder_input_test, maxlen=text_max_len, padding='post')\n",
    "decoder_input_train = pad_sequences(decoder_input_train, maxlen=headlines_max_len, padding='post')\n",
    "decoder_target_train = pad_sequences(decoder_target_train, maxlen=headlines_max_len, padding='post')\n",
    "decoder_input_test = pad_sequences(decoder_input_test, maxlen=headlines_max_len, padding='post')\n",
    "decoder_target_test = pad_sequences(decoder_target_test, maxlen=headlines_max_len, padding='post')"
   ]
  },
  {
   "cell_type": "markdown",
   "id": "08570ed5",
   "metadata": {},
   "source": [
    "# 3. 모델 설계하기"
   ]
  },
  {
   "cell_type": "markdown",
   "id": "22a6977d",
   "metadata": {},
   "source": [
    "### 1) 인코더"
   ]
  },
  {
   "cell_type": "code",
   "execution_count": 34,
   "id": "5b11e9ff",
   "metadata": {},
   "outputs": [],
   "source": [
    "from tensorflow.keras.layers import Input, LSTM, Embedding, Dense, Concatenate, TimeDistributed\n",
    "from tensorflow.keras.models import Model\n",
    "from tensorflow.keras.callbacks import EarlyStopping, ModelCheckpoint\n",
    "\n",
    "\n",
    "# 인코더 설계 시작\n",
    "embedding_dim = 128\n",
    "hidden_size = 256\n",
    "\n",
    "# 인코더\n",
    "encoder_inputs = Input(shape=(text_max_len,))\n",
    "\n",
    "# 인코더의 임베딩 층\n",
    "enc_emb = Embedding(src_vocab, embedding_dim)(encoder_inputs)\n",
    "\n",
    "#시간 관계상 먼저 보통 dropout으로 진행\n",
    "# 인코더의 LSTM 1\n",
    "encoder_lstm1 = LSTM(hidden_size, return_sequences=True, return_state=True ,dropout = 0.4)#, recurrent_dropout = 0.4)\n",
    "encoder_output1, state_h1, state_c1 = encoder_lstm1(enc_emb)\n",
    "\n",
    "# 인코더의 LSTM 2\n",
    "encoder_lstm2 = LSTM(hidden_size, return_sequences=True, return_state=True, dropout=0.4)#, recurrent_dropout = 0.4)\n",
    "encoder_output2, state_h2, state_c2 = encoder_lstm2(encoder_output1)\n",
    "\n",
    "# 인코더의 LSTM 3\n",
    "encoder_lstm3 = LSTM(hidden_size, return_state=True, return_sequences=True, dropout=0.4)#, recurrent_dropout = 0.4)\n",
    "encoder_outputs, state_h, state_c= encoder_lstm3(encoder_output2)"
   ]
  },
  {
   "cell_type": "markdown",
   "id": "da07900b",
   "metadata": {},
   "source": [
    "### 2) 디코더"
   ]
  },
  {
   "cell_type": "code",
   "execution_count": 35,
   "id": "89c2e501",
   "metadata": {},
   "outputs": [],
   "source": [
    "# 디코더 설계\n",
    "decoder_inputs = Input(shape=(None,))\n",
    "\n",
    "# 디코더의 임베딩 층\n",
    "dec_emb_layer = Embedding(tar_vocab, embedding_dim)\n",
    "dec_emb = dec_emb_layer(decoder_inputs)\n",
    "\n",
    "# 디코더의 LSTM\n",
    "decoder_lstm = LSTM(hidden_size, return_sequences=True, return_state=True, dropout=0.4)#, recurrent_dropout = 0.4)\n",
    "decoder_outputs, _, _ = decoder_lstm(dec_emb, initial_state=[state_h, state_c])"
   ]
  },
  {
   "cell_type": "markdown",
   "id": "70bcf19d",
   "metadata": {},
   "source": [
    "### 3) 디코더 출력층 설계"
   ]
  },
  {
   "cell_type": "code",
   "execution_count": 36,
   "id": "cf6b82fe",
   "metadata": {},
   "outputs": [
    {
     "name": "stdout",
     "output_type": "stream",
     "text": [
      "Model: \"model\"\n",
      "__________________________________________________________________________________________________\n",
      "Layer (type)                    Output Shape         Param #     Connected to                     \n",
      "==================================================================================================\n",
      "input_1 (InputLayer)            [(None, 60)]         0                                            \n",
      "__________________________________________________________________________________________________\n",
      "embedding (Embedding)           (None, 60, 128)      2816000     input_1[0][0]                    \n",
      "__________________________________________________________________________________________________\n",
      "lstm (LSTM)                     [(None, 60, 256), (N 394240      embedding[0][0]                  \n",
      "__________________________________________________________________________________________________\n",
      "input_2 (InputLayer)            [(None, None)]       0                                            \n",
      "__________________________________________________________________________________________________\n",
      "lstm_1 (LSTM)                   [(None, 60, 256), (N 525312      lstm[0][0]                       \n",
      "__________________________________________________________________________________________________\n",
      "embedding_1 (Embedding)         (None, None, 128)    1536000     input_2[0][0]                    \n",
      "__________________________________________________________________________________________________\n",
      "lstm_2 (LSTM)                   [(None, 60, 256), (N 525312      lstm_1[0][0]                     \n",
      "__________________________________________________________________________________________________\n",
      "lstm_3 (LSTM)                   [(None, None, 256),  394240      embedding_1[0][0]                \n",
      "                                                                 lstm_2[0][1]                     \n",
      "                                                                 lstm_2[0][2]                     \n",
      "__________________________________________________________________________________________________\n",
      "dense (Dense)                   (None, None, 12000)  3084000     lstm_3[0][0]                     \n",
      "==================================================================================================\n",
      "Total params: 9,275,104\n",
      "Trainable params: 9,275,104\n",
      "Non-trainable params: 0\n",
      "__________________________________________________________________________________________________\n"
     ]
    }
   ],
   "source": [
    "# 디코더의 출력층\n",
    "decoder_softmax_layer = Dense(tar_vocab, activation='softmax')\n",
    "decoder_softmax_outputs = decoder_softmax_layer(decoder_outputs) \n",
    "\n",
    "# 모델 정의\n",
    "model = Model([encoder_inputs, decoder_inputs], decoder_softmax_outputs)\n",
    "model.summary()"
   ]
  },
  {
   "cell_type": "markdown",
   "id": "d2f04c80",
   "metadata": {},
   "source": [
    "### 4) 어텐션 메커니즘"
   ]
  },
  {
   "cell_type": "code",
   "execution_count": 37,
   "id": "1acb0877",
   "metadata": {},
   "outputs": [
    {
     "name": "stdout",
     "output_type": "stream",
     "text": [
      "Model: \"model_1\"\n",
      "__________________________________________________________________________________________________\n",
      "Layer (type)                    Output Shape         Param #     Connected to                     \n",
      "==================================================================================================\n",
      "input_1 (InputLayer)            [(None, 60)]         0                                            \n",
      "__________________________________________________________________________________________________\n",
      "embedding (Embedding)           (None, 60, 128)      2816000     input_1[0][0]                    \n",
      "__________________________________________________________________________________________________\n",
      "lstm (LSTM)                     [(None, 60, 256), (N 394240      embedding[0][0]                  \n",
      "__________________________________________________________________________________________________\n",
      "input_2 (InputLayer)            [(None, None)]       0                                            \n",
      "__________________________________________________________________________________________________\n",
      "lstm_1 (LSTM)                   [(None, 60, 256), (N 525312      lstm[0][0]                       \n",
      "__________________________________________________________________________________________________\n",
      "embedding_1 (Embedding)         (None, None, 128)    1536000     input_2[0][0]                    \n",
      "__________________________________________________________________________________________________\n",
      "lstm_2 (LSTM)                   [(None, 60, 256), (N 525312      lstm_1[0][0]                     \n",
      "__________________________________________________________________________________________________\n",
      "lstm_3 (LSTM)                   [(None, None, 256),  394240      embedding_1[0][0]                \n",
      "                                                                 lstm_2[0][1]                     \n",
      "                                                                 lstm_2[0][2]                     \n",
      "__________________________________________________________________________________________________\n",
      "attention_layer (AdditiveAttent (None, None, 256)    256         lstm_3[0][0]                     \n",
      "                                                                 lstm_2[0][0]                     \n",
      "__________________________________________________________________________________________________\n",
      "concat_layer (Concatenate)      (None, None, 512)    0           lstm_3[0][0]                     \n",
      "                                                                 attention_layer[0][0]            \n",
      "__________________________________________________________________________________________________\n",
      "dense_1 (Dense)                 (None, None, 12000)  6156000     concat_layer[0][0]               \n",
      "==================================================================================================\n",
      "Total params: 12,347,360\n",
      "Trainable params: 12,347,360\n",
      "Non-trainable params: 0\n",
      "__________________________________________________________________________________________________\n"
     ]
    }
   ],
   "source": [
    "from tensorflow.keras.layers import AdditiveAttention\n",
    "\n",
    "# 어텐션 층(어텐션 함수)\n",
    "attn_layer = AdditiveAttention(name='attention_layer')\n",
    "\n",
    "# 인코더와 디코더의 모든 time step의 hidden state를 어텐션 층에 전달하고 결과를 리턴\n",
    "attn_out = attn_layer([decoder_outputs, encoder_outputs])\n",
    "\n",
    "\n",
    "# 어텐션의 결과와 디코더의 hidden state들을 연결\n",
    "decoder_concat_input = Concatenate(axis=-1, name='concat_layer')([decoder_outputs, attn_out])\n",
    "\n",
    "# 디코더의 출력층\n",
    "decoder_softmax_layer = Dense(tar_vocab, activation='softmax')\n",
    "decoder_softmax_outputs = decoder_softmax_layer(decoder_concat_input)\n",
    "\n",
    "# 모델 정의\n",
    "model = Model([encoder_inputs, decoder_inputs], decoder_softmax_outputs)\n",
    "model.summary()"
   ]
  },
  {
   "cell_type": "markdown",
   "id": "f00e8569",
   "metadata": {},
   "source": [
    "# 4. 모델 훈련하기"
   ]
  },
  {
   "cell_type": "code",
   "execution_count": 38,
   "id": "10fad8ff",
   "metadata": {},
   "outputs": [
    {
     "name": "stdout",
     "output_type": "stream",
     "text": [
      "Epoch 1/50\n",
      "300/300 [==============================] - 42s 118ms/step - loss: 5.9563 - val_loss: 5.5332\n",
      "Epoch 2/50\n",
      "300/300 [==============================] - 35s 118ms/step - loss: 5.3680 - val_loss: 5.1191\n",
      "Epoch 3/50\n",
      "300/300 [==============================] - 36s 120ms/step - loss: 5.0051 - val_loss: 4.8383\n",
      "Epoch 4/50\n",
      "300/300 [==============================] - 37s 122ms/step - loss: 4.7310 - val_loss: 4.6557\n",
      "Epoch 5/50\n",
      "300/300 [==============================] - 37s 123ms/step - loss: 4.5061 - val_loss: 4.4830\n",
      "Epoch 6/50\n",
      "300/300 [==============================] - 37s 125ms/step - loss: 4.3202 - val_loss: 4.3639\n",
      "Epoch 7/50\n",
      "300/300 [==============================] - 38s 125ms/step - loss: 4.1652 - val_loss: 4.2658\n",
      "Epoch 8/50\n",
      "300/300 [==============================] - 38s 126ms/step - loss: 4.0306 - val_loss: 4.1969\n",
      "Epoch 9/50\n",
      "300/300 [==============================] - 38s 126ms/step - loss: 3.9107 - val_loss: 4.1392\n",
      "Epoch 10/50\n",
      "300/300 [==============================] - 38s 127ms/step - loss: 3.8046 - val_loss: 4.0836\n",
      "Epoch 11/50\n",
      "300/300 [==============================] - 38s 127ms/step - loss: 3.7072 - val_loss: 4.0478\n",
      "Epoch 12/50\n",
      "300/300 [==============================] - 38s 127ms/step - loss: 3.6205 - val_loss: 4.0141\n",
      "Epoch 13/50\n",
      "300/300 [==============================] - 38s 127ms/step - loss: 3.5440 - val_loss: 3.9799\n",
      "Epoch 14/50\n",
      "300/300 [==============================] - 38s 128ms/step - loss: 3.4687 - val_loss: 3.9542\n",
      "Epoch 15/50\n",
      "300/300 [==============================] - 38s 128ms/step - loss: 3.4020 - val_loss: 3.9412\n",
      "Epoch 16/50\n",
      "300/300 [==============================] - 38s 128ms/step - loss: 3.3389 - val_loss: 3.9188\n",
      "Epoch 17/50\n",
      "300/300 [==============================] - 38s 128ms/step - loss: 3.2798 - val_loss: 3.9088\n",
      "Epoch 18/50\n",
      "300/300 [==============================] - 38s 128ms/step - loss: 3.2215 - val_loss: 3.8946\n",
      "Epoch 19/50\n",
      "300/300 [==============================] - 38s 128ms/step - loss: 3.1688 - val_loss: 3.8852\n",
      "Epoch 20/50\n",
      "300/300 [==============================] - 38s 128ms/step - loss: 3.1168 - val_loss: 3.8733\n",
      "Epoch 21/50\n",
      "300/300 [==============================] - 38s 128ms/step - loss: 3.0707 - val_loss: 3.8787\n",
      "Epoch 22/50\n",
      "300/300 [==============================] - 38s 128ms/step - loss: 3.0256 - val_loss: 3.8691\n",
      "Epoch 23/50\n",
      "300/300 [==============================] - 38s 128ms/step - loss: 2.9820 - val_loss: 3.8639\n",
      "Epoch 24/50\n",
      "300/300 [==============================] - 38s 127ms/step - loss: 2.9410 - val_loss: 3.8681\n",
      "Epoch 25/50\n",
      "300/300 [==============================] - 38s 128ms/step - loss: 2.9079 - val_loss: 3.8651\n",
      "Epoch 00025: early stopping\n"
     ]
    }
   ],
   "source": [
    "model.compile(optimizer='rmsprop', loss='sparse_categorical_crossentropy')\n",
    "es = EarlyStopping(monitor='val_loss', patience=2, verbose=1)\n",
    "history = model.fit(x=[encoder_input_train, decoder_input_train], y=decoder_target_train, \\\n",
    "          validation_data=([encoder_input_test, decoder_input_test], decoder_target_test), \\\n",
    "          batch_size=256, callbacks=[es], epochs=50)"
   ]
  },
  {
   "cell_type": "code",
   "execution_count": 39,
   "id": "cbc98e36",
   "metadata": {},
   "outputs": [
    {
     "data": {
      "image/png": "[encoded data removed]",
      "text/plain": [
       "<Figure size 432x288 with 1 Axes>"
      ]
     },
     "metadata": {
      "needs_background": "light"
     },
     "output_type": "display_data"
    }
   ],
   "source": [
    "plt.plot(history.history['loss'], label='train')\n",
    "plt.plot(history.history['val_loss'], label='test')\n",
    "plt.legend()\n",
    "plt.show()"
   ]
  },
  {
   "cell_type": "markdown",
   "id": "cba15f80",
   "metadata": {},
   "source": [
    "loss가 줄어들다 전체 50 에포크 중 25번째 이후로 줄지 않아 종료되었다.   \n",
    "dropout = 0.4로 설정하였을 때 결과이다."
   ]
  },
  {
   "cell_type": "markdown",
   "id": "82c6a219",
   "metadata": {},
   "source": [
    "# 5. 인퍼런스 모델 구현하기    "
   ]
  },
  {
   "cell_type": "markdown",
   "id": "62cbc044",
   "metadata": {},
   "source": [
    "텍스트 데이터 실제로 복원하기 위해 3개 사전을 미리 정의"
   ]
  },
  {
   "cell_type": "code",
   "execution_count": 40,
   "id": "5cee10b3",
   "metadata": {},
   "outputs": [],
   "source": [
    "src_index_to_word = src_tokenizer.index_word # 원문 단어 집합에서 정수 -> 단어를 얻음\n",
    "tar_word_to_index = tar_tokenizer.word_index # 요약 단어 집합에서 단어 -> 정수를 얻음\n",
    "tar_index_to_word = tar_tokenizer.index_word # 요약 단어 집합에서 정수 -> 단어를 얻음"
   ]
  },
  {
   "cell_type": "markdown",
   "id": "262c37bd",
   "metadata": {},
   "source": [
    "인퍼런스 위한 모델 설계   \n",
    "인코더와 디코더 모델을 분리해 설계"
   ]
  },
  {
   "cell_type": "code",
   "execution_count": 41,
   "id": "bffff2b5",
   "metadata": {},
   "outputs": [],
   "source": [
    "# 인코더 설계\n",
    "encoder_model = Model(inputs=encoder_inputs, outputs=[encoder_outputs, state_h, state_c])\n",
    "\n",
    "# 이전 시점의 상태들을 저장하는 텐서\n",
    "decoder_state_input_h = Input(shape=(hidden_size,))\n",
    "decoder_state_input_c = Input(shape=(hidden_size,))\n",
    "\n",
    "dec_emb2 = dec_emb_layer(decoder_inputs)\n",
    "\n",
    "# 문장의 다음 단어를 예측하기 위해서 초기 상태(initial_state)를 이전 시점의 상태로 사용. 이는 뒤의 함수 decode_sequence()에 구현\n",
    "# 훈련 과정에서와 달리 LSTM의 리턴하는 은닉 상태와 셀 상태인 state_h와 state_c를 버리지 않음.\n",
    "decoder_outputs2, state_h2, state_c2 = decoder_lstm(dec_emb2, initial_state=[decoder_state_input_h, decoder_state_input_c])"
   ]
  },
  {
   "cell_type": "markdown",
   "id": "292a3e9d",
   "metadata": {},
   "source": [
    "어텐션 메커니즘 사용하는 출력층 설계"
   ]
  },
  {
   "cell_type": "code",
   "execution_count": 42,
   "id": "f6851573",
   "metadata": {},
   "outputs": [],
   "source": [
    "# 어텐션 함수\n",
    "decoder_hidden_state_input = Input(shape=(text_max_len, hidden_size))\n",
    "attn_out_inf = attn_layer([decoder_outputs2, decoder_hidden_state_input])\n",
    "decoder_inf_concat = Concatenate(axis=-1, name='concat')([decoder_outputs2, attn_out_inf])\n",
    "\n",
    "# 디코더의 출력층\n",
    "decoder_outputs2 = decoder_softmax_layer(decoder_inf_concat) \n",
    "\n",
    "# 최종 디코더 모델\n",
    "decoder_model = Model(\n",
    "    [decoder_inputs] + [decoder_hidden_state_input,decoder_state_input_h, decoder_state_input_c],\n",
    "    [decoder_outputs2] + [state_h2, state_c2])"
   ]
  },
  {
   "cell_type": "markdown",
   "id": "f7576222",
   "metadata": {},
   "source": [
    "인퍼런스 단계에서 단어 시퀀스를 완성하는 함수 만들기"
   ]
  },
  {
   "cell_type": "code",
   "execution_count": 43,
   "id": "dd4c4993",
   "metadata": {},
   "outputs": [],
   "source": [
    "def decode_sequence(input_seq):\n",
    "    # 입력으로부터 인코더의 상태를 얻음\n",
    "    e_out, e_h, e_c = encoder_model.predict(input_seq)\n",
    "\n",
    "     # <SOS>에 해당하는 토큰 생성\n",
    "    target_seq = np.zeros((1,1))\n",
    "    target_seq[0, 0] = tar_word_to_index['sostoken']\n",
    "\n",
    "    stop_condition = False\n",
    "    decoded_sentence = ''\n",
    "    while not stop_condition: # stop_condition이 True가 될 때까지 루프 반복\n",
    "\n",
    "        output_tokens, h, c = decoder_model.predict([target_seq] + [e_out, e_h, e_c])\n",
    "        sampled_token_index = np.argmax(output_tokens[0, -1, :])\n",
    "        sampled_token = tar_index_to_word[sampled_token_index]\n",
    "\n",
    "        if (sampled_token!='eostoken'):\n",
    "            decoded_sentence += ' '+sampled_token\n",
    "\n",
    "        #  <eos>에 도달하거나 최대 길이를 넘으면 중단.\n",
    "        if (sampled_token == 'eostoken'  or len(decoded_sentence.split()) >= (headlines_max_len-1)):\n",
    "            stop_condition = True\n",
    "\n",
    "        # 길이가 1인 타겟 시퀀스를 업데이트\n",
    "        target_seq = np.zeros((1,1))\n",
    "        target_seq[0, 0] = sampled_token_index\n",
    "\n",
    "        # 상태를 업데이트 합니다.\n",
    "        e_h, e_c = h, c\n",
    "\n",
    "    return decoded_sentence"
   ]
  },
  {
   "cell_type": "markdown",
   "id": "3fced2e7",
   "metadata": {},
   "source": [
    "# 6. 모델 테스트하기"
   ]
  },
  {
   "cell_type": "code",
   "execution_count": 44,
   "id": "1239b42e",
   "metadata": {},
   "outputs": [],
   "source": [
    "# 원문의 정수 시퀀스를 텍스트 시퀀스로 변환\n",
    "def seq2text(input_seq):\n",
    "    temp=''\n",
    "    for i in input_seq:\n",
    "        if (i!=0):\n",
    "            temp = temp + src_index_to_word[i]+' '\n",
    "    return temp\n",
    "\n",
    "# 요약문의 정수 시퀀스를 텍스트 시퀀스로 변환\n",
    "def seq2head(input_seq):\n",
    "    temp=''\n",
    "    for i in input_seq:\n",
    "        if ((i!=0 and i!=tar_word_to_index['sostoken']) and i!=tar_word_to_index['eostoken']):\n",
    "            temp = temp + tar_index_to_word[i] + ' '\n",
    "    return temp"
   ]
  },
  {
   "cell_type": "code",
   "execution_count": 45,
   "id": "c5f689f7",
   "metadata": {},
   "outputs": [
    {
     "name": "stdout",
     "output_type": "stream",
     "text": [
      "원문 : liquor baron vijay mallya is reportedly getting married for the third time to his current girlfriend and former air hostess pinky lalwani with whom he lives in london they started dating when mallya offered pinky a job in kingfisher airlines the 62 year old was previously married to a former air hostess and is still legally married to rekha mallya \n",
      "실제 요약 : vijay mallya to get married for third time reports \n",
      "예측 요약 :  mallya to be paid to indian woman who fell mallya\n",
      "\n",
      "\n",
      "원문 : wework is expanding across bangalore with its newest building opening in may 2018 at bellary road spread over three floors wework features a game room a terrace lounge an and a beautiful workspace with private offices and conference rooms that can help your business grow \n",
      "실제 요약 : wework to launch 4th bengaluru location in road \n",
      "예측 요약 :  wework to launch its first ever in mumbai\n",
      "\n",
      "\n",
      "원문 : the world's debt reached a record 164 trillion in 2016 which is worth 225 of the world's gross domestic product according to the international monetary fund the world is now 12 of gdp deeper in debt than the previous peak in 2009 the imf added notably china alone contributed more than 40 to the increase in global debt since 2007 \n",
      "실제 요약 : world debt hits record high of trillion imf \n",
      "예측 요약 :  india world's biggest trillion market market value\n",
      "\n",
      "\n",
      "원문 : after an australian journalist called up new zealand's parliament to clarify how the surname of the country's next pm jacinda ardern was pronounced ardern herself explained that her name should sound calling the incident funny ardern said the operator just put him the journalist straight through he probably didn't intend to do that but it was no trouble at all \n",
      "실제 요약 : journo calls to check new zealand pm's name talks to pm \n",
      "예측 요약 :  german pm apologises for wearing dressing of his name\n",
      "\n",
      "\n",
      "원문 : a video shows actress sonam kapoor and her mother sunita kapoor dancing to the song from the 2014 film 'queen' at sonam's mehendi function on monday celebrities like varun dhawan katrina kaif karan johar and jacqueline fernandez attended the function sonam will get married to businessman anand ahuja on tuesday \n",
      "실제 요약 : sonam mom sunita dance to london at mehendi function \n",
      "예측 요약 :  sonam shares video of sonam dancing at sonam\n",
      "\n",
      "\n",
      "원문 : chrysler has named its jeep division chief mike to replace ceo sergio marchionne who suffered serious complications following shoulder surgery marchionne joined fiat in 2004 and led the italy based company's merger with bankrupt us carmaker chrysler the 66 year old will also leave his roles as chairman and ceo of ferrari which spun off from fiat chrysler in 2016 \n",
      "실제 요약 : fiat names jeep boss to replace seriously ill ceo \n",
      "예측 요약 :  who is the depression ceo\n",
      "\n",
      "\n",
      "원문 : a massive fire engulfed a area of about four kilometres in mumbai's aarey colony in goregaon but was doused before it reached residential buildings the fire which started at around 6 30 pm on monday had started moving towards the residential localities in the night the aarey colony includes 12 villages and the film city \n",
      "실제 요약 : fire at mumbai forest before reaching buildings \n",
      "예측 요약 :  fire breaks out in mumbai's building\n",
      "\n",
      "\n",
      "원문 : rishi kapoor after watching vicky kaushal starrer 'uri the surgical strike' tweeted brought home the point india has nothing against the citizens of pakistan but those terrorists being trained in camps against us terrific warfare film perhaps the best ever made in india bravo let this be an eye opener he further wrote the film also stars yami gautam \n",
      "실제 요약 : shows india has nothing against citizens of pakistan rishi \n",
      "예측 요약 :  rishi rishi rishi slams rishi for rishi on rishi\n",
      "\n",
      "\n",
      "원문 : in a first two songs granted with unesco heritage status have been into dna strands by a collaboration between microsoft and researchers in the us and switzerland the songs by miles davis and on the water' by deep purple are also the first that can be from the strands and subsequently listened to without quality reduction \n",
      "실제 요약 : songs with unesco heritage status in dna for 1st time \n",
      "예측 요약 :  1st ever video of miss 2018\n",
      "\n",
      "\n",
      "원문 : a couple from belgium has been travelling around the world and the instagram handle wherein they post their photographs has become popular the couple nick and discovered several years ago when they accidentally booked a naked the two who have visited croatia malta greece and said they find it to wear no clothes \n",
      "실제 요약 : belgian couple travelling around the world \n",
      "예측 요약 :  couple couple performs in swiss couple\n",
      "\n",
      "\n"
     ]
    }
   ],
   "source": [
    "for i in range(0, 100,10):\n",
    "    print(\"원문 :\", seq2text(encoder_input_test[i]))\n",
    "    print(\"실제 요약 :\", seq2head(decoder_input_test[i]))\n",
    "    print(\"예측 요약 :\", decode_sequence(encoder_input_test[i].reshape(1, text_max_len)))\n",
    "    print(\"\\n\")"
   ]
  },
  {
   "cell_type": "markdown",
   "id": "fc47b699",
   "metadata": {},
   "source": [
    "# Summa 이용한 추출 요약 해보기"
   ]
  },
  {
   "cell_type": "code",
   "execution_count": 46,
   "id": "1818553f",
   "metadata": {},
   "outputs": [],
   "source": [
    "import requests\n",
    "from summa.summarizer import summarize"
   ]
  },
  {
   "cell_type": "code",
   "execution_count": 47,
   "id": "336d4ab4",
   "metadata": {},
   "outputs": [],
   "source": [
    "import pandas as pd\n",
    "import urllib.request\n",
    "urllib.request.urlretrieve(\"https://raw.githubusercontent.com/sunnysai12345/News_Summary/master/news_summary_more.csv\", filename=\"news_summary_more.csv\")\n",
    "summa = pd.read_csv('news_summary_more.csv', encoding='iso-8859-1')"
   ]
  },
  {
   "cell_type": "code",
   "execution_count": 67,
   "id": "5b592726",
   "metadata": {},
   "outputs": [
    {
     "name": "stdout",
     "output_type": "stream",
     "text": [
      "Summary:\n",
      "upGrad's Online Power Learning has powered 3 lakh+ careers.\n",
      "------------------------------------------\n",
      "original\n",
      "upGrad learner switches to career in ML & Al with 90% salary hike\n"
     ]
    }
   ],
   "source": [
    "print('Summary:')\n",
    "print(summarize(summa.loc[0, 'text'], ratio=0.65))\n",
    "print(\"------------------------------------------\")\n",
    "print('original')\n",
    "print(summa.loc[0, 'headlines'])"
   ]
  },
  {
   "cell_type": "markdown",
   "id": "601d0c47",
   "metadata": {},
   "source": [
    "데이터에서 행으로 접근하는 loc를 이용해 text 데이터를 불러와 추출요약을 시도하였다. 그래서 10문장만 뽑아보도록 하자"
   ]
  },
  {
   "cell_type": "code",
   "execution_count": 68,
   "id": "cd291f78",
   "metadata": {},
   "outputs": [
    {
     "name": "stdout",
     "output_type": "stream",
     "text": [
      "Summary:\n",
      "upGrad's Online Power Learning has powered 3 lakh+ careers.\n",
      "------------------------------------------\n",
      "original\n",
      "upGrad learner switches to career in ML & Al with 90% salary hike\n",
      "\n",
      "Summary:\n",
      "Two minor cousins in Uttar Pradesh's Gorakhpur were allegedly repeatedly burnt with tongs and forced to eat human excreta by their family for being friends with two boys from the same school.\n",
      "------------------------------------------\n",
      "original\n",
      "UP cousins fed human excreta for friendship with boys\n",
      "\n",
      "Summary:\n",
      "\n",
      "------------------------------------------\n",
      "original\n",
      "I think the opposition even dreams about me: PM Modi\n",
      "\n",
      "Summary:\n",
      "Italian third division football side Lucchese's head coach Giancarlo Favarin has been banned for five months for headbutting Alessandria's assistant coach Gaetano Mancino during a brawl following the teams' 2-2 draw on Sunday.\n",
      "------------------------------------------\n",
      "original\n",
      "Italian coach knocks rival down with headbutt, banned for 5 months\n",
      "\n",
      "Summary:\n",
      "Adding that she hasn't been given a copy of the independent probe report, Kochhar said none of ICICI's credit decisions are unilateral\n",
      "------------------------------------------\n",
      "original\n",
      "Shocked, hurt by ICICI's decision, truth will prevail: Kochhar\n",
      "\n",
      "Summary:\n",
      "Former Finance Minister Yashwant Sinha on Tuesday demanded a probe into the alleged diversion of loans worth Ã¢ÂÂ¹31,000 crore by Dewan Housing Finance (DHFL).\n",
      "------------------------------------------\n",
      "original\n",
      "Yashwant Sinha demands probe into alleged fund diversion by DHFL\n",
      "\n",
      "Summary:\n",
      "The Finance Ministry on Wednesday said the government will present an Interim Budget on February 1.\n",
      "------------------------------------------\n",
      "original\n",
      "Govt to present Interim Budget, not full Budget on February 1\n",
      "\n",
      "Summary:\n",
      "\"WeÃ¢ÂÂve decided to go back to (iPhone prices) more commensurate with...local prices...a year ago,\" Cook added.\n",
      "------------------------------------------\n",
      "original\n",
      "Apple to cut some iPhones' prices outside US over strong dollar\n",
      "\n",
      "Summary:\n",
      "Retired Justice Srikrishna's enquiry panel has found that ex-CEO Chanda Kochhar violated ICICI Bank's code of conduct.\n",
      "------------------------------------------\n",
      "original\n",
      "ICICI fires Chanda Kochhar, to take back bonuses paid in last 9 yrs\n",
      "\n",
      "Summary:\n",
      "Actress Shamita Shetty was verbally abused and her driver was slapped in an incident of road rage in Mumbai on Tuesday, as per reports.\n",
      "------------------------------------------\n",
      "original\n",
      "Shamita Shetty abused, driver slapped after accident: Report\n",
      "\n"
     ]
    }
   ],
   "source": [
    "for index in range(0,100,10):\n",
    "    print('Summary:')\n",
    "    print(summarize(summa.loc[index, 'text'], ratio=0.65))\n",
    "    print(\"------------------------------------------\")\n",
    "    print('original')\n",
    "    print(summa.loc[index, 'headlines'])\n",
    "    print()"
   ]
  },
  {
   "cell_type": "markdown",
   "id": "d12f597b",
   "metadata": {},
   "source": [
    "ratio를 0.8로 했을 때 요약되지 않은 기사도 있다. 아마 기사가 너무 짧아서 추출할 내용을 찾지 못한 것 같기도 하다.   "
   ]
  },
  {
   "cell_type": "markdown",
   "id": "690be586",
   "metadata": {},
   "source": [
    "--------------------------------------------------------------------------"
   ]
  },
  {
   "cell_type": "markdown",
   "id": "07128244",
   "metadata": {},
   "source": [
    " # 7. recurrent dropout 적용"
   ]
  },
  {
   "cell_type": "code",
   "execution_count": 50,
   "id": "6cae6331",
   "metadata": {},
   "outputs": [
    {
     "name": "stdout",
     "output_type": "stream",
     "text": [
      "WARNING:tensorflow:Layer lstm_4 will not use cuDNN kernels since it doesn't meet the criteria. It will use a generic GPU kernel as fallback when running on GPU.\n",
      "WARNING:tensorflow:Layer lstm_5 will not use cuDNN kernels since it doesn't meet the criteria. It will use a generic GPU kernel as fallback when running on GPU.\n",
      "WARNING:tensorflow:Layer lstm_6 will not use cuDNN kernels since it doesn't meet the criteria. It will use a generic GPU kernel as fallback when running on GPU.\n"
     ]
    }
   ],
   "source": [
    "from tensorflow.keras.layers import Input, LSTM, Embedding, Dense, Concatenate, TimeDistributed\n",
    "from tensorflow.keras.models import Model\n",
    "from tensorflow.keras.callbacks import EarlyStopping, ModelCheckpoint\n",
    "\n",
    "\n",
    "# 인코더 설계 시작\n",
    "embedding_dim = 128\n",
    "hidden_size = 256\n",
    "\n",
    "# 인코더\n",
    "encoder_inputs = Input(shape=(text_max_len,))\n",
    "\n",
    "# 인코더의 임베딩 층\n",
    "enc_emb = Embedding(src_vocab, embedding_dim)(encoder_inputs)\n",
    "\n",
    "#시간 관계상 먼저 보통 dropout으로 진행\n",
    "# 인코더의 LSTM 1\n",
    "encoder_lstm1 = LSTM(hidden_size, return_sequences=True, return_state=True ,dropout = 0.4, recurrent_dropout = 0.4)\n",
    "encoder_output1, state_h1, state_c1 = encoder_lstm1(enc_emb)\n",
    "\n",
    "# 인코더의 LSTM 2\n",
    "encoder_lstm2 = LSTM(hidden_size, return_sequences=True, return_state=True, dropout=0.4, recurrent_dropout = 0.4)\n",
    "encoder_output2, state_h2, state_c2 = encoder_lstm2(encoder_output1)\n",
    "\n",
    "# 인코더의 LSTM 3\n",
    "encoder_lstm3 = LSTM(hidden_size, return_state=True, return_sequences=True, dropout=0.4, recurrent_dropout = 0.4)\n",
    "encoder_outputs, state_h, state_c= encoder_lstm3(encoder_output2)"
   ]
  },
  {
   "cell_type": "code",
   "execution_count": 52,
   "id": "e143339b",
   "metadata": {},
   "outputs": [
    {
     "name": "stdout",
     "output_type": "stream",
     "text": [
      "WARNING:tensorflow:Layer lstm_8 will not use cuDNN kernels since it doesn't meet the criteria. It will use a generic GPU kernel as fallback when running on GPU.\n"
     ]
    }
   ],
   "source": [
    "# 디코더 설계\n",
    "decoder_inputs = Input(shape=(None,))\n",
    "\n",
    "# 디코더의 임베딩 층\n",
    "dec_emb_layer = Embedding(tar_vocab, embedding_dim)\n",
    "dec_emb = dec_emb_layer(decoder_inputs)\n",
    "\n",
    "# 디코더의 LSTM\n",
    "decoder_lstm = LSTM(hidden_size, return_sequences=True, return_state=True, dropout=0.4, recurrent_dropout = 0.4)\n",
    "decoder_outputs, _, _ = decoder_lstm(dec_emb, initial_state=[state_h, state_c])"
   ]
  },
  {
   "cell_type": "code",
   "execution_count": 53,
   "id": "e89a20d3",
   "metadata": {},
   "outputs": [
    {
     "name": "stdout",
     "output_type": "stream",
     "text": [
      "Model: \"model_4\"\n",
      "__________________________________________________________________________________________________\n",
      "Layer (type)                    Output Shape         Param #     Connected to                     \n",
      "==================================================================================================\n",
      "input_6 (InputLayer)            [(None, 60)]         0                                            \n",
      "__________________________________________________________________________________________________\n",
      "embedding_2 (Embedding)         (None, 60, 128)      2816000     input_6[0][0]                    \n",
      "__________________________________________________________________________________________________\n",
      "lstm_4 (LSTM)                   [(None, 60, 256), (N 394240      embedding_2[0][0]                \n",
      "__________________________________________________________________________________________________\n",
      "input_8 (InputLayer)            [(None, None)]       0                                            \n",
      "__________________________________________________________________________________________________\n",
      "lstm_5 (LSTM)                   [(None, 60, 256), (N 525312      lstm_4[0][0]                     \n",
      "__________________________________________________________________________________________________\n",
      "embedding_4 (Embedding)         (None, None, 128)    1536000     input_8[0][0]                    \n",
      "__________________________________________________________________________________________________\n",
      "lstm_6 (LSTM)                   [(None, 60, 256), (N 525312      lstm_5[0][0]                     \n",
      "__________________________________________________________________________________________________\n",
      "lstm_8 (LSTM)                   [(None, None, 256),  394240      embedding_4[0][0]                \n",
      "                                                                 lstm_6[0][1]                     \n",
      "                                                                 lstm_6[0][2]                     \n",
      "__________________________________________________________________________________________________\n",
      "dense_2 (Dense)                 (None, None, 12000)  3084000     lstm_8[0][0]                     \n",
      "==================================================================================================\n",
      "Total params: 9,275,104\n",
      "Trainable params: 9,275,104\n",
      "Non-trainable params: 0\n",
      "__________________________________________________________________________________________________\n"
     ]
    }
   ],
   "source": [
    "# 디코더의 출력층\n",
    "decoder_softmax_layer = Dense(tar_vocab, activation='softmax')\n",
    "decoder_softmax_outputs = decoder_softmax_layer(decoder_outputs) \n",
    "\n",
    "# 모델 정의\n",
    "model = Model([encoder_inputs, decoder_inputs], decoder_softmax_outputs)\n",
    "model.summary()"
   ]
  },
  {
   "cell_type": "code",
   "execution_count": 54,
   "id": "78cd70e9",
   "metadata": {},
   "outputs": [
    {
     "name": "stdout",
     "output_type": "stream",
     "text": [
      "Model: \"model_5\"\n",
      "__________________________________________________________________________________________________\n",
      "Layer (type)                    Output Shape         Param #     Connected to                     \n",
      "==================================================================================================\n",
      "input_6 (InputLayer)            [(None, 60)]         0                                            \n",
      "__________________________________________________________________________________________________\n",
      "embedding_2 (Embedding)         (None, 60, 128)      2816000     input_6[0][0]                    \n",
      "__________________________________________________________________________________________________\n",
      "lstm_4 (LSTM)                   [(None, 60, 256), (N 394240      embedding_2[0][0]                \n",
      "__________________________________________________________________________________________________\n",
      "input_8 (InputLayer)            [(None, None)]       0                                            \n",
      "__________________________________________________________________________________________________\n",
      "lstm_5 (LSTM)                   [(None, 60, 256), (N 525312      lstm_4[0][0]                     \n",
      "__________________________________________________________________________________________________\n",
      "embedding_4 (Embedding)         (None, None, 128)    1536000     input_8[0][0]                    \n",
      "__________________________________________________________________________________________________\n",
      "lstm_6 (LSTM)                   [(None, 60, 256), (N 525312      lstm_5[0][0]                     \n",
      "__________________________________________________________________________________________________\n",
      "lstm_8 (LSTM)                   [(None, None, 256),  394240      embedding_4[0][0]                \n",
      "                                                                 lstm_6[0][1]                     \n",
      "                                                                 lstm_6[0][2]                     \n",
      "__________________________________________________________________________________________________\n",
      "attention_layer (AdditiveAttent (None, None, 256)    256         lstm_8[0][0]                     \n",
      "                                                                 lstm_6[0][0]                     \n",
      "__________________________________________________________________________________________________\n",
      "concat_layer (Concatenate)      (None, None, 512)    0           lstm_8[0][0]                     \n",
      "                                                                 attention_layer[0][0]            \n",
      "__________________________________________________________________________________________________\n",
      "dense_3 (Dense)                 (None, None, 12000)  6156000     concat_layer[0][0]               \n",
      "==================================================================================================\n",
      "Total params: 12,347,360\n",
      "Trainable params: 12,347,360\n",
      "Non-trainable params: 0\n",
      "__________________________________________________________________________________________________\n"
     ]
    }
   ],
   "source": [
    "from tensorflow.keras.layers import AdditiveAttention\n",
    "\n",
    "# 어텐션 층(어텐션 함수)\n",
    "attn_layer = AdditiveAttention(name='attention_layer')\n",
    "\n",
    "# 인코더와 디코더의 모든 time step의 hidden state를 어텐션 층에 전달하고 결과를 리턴\n",
    "attn_out = attn_layer([decoder_outputs, encoder_outputs])\n",
    "\n",
    "\n",
    "# 어텐션의 결과와 디코더의 hidden state들을 연결\n",
    "decoder_concat_input = Concatenate(axis=-1, name='concat_layer')([decoder_outputs, attn_out])\n",
    "\n",
    "# 디코더의 출력층\n",
    "decoder_softmax_layer = Dense(tar_vocab, activation='softmax')\n",
    "decoder_softmax_outputs = decoder_softmax_layer(decoder_concat_input)\n",
    "\n",
    "# 모델 정의\n",
    "model = Model([encoder_inputs, decoder_inputs], decoder_softmax_outputs)\n",
    "model.summary()"
   ]
  },
  {
   "cell_type": "code",
   "execution_count": 55,
   "id": "cd0ff3d1",
   "metadata": {},
   "outputs": [
    {
     "name": "stdout",
     "output_type": "stream",
     "text": [
      "Epoch 1/50\n",
      "300/300 [==============================] - 253s 817ms/step - loss: 5.9606 - val_loss: 5.5572\n",
      "Epoch 2/50\n",
      "300/300 [==============================] - 246s 821ms/step - loss: 5.3953 - val_loss: 5.1199\n",
      "Epoch 3/50\n",
      "300/300 [==============================] - 242s 805ms/step - loss: 5.0268 - val_loss: 4.8489\n",
      "Epoch 4/50\n",
      "300/300 [==============================] - 240s 801ms/step - loss: 4.7560 - val_loss: 4.6456\n",
      "Epoch 5/50\n",
      "300/300 [==============================] - 241s 805ms/step - loss: 4.5388 - val_loss: 4.4864\n",
      "Epoch 6/50\n",
      "300/300 [==============================] - 240s 800ms/step - loss: 4.3598 - val_loss: 4.3780\n",
      "Epoch 7/50\n",
      "300/300 [==============================] - 241s 802ms/step - loss: 4.2100 - val_loss: 4.2884\n",
      "Epoch 8/50\n",
      "300/300 [==============================] - 241s 804ms/step - loss: 4.0804 - val_loss: 4.1933\n",
      "Epoch 9/50\n",
      "300/300 [==============================] - 240s 801ms/step - loss: 3.9667 - val_loss: 4.1359\n",
      "Epoch 10/50\n",
      "300/300 [==============================] - 240s 800ms/step - loss: 3.8681 - val_loss: 4.0837\n",
      "Epoch 11/50\n",
      "300/300 [==============================] - 241s 802ms/step - loss: 3.7786 - val_loss: 4.0380\n",
      "Epoch 12/50\n",
      "300/300 [==============================] - 241s 803ms/step - loss: 3.6970 - val_loss: 4.0032\n",
      "Epoch 13/50\n",
      "300/300 [==============================] - 242s 807ms/step - loss: 3.6246 - val_loss: 3.9696\n",
      "Epoch 14/50\n",
      "300/300 [==============================] - 241s 805ms/step - loss: 3.5561 - val_loss: 3.9410\n",
      "Epoch 15/50\n",
      "300/300 [==============================] - 242s 806ms/step - loss: 3.4949 - val_loss: 3.9230\n",
      "Epoch 16/50\n",
      "300/300 [==============================] - 242s 806ms/step - loss: 3.4357 - val_loss: 3.9067\n",
      "Epoch 17/50\n",
      "300/300 [==============================] - 241s 803ms/step - loss: 3.3808 - val_loss: 3.8872\n",
      "Epoch 18/50\n",
      "300/300 [==============================] - 242s 806ms/step - loss: 3.3309 - val_loss: 3.8703\n",
      "Epoch 19/50\n",
      "300/300 [==============================] - 242s 806ms/step - loss: 3.2829 - val_loss: 3.8497\n",
      "Epoch 20/50\n",
      "300/300 [==============================] - 241s 804ms/step - loss: 3.2358 - val_loss: 3.8412\n",
      "Epoch 21/50\n",
      "300/300 [==============================] - 242s 807ms/step - loss: 3.1905 - val_loss: 3.8313\n",
      "Epoch 22/50\n",
      "300/300 [==============================] - 241s 805ms/step - loss: 3.1499 - val_loss: 3.8244\n",
      "Epoch 23/50\n",
      "300/300 [==============================] - 242s 805ms/step - loss: 3.1137 - val_loss: 3.8213\n",
      "Epoch 24/50\n",
      "300/300 [==============================] - 241s 803ms/step - loss: 3.0769 - val_loss: 3.8226\n",
      "Epoch 25/50\n",
      "300/300 [==============================] - 241s 803ms/step - loss: 3.0427 - val_loss: 3.8159\n",
      "Epoch 26/50\n",
      "300/300 [==============================] - 241s 805ms/step - loss: 3.0094 - val_loss: 3.8010\n",
      "Epoch 27/50\n",
      "300/300 [==============================] - 242s 807ms/step - loss: 2.9723 - val_loss: 3.7994\n",
      "Epoch 28/50\n",
      "300/300 [==============================] - 241s 804ms/step - loss: 2.9381 - val_loss: 3.7952\n",
      "Epoch 29/50\n",
      "300/300 [==============================] - 242s 805ms/step - loss: 2.9101 - val_loss: 3.7914\n",
      "Epoch 30/50\n",
      "300/300 [==============================] - 241s 803ms/step - loss: 2.8847 - val_loss: 3.7973\n",
      "Epoch 31/50\n",
      "300/300 [==============================] - 242s 805ms/step - loss: 2.8576 - val_loss: 3.7982\n",
      "Epoch 00031: early stopping\n"
     ]
    }
   ],
   "source": [
    "model.compile(optimizer='rmsprop', loss='sparse_categorical_crossentropy')\n",
    "es = EarlyStopping(monitor='val_loss', patience=2, verbose=1)\n",
    "history = model.fit(x=[encoder_input_train, decoder_input_train], y=decoder_target_train, \\\n",
    "          validation_data=([encoder_input_test, decoder_input_test], decoder_target_test), \\\n",
    "          batch_size=256, callbacks=[es], epochs=50)"
   ]
  },
  {
   "cell_type": "code",
   "execution_count": 56,
   "id": "15e08ce5",
   "metadata": {},
   "outputs": [
    {
     "data": {
      "image/png": "[encoded data removed]",
      "text/plain": [
       "<Figure size 432x288 with 1 Axes>"
      ]
     },
     "metadata": {
      "needs_background": "light"
     },
     "output_type": "display_data"
    }
   ],
   "source": [
    "plt.plot(history.history['loss'], label='train')\n",
    "plt.plot(history.history['val_loss'], label='test')\n",
    "plt.legend()\n",
    "plt.show()"
   ]
  },
  {
   "cell_type": "code",
   "execution_count": 57,
   "id": "4c02f8b9",
   "metadata": {},
   "outputs": [],
   "source": [
    "src_index_to_word = src_tokenizer.index_word # 원문 단어 집합에서 정수 -> 단어를 얻음\n",
    "tar_word_to_index = tar_tokenizer.word_index # 요약 단어 집합에서 단어 -> 정수를 얻음\n",
    "tar_index_to_word = tar_tokenizer.index_word # 요약 단어 집합에서 정수 -> 단어를 얻음"
   ]
  },
  {
   "cell_type": "code",
   "execution_count": 58,
   "id": "60c359d4",
   "metadata": {},
   "outputs": [],
   "source": [
    "# 인코더 설계\n",
    "encoder_model = Model(inputs=encoder_inputs, outputs=[encoder_outputs, state_h, state_c])\n",
    "\n",
    "# 이전 시점의 상태들을 저장하는 텐서\n",
    "decoder_state_input_h = Input(shape=(hidden_size,))\n",
    "decoder_state_input_c = Input(shape=(hidden_size,))\n",
    "\n",
    "dec_emb2 = dec_emb_layer(decoder_inputs)\n",
    "\n",
    "# 문장의 다음 단어를 예측하기 위해서 초기 상태(initial_state)를 이전 시점의 상태로 사용. 이는 뒤의 함수 decode_sequence()에 구현\n",
    "# 훈련 과정에서와 달리 LSTM의 리턴하는 은닉 상태와 셀 상태인 state_h와 state_c를 버리지 않음.\n",
    "decoder_outputs2, state_h2, state_c2 = decoder_lstm(dec_emb2, initial_state=[decoder_state_input_h, decoder_state_input_c])"
   ]
  },
  {
   "cell_type": "code",
   "execution_count": 59,
   "id": "9b9c027a",
   "metadata": {},
   "outputs": [],
   "source": [
    "# 어텐션 함수\n",
    "decoder_hidden_state_input = Input(shape=(text_max_len, hidden_size))\n",
    "attn_out_inf = attn_layer([decoder_outputs2, decoder_hidden_state_input])\n",
    "decoder_inf_concat = Concatenate(axis=-1, name='concat')([decoder_outputs2, attn_out_inf])\n",
    "\n",
    "# 디코더의 출력층\n",
    "decoder_outputs2 = decoder_softmax_layer(decoder_inf_concat) \n",
    "\n",
    "# 최종 디코더 모델\n",
    "decoder_model = Model(\n",
    "    [decoder_inputs] + [decoder_hidden_state_input,decoder_state_input_h, decoder_state_input_c],\n",
    "    [decoder_outputs2] + [state_h2, state_c2])"
   ]
  },
  {
   "cell_type": "code",
   "execution_count": 60,
   "id": "9450493f",
   "metadata": {},
   "outputs": [],
   "source": [
    "# 원문의 정수 시퀀스를 텍스트 시퀀스로 변환\n",
    "def seq2text(input_seq):\n",
    "    temp=''\n",
    "    for i in input_seq:\n",
    "        if (i!=0):\n",
    "            temp = temp + src_index_to_word[i]+' '\n",
    "    return temp\n",
    "\n",
    "# 요약문의 정수 시퀀스를 텍스트 시퀀스로 변환\n",
    "def seq2head(input_seq):\n",
    "    temp=''\n",
    "    for i in input_seq:\n",
    "        if ((i!=0 and i!=tar_word_to_index['sostoken']) and i!=tar_word_to_index['eostoken']):\n",
    "            temp = temp + tar_index_to_word[i] + ' '\n",
    "    return temp"
   ]
  },
  {
   "cell_type": "code",
   "execution_count": 61,
   "id": "683450b7",
   "metadata": {},
   "outputs": [
    {
     "name": "stdout",
     "output_type": "stream",
     "text": [
      "원문 : liquor baron vijay mallya is reportedly getting married for the third time to his current girlfriend and former air hostess pinky lalwani with whom he lives in london they started dating when mallya offered pinky a job in kingfisher airlines the 62 year old was previously married to a former air hostess and is still legally married to rekha mallya \n",
      "실제 요약 : vijay mallya to get married for third time reports \n",
      "예측 요약 :  mallya to be auctioned for non payment of wife\n",
      "\n",
      "\n",
      "원문 : wework is expanding across bangalore with its newest building opening in may 2018 at bellary road spread over three floors wework features a game room a terrace lounge an and a beautiful workspace with private offices and conference rooms that can help your business grow \n",
      "실제 요약 : wework to launch 4th bengaluru location in road \n",
      "예측 요약 :  wework to open in bengaluru\n",
      "\n",
      "\n",
      "원문 : the world's debt reached a record 164 trillion in 2016 which is worth 225 of the world's gross domestic product according to the international monetary fund the world is now 12 of gdp deeper in debt than the previous peak in 2009 the imf added notably china alone contributed more than 40 to the increase in global debt since 2007 \n",
      "실제 요약 : world debt hits record high of trillion imf \n",
      "예측 요약 :  india world's largest economy for the world bank\n",
      "\n",
      "\n",
      "원문 : after an australian journalist called up new zealand's parliament to clarify how the surname of the country's next pm jacinda ardern was pronounced ardern herself explained that her name should sound calling the incident funny ardern said the operator just put him the journalist straight through he probably didn't intend to do that but it was no trouble at all \n",
      "실제 요약 : journo calls to check new zealand pm's name talks to pm \n",
      "예측 요약 :  aus pm apologises for aus pm modi's tweet\n",
      "\n",
      "\n",
      "원문 : a video shows actress sonam kapoor and her mother sunita kapoor dancing to the song from the 2014 film 'queen' at sonam's mehendi function on monday celebrities like varun dhawan katrina kaif karan johar and jacqueline fernandez attended the function sonam will get married to businessman anand ahuja on tuesday \n",
      "실제 요약 : sonam mom sunita dance to london at mehendi function \n",
      "예측 요약 :  sonam kapoor dance dance to sonam kapoor's sangeet reports\n",
      "\n",
      "\n",
      "원문 : chrysler has named its jeep division chief mike to replace ceo sergio marchionne who suffered serious complications following shoulder surgery marchionne joined fiat in 2004 and led the italy based company's merger with bankrupt us carmaker chrysler the 66 year old will also leave his roles as chairman and ceo of ferrari which spun off from fiat chrysler in 2016 \n",
      "실제 요약 : fiat names jeep boss to replace seriously ill ceo \n",
      "예측 요약 :  trump's health ceo quits after he declared\n",
      "\n",
      "\n",
      "원문 : a massive fire engulfed a area of about four kilometres in mumbai's aarey colony in goregaon but was doused before it reached residential buildings the fire which started at around 6 30 pm on monday had started moving towards the residential localities in the night the aarey colony includes 12 villages and the film city \n",
      "실제 요약 : fire at mumbai forest before reaching buildings \n",
      "예측 요약 :  fire breaks out at mumbai airport\n",
      "\n",
      "\n",
      "원문 : rishi kapoor after watching vicky kaushal starrer 'uri the surgical strike' tweeted brought home the point india has nothing against the citizens of pakistan but those terrorists being trained in camps against us terrific warfare film perhaps the best ever made in india bravo let this be an eye opener he further wrote the film also stars yami gautam \n",
      "실제 요약 : shows india has nothing against citizens of pakistan rishi \n",
      "예측 요약 :  rishi kapoor is the indian rishi kapoor\n",
      "\n",
      "\n",
      "원문 : in a first two songs granted with unesco heritage status have been into dna strands by a collaboration between microsoft and researchers in the us and switzerland the songs by miles davis and on the water' by deep purple are also the first that can be from the strands and subsequently listened to without quality reduction \n",
      "실제 요약 : songs with unesco heritage status in dna for 1st time \n",
      "예측 요약 :  video of blue whale game makes black hole\n",
      "\n",
      "\n",
      "원문 : a couple from belgium has been travelling around the world and the instagram handle wherein they post their photographs has become popular the couple nick and discovered several years ago when they accidentally booked a naked the two who have visited croatia malta greece and said they find it to wear no clothes \n",
      "실제 요약 : belgian couple travelling around the world \n",
      "예측 요약 :  couple named world's oldest person to marry\n",
      "\n",
      "\n"
     ]
    }
   ],
   "source": [
    "for i in range(0, 100,10):\n",
    "    print(\"원문 :\", seq2text(encoder_input_test[i]))\n",
    "    print(\"실제 요약 :\", seq2head(decoder_input_test[i]))\n",
    "    print(\"예측 요약 :\", decode_sequence(encoder_input_test[i].reshape(1, text_max_len)))\n",
    "    print(\"\\n\")"
   ]
  }
 ],
 "metadata": {
  "kernelspec": {
   "display_name": "Python 3 (ipykernel)",
   "language": "python",
   "name": "python3"
  },
  "language_info": {
   "codemirror_mode": {
    "name": "ipython",
    "version": 3
   },
   "file_extension": ".py",
   "mimetype": "text/x-python",
   "name": "python",
   "nbconvert_exporter": "python",
   "pygments_lexer": "ipython3",
   "version": "3.9.7"
  }
 },
 "nbformat": 4,
 "nbformat_minor": 5
}
