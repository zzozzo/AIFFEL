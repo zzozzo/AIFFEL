{
 "cells": [
  {
   "cell_type": "markdown",
   "id": "213bd004",
   "metadata": {},
   "source": [
    "# 1. 패키지 import + 데이터 다운로드\n"
   ]
  },
  {
   "cell_type": "code",
   "execution_count": 1,
   "id": "c0f51169",
   "metadata": {},
   "outputs": [
    {
     "name": "stderr",
     "output_type": "stream",
     "text": [
      "[nltk_data] Downloading package stopwords to /aiffel/nltk_data...\n",
      "[nltk_data]   Package stopwords is already up-to-date!\n"
     ]
    }
   ],
   "source": [
    "import nltk\n",
    "nltk.download('stopwords')\n",
    "\n",
    "import numpy as np\n",
    "import pandas as pd\n",
    "import os\n",
    "import re\n",
    "import matplotlib.pyplot as plt\n",
    "from nltk.corpus import stopwords\n",
    "from bs4 import BeautifulSoup \n",
    "from tensorflow.keras.preprocessing.text import Tokenizer \n",
    "from tensorflow.keras.preprocessing.sequence import pad_sequences\n",
    "import urllib.request\n",
    "import warnings\n",
    "warnings.filterwarnings(\"ignore\", category=UserWarning, module='bs4')"
   ]
  },
  {
   "cell_type": "code",
   "execution_count": 2,
   "id": "51357f52",
   "metadata": {},
   "outputs": [
    {
     "name": "stdout",
     "output_type": "stream",
     "text": [
      "전체 샘플수 : 98401\n"
     ]
    }
   ],
   "source": [
    "import urllib.request\n",
    "urllib.request.urlretrieve(\"https://raw.githubusercontent.com/sunnysai12345/News_Summary/master/news_summary_more.csv\", filename=\"news_summary_more.csv\")\n",
    "data = pd.read_csv('news_summary_more.csv', encoding='iso-8859-1')\n",
    "\n",
    "#샘플수 확인\n",
    "print('전체 샘플수 :', (len(data)))"
   ]
  },
  {
   "cell_type": "code",
   "execution_count": 3,
   "id": "1771ccbd",
   "metadata": {},
   "outputs": [
    {
     "data": {
      "text/html": [
       "<div>\n",
       "<style scoped>\n",
       "    .dataframe tbody tr th:only-of-type {\n",
       "        vertical-align: middle;\n",
       "    }\n",
       "\n",
       "    .dataframe tbody tr th {\n",
       "        vertical-align: top;\n",
       "    }\n",
       "\n",
       "    .dataframe thead th {\n",
       "        text-align: right;\n",
       "    }\n",
       "</style>\n",
       "<table border=\"1\" class=\"dataframe\">\n",
       "  <thead>\n",
       "    <tr style=\"text-align: right;\">\n",
       "      <th></th>\n",
       "      <th>headlines</th>\n",
       "      <th>text</th>\n",
       "    </tr>\n",
       "  </thead>\n",
       "  <tbody>\n",
       "    <tr>\n",
       "      <th>83977</th>\n",
       "      <td>Former England captain Andrew Flintoff to feat...</td>\n",
       "      <td>Former England captain Andrew Flintoff is set ...</td>\n",
       "    </tr>\n",
       "    <tr>\n",
       "      <th>61827</th>\n",
       "      <td>Another actress accuses Gossip Girl actor West...</td>\n",
       "      <td>Actress AurÃÂ©lie Wynn has claimed that actor...</td>\n",
       "    </tr>\n",
       "    <tr>\n",
       "      <th>78794</th>\n",
       "      <td>Passengers subdue woman sprinting towards cockpit</td>\n",
       "      <td>Five men were forced to subdue an \"aggressive\"...</td>\n",
       "    </tr>\n",
       "    <tr>\n",
       "      <th>92464</th>\n",
       "      <td>Neil Nitin Mukesh to feature in 'Golmaal Again'</td>\n",
       "      <td>Actor Neil Nitin Mukesh took to social media t...</td>\n",
       "    </tr>\n",
       "    <tr>\n",
       "      <th>5341</th>\n",
       "      <td>Rafael Nadal donates Ã¢ÂÂ¬1 million to Mallor...</td>\n",
       "      <td>Former world number one Spanish tennis player ...</td>\n",
       "    </tr>\n",
       "    <tr>\n",
       "      <th>54869</th>\n",
       "      <td>Google rolls out video collage of users' smili...</td>\n",
       "      <td>Google's photo sharing and storage service Goo...</td>\n",
       "    </tr>\n",
       "    <tr>\n",
       "      <th>23608</th>\n",
       "      <td>Mars closest to Earth in 15 years today at 57....</td>\n",
       "      <td>At a distance of 57.6 million km, Mars has com...</td>\n",
       "    </tr>\n",
       "    <tr>\n",
       "      <th>59848</th>\n",
       "      <td>People f*ck for pleasure: Emilia on GoT sex sc...</td>\n",
       "      <td>Speaking about the criticism against the sex s...</td>\n",
       "    </tr>\n",
       "    <tr>\n",
       "      <th>66473</th>\n",
       "      <td>Jaish-e-Mohammed operational head killed in en...</td>\n",
       "      <td>The operational head of Jaish-e-Mohammed, Khal...</td>\n",
       "    </tr>\n",
       "    <tr>\n",
       "      <th>11622</th>\n",
       "      <td>41-year-old nurse admits to killing 100 patien...</td>\n",
       "      <td>Niels Hoegel, a 41-year-old former German nurs...</td>\n",
       "    </tr>\n",
       "  </tbody>\n",
       "</table>\n",
       "</div>"
      ],
      "text/plain": [
       "                                               headlines  \\\n",
       "83977  Former England captain Andrew Flintoff to feat...   \n",
       "61827  Another actress accuses Gossip Girl actor West...   \n",
       "78794  Passengers subdue woman sprinting towards cockpit   \n",
       "92464    Neil Nitin Mukesh to feature in 'Golmaal Again'   \n",
       "5341   Rafael Nadal donates Ã¢ÂÂ¬1 million to Mallor...   \n",
       "54869  Google rolls out video collage of users' smili...   \n",
       "23608  Mars closest to Earth in 15 years today at 57....   \n",
       "59848  People f*ck for pleasure: Emilia on GoT sex sc...   \n",
       "66473  Jaish-e-Mohammed operational head killed in en...   \n",
       "11622  41-year-old nurse admits to killing 100 patien...   \n",
       "\n",
       "                                                    text  \n",
       "83977  Former England captain Andrew Flintoff is set ...  \n",
       "61827  Actress AurÃÂ©lie Wynn has claimed that actor...  \n",
       "78794  Five men were forced to subdue an \"aggressive\"...  \n",
       "92464  Actor Neil Nitin Mukesh took to social media t...  \n",
       "5341   Former world number one Spanish tennis player ...  \n",
       "54869  Google's photo sharing and storage service Goo...  \n",
       "23608  At a distance of 57.6 million km, Mars has com...  \n",
       "59848  Speaking about the criticism against the sex s...  \n",
       "66473  The operational head of Jaish-e-Mohammed, Khal...  \n",
       "11622  Niels Hoegel, a 41-year-old former German nurs...  "
      ]
     },
     "execution_count": 3,
     "metadata": {},
     "output_type": "execute_result"
    }
   ],
   "source": [
    "data.sample(10)"
   ]
  },
  {
   "cell_type": "markdown",
   "id": "79e2747c",
   "metadata": {},
   "source": [
    "- 추상적 요약을 하는 경우에는 text를 본문, headlines를 이미 요약된 데이터로 설정할 수 있음   \n",
    "- 추출적 요약을 하는 경우에는 text열만을 사용"
   ]
  },
  {
   "cell_type": "markdown",
   "id": "bc689ece",
   "metadata": {},
   "source": [
    "# 2. 데이터 전처리\n",
    "- 중복 데이터 처리하기   \n",
    "- null값 처리하기   \n",
    "- 정규화 하기   \n",
    "- 불용어 제거   \n",
    "- 데이터 샘플 최대 길이 정하기   \n",
    "- 시작, 종료 토큰 추가하기      \n",
    "- 데이터셋 분리하기   \n",
    "- 정수 인코딩   \n",
    "- 패딩하기   "
   ]
  },
  {
   "cell_type": "markdown",
   "id": "9995af06",
   "metadata": {},
   "source": [
    "### 1) 중복 데이터 처리하기 "
   ]
  },
  {
   "cell_type": "code",
   "execution_count": 4,
   "id": "7ea3ccca",
   "metadata": {},
   "outputs": [
    {
     "name": "stdout",
     "output_type": "stream",
     "text": [
      "headlines 열에서 중복을 배제한 유일한 샘플의 수 : 98280\n",
      "text 열에서 중복을 배제한 유일한 샘플의 수 : 98360\n"
     ]
    }
   ],
   "source": [
    "#중복 확인하기\n",
    "print('headlines 열에서 중복을 배제한 유일한 샘플의 수 :', data['headlines'].nunique())\n",
    "print('text 열에서 중복을 배제한 유일한 샘플의 수 :', data['text'].nunique())"
   ]
  },
  {
   "cell_type": "code",
   "execution_count": 5,
   "id": "02daa97c",
   "metadata": {},
   "outputs": [
    {
     "name": "stdout",
     "output_type": "stream",
     "text": [
      "전체 샘플수 : 98360\n"
     ]
    }
   ],
   "source": [
    "#중복 제거하기\n",
    "# inplace=True 를 설정하면 DataFrame 타입 값을 return 하지 않고 data 내부를 직접적으로 바꿉니다\n",
    "data.drop_duplicates(subset = ['text'], inplace=True)\n",
    "print('전체 샘플수 :', (len(data)))"
   ]
  },
  {
   "cell_type": "markdown",
   "id": "90ce89fc",
   "metadata": {},
   "source": [
    "### 2) null값 처리하기"
   ]
  },
  {
   "cell_type": "code",
   "execution_count": 6,
   "id": "1ffd4899",
   "metadata": {},
   "outputs": [
    {
     "name": "stdout",
     "output_type": "stream",
     "text": [
      "headlines    0\n",
      "text         0\n",
      "dtype: int64\n"
     ]
    }
   ],
   "source": [
    "#null값 확인하기\n",
    "print(data.isnull().sum())"
   ]
  },
  {
   "cell_type": "markdown",
   "id": "11240fb3",
   "metadata": {},
   "source": [
    "null 값이 없다!!   \n",
    "우선 제거를 패스한다"
   ]
  },
  {
   "cell_type": "markdown",
   "id": "0908ebe0",
   "metadata": {},
   "source": [
    "### 3) 정규화 하기"
   ]
  },
  {
   "cell_type": "code",
   "execution_count": 7,
   "id": "eb1abdd3",
   "metadata": {},
   "outputs": [
    {
     "name": "stdout",
     "output_type": "stream",
     "text": [
      "정규화 사전의 수:  120\n"
     ]
    }
   ],
   "source": [
    "#텍스트 = 정규화 사전\n",
    "contractions = {\"ain't\": \"is not\", \"aren't\": \"are not\",\"can't\": \"cannot\", \"'cause\": \"because\", \"could've\": \"could have\", \"couldn't\": \"could not\",\n",
    "                           \"didn't\": \"did not\",  \"doesn't\": \"does not\", \"don't\": \"do not\", \"hadn't\": \"had not\", \"hasn't\": \"has not\", \"haven't\": \"have not\",\n",
    "                           \"he'd\": \"he would\",\"he'll\": \"he will\", \"he's\": \"he is\", \"how'd\": \"how did\", \"how'd'y\": \"how do you\", \"how'll\": \"how will\", \"how's\": \"how is\",\n",
    "                           \"I'd\": \"I would\", \"I'd've\": \"I would have\", \"I'll\": \"I will\", \"I'll've\": \"I will have\",\"I'm\": \"I am\", \"I've\": \"I have\", \"i'd\": \"i would\",\n",
    "                           \"i'd've\": \"i would have\", \"i'll\": \"i will\",  \"i'll've\": \"i will have\",\"i'm\": \"i am\", \"i've\": \"i have\", \"isn't\": \"is not\", \"it'd\": \"it would\",\n",
    "                           \"it'd've\": \"it would have\", \"it'll\": \"it will\", \"it'll've\": \"it will have\",\"it's\": \"it is\", \"let's\": \"let us\", \"ma'am\": \"madam\",\n",
    "                           \"mayn't\": \"may not\", \"might've\": \"might have\",\"mightn't\": \"might not\",\"mightn't've\": \"might not have\", \"must've\": \"must have\",\n",
    "                           \"mustn't\": \"must not\", \"mustn't've\": \"must not have\", \"needn't\": \"need not\", \"needn't've\": \"need not have\",\"o'clock\": \"of the clock\",\n",
    "                           \"oughtn't\": \"ought not\", \"oughtn't've\": \"ought not have\", \"shan't\": \"shall not\", \"sha'n't\": \"shall not\", \"shan't've\": \"shall not have\",\n",
    "                           \"she'd\": \"she would\", \"she'd've\": \"she would have\", \"she'll\": \"she will\", \"she'll've\": \"she will have\", \"she's\": \"she is\",\n",
    "                           \"should've\": \"should have\", \"shouldn't\": \"should not\", \"shouldn't've\": \"should not have\", \"so've\": \"so have\",\"so's\": \"so as\",\n",
    "                           \"this's\": \"this is\",\"that'd\": \"that would\", \"that'd've\": \"that would have\", \"that's\": \"that is\", \"there'd\": \"there would\",\n",
    "                           \"there'd've\": \"there would have\", \"there's\": \"there is\", \"here's\": \"here is\",\"they'd\": \"they would\", \"they'd've\": \"they would have\",\n",
    "                           \"they'll\": \"they will\", \"they'll've\": \"they will have\", \"they're\": \"they are\", \"they've\": \"they have\", \"to've\": \"to have\",\n",
    "                           \"wasn't\": \"was not\", \"we'd\": \"we would\", \"we'd've\": \"we would have\", \"we'll\": \"we will\", \"we'll've\": \"we will have\", \"we're\": \"we are\",\n",
    "                           \"we've\": \"we have\", \"weren't\": \"were not\", \"what'll\": \"what will\", \"what'll've\": \"what will have\", \"what're\": \"what are\",\n",
    "                           \"what's\": \"what is\", \"what've\": \"what have\", \"when's\": \"when is\", \"when've\": \"when have\", \"where'd\": \"where did\", \"where's\": \"where is\",\n",
    "                           \"where've\": \"where have\", \"who'll\": \"who will\", \"who'll've\": \"who will have\", \"who's\": \"who is\", \"who've\": \"who have\",\n",
    "                           \"why's\": \"why is\", \"why've\": \"why have\", \"will've\": \"will have\", \"won't\": \"will not\", \"won't've\": \"will not have\",\n",
    "                           \"would've\": \"would have\", \"wouldn't\": \"would not\", \"wouldn't've\": \"would not have\", \"y'all\": \"you all\",\n",
    "                           \"y'all'd\": \"you all would\",\"y'all'd've\": \"you all would have\",\"y'all're\": \"you all are\",\"y'all've\": \"you all have\",\n",
    "                           \"you'd\": \"you would\", \"you'd've\": \"you would have\", \"you'll\": \"you will\", \"you'll've\": \"you will have\",\n",
    "                           \"you're\": \"you are\", \"you've\": \"you have\"}\n",
    "\n",
    "print(\"정규화 사전의 수: \", len(contractions))"
   ]
  },
  {
   "cell_type": "markdown",
   "id": "e5f377b3",
   "metadata": {},
   "source": [
    "### 4) 불용어 제거 "
   ]
  },
  {
   "cell_type": "code",
   "execution_count": 8,
   "id": "a451e679",
   "metadata": {},
   "outputs": [],
   "source": [
    "#불용어 제거\n",
    "# 데이터 전처리 함수\n",
    "def preprocess_sentence(sentence, remove_stopwords=True):\n",
    "    sentence = sentence.lower() # 텍스트 소문자화\n",
    "    sentence = BeautifulSoup(sentence, \"lxml\").text # <br />, <a href = ...> 등의 html 태그 제거\n",
    "    sentence = re.sub(r'\\([^)]*\\)', '', sentence) # 괄호로 닫힌 문자열 (...) 제거 Ex) my husband (and myself!) for => my husband for\n",
    "    sentence = re.sub('\"','', sentence) # 쌍따옴표 \" 제거\n",
    "    sentence = ' '.join([contractions[t] if t in contractions else t for t in sentence.split(\" \")]) # 약어 정규화\n",
    "    sentence = re.sub(r\"'s\\b\",\"\", sentence) # 소유격 제거. Ex) roland's -> roland\n",
    "    sentence = re.sub(\"[^a-zA-Z]\", \" \", sentence) # 영어 외 문자(숫자, 특수문자 등) 공백으로 변환\n",
    "    sentence = re.sub('[m]{2,}', 'mm', sentence) # m이 3개 이상이면 2개로 변경. Ex) ummmmmmm yeah -> umm yeah\n",
    "    sentence = re.sub('https?://\\S+|www\\.\\S+', '', sentence)#url 제거\n",
    "    \n",
    "    # 불용어 제거 (Text)\n",
    "    if remove_stopwords:\n",
    "        tokens = ' '.join(word for word in sentence.split() if not word in stopwords.words('english') if len(word) > 1)\n",
    "    # 불용어 미제거 (Summary)\n",
    "    else:\n",
    "        tokens = ' '.join(word for word in sentence.split() if len(word) > 1)\n",
    "    return tokens"
   ]
  },
  {
   "cell_type": "code",
   "execution_count": 9,
   "id": "dc380c27",
   "metadata": {},
   "outputs": [
    {
     "name": "stdout",
     "output_type": "stream",
     "text": [
      "Text 전처리 후 결과:  ['saurav kant alumnus upgrad iiit pg program machine learning artificial intelligence sr systems engineer infosys almost years work experience program upgrad degree career support helped transition data scientist tech mahindra salary hike upgrad online power learning powered lakh careers', 'kunal shah credit card bill payment platform cred gave users chance win free food swiggy one year pranav kaushik delhi techie bagged reward spending cred coins users get one cred coin per rupee bill paid used avail rewards brands like ixigo bookmyshow ubereats cult fit', 'new zealand defeated india wickets fourth odi hamilton thursday win first match five match odi series india lost international match rohit sharma captaincy consecutive victories dating back march match witnessed india getting seventh lowest total odi cricket history', 'aegon life iterm insurance plan customers enjoy tax benefits premiums paid save taxes plan provides life cover age years also customers options insure critical illnesses disability accidental death benefit rider life cover age years', 'speaking sexual harassment allegations rajkumar hirani sonam kapoor said known hirani many years true metoo movement get derailed metoo movement always believe woman case need reserve judgment added hirani accused assistant worked sanju']\n"
     ]
    }
   ],
   "source": [
    "clean_text = []\n",
    "# 전체 Text 데이터에 대한 전처리 : 10분 이상 시간이 걸릴 수 있습니다. \n",
    "for s in data['text']:\n",
    "    clean_text.append(preprocess_sentence(s))\n",
    "\n",
    "# 전처리 후 출력\n",
    "print(\"Text 전처리 후 결과: \", clean_text[:5])"
   ]
  },
  {
   "cell_type": "code",
   "execution_count": 10,
   "id": "505dbf32",
   "metadata": {},
   "outputs": [
    {
     "name": "stdout",
     "output_type": "stream",
     "text": [
      "headlines 전처리 후 결과:  ['upgrad learner switches to career in ml al with salary hike', 'delhi techie wins free food from swiggy for one year on cred', 'new zealand end rohit sharma led india match winning streak', 'aegon life iterm insurance plan helps customers save tax', 'have known hirani for yrs what if metoo claims are not true sonam']\n"
     ]
    }
   ],
   "source": [
    "clean_headlines = []\n",
    "# 전체 Summary 데이터에 대한 전처리 : 5분 이상 시간이 걸릴 수 있습니다. \n",
    "for s in data['headlines']:\n",
    "    clean_headlines.append(preprocess_sentence(s, False))\n",
    "\n",
    "print(\"headlines 전처리 후 결과: \", clean_headlines[:5])"
   ]
  },
  {
   "cell_type": "code",
   "execution_count": 11,
   "id": "f5bc50ea",
   "metadata": {},
   "outputs": [
    {
     "name": "stdout",
     "output_type": "stream",
     "text": [
      "headlines    0\n",
      "text         0\n",
      "dtype: int64\n"
     ]
    }
   ],
   "source": [
    "print(data.isnull().sum())"
   ]
  },
  {
   "cell_type": "markdown",
   "id": "81347f86",
   "metadata": {},
   "source": [
    "### 5) 데이터 샘플 최대 길이 정하기 "
   ]
  },
  {
   "cell_type": "code",
   "execution_count": 12,
   "id": "4795aac9",
   "metadata": {},
   "outputs": [
    {
     "name": "stdout",
     "output_type": "stream",
     "text": [
      "텍스트의 최소 길이 : 1\n",
      "텍스트의 최대 길이 : 91\n",
      "텍스트의 평균 길이 : 58.23813542090281\n",
      "텍스트의 길이 분산 : 2.3842567599226006\n",
      "헤드라인의 최소 길이 : 1\n",
      "헤드라인의 최대 길이 : 18\n",
      "헤드라인의 평균 길이 : 9.553660024400163\n"
     ]
    },
    {
     "data": {
      "image/png": "[encoded data removed]",
      "text/plain": [
       "<Figure size 432x288 with 2 Axes>"
      ]
     },
     "metadata": {
      "needs_background": "light"
     },
     "output_type": "display_data"
    },
    {
     "data": {
      "image/png": "[encoded data removed]",
      "text/plain": [
       "<Figure size 432x288 with 1 Axes>"
      ]
     },
     "metadata": {
      "needs_background": "light"
     },
     "output_type": "display_data"
    },
    {
     "data": {
      "image/png": "[encoded data removed]",
      "text/plain": [
       "<Figure size 432x288 with 1 Axes>"
      ]
     },
     "metadata": {
      "needs_background": "light"
     },
     "output_type": "display_data"
    }
   ],
   "source": [
    "# 길이 분포 확인하기\n",
    "import matplotlib.pyplot as plt\n",
    "\n",
    "text_len = [len(s.split()) for s in data['text']]\n",
    "headlines_len = [len(s.split()) for s in data['headlines']]\n",
    "\n",
    "print('텍스트의 최소 길이 : {}'.format(np.min(text_len)))\n",
    "print('텍스트의 최대 길이 : {}'.format(np.max(text_len)))\n",
    "print('텍스트의 평균 길이 : {}'.format(np.mean(text_len)))\n",
    "print('텍스트의 길이 분산 : {}'.format(np.std(text_len)))\n",
    "print('헤드라인의 최소 길이 : {}'.format(np.min(headlines_len)))\n",
    "print('헤드라인의 최대 길이 : {}'.format(np.max(headlines_len)))\n",
    "print('헤드라인의 평균 길이 : {}'.format(np.mean(headlines_len)))\n",
    "\n",
    "plt.subplot(1,2,1)\n",
    "plt.boxplot(text_len)\n",
    "plt.title('text')\n",
    "plt.subplot(1,2,2)\n",
    "plt.boxplot(headlines_len)\n",
    "plt.title('headlines')\n",
    "plt.tight_layout()\n",
    "plt.show()\n",
    "\n",
    "plt.title('text')\n",
    "plt.hist(text_len, bins = 40)\n",
    "plt.xlabel('length of samples')\n",
    "plt.ylabel('number of samples')\n",
    "plt.show()\n",
    "\n",
    "plt.title('headlines')\n",
    "plt.hist(headlines_len, bins = 40)\n",
    "plt.xlabel('length of samples')\n",
    "plt.ylabel('number of samples')\n",
    "plt.show()"
   ]
  },
  {
   "cell_type": "markdown",
   "id": "8a88e2e7",
   "metadata": {},
   "source": [
    "정제된 데이터를 확인해보니 다음과 같은 특징이 발견되었다.   \n",
    "1. 텍스트와 헤드라인 모두 데이터의 최소 크기가 1이다   \n",
    "2. 텍스트 데이터의 길이는 평균 약 58이며, 데이터 대부분이 약 50대 중후반~60대 초반에 몰려 있는 것을 볼 수 있다.   \n",
    "3. 헤드라인 데이터의 길이는 평균 약 10이며, 전반적으로 고르게 분포한다.   \n",
    "\n",
    "여기서 궁금한 점   \n",
    "->과연 데이터 길이가 1인 데이터는 무엇일까..   \n",
    "리소스 낭비하긴하지만 찾아보자   \n"
   ]
  },
  {
   "cell_type": "code",
   "execution_count": 13,
   "id": "97897cad",
   "metadata": {},
   "outputs": [
    {
     "data": {
      "text/html": [
       "<div>\n",
       "<style scoped>\n",
       "    .dataframe tbody tr th:only-of-type {\n",
       "        vertical-align: middle;\n",
       "    }\n",
       "\n",
       "    .dataframe tbody tr th {\n",
       "        vertical-align: top;\n",
       "    }\n",
       "\n",
       "    .dataframe thead th {\n",
       "        text-align: right;\n",
       "    }\n",
       "</style>\n",
       "<table border=\"1\" class=\"dataframe\">\n",
       "  <thead>\n",
       "    <tr style=\"text-align: right;\">\n",
       "      <th></th>\n",
       "      <th>headlines</th>\n",
       "      <th>text</th>\n",
       "    </tr>\n",
       "  </thead>\n",
       "  <tbody>\n",
       "    <tr>\n",
       "      <th>52</th>\n",
       "      <td>headlines</td>\n",
       "      <td>text</td>\n",
       "    </tr>\n",
       "  </tbody>\n",
       "</table>\n",
       "</div>"
      ],
      "text/plain": [
       "    headlines  text\n",
       "52  headlines  text"
      ]
     },
     "execution_count": 13,
     "metadata": {},
     "output_type": "execute_result"
    }
   ],
   "source": [
    "data[data[\"text\"].str.len()<100]"
   ]
  },
  {
   "cell_type": "code",
   "execution_count": 14,
   "id": "3437d736",
   "metadata": {},
   "outputs": [
    {
     "data": {
      "text/html": [
       "<div>\n",
       "<style scoped>\n",
       "    .dataframe tbody tr th:only-of-type {\n",
       "        vertical-align: middle;\n",
       "    }\n",
       "\n",
       "    .dataframe tbody tr th {\n",
       "        vertical-align: top;\n",
       "    }\n",
       "\n",
       "    .dataframe thead th {\n",
       "        text-align: right;\n",
       "    }\n",
       "</style>\n",
       "<table border=\"1\" class=\"dataframe\">\n",
       "  <thead>\n",
       "    <tr style=\"text-align: right;\">\n",
       "      <th></th>\n",
       "      <th>headlines</th>\n",
       "      <th>text</th>\n",
       "    </tr>\n",
       "  </thead>\n",
       "  <tbody>\n",
       "    <tr>\n",
       "      <th>52</th>\n",
       "      <td>headlines</td>\n",
       "      <td>text</td>\n",
       "    </tr>\n",
       "    <tr>\n",
       "      <th>4281</th>\n",
       "      <td>No more skipping breakfast with '3 Minute Brea...</td>\n",
       "      <td>Backed by the observation that breakfast is th...</td>\n",
       "    </tr>\n",
       "    <tr>\n",
       "      <th>22479</th>\n",
       "      <td>Vodafone RED Postpaid offers Amazon Prime at n...</td>\n",
       "      <td>Make the #SmartestMove &amp; get 1-year of Amazon ...</td>\n",
       "    </tr>\n",
       "  </tbody>\n",
       "</table>\n",
       "</div>"
      ],
      "text/plain": [
       "                                               headlines  \\\n",
       "52                                             headlines   \n",
       "4281   No more skipping breakfast with '3 Minute Brea...   \n",
       "22479  Vodafone RED Postpaid offers Amazon Prime at n...   \n",
       "\n",
       "                                                    text  \n",
       "52                                                  text  \n",
       "4281   Backed by the observation that breakfast is th...  \n",
       "22479  Make the #SmartestMove & get 1-year of Amazon ...  "
      ]
     },
     "execution_count": 14,
     "metadata": {},
     "output_type": "execute_result"
    }
   ],
   "source": [
    "data[data[\"text\"].str.len()<250]"
   ]
  },
  {
   "cell_type": "markdown",
   "id": "9b9ae2b2",
   "metadata": {},
   "source": [
    "data[data[\"text\"].str.len()<100]로 입력하니까 각 칸 안에 있는 문자 하나하나의 길이로 따지는 것 같다.    \n",
    "우선은 52번 컬럼을 지워야겠다."
   ]
  },
  {
   "cell_type": "code",
   "execution_count": 15,
   "id": "18ecb6df",
   "metadata": {},
   "outputs": [],
   "source": [
    "data=data.drop(52)"
   ]
  },
  {
   "cell_type": "code",
   "execution_count": 16,
   "id": "26f22c72",
   "metadata": {},
   "outputs": [
    {
     "name": "stdout",
     "output_type": "stream",
     "text": [
      "텍스트의 최소 길이 : 38\n",
      "텍스트의 최대 길이 : 91\n",
      "텍스트의 평균 길이 : 58.23871735174209\n",
      "텍스트의 길이 분산 : 2.3772734629468455\n",
      "헤드라인의 최소 길이 : 3\n",
      "헤드라인의 최대 길이 : 18\n",
      "헤드라인의 평균 길이 : 9.5537469880743\n",
      "헤드라인의 길이 분산 : 1.457642915029255\n"
     ]
    },
    {
     "data": {
      "image/png": "[encoded data removed]",
      "text/plain": [
       "<Figure size 432x288 with 2 Axes>"
      ]
     },
     "metadata": {
      "needs_background": "light"
     },
     "output_type": "display_data"
    },
    {
     "data": {
      "image/png": "[encoded data removed]",
      "text/plain": [
       "<Figure size 432x288 with 1 Axes>"
      ]
     },
     "metadata": {
      "needs_background": "light"
     },
     "output_type": "display_data"
    },
    {
     "data": {
      "image/png": "[encoded data removed]",
      "text/plain": [
       "<Figure size 432x288 with 1 Axes>"
      ]
     },
     "metadata": {
      "needs_background": "light"
     },
     "output_type": "display_data"
    }
   ],
   "source": [
    "# 길이 분포 확인하기\n",
    "import matplotlib.pyplot as plt\n",
    "\n",
    "text_len = [len(s.split()) for s in data['text']]\n",
    "headlines_len = [len(s.split()) for s in data['headlines']]\n",
    "\n",
    "print('텍스트의 최소 길이 : {}'.format(np.min(text_len)))\n",
    "print('텍스트의 최대 길이 : {}'.format(np.max(text_len)))\n",
    "print('텍스트의 평균 길이 : {}'.format(np.mean(text_len)))\n",
    "print('텍스트의 길이 분산 : {}'.format(np.std(text_len)))\n",
    "print('헤드라인의 최소 길이 : {}'.format(np.min(headlines_len)))\n",
    "print('헤드라인의 최대 길이 : {}'.format(np.max(headlines_len)))\n",
    "print('헤드라인의 평균 길이 : {}'.format(np.mean(headlines_len)))\n",
    "print('헤드라인의 길이 분산 : {}'.format(np.std(headlines_len)))\n",
    "\n",
    "plt.subplot(1,2,1)\n",
    "plt.boxplot(text_len)\n",
    "plt.title('text')\n",
    "plt.subplot(1,2,2)\n",
    "plt.boxplot(headlines_len)\n",
    "plt.title('headlines')\n",
    "plt.tight_layout()\n",
    "plt.show()\n",
    "\n",
    "plt.title('text')\n",
    "plt.hist(text_len, bins = 40)\n",
    "plt.xlabel('length of samples')\n",
    "plt.ylabel('number of samples')\n",
    "plt.show()\n",
    "\n",
    "plt.title('headlines')\n",
    "plt.hist(headlines_len, bins = 40)\n",
    "plt.xlabel('length of samples')\n",
    "plt.ylabel('number of samples')\n",
    "plt.show()"
   ]
  },
  {
   "cell_type": "markdown",
   "id": "91a717b5",
   "metadata": {},
   "source": [
    "길이 1짜리 데이터가 모두 사라졌다.   \n",
    "52번 컬럼이 길이 1짜리 데이터가 맞았다."
   ]
  },
  {
   "cell_type": "code",
   "execution_count": 17,
   "id": "1f37492d",
   "metadata": {},
   "outputs": [],
   "source": [
    "#샘플 최대 길이 설정\n",
    "text_max_len = 60\n",
    "headlines_max_len = 12"
   ]
  },
  {
   "cell_type": "code",
   "execution_count": 18,
   "id": "d6135b6d",
   "metadata": {},
   "outputs": [],
   "source": [
    "def below_threshold_len(max_len, nested_list):\n",
    "    cnt = 0\n",
    "    for s in nested_list:\n",
    "        if(len(s.split()) <= max_len):\n",
    "            cnt = cnt + 1\n",
    "    print('전체 샘플 중 길이가 %s 이하인 샘플의 비율: %s'%(max_len, (cnt / len(nested_list))))"
   ]
  },
  {
   "cell_type": "code",
   "execution_count": 19,
   "id": "f4e8591e",
   "metadata": {},
   "outputs": [
    {
     "name": "stdout",
     "output_type": "stream",
     "text": [
      "전체 샘플 중 길이가 60 이하인 샘플의 비율: 0.9974481237100824\n",
      "전체 샘플 중 길이가 12 이하인 샘플의 비율: 0.976819609796765\n"
     ]
    }
   ],
   "source": [
    "#샘플 포함 비율 확인하기\n",
    "below_threshold_len(text_max_len, data['text'])\n",
    "below_threshold_len(headlines_max_len,  data['headlines'])"
   ]
  },
  {
   "cell_type": "code",
   "execution_count": 20,
   "id": "6d2b3739",
   "metadata": {},
   "outputs": [
    {
     "name": "stdout",
     "output_type": "stream",
     "text": [
      "전체 샘플수 : 95837\n"
     ]
    }
   ],
   "source": [
    "#최대 길이보다 길면 제외\n",
    "data = data[data['text'].apply(lambda x: len(x.split()) <= text_max_len)]\n",
    "data = data[data['headlines'].apply(lambda x: len(x.split()) <= headlines_max_len)]\n",
    "print('전체 샘플수 :', (len(data)))"
   ]
  },
  {
   "cell_type": "markdown",
   "id": "91bb4c35",
   "metadata": {},
   "source": [
    "### 6) 시작, 종료 토큰 추가하기"
   ]
  },
  {
   "cell_type": "code",
   "execution_count": 21,
   "id": "38ba26ae",
   "metadata": {},
   "outputs": [
    {
     "data": {
      "text/html": [
       "<div>\n",
       "<style scoped>\n",
       "    .dataframe tbody tr th:only-of-type {\n",
       "        vertical-align: middle;\n",
       "    }\n",
       "\n",
       "    .dataframe tbody tr th {\n",
       "        vertical-align: top;\n",
       "    }\n",
       "\n",
       "    .dataframe thead th {\n",
       "        text-align: right;\n",
       "    }\n",
       "</style>\n",
       "<table border=\"1\" class=\"dataframe\">\n",
       "  <thead>\n",
       "    <tr style=\"text-align: right;\">\n",
       "      <th></th>\n",
       "      <th>headlines</th>\n",
       "      <th>text</th>\n",
       "      <th>decoder_input</th>\n",
       "      <th>decoder_target</th>\n",
       "    </tr>\n",
       "  </thead>\n",
       "  <tbody>\n",
       "    <tr>\n",
       "      <th>1</th>\n",
       "      <td>Delhi techie wins free food from Swiggy for on...</td>\n",
       "      <td>Kunal Shah's credit card bill payment platform...</td>\n",
       "      <td>sostoken Delhi techie wins free food from Swig...</td>\n",
       "      <td>Delhi techie wins free food from Swiggy for on...</td>\n",
       "    </tr>\n",
       "    <tr>\n",
       "      <th>2</th>\n",
       "      <td>New Zealand end Rohit Sharma-led India's 12-ma...</td>\n",
       "      <td>New Zealand defeated India by 8 wickets in the...</td>\n",
       "      <td>sostoken New Zealand end Rohit Sharma-led Indi...</td>\n",
       "      <td>New Zealand end Rohit Sharma-led India's 12-ma...</td>\n",
       "    </tr>\n",
       "    <tr>\n",
       "      <th>3</th>\n",
       "      <td>Aegon life iTerm insurance plan helps customer...</td>\n",
       "      <td>With Aegon Life iTerm Insurance plan, customer...</td>\n",
       "      <td>sostoken Aegon life iTerm insurance plan helps...</td>\n",
       "      <td>Aegon life iTerm insurance plan helps customer...</td>\n",
       "    </tr>\n",
       "    <tr>\n",
       "      <th>5</th>\n",
       "      <td>Rahat Fateh Ali Khan denies getting notice for...</td>\n",
       "      <td>Pakistani singer Rahat Fateh Ali Khan has deni...</td>\n",
       "      <td>sostoken Rahat Fateh Ali Khan denies getting n...</td>\n",
       "      <td>Rahat Fateh Ali Khan denies getting notice for...</td>\n",
       "    </tr>\n",
       "    <tr>\n",
       "      <th>7</th>\n",
       "      <td>Govt directs Alok Verma to join work 1 day bef...</td>\n",
       "      <td>Weeks after ex-CBI Director Alok Verma told th...</td>\n",
       "      <td>sostoken Govt directs Alok Verma to join work ...</td>\n",
       "      <td>Govt directs Alok Verma to join work 1 day bef...</td>\n",
       "    </tr>\n",
       "  </tbody>\n",
       "</table>\n",
       "</div>"
      ],
      "text/plain": [
       "                                           headlines  \\\n",
       "1  Delhi techie wins free food from Swiggy for on...   \n",
       "2  New Zealand end Rohit Sharma-led India's 12-ma...   \n",
       "3  Aegon life iTerm insurance plan helps customer...   \n",
       "5  Rahat Fateh Ali Khan denies getting notice for...   \n",
       "7  Govt directs Alok Verma to join work 1 day bef...   \n",
       "\n",
       "                                                text  \\\n",
       "1  Kunal Shah's credit card bill payment platform...   \n",
       "2  New Zealand defeated India by 8 wickets in the...   \n",
       "3  With Aegon Life iTerm Insurance plan, customer...   \n",
       "5  Pakistani singer Rahat Fateh Ali Khan has deni...   \n",
       "7  Weeks after ex-CBI Director Alok Verma told th...   \n",
       "\n",
       "                                       decoder_input  \\\n",
       "1  sostoken Delhi techie wins free food from Swig...   \n",
       "2  sostoken New Zealand end Rohit Sharma-led Indi...   \n",
       "3  sostoken Aegon life iTerm insurance plan helps...   \n",
       "5  sostoken Rahat Fateh Ali Khan denies getting n...   \n",
       "7  sostoken Govt directs Alok Verma to join work ...   \n",
       "\n",
       "                                      decoder_target  \n",
       "1  Delhi techie wins free food from Swiggy for on...  \n",
       "2  New Zealand end Rohit Sharma-led India's 12-ma...  \n",
       "3  Aegon life iTerm insurance plan helps customer...  \n",
       "5  Rahat Fateh Ali Khan denies getting notice for...  \n",
       "7  Govt directs Alok Verma to join work 1 day bef...  "
      ]
     },
     "execution_count": 21,
     "metadata": {},
     "output_type": "execute_result"
    }
   ],
   "source": [
    "# 요약 데이터에는 시작 토큰과 종료 토큰을 추가한다.\n",
    "data['decoder_input'] = data['headlines'].apply(lambda x : 'sostoken '+ x)\n",
    "data['decoder_target'] = data['headlines'].apply(lambda x : x + ' eostoken')\n",
    "data.head()"
   ]
  },
  {
   "cell_type": "code",
   "execution_count": 22,
   "id": "e1c61996",
   "metadata": {},
   "outputs": [],
   "source": [
    "#인코더의 이볅, 디코더의 입력과 레이블 다시 numpy로 저장해주기\n",
    "encoder_input = np.array(data['text']) # 인코더의 입력\n",
    "decoder_input = np.array(data['decoder_input']) # 디코더의 입력\n",
    "decoder_target = np.array(data['decoder_target']) # 디코더의 레이블"
   ]
  },
  {
   "cell_type": "markdown",
   "id": "816fd124",
   "metadata": {},
   "source": [
    "### 7) 데이터셋 분리하기"
   ]
  },
  {
   "cell_type": "code",
   "execution_count": 23,
   "id": "21f3777f",
   "metadata": {},
   "outputs": [
    {
     "name": "stdout",
     "output_type": "stream",
     "text": [
      "테스트 데이터의 수 : 19167\n"
     ]
    }
   ],
   "source": [
    "indices = np.arange(encoder_input.shape[0])\n",
    "np.random.shuffle(indices)\n",
    "\n",
    "encoder_input = encoder_input[indices]\n",
    "decoder_input = decoder_input[indices]\n",
    "decoder_target = decoder_target[indices]\n",
    "\n",
    "n_of_val = int(len(encoder_input)*0.2)\n",
    "print('테스트 데이터의 수 :', n_of_val)"
   ]
  },
  {
   "cell_type": "code",
   "execution_count": 24,
   "id": "0291414e",
   "metadata": {},
   "outputs": [
    {
     "name": "stdout",
     "output_type": "stream",
     "text": [
      "훈련 데이터의 개수 : 76670\n",
      "훈련 레이블의 개수 : 76670\n",
      "테스트 데이터의 개수 : 19167\n",
      "테스트 레이블의 개수 : 19167\n"
     ]
    }
   ],
   "source": [
    "encoder_input_train = encoder_input[:-n_of_val]\n",
    "decoder_input_train = decoder_input[:-n_of_val]\n",
    "decoder_target_train = decoder_target[:-n_of_val]\n",
    "\n",
    "encoder_input_test = encoder_input[-n_of_val:]\n",
    "decoder_input_test = decoder_input[-n_of_val:]\n",
    "decoder_target_test = decoder_target[-n_of_val:]\n",
    "\n",
    "print('훈련 데이터의 개수 :', len(encoder_input_train))\n",
    "print('훈련 레이블의 개수 :', len(decoder_input_train))\n",
    "print('테스트 데이터의 개수 :', len(encoder_input_test))\n",
    "print('테스트 레이블의 개수 :', len(decoder_input_test))"
   ]
  },
  {
   "cell_type": "markdown",
   "id": "8f61fcfd",
   "metadata": {},
   "source": [
    "### 8) 단어집합 만들기 & 정수 인코딩"
   ]
  },
  {
   "cell_type": "markdown",
   "id": "ee2b9818",
   "metadata": {},
   "source": [
    "단어집합 = 각 단어에 고유한 정수 맵핑하는 작업"
   ]
  },
  {
   "cell_type": "markdown",
   "id": "5fbee9fb",
   "metadata": {},
   "source": [
    "인코더 데이터에 대한 단어집합 제작 및 정수 인코딩 수행"
   ]
  },
  {
   "cell_type": "code",
   "execution_count": 25,
   "id": "4010b0f4",
   "metadata": {},
   "outputs": [],
   "source": [
    "src_tokenizer = Tokenizer() # 토크나이저 정의\n",
    "src_tokenizer.fit_on_texts(encoder_input_train) # 입력된 데이터로부터 단어 집합 생성"
   ]
  },
  {
   "cell_type": "code",
   "execution_count": 26,
   "id": "7bfed648",
   "metadata": {},
   "outputs": [
    {
     "name": "stdout",
     "output_type": "stream",
     "text": [
      "단어 집합(vocabulary)의 크기 : 90291\n",
      "등장 빈도가 7번 이하인 희귀 단어의 수: 67564\n",
      "단어 집합에서 희귀 단어를 제외시킬 경우의 단어 집합의 크기 22727\n",
      "단어 집합에서 희귀 단어의 비율: 74.82916348251763\n",
      "전체 등장 빈도에서 희귀 단어 등장 빈도 비율: 3.0495176288434283\n"
     ]
    }
   ],
   "source": [
    "threshold = 8 #등장횟수 8회 미만인 단어 제외\n",
    "total_cnt = len(src_tokenizer.word_index) # 단어의 수\n",
    "rare_cnt = 0 # 등장 빈도수가 threshold보다 작은 단어의 개수를 카운트\n",
    "total_freq = 0 # 훈련 데이터의 전체 단어 빈도수 총 합\n",
    "rare_freq = 0 # 등장 빈도수가 threshold보다 작은 단어의 등장 빈도수의 총 합\n",
    "\n",
    "# 단어와 빈도수의 쌍(pair)을 key와 value로 받는다.\n",
    "for key, value in src_tokenizer.word_counts.items():\n",
    "    total_freq = total_freq + value\n",
    "\n",
    "    # 단어의 등장 빈도수가 threshold보다 작으면\n",
    "    if(value < threshold):\n",
    "        rare_cnt = rare_cnt + 1\n",
    "        rare_freq = rare_freq + value\n",
    "\n",
    "print('단어 집합(vocabulary)의 크기 :', total_cnt)\n",
    "print('등장 빈도가 %s번 이하인 희귀 단어의 수: %s'%(threshold - 1, rare_cnt))\n",
    "print('단어 집합에서 희귀 단어를 제외시킬 경우의 단어 집합의 크기 %s'%(total_cnt - rare_cnt))\n",
    "print(\"단어 집합에서 희귀 단어의 비율:\", (rare_cnt / total_cnt)*100)\n",
    "print(\"전체 등장 빈도에서 희귀 단어 등장 빈도 비율:\", (rare_freq / total_freq)*100)"
   ]
  },
  {
   "cell_type": "code",
   "execution_count": 27,
   "id": "c2706f5b",
   "metadata": {},
   "outputs": [],
   "source": [
    "#단어 집합 크기 설정(등장횟수 임계치에 걸린 단어 제외한 나머지 단어의 크기에서 계산)\n",
    "src_vocab = 22000\n",
    "src_tokenizer = Tokenizer(num_words=src_vocab) # 단어 집합의 크기를 8,000으로 제한\n",
    "src_tokenizer.fit_on_texts(encoder_input_train) # 단어 집합 재생성"
   ]
  },
  {
   "cell_type": "code",
   "execution_count": 28,
   "id": "b763c4b9",
   "metadata": {},
   "outputs": [
    {
     "name": "stdout",
     "output_type": "stream",
     "text": [
      "[[1670, 312, 343, 5295, 12017, 188, 3908, 8, 66, 391, 894, 105, 251, 610, 67, 58, 22, 3, 80, 131, 1841, 113, 2, 476, 506, 2250, 405, 1, 867, 11426, 12, 281, 774, 206, 133, 3908, 1310, 35, 48, 1517, 3309, 39, 544, 11, 12017, 2460, 11174, 16578, 545, 8, 13440, 2565, 672, 4, 3908], [15345, 102, 14332, 3859, 2410, 8, 1321, 1, 888, 163, 64, 16, 3, 1300, 11, 1, 512, 93, 1, 314, 7, 61, 25, 346, 2, 24, 693, 11, 13, 38, 135, 1, 978, 175, 52, 90, 14, 27, 810, 2, 229, 57, 2733, 112, 9, 3, 808, 15, 3, 478, 693, 236, 14, 627, 26, 3190, 4, 1, 73, 49], [150, 4341, 1479, 23, 25, 339, 3, 5702, 2368, 4, 3, 540, 9, 1, 272, 59, 14792, 13053, 14333, 14793, 11723, 130, 13, 585, 8620, 3217, 4857, 6, 5, 1979, 203, 187, 21, 12, 3647, 24, 1742, 2, 25, 1067, 16, 221, 5378, 6, 2010, 1104, 152, 4341, 1, 540, 13, 1545, 14792, 13053, 14333, 14793, 11723]]\n"
     ]
    }
   ],
   "source": [
    "# 텍스트 시퀀스를 정수 시퀀스로 변환\n",
    "encoder_input_train = src_tokenizer.texts_to_sequences(encoder_input_train) \n",
    "encoder_input_test = src_tokenizer.texts_to_sequences(encoder_input_test)\n",
    "\n",
    "# 잘 진행되었는지 샘플 출력\n",
    "print(encoder_input_train[:3])"
   ]
  },
  {
   "cell_type": "markdown",
   "id": "2ff48ea1",
   "metadata": {},
   "source": [
    "디코더 데이터에 대한 단어집합 제작 및 정수 인코딩 수행"
   ]
  },
  {
   "cell_type": "code",
   "execution_count": 29,
   "id": "89e87208",
   "metadata": {},
   "outputs": [],
   "source": [
    "tar_tokenizer = Tokenizer()\n",
    "tar_tokenizer.fit_on_texts(decoder_input_train)"
   ]
  },
  {
   "cell_type": "code",
   "execution_count": 30,
   "id": "222d2b6a",
   "metadata": {},
   "outputs": [
    {
     "name": "stdout",
     "output_type": "stream",
     "text": [
      "단어 집합(vocabulary)의 크기 : 40514\n",
      "등장 빈도가 4번 이하인 희귀 단어의 수: 27942\n",
      "단어 집합에서 희귀 단어를 제외시킬 경우의 단어 집합의 크기 12572\n",
      "단어 집합에서 희귀 단어의 비율: 68.96875154267661\n",
      "전체 등장 빈도에서 희귀 단어 등장 빈도 비율: 5.472062968468364\n"
     ]
    }
   ],
   "source": [
    "threshold = 5 #등장회수 5회미만인 단어 제외\n",
    "total_cnt = len(tar_tokenizer.word_index) # 단어의 수\n",
    "rare_cnt = 0 # 등장 빈도수가 threshold보다 작은 단어의 개수를 카운트\n",
    "total_freq = 0 # 훈련 데이터의 전체 단어 빈도수 총 합\n",
    "rare_freq = 0 # 등장 빈도수가 threshold보다 작은 단어의 등장 빈도수의 총 합\n",
    "\n",
    "# 단어와 빈도수의 쌍(pair)을 key와 value로 받는다.\n",
    "for key, value in tar_tokenizer.word_counts.items():\n",
    "    total_freq = total_freq + value\n",
    "\n",
    "    # 단어의 등장 빈도수가 threshold보다 작으면\n",
    "    if(value < threshold):\n",
    "        rare_cnt = rare_cnt + 1\n",
    "        rare_freq = rare_freq + value\n",
    "\n",
    "print('단어 집합(vocabulary)의 크기 :', total_cnt)\n",
    "print('등장 빈도가 %s번 이하인 희귀 단어의 수: %s'%(threshold - 1, rare_cnt))\n",
    "print('단어 집합에서 희귀 단어를 제외시킬 경우의 단어 집합의 크기 %s'%(total_cnt - rare_cnt))\n",
    "print(\"단어 집합에서 희귀 단어의 비율:\", (rare_cnt / total_cnt)*100)\n",
    "print(\"전체 등장 빈도에서 희귀 단어 등장 빈도 비율:\", (rare_freq / total_freq)*100)"
   ]
  },
  {
   "cell_type": "code",
   "execution_count": 31,
   "id": "70adcc31",
   "metadata": {},
   "outputs": [
    {
     "name": "stdout",
     "output_type": "stream",
     "text": [
      "input\n",
      "input  [[1, 1104, 315, 3467, 78, 150, 1231, 297, 49, 31], [1, 92, 1290, 122, 5, 887, 1936, 266, 4, 139], [1, 2566, 3, 126, 11, 3873, 4, 8645, 8103, 7605, 11201], [1, 1689, 188, 57, 6761, 32, 3, 151, 7, 300, 251], [1, 15, 556, 3, 453, 13, 569, 3659]]\n",
      "target\n",
      "decoder  [[1104, 315, 3467, 78, 150, 1231, 297, 49, 31, 2], [92, 1290, 122, 5, 887, 1936, 266, 4, 139, 2], [2566, 3, 126, 11, 3873, 4, 8645, 8103, 7605, 11201, 2], [1689, 188, 57, 6761, 32, 3, 151, 7, 300, 251, 2], [15, 556, 3, 453, 13, 569, 3659, 2]]\n"
     ]
    }
   ],
   "source": [
    "tar_vocab = 12000\n",
    "tar_tokenizer = Tokenizer(num_words=tar_vocab) \n",
    "tar_tokenizer.fit_on_texts(decoder_input_train)\n",
    "tar_tokenizer.fit_on_texts(decoder_target_train)\n",
    "\n",
    "# 텍스트 시퀀스를 정수 시퀀스로 변환\n",
    "decoder_input_train = tar_tokenizer.texts_to_sequences(decoder_input_train) \n",
    "decoder_target_train = tar_tokenizer.texts_to_sequences(decoder_target_train)\n",
    "decoder_input_test = tar_tokenizer.texts_to_sequences(decoder_input_test)\n",
    "decoder_target_test = tar_tokenizer.texts_to_sequences(decoder_target_test)\n",
    "\n",
    "# 잘 변환되었는지 확인\n",
    "print('input')\n",
    "print('input ',decoder_input_train[:5])\n",
    "print('target')\n",
    "print('decoder ',decoder_target_train[:5])"
   ]
  },
  {
   "cell_type": "code",
   "execution_count": 32,
   "id": "6928f8cd",
   "metadata": {},
   "outputs": [
    {
     "name": "stdout",
     "output_type": "stream",
     "text": [
      "삭제할 훈련 데이터의 개수 : 0\n",
      "삭제할 테스트 데이터의 개수 : 0\n",
      "훈련 데이터의 개수 : 76670\n",
      "훈련 레이블의 개수 : 76670\n",
      "테스트 데이터의 개수 : 19167\n",
      "테스트 레이블의 개수 : 19167\n"
     ]
    }
   ],
   "source": [
    "#빈 샘플 제거해주기\n",
    "drop_train = [index for index, sentence in enumerate(decoder_input_train) if len(sentence) == 1]\n",
    "drop_test = [index for index, sentence in enumerate(decoder_input_test) if len(sentence) == 1]\n",
    "\n",
    "print('삭제할 훈련 데이터의 개수 :', len(drop_train))\n",
    "print('삭제할 테스트 데이터의 개수 :', len(drop_test))\n",
    "\n",
    "encoder_input_train = [sentence for index, sentence in enumerate(encoder_input_train) if index not in drop_train]\n",
    "decoder_input_train = [sentence for index, sentence in enumerate(decoder_input_train) if index not in drop_train]\n",
    "decoder_target_train = [sentence for index, sentence in enumerate(decoder_target_train) if index not in drop_train]\n",
    "\n",
    "encoder_input_test = [sentence for index, sentence in enumerate(encoder_input_test) if index not in drop_test]\n",
    "decoder_input_test = [sentence for index, sentence in enumerate(decoder_input_test) if index not in drop_test]\n",
    "decoder_target_test = [sentence for index, sentence in enumerate(decoder_target_test) if index not in drop_test]\n",
    "\n",
    "print('훈련 데이터의 개수 :', len(encoder_input_train))\n",
    "print('훈련 레이블의 개수 :', len(decoder_input_train))\n",
    "print('테스트 데이터의 개수 :', len(encoder_input_test))\n",
    "print('테스트 레이블의 개수 :', len(decoder_input_test))"
   ]
  },
  {
   "cell_type": "markdown",
   "id": "a1f77c55",
   "metadata": {},
   "source": [
    "### 9)패딩하기"
   ]
  },
  {
   "cell_type": "code",
   "execution_count": 33,
   "id": "8434a0ba",
   "metadata": {},
   "outputs": [],
   "source": [
    "encoder_input_train = pad_sequences(encoder_input_train, maxlen=text_max_len, padding='post')\n",
    "encoder_input_test = pad_sequences(encoder_input_test, maxlen=text_max_len, padding='post')\n",
    "decoder_input_train = pad_sequences(decoder_input_train, maxlen=headlines_max_len, padding='post')\n",
    "decoder_target_train = pad_sequences(decoder_target_train, maxlen=headlines_max_len, padding='post')\n",
    "decoder_input_test = pad_sequences(decoder_input_test, maxlen=headlines_max_len, padding='post')\n",
    "decoder_target_test = pad_sequences(decoder_target_test, maxlen=headlines_max_len, padding='post')"
   ]
  },
  {
   "cell_type": "markdown",
   "id": "ae030006",
   "metadata": {},
   "source": [
    "# 3. 모델 설계하기"
   ]
  },
  {
   "cell_type": "markdown",
   "id": "ab505aad",
   "metadata": {},
   "source": [
    "### 1) 인코더"
   ]
  },
  {
   "cell_type": "code",
   "execution_count": 34,
   "id": "c051ec3f",
   "metadata": {},
   "outputs": [],
   "source": [
    "from tensorflow.keras.layers import Input, LSTM, Embedding, Dense, Concatenate, TimeDistributed\n",
    "from tensorflow.keras.models import Model\n",
    "from tensorflow.keras.callbacks import EarlyStopping, ModelCheckpoint\n",
    "\n",
    "\n",
    "# 인코더 설계 시작\n",
    "embedding_dim = 128\n",
    "hidden_size = 256\n",
    "\n",
    "# 인코더\n",
    "encoder_inputs = Input(shape=(text_max_len,))\n",
    "\n",
    "# 인코더의 임베딩 층\n",
    "enc_emb = Embedding(src_vocab, embedding_dim)(encoder_inputs)\n",
    "\n",
    "#시간 관계상 먼저 보통 dropout으로 진행\n",
    "# 인코더의 LSTM 1\n",
    "encoder_lstm1 = LSTM(hidden_size, return_sequences=True, return_state=True ,dropout = 0.4)#, recurrent_dropout = 0.4)\n",
    "encoder_output1, state_h1, state_c1 = encoder_lstm1(enc_emb)\n",
    "\n",
    "# 인코더의 LSTM 2\n",
    "encoder_lstm2 = LSTM(hidden_size, return_sequences=True, return_state=True, dropout=0.4)#, recurrent_dropout = 0.4)\n",
    "encoder_output2, state_h2, state_c2 = encoder_lstm2(encoder_output1)\n",
    "\n",
    "# 인코더의 LSTM 3\n",
    "encoder_lstm3 = LSTM(hidden_size, return_state=True, return_sequences=True, dropout=0.4)#, recurrent_dropout = 0.4)\n",
    "encoder_outputs, state_h, state_c= encoder_lstm3(encoder_output2)"
   ]
  },
  {
   "cell_type": "markdown",
   "id": "9b4406de",
   "metadata": {},
   "source": [
    "### 2) 디코더"
   ]
  },
  {
   "cell_type": "code",
   "execution_count": 35,
   "id": "ece1f938",
   "metadata": {},
   "outputs": [
    {
     "name": "stdout",
     "output_type": "stream",
     "text": [
      "WARNING:tensorflow:Layer lstm_3 will not use cuDNN kernels since it doesn't meet the criteria. It will use a generic GPU kernel as fallback when running on GPU.\n"
     ]
    }
   ],
   "source": [
    "# 디코더 설계\n",
    "decoder_inputs = Input(shape=(None,))\n",
    "\n",
    "# 디코더의 임베딩 층\n",
    "dec_emb_layer = Embedding(tar_vocab, embedding_dim)\n",
    "dec_emb = dec_emb_layer(decoder_inputs)\n",
    "\n",
    "# 디코더의 LSTM\n",
    "decoder_lstm = LSTM(hidden_size, return_sequences=True, return_state=True, dropout=0.4, recurrent_dropout=0.2)\n",
    "decoder_outputs, _, _ = decoder_lstm(dec_emb, initial_state=[state_h, state_c])"
   ]
  },
  {
   "cell_type": "markdown",
   "id": "607d25f3",
   "metadata": {},
   "source": [
    "### 3) 디코더 출력층 설계"
   ]
  },
  {
   "cell_type": "code",
   "execution_count": 36,
   "id": "3b9ae37f",
   "metadata": {},
   "outputs": [
    {
     "name": "stdout",
     "output_type": "stream",
     "text": [
      "Model: \"model\"\n",
      "__________________________________________________________________________________________________\n",
      "Layer (type)                    Output Shape         Param #     Connected to                     \n",
      "==================================================================================================\n",
      "input_1 (InputLayer)            [(None, 60)]         0                                            \n",
      "__________________________________________________________________________________________________\n",
      "embedding (Embedding)           (None, 60, 128)      2816000     input_1[0][0]                    \n",
      "__________________________________________________________________________________________________\n",
      "lstm (LSTM)                     [(None, 60, 256), (N 394240      embedding[0][0]                  \n",
      "__________________________________________________________________________________________________\n",
      "input_2 (InputLayer)            [(None, None)]       0                                            \n",
      "__________________________________________________________________________________________________\n",
      "lstm_1 (LSTM)                   [(None, 60, 256), (N 525312      lstm[0][0]                       \n",
      "__________________________________________________________________________________________________\n",
      "embedding_1 (Embedding)         (None, None, 128)    1536000     input_2[0][0]                    \n",
      "__________________________________________________________________________________________________\n",
      "lstm_2 (LSTM)                   [(None, 60, 256), (N 525312      lstm_1[0][0]                     \n",
      "__________________________________________________________________________________________________\n",
      "lstm_3 (LSTM)                   [(None, None, 256),  394240      embedding_1[0][0]                \n",
      "                                                                 lstm_2[0][1]                     \n",
      "                                                                 lstm_2[0][2]                     \n",
      "__________________________________________________________________________________________________\n",
      "dense (Dense)                   (None, None, 12000)  3084000     lstm_3[0][0]                     \n",
      "==================================================================================================\n",
      "Total params: 9,275,104\n",
      "Trainable params: 9,275,104\n",
      "Non-trainable params: 0\n",
      "__________________________________________________________________________________________________\n"
     ]
    }
   ],
   "source": [
    "# 디코더의 출력층\n",
    "decoder_softmax_layer = Dense(tar_vocab, activation='softmax')\n",
    "decoder_softmax_outputs = decoder_softmax_layer(decoder_outputs) \n",
    "\n",
    "# 모델 정의\n",
    "model = Model([encoder_inputs, decoder_inputs], decoder_softmax_outputs)\n",
    "model.summary()"
   ]
  },
  {
   "cell_type": "markdown",
   "id": "bf35c53a",
   "metadata": {},
   "source": [
    "### 4) 어텐션 메커니즘"
   ]
  },
  {
   "cell_type": "code",
   "execution_count": 37,
   "id": "5a2378c6",
   "metadata": {},
   "outputs": [
    {
     "name": "stdout",
     "output_type": "stream",
     "text": [
      "Model: \"model_1\"\n",
      "__________________________________________________________________________________________________\n",
      "Layer (type)                    Output Shape         Param #     Connected to                     \n",
      "==================================================================================================\n",
      "input_1 (InputLayer)            [(None, 60)]         0                                            \n",
      "__________________________________________________________________________________________________\n",
      "embedding (Embedding)           (None, 60, 128)      2816000     input_1[0][0]                    \n",
      "__________________________________________________________________________________________________\n",
      "lstm (LSTM)                     [(None, 60, 256), (N 394240      embedding[0][0]                  \n",
      "__________________________________________________________________________________________________\n",
      "input_2 (InputLayer)            [(None, None)]       0                                            \n",
      "__________________________________________________________________________________________________\n",
      "lstm_1 (LSTM)                   [(None, 60, 256), (N 525312      lstm[0][0]                       \n",
      "__________________________________________________________________________________________________\n",
      "embedding_1 (Embedding)         (None, None, 128)    1536000     input_2[0][0]                    \n",
      "__________________________________________________________________________________________________\n",
      "lstm_2 (LSTM)                   [(None, 60, 256), (N 525312      lstm_1[0][0]                     \n",
      "__________________________________________________________________________________________________\n",
      "lstm_3 (LSTM)                   [(None, None, 256),  394240      embedding_1[0][0]                \n",
      "                                                                 lstm_2[0][1]                     \n",
      "                                                                 lstm_2[0][2]                     \n",
      "__________________________________________________________________________________________________\n",
      "attention_layer (AdditiveAttent (None, None, 256)    256         lstm_3[0][0]                     \n",
      "                                                                 lstm_2[0][0]                     \n",
      "__________________________________________________________________________________________________\n",
      "concat_layer (Concatenate)      (None, None, 512)    0           lstm_3[0][0]                     \n",
      "                                                                 attention_layer[0][0]            \n",
      "__________________________________________________________________________________________________\n",
      "dense_1 (Dense)                 (None, None, 12000)  6156000     concat_layer[0][0]               \n",
      "==================================================================================================\n",
      "Total params: 12,347,360\n",
      "Trainable params: 12,347,360\n",
      "Non-trainable params: 0\n",
      "__________________________________________________________________________________________________\n"
     ]
    }
   ],
   "source": [
    "from tensorflow.keras.layers import AdditiveAttention\n",
    "\n",
    "# 어텐션 층(어텐션 함수)\n",
    "attn_layer = AdditiveAttention(name='attention_layer')\n",
    "\n",
    "# 인코더와 디코더의 모든 time step의 hidden state를 어텐션 층에 전달하고 결과를 리턴\n",
    "attn_out = attn_layer([decoder_outputs, encoder_outputs])\n",
    "\n",
    "\n",
    "# 어텐션의 결과와 디코더의 hidden state들을 연결\n",
    "decoder_concat_input = Concatenate(axis=-1, name='concat_layer')([decoder_outputs, attn_out])\n",
    "\n",
    "# 디코더의 출력층\n",
    "decoder_softmax_layer = Dense(tar_vocab, activation='softmax')\n",
    "decoder_softmax_outputs = decoder_softmax_layer(decoder_concat_input)\n",
    "\n",
    "# 모델 정의\n",
    "model = Model([encoder_inputs, decoder_inputs], decoder_softmax_outputs)\n",
    "model.summary()"
   ]
  },
  {
   "cell_type": "markdown",
   "id": "d862919d",
   "metadata": {},
   "source": [
    "# 4. 모델 훈련하기"
   ]
  },
  {
   "cell_type": "code",
   "execution_count": 38,
   "id": "96571f08",
   "metadata": {},
   "outputs": [
    {
     "name": "stdout",
     "output_type": "stream",
     "text": [
      "Epoch 1/50\n",
      "300/300 [==============================] - 65s 141ms/step - loss: 5.9562 - val_loss: 5.5187\n",
      "Epoch 2/50\n",
      "300/300 [==============================] - 42s 139ms/step - loss: 5.3727 - val_loss: 5.1280\n",
      "Epoch 3/50\n",
      "300/300 [==============================] - 42s 140ms/step - loss: 5.0126 - val_loss: 4.8341\n",
      "Epoch 4/50\n",
      "300/300 [==============================] - 42s 141ms/step - loss: 4.7360 - val_loss: 4.6364\n",
      "Epoch 5/50\n",
      "300/300 [==============================] - 42s 142ms/step - loss: 4.5130 - val_loss: 4.4863\n",
      "Epoch 6/50\n",
      "300/300 [==============================] - 43s 142ms/step - loss: 4.3315 - val_loss: 4.3698\n",
      "Epoch 7/50\n",
      "300/300 [==============================] - 43s 142ms/step - loss: 4.1770 - val_loss: 4.2658\n",
      "Epoch 8/50\n",
      "300/300 [==============================] - 43s 142ms/step - loss: 4.0411 - val_loss: 4.1816\n",
      "Epoch 9/50\n",
      "300/300 [==============================] - 43s 143ms/step - loss: 3.9219 - val_loss: 4.1169\n",
      "Epoch 10/50\n",
      "300/300 [==============================] - 43s 143ms/step - loss: 3.8170 - val_loss: 4.0657\n",
      "Epoch 11/50\n",
      "300/300 [==============================] - 43s 143ms/step - loss: 3.7217 - val_loss: 4.0145\n",
      "Epoch 12/50\n",
      "300/300 [==============================] - 43s 143ms/step - loss: 3.6371 - val_loss: 3.9922\n",
      "Epoch 13/50\n",
      "300/300 [==============================] - 43s 143ms/step - loss: 3.5579 - val_loss: 3.9525\n",
      "Epoch 14/50\n",
      "300/300 [==============================] - 43s 143ms/step - loss: 3.4853 - val_loss: 3.9353\n",
      "Epoch 15/50\n",
      "300/300 [==============================] - 43s 143ms/step - loss: 3.4202 - val_loss: 3.9110\n",
      "Epoch 16/50\n",
      "300/300 [==============================] - 43s 143ms/step - loss: 3.3600 - val_loss: 3.8918\n",
      "Epoch 17/50\n",
      "300/300 [==============================] - 43s 143ms/step - loss: 3.3056 - val_loss: 3.8758\n",
      "Epoch 18/50\n",
      "300/300 [==============================] - 43s 143ms/step - loss: 3.2500 - val_loss: 3.8632\n",
      "Epoch 19/50\n",
      "300/300 [==============================] - 43s 143ms/step - loss: 3.1994 - val_loss: 3.8507\n",
      "Epoch 20/50\n",
      "300/300 [==============================] - 43s 144ms/step - loss: 3.1508 - val_loss: 3.8476\n",
      "Epoch 21/50\n",
      "300/300 [==============================] - 43s 143ms/step - loss: 3.1075 - val_loss: 3.8380\n",
      "Epoch 22/50\n",
      "300/300 [==============================] - 43s 143ms/step - loss: 3.0685 - val_loss: 3.8321\n",
      "Epoch 23/50\n",
      "300/300 [==============================] - 43s 143ms/step - loss: 3.0264 - val_loss: 3.8213\n",
      "Epoch 24/50\n",
      "300/300 [==============================] - 43s 143ms/step - loss: 2.9858 - val_loss: 3.8247\n",
      "Epoch 25/50\n",
      "300/300 [==============================] - 43s 144ms/step - loss: 2.9524 - val_loss: 3.8210\n",
      "Epoch 26/50\n",
      "300/300 [==============================] - 43s 143ms/step - loss: 2.9135 - val_loss: 3.8144\n",
      "Epoch 27/50\n",
      "300/300 [==============================] - 43s 144ms/step - loss: 2.8818 - val_loss: 3.8121\n",
      "Epoch 28/50\n",
      "300/300 [==============================] - 43s 143ms/step - loss: 2.8546 - val_loss: 3.8114\n",
      "Epoch 29/50\n",
      "300/300 [==============================] - 43s 143ms/step - loss: 2.8273 - val_loss: 3.8104\n",
      "Epoch 30/50\n",
      "300/300 [==============================] - 43s 143ms/step - loss: 2.7995 - val_loss: 3.8106\n",
      "Epoch 31/50\n",
      "300/300 [==============================] - 43s 143ms/step - loss: 2.7711 - val_loss: 3.8097\n",
      "Epoch 32/50\n",
      "300/300 [==============================] - 43s 143ms/step - loss: 2.7441 - val_loss: 3.8150\n",
      "Epoch 33/50\n",
      "300/300 [==============================] - 43s 143ms/step - loss: 2.7225 - val_loss: 3.8087\n",
      "Epoch 34/50\n",
      "300/300 [==============================] - 43s 143ms/step - loss: 2.6999 - val_loss: 3.8164\n",
      "Epoch 35/50\n",
      "300/300 [==============================] - 43s 143ms/step - loss: 2.6783 - val_loss: 3.8193\n",
      "Epoch 00035: early stopping\n"
     ]
    }
   ],
   "source": [
    "model.compile(optimizer='rmsprop', loss='sparse_categorical_crossentropy')\n",
    "es = EarlyStopping(monitor='val_loss', patience=2, verbose=1)\n",
    "history = model.fit(x=[encoder_input_train, decoder_input_train], y=decoder_target_train, \\\n",
    "          validation_data=([encoder_input_test, decoder_input_test], decoder_target_test), \\\n",
    "          batch_size=256, callbacks=[es], epochs=50)"
   ]
  },
  {
   "cell_type": "code",
   "execution_count": 39,
   "id": "380ecff0",
   "metadata": {},
   "outputs": [
    {
     "data": {
      "image/png": "[encoded data removed]",
      "text/plain": [
       "<Figure size 432x288 with 1 Axes>"
      ]
     },
     "metadata": {
      "needs_background": "light"
     },
     "output_type": "display_data"
    }
   ],
   "source": [
    "plt.plot(history.history['loss'], label='train')\n",
    "plt.plot(history.history['val_loss'], label='test')\n",
    "plt.legend()\n",
    "plt.show()"
   ]
  },
  {
   "cell_type": "markdown",
   "id": "5a017be1",
   "metadata": {},
   "source": [
    "loss가 줄어들다 전체 50 에포크 중 28번째 이후로 줄지 않아 종료되었다.   \n",
    "dropout = 0.4로 설정하였을 때 결과이다."
   ]
  },
  {
   "cell_type": "markdown",
   "id": "8464fde2",
   "metadata": {},
   "source": [
    "# 5. 인퍼런스 모델 구현하기    "
   ]
  },
  {
   "cell_type": "markdown",
   "id": "6db02459",
   "metadata": {},
   "source": [
    "텍스트 데이터 실제로 복원하기 위해 3개 사전을 미리 정의"
   ]
  },
  {
   "cell_type": "code",
   "execution_count": 40,
   "id": "0c8cac04",
   "metadata": {},
   "outputs": [],
   "source": [
    "src_index_to_word = src_tokenizer.index_word # 원문 단어 집합에서 정수 -> 단어를 얻음\n",
    "tar_word_to_index = tar_tokenizer.word_index # 요약 단어 집합에서 단어 -> 정수를 얻음\n",
    "tar_index_to_word = tar_tokenizer.index_word # 요약 단어 집합에서 정수 -> 단어를 얻음"
   ]
  },
  {
   "cell_type": "markdown",
   "id": "8ca4c640",
   "metadata": {},
   "source": [
    "인퍼런스 위한 모델 설계   \n",
    "인코더와 디코더 모델을 분리해 설계"
   ]
  },
  {
   "cell_type": "code",
   "execution_count": 41,
   "id": "23d72c2b",
   "metadata": {},
   "outputs": [],
   "source": [
    "# 인코더 설계\n",
    "encoder_model = Model(inputs=encoder_inputs, outputs=[encoder_outputs, state_h, state_c])\n",
    "\n",
    "# 이전 시점의 상태들을 저장하는 텐서\n",
    "decoder_state_input_h = Input(shape=(hidden_size,))\n",
    "decoder_state_input_c = Input(shape=(hidden_size,))\n",
    "\n",
    "dec_emb2 = dec_emb_layer(decoder_inputs)\n",
    "\n",
    "# 문장의 다음 단어를 예측하기 위해서 초기 상태(initial_state)를 이전 시점의 상태로 사용. 이는 뒤의 함수 decode_sequence()에 구현\n",
    "# 훈련 과정에서와 달리 LSTM의 리턴하는 은닉 상태와 셀 상태인 state_h와 state_c를 버리지 않음.\n",
    "decoder_outputs2, state_h2, state_c2 = decoder_lstm(dec_emb2, initial_state=[decoder_state_input_h, decoder_state_input_c])"
   ]
  },
  {
   "cell_type": "markdown",
   "id": "4925f994",
   "metadata": {},
   "source": [
    "어텐션 메커니즘 사용하는 출력층 설계"
   ]
  },
  {
   "cell_type": "code",
   "execution_count": 42,
   "id": "1219167b",
   "metadata": {},
   "outputs": [],
   "source": [
    "# 어텐션 함수\n",
    "decoder_hidden_state_input = Input(shape=(text_max_len, hidden_size))\n",
    "attn_out_inf = attn_layer([decoder_outputs2, decoder_hidden_state_input])\n",
    "decoder_inf_concat = Concatenate(axis=-1, name='concat')([decoder_outputs2, attn_out_inf])\n",
    "\n",
    "# 디코더의 출력층\n",
    "decoder_outputs2 = decoder_softmax_layer(decoder_inf_concat) \n",
    "\n",
    "# 최종 디코더 모델\n",
    "decoder_model = Model(\n",
    "    [decoder_inputs] + [decoder_hidden_state_input,decoder_state_input_h, decoder_state_input_c],\n",
    "    [decoder_outputs2] + [state_h2, state_c2])"
   ]
  },
  {
   "cell_type": "markdown",
   "id": "93e7cec6",
   "metadata": {},
   "source": [
    "인퍼런스 단계에서 단어 시퀀스를 완성하는 함수 만들기"
   ]
  },
  {
   "cell_type": "code",
   "execution_count": 43,
   "id": "bbf35878",
   "metadata": {},
   "outputs": [],
   "source": [
    "def decode_sequence(input_seq):\n",
    "    # 입력으로부터 인코더의 상태를 얻음\n",
    "    e_out, e_h, e_c = encoder_model.predict(input_seq)\n",
    "\n",
    "     # <SOS>에 해당하는 토큰 생성\n",
    "    target_seq = np.zeros((1,1))\n",
    "    target_seq[0, 0] = tar_word_to_index['sostoken']\n",
    "\n",
    "    stop_condition = False\n",
    "    decoded_sentence = ''\n",
    "    while not stop_condition: # stop_condition이 True가 될 때까지 루프 반복\n",
    "\n",
    "        output_tokens, h, c = decoder_model.predict([target_seq] + [e_out, e_h, e_c])\n",
    "        sampled_token_index = np.argmax(output_tokens[0, -1, :])\n",
    "        sampled_token = tar_index_to_word[sampled_token_index]\n",
    "\n",
    "        if (sampled_token!='eostoken'):\n",
    "            decoded_sentence += ' '+sampled_token\n",
    "\n",
    "        #  <eos>에 도달하거나 최대 길이를 넘으면 중단.\n",
    "        if (sampled_token == 'eostoken'  or len(decoded_sentence.split()) >= (headlines_max_len-1)):\n",
    "            stop_condition = True\n",
    "\n",
    "        # 길이가 1인 타겟 시퀀스를 업데이트\n",
    "        target_seq = np.zeros((1,1))\n",
    "        target_seq[0, 0] = sampled_token_index\n",
    "\n",
    "        # 상태를 업데이트 합니다.\n",
    "        e_h, e_c = h, c\n",
    "\n",
    "    return decoded_sentence"
   ]
  },
  {
   "cell_type": "markdown",
   "id": "3459264d",
   "metadata": {},
   "source": [
    "# 6. 모델 테스트하기"
   ]
  },
  {
   "cell_type": "code",
   "execution_count": 44,
   "id": "b3024d1e",
   "metadata": {},
   "outputs": [],
   "source": [
    "# 원문의 정수 시퀀스를 텍스트 시퀀스로 변환\n",
    "def seq2text(input_seq):\n",
    "    temp=''\n",
    "    for i in input_seq:\n",
    "        if (i!=0):\n",
    "            temp = temp + src_index_to_word[i]+' '\n",
    "    return temp\n",
    "\n",
    "# 요약문의 정수 시퀀스를 텍스트 시퀀스로 변환\n",
    "def seq2head(input_seq):\n",
    "    temp=''\n",
    "    for i in input_seq:\n",
    "        if ((i!=0 and i!=tar_word_to_index['sostoken']) and i!=tar_word_to_index['eostoken']):\n",
    "            temp = temp + tar_index_to_word[i] + ' '\n",
    "    return temp"
   ]
  },
  {
   "cell_type": "code",
   "execution_count": 45,
   "id": "1acd0850",
   "metadata": {},
   "outputs": [
    {
     "name": "stdout",
     "output_type": "stream",
     "text": [
      "원문 : who played the role of shah rukh khan's friend in 'zero' said if shah rukh khan or salman khan are taking any risk people are like they want to watch them in the same pattern then we keep on complaining that they work in similar kind of films it's kind of statement added \n",
      "실제 요약 : people still want to see salman srk in same 'zero' actor \n",
      "예측 요약 :  srk has srk on being called me for a srk\n",
      "\n",
      "\n",
      "원문 : us payment processing company has agreed to buy its uk rival for 3 billion over ã¢ââ¹77 200 crore uk's largest payment processing company has agreed to the takeover after parliament members that deal is not a cheap sell off of a british company after the brexit vote the combined group will be renamed and headquartered in us \n",
      "실제 요약 : payments firm to buy rival for ã¢ââ¹77 200 crore \n",
      "예측 요약 :  us to buy us for 2 billion deal to buy costs\n",
      "\n",
      "\n",
      "원문 : stand in captain rohit sharma moved up two places to the fifth spot in the icc rankings for odi batsmen after scoring his third odi double ton in the second odi against sri lanka shikhar dhawan who was named man of the series gained one slot to reach the 14th position after aggregating 168 runs in the sri lanka series \n",
      "실제 요약 : rohit moves up to no 5 in odi batsmen rankings \n",
      "예측 요약 :  rohit sharma becomes 2nd batsman to score ton in odis\n",
      "\n",
      "\n",
      "원문 : tokyo aquarium said on thursday it has resumed partial operations after 1 235 of the 1 308 fish in its largest tank had died most likely because of a lack of oxygen however the aquarium has suspended guided tours and underwater performances in the tank for the time being it has said that it will gradually add more fish nn \n",
      "실제 요약 : over 1000 fish die at tokyo due to of \n",
      "예측 요약 :  airbus recalls 37 000 feet over oil sea in indonesia\n",
      "\n",
      "\n",
      "원문 : batsman nicholas who recently slammed 77 runs off 25 balls in a t10 match has been bought by kxip for ã¢ââ¹4 2 crore from his base price of ã¢ââ¹75 lakh meanwhile indian all rounder axar patel was bought by delhi capitals for ã¢ââ¹5 crore further sunrisers hyderabad bought wicketkeeper wriddhiman saha for ã¢ââ¹1 2 crore after releasing him in november \n",
      "실제 요약 : yr old keeper sold for ã¢ââ¹4 2 cr from base ã¢ââ¹75 lakh \n",
      "예측 요약 :  mumbai player buys ã¢ââ¹1 crore for mumbai club\n",
      "\n",
      "\n",
      "원문 : roger federer posted his 1 100th atp tour win at the weber open in on wednesday the swiss top seed who has the second most number of atp tour wins in tennis history behind jimmy beat ranked japan's 6 3 6 1 in 51 minutes to reach the round of sixteen \n",
      "실제 요약 : roger federer posts career's 1 100th atp tour win \n",
      "예측 요약 :  federer wins third straight title of the year\n",
      "\n",
      "\n",
      "원문 : during his meeting with un secretary general antãâ³nio guterres on tuesday pakistan prime minister shahid khaqan abbasi urged the world body to play its part in stopping indian atrocities in kashmir accusing india of ceasefire violations along the border abbasi said pakistan seeks a just and peaceful resolution of the dispute adding that the situation can escalate \n",
      "실제 요약 : un should play its part in kashmir issue pakistan pm \n",
      "예측 요약 :  pak pm urges pak to kashmir for kashmir issue\n",
      "\n",
      "\n",
      "원문 : a man detained by police over a drunken argument in germany was found to be carrying a 14 inch baby python in his pants police officials said they noticed a significant in his trousers they further said that they were checking whether the man violated animal protection regulations \n",
      "실제 요약 : police find python inside pants of arrested drunk man \n",
      "예측 요약 :  man arrested for trying to save baby\n",
      "\n",
      "\n",
      "원문 : us president donald trump slammed his russian counterpart vladimir putin during a phone call over a propaganda video that showed russia's ability to strike the us state of florida reports said putin had reportedly shown the video during his address to the russian parliament and before his re election trump also discussed the video with uk pm theresa may \n",
      "실제 요약 : trump slams putin over video showing missiles hit us report \n",
      "예측 요약 :  russia shares video of russian foreign secy putin\n",
      "\n",
      "\n",
      "원문 : real madrid forward cristiano ronaldo has sold a replica of one of his four ballon d'or trophies for approximately ã¢ââ¹4 6 crore 000 at an auction to raise funds for charity ronaldo's 2013 trophy replica was bought by one of israel's richest persons billionaire with the proceeds going to kids with life threatening or terminally ill medical conditions \n",
      "실제 요약 : ronaldo sells his ballon d'or replica for ã¢ââ¹4 for charity \n",
      "예측 요약 :  ronaldo donates ã¢ââ¹2 5 crore to ronaldo's club for juventus\n",
      "\n",
      "\n",
      "원문 : talking about the future of workspace managing director of venture capital firm kalaari capital vani kola has said companies will need to think different on workplace culture and hiring she said this in response to a tweet by world economic forum listing the predictions for the future of work including artificial intelligence ai and \n",
      "실제 요약 : firms must think different on workplace culture kalaari md \n",
      "예측 요약 :  tech firms should be made by niti aayog vc\n",
      "\n",
      "\n",
      "원문 : a dinner costing 2 million is being off in a draw with tickets costing 2 the 18 course dinner for two will be served alongside diamond onboard a 30 million private jet as it flies across asia hosted by jewellery retailer v diamonds the two winners will be gifted diamond and accommodated in a five star hotel \n",
      "실제 요약 : 2 million dinner served on plane being off for 2 \n",
      "예측 요약 :  man who got ticket with a ticket at auction\n",
      "\n",
      "\n",
      "원문 : twitter user has reportedly completed the mobile game exactly three and one third years after it was released on the app store the game previously considered involves sliding tiles with similar numbers to form the biggest number however found that on reaching 12 288 the screen shows a of light and plays a game ending animation \n",
      "실제 요약 : game completed 3 33 years after release \n",
      "예측 요약 :  instagram account lets users play in the same game\n",
      "\n",
      "\n",
      "원문 : filmmaker rohit shetty has confirmed that he will be directing a film that stars ranveer singh while adding it is going to be a raw action film rohit further said that he will start shooting with ranveer after the actor completes 'padmavati' and zoya akhtar's upcoming film this would be ranveer and rohit's first feature film together \n",
      "실제 요약 : i am going to direct ranveer in a raw action film rohit \n",
      "예측 요약 :  ranveer to play villain in upcoming film reports\n",
      "\n",
      "\n",
      "원문 : of the indian institute of science bengaluru has been asked to take compulsory retirement after his phd student accused the 51 year old of making sexually coloured remarks and harassing her with late night phone calls madras one of the top cited researchers in chemical engineering was with iisc since 1998 and received iisc excellence award in teaching and research \n",
      "실제 요약 : iisc professor told to step down after sexual harassment charges \n",
      "예측 요약 :  du student who asked to file sexual harassment\n",
      "\n",
      "\n",
      "원문 : government defeated the no confidence motion in the lok sabha bjp leader gvl narasimha rao on saturday said this is only a trailer what the people of the country have seen on the floor of the parliament is what will happen in 2019 congress party will have to move yet another no confidence vote against pm in 2024 he added \n",
      "실제 요약 : this is only a trailer bjp on no confidence motion vote \n",
      "예측 요약 :  tiger is a movie in the movie ls minister\n",
      "\n",
      "\n",
      "원문 : former censor board chief pahlaj nihalani has sent a legal notice to the makers of 'babumoshai bandookbaaz' he has accused them of for false comments remarks and baseless allegations the makers had earlier sent him a notice saying he had made false claims that they showed two different copies of the film to the cbfc and the tribunal \n",
      "실제 요약 : pahlaj sends legal notice to 'babumoshai bandookbaaz' makers \n",
      "예측 요약 :  pahlaj files complaint against cbfc chief over row\n",
      "\n",
      "\n",
      "원문 : retail inflation measured by the consumer price index cpi fell to a 17 month low of 2 33 in november compared to 3 38 the previous month this is the fourth consecutive month that the retail inflation remained below reserve bank of india's rbi medium term target of 4 the food price inflation for the month stood at 2 61 \n",
      "실제 요약 : retail inflation falls to 17 month low of 2 33 in november \n",
      "예측 요약 :  wholesale inflation hits 4 month low of 4 in 4 months\n",
      "\n",
      "\n",
      "원문 : nasa's new planet hunting telescope has captured a test image centred on the constellation revealing over 2 00 000 stars the spacecraft passed about 8 000 kilometres from the moon which provided a gravity assist to enter an orbit around earth the exoplanet survey satellite tess is expected to begin science operations in june to release a first light image \n",
      "실제 요약 : nasa planet hunting telescope captures 2 lakh stars in 1 pic \n"
     ]
    },
    {
     "name": "stdout",
     "output_type": "stream",
     "text": [
      "예측 요약 :  nasa spacecraft captures mars of mars\n",
      "\n",
      "\n",
      "원문 : kolkata knight riders' ceo mysore on friday said he hasn't heard anything about umesh yadav's reported unavailability for the first few weeks of the 2017 ipl season earlier media reports had suggested yadav and ravindra jadeja would miss the first three weeks of the tournament mysore added that he would wait for a bcci statement before reacting \n",
      "실제 요약 : no official word on umesh yadav's kkr \n",
      "예측 요약 :  i am not a biopic ceo on quitting retirement\n",
      "\n",
      "\n",
      "원문 : uttar pradesh cm yogi adityanath's facebook page was the most popular among the pages of all indian cms in 2017 the social networking platform has told the up government rajasthan cm vasundhara raje was rated second on the list while gujarat cm vijay rupani occupied the third spot the ratings were based on meaningful social interactions on the page \n",
      "실제 요약 : up cm yogi's fb page most popular among indian cms in 2017 \n",
      "예측 요약 :  most most popular indian cm yogi on list of fame\n",
      "\n",
      "\n",
      "원문 : several women beat up an unidentified mentally challenged man on monday suspecting him of being the mystery man responsible for chopping off women's hair at night near mumbai after finding his movements suspicious the women trapped the man in a fishing net and thrashed him with lathis police said however the man was rescued and admitted to a mental hospital \n",
      "실제 요약 : man suspected of cutting women's hair beaten in mumbai \n",
      "예측 요약 :  man who went to touch a man who times him\n",
      "\n",
      "\n",
      "원문 : there was a crowd of 300 500 people during the clashes that took place in bulandshahr on monday and the entire police force was attacked sub inspector suresh kumar who was an eyewitness has claimed the crowd the road and started throwing stones at the police he said adding that it was a situation of chaos \n",
      "실제 요약 : entire police force was attacked in bulandshahr policeman \n",
      "예측 요약 :  up police clash with 300 people in up's\n",
      "\n",
      "\n",
      "원문 : actor emraan hashmi has said he benefitted a lot from the tag a number of my films in which i was shown kissing did very well in the beginning of my career he added however emraan said he's now trying to do away with the tag as it may restrict his growth as an actor \n",
      "실제 요약 : i a lot from the tag emraan \n",
      "예측 요약 :  i was a actress on my films i have been\n",
      "\n",
      "\n",
      "원문 : in order to reduce its debt tata steel is selling shares worth up to ã¢ââ¹3 crore in tata motors to its parent company tata sons the inter promoter share transfer will give tata sons another 2 85 stake in tata motors the stake sale will take place on or after june 23 this year \n",
      "실제 요약 : tata steel to get ã¢ââ¹3 cr from sale of tata motors stake \n",
      "예측 요약 :  tata steel backed firm to acquire rival\n",
      "\n",
      "\n",
      "원문 : a circus tiger escaped onto the streets of paris affecting public transport and bringing emergency services to the area before it was shot dead by its owner firefighters were called after the 200 kilogram tiger was seen in the city streets the police said the owner was taken into custody while social media users slammed the killing \n",
      "실제 요약 : tiger escapes onto paris' streets shot dead by owner \n",
      "예측 요약 :  new york city delayed by over delayed by thieves\n",
      "\n",
      "\n",
      "원문 : shenzhen city in southern china has announced 99 of the taxis operating in the city are now electric becoming china's second and largest city to do so out of 21 taxis operational in the city around 7 500 taxis were still gasoline powered in 2018 notably the northern china city of has had only electric taxis since 2016 \n",
      "실제 요약 : becomes 2nd china city with 99 electric taxis \n",
      "예측 요약 :  china completes its first ever electric market\n",
      "\n",
      "\n",
      "원문 : the violence against rohingya muslims in myanmar looks like ethnic cleansing a british government spokesperson has said britain called on myanmar's authorities to stop the violence and ensure access into the country's rakhine state to provide aid to those affected by the crisis the myanmar forces' crackdown against rohingya militants has caused the of over 6 lakh rohingya refugees \n",
      "실제 요약 : rohingya violence looks like ethnic says britain \n",
      "예측 요약 :  rohingya refugees rohingya violence in myanmar\n",
      "\n",
      "\n",
      "원문 : group of north korean hackers was sent to china and directed to earn 100 000 a year for the regime a former state hacker has revealed he added that the hackers were allowed to keep less than 10 of the money earned he further claimed that the hackers were warned of severe consequences if they failed to earn the money \n",
      "실제 요약 : n korean hackers ordered to earn 100 000 a year for country \n",
      "예측 요약 :  china plans to buy north korean media report\n",
      "\n",
      "\n",
      "원문 : year old girl was allegedly raped by a peon inside a school in mumbai's malad following which the accused was arrested police said the peon allegedly sexually assaulted the girl inside a washroom of the school between august 1 and 4 parents of other students gathered outside the school on tuesday and staged a protest demanding safety of their children \n",
      "실제 요약 : arrested for raping 4 year old in mumbai school \n",
      "예측 요약 :  girl raped by school teacher for raping girl in school\n",
      "\n",
      "\n",
      "원문 : a number of corporates including tata godrej adani and patanjali have shown interest in buying sahara group's 30 properties estimated to be worth about ã¢ââ¹7 400 crore earlier this week the supreme court directed sale of sahara group's aamby valley this has been done over the group's alleged failure to deposit money for refunding its investors \n",
      "실제 요약 : tata patanjali interested in sahara properties of ã¢ââ¹7 400 cr \n",
      "예측 요약 :  mahindra to buy ã¢ââ¹2 000 cr for profit of tata steel\n",
      "\n",
      "\n",
      "원문 : adam the 52 year old man accused of killing an indian and injuring two others at a bar in united states' kansas city in february has pleaded not guilty federal prosecutors allege that targeted the two indian men because of their race or while the third man who was an american was shot while trying to help them \n",
      "실제 요약 : us man accused of killing indian techie pleads not guilty \n",
      "예측 요약 :  man who killed man in dubai for shooting\n",
      "\n",
      "\n",
      "원문 : oil minister dharmendra pradhan has said that government has not issued a directive to oil like indian oil and hindustan petroleum to absorb fuel price hike the shares of oil marketing companies tumbled up to 8 on wednesday after a report said they have to bear a loss of up to ã¢ââ¹1 per litre on petrol and diesel \n",
      "실제 요약 : oil firms weren't directed to fuel price hike govt \n",
      "예측 요약 :  govt has no plans to oil minister after fuel prices\n",
      "\n",
      "\n",
      "원문 : the cbi on wednesday conducted raids at 40 locations in tamil nadu including the houses of state dgp and health minister vijaya among others in connection with the gutkha scam the scam came to light in 2017 when while pan masala manufacturers police recovered a diary containing names of influential people who took bribes from them \n",
      "실제 요약 : cbi raids homes of tn dgp health minister over scam \n",
      "예측 요약 :  cbi books tn cm after cyclone gaja in tamil nadu\n",
      "\n",
      "\n",
      "원문 : mumbai police have arrested three directors of parekh for allegedly defrauding banks of ã¢ââ¹4 000 crore the arrest follows a complaint from axis bank which is part of a consortium of over 20 banks with exposure to the company sbi and indian overseas bank have also filed a cbi case alleging parekh diverted funds to real estate developers \n",
      "실제 요약 : 3 directors of mumbai firm held for ã¢ââ¹4 000 crore bank fraud \n",
      "예측 요약 :  two arrested for duping bank of bank officials arrested\n",
      "\n",
      "\n",
      "원문 : a ministerial panel led by finance minister arun jaitley on tuesday decided to sell 100 of air india's ground handling arm air india air transport services the proceeds will be used to retire a part of air india's debt the government also plans to transfer a significant part of the airline's debt to a special purpose vehicle \n",
      "실제 요약 : govt to sell 100 stake in air india's ground handling \n",
      "예측 요약 :  jaitley to buy jaitley for air india prices\n",
      "\n",
      "\n",
      "원문 : italy has launched an investigation into the death of 26 teenage girls whose bodies were recovered in the mediterranean sea authorities suspect the teenagers may have been abused and murdered as they attempted to cross the mediterranean aged between 14 18 years they are believed to have been migrants from and nigeria \n",
      "실제 요약 : 26 teenage girls found dead in sea \n",
      "예측 요약 :  mexico probe into mass mass death of dead\n",
      "\n",
      "\n",
      "원문 : a woman in the united states won the 50 000 ã¢ââ¹32 lakh powerball prize while giving birth to her first child the drawing was last month but the woman said that she was too busy at the hospital to claim the prize she added that she and her husband had wanted to wait before coming forward \n",
      "실제 요약 : woman wins 50 000 lottery while giving birth to 1st child \n"
     ]
    },
    {
     "name": "stdout",
     "output_type": "stream",
     "text": [
      "예측 요약 :  woman gives birth to woman who died in lottery\n",
      "\n",
      "\n",
      "원문 : agrawal the indian origin co founder of period underwear startup has been accused of sexual harassment and touching employees' breasts without consent in a complaint by an ex female employee i felt objectified my body when she declared she was with it and made detailed comments about my breasts she said recently agrawal had stepped down as ceo \n",
      "실제 요약 : entrepreneur agrawal accused of sexual harassment \n",
      "예측 요약 :  startup co founder accused of sexual harassment\n",
      "\n",
      "\n",
      "원문 : out of the ã¢ââ¹9 860 crore released to 60 cities under the smart cities mission only 7 or about crore have been utilised so far according to the housing and urban affairs ministry of the 40 cities which got crore each ahmedabad spent the maximum amount of ã¢ââ¹80 15 crore while andaman and nicobar islands could utilise only ã¢ââ¹54 lakh \n",
      "실제 요약 : only 7 of ã¢ââ¹9 crore spent under smart cities mission \n",
      "예측 요약 :  mumbai civic body to get crore in pre series\n",
      "\n",
      "\n",
      "원문 : digital payments startup paytm has partnered with metal refinery to launch a feature to allow users to buy and sell gold digitally paytm claims users will be able to purchase 999 9 gold starting from ã¢ââ¹1 the gold can be home delivered in the form of minted coins or be stored in vaults \n",
      "실제 요약 : paytm launches feature to buy and sell gold \n",
      "예측 요약 :  paytm launches its own feature in its own app\n",
      "\n",
      "\n",
      "원문 : smriti mandhana broke her own record of scoring the fastest fifty by an indian in women's t20i cricket after registering a 25 ball fifty against england on sunday fifty is the joint fourth fastest and the fastest by an asian woman in t20is mandhana ended her innings with a score of 76 40 \n",
      "실제 요약 : mandhana scores fastest t20i fifty for an indian \n",
      "예측 요약 :  rohit sharma sets record for most straight runs in t20i cricket\n",
      "\n",
      "\n",
      "원문 : a 33 year old woman who is accused of killing three of her in laws over property worth ã¢ââ¹18 crore confessed to taking ideas for the murder from crime based tv shows like and india' she reportedly learnt from the shows that burning the dead bodies and at different spots would make identification of the victims difficult \n",
      "실제 요약 : woman took ideas from tv crime shows to kill in laws \n",
      "예측 요약 :  woman held for trying to sell woman in law\n",
      "\n",
      "\n",
      "원문 : actor nawazuddin siddiqui has said that these days even rubbish films go on to become massive hits there are so many people who just go to watch it without any understanding of the craft added nawazuddin he further said i prefer when my films are appreciated by intelligent educated people who are experts in the field \n",
      "실제 요약 : these days even films become massive hits nawazuddin \n",
      "예측 요약 :  i don't have a film with the country nawazuddin\n",
      "\n",
      "\n",
      "원문 : organisation of the petroleum exporting countries opec has agreed on a nominal increase in oil production of around 1 million barrels a day or 1 of global supply saudi energy minister khalid al has said saudi arabia argued it was time to raise production following calls from major consumer countries to help reduce crude price and avoid a supply shortage \n",
      "실제 요약 : agrees oil output rise of 1 mn saudi minister \n",
      "예측 요약 :  saudi arabia to reach 100 bn in yemen\n",
      "\n",
      "\n",
      "원문 : congress vice president rahul gandhi will accept a national flag made by dalit community for gujarat cm vijay rupani whose office refused to accept it citing lack of space the flag which is 125 feet wide and 83 3 feet high was prepared by dalits from 10 states gandhi will accept the flag during his visit to dalit shakti in \n",
      "실제 요약 : rahul gandhi to accept indian flag refused by guj cm office \n",
      "예측 요약 :  rahul gandhi to wear at bihar cm event in rajasthan\n",
      "\n",
      "\n",
      "원문 : criminal cases filed against security personnel in insurgency hit areas 400 more soldiers petitioned the supreme court against the dilution of armed forces special powers act earlier this month 350 soldiers had moved the sc with a similar request last year the sc had ordered a probe into 1 500 allegations of human rights violations by security personnel in manipur \n",
      "실제 요약 : 400 more soldiers petition sc against of afspa \n",
      "예측 요약 :  sc orders fir against armed forces in clashes\n",
      "\n",
      "\n",
      "원문 : a complaint was filed against an unidentified construction worker on monday for allegedly sexually assaulting a 10 year old girl in a kolkata orphanage in december last year the girl claimed she told orphanage authorities about the incident but no action was taken the police complaint was filed after some of the other residents raised the issue again last week \n",
      "실제 요약 : 10 year old girl sexually assaulted in kolkata orphanage \n",
      "예측 요약 :  man sexually assaulted in molesting minor\n",
      "\n",
      "\n",
      "원문 : delhi cm arvind kejriwal on sunday denied any rift with kumar vishwas and said the aap leader was like his younger brother kejriwal added that some people were trying to show that there is a rift between the two but nobody could separate them this comes after aap mla amanatullah khan alleged that kumar was conspiring to break the party \n",
      "실제 요약 : kumar like younger brother nobody can separate us kejriwal \n",
      "예측 요약 :  kejriwal's brother denies kejriwal's claim of l g\n",
      "\n",
      "\n",
      "원문 : pakistan's ud din dismissed australia's rod marsh bruce and geoff with the last three balls of his seventh over to register odi cricket's first ever hat trick on september 20 1982 the right arm from karachi played a total of eight odi matches and six test matches in his entire career \n",
      "실제 요약 : 1st hat trick taker played just 8 odis in his career \n",
      "예측 요약 :  bowler gets 200 wicket in odis over 200 wicket haul\n",
      "\n",
      "\n"
     ]
    }
   ],
   "source": [
    "for i in range(50, 100):\n",
    "    print(\"원문 :\", seq2text(encoder_input_test[i]))\n",
    "    print(\"실제 요약 :\", seq2head(decoder_input_test[i]))\n",
    "    print(\"예측 요약 :\", decode_sequence(encoder_input_test[i].reshape(1, text_max_len)))\n",
    "    print(\"\\n\")"
   ]
  },
  {
   "cell_type": "markdown",
   "id": "17c0fb1b",
   "metadata": {},
   "source": [
    "# Summa 이용한 추출 요약 해보기"
   ]
  },
  {
   "cell_type": "code",
   "execution_count": 1,
   "id": "f8963536",
   "metadata": {},
   "outputs": [],
   "source": [
    "import requests\n",
    "from summa.summarizer import summarize"
   ]
  },
  {
   "cell_type": "code",
   "execution_count": 2,
   "id": "7daaa0dc",
   "metadata": {},
   "outputs": [],
   "source": [
    "pass"
   ]
  },
  {
   "cell_type": "code",
   "execution_count": 9,
   "id": "6e7c9d7e",
   "metadata": {},
   "outputs": [],
   "source": [
    "import pandas as pd\n",
    "import urllib.request\n",
    "urllib.request.urlretrieve(\"https://raw.githubusercontent.com/sunnysai12345/News_Summary/master/news_summary_more.csv\", filename=\"news_summary_more.csv\")\n",
    "data = pd.read_csv('news_summary_more.csv', encoding='iso-8859-1')"
   ]
  },
  {
   "cell_type": "code",
   "execution_count": 13,
   "id": "107069d1",
   "metadata": {},
   "outputs": [
    {
     "name": "stdout",
     "output_type": "stream",
     "text": [
      "Summary:\n",
      "The program and upGrad's 360-degree career support helped him transition to a Data Scientist at Tech Mahindra with 90% salary hike.\n",
      "upGrad's Online Power Learning has powered 3 lakh+ careers.\n"
     ]
    }
   ],
   "source": [
    "print('Summary:')\n",
    "print(summarize(data.loc[0, 'text'], ratio=0.8))"
   ]
  },
  {
   "cell_type": "code",
   "execution_count": null,
   "id": "5137a5c7",
   "metadata": {},
   "outputs": [],
   "source": [
    "print('Summary:')\n",
    "print(summarize(data.loc[0, 'text'], ratio=0.8))"
   ]
  }
 ],
 "metadata": {
  "kernelspec": {
   "display_name": "Python 3 (ipykernel)",
   "language": "python",
   "name": "python3"
  },
  "language_info": {
   "codemirror_mode": {
    "name": "ipython",
    "version": 3
   },
   "file_extension": ".py",
   "mimetype": "text/x-python",
   "name": "python",
   "nbconvert_exporter": "python",
   "pygments_lexer": "ipython3",
   "version": "3.9.7"
  }
 },
 "nbformat": 4,
 "nbformat_minor": 5
}
