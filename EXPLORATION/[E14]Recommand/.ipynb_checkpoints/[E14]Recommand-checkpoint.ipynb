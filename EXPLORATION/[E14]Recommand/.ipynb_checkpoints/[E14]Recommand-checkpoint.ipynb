{
 "cells": [
  {
   "cell_type": "markdown",
   "id": "ecf46cf3",
   "metadata": {},
   "source": [
    "추가회고 : "
   ]
  },
  {
   "cell_type": "markdown",
   "id": "f14d1964",
   "metadata": {},
   "source": [
    "# Movielens 영화추천실습   \n",
    "- 별점 데이터는 explicit data이지만, implicit data로 간주하고 테스트해 볼 수 있음   \n",
    "- 별점 = 시청횟수로 해석하기   \n",
    "- 별점 3점 미만 = 선호하지 않는 영화로 가정  "
   ]
  },
  {
   "cell_type": "markdown",
   "id": "fc26c263",
   "metadata": {},
   "source": [
    "# 1. 데이터 준비 및 전처리"
   ]
  },
  {
   "cell_type": "code",
   "execution_count": 18,
   "id": "d5e58792",
   "metadata": {},
   "outputs": [
    {
     "data": {
      "text/html": [
       "<div>\n",
       "<style scoped>\n",
       "    .dataframe tbody tr th:only-of-type {\n",
       "        vertical-align: middle;\n",
       "    }\n",
       "\n",
       "    .dataframe tbody tr th {\n",
       "        vertical-align: top;\n",
       "    }\n",
       "\n",
       "    .dataframe thead th {\n",
       "        text-align: right;\n",
       "    }\n",
       "</style>\n",
       "<table border=\"1\" class=\"dataframe\">\n",
       "  <thead>\n",
       "    <tr style=\"text-align: right;\">\n",
       "      <th></th>\n",
       "      <th>user_id</th>\n",
       "      <th>movie_id</th>\n",
       "      <th>ratings</th>\n",
       "      <th>timestamp</th>\n",
       "    </tr>\n",
       "  </thead>\n",
       "  <tbody>\n",
       "    <tr>\n",
       "      <th>0</th>\n",
       "      <td>1</td>\n",
       "      <td>1193</td>\n",
       "      <td>5</td>\n",
       "      <td>978300760</td>\n",
       "    </tr>\n",
       "    <tr>\n",
       "      <th>1</th>\n",
       "      <td>1</td>\n",
       "      <td>661</td>\n",
       "      <td>3</td>\n",
       "      <td>978302109</td>\n",
       "    </tr>\n",
       "    <tr>\n",
       "      <th>2</th>\n",
       "      <td>1</td>\n",
       "      <td>914</td>\n",
       "      <td>3</td>\n",
       "      <td>978301968</td>\n",
       "    </tr>\n",
       "    <tr>\n",
       "      <th>3</th>\n",
       "      <td>1</td>\n",
       "      <td>3408</td>\n",
       "      <td>4</td>\n",
       "      <td>978300275</td>\n",
       "    </tr>\n",
       "    <tr>\n",
       "      <th>4</th>\n",
       "      <td>1</td>\n",
       "      <td>2355</td>\n",
       "      <td>5</td>\n",
       "      <td>978824291</td>\n",
       "    </tr>\n",
       "  </tbody>\n",
       "</table>\n",
       "</div>"
      ],
      "text/plain": [
       "   user_id  movie_id  ratings  timestamp\n",
       "0        1      1193        5  978300760\n",
       "1        1       661        3  978302109\n",
       "2        1       914        3  978301968\n",
       "3        1      3408        4  978300275\n",
       "4        1      2355        5  978824291"
      ]
     },
     "execution_count": 18,
     "metadata": {},
     "output_type": "execute_result"
    }
   ],
   "source": [
    "import pandas as pd\n",
    "import os\n",
    "rating_file_path=os.getenv('HOME') + '/aiffel/recommendata_iu/data/ml-1m/ratings.dat'\n",
    "ratings_cols = ['user_id', 'movie_id', 'ratings', 'timestamp']\n",
    "ratings = pd.read_csv(rating_file_path, sep='::', names=ratings_cols, engine='python', encoding = \"ISO-8859-1\")\n",
    "orginal_data_size = len(ratings)\n",
    "ratings.head()"
   ]
  },
  {
   "cell_type": "code",
   "execution_count": 19,
   "id": "0bf5d81f",
   "metadata": {},
   "outputs": [
    {
     "name": "stdout",
     "output_type": "stream",
     "text": [
      "orginal_data_size: 1000209, filtered_data_size: 836478\n",
      "Ratio of Remaining Data is 83.63%\n"
     ]
    }
   ],
   "source": [
    "# 3점 이상만 남깁니다.\n",
    "ratings = ratings[ratings['ratings']>=3]\n",
    "filtered_data_size = len(ratings)\n",
    "\n",
    "print(f'orginal_data_size: {orginal_data_size}, filtered_data_size: {filtered_data_size}')\n",
    "print(f'Ratio of Remaining Data is {filtered_data_size / orginal_data_size:.2%}')"
   ]
  },
  {
   "cell_type": "markdown",
   "id": "489ff6f4",
   "metadata": {},
   "source": [
    "3점 이상만 남긴 데이터 수 = 1000209\n",
    "전체 데이터 중 약 84%가 남은 것을 볼 수 있다"
   ]
  },
  {
   "cell_type": "code",
   "execution_count": 20,
   "id": "e449a70e",
   "metadata": {},
   "outputs": [],
   "source": [
    "# ratings 컬럼의 이름을 counts로 바꿉니다.\n",
    "ratings.rename(columns={'ratings':'counts'}, inplace=True)"
   ]
  },
  {
   "cell_type": "code",
   "execution_count": 21,
   "id": "6d324ef9",
   "metadata": {},
   "outputs": [
    {
     "data": {
      "text/plain": [
       "0          5\n",
       "1          3\n",
       "2          3\n",
       "3          4\n",
       "4          5\n",
       "          ..\n",
       "1000203    3\n",
       "1000205    5\n",
       "1000206    5\n",
       "1000207    4\n",
       "1000208    4\n",
       "Name: counts, Length: 836478, dtype: int64"
      ]
     },
     "execution_count": 21,
     "metadata": {},
     "output_type": "execute_result"
    }
   ],
   "source": [
    "ratings['counts']"
   ]
  },
  {
   "cell_type": "code",
   "execution_count": 22,
   "id": "22c4b2f6",
   "metadata": {},
   "outputs": [
    {
     "data": {
      "text/html": [
       "<div>\n",
       "<style scoped>\n",
       "    .dataframe tbody tr th:only-of-type {\n",
       "        vertical-align: middle;\n",
       "    }\n",
       "\n",
       "    .dataframe tbody tr th {\n",
       "        vertical-align: top;\n",
       "    }\n",
       "\n",
       "    .dataframe thead th {\n",
       "        text-align: right;\n",
       "    }\n",
       "</style>\n",
       "<table border=\"1\" class=\"dataframe\">\n",
       "  <thead>\n",
       "    <tr style=\"text-align: right;\">\n",
       "      <th></th>\n",
       "      <th>movie_id</th>\n",
       "      <th>title</th>\n",
       "      <th>genre</th>\n",
       "    </tr>\n",
       "  </thead>\n",
       "  <tbody>\n",
       "    <tr>\n",
       "      <th>0</th>\n",
       "      <td>1</td>\n",
       "      <td>Toy Story (1995)</td>\n",
       "      <td>Animation|Children's|Comedy</td>\n",
       "    </tr>\n",
       "    <tr>\n",
       "      <th>1</th>\n",
       "      <td>2</td>\n",
       "      <td>Jumanji (1995)</td>\n",
       "      <td>Adventure|Children's|Fantasy</td>\n",
       "    </tr>\n",
       "    <tr>\n",
       "      <th>2</th>\n",
       "      <td>3</td>\n",
       "      <td>Grumpier Old Men (1995)</td>\n",
       "      <td>Comedy|Romance</td>\n",
       "    </tr>\n",
       "    <tr>\n",
       "      <th>3</th>\n",
       "      <td>4</td>\n",
       "      <td>Waiting to Exhale (1995)</td>\n",
       "      <td>Comedy|Drama</td>\n",
       "    </tr>\n",
       "    <tr>\n",
       "      <th>4</th>\n",
       "      <td>5</td>\n",
       "      <td>Father of the Bride Part II (1995)</td>\n",
       "      <td>Comedy</td>\n",
       "    </tr>\n",
       "  </tbody>\n",
       "</table>\n",
       "</div>"
      ],
      "text/plain": [
       "   movie_id                               title                         genre\n",
       "0         1                    Toy Story (1995)   Animation|Children's|Comedy\n",
       "1         2                      Jumanji (1995)  Adventure|Children's|Fantasy\n",
       "2         3             Grumpier Old Men (1995)                Comedy|Romance\n",
       "3         4            Waiting to Exhale (1995)                  Comedy|Drama\n",
       "4         5  Father of the Bride Part II (1995)                        Comedy"
      ]
     },
     "execution_count": 22,
     "metadata": {},
     "output_type": "execute_result"
    }
   ],
   "source": [
    "# 영화 제목을 보기 위해 메타 데이터를 읽어옵니다.\n",
    "movie_file_path=os.getenv('HOME') + '/aiffel/recommendata_iu/data/ml-1m/movies.dat'\n",
    "cols = ['movie_id', 'title', 'genre'] \n",
    "movies = pd.read_csv(movie_file_path, sep='::', names=cols, engine='python', encoding='ISO-8859-1')\n",
    "movies.head()"
   ]
  },
  {
   "cell_type": "code",
   "execution_count": 23,
   "id": "6f36a7c8",
   "metadata": {},
   "outputs": [],
   "source": [
    "movies[\"title\" ] = movies[\"title\"].str.lower()"
   ]
  },
  {
   "cell_type": "markdown",
   "id": "9ee37e62",
   "metadata": {},
   "source": [
    "영화 제목을 추가하기 위해 두 데이터 프레임 병합하기"
   ]
  },
  {
   "cell_type": "code",
   "execution_count": 24,
   "id": "35bff81b",
   "metadata": {},
   "outputs": [
    {
     "data": {
      "text/html": [
       "<div>\n",
       "<style scoped>\n",
       "    .dataframe tbody tr th:only-of-type {\n",
       "        vertical-align: middle;\n",
       "    }\n",
       "\n",
       "    .dataframe tbody tr th {\n",
       "        vertical-align: top;\n",
       "    }\n",
       "\n",
       "    .dataframe thead th {\n",
       "        text-align: right;\n",
       "    }\n",
       "</style>\n",
       "<table border=\"1\" class=\"dataframe\">\n",
       "  <thead>\n",
       "    <tr style=\"text-align: right;\">\n",
       "      <th></th>\n",
       "      <th>user_id</th>\n",
       "      <th>movie_id</th>\n",
       "      <th>counts</th>\n",
       "      <th>timestamp</th>\n",
       "      <th>title</th>\n",
       "      <th>genre</th>\n",
       "    </tr>\n",
       "  </thead>\n",
       "  <tbody>\n",
       "    <tr>\n",
       "      <th>0</th>\n",
       "      <td>1</td>\n",
       "      <td>1193</td>\n",
       "      <td>5</td>\n",
       "      <td>978300760</td>\n",
       "      <td>one flew over the cuckoo's nest (1975)</td>\n",
       "      <td>Drama</td>\n",
       "    </tr>\n",
       "    <tr>\n",
       "      <th>1</th>\n",
       "      <td>2</td>\n",
       "      <td>1193</td>\n",
       "      <td>5</td>\n",
       "      <td>978298413</td>\n",
       "      <td>one flew over the cuckoo's nest (1975)</td>\n",
       "      <td>Drama</td>\n",
       "    </tr>\n",
       "    <tr>\n",
       "      <th>2</th>\n",
       "      <td>12</td>\n",
       "      <td>1193</td>\n",
       "      <td>4</td>\n",
       "      <td>978220179</td>\n",
       "      <td>one flew over the cuckoo's nest (1975)</td>\n",
       "      <td>Drama</td>\n",
       "    </tr>\n",
       "    <tr>\n",
       "      <th>3</th>\n",
       "      <td>15</td>\n",
       "      <td>1193</td>\n",
       "      <td>4</td>\n",
       "      <td>978199279</td>\n",
       "      <td>one flew over the cuckoo's nest (1975)</td>\n",
       "      <td>Drama</td>\n",
       "    </tr>\n",
       "    <tr>\n",
       "      <th>4</th>\n",
       "      <td>17</td>\n",
       "      <td>1193</td>\n",
       "      <td>5</td>\n",
       "      <td>978158471</td>\n",
       "      <td>one flew over the cuckoo's nest (1975)</td>\n",
       "      <td>Drama</td>\n",
       "    </tr>\n",
       "  </tbody>\n",
       "</table>\n",
       "</div>"
      ],
      "text/plain": [
       "   user_id  movie_id  counts  timestamp  \\\n",
       "0        1      1193       5  978300760   \n",
       "1        2      1193       5  978298413   \n",
       "2       12      1193       4  978220179   \n",
       "3       15      1193       4  978199279   \n",
       "4       17      1193       5  978158471   \n",
       "\n",
       "                                    title  genre  \n",
       "0  one flew over the cuckoo's nest (1975)  Drama  \n",
       "1  one flew over the cuckoo's nest (1975)  Drama  \n",
       "2  one flew over the cuckoo's nest (1975)  Drama  \n",
       "3  one flew over the cuckoo's nest (1975)  Drama  \n",
       "4  one flew over the cuckoo's nest (1975)  Drama  "
      ]
     },
     "execution_count": 24,
     "metadata": {},
     "output_type": "execute_result"
    }
   ],
   "source": [
    "movie_re = pd.merge(ratings, movies)\n",
    "movie_re.head()"
   ]
  },
  {
   "cell_type": "code",
   "execution_count": 25,
   "id": "82e03694",
   "metadata": {},
   "outputs": [
    {
     "data": {
      "text/html": [
       "<div>\n",
       "<style scoped>\n",
       "    .dataframe tbody tr th:only-of-type {\n",
       "        vertical-align: middle;\n",
       "    }\n",
       "\n",
       "    .dataframe tbody tr th {\n",
       "        vertical-align: top;\n",
       "    }\n",
       "\n",
       "    .dataframe thead th {\n",
       "        text-align: right;\n",
       "    }\n",
       "</style>\n",
       "<table border=\"1\" class=\"dataframe\">\n",
       "  <thead>\n",
       "    <tr style=\"text-align: right;\">\n",
       "      <th></th>\n",
       "      <th>user_id</th>\n",
       "      <th>title</th>\n",
       "      <th>counts</th>\n",
       "    </tr>\n",
       "  </thead>\n",
       "  <tbody>\n",
       "    <tr>\n",
       "      <th>0</th>\n",
       "      <td>1</td>\n",
       "      <td>one flew over the cuckoo's nest (1975)</td>\n",
       "      <td>5</td>\n",
       "    </tr>\n",
       "    <tr>\n",
       "      <th>1</th>\n",
       "      <td>2</td>\n",
       "      <td>one flew over the cuckoo's nest (1975)</td>\n",
       "      <td>5</td>\n",
       "    </tr>\n",
       "    <tr>\n",
       "      <th>2</th>\n",
       "      <td>12</td>\n",
       "      <td>one flew over the cuckoo's nest (1975)</td>\n",
       "      <td>4</td>\n",
       "    </tr>\n",
       "    <tr>\n",
       "      <th>3</th>\n",
       "      <td>15</td>\n",
       "      <td>one flew over the cuckoo's nest (1975)</td>\n",
       "      <td>4</td>\n",
       "    </tr>\n",
       "    <tr>\n",
       "      <th>4</th>\n",
       "      <td>17</td>\n",
       "      <td>one flew over the cuckoo's nest (1975)</td>\n",
       "      <td>5</td>\n",
       "    </tr>\n",
       "    <tr>\n",
       "      <th>5</th>\n",
       "      <td>18</td>\n",
       "      <td>one flew over the cuckoo's nest (1975)</td>\n",
       "      <td>4</td>\n",
       "    </tr>\n",
       "    <tr>\n",
       "      <th>6</th>\n",
       "      <td>19</td>\n",
       "      <td>one flew over the cuckoo's nest (1975)</td>\n",
       "      <td>5</td>\n",
       "    </tr>\n",
       "    <tr>\n",
       "      <th>7</th>\n",
       "      <td>24</td>\n",
       "      <td>one flew over the cuckoo's nest (1975)</td>\n",
       "      <td>5</td>\n",
       "    </tr>\n",
       "    <tr>\n",
       "      <th>8</th>\n",
       "      <td>28</td>\n",
       "      <td>one flew over the cuckoo's nest (1975)</td>\n",
       "      <td>3</td>\n",
       "    </tr>\n",
       "    <tr>\n",
       "      <th>9</th>\n",
       "      <td>33</td>\n",
       "      <td>one flew over the cuckoo's nest (1975)</td>\n",
       "      <td>5</td>\n",
       "    </tr>\n",
       "  </tbody>\n",
       "</table>\n",
       "</div>"
      ],
      "text/plain": [
       "   user_id                                   title  counts\n",
       "0        1  one flew over the cuckoo's nest (1975)       5\n",
       "1        2  one flew over the cuckoo's nest (1975)       5\n",
       "2       12  one flew over the cuckoo's nest (1975)       4\n",
       "3       15  one flew over the cuckoo's nest (1975)       4\n",
       "4       17  one flew over the cuckoo's nest (1975)       5\n",
       "5       18  one flew over the cuckoo's nest (1975)       4\n",
       "6       19  one flew over the cuckoo's nest (1975)       5\n",
       "7       24  one flew over the cuckoo's nest (1975)       5\n",
       "8       28  one flew over the cuckoo's nest (1975)       3\n",
       "9       33  one flew over the cuckoo's nest (1975)       5"
      ]
     },
     "execution_count": 25,
     "metadata": {},
     "output_type": "execute_result"
    }
   ],
   "source": [
    "# 사용하는 컬럼만 남겨줍니다.\n",
    "using_cols = [ 'user_id','title', 'counts']\n",
    "movie_re = movie_re[using_cols]\n",
    "movie_re.head(10)"
   ]
  },
  {
   "cell_type": "markdown",
   "id": "60027ad3",
   "metadata": {},
   "source": [
    "### 영화 제목에서 제목과 연도 분리   \n",
    "- 최종 결과물에는 사용하지 않았지만 처음 데이터 전처리 때 사용했었음"
   ]
  },
  {
   "cell_type": "code",
   "execution_count": 73,
   "id": "6a7a134c",
   "metadata": {},
   "outputs": [
    {
     "data": {
      "text/html": [
       "<div>\n",
       "<style scoped>\n",
       "    .dataframe tbody tr th:only-of-type {\n",
       "        vertical-align: middle;\n",
       "    }\n",
       "\n",
       "    .dataframe tbody tr th {\n",
       "        vertical-align: top;\n",
       "    }\n",
       "\n",
       "    .dataframe thead th {\n",
       "        text-align: right;\n",
       "    }\n",
       "</style>\n",
       "<table border=\"1\" class=\"dataframe\">\n",
       "  <thead>\n",
       "    <tr style=\"text-align: right;\">\n",
       "      <th></th>\n",
       "      <th>user_id</th>\n",
       "      <th>movie_id</th>\n",
       "      <th>counts</th>\n",
       "      <th>timestamp</th>\n",
       "      <th>title</th>\n",
       "      <th>genre</th>\n",
       "    </tr>\n",
       "  </thead>\n",
       "  <tbody>\n",
       "    <tr>\n",
       "      <th>0</th>\n",
       "      <td>1</td>\n",
       "      <td>1193</td>\n",
       "      <td>5</td>\n",
       "      <td>978300760</td>\n",
       "      <td>one flew over the cuckoo's nest (1975)</td>\n",
       "      <td>Drama</td>\n",
       "    </tr>\n",
       "    <tr>\n",
       "      <th>1</th>\n",
       "      <td>2</td>\n",
       "      <td>1193</td>\n",
       "      <td>5</td>\n",
       "      <td>978298413</td>\n",
       "      <td>one flew over the cuckoo's nest (1975)</td>\n",
       "      <td>Drama</td>\n",
       "    </tr>\n",
       "    <tr>\n",
       "      <th>2</th>\n",
       "      <td>12</td>\n",
       "      <td>1193</td>\n",
       "      <td>4</td>\n",
       "      <td>978220179</td>\n",
       "      <td>one flew over the cuckoo's nest (1975)</td>\n",
       "      <td>Drama</td>\n",
       "    </tr>\n",
       "    <tr>\n",
       "      <th>3</th>\n",
       "      <td>15</td>\n",
       "      <td>1193</td>\n",
       "      <td>4</td>\n",
       "      <td>978199279</td>\n",
       "      <td>one flew over the cuckoo's nest (1975)</td>\n",
       "      <td>Drama</td>\n",
       "    </tr>\n",
       "    <tr>\n",
       "      <th>4</th>\n",
       "      <td>17</td>\n",
       "      <td>1193</td>\n",
       "      <td>5</td>\n",
       "      <td>978158471</td>\n",
       "      <td>one flew over the cuckoo's nest (1975)</td>\n",
       "      <td>Drama</td>\n",
       "    </tr>\n",
       "  </tbody>\n",
       "</table>\n",
       "</div>"
      ],
      "text/plain": [
       "   user_id  movie_id  counts  timestamp  \\\n",
       "0        1      1193       5  978300760   \n",
       "1        2      1193       5  978298413   \n",
       "2       12      1193       4  978220179   \n",
       "3       15      1193       4  978199279   \n",
       "4       17      1193       5  978158471   \n",
       "\n",
       "                                    title  genre  \n",
       "0  one flew over the cuckoo's nest (1975)  Drama  \n",
       "1  one flew over the cuckoo's nest (1975)  Drama  \n",
       "2  one flew over the cuckoo's nest (1975)  Drama  \n",
       "3  one flew over the cuckoo's nest (1975)  Drama  \n",
       "4  one flew over the cuckoo's nest (1975)  Drama  "
      ]
     },
     "execution_count": 73,
     "metadata": {},
     "output_type": "execute_result"
    }
   ],
   "source": [
    "names = pd.merge(ratings, movies)\n",
    "name = names.copy()\n",
    "name.head()"
   ]
  },
  {
   "cell_type": "code",
   "execution_count": 74,
   "id": "0e299f53",
   "metadata": {},
   "outputs": [
    {
     "data": {
      "text/html": [
       "<div>\n",
       "<style scoped>\n",
       "    .dataframe tbody tr th:only-of-type {\n",
       "        vertical-align: middle;\n",
       "    }\n",
       "\n",
       "    .dataframe tbody tr th {\n",
       "        vertical-align: top;\n",
       "    }\n",
       "\n",
       "    .dataframe thead th {\n",
       "        text-align: right;\n",
       "    }\n",
       "</style>\n",
       "<table border=\"1\" class=\"dataframe\">\n",
       "  <thead>\n",
       "    <tr style=\"text-align: right;\">\n",
       "      <th></th>\n",
       "      <th>user_id</th>\n",
       "      <th>movie_id</th>\n",
       "      <th>counts</th>\n",
       "      <th>timestamp</th>\n",
       "      <th>title</th>\n",
       "      <th>genre</th>\n",
       "      <th>movie_name</th>\n",
       "      <th>year</th>\n",
       "    </tr>\n",
       "  </thead>\n",
       "  <tbody>\n",
       "    <tr>\n",
       "      <th>0</th>\n",
       "      <td>1</td>\n",
       "      <td>1193</td>\n",
       "      <td>5</td>\n",
       "      <td>978300760</td>\n",
       "      <td>one flew over the cuckoo's nest (1975)</td>\n",
       "      <td>Drama</td>\n",
       "      <td>one flew over the cuckoo's nest</td>\n",
       "      <td>1975</td>\n",
       "    </tr>\n",
       "    <tr>\n",
       "      <th>1</th>\n",
       "      <td>2</td>\n",
       "      <td>1193</td>\n",
       "      <td>5</td>\n",
       "      <td>978298413</td>\n",
       "      <td>one flew over the cuckoo's nest (1975)</td>\n",
       "      <td>Drama</td>\n",
       "      <td>one flew over the cuckoo's nest</td>\n",
       "      <td>1975</td>\n",
       "    </tr>\n",
       "    <tr>\n",
       "      <th>2</th>\n",
       "      <td>12</td>\n",
       "      <td>1193</td>\n",
       "      <td>4</td>\n",
       "      <td>978220179</td>\n",
       "      <td>one flew over the cuckoo's nest (1975)</td>\n",
       "      <td>Drama</td>\n",
       "      <td>one flew over the cuckoo's nest</td>\n",
       "      <td>1975</td>\n",
       "    </tr>\n",
       "    <tr>\n",
       "      <th>3</th>\n",
       "      <td>15</td>\n",
       "      <td>1193</td>\n",
       "      <td>4</td>\n",
       "      <td>978199279</td>\n",
       "      <td>one flew over the cuckoo's nest (1975)</td>\n",
       "      <td>Drama</td>\n",
       "      <td>one flew over the cuckoo's nest</td>\n",
       "      <td>1975</td>\n",
       "    </tr>\n",
       "    <tr>\n",
       "      <th>4</th>\n",
       "      <td>17</td>\n",
       "      <td>1193</td>\n",
       "      <td>5</td>\n",
       "      <td>978158471</td>\n",
       "      <td>one flew over the cuckoo's nest (1975)</td>\n",
       "      <td>Drama</td>\n",
       "      <td>one flew over the cuckoo's nest</td>\n",
       "      <td>1975</td>\n",
       "    </tr>\n",
       "  </tbody>\n",
       "</table>\n",
       "</div>"
      ],
      "text/plain": [
       "   user_id  movie_id  counts  timestamp  \\\n",
       "0        1      1193       5  978300760   \n",
       "1        2      1193       5  978298413   \n",
       "2       12      1193       4  978220179   \n",
       "3       15      1193       4  978199279   \n",
       "4       17      1193       5  978158471   \n",
       "\n",
       "                                    title  genre  \\\n",
       "0  one flew over the cuckoo's nest (1975)  Drama   \n",
       "1  one flew over the cuckoo's nest (1975)  Drama   \n",
       "2  one flew over the cuckoo's nest (1975)  Drama   \n",
       "3  one flew over the cuckoo's nest (1975)  Drama   \n",
       "4  one flew over the cuckoo's nest (1975)  Drama   \n",
       "\n",
       "                         movie_name  year  \n",
       "0  one flew over the cuckoo's nest   1975  \n",
       "1  one flew over the cuckoo's nest   1975  \n",
       "2  one flew over the cuckoo's nest   1975  \n",
       "3  one flew over the cuckoo's nest   1975  \n",
       "4  one flew over the cuckoo's nest   1975  "
      ]
     },
     "execution_count": 74,
     "metadata": {},
     "output_type": "execute_result"
    }
   ],
   "source": [
    "name[['movie_name', 'year']] = name['title'].str.split('(', n=1, expand=True)\n",
    "name[\"year\"] = name[\"year\"].str.replace(pat=r')', repl=r'', regex=True)\n",
    "name.head()"
   ]
  },
  {
   "cell_type": "markdown",
   "id": "cfb3f5e2",
   "metadata": {},
   "source": [
    "# 2. 데이터 분석하기"
   ]
  },
  {
   "cell_type": "markdown",
   "id": "0e68fa06",
   "metadata": {},
   "source": [
    "- ratigns에 있는 유니크한 영화 개수"
   ]
  },
  {
   "cell_type": "code",
   "execution_count": 26,
   "id": "b21a8b90",
   "metadata": {},
   "outputs": [
    {
     "data": {
      "text/plain": [
       "3628"
      ]
     },
     "execution_count": 26,
     "metadata": {},
     "output_type": "execute_result"
    }
   ],
   "source": [
    "uniq_movie = movie_re[\"title\"].nunique()\n",
    "uniq_movie "
   ]
  },
  {
   "cell_type": "code",
   "execution_count": 27,
   "id": "53ae927d",
   "metadata": {},
   "outputs": [
    {
     "data": {
      "text/plain": [
       "6039"
      ]
     },
     "execution_count": 27,
     "metadata": {},
     "output_type": "execute_result"
    }
   ],
   "source": [
    "uniq_user = movie_re[\"user_id\"].nunique()\n",
    "uniq_user"
   ]
  },
  {
   "cell_type": "code",
   "execution_count": 28,
   "id": "acd5d134",
   "metadata": {},
   "outputs": [
    {
     "data": {
      "text/plain": [
       "title\n",
       "american beauty (1999)                                   3211\n",
       "star wars: episode iv - a new hope (1977)                2910\n",
       "star wars: episode v - the empire strikes back (1980)    2885\n",
       "star wars: episode vi - return of the jedi (1983)        2716\n",
       "saving private ryan (1998)                               2561\n",
       "terminator 2: judgment day (1991)                        2509\n",
       "silence of the lambs, the (1991)                         2498\n",
       "raiders of the lost ark (1981)                           2473\n",
       "back to the future (1985)                                2460\n",
       "matrix, the (1999)                                       2434\n",
       "jurassic park (1993)                                     2413\n",
       "sixth sense, the (1999)                                  2385\n",
       "fargo (1996)                                             2371\n",
       "braveheart (1995)                                        2314\n",
       "men in black (1997)                                      2297\n",
       "schindler's list (1993)                                  2257\n",
       "princess bride, the (1987)                               2252\n",
       "shakespeare in love (1998)                               2213\n",
       "l.a. confidential (1997)                                 2210\n",
       "shawshank redemption, the (1994)                         2194\n",
       "godfather, the (1972)                                    2167\n",
       "groundhog day (1993)                                     2121\n",
       "e.t. the extra-terrestrial (1982)                        2102\n",
       "being john malkovich (1999)                              2066\n",
       "ghostbusters (1984)                                      2051\n",
       "pulp fiction (1994)                                      2030\n",
       "forrest gump (1994)                                      2022\n",
       "terminator, the (1984)                                   2019\n",
       "toy story (1995)                                         2000\n",
       "fugitive, the (1993)                                     1941\n",
       "Name: user_id, dtype: int64"
      ]
     },
     "execution_count": 28,
     "metadata": {},
     "output_type": "execute_result"
    }
   ],
   "source": [
    "pop_movie = movie_re.groupby(\"title\")['user_id'].count()\n",
    "pop_movie.sort_values(ascending=False).head(30)"
   ]
  },
  {
   "cell_type": "code",
   "execution_count": 29,
   "id": "9942a951",
   "metadata": {},
   "outputs": [
    {
     "data": {
      "text/plain": [
       "title\n",
       "brother's kiss, a (1997)                                              1\n",
       "ten benny (1997)                                                      1\n",
       "condition red (1995)                                                  1\n",
       "telling you (1998)                                                    1\n",
       "jeanne and the perfect guy (jeanne et le garçon formidable) (1998)    1\n",
       "                                                                     ..\n",
       "mirage (1995)                                                         1\n",
       "24-hour woman (1998)                                                  1\n",
       "voyage to the beginning of the world (1997)                           1\n",
       "wend kuuni (god's gift) (1982)                                        1\n",
       "last of the high kings, the (a.k.a. summer fling) (1996)              1\n",
       "Name: user_id, Length: 100, dtype: int64"
      ]
     },
     "execution_count": 29,
     "metadata": {},
     "output_type": "execute_result"
    }
   ],
   "source": [
    "pop_movie.sort_values(ascending=True).head(100)"
   ]
  },
  {
   "cell_type": "code",
   "execution_count": 30,
   "id": "93f1be00",
   "metadata": {},
   "outputs": [
    {
     "data": {
      "text/html": [
       "<div>\n",
       "<style scoped>\n",
       "    .dataframe tbody tr th:only-of-type {\n",
       "        vertical-align: middle;\n",
       "    }\n",
       "\n",
       "    .dataframe tbody tr th {\n",
       "        vertical-align: top;\n",
       "    }\n",
       "\n",
       "    .dataframe thead th {\n",
       "        text-align: right;\n",
       "    }\n",
       "</style>\n",
       "<table border=\"1\" class=\"dataframe\">\n",
       "  <thead>\n",
       "    <tr style=\"text-align: right;\">\n",
       "      <th></th>\n",
       "      <th>user_id</th>\n",
       "      <th>title</th>\n",
       "      <th>counts</th>\n",
       "    </tr>\n",
       "  </thead>\n",
       "  <tbody>\n",
       "    <tr>\n",
       "      <th>181297</th>\n",
       "      <td>3</td>\n",
       "      <td>little mermaid, the (1989)</td>\n",
       "      <td>4</td>\n",
       "    </tr>\n",
       "    <tr>\n",
       "      <th>181298</th>\n",
       "      <td>6</td>\n",
       "      <td>little mermaid, the (1989)</td>\n",
       "      <td>4</td>\n",
       "    </tr>\n",
       "    <tr>\n",
       "      <th>181299</th>\n",
       "      <td>10</td>\n",
       "      <td>little mermaid, the (1989)</td>\n",
       "      <td>5</td>\n",
       "    </tr>\n",
       "    <tr>\n",
       "      <th>181300</th>\n",
       "      <td>18</td>\n",
       "      <td>little mermaid, the (1989)</td>\n",
       "      <td>5</td>\n",
       "    </tr>\n",
       "    <tr>\n",
       "      <th>181301</th>\n",
       "      <td>19</td>\n",
       "      <td>little mermaid, the (1989)</td>\n",
       "      <td>3</td>\n",
       "    </tr>\n",
       "    <tr>\n",
       "      <th>...</th>\n",
       "      <td>...</td>\n",
       "      <td>...</td>\n",
       "      <td>...</td>\n",
       "    </tr>\n",
       "    <tr>\n",
       "      <th>832470</th>\n",
       "      <td>3363</td>\n",
       "      <td>little city (1998)</td>\n",
       "      <td>3</td>\n",
       "    </tr>\n",
       "    <tr>\n",
       "      <th>832471</th>\n",
       "      <td>4771</td>\n",
       "      <td>little city (1998)</td>\n",
       "      <td>4</td>\n",
       "    </tr>\n",
       "    <tr>\n",
       "      <th>835724</th>\n",
       "      <td>1298</td>\n",
       "      <td>little men (1998)</td>\n",
       "      <td>4</td>\n",
       "    </tr>\n",
       "    <tr>\n",
       "      <th>835725</th>\n",
       "      <td>5411</td>\n",
       "      <td>little men (1998)</td>\n",
       "      <td>3</td>\n",
       "    </tr>\n",
       "    <tr>\n",
       "      <th>836473</th>\n",
       "      <td>5851</td>\n",
       "      <td>one little indian (1973)</td>\n",
       "      <td>5</td>\n",
       "    </tr>\n",
       "  </tbody>\n",
       "</table>\n",
       "<p>5360 rows × 3 columns</p>\n",
       "</div>"
      ],
      "text/plain": [
       "        user_id                       title  counts\n",
       "181297        3  little mermaid, the (1989)       4\n",
       "181298        6  little mermaid, the (1989)       4\n",
       "181299       10  little mermaid, the (1989)       5\n",
       "181300       18  little mermaid, the (1989)       5\n",
       "181301       19  little mermaid, the (1989)       3\n",
       "...         ...                         ...     ...\n",
       "832470     3363          little city (1998)       3\n",
       "832471     4771          little city (1998)       4\n",
       "835724     1298           little men (1998)       4\n",
       "835725     5411           little men (1998)       3\n",
       "836473     5851    one little indian (1973)       5\n",
       "\n",
       "[5360 rows x 3 columns]"
      ]
     },
     "execution_count": 30,
     "metadata": {},
     "output_type": "execute_result"
    }
   ],
   "source": [
    "movie_re[movie_re[\"title\"].str.contains(\"little\")]"
   ]
  },
  {
   "cell_type": "code",
   "execution_count": 31,
   "id": "711c4945",
   "metadata": {},
   "outputs": [
    {
     "data": {
      "text/html": [
       "<div>\n",
       "<style scoped>\n",
       "    .dataframe tbody tr th:only-of-type {\n",
       "        vertical-align: middle;\n",
       "    }\n",
       "\n",
       "    .dataframe tbody tr th {\n",
       "        vertical-align: top;\n",
       "    }\n",
       "\n",
       "    .dataframe thead th {\n",
       "        text-align: right;\n",
       "    }\n",
       "</style>\n",
       "<table border=\"1\" class=\"dataframe\">\n",
       "  <thead>\n",
       "    <tr style=\"text-align: right;\">\n",
       "      <th></th>\n",
       "      <th>user_id</th>\n",
       "      <th>title</th>\n",
       "      <th>counts</th>\n",
       "    </tr>\n",
       "  </thead>\n",
       "  <tbody>\n",
       "    <tr>\n",
       "      <th>836473</th>\n",
       "      <td>5851</td>\n",
       "      <td>one little indian (1973)</td>\n",
       "      <td>5</td>\n",
       "    </tr>\n",
       "    <tr>\n",
       "      <th>836474</th>\n",
       "      <td>5854</td>\n",
       "      <td>slaughterhouse (1987)</td>\n",
       "      <td>4</td>\n",
       "    </tr>\n",
       "    <tr>\n",
       "      <th>836475</th>\n",
       "      <td>5854</td>\n",
       "      <td>promise, the (versprechen, das) (1994)</td>\n",
       "      <td>3</td>\n",
       "    </tr>\n",
       "    <tr>\n",
       "      <th>836476</th>\n",
       "      <td>5938</td>\n",
       "      <td>five wives, three secretaries and me (1998)</td>\n",
       "      <td>4</td>\n",
       "    </tr>\n",
       "    <tr>\n",
       "      <th>836477</th>\n",
       "      <td>5948</td>\n",
       "      <td>identification of a woman (identificazione di ...</td>\n",
       "      <td>5</td>\n",
       "    </tr>\n",
       "    <tr>\n",
       "      <th>0</th>\n",
       "      <td>mini</td>\n",
       "      <td>toy story (1995)</td>\n",
       "      <td>5</td>\n",
       "    </tr>\n",
       "    <tr>\n",
       "      <th>1</th>\n",
       "      <td>mini</td>\n",
       "      <td>for ever mozart (1996)</td>\n",
       "      <td>5</td>\n",
       "    </tr>\n",
       "    <tr>\n",
       "      <th>2</th>\n",
       "      <td>mini</td>\n",
       "      <td>e.t. the extra-terrestrial (1982)</td>\n",
       "      <td>5</td>\n",
       "    </tr>\n",
       "    <tr>\n",
       "      <th>3</th>\n",
       "      <td>mini</td>\n",
       "      <td>terminator 2: judgment day (1991)</td>\n",
       "      <td>5</td>\n",
       "    </tr>\n",
       "    <tr>\n",
       "      <th>4</th>\n",
       "      <td>mini</td>\n",
       "      <td>little mermaid, the (1989)</td>\n",
       "      <td>5</td>\n",
       "    </tr>\n",
       "  </tbody>\n",
       "</table>\n",
       "</div>"
      ],
      "text/plain": [
       "       user_id                                              title  counts\n",
       "836473    5851                           one little indian (1973)       5\n",
       "836474    5854                              slaughterhouse (1987)       4\n",
       "836475    5854             promise, the (versprechen, das) (1994)       3\n",
       "836476    5938        five wives, three secretaries and me (1998)       4\n",
       "836477    5948  identification of a woman (identificazione di ...       5\n",
       "0         mini                                   toy story (1995)       5\n",
       "1         mini                             for ever mozart (1996)       5\n",
       "2         mini                  e.t. the extra-terrestrial (1982)       5\n",
       "3         mini                  terminator 2: judgment day (1991)       5\n",
       "4         mini                         little mermaid, the (1989)       5"
      ]
     },
     "execution_count": 31,
     "metadata": {},
     "output_type": "execute_result"
    }
   ],
   "source": [
    "#[[ your code ]]\n",
    "# 본인이 좋아하시는 아티스트 데이터로 바꿔서 추가하셔도 됩니다! 단, 이름은 꼭 데이터셋에 있는 것과 동일하게 맞춰주세요. \n",
    "my_favorite = ['toy story (1995)' , 'for ever mozart (1996)' ,'e.t. the extra-terrestrial (1982)' ,'terminator 2: judgment day (1991)' ,'little mermaid, the (1989)']\n",
    "\n",
    "# 'zimin'이라는 user_id가 위 아티스트의 노래를 30회씩 들었다고 가정하겠습니다.\n",
    "my_list = pd.DataFrame({'user_id': ['mini']*5, 'title': my_favorite, 'counts':[5]*5})\n",
    "\n",
    "if not movie_re.isin({'user_id':['mini']})['user_id'].any():  # user_id에 'zimin'이라는 데이터가 없다면\n",
    "    movie_re = movie_re.append(my_list)                           # 위에 임의로 만든 my_favorite 데이터를 추가해 줍니다. \n",
    "\n",
    "movie_re.tail(10)       # 잘 추가되었는지 확인해 봅시다."
   ]
  },
  {
   "cell_type": "code",
   "execution_count": 32,
   "id": "15d299db",
   "metadata": {},
   "outputs": [
    {
     "data": {
      "text/html": [
       "<div>\n",
       "<style scoped>\n",
       "    .dataframe tbody tr th:only-of-type {\n",
       "        vertical-align: middle;\n",
       "    }\n",
       "\n",
       "    .dataframe tbody tr th {\n",
       "        vertical-align: top;\n",
       "    }\n",
       "\n",
       "    .dataframe thead th {\n",
       "        text-align: right;\n",
       "    }\n",
       "</style>\n",
       "<table border=\"1\" class=\"dataframe\">\n",
       "  <thead>\n",
       "    <tr style=\"text-align: right;\">\n",
       "      <th></th>\n",
       "      <th>user_id</th>\n",
       "      <th>title</th>\n",
       "      <th>counts</th>\n",
       "    </tr>\n",
       "  </thead>\n",
       "  <tbody>\n",
       "    <tr>\n",
       "      <th>836473</th>\n",
       "      <td>5851</td>\n",
       "      <td>one little indian (1973)</td>\n",
       "      <td>5</td>\n",
       "    </tr>\n",
       "    <tr>\n",
       "      <th>836474</th>\n",
       "      <td>5854</td>\n",
       "      <td>slaughterhouse (1987)</td>\n",
       "      <td>4</td>\n",
       "    </tr>\n",
       "    <tr>\n",
       "      <th>836475</th>\n",
       "      <td>5854</td>\n",
       "      <td>promise, the (versprechen, das) (1994)</td>\n",
       "      <td>3</td>\n",
       "    </tr>\n",
       "    <tr>\n",
       "      <th>836476</th>\n",
       "      <td>5938</td>\n",
       "      <td>five wives, three secretaries and me (1998)</td>\n",
       "      <td>4</td>\n",
       "    </tr>\n",
       "    <tr>\n",
       "      <th>836477</th>\n",
       "      <td>5948</td>\n",
       "      <td>identification of a woman (identificazione di ...</td>\n",
       "      <td>5</td>\n",
       "    </tr>\n",
       "    <tr>\n",
       "      <th>0</th>\n",
       "      <td>mini</td>\n",
       "      <td>toy story (1995)</td>\n",
       "      <td>5</td>\n",
       "    </tr>\n",
       "    <tr>\n",
       "      <th>1</th>\n",
       "      <td>mini</td>\n",
       "      <td>for ever mozart (1996)</td>\n",
       "      <td>5</td>\n",
       "    </tr>\n",
       "    <tr>\n",
       "      <th>2</th>\n",
       "      <td>mini</td>\n",
       "      <td>e.t. the extra-terrestrial (1982)</td>\n",
       "      <td>5</td>\n",
       "    </tr>\n",
       "    <tr>\n",
       "      <th>3</th>\n",
       "      <td>mini</td>\n",
       "      <td>terminator 2: judgment day (1991)</td>\n",
       "      <td>5</td>\n",
       "    </tr>\n",
       "    <tr>\n",
       "      <th>4</th>\n",
       "      <td>mini</td>\n",
       "      <td>little mermaid, the (1989)</td>\n",
       "      <td>5</td>\n",
       "    </tr>\n",
       "  </tbody>\n",
       "</table>\n",
       "</div>"
      ],
      "text/plain": [
       "       user_id                                              title  counts\n",
       "836473    5851                           one little indian (1973)       5\n",
       "836474    5854                              slaughterhouse (1987)       4\n",
       "836475    5854             promise, the (versprechen, das) (1994)       3\n",
       "836476    5938        five wives, three secretaries and me (1998)       4\n",
       "836477    5948  identification of a woman (identificazione di ...       5\n",
       "0         mini                                   toy story (1995)       5\n",
       "1         mini                             for ever mozart (1996)       5\n",
       "2         mini                  e.t. the extra-terrestrial (1982)       5\n",
       "3         mini                  terminator 2: judgment day (1991)       5\n",
       "4         mini                         little mermaid, the (1989)       5"
      ]
     },
     "execution_count": 32,
     "metadata": {},
     "output_type": "execute_result"
    }
   ],
   "source": [
    "# 사용하는 컬럼만 남겨줍니다.\n",
    "using_cols2 = [ 'user_id','title', 'counts']\n",
    "movie_re = movie_re[using_cols2]\n",
    "movie_re.tail(10)"
   ]
  },
  {
   "cell_type": "code",
   "execution_count": 35,
   "id": "ff798d44",
   "metadata": {},
   "outputs": [],
   "source": [
    "# 고유한 유저, 아티스트를 찾아내는 코드\n",
    "user_unique = movie_re['user_id'].unique()\n",
    "movie_unique = movie_re['title'].unique()\n",
    "\n",
    "# 유저, 아티스트 indexing 하는 코드 idx는 index의 약자입니다.\n",
    "user_to_idx = {v:k for k,v in enumerate(user_unique)}\n",
    "movie_to_idx = {v:k for k,v in enumerate(movie_unique)}"
   ]
  },
  {
   "cell_type": "code",
   "execution_count": 36,
   "id": "f3c12e94",
   "metadata": {},
   "outputs": [
    {
     "name": "stdout",
     "output_type": "stream",
     "text": [
      "6039\n",
      "191\n"
     ]
    }
   ],
   "source": [
    "# 인덱싱이 잘 되었는지 확인해 봅니다. \n",
    "print(user_to_idx['mini'])    # 358869명의 유저 중 마지막으로 추가된 유저이니 358868이 나와야 합니다. \n",
    "print(movie_to_idx['little mermaid, the (1989)'])"
   ]
  },
  {
   "cell_type": "code",
   "execution_count": 37,
   "id": "e9289162",
   "metadata": {},
   "outputs": [
    {
     "name": "stdout",
     "output_type": "stream",
     "text": [
      "user_id column indexing OK!!\n",
      "movie column indexing OK!!\n"
     ]
    },
    {
     "data": {
      "text/html": [
       "<div>\n",
       "<style scoped>\n",
       "    .dataframe tbody tr th:only-of-type {\n",
       "        vertical-align: middle;\n",
       "    }\n",
       "\n",
       "    .dataframe tbody tr th {\n",
       "        vertical-align: top;\n",
       "    }\n",
       "\n",
       "    .dataframe thead th {\n",
       "        text-align: right;\n",
       "    }\n",
       "</style>\n",
       "<table border=\"1\" class=\"dataframe\">\n",
       "  <thead>\n",
       "    <tr style=\"text-align: right;\">\n",
       "      <th></th>\n",
       "      <th>user_id</th>\n",
       "      <th>title</th>\n",
       "      <th>counts</th>\n",
       "    </tr>\n",
       "  </thead>\n",
       "  <tbody>\n",
       "    <tr>\n",
       "      <th>0</th>\n",
       "      <td>0</td>\n",
       "      <td>0</td>\n",
       "      <td>5</td>\n",
       "    </tr>\n",
       "    <tr>\n",
       "      <th>1</th>\n",
       "      <td>1</td>\n",
       "      <td>0</td>\n",
       "      <td>5</td>\n",
       "    </tr>\n",
       "    <tr>\n",
       "      <th>2</th>\n",
       "      <td>2</td>\n",
       "      <td>0</td>\n",
       "      <td>4</td>\n",
       "    </tr>\n",
       "    <tr>\n",
       "      <th>3</th>\n",
       "      <td>3</td>\n",
       "      <td>0</td>\n",
       "      <td>4</td>\n",
       "    </tr>\n",
       "    <tr>\n",
       "      <th>4</th>\n",
       "      <td>4</td>\n",
       "      <td>0</td>\n",
       "      <td>5</td>\n",
       "    </tr>\n",
       "    <tr>\n",
       "      <th>...</th>\n",
       "      <td>...</td>\n",
       "      <td>...</td>\n",
       "      <td>...</td>\n",
       "    </tr>\n",
       "    <tr>\n",
       "      <th>0</th>\n",
       "      <td>6039</td>\n",
       "      <td>40</td>\n",
       "      <td>5</td>\n",
       "    </tr>\n",
       "    <tr>\n",
       "      <th>1</th>\n",
       "      <td>6039</td>\n",
       "      <td>3035</td>\n",
       "      <td>5</td>\n",
       "    </tr>\n",
       "    <tr>\n",
       "      <th>2</th>\n",
       "      <td>6039</td>\n",
       "      <td>26</td>\n",
       "      <td>5</td>\n",
       "    </tr>\n",
       "    <tr>\n",
       "      <th>3</th>\n",
       "      <td>6039</td>\n",
       "      <td>92</td>\n",
       "      <td>5</td>\n",
       "    </tr>\n",
       "    <tr>\n",
       "      <th>4</th>\n",
       "      <td>6039</td>\n",
       "      <td>191</td>\n",
       "      <td>5</td>\n",
       "    </tr>\n",
       "  </tbody>\n",
       "</table>\n",
       "<p>836483 rows × 3 columns</p>\n",
       "</div>"
      ],
      "text/plain": [
       "    user_id  title  counts\n",
       "0         0      0       5\n",
       "1         1      0       5\n",
       "2         2      0       4\n",
       "3         3      0       4\n",
       "4         4      0       5\n",
       "..      ...    ...     ...\n",
       "0      6039     40       5\n",
       "1      6039   3035       5\n",
       "2      6039     26       5\n",
       "3      6039     92       5\n",
       "4      6039    191       5\n",
       "\n",
       "[836483 rows x 3 columns]"
      ]
     },
     "execution_count": 37,
     "metadata": {},
     "output_type": "execute_result"
    }
   ],
   "source": [
    "# indexing을 통해 데이터 컬럼 내 값을 바꾸는 코드\n",
    "# dictionary 자료형의 get 함수는 https://wikidocs.net/16 을 참고하세요.\n",
    "\n",
    "# user_to_idx.get을 통해 user_id 컬럼의 모든 값을 인덱싱한 Series를 구해 봅시다. \n",
    "# 혹시 정상적으로 인덱싱되지 않은 row가 있다면 인덱스가 NaN이 될 테니 dropna()로 제거합니다. \n",
    "temp_user_data = movie_re['user_id'].map(user_to_idx.get).dropna()\n",
    "if len(temp_user_data) == len(movie_re):   # 모든 row가 정상적으로 인덱싱되었다면\n",
    "    print('user_id column indexing OK!!')\n",
    "    movie_re['user_id'] = temp_user_data   # data['user_id']을 인덱싱된 Series로 교체해 줍니다. \n",
    "else:\n",
    "    print('user_id column indexing Fail!!')\n",
    "\n",
    "# artist_to_idx을 통해 artist 컬럼도 동일한 방식으로 인덱싱해 줍니다. \n",
    "temp_movie_data = movie_re['title'].map(movie_to_idx.get).dropna()\n",
    "if len(temp_movie_data) == len(movie_re):\n",
    "    print('movie column indexing OK!!')\n",
    "    movie_re['title'] = temp_movie_data\n",
    "else:\n",
    "    print('movie column indexing Fail!!')\n",
    "\n",
    "movie_re"
   ]
  },
  {
   "cell_type": "markdown",
   "id": "482360dc",
   "metadata": {},
   "source": [
    "# 3. CSR matrix 구성"
   ]
  },
  {
   "cell_type": "code",
   "execution_count": 38,
   "id": "728cc37f",
   "metadata": {},
   "outputs": [
    {
     "data": {
      "text/plain": [
       "<6040x3628 sparse matrix of type '<class 'numpy.int64'>'\n",
       "\twith 836483 stored elements in Compressed Sparse Row format>"
      ]
     },
     "execution_count": 38,
     "metadata": {},
     "output_type": "execute_result"
    }
   ],
   "source": [
    "# 실습 위에 설명보고 이해해서 만들어보기\n",
    "from scipy.sparse import csr_matrix\n",
    "\n",
    "num_user = movie_re['user_id'].nunique()\n",
    "num_movie = movie_re['title'].nunique()\n",
    "\n",
    "csr_data = csr_matrix((movie_re.counts, (movie_re.user_id, movie_re.title)), shape= (num_user, num_movie))\n",
    "csr_data"
   ]
  },
  {
   "cell_type": "markdown",
   "id": "1a2e9b99",
   "metadata": {},
   "source": [
    "# 4. 모델 구성 및 훈련"
   ]
  },
  {
   "cell_type": "code",
   "execution_count": 39,
   "id": "2ec4c9f0",
   "metadata": {},
   "outputs": [],
   "source": [
    "from implicit.als import AlternatingLeastSquares\n",
    "import os\n",
    "import numpy as np\n",
    "\n",
    "# implicit 라이브러리에서 권장하고 있는 부분입니다. 학습 내용과는 무관합니다.\n",
    "os.environ['OPENBLAS_NUM_THREADS']='1'\n",
    "os.environ['KMP_DUPLICATE_LIB_OK']='True'\n",
    "os.environ['MKL_NUM_THREADS']='1' "
   ]
  },
  {
   "cell_type": "code",
   "execution_count": 40,
   "id": "a3220b36",
   "metadata": {},
   "outputs": [],
   "source": [
    "# Implicit AlternatingLeastSquares 모델의 선언\n",
    "als_model = AlternatingLeastSquares(factors=100, regularization=0.01, use_gpu=False, iterations=15, dtype=np.float32)"
   ]
  },
  {
   "cell_type": "code",
   "execution_count": 41,
   "id": "ac5f37ee",
   "metadata": {},
   "outputs": [
    {
     "data": {
      "text/plain": [
       "<3628x6040 sparse matrix of type '<class 'numpy.int64'>'\n",
       "\twith 836483 stored elements in Compressed Sparse Column format>"
      ]
     },
     "execution_count": 41,
     "metadata": {},
     "output_type": "execute_result"
    }
   ],
   "source": [
    "# als 모델은 input으로 (item X user 꼴의 matrix를 받기 때문에 Transpose해줍니다.)\n",
    "csr_data_transpose = csr_data.T\n",
    "csr_data_transpose"
   ]
  },
  {
   "cell_type": "code",
   "execution_count": 42,
   "id": "2b55acaa",
   "metadata": {},
   "outputs": [
    {
     "data": {
      "application/vnd.jupyter.widget-view+json": {
       "model_id": "2e1c82eda1374d7aa03014e0c442dc4c",
       "version_major": 2,
       "version_minor": 0
      },
      "text/plain": [
       "  0%|          | 0/15 [00:00<?, ?it/s]"
      ]
     },
     "metadata": {},
     "output_type": "display_data"
    }
   ],
   "source": [
    "als_model.fit(csr_data_transpose)"
   ]
  },
  {
   "cell_type": "code",
   "execution_count": 43,
   "id": "54e2d388",
   "metadata": {},
   "outputs": [],
   "source": [
    "mini,little = user_to_idx['mini'], movie_to_idx['little mermaid, the (1989)']\n",
    "mini_vector, little_vector = als_model.user_factors[mini], als_model.item_factors[little]\n"
   ]
  },
  {
   "cell_type": "code",
   "execution_count": 44,
   "id": "58c2cc5a",
   "metadata": {},
   "outputs": [
    {
     "data": {
      "text/plain": [
       "array([ 0.05941531,  0.3927876 , -0.7892087 , -0.39201802,  0.30669424,\n",
       "        0.3469995 , -0.661698  , -0.08668757,  0.17617789, -0.7970931 ,\n",
       "        0.43003437, -0.02096749,  0.73633295, -0.6126183 , -0.03529037,\n",
       "       -0.47127596, -0.44982365,  0.38496354,  0.17879497, -0.26309142,\n",
       "        0.26808468,  0.80263585,  0.3571348 ,  0.39076996, -0.4422805 ,\n",
       "       -0.33206955, -0.20451064, -0.33408338, -0.2505414 ,  0.0953524 ,\n",
       "        0.03944165, -0.07923462, -0.5444406 , -0.28951848, -0.08039405,\n",
       "        0.2260113 ,  0.08574587,  0.09871911,  0.43097192, -0.44676176,\n",
       "       -0.19780552, -0.05268591, -0.899637  , -0.26380962, -0.5371994 ,\n",
       "        0.0861238 , -1.0113691 , -0.30600497,  0.3219601 ,  0.04753207,\n",
       "        0.41386062,  0.80516446, -0.03861525, -0.35222915,  0.16476952,\n",
       "       -0.26375854, -0.19334699,  0.82817197, -0.04441024,  0.07177193,\n",
       "        0.17763463,  0.45019257,  0.86284137, -0.25514773,  0.7337848 ,\n",
       "       -0.5854809 , -1.0010043 ,  0.20344597,  0.46449828, -0.5077674 ,\n",
       "        0.4849391 , -0.51842844,  0.15697016,  0.02058242, -0.4360262 ,\n",
       "       -0.57784116,  0.57540977,  0.09183273,  0.27832744,  0.8035322 ,\n",
       "        0.21425867,  0.05349209,  0.19748195, -0.72189987,  0.42813256,\n",
       "        1.120741  ,  0.5711214 , -0.01131511, -0.12157195, -0.02952216,\n",
       "       -0.02942468, -0.5947529 , -0.37037995, -0.546642  ,  0.31999347,\n",
       "        0.74381214,  0.6808336 ,  0.71425927,  0.54140973,  0.49581373],\n",
       "      dtype=float32)"
      ]
     },
     "execution_count": 44,
     "metadata": {},
     "output_type": "execute_result"
    }
   ],
   "source": [
    "mini_vector"
   ]
  },
  {
   "cell_type": "code",
   "execution_count": 45,
   "id": "1a1852bc",
   "metadata": {},
   "outputs": [
    {
     "data": {
      "text/plain": [
       "array([ 1.96269546e-02,  2.20035645e-03, -4.03903367e-04, -1.51653616e-02,\n",
       "        6.75128493e-03,  1.81697458e-02, -1.75730735e-02,  3.55953886e-03,\n",
       "       -2.19648145e-02,  7.27814404e-05,  1.88286602e-02,  3.12026311e-03,\n",
       "       -7.10651278e-04, -7.60561367e-03,  7.95748457e-03,  8.45090300e-03,\n",
       "        8.66291055e-04,  2.43354589e-02, -6.87269261e-03,  3.01815034e-03,\n",
       "       -1.21926516e-03,  2.63998322e-02,  1.26457531e-02,  1.03314379e-02,\n",
       "        5.87659655e-03,  3.51014221e-03,  2.50312369e-02, -5.34626050e-03,\n",
       "       -2.60047223e-02,  2.50285435e-02,  9.32532921e-03,  2.27770712e-02,\n",
       "        1.66501768e-03, -5.28210541e-03, -2.25814129e-03,  1.38743948e-02,\n",
       "        2.45633330e-02,  1.02917198e-02,  9.35898349e-03, -2.39450708e-02,\n",
       "       -1.62011001e-03,  3.89200356e-03,  7.63193285e-03,  1.07405055e-02,\n",
       "       -1.26138199e-02, -9.47808009e-03, -2.54082331e-03, -1.33979488e-02,\n",
       "       -1.04280394e-02,  9.29781701e-03,  1.67873818e-02,  1.12460069e-02,\n",
       "       -2.07052995e-02, -1.03158597e-02,  2.29435097e-02, -8.54416285e-03,\n",
       "        2.07306817e-02,  1.44316033e-02, -1.63738318e-02,  5.52935898e-03,\n",
       "        2.44218553e-03, -1.09774452e-02,  1.43629219e-02,  3.15452814e-02,\n",
       "        2.29572989e-02, -3.20718139e-02, -1.17785307e-02,  1.32812560e-02,\n",
       "       -3.78557760e-03,  6.52734004e-03,  8.69613048e-03, -1.42054344e-02,\n",
       "        1.47444988e-02,  1.51844928e-02,  1.43623091e-02, -2.25258265e-02,\n",
       "        2.53483858e-02,  4.74402029e-03,  6.62239781e-03,  2.80909203e-02,\n",
       "        3.11373845e-02,  2.34901123e-02,  1.26329251e-04, -1.14458883e-02,\n",
       "        1.65526457e-02,  2.10328568e-02,  1.94941256e-02, -2.00264193e-02,\n",
       "        8.41143727e-03,  2.59562698e-03, -8.93547386e-03, -2.21884786e-03,\n",
       "        1.28928162e-02, -1.25433262e-02,  4.42668833e-02,  1.77124497e-02,\n",
       "       -3.51053406e-03,  7.88944308e-03,  5.62981609e-03,  7.64524084e-05],\n",
       "      dtype=float32)"
      ]
     },
     "execution_count": 45,
     "metadata": {},
     "output_type": "execute_result"
    }
   ],
   "source": [
    "little_vector"
   ]
  },
  {
   "cell_type": "code",
   "execution_count": 46,
   "id": "89b77f22",
   "metadata": {},
   "outputs": [
    {
     "data": {
      "text/plain": [
       "0.32591364"
      ]
     },
     "execution_count": 46,
     "metadata": {},
     "output_type": "execute_result"
    }
   ],
   "source": [
    "#user와 name 내적하는 코드\n",
    "np.dot(mini_vector, little_vector)"
   ]
  },
  {
   "cell_type": "markdown",
   "id": "1a376a8f",
   "metadata": {},
   "source": [
    "내적 수치가 생각보다 많이 적게 나왔다."
   ]
  },
  {
   "cell_type": "code",
   "execution_count": 47,
   "id": "d5970708",
   "metadata": {},
   "outputs": [
    {
     "data": {
      "text/plain": [
       "0.0010944406"
      ]
     },
     "execution_count": 47,
     "metadata": {},
     "output_type": "execute_result"
    }
   ],
   "source": [
    "another = movie_to_idx['one little indian (1973)']\n",
    "another_vector = als_model.item_factors[another]\n",
    "np.dot(mini_vector, another_vector)"
   ]
  },
  {
   "cell_type": "code",
   "execution_count": 48,
   "id": "9aed5ff1",
   "metadata": {},
   "outputs": [],
   "source": [
    "als_model2 = AlternatingLeastSquares(factors=100, regularization=0.01, use_gpu=False, iterations=100, dtype=np.float32)"
   ]
  },
  {
   "cell_type": "code",
   "execution_count": 49,
   "id": "32842ff9",
   "metadata": {},
   "outputs": [
    {
     "data": {
      "application/vnd.jupyter.widget-view+json": {
       "model_id": "da89ee7591084822a43ec25afb0e38a7",
       "version_major": 2,
       "version_minor": 0
      },
      "text/plain": [
       "  0%|          | 0/100 [00:00<?, ?it/s]"
      ]
     },
     "metadata": {},
     "output_type": "display_data"
    }
   ],
   "source": [
    "als_model2.fit(csr_data_transpose)"
   ]
  },
  {
   "cell_type": "code",
   "execution_count": 50,
   "id": "94bb0a30",
   "metadata": {},
   "outputs": [],
   "source": [
    "mini2,little2 = user_to_idx['mini'], movie_to_idx['little mermaid, the (1989)']\n",
    "mini_vector2, little_vector2 = als_model2.user_factors[mini2], als_model2.item_factors[little2]"
   ]
  },
  {
   "cell_type": "code",
   "execution_count": 51,
   "id": "df028284",
   "metadata": {},
   "outputs": [
    {
     "data": {
      "text/plain": [
       "0.3106021"
      ]
     },
     "execution_count": 51,
     "metadata": {},
     "output_type": "execute_result"
    }
   ],
   "source": [
    "np.dot(mini_vector2, little_vector2)"
   ]
  },
  {
   "cell_type": "code",
   "execution_count": 52,
   "id": "c9e57f20",
   "metadata": {},
   "outputs": [
    {
     "data": {
      "text/plain": [
       "-0.0011914234"
      ]
     },
     "execution_count": 52,
     "metadata": {},
     "output_type": "execute_result"
    }
   ],
   "source": [
    "another = movie_to_idx['one little indian (1973)']\n",
    "another_vector2 = als_model2.item_factors[another]\n",
    "np.dot(mini_vector2, another_vector2)"
   ]
  },
  {
   "cell_type": "markdown",
   "id": "f69005dc",
   "metadata": {},
   "source": [
    "# 5. 비슷한 영화 찾기"
   ]
  },
  {
   "cell_type": "code",
   "execution_count": 53,
   "id": "841113fe",
   "metadata": {},
   "outputs": [
    {
     "data": {
      "text/plain": [
       "[(40, 1.0000001),\n",
       " (50, 0.79849184),\n",
       " (322, 0.61320984),\n",
       " (33, 0.58446527),\n",
       " (4, 0.56920904),\n",
       " (110, 0.5153722),\n",
       " (330, 0.45393234),\n",
       " (10, 0.41389838),\n",
       " (20, 0.40899098),\n",
       " (255, 0.3773371),\n",
       " (277, 0.3478151),\n",
       " (34, 0.34670112),\n",
       " (126, 0.34325024),\n",
       " (32, 0.3341535),\n",
       " (475, 0.32820478)]"
      ]
     },
     "execution_count": 53,
     "metadata": {},
     "output_type": "execute_result"
    }
   ],
   "source": [
    "favorite_movie = 'toy story (1995)'\n",
    "movie_id = movie_to_idx[favorite_movie]\n",
    "similar_movie = als_model.similar_items(movie_id, N=15)\n",
    "similar_movie"
   ]
  },
  {
   "cell_type": "code",
   "execution_count": 54,
   "id": "83da95ad",
   "metadata": {},
   "outputs": [
    {
     "data": {
      "text/plain": [
       "['toy story (1995)',\n",
       " 'toy story 2 (1999)',\n",
       " 'babe (1995)',\n",
       " 'aladdin (1992)',\n",
       " \"bug's life, a (1998)\",\n",
       " 'groundhog day (1993)',\n",
       " 'lion king, the (1994)',\n",
       " 'beauty and the beast (1991)',\n",
       " 'pleasantville (1998)',\n",
       " \"there's something about mary (1998)\",\n",
       " 'babe: pig in the city (1998)',\n",
       " 'mulan (1998)',\n",
       " 'shakespeare in love (1998)',\n",
       " 'hercules (1997)',\n",
       " 'my cousin vinny (1992)']"
      ]
     },
     "execution_count": 54,
     "metadata": {},
     "output_type": "execute_result"
    }
   ],
   "source": [
    "idx_to_movie = {v:k for k,v in movie_to_idx.items()}\n",
    "[idx_to_movie[i[0]] for i in similar_movie]"
   ]
  },
  {
   "cell_type": "code",
   "execution_count": 55,
   "id": "47f98600",
   "metadata": {},
   "outputs": [],
   "source": [
    "def get_similar_movie(movie_name: str):\n",
    "    movie_id = movie_to_idx[movie_name]\n",
    "    similar_movie = als_model.similar_items(movie_id)\n",
    "    similar_movie = [idx_to_movie[i[0]] for i in similar_movie]\n",
    "    return similar_movie"
   ]
  },
  {
   "cell_type": "code",
   "execution_count": 56,
   "id": "3bc6ecda",
   "metadata": {},
   "outputs": [
    {
     "data": {
      "text/plain": [
       "['mulan (1998)',\n",
       " 'tarzan (1999)',\n",
       " 'hunchback of notre dame, the (1996)',\n",
       " 'antz (1998)',\n",
       " 'hercules (1997)',\n",
       " 'rescuers down under, the (1990)',\n",
       " 'anastasia (1997)',\n",
       " 'lion king, the (1994)',\n",
       " 'pocahontas (1995)',\n",
       " 'balto (1995)']"
      ]
     },
     "execution_count": 56,
     "metadata": {},
     "output_type": "execute_result"
    }
   ],
   "source": [
    "get_similar_movie('mulan (1998)')"
   ]
  },
  {
   "cell_type": "code",
   "execution_count": 57,
   "id": "17c48b41",
   "metadata": {},
   "outputs": [],
   "source": [
    "def get_similar_movie2(movie_name: str):\n",
    "    movie_id = movie_to_idx[movie_name]\n",
    "    similar_movie = als_model2.similar_items(movie_id)\n",
    "    similar_movie = [idx_to_movie[i[0]] for i in similar_movie]\n",
    "    return similar_movie"
   ]
  },
  {
   "cell_type": "code",
   "execution_count": 58,
   "id": "39eca8a6",
   "metadata": {},
   "outputs": [
    {
     "data": {
      "text/plain": [
       "['mulan (1998)',\n",
       " 'tarzan (1999)',\n",
       " 'antz (1998)',\n",
       " 'hunchback of notre dame, the (1996)',\n",
       " 'hercules (1997)',\n",
       " 'anastasia (1997)',\n",
       " 'rescuers down under, the (1990)',\n",
       " 'lion king, the (1994)',\n",
       " 'balto (1995)',\n",
       " 'aladdin and the king of thieves (1996)']"
      ]
     },
     "execution_count": 58,
     "metadata": {},
     "output_type": "execute_result"
    }
   ],
   "source": [
    "get_similar_movie2('mulan (1998)')"
   ]
  },
  {
   "cell_type": "markdown",
   "id": "9d17be99",
   "metadata": {},
   "source": [
    "intertation을 다르게 한 두 모델의 비슷한 영화 찾는 것이 다른 것을 볼 수 있다"
   ]
  },
  {
   "cell_type": "markdown",
   "id": "fca00497",
   "metadata": {},
   "source": [
    "# 6. 유저에게 영화 추천하기"
   ]
  },
  {
   "cell_type": "code",
   "execution_count": 59,
   "id": "128d94b9",
   "metadata": {},
   "outputs": [
    {
     "data": {
      "text/plain": [
       "[(50, 0.41778946),\n",
       " (33, 0.3860776),\n",
       " (124, 0.3662512),\n",
       " (322, 0.3339877),\n",
       " (4, 0.3293299),\n",
       " (107, 0.29298323),\n",
       " (10, 0.29239398),\n",
       " (330, 0.2657994),\n",
       " (200, 0.26459154),\n",
       " (22, 0.26091754),\n",
       " (175, 0.25606117),\n",
       " (126, 0.23739219),\n",
       " (317, 0.23291013),\n",
       " (141, 0.22678405),\n",
       " (62, 0.21142104),\n",
       " (87, 0.20750043),\n",
       " (547, 0.2060605),\n",
       " (9, 0.19341266),\n",
       " (45, 0.19082755),\n",
       " (117, 0.18901774)]"
      ]
     },
     "execution_count": 59,
     "metadata": {},
     "output_type": "execute_result"
    }
   ],
   "source": [
    "user = user_to_idx['mini']\n",
    "# recommend에서는 user*item CSR Matrix를 받습니다.\n",
    "movie_recommended = als_model.recommend(user, csr_data, N=20, filter_already_liked_items=True)\n",
    "movie_recommended"
   ]
  },
  {
   "cell_type": "code",
   "execution_count": 60,
   "id": "97b2a142",
   "metadata": {},
   "outputs": [
    {
     "data": {
      "text/plain": [
       "['toy story 2 (1999)',\n",
       " 'aladdin (1992)',\n",
       " 'matrix, the (1999)',\n",
       " 'babe (1995)',\n",
       " \"bug's life, a (1998)\",\n",
       " 'jurassic park (1993)',\n",
       " 'beauty and the beast (1991)',\n",
       " 'lion king, the (1994)',\n",
       " 'terminator, the (1984)',\n",
       " 'back to the future (1985)',\n",
       " 'men in black (1997)',\n",
       " 'shakespeare in love (1998)',\n",
       " 'twelve monkeys (1995)',\n",
       " 'fugitive, the (1993)',\n",
       " 'total recall (1990)',\n",
       " 'braveheart (1995)',\n",
       " 'lady and the tramp (1955)',\n",
       " 'wizard of oz, the (1939)',\n",
       " 'mary poppins (1964)',\n",
       " 'star wars: episode v - the empire strikes back (1980)']"
      ]
     },
     "execution_count": 60,
     "metadata": {},
     "output_type": "execute_result"
    }
   ],
   "source": [
    "[idx_to_movie[i[0]] for i in movie_recommended]"
   ]
  },
  {
   "cell_type": "markdown",
   "id": "9844a1c1",
   "metadata": {},
   "source": [
    "- explain으로 추천 기여한 정도 확인하기"
   ]
  },
  {
   "cell_type": "code",
   "execution_count": 61,
   "id": "f6c94e64",
   "metadata": {},
   "outputs": [],
   "source": [
    "aladdin  = movie_to_idx['aladdin (1992)']\n",
    "explain = als_model.explain(user, csr_data, itemid=aladdin)"
   ]
  },
  {
   "cell_type": "code",
   "execution_count": 62,
   "id": "3cf30de0",
   "metadata": {},
   "outputs": [
    {
     "data": {
      "text/plain": [
       "[('toy story (1995)', 0.18506658348104105),\n",
       " ('little mermaid, the (1989)', 0.15578983831679477),\n",
       " ('e.t. the extra-terrestrial (1982)', 0.02234649989564951),\n",
       " ('terminator 2: judgment day (1991)', 0.015818263713844365),\n",
       " ('for ever mozart (1996)', 0.0015375544215073048)]"
      ]
     },
     "execution_count": 62,
     "metadata": {},
     "output_type": "execute_result"
    }
   ],
   "source": [
    "[(idx_to_movie[i[0]], i[1]) for i in explain[1]]"
   ]
  },
  {
   "cell_type": "code",
   "execution_count": 63,
   "id": "94a19972",
   "metadata": {},
   "outputs": [],
   "source": [
    "jurassic  = movie_to_idx['jurassic park (1993)']\n",
    "explain2 = als_model.explain(user, csr_data, itemid=jurassic)"
   ]
  },
  {
   "cell_type": "code",
   "execution_count": 64,
   "id": "ebfb6fd3",
   "metadata": {},
   "outputs": [
    {
     "data": {
      "text/plain": [
       "[('terminator 2: judgment day (1991)', 0.2941737613957205),\n",
       " ('little mermaid, the (1989)', 0.009682425474722282),\n",
       " ('for ever mozart (1996)', 0.0009134455126510765),\n",
       " ('e.t. the extra-terrestrial (1982)', 0.0004676389123955759),\n",
       " ('toy story (1995)', -0.017140351388566913)]"
      ]
     },
     "execution_count": 64,
     "metadata": {},
     "output_type": "execute_result"
    }
   ],
   "source": [
    "[(idx_to_movie[i[0]], i[1]) for i in explain2[1]]"
   ]
  },
  {
   "cell_type": "code",
   "execution_count": 65,
   "id": "14512ad0",
   "metadata": {},
   "outputs": [],
   "source": [
    "movie_recommended2 = als_model2.recommend(user, csr_data, N=20, filter_already_liked_items=True)"
   ]
  },
  {
   "cell_type": "code",
   "execution_count": 66,
   "id": "ac828fe6",
   "metadata": {},
   "outputs": [
    {
     "data": {
      "text/plain": [
       "['aladdin (1992)',\n",
       " 'toy story 2 (1999)',\n",
       " 'matrix, the (1999)',\n",
       " 'beauty and the beast (1991)',\n",
       " 'lion king, the (1994)',\n",
       " \"bug's life, a (1998)\",\n",
       " 'babe (1995)',\n",
       " 'back to the future (1985)',\n",
       " 'jurassic park (1993)',\n",
       " 'terminator, the (1984)',\n",
       " 'men in black (1997)',\n",
       " 'fugitive, the (1993)',\n",
       " 'nightmare before christmas, the (1993)',\n",
       " 'twelve monkeys (1995)',\n",
       " 'total recall (1990)',\n",
       " 'star wars: episode v - the empire strikes back (1980)',\n",
       " 'groundhog day (1993)',\n",
       " 'mary poppins (1964)',\n",
       " 'shakespeare in love (1998)',\n",
       " 'wizard of oz, the (1939)']"
      ]
     },
     "execution_count": 66,
     "metadata": {},
     "output_type": "execute_result"
    }
   ],
   "source": [
    "[idx_to_movie[i[0]] for i in movie_recommended2]"
   ]
  },
  {
   "cell_type": "code",
   "execution_count": 67,
   "id": "da13c04b",
   "metadata": {},
   "outputs": [],
   "source": [
    "matrix  = movie_to_idx['matrix, the (1999)']\n",
    "explain3 = als_model.explain(user, csr_data, itemid=matrix)"
   ]
  },
  {
   "cell_type": "code",
   "execution_count": 68,
   "id": "c9ac961c",
   "metadata": {},
   "outputs": [
    {
     "data": {
      "text/plain": [
       "[('terminator 2: judgment day (1991)', 0.2850671872759224),\n",
       " ('toy story (1995)', 0.0532173120436792),\n",
       " ('e.t. the extra-terrestrial (1982)', 0.03479461432467352),\n",
       " ('for ever mozart (1996)', 0.000754075930084838),\n",
       " ('little mermaid, the (1989)', -0.012919147267480316)]"
      ]
     },
     "execution_count": 68,
     "metadata": {},
     "output_type": "execute_result"
    }
   ],
   "source": [
    "[(idx_to_movie[i[0]], i[1]) for i in explain3[1]]"
   ]
  }
 ],
 "metadata": {
  "kernelspec": {
   "display_name": "Python 3 (ipykernel)",
   "language": "python",
   "name": "python3"
  },
  "language_info": {
   "codemirror_mode": {
    "name": "ipython",
    "version": 3
   },
   "file_extension": ".py",
   "mimetype": "text/x-python",
   "name": "python",
   "nbconvert_exporter": "python",
   "pygments_lexer": "ipython3",
   "version": "3.9.7"
  }
 },
 "nbformat": 4,
 "nbformat_minor": 5
}
