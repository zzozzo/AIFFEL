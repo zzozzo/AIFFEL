{
 "cells": [
  {
   "cell_type": "markdown",
   "id": "a37ae6c3",
   "metadata": {},
   "source": []
  },
  {
   "cell_type": "markdown",
   "id": "74fb52fa",
   "metadata": {},
   "source": [
    "# Movielens 영화추천실습   \n",
    "- 별점 데이터는 explicit data이지만, implicit data로 간주하고 테스트해 볼 수 있음   \n",
    "- 별점 = 시청횟수로 해석하기   \n",
    "- 별점 3점 미만 = 선호하지 않는 영화로 가정  "
   ]
  },
  {
   "cell_type": "markdown",
   "id": "c996245d",
   "metadata": {},
   "source": [
    "# 1. 데이터 준비 및 전처리"
   ]
  },
  {
   "cell_type": "code",
   "execution_count": 19,
   "id": "3743bc70",
   "metadata": {},
   "outputs": [
    {
     "data": {
      "text/html": [
       "<div>\n",
       "<style scoped>\n",
       "    .dataframe tbody tr th:only-of-type {\n",
       "        vertical-align: middle;\n",
       "    }\n",
       "\n",
       "    .dataframe tbody tr th {\n",
       "        vertical-align: top;\n",
       "    }\n",
       "\n",
       "    .dataframe thead th {\n",
       "        text-align: right;\n",
       "    }\n",
       "</style>\n",
       "<table border=\"1\" class=\"dataframe\">\n",
       "  <thead>\n",
       "    <tr style=\"text-align: right;\">\n",
       "      <th></th>\n",
       "      <th>user_id</th>\n",
       "      <th>movie_id</th>\n",
       "      <th>ratings</th>\n",
       "      <th>timestamp</th>\n",
       "    </tr>\n",
       "  </thead>\n",
       "  <tbody>\n",
       "    <tr>\n",
       "      <th>0</th>\n",
       "      <td>1</td>\n",
       "      <td>1193</td>\n",
       "      <td>5</td>\n",
       "      <td>978300760</td>\n",
       "    </tr>\n",
       "    <tr>\n",
       "      <th>1</th>\n",
       "      <td>1</td>\n",
       "      <td>661</td>\n",
       "      <td>3</td>\n",
       "      <td>978302109</td>\n",
       "    </tr>\n",
       "    <tr>\n",
       "      <th>2</th>\n",
       "      <td>1</td>\n",
       "      <td>914</td>\n",
       "      <td>3</td>\n",
       "      <td>978301968</td>\n",
       "    </tr>\n",
       "    <tr>\n",
       "      <th>3</th>\n",
       "      <td>1</td>\n",
       "      <td>3408</td>\n",
       "      <td>4</td>\n",
       "      <td>978300275</td>\n",
       "    </tr>\n",
       "    <tr>\n",
       "      <th>4</th>\n",
       "      <td>1</td>\n",
       "      <td>2355</td>\n",
       "      <td>5</td>\n",
       "      <td>978824291</td>\n",
       "    </tr>\n",
       "  </tbody>\n",
       "</table>\n",
       "</div>"
      ],
      "text/plain": [
       "   user_id  movie_id  ratings  timestamp\n",
       "0        1      1193        5  978300760\n",
       "1        1       661        3  978302109\n",
       "2        1       914        3  978301968\n",
       "3        1      3408        4  978300275\n",
       "4        1      2355        5  978824291"
      ]
     },
     "execution_count": 19,
     "metadata": {},
     "output_type": "execute_result"
    }
   ],
   "source": [
    "import pandas as pd\n",
    "import os\n",
    "rating_file_path=os.getenv('HOME') + '/aiffel/recommendata_iu/data/ml-1m/ratings.dat'\n",
    "ratings_cols = ['user_id', 'movie_id', 'ratings', 'timestamp']\n",
    "ratings = pd.read_csv(rating_file_path, sep='::', names=ratings_cols, engine='python', encoding = \"ISO-8859-1\")\n",
    "orginal_data_size = len(ratings)\n",
    "ratings.head()"
   ]
  },
  {
   "cell_type": "code",
   "execution_count": 20,
   "id": "b4d961ce",
   "metadata": {},
   "outputs": [
    {
     "name": "stdout",
     "output_type": "stream",
     "text": [
      "orginal_data_size: 1000209, filtered_data_size: 836478\n",
      "Ratio of Remaining Data is 83.63%\n"
     ]
    }
   ],
   "source": [
    "# 3점 이상만 남깁니다.\n",
    "ratings = ratings[ratings['ratings']>=3]\n",
    "filtered_data_size = len(ratings)\n",
    "\n",
    "print(f'orginal_data_size: {orginal_data_size}, filtered_data_size: {filtered_data_size}')\n",
    "print(f'Ratio of Remaining Data is {filtered_data_size / orginal_data_size:.2%}')"
   ]
  },
  {
   "cell_type": "markdown",
   "id": "1c4e5889",
   "metadata": {},
   "source": [
    "3점 이상만 남긴 데이터 수 = 1000209\n",
    "전체 데이터 중 약 84%가 남은 것을 볼 수 있다"
   ]
  },
  {
   "cell_type": "code",
   "execution_count": 21,
   "id": "83ea7dfc",
   "metadata": {},
   "outputs": [],
   "source": [
    "# ratings 컬럼의 이름을 counts로 바꿉니다.\n",
    "ratings.rename(columns={'ratings':'counts'}, inplace=True)"
   ]
  },
  {
   "cell_type": "code",
   "execution_count": 22,
   "id": "1fc8d989",
   "metadata": {},
   "outputs": [
    {
     "data": {
      "text/plain": [
       "0          5\n",
       "1          3\n",
       "2          3\n",
       "3          4\n",
       "4          5\n",
       "          ..\n",
       "1000203    3\n",
       "1000205    5\n",
       "1000206    5\n",
       "1000207    4\n",
       "1000208    4\n",
       "Name: counts, Length: 836478, dtype: int64"
      ]
     },
     "execution_count": 22,
     "metadata": {},
     "output_type": "execute_result"
    }
   ],
   "source": [
    "ratings['counts']"
   ]
  },
  {
   "cell_type": "code",
   "execution_count": 23,
   "id": "76884b51",
   "metadata": {},
   "outputs": [
    {
     "data": {
      "text/html": [
       "<div>\n",
       "<style scoped>\n",
       "    .dataframe tbody tr th:only-of-type {\n",
       "        vertical-align: middle;\n",
       "    }\n",
       "\n",
       "    .dataframe tbody tr th {\n",
       "        vertical-align: top;\n",
       "    }\n",
       "\n",
       "    .dataframe thead th {\n",
       "        text-align: right;\n",
       "    }\n",
       "</style>\n",
       "<table border=\"1\" class=\"dataframe\">\n",
       "  <thead>\n",
       "    <tr style=\"text-align: right;\">\n",
       "      <th></th>\n",
       "      <th>movie_id</th>\n",
       "      <th>title</th>\n",
       "      <th>genre</th>\n",
       "    </tr>\n",
       "  </thead>\n",
       "  <tbody>\n",
       "    <tr>\n",
       "      <th>0</th>\n",
       "      <td>1</td>\n",
       "      <td>Toy Story (1995)</td>\n",
       "      <td>Animation|Children's|Comedy</td>\n",
       "    </tr>\n",
       "    <tr>\n",
       "      <th>1</th>\n",
       "      <td>2</td>\n",
       "      <td>Jumanji (1995)</td>\n",
       "      <td>Adventure|Children's|Fantasy</td>\n",
       "    </tr>\n",
       "    <tr>\n",
       "      <th>2</th>\n",
       "      <td>3</td>\n",
       "      <td>Grumpier Old Men (1995)</td>\n",
       "      <td>Comedy|Romance</td>\n",
       "    </tr>\n",
       "    <tr>\n",
       "      <th>3</th>\n",
       "      <td>4</td>\n",
       "      <td>Waiting to Exhale (1995)</td>\n",
       "      <td>Comedy|Drama</td>\n",
       "    </tr>\n",
       "    <tr>\n",
       "      <th>4</th>\n",
       "      <td>5</td>\n",
       "      <td>Father of the Bride Part II (1995)</td>\n",
       "      <td>Comedy</td>\n",
       "    </tr>\n",
       "  </tbody>\n",
       "</table>\n",
       "</div>"
      ],
      "text/plain": [
       "   movie_id                               title                         genre\n",
       "0         1                    Toy Story (1995)   Animation|Children's|Comedy\n",
       "1         2                      Jumanji (1995)  Adventure|Children's|Fantasy\n",
       "2         3             Grumpier Old Men (1995)                Comedy|Romance\n",
       "3         4            Waiting to Exhale (1995)                  Comedy|Drama\n",
       "4         5  Father of the Bride Part II (1995)                        Comedy"
      ]
     },
     "execution_count": 23,
     "metadata": {},
     "output_type": "execute_result"
    }
   ],
   "source": [
    "# 영화 제목을 보기 위해 메타 데이터를 읽어옵니다.\n",
    "movie_file_path=os.getenv('HOME') + '/aiffel/recommendata_iu/data/ml-1m/movies.dat'\n",
    "cols = ['movie_id', 'title', 'genre'] \n",
    "movies = pd.read_csv(movie_file_path, sep='::', names=cols, engine='python', encoding='ISO-8859-1')\n",
    "movies.head()"
   ]
  },
  {
   "cell_type": "code",
   "execution_count": 24,
   "id": "4ca72336",
   "metadata": {},
   "outputs": [],
   "source": [
    "movies[\"title\" ] = movies[\"title\"].str.lower()"
   ]
  },
  {
   "cell_type": "markdown",
   "id": "b9a15d54",
   "metadata": {},
   "source": [
    "영화 제목을 추가하기 위해 두 데이터 프레임 병합하기"
   ]
  },
  {
   "cell_type": "code",
   "execution_count": 25,
   "id": "84982270",
   "metadata": {},
   "outputs": [
    {
     "data": {
      "text/html": [
       "<div>\n",
       "<style scoped>\n",
       "    .dataframe tbody tr th:only-of-type {\n",
       "        vertical-align: middle;\n",
       "    }\n",
       "\n",
       "    .dataframe tbody tr th {\n",
       "        vertical-align: top;\n",
       "    }\n",
       "\n",
       "    .dataframe thead th {\n",
       "        text-align: right;\n",
       "    }\n",
       "</style>\n",
       "<table border=\"1\" class=\"dataframe\">\n",
       "  <thead>\n",
       "    <tr style=\"text-align: right;\">\n",
       "      <th></th>\n",
       "      <th>user_id</th>\n",
       "      <th>movie_id</th>\n",
       "      <th>counts</th>\n",
       "      <th>timestamp</th>\n",
       "      <th>title</th>\n",
       "      <th>genre</th>\n",
       "    </tr>\n",
       "  </thead>\n",
       "  <tbody>\n",
       "    <tr>\n",
       "      <th>0</th>\n",
       "      <td>1</td>\n",
       "      <td>1193</td>\n",
       "      <td>5</td>\n",
       "      <td>978300760</td>\n",
       "      <td>one flew over the cuckoo's nest (1975)</td>\n",
       "      <td>Drama</td>\n",
       "    </tr>\n",
       "    <tr>\n",
       "      <th>1</th>\n",
       "      <td>2</td>\n",
       "      <td>1193</td>\n",
       "      <td>5</td>\n",
       "      <td>978298413</td>\n",
       "      <td>one flew over the cuckoo's nest (1975)</td>\n",
       "      <td>Drama</td>\n",
       "    </tr>\n",
       "    <tr>\n",
       "      <th>2</th>\n",
       "      <td>12</td>\n",
       "      <td>1193</td>\n",
       "      <td>4</td>\n",
       "      <td>978220179</td>\n",
       "      <td>one flew over the cuckoo's nest (1975)</td>\n",
       "      <td>Drama</td>\n",
       "    </tr>\n",
       "    <tr>\n",
       "      <th>3</th>\n",
       "      <td>15</td>\n",
       "      <td>1193</td>\n",
       "      <td>4</td>\n",
       "      <td>978199279</td>\n",
       "      <td>one flew over the cuckoo's nest (1975)</td>\n",
       "      <td>Drama</td>\n",
       "    </tr>\n",
       "    <tr>\n",
       "      <th>4</th>\n",
       "      <td>17</td>\n",
       "      <td>1193</td>\n",
       "      <td>5</td>\n",
       "      <td>978158471</td>\n",
       "      <td>one flew over the cuckoo's nest (1975)</td>\n",
       "      <td>Drama</td>\n",
       "    </tr>\n",
       "  </tbody>\n",
       "</table>\n",
       "</div>"
      ],
      "text/plain": [
       "   user_id  movie_id  counts  timestamp  \\\n",
       "0        1      1193       5  978300760   \n",
       "1        2      1193       5  978298413   \n",
       "2       12      1193       4  978220179   \n",
       "3       15      1193       4  978199279   \n",
       "4       17      1193       5  978158471   \n",
       "\n",
       "                                    title  genre  \n",
       "0  one flew over the cuckoo's nest (1975)  Drama  \n",
       "1  one flew over the cuckoo's nest (1975)  Drama  \n",
       "2  one flew over the cuckoo's nest (1975)  Drama  \n",
       "3  one flew over the cuckoo's nest (1975)  Drama  \n",
       "4  one flew over the cuckoo's nest (1975)  Drama  "
      ]
     },
     "execution_count": 25,
     "metadata": {},
     "output_type": "execute_result"
    }
   ],
   "source": [
    "movie_re = pd.merge(ratings, movies)\n",
    "movie_re.head()"
   ]
  },
  {
   "cell_type": "code",
   "execution_count": 26,
   "id": "b47ecdf2",
   "metadata": {},
   "outputs": [
    {
     "data": {
      "text/html": [
       "<div>\n",
       "<style scoped>\n",
       "    .dataframe tbody tr th:only-of-type {\n",
       "        vertical-align: middle;\n",
       "    }\n",
       "\n",
       "    .dataframe tbody tr th {\n",
       "        vertical-align: top;\n",
       "    }\n",
       "\n",
       "    .dataframe thead th {\n",
       "        text-align: right;\n",
       "    }\n",
       "</style>\n",
       "<table border=\"1\" class=\"dataframe\">\n",
       "  <thead>\n",
       "    <tr style=\"text-align: right;\">\n",
       "      <th></th>\n",
       "      <th>user_id</th>\n",
       "      <th>title</th>\n",
       "      <th>counts</th>\n",
       "    </tr>\n",
       "  </thead>\n",
       "  <tbody>\n",
       "    <tr>\n",
       "      <th>0</th>\n",
       "      <td>1</td>\n",
       "      <td>one flew over the cuckoo's nest (1975)</td>\n",
       "      <td>5</td>\n",
       "    </tr>\n",
       "    <tr>\n",
       "      <th>1</th>\n",
       "      <td>2</td>\n",
       "      <td>one flew over the cuckoo's nest (1975)</td>\n",
       "      <td>5</td>\n",
       "    </tr>\n",
       "    <tr>\n",
       "      <th>2</th>\n",
       "      <td>12</td>\n",
       "      <td>one flew over the cuckoo's nest (1975)</td>\n",
       "      <td>4</td>\n",
       "    </tr>\n",
       "    <tr>\n",
       "      <th>3</th>\n",
       "      <td>15</td>\n",
       "      <td>one flew over the cuckoo's nest (1975)</td>\n",
       "      <td>4</td>\n",
       "    </tr>\n",
       "    <tr>\n",
       "      <th>4</th>\n",
       "      <td>17</td>\n",
       "      <td>one flew over the cuckoo's nest (1975)</td>\n",
       "      <td>5</td>\n",
       "    </tr>\n",
       "    <tr>\n",
       "      <th>5</th>\n",
       "      <td>18</td>\n",
       "      <td>one flew over the cuckoo's nest (1975)</td>\n",
       "      <td>4</td>\n",
       "    </tr>\n",
       "    <tr>\n",
       "      <th>6</th>\n",
       "      <td>19</td>\n",
       "      <td>one flew over the cuckoo's nest (1975)</td>\n",
       "      <td>5</td>\n",
       "    </tr>\n",
       "    <tr>\n",
       "      <th>7</th>\n",
       "      <td>24</td>\n",
       "      <td>one flew over the cuckoo's nest (1975)</td>\n",
       "      <td>5</td>\n",
       "    </tr>\n",
       "    <tr>\n",
       "      <th>8</th>\n",
       "      <td>28</td>\n",
       "      <td>one flew over the cuckoo's nest (1975)</td>\n",
       "      <td>3</td>\n",
       "    </tr>\n",
       "    <tr>\n",
       "      <th>9</th>\n",
       "      <td>33</td>\n",
       "      <td>one flew over the cuckoo's nest (1975)</td>\n",
       "      <td>5</td>\n",
       "    </tr>\n",
       "  </tbody>\n",
       "</table>\n",
       "</div>"
      ],
      "text/plain": [
       "   user_id                                   title  counts\n",
       "0        1  one flew over the cuckoo's nest (1975)       5\n",
       "1        2  one flew over the cuckoo's nest (1975)       5\n",
       "2       12  one flew over the cuckoo's nest (1975)       4\n",
       "3       15  one flew over the cuckoo's nest (1975)       4\n",
       "4       17  one flew over the cuckoo's nest (1975)       5\n",
       "5       18  one flew over the cuckoo's nest (1975)       4\n",
       "6       19  one flew over the cuckoo's nest (1975)       5\n",
       "7       24  one flew over the cuckoo's nest (1975)       5\n",
       "8       28  one flew over the cuckoo's nest (1975)       3\n",
       "9       33  one flew over the cuckoo's nest (1975)       5"
      ]
     },
     "execution_count": 26,
     "metadata": {},
     "output_type": "execute_result"
    }
   ],
   "source": [
    "# 사용하는 컬럼만 남겨줍니다.\n",
    "using_cols = [ 'user_id','title', 'counts']\n",
    "movie_re = movie_re[using_cols]\n",
    "movie_re.head(10)"
   ]
  },
  {
   "cell_type": "markdown",
   "id": "cd4db1f9",
   "metadata": {},
   "source": [
    "# 2. 데이터 분석하기"
   ]
  },
  {
   "cell_type": "markdown",
   "id": "7b766b42",
   "metadata": {},
   "source": [
    "- ratigns에 있는 유니크한 영화 개수"
   ]
  },
  {
   "cell_type": "code",
   "execution_count": 27,
   "id": "95740c1d",
   "metadata": {},
   "outputs": [
    {
     "data": {
      "text/plain": [
       "3628"
      ]
     },
     "execution_count": 27,
     "metadata": {},
     "output_type": "execute_result"
    }
   ],
   "source": [
    "uniq_movie = movie_re[\"title\"].nunique()\n",
    "uniq_movie "
   ]
  },
  {
   "cell_type": "code",
   "execution_count": 28,
   "id": "f5fa2d8c",
   "metadata": {},
   "outputs": [
    {
     "data": {
      "text/plain": [
       "6039"
      ]
     },
     "execution_count": 28,
     "metadata": {},
     "output_type": "execute_result"
    }
   ],
   "source": [
    "uniq_user = movie_re[\"user_id\"].nunique()\n",
    "uniq_user"
   ]
  },
  {
   "cell_type": "code",
   "execution_count": 29,
   "id": "5754c350",
   "metadata": {},
   "outputs": [
    {
     "data": {
      "text/plain": [
       "title\n",
       "american beauty (1999)                                   3211\n",
       "star wars: episode iv - a new hope (1977)                2910\n",
       "star wars: episode v - the empire strikes back (1980)    2885\n",
       "star wars: episode vi - return of the jedi (1983)        2716\n",
       "saving private ryan (1998)                               2561\n",
       "terminator 2: judgment day (1991)                        2509\n",
       "silence of the lambs, the (1991)                         2498\n",
       "raiders of the lost ark (1981)                           2473\n",
       "back to the future (1985)                                2460\n",
       "matrix, the (1999)                                       2434\n",
       "jurassic park (1993)                                     2413\n",
       "sixth sense, the (1999)                                  2385\n",
       "fargo (1996)                                             2371\n",
       "braveheart (1995)                                        2314\n",
       "men in black (1997)                                      2297\n",
       "schindler's list (1993)                                  2257\n",
       "princess bride, the (1987)                               2252\n",
       "shakespeare in love (1998)                               2213\n",
       "l.a. confidential (1997)                                 2210\n",
       "shawshank redemption, the (1994)                         2194\n",
       "godfather, the (1972)                                    2167\n",
       "groundhog day (1993)                                     2121\n",
       "e.t. the extra-terrestrial (1982)                        2102\n",
       "being john malkovich (1999)                              2066\n",
       "ghostbusters (1984)                                      2051\n",
       "pulp fiction (1994)                                      2030\n",
       "forrest gump (1994)                                      2022\n",
       "terminator, the (1984)                                   2019\n",
       "toy story (1995)                                         2000\n",
       "fugitive, the (1993)                                     1941\n",
       "Name: user_id, dtype: int64"
      ]
     },
     "execution_count": 29,
     "metadata": {},
     "output_type": "execute_result"
    }
   ],
   "source": [
    "pop_movie = movie_re.groupby(\"title\")['user_id'].count()\n",
    "pop_movie.sort_values(ascending=False).head(30)"
   ]
  },
  {
   "cell_type": "code",
   "execution_count": 30,
   "id": "f29a2e7d",
   "metadata": {},
   "outputs": [
    {
     "data": {
      "text/plain": [
       "title\n",
       "brother's kiss, a (1997)                                              1\n",
       "ten benny (1997)                                                      1\n",
       "condition red (1995)                                                  1\n",
       "telling you (1998)                                                    1\n",
       "jeanne and the perfect guy (jeanne et le garçon formidable) (1998)    1\n",
       "                                                                     ..\n",
       "mirage (1995)                                                         1\n",
       "24-hour woman (1998)                                                  1\n",
       "voyage to the beginning of the world (1997)                           1\n",
       "wend kuuni (god's gift) (1982)                                        1\n",
       "last of the high kings, the (a.k.a. summer fling) (1996)              1\n",
       "Name: user_id, Length: 100, dtype: int64"
      ]
     },
     "execution_count": 30,
     "metadata": {},
     "output_type": "execute_result"
    }
   ],
   "source": [
    "pop_movie.sort_values(ascending=True).head(100)"
   ]
  },
  {
   "cell_type": "code",
   "execution_count": 31,
   "id": "78658c33",
   "metadata": {},
   "outputs": [
    {
     "data": {
      "text/html": [
       "<div>\n",
       "<style scoped>\n",
       "    .dataframe tbody tr th:only-of-type {\n",
       "        vertical-align: middle;\n",
       "    }\n",
       "\n",
       "    .dataframe tbody tr th {\n",
       "        vertical-align: top;\n",
       "    }\n",
       "\n",
       "    .dataframe thead th {\n",
       "        text-align: right;\n",
       "    }\n",
       "</style>\n",
       "<table border=\"1\" class=\"dataframe\">\n",
       "  <thead>\n",
       "    <tr style=\"text-align: right;\">\n",
       "      <th></th>\n",
       "      <th>user_id</th>\n",
       "      <th>title</th>\n",
       "      <th>counts</th>\n",
       "    </tr>\n",
       "  </thead>\n",
       "  <tbody>\n",
       "    <tr>\n",
       "      <th>181297</th>\n",
       "      <td>3</td>\n",
       "      <td>little mermaid, the (1989)</td>\n",
       "      <td>4</td>\n",
       "    </tr>\n",
       "    <tr>\n",
       "      <th>181298</th>\n",
       "      <td>6</td>\n",
       "      <td>little mermaid, the (1989)</td>\n",
       "      <td>4</td>\n",
       "    </tr>\n",
       "    <tr>\n",
       "      <th>181299</th>\n",
       "      <td>10</td>\n",
       "      <td>little mermaid, the (1989)</td>\n",
       "      <td>5</td>\n",
       "    </tr>\n",
       "    <tr>\n",
       "      <th>181300</th>\n",
       "      <td>18</td>\n",
       "      <td>little mermaid, the (1989)</td>\n",
       "      <td>5</td>\n",
       "    </tr>\n",
       "    <tr>\n",
       "      <th>181301</th>\n",
       "      <td>19</td>\n",
       "      <td>little mermaid, the (1989)</td>\n",
       "      <td>3</td>\n",
       "    </tr>\n",
       "    <tr>\n",
       "      <th>...</th>\n",
       "      <td>...</td>\n",
       "      <td>...</td>\n",
       "      <td>...</td>\n",
       "    </tr>\n",
       "    <tr>\n",
       "      <th>832470</th>\n",
       "      <td>3363</td>\n",
       "      <td>little city (1998)</td>\n",
       "      <td>3</td>\n",
       "    </tr>\n",
       "    <tr>\n",
       "      <th>832471</th>\n",
       "      <td>4771</td>\n",
       "      <td>little city (1998)</td>\n",
       "      <td>4</td>\n",
       "    </tr>\n",
       "    <tr>\n",
       "      <th>835724</th>\n",
       "      <td>1298</td>\n",
       "      <td>little men (1998)</td>\n",
       "      <td>4</td>\n",
       "    </tr>\n",
       "    <tr>\n",
       "      <th>835725</th>\n",
       "      <td>5411</td>\n",
       "      <td>little men (1998)</td>\n",
       "      <td>3</td>\n",
       "    </tr>\n",
       "    <tr>\n",
       "      <th>836473</th>\n",
       "      <td>5851</td>\n",
       "      <td>one little indian (1973)</td>\n",
       "      <td>5</td>\n",
       "    </tr>\n",
       "  </tbody>\n",
       "</table>\n",
       "<p>5360 rows × 3 columns</p>\n",
       "</div>"
      ],
      "text/plain": [
       "        user_id                       title  counts\n",
       "181297        3  little mermaid, the (1989)       4\n",
       "181298        6  little mermaid, the (1989)       4\n",
       "181299       10  little mermaid, the (1989)       5\n",
       "181300       18  little mermaid, the (1989)       5\n",
       "181301       19  little mermaid, the (1989)       3\n",
       "...         ...                         ...     ...\n",
       "832470     3363          little city (1998)       3\n",
       "832471     4771          little city (1998)       4\n",
       "835724     1298           little men (1998)       4\n",
       "835725     5411           little men (1998)       3\n",
       "836473     5851    one little indian (1973)       5\n",
       "\n",
       "[5360 rows x 3 columns]"
      ]
     },
     "execution_count": 31,
     "metadata": {},
     "output_type": "execute_result"
    }
   ],
   "source": [
    "movie_re[movie_re[\"title\"].str.contains(\"little\")]"
   ]
  },
  {
   "cell_type": "code",
   "execution_count": 32,
   "id": "5f5506aa",
   "metadata": {},
   "outputs": [
    {
     "data": {
      "text/html": [
       "<div>\n",
       "<style scoped>\n",
       "    .dataframe tbody tr th:only-of-type {\n",
       "        vertical-align: middle;\n",
       "    }\n",
       "\n",
       "    .dataframe tbody tr th {\n",
       "        vertical-align: top;\n",
       "    }\n",
       "\n",
       "    .dataframe thead th {\n",
       "        text-align: right;\n",
       "    }\n",
       "</style>\n",
       "<table border=\"1\" class=\"dataframe\">\n",
       "  <thead>\n",
       "    <tr style=\"text-align: right;\">\n",
       "      <th></th>\n",
       "      <th>user_id</th>\n",
       "      <th>title</th>\n",
       "      <th>counts</th>\n",
       "    </tr>\n",
       "  </thead>\n",
       "  <tbody>\n",
       "    <tr>\n",
       "      <th>836473</th>\n",
       "      <td>5851</td>\n",
       "      <td>one little indian (1973)</td>\n",
       "      <td>5</td>\n",
       "    </tr>\n",
       "    <tr>\n",
       "      <th>836474</th>\n",
       "      <td>5854</td>\n",
       "      <td>slaughterhouse (1987)</td>\n",
       "      <td>4</td>\n",
       "    </tr>\n",
       "    <tr>\n",
       "      <th>836475</th>\n",
       "      <td>5854</td>\n",
       "      <td>promise, the (versprechen, das) (1994)</td>\n",
       "      <td>3</td>\n",
       "    </tr>\n",
       "    <tr>\n",
       "      <th>836476</th>\n",
       "      <td>5938</td>\n",
       "      <td>five wives, three secretaries and me (1998)</td>\n",
       "      <td>4</td>\n",
       "    </tr>\n",
       "    <tr>\n",
       "      <th>836477</th>\n",
       "      <td>5948</td>\n",
       "      <td>identification of a woman (identificazione di ...</td>\n",
       "      <td>5</td>\n",
       "    </tr>\n",
       "    <tr>\n",
       "      <th>0</th>\n",
       "      <td>mini</td>\n",
       "      <td>toy story (1995)</td>\n",
       "      <td>5</td>\n",
       "    </tr>\n",
       "    <tr>\n",
       "      <th>1</th>\n",
       "      <td>mini</td>\n",
       "      <td>for ever mozart (1996)</td>\n",
       "      <td>5</td>\n",
       "    </tr>\n",
       "    <tr>\n",
       "      <th>2</th>\n",
       "      <td>mini</td>\n",
       "      <td>e.t. the extra-terrestrial (1982)</td>\n",
       "      <td>5</td>\n",
       "    </tr>\n",
       "    <tr>\n",
       "      <th>3</th>\n",
       "      <td>mini</td>\n",
       "      <td>terminator 2: judgment day (1991)</td>\n",
       "      <td>5</td>\n",
       "    </tr>\n",
       "    <tr>\n",
       "      <th>4</th>\n",
       "      <td>mini</td>\n",
       "      <td>little mermaid, the (1989)</td>\n",
       "      <td>5</td>\n",
       "    </tr>\n",
       "  </tbody>\n",
       "</table>\n",
       "</div>"
      ],
      "text/plain": [
       "       user_id                                              title  counts\n",
       "836473    5851                           one little indian (1973)       5\n",
       "836474    5854                              slaughterhouse (1987)       4\n",
       "836475    5854             promise, the (versprechen, das) (1994)       3\n",
       "836476    5938        five wives, three secretaries and me (1998)       4\n",
       "836477    5948  identification of a woman (identificazione di ...       5\n",
       "0         mini                                   toy story (1995)       5\n",
       "1         mini                             for ever mozart (1996)       5\n",
       "2         mini                  e.t. the extra-terrestrial (1982)       5\n",
       "3         mini                  terminator 2: judgment day (1991)       5\n",
       "4         mini                         little mermaid, the (1989)       5"
      ]
     },
     "execution_count": 32,
     "metadata": {},
     "output_type": "execute_result"
    }
   ],
   "source": [
    "#[[ your code ]]\n",
    "# 본인이 좋아하시는 아티스트 데이터로 바꿔서 추가하셔도 됩니다! 단, 이름은 꼭 데이터셋에 있는 것과 동일하게 맞춰주세요. \n",
    "my_favorite = ['toy story (1995)' , 'for ever mozart (1996)' ,'e.t. the extra-terrestrial (1982)' ,'terminator 2: judgment day (1991)' ,'little mermaid, the (1989)']\n",
    "\n",
    "# 'zimin'이라는 user_id가 위 아티스트의 노래를 30회씩 들었다고 가정하겠습니다.\n",
    "my_list = pd.DataFrame({'user_id': ['mini']*5, 'title': my_favorite, 'counts':[5]*5})\n",
    "\n",
    "if not movie_re.isin({'user_id':['mini']})['user_id'].any():  # user_id에 'zimin'이라는 데이터가 없다면\n",
    "    movie_re = movie_re.append(my_list)                           # 위에 임의로 만든 my_favorite 데이터를 추가해 줍니다. \n",
    "\n",
    "movie_re.tail(10)       # 잘 추가되었는지 확인해 봅시다."
   ]
  },
  {
   "cell_type": "code",
   "execution_count": 33,
   "id": "0a45af54",
   "metadata": {},
   "outputs": [
    {
     "data": {
      "text/html": [
       "<div>\n",
       "<style scoped>\n",
       "    .dataframe tbody tr th:only-of-type {\n",
       "        vertical-align: middle;\n",
       "    }\n",
       "\n",
       "    .dataframe tbody tr th {\n",
       "        vertical-align: top;\n",
       "    }\n",
       "\n",
       "    .dataframe thead th {\n",
       "        text-align: right;\n",
       "    }\n",
       "</style>\n",
       "<table border=\"1\" class=\"dataframe\">\n",
       "  <thead>\n",
       "    <tr style=\"text-align: right;\">\n",
       "      <th></th>\n",
       "      <th>user_id</th>\n",
       "      <th>title</th>\n",
       "      <th>counts</th>\n",
       "    </tr>\n",
       "  </thead>\n",
       "  <tbody>\n",
       "    <tr>\n",
       "      <th>836473</th>\n",
       "      <td>5851</td>\n",
       "      <td>one little indian (1973)</td>\n",
       "      <td>5</td>\n",
       "    </tr>\n",
       "    <tr>\n",
       "      <th>836474</th>\n",
       "      <td>5854</td>\n",
       "      <td>slaughterhouse (1987)</td>\n",
       "      <td>4</td>\n",
       "    </tr>\n",
       "    <tr>\n",
       "      <th>836475</th>\n",
       "      <td>5854</td>\n",
       "      <td>promise, the (versprechen, das) (1994)</td>\n",
       "      <td>3</td>\n",
       "    </tr>\n",
       "    <tr>\n",
       "      <th>836476</th>\n",
       "      <td>5938</td>\n",
       "      <td>five wives, three secretaries and me (1998)</td>\n",
       "      <td>4</td>\n",
       "    </tr>\n",
       "    <tr>\n",
       "      <th>836477</th>\n",
       "      <td>5948</td>\n",
       "      <td>identification of a woman (identificazione di ...</td>\n",
       "      <td>5</td>\n",
       "    </tr>\n",
       "    <tr>\n",
       "      <th>0</th>\n",
       "      <td>mini</td>\n",
       "      <td>toy story (1995)</td>\n",
       "      <td>5</td>\n",
       "    </tr>\n",
       "    <tr>\n",
       "      <th>1</th>\n",
       "      <td>mini</td>\n",
       "      <td>for ever mozart (1996)</td>\n",
       "      <td>5</td>\n",
       "    </tr>\n",
       "    <tr>\n",
       "      <th>2</th>\n",
       "      <td>mini</td>\n",
       "      <td>e.t. the extra-terrestrial (1982)</td>\n",
       "      <td>5</td>\n",
       "    </tr>\n",
       "    <tr>\n",
       "      <th>3</th>\n",
       "      <td>mini</td>\n",
       "      <td>terminator 2: judgment day (1991)</td>\n",
       "      <td>5</td>\n",
       "    </tr>\n",
       "    <tr>\n",
       "      <th>4</th>\n",
       "      <td>mini</td>\n",
       "      <td>little mermaid, the (1989)</td>\n",
       "      <td>5</td>\n",
       "    </tr>\n",
       "  </tbody>\n",
       "</table>\n",
       "</div>"
      ],
      "text/plain": [
       "       user_id                                              title  counts\n",
       "836473    5851                           one little indian (1973)       5\n",
       "836474    5854                              slaughterhouse (1987)       4\n",
       "836475    5854             promise, the (versprechen, das) (1994)       3\n",
       "836476    5938        five wives, three secretaries and me (1998)       4\n",
       "836477    5948  identification of a woman (identificazione di ...       5\n",
       "0         mini                                   toy story (1995)       5\n",
       "1         mini                             for ever mozart (1996)       5\n",
       "2         mini                  e.t. the extra-terrestrial (1982)       5\n",
       "3         mini                  terminator 2: judgment day (1991)       5\n",
       "4         mini                         little mermaid, the (1989)       5"
      ]
     },
     "execution_count": 33,
     "metadata": {},
     "output_type": "execute_result"
    }
   ],
   "source": [
    "# 사용하는 컬럼만 남겨줍니다.\n",
    "using_cols2 = [ 'user_id','title', 'counts']\n",
    "movie_re = movie_re[using_cols2]\n",
    "movie_re.tail(10)"
   ]
  },
  {
   "cell_type": "code",
   "execution_count": 34,
   "id": "a1a96fd0",
   "metadata": {},
   "outputs": [],
   "source": [
    "# 고유한 유저, 아티스트를 찾아내는 코드\n",
    "user_unique = movie_re['user_id'].unique()\n",
    "movie_unique = movie_re['title'].unique()\n",
    "\n",
    "# 유저, 아티스트 indexing 하는 코드 idx는 index의 약자입니다.\n",
    "user_to_idx = {v:k for k,v in enumerate(user_unique)}\n",
    "movie_to_idx = {v:k for k,v in enumerate(movie_unique)}"
   ]
  },
  {
   "cell_type": "code",
   "execution_count": 35,
   "id": "b3980de1",
   "metadata": {},
   "outputs": [
    {
     "name": "stdout",
     "output_type": "stream",
     "text": [
      "6039\n",
      "191\n"
     ]
    }
   ],
   "source": [
    "# 인덱싱이 잘 되었는지 확인해 봅니다. \n",
    "print(user_to_idx['mini'])    # 358869명의 유저 중 마지막으로 추가된 유저이니 358868이 나와야 합니다. \n",
    "print(movie_to_idx['little mermaid, the (1989)'])"
   ]
  },
  {
   "cell_type": "code",
   "execution_count": 36,
   "id": "c5fa2013",
   "metadata": {},
   "outputs": [
    {
     "name": "stdout",
     "output_type": "stream",
     "text": [
      "user_id column indexing OK!!\n",
      "movie column indexing OK!!\n"
     ]
    },
    {
     "data": {
      "text/html": [
       "<div>\n",
       "<style scoped>\n",
       "    .dataframe tbody tr th:only-of-type {\n",
       "        vertical-align: middle;\n",
       "    }\n",
       "\n",
       "    .dataframe tbody tr th {\n",
       "        vertical-align: top;\n",
       "    }\n",
       "\n",
       "    .dataframe thead th {\n",
       "        text-align: right;\n",
       "    }\n",
       "</style>\n",
       "<table border=\"1\" class=\"dataframe\">\n",
       "  <thead>\n",
       "    <tr style=\"text-align: right;\">\n",
       "      <th></th>\n",
       "      <th>user_id</th>\n",
       "      <th>title</th>\n",
       "      <th>counts</th>\n",
       "    </tr>\n",
       "  </thead>\n",
       "  <tbody>\n",
       "    <tr>\n",
       "      <th>0</th>\n",
       "      <td>0</td>\n",
       "      <td>0</td>\n",
       "      <td>5</td>\n",
       "    </tr>\n",
       "    <tr>\n",
       "      <th>1</th>\n",
       "      <td>1</td>\n",
       "      <td>0</td>\n",
       "      <td>5</td>\n",
       "    </tr>\n",
       "    <tr>\n",
       "      <th>2</th>\n",
       "      <td>2</td>\n",
       "      <td>0</td>\n",
       "      <td>4</td>\n",
       "    </tr>\n",
       "    <tr>\n",
       "      <th>3</th>\n",
       "      <td>3</td>\n",
       "      <td>0</td>\n",
       "      <td>4</td>\n",
       "    </tr>\n",
       "    <tr>\n",
       "      <th>4</th>\n",
       "      <td>4</td>\n",
       "      <td>0</td>\n",
       "      <td>5</td>\n",
       "    </tr>\n",
       "    <tr>\n",
       "      <th>...</th>\n",
       "      <td>...</td>\n",
       "      <td>...</td>\n",
       "      <td>...</td>\n",
       "    </tr>\n",
       "    <tr>\n",
       "      <th>0</th>\n",
       "      <td>6039</td>\n",
       "      <td>40</td>\n",
       "      <td>5</td>\n",
       "    </tr>\n",
       "    <tr>\n",
       "      <th>1</th>\n",
       "      <td>6039</td>\n",
       "      <td>3035</td>\n",
       "      <td>5</td>\n",
       "    </tr>\n",
       "    <tr>\n",
       "      <th>2</th>\n",
       "      <td>6039</td>\n",
       "      <td>26</td>\n",
       "      <td>5</td>\n",
       "    </tr>\n",
       "    <tr>\n",
       "      <th>3</th>\n",
       "      <td>6039</td>\n",
       "      <td>92</td>\n",
       "      <td>5</td>\n",
       "    </tr>\n",
       "    <tr>\n",
       "      <th>4</th>\n",
       "      <td>6039</td>\n",
       "      <td>191</td>\n",
       "      <td>5</td>\n",
       "    </tr>\n",
       "  </tbody>\n",
       "</table>\n",
       "<p>836483 rows × 3 columns</p>\n",
       "</div>"
      ],
      "text/plain": [
       "    user_id  title  counts\n",
       "0         0      0       5\n",
       "1         1      0       5\n",
       "2         2      0       4\n",
       "3         3      0       4\n",
       "4         4      0       5\n",
       "..      ...    ...     ...\n",
       "0      6039     40       5\n",
       "1      6039   3035       5\n",
       "2      6039     26       5\n",
       "3      6039     92       5\n",
       "4      6039    191       5\n",
       "\n",
       "[836483 rows x 3 columns]"
      ]
     },
     "execution_count": 36,
     "metadata": {},
     "output_type": "execute_result"
    }
   ],
   "source": [
    "# indexing을 통해 데이터 컬럼 내 값을 바꾸는 코드\n",
    "# dictionary 자료형의 get 함수는 https://wikidocs.net/16 을 참고하세요.\n",
    "\n",
    "# user_to_idx.get을 통해 user_id 컬럼의 모든 값을 인덱싱한 Series를 구해 봅시다. \n",
    "# 혹시 정상적으로 인덱싱되지 않은 row가 있다면 인덱스가 NaN이 될 테니 dropna()로 제거합니다. \n",
    "temp_user_data = movie_re['user_id'].map(user_to_idx.get).dropna()\n",
    "if len(temp_user_data) == len(movie_re):   # 모든 row가 정상적으로 인덱싱되었다면\n",
    "    print('user_id column indexing OK!!')\n",
    "    movie_re['user_id'] = temp_user_data   # data['user_id']을 인덱싱된 Series로 교체해 줍니다. \n",
    "else:\n",
    "    print('user_id column indexing Fail!!')\n",
    "\n",
    "# artist_to_idx을 통해 artist 컬럼도 동일한 방식으로 인덱싱해 줍니다. \n",
    "temp_movie_data = movie_re['title'].map(movie_to_idx.get).dropna()\n",
    "if len(temp_movie_data) == len(movie_re):\n",
    "    print('movie column indexing OK!!')\n",
    "    movie_re['title'] = temp_movie_data\n",
    "else:\n",
    "    print('movie column indexing Fail!!')\n",
    "\n",
    "movie_re"
   ]
  },
  {
   "cell_type": "markdown",
   "id": "44634def",
   "metadata": {},
   "source": [
    "# 3. CSR matrix 구성"
   ]
  },
  {
   "cell_type": "code",
   "execution_count": 37,
   "id": "592ce691",
   "metadata": {},
   "outputs": [
    {
     "data": {
      "text/plain": [
       "<6040x3628 sparse matrix of type '<class 'numpy.int64'>'\n",
       "\twith 836483 stored elements in Compressed Sparse Row format>"
      ]
     },
     "execution_count": 37,
     "metadata": {},
     "output_type": "execute_result"
    }
   ],
   "source": [
    "# 실습 위에 설명보고 이해해서 만들어보기\n",
    "from scipy.sparse import csr_matrix\n",
    "\n",
    "num_user = movie_re['user_id'].nunique()\n",
    "num_movie = movie_re['title'].nunique()\n",
    "\n",
    "csr_data = csr_matrix((movie_re.counts, (movie_re.user_id, movie_re.title)), shape= (num_user, num_movie))\n",
    "csr_data"
   ]
  },
  {
   "cell_type": "markdown",
   "id": "71ef94fc",
   "metadata": {},
   "source": [
    "# 4. 모델 구성 및 훈련"
   ]
  },
  {
   "cell_type": "code",
   "execution_count": 38,
   "id": "2befb4d8",
   "metadata": {},
   "outputs": [],
   "source": [
    "from implicit.als import AlternatingLeastSquares\n",
    "import os\n",
    "import numpy as np\n",
    "\n",
    "# implicit 라이브러리에서 권장하고 있는 부분입니다. 학습 내용과는 무관합니다.\n",
    "os.environ['OPENBLAS_NUM_THREADS']='1'\n",
    "os.environ['KMP_DUPLICATE_LIB_OK']='True'\n",
    "os.environ['MKL_NUM_THREADS']='1' "
   ]
  },
  {
   "cell_type": "code",
   "execution_count": 39,
   "id": "08e13f77",
   "metadata": {},
   "outputs": [],
   "source": [
    "# Implicit AlternatingLeastSquares 모델의 선언\n",
    "als_model = AlternatingLeastSquares(factors=100, regularization=0.01, use_gpu=False, iterations=15, dtype=np.float32)"
   ]
  },
  {
   "cell_type": "code",
   "execution_count": 40,
   "id": "3bfd37ca",
   "metadata": {},
   "outputs": [
    {
     "data": {
      "text/plain": [
       "<3628x6040 sparse matrix of type '<class 'numpy.int64'>'\n",
       "\twith 836483 stored elements in Compressed Sparse Column format>"
      ]
     },
     "execution_count": 40,
     "metadata": {},
     "output_type": "execute_result"
    }
   ],
   "source": [
    "# als 모델은 input으로 (item X user 꼴의 matrix를 받기 때문에 Transpose해줍니다.)\n",
    "csr_data_transpose = csr_data.T\n",
    "csr_data_transpose"
   ]
  },
  {
   "cell_type": "code",
   "execution_count": 41,
   "id": "3dda69df",
   "metadata": {},
   "outputs": [
    {
     "data": {
      "application/vnd.jupyter.widget-view+json": {
       "model_id": "86eb337fae7046aba18758844df9a7d8",
       "version_major": 2,
       "version_minor": 0
      },
      "text/plain": [
       "  0%|          | 0/15 [00:00<?, ?it/s]"
      ]
     },
     "metadata": {},
     "output_type": "display_data"
    }
   ],
   "source": [
    "als_model.fit(csr_data_transpose)"
   ]
  },
  {
   "cell_type": "code",
   "execution_count": 42,
   "id": "7d3d98c5",
   "metadata": {},
   "outputs": [],
   "source": [
    "mini,little = user_to_idx['mini'], movie_to_idx['little mermaid, the (1989)']\n",
    "mini_vector, little_vector = als_model.user_factors[mini], als_model.item_factors[little]\n"
   ]
  },
  {
   "cell_type": "code",
   "execution_count": 43,
   "id": "95413302",
   "metadata": {},
   "outputs": [
    {
     "data": {
      "text/plain": [
       "array([ 4.31043744e-01,  3.68831486e-01, -1.07675724e-01,  4.16129455e-02,\n",
       "       -1.10987496e+00, -8.84745240e-01, -2.09481880e-01,  2.77805448e-01,\n",
       "       -1.55255437e-01,  2.33900592e-01,  5.91272354e-01,  5.05392015e-01,\n",
       "        3.82106513e-01, -3.49589922e-02,  5.36230266e-01, -5.95348239e-01,\n",
       "       -1.39432460e-01,  6.93272054e-01,  2.72825539e-01, -5.43092668e-01,\n",
       "       -9.19260979e-02, -6.38065441e-03, -2.47853532e-01, -4.44707990e-01,\n",
       "        3.57816279e-01,  3.54888886e-01,  7.77294397e-01,  3.64490747e-01,\n",
       "       -2.81501412e-01, -1.15324169e-01, -1.57895148e-01,  7.74566948e-01,\n",
       "       -5.97460866e-01,  1.97174996e-02, -7.58245029e-03,  5.46392739e-01,\n",
       "       -7.04477072e-01,  3.25940460e-01,  2.72210568e-01, -1.36940062e-01,\n",
       "        4.20936853e-01, -9.70191732e-02, -4.31795806e-01,  2.84237266e-01,\n",
       "        8.16184044e-01, -1.93379790e-01,  6.59483790e-01, -2.55303949e-01,\n",
       "       -5.30446351e-01, -9.44138914e-02,  3.03707659e-01,  5.86431205e-01,\n",
       "       -3.98098975e-01, -4.59540516e-01, -3.33096623e-01, -1.23922499e-02,\n",
       "       -4.70189117e-02, -7.52894655e-02,  2.43746400e-01, -9.52533424e-01,\n",
       "        3.80266495e-02,  4.61705655e-01, -4.19799417e-01,  7.18173087e-01,\n",
       "       -4.53811467e-01, -2.46674940e-02,  3.60589921e-01, -8.33702505e-01,\n",
       "       -2.90369898e-01,  2.47746989e-01, -4.88615602e-01,  4.74784374e-01,\n",
       "       -5.53003252e-01, -1.54037803e-01,  7.88831770e-01, -1.27307653e-01,\n",
       "        7.48918951e-01, -6.54758155e-01, -3.16981643e-01, -5.07355072e-02,\n",
       "        4.55133706e-01,  2.25645512e-01, -1.58333972e-01,  6.39258623e-02,\n",
       "        7.62183130e-01, -4.19912964e-01, -6.16789758e-01, -3.36227089e-01,\n",
       "        3.80393296e-01,  8.06637824e-01,  1.50116580e-02,  3.55083048e-01,\n",
       "        4.71497774e-01, -5.28983653e-01,  5.04264645e-02, -3.37085425e-04,\n",
       "       -6.59394979e-01,  9.79424536e-01, -5.20053387e-01, -3.75061817e-02],\n",
       "      dtype=float32)"
      ]
     },
     "execution_count": 43,
     "metadata": {},
     "output_type": "execute_result"
    }
   ],
   "source": [
    "mini_vector"
   ]
  },
  {
   "cell_type": "code",
   "execution_count": 44,
   "id": "72cc6f24",
   "metadata": {},
   "outputs": [
    {
     "data": {
      "text/plain": [
       "array([ 0.01316386, -0.00407214,  0.01320155,  0.01186037, -0.01338487,\n",
       "       -0.0148115 ,  0.00265931,  0.02620631, -0.00768043, -0.01635449,\n",
       "        0.02740661, -0.00670404,  0.01544064,  0.0177283 ,  0.01574926,\n",
       "        0.00032589,  0.00968682, -0.00186111,  0.01703179,  0.00910158,\n",
       "        0.00365762,  0.01961848, -0.0023017 , -0.00412474,  0.00993684,\n",
       "       -0.00159167,  0.00199245,  0.02782474,  0.01553477,  0.02900633,\n",
       "       -0.01589931,  0.01406799, -0.02350472, -0.01377625,  0.01104388,\n",
       "        0.04079806,  0.00719654,  0.03537108, -0.01521204,  0.02215276,\n",
       "        0.00905927, -0.03093028, -0.00075862,  0.00543465,  0.01302404,\n",
       "        0.01747687,  0.00432728,  0.00954858, -0.00587326, -0.00839543,\n",
       "        0.01832992,  0.02044401,  0.00602061, -0.01626082,  0.0151612 ,\n",
       "       -0.01236966,  0.01316287,  0.00065466,  0.02717439, -0.00086403,\n",
       "       -0.00353547,  0.01008864,  0.0010096 ,  0.03025719, -0.00799519,\n",
       "       -0.02018746, -0.00191376, -0.02775017, -0.01667346,  0.01338884,\n",
       "       -0.01627149,  0.00385393,  0.00972372, -0.00699505,  0.02364263,\n",
       "        0.00665037,  0.01045671, -0.0074992 , -0.00572115, -0.00625979,\n",
       "        0.0169703 ,  0.01800309, -0.00322759,  0.01464632,  0.01564888,\n",
       "        0.02295609, -0.02147524,  0.01913887,  0.0156022 ,  0.016779  ,\n",
       "       -0.00112626, -0.01026868,  0.01006716,  0.00746435, -0.00650548,\n",
       "        0.00414514, -0.01145205,  0.00655939,  0.01305236,  0.00350446],\n",
       "      dtype=float32)"
      ]
     },
     "execution_count": 44,
     "metadata": {},
     "output_type": "execute_result"
    }
   ],
   "source": [
    "little_vector"
   ]
  },
  {
   "cell_type": "code",
   "execution_count": 45,
   "id": "74020cb6",
   "metadata": {},
   "outputs": [
    {
     "data": {
      "text/plain": [
       "0.30543673"
      ]
     },
     "execution_count": 45,
     "metadata": {},
     "output_type": "execute_result"
    }
   ],
   "source": [
    "#user와 name 내적하는 코드\n",
    "np.dot(mini_vector, little_vector)"
   ]
  },
  {
   "cell_type": "markdown",
   "id": "a8161f73",
   "metadata": {},
   "source": [
    "내적 수치가 생각보다 많이 적게 나왔다."
   ]
  },
  {
   "cell_type": "code",
   "execution_count": 46,
   "id": "82f1e06f",
   "metadata": {},
   "outputs": [
    {
     "data": {
      "text/plain": [
       "-0.00013411883"
      ]
     },
     "execution_count": 46,
     "metadata": {},
     "output_type": "execute_result"
    }
   ],
   "source": [
    "another = movie_to_idx['one little indian (1973)']\n",
    "another_vector = als_model.item_factors[another]\n",
    "np.dot(mini_vector, another_vector)"
   ]
  },
  {
   "cell_type": "code",
   "execution_count": 69,
   "id": "4df17e48",
   "metadata": {},
   "outputs": [],
   "source": [
    "als_model2 = AlternatingLeastSquares(factors=100, regularization=0.01, use_gpu=False, iterations=100, dtype=np.float32)"
   ]
  },
  {
   "cell_type": "code",
   "execution_count": 70,
   "id": "0a04883f",
   "metadata": {},
   "outputs": [
    {
     "data": {
      "application/vnd.jupyter.widget-view+json": {
       "model_id": "431bcb4014714b7e8d719a2a8e629623",
       "version_major": 2,
       "version_minor": 0
      },
      "text/plain": [
       "  0%|          | 0/100 [00:00<?, ?it/s]"
      ]
     },
     "metadata": {},
     "output_type": "display_data"
    }
   ],
   "source": [
    "als_model2.fit(csr_data_transpose)"
   ]
  },
  {
   "cell_type": "code",
   "execution_count": 71,
   "id": "4ae30f35",
   "metadata": {},
   "outputs": [],
   "source": [
    "mini2,little2 = user_to_idx['mini'], movie_to_idx['little mermaid, the (1989)']\n",
    "mini_vector2, little_vector2 = als_model2.user_factors[mini2], als_model2.item_factors[little2]"
   ]
  },
  {
   "cell_type": "code",
   "execution_count": 72,
   "id": "4e57ff3c",
   "metadata": {},
   "outputs": [
    {
     "data": {
      "text/plain": [
       "0.3175292"
      ]
     },
     "execution_count": 72,
     "metadata": {},
     "output_type": "execute_result"
    }
   ],
   "source": [
    "np.dot(mini_vector2, little_vector2)"
   ]
  },
  {
   "cell_type": "code",
   "execution_count": 73,
   "id": "19467640",
   "metadata": {},
   "outputs": [
    {
     "data": {
      "text/plain": [
       "-0.00088033173"
      ]
     },
     "execution_count": 73,
     "metadata": {},
     "output_type": "execute_result"
    }
   ],
   "source": [
    "another = movie_to_idx['one little indian (1973)']\n",
    "another_vector2 = als_model2.item_factors[another]\n",
    "np.dot(mini_vector2, another_vector2)"
   ]
  },
  {
   "cell_type": "markdown",
   "id": "83b58e3f",
   "metadata": {},
   "source": [
    "# 5. 비슷한 영화 찾기"
   ]
  },
  {
   "cell_type": "code",
   "execution_count": 56,
   "id": "059b6935",
   "metadata": {},
   "outputs": [
    {
     "data": {
      "text/plain": [
       "[(40, 1.0000001),\n",
       " (50, 0.78540003),\n",
       " (322, 0.57455534),\n",
       " (33, 0.5607696),\n",
       " (4, 0.5548322),\n",
       " (110, 0.5288671),\n",
       " (330, 0.43347067),\n",
       " (10, 0.42545444),\n",
       " (255, 0.41222253),\n",
       " (20, 0.4098301),\n",
       " (126, 0.34136403),\n",
       " (34, 0.32006544),\n",
       " (545, 0.315854),\n",
       " (851, 0.31390914),\n",
       " (160, 0.31089428)]"
      ]
     },
     "execution_count": 56,
     "metadata": {},
     "output_type": "execute_result"
    }
   ],
   "source": [
    "favorite_movie = 'toy story (1995)'\n",
    "movie_id = movie_to_idx[favorite_movie]\n",
    "similar_movie = als_model.similar_items(movie_id, N=15)\n",
    "similar_movie"
   ]
  },
  {
   "cell_type": "code",
   "execution_count": 57,
   "id": "f6eab6bf",
   "metadata": {},
   "outputs": [
    {
     "data": {
      "text/plain": [
       "['toy story (1995)',\n",
       " 'toy story 2 (1999)',\n",
       " 'babe (1995)',\n",
       " 'aladdin (1992)',\n",
       " \"bug's life, a (1998)\",\n",
       " 'groundhog day (1993)',\n",
       " 'lion king, the (1994)',\n",
       " 'beauty and the beast (1991)',\n",
       " \"there's something about mary (1998)\",\n",
       " 'pleasantville (1998)',\n",
       " 'shakespeare in love (1998)',\n",
       " 'mulan (1998)',\n",
       " 'santa clause, the (1994)',\n",
       " 'iron giant, the (1999)',\n",
       " 'forrest gump (1994)']"
      ]
     },
     "execution_count": 57,
     "metadata": {},
     "output_type": "execute_result"
    }
   ],
   "source": [
    "idx_to_movie = {v:k for k,v in movie_to_idx.items()}\n",
    "[idx_to_movie[i[0]] for i in similar_movie]"
   ]
  },
  {
   "cell_type": "code",
   "execution_count": 75,
   "id": "553ec6ed",
   "metadata": {},
   "outputs": [],
   "source": [
    "def get_similar_movie(movie_name: str):\n",
    "    movie_id = movie_to_idx[movie_name]\n",
    "    similar_movie = als_model.similar_items(movie_id)\n",
    "    similar_movie = [idx_to_movie[i[0]] for i in similar_movie]\n",
    "    return similar_movie"
   ]
  },
  {
   "cell_type": "code",
   "execution_count": 76,
   "id": "e266f7aa",
   "metadata": {},
   "outputs": [
    {
     "data": {
      "text/plain": [
       "['mulan (1998)',\n",
       " 'tarzan (1999)',\n",
       " 'hunchback of notre dame, the (1996)',\n",
       " 'antz (1998)',\n",
       " 'hercules (1997)',\n",
       " 'rescuers down under, the (1990)',\n",
       " 'anastasia (1997)',\n",
       " 'aladdin and the king of thieves (1996)',\n",
       " 'pocahontas (1995)',\n",
       " 'lion king, the (1994)']"
      ]
     },
     "execution_count": 76,
     "metadata": {},
     "output_type": "execute_result"
    }
   ],
   "source": [
    "get_similar_movie('mulan (1998)')"
   ]
  },
  {
   "cell_type": "code",
   "execution_count": 74,
   "id": "cd1a2341",
   "metadata": {},
   "outputs": [],
   "source": [
    "def get_similar_movie2(movie_name: str):\n",
    "    movie_id = movie_to_idx[movie_name]\n",
    "    similar_movie = als_model2.similar_items(movie_id)\n",
    "    similar_movie = [idx_to_movie[i[0]] for i in similar_movie]\n",
    "    return similar_movie"
   ]
  },
  {
   "cell_type": "code",
   "execution_count": 77,
   "id": "e2bcbc19",
   "metadata": {},
   "outputs": [
    {
     "data": {
      "text/plain": [
       "['mulan (1998)',\n",
       " 'tarzan (1999)',\n",
       " 'antz (1998)',\n",
       " 'hunchback of notre dame, the (1996)',\n",
       " 'hercules (1997)',\n",
       " 'rescuers down under, the (1990)',\n",
       " 'anastasia (1997)',\n",
       " 'lion king, the (1994)',\n",
       " 'balto (1995)',\n",
       " 'beauty and the beast (1991)']"
      ]
     },
     "execution_count": 77,
     "metadata": {},
     "output_type": "execute_result"
    }
   ],
   "source": [
    "get_similar_movie2('mulan (1998)')"
   ]
  },
  {
   "cell_type": "markdown",
   "id": "f52a0cec",
   "metadata": {},
   "source": [
    "intertation을 다르게 한 두 모델의 추천 영화"
   ]
  },
  {
   "cell_type": "markdown",
   "id": "4700e21d",
   "metadata": {},
   "source": [
    "# 6. 유저에게 영화 추천하기"
   ]
  },
  {
   "cell_type": "code",
   "execution_count": 64,
   "id": "834f9efc",
   "metadata": {},
   "outputs": [
    {
     "data": {
      "text/plain": [
       "[(33, 0.38440764),\n",
       " (50, 0.36181855),\n",
       " (107, 0.34719315),\n",
       " (124, 0.3433588),\n",
       " (322, 0.3283199),\n",
       " (10, 0.31946912),\n",
       " (330, 0.30543864),\n",
       " (4, 0.3023451),\n",
       " (22, 0.2943802),\n",
       " (175, 0.2800238),\n",
       " (200, 0.26661175),\n",
       " (141, 0.21951684),\n",
       " (284, 0.21645984),\n",
       " (62, 0.21110693),\n",
       " (126, 0.20190541),\n",
       " (9, 0.20080891),\n",
       " (317, 0.19897652),\n",
       " (45, 0.1970222),\n",
       " (117, 0.19386618),\n",
       " (87, 0.19196722)]"
      ]
     },
     "execution_count": 64,
     "metadata": {},
     "output_type": "execute_result"
    }
   ],
   "source": [
    "user = user_to_idx['mini']\n",
    "# recommend에서는 user*item CSR Matrix를 받습니다.\n",
    "movie_recommended = als_model.recommend(user, csr_data, N=20, filter_already_liked_items=True)\n",
    "movie_recommended"
   ]
  },
  {
   "cell_type": "code",
   "execution_count": 65,
   "id": "96564565",
   "metadata": {},
   "outputs": [
    {
     "data": {
      "text/plain": [
       "['aladdin (1992)',\n",
       " 'toy story 2 (1999)',\n",
       " 'jurassic park (1993)',\n",
       " 'matrix, the (1999)',\n",
       " 'babe (1995)',\n",
       " 'beauty and the beast (1991)',\n",
       " 'lion king, the (1994)',\n",
       " \"bug's life, a (1998)\",\n",
       " 'back to the future (1985)',\n",
       " 'men in black (1997)',\n",
       " 'terminator, the (1984)',\n",
       " 'fugitive, the (1993)',\n",
       " 'nightmare before christmas, the (1993)',\n",
       " 'total recall (1990)',\n",
       " 'shakespeare in love (1998)',\n",
       " 'wizard of oz, the (1939)',\n",
       " 'twelve monkeys (1995)',\n",
       " 'mary poppins (1964)',\n",
       " 'star wars: episode v - the empire strikes back (1980)',\n",
       " 'braveheart (1995)']"
      ]
     },
     "execution_count": 65,
     "metadata": {},
     "output_type": "execute_result"
    }
   ],
   "source": [
    "[idx_to_movie[i[0]] for i in movie_recommended]"
   ]
  },
  {
   "cell_type": "markdown",
   "id": "4f23b6b0",
   "metadata": {},
   "source": [
    "- explain으로 추천 기여한 정도 확인하기"
   ]
  },
  {
   "cell_type": "code",
   "execution_count": 67,
   "id": "ec05a606",
   "metadata": {},
   "outputs": [],
   "source": [
    "aladdin  = movie_to_idx['aladdin (1992)']\n",
    "explain = als_model.explain(user, csr_data, itemid=aladdin)"
   ]
  },
  {
   "cell_type": "code",
   "execution_count": 68,
   "id": "a7ebb074",
   "metadata": {},
   "outputs": [
    {
     "data": {
      "text/plain": [
       "[('toy story (1995)', 0.17511690360080726),\n",
       " ('little mermaid, the (1989)', 0.1639233562339709),\n",
       " ('e.t. the extra-terrestrial (1982)', 0.04793775031650059),\n",
       " ('for ever mozart (1996)', 0.0015378684020498916),\n",
       " ('terminator 2: judgment day (1991)', -0.010038441911593799)]"
      ]
     },
     "execution_count": 68,
     "metadata": {},
     "output_type": "execute_result"
    }
   ],
   "source": [
    "[(idx_to_movie[i[0]], i[1]) for i in explain[1]]"
   ]
  },
  {
   "cell_type": "code",
   "execution_count": 82,
   "id": "88fd30a0",
   "metadata": {},
   "outputs": [],
   "source": [
    "jurassic  = movie_to_idx['jurassic park (1993)']\n",
    "explain = als_model.explain(user, csr_data, itemid=jurassic)"
   ]
  },
  {
   "cell_type": "code",
   "execution_count": 83,
   "id": "c613eeba",
   "metadata": {},
   "outputs": [
    {
     "data": {
      "text/plain": [
       "[('terminator 2: judgment day (1991)', 0.2988325976019768),\n",
       " ('e.t. the extra-terrestrial (1982)', 0.043728044882865136),\n",
       " ('little mermaid, the (1989)', 0.03065957055642098),\n",
       " ('for ever mozart (1996)', 0.0017713742302065886),\n",
       " ('toy story (1995)', -0.03189149830141909)]"
      ]
     },
     "execution_count": 83,
     "metadata": {},
     "output_type": "execute_result"
    }
   ],
   "source": [
    "[(idx_to_movie[i[0]], i[1]) for i in explain[1]]"
   ]
  },
  {
   "cell_type": "code",
   "execution_count": 78,
   "id": "751f2d10",
   "metadata": {},
   "outputs": [],
   "source": [
    "movie_recommended2 = als_model2.recommend(user, csr_data, N=20, filter_already_liked_items=True)"
   ]
  },
  {
   "cell_type": "code",
   "execution_count": 79,
   "id": "34be6fd1",
   "metadata": {},
   "outputs": [
    {
     "data": {
      "text/plain": [
       "['aladdin (1992)',\n",
       " 'toy story 2 (1999)',\n",
       " 'matrix, the (1999)',\n",
       " \"bug's life, a (1998)\",\n",
       " 'beauty and the beast (1991)',\n",
       " 'lion king, the (1994)',\n",
       " 'babe (1995)',\n",
       " 'back to the future (1985)',\n",
       " 'terminator, the (1984)',\n",
       " 'jurassic park (1993)',\n",
       " 'twelve monkeys (1995)',\n",
       " 'men in black (1997)',\n",
       " 'fugitive, the (1993)',\n",
       " 'nightmare before christmas, the (1993)',\n",
       " 'mary poppins (1964)',\n",
       " 'total recall (1990)',\n",
       " 'braveheart (1995)',\n",
       " 'lady and the tramp (1955)',\n",
       " 'star wars: episode v - the empire strikes back (1980)',\n",
       " 'snow white and the seven dwarfs (1937)']"
      ]
     },
     "execution_count": 79,
     "metadata": {},
     "output_type": "execute_result"
    }
   ],
   "source": [
    "[idx_to_movie[i[0]] for i in movie_recommended2]"
   ]
  },
  {
   "cell_type": "code",
   "execution_count": 80,
   "id": "3a530295",
   "metadata": {},
   "outputs": [],
   "source": [
    "matrix  = movie_to_idx['matrix, the (1999)']\n",
    "explain = als_model.explain(user, csr_data, itemid=matrix)"
   ]
  },
  {
   "cell_type": "code",
   "execution_count": 81,
   "id": "9f3bbd3a",
   "metadata": {},
   "outputs": [
    {
     "data": {
      "text/plain": [
       "[('terminator 2: judgment day (1991)', 0.2698045368834172),\n",
       " ('toy story (1995)', 0.06597178995586467),\n",
       " ('e.t. the extra-terrestrial (1982)', 0.012687327682412913),\n",
       " ('for ever mozart (1996)', 0.00041047245696604936),\n",
       " ('little mermaid, the (1989)', -0.01168290852412787)]"
      ]
     },
     "execution_count": 81,
     "metadata": {},
     "output_type": "execute_result"
    }
   ],
   "source": [
    "[(idx_to_movie[i[0]], i[1]) for i in explain[1]]"
   ]
  }
 ],
 "metadata": {
  "kernelspec": {
   "display_name": "Python 3 (ipykernel)",
   "language": "python",
   "name": "python3"
  },
  "language_info": {
   "codemirror_mode": {
    "name": "ipython",
    "version": 3
   },
   "file_extension": ".py",
   "mimetype": "text/x-python",
   "name": "python",
   "nbconvert_exporter": "python",
   "pygments_lexer": "ipython3",
   "version": "3.9.7"
  }
 },
 "nbformat": 4,
 "nbformat_minor": 5
}
