{
 "cells": [
  {
   "cell_type": "markdown",
   "id": "570580c0",
   "metadata": {},
   "source": [
    "# 1. Regularization VS Normalization   \n",
    "- Regularization : train set의 overfitting 방지   \n",
    "- Normalization : 데이터의 분포 고르게 만드는 작업"
   ]
  },
  {
   "cell_type": "markdown",
   "id": "e35e5b9f",
   "metadata": {},
   "source": [
    "Iris 데이터셋의 회귀 문제를 통한 두 방법 알아보기"
   ]
  },
  {
   "cell_type": "code",
   "execution_count": 1,
   "id": "a3c53aa3",
   "metadata": {},
   "outputs": [
    {
     "data": {
      "text/html": [
       "<div>\n",
       "<style scoped>\n",
       "    .dataframe tbody tr th:only-of-type {\n",
       "        vertical-align: middle;\n",
       "    }\n",
       "\n",
       "    .dataframe tbody tr th {\n",
       "        vertical-align: top;\n",
       "    }\n",
       "\n",
       "    .dataframe thead th {\n",
       "        text-align: right;\n",
       "    }\n",
       "</style>\n",
       "<table border=\"1\" class=\"dataframe\">\n",
       "  <thead>\n",
       "    <tr style=\"text-align: right;\">\n",
       "      <th></th>\n",
       "      <th>sepal length (cm)</th>\n",
       "      <th>sepal width (cm)</th>\n",
       "      <th>petal length (cm)</th>\n",
       "      <th>petal width (cm)</th>\n",
       "      <th>species</th>\n",
       "    </tr>\n",
       "  </thead>\n",
       "  <tbody>\n",
       "    <tr>\n",
       "      <th>0</th>\n",
       "      <td>5.1</td>\n",
       "      <td>3.5</td>\n",
       "      <td>1.4</td>\n",
       "      <td>0.2</td>\n",
       "      <td>setosa</td>\n",
       "    </tr>\n",
       "    <tr>\n",
       "      <th>1</th>\n",
       "      <td>4.9</td>\n",
       "      <td>3.0</td>\n",
       "      <td>1.4</td>\n",
       "      <td>0.2</td>\n",
       "      <td>setosa</td>\n",
       "    </tr>\n",
       "    <tr>\n",
       "      <th>2</th>\n",
       "      <td>4.7</td>\n",
       "      <td>3.2</td>\n",
       "      <td>1.3</td>\n",
       "      <td>0.2</td>\n",
       "      <td>setosa</td>\n",
       "    </tr>\n",
       "    <tr>\n",
       "      <th>3</th>\n",
       "      <td>4.6</td>\n",
       "      <td>3.1</td>\n",
       "      <td>1.5</td>\n",
       "      <td>0.2</td>\n",
       "      <td>setosa</td>\n",
       "    </tr>\n",
       "    <tr>\n",
       "      <th>4</th>\n",
       "      <td>5.0</td>\n",
       "      <td>3.6</td>\n",
       "      <td>1.4</td>\n",
       "      <td>0.2</td>\n",
       "      <td>setosa</td>\n",
       "    </tr>\n",
       "  </tbody>\n",
       "</table>\n",
       "</div>"
      ],
      "text/plain": [
       "   sepal length (cm)  sepal width (cm)  petal length (cm)  petal width (cm)  \\\n",
       "0                5.1               3.5                1.4               0.2   \n",
       "1                4.9               3.0                1.4               0.2   \n",
       "2                4.7               3.2                1.3               0.2   \n",
       "3                4.6               3.1                1.5               0.2   \n",
       "4                5.0               3.6                1.4               0.2   \n",
       "\n",
       "  species  \n",
       "0  setosa  \n",
       "1  setosa  \n",
       "2  setosa  \n",
       "3  setosa  \n",
       "4  setosa  "
      ]
     },
     "execution_count": 1,
     "metadata": {},
     "output_type": "execute_result"
    }
   ],
   "source": [
    "from sklearn.datasets import load_iris\n",
    "import pandas as pd \n",
    "import matplotlib.pyplot as plt\n",
    "\n",
    "iris = load_iris()\n",
    "iris_df = pd.DataFrame(data=iris.data, columns=iris.feature_names)\n",
    "target_df = pd.DataFrame(data=iris.target, columns=['species'])\n",
    "\n",
    "# 0, 1, 2로 되어있는 target 데이터를 \n",
    "# 알아보기 쉽게 'setosa', 'versicolor', 'virginica'로 바꿉니다 \n",
    "def converter(species):\n",
    "    if species == 0:\n",
    "        return 'setosa'\n",
    "    elif species == 1:\n",
    "        return 'versicolor'\n",
    "    else:\n",
    "        return 'virginica'\n",
    "\n",
    "target_df['species'] = target_df['species'].apply(converter)\n",
    "\n",
    "iris_df = pd.concat([iris_df, target_df], axis=1)\n",
    "iris_df.head()"
   ]
  },
  {
   "cell_type": "markdown",
   "id": "74163587",
   "metadata": {},
   "source": [
    "한 종의 꽃잎 길이 =X, 꽃받침 길이= Y"
   ]
  },
  {
   "cell_type": "code",
   "execution_count": 2,
   "id": "20edd7c8",
   "metadata": {},
   "outputs": [
    {
     "name": "stdout",
     "output_type": "stream",
     "text": [
      "[6.0, 5.1, 5.9, 5.6, 5.8, 6.6, 4.5, 6.3, 5.8, 6.1, 5.1, 5.3, 5.5, 5.0, 5.1, 5.3, 5.5, 6.7, 6.9, 5.0, 5.7, 4.9, 6.7, 4.9, 5.7, 6.0, 4.8, 4.9, 5.6, 5.8, 6.1, 6.4, 5.6, 5.1, 5.6, 6.1, 5.6, 5.5, 4.8, 5.4, 5.6, 5.1, 5.1, 5.9, 5.7, 5.2, 5.0, 5.2, 5.4, 5.1]\n",
      "[6.3, 5.8, 7.1, 6.3, 6.5, 7.6, 4.9, 7.3, 6.7, 7.2, 6.5, 6.4, 6.8, 5.7, 5.8, 6.4, 6.5, 7.7, 7.7, 6.0, 6.9, 5.6, 7.7, 6.3, 6.7, 7.2, 6.2, 6.1, 6.4, 7.2, 7.4, 7.9, 6.4, 6.3, 6.1, 7.7, 6.3, 6.4, 6.0, 6.9, 6.7, 6.9, 5.8, 6.8, 6.7, 6.7, 6.3, 6.5, 6.2, 5.9]\n"
     ]
    }
   ],
   "source": [
    "X = [iris_df['petal length (cm)'][a] for a in iris_df.index if iris_df['species'][a]=='virginica']\n",
    "Y = [iris_df['sepal length (cm)'][a] for a in iris_df.index if iris_df['species'][a]=='virginica']\n",
    "\n",
    "print(X)\n",
    "print(Y)"
   ]
  },
  {
   "cell_type": "code",
   "execution_count": 3,
   "id": "2fb2d7c7",
   "metadata": {},
   "outputs": [
    {
     "data": {
      "image/png": "[encoded data removed]",
      "text/plain": [
       "<Figure size 360x360 with 1 Axes>"
      ]
     },
     "metadata": {
      "needs_background": "light"
     },
     "output_type": "display_data"
    }
   ],
   "source": [
    "plt.figure(figsize=(5,5))\n",
    "plt.scatter(X,Y)\n",
    "plt.title('petal-sepal scatter before normalization') \n",
    "plt.xlabel('petal length (cm)')\n",
    "plt.ylabel('sepal length (cm)')\n",
    "plt.grid()\n",
    "plt.show()"
   ]
  },
  {
   "cell_type": "markdown",
   "id": "63485ac4",
   "metadata": {},
   "source": [
    "아직 normalization 전이기 때문에 각 축은 각 변수의 최대 최솟값으로 범위가 그려짐   \n",
    "이제 0-1로 normlizaiton 해주는 minmax_scale 이용해 적용"
   ]
  },
  {
   "cell_type": "markdown",
   "id": "c8209893",
   "metadata": {},
   "source": [
    "### Normalization"
   ]
  },
  {
   "cell_type": "code",
   "execution_count": 4,
   "id": "b7fcfe68",
   "metadata": {},
   "outputs": [
    {
     "data": {
      "image/png": "[encoded data removed]",
      "text/plain": [
       "<Figure size 360x360 with 1 Axes>"
      ]
     },
     "metadata": {
      "needs_background": "light"
     },
     "output_type": "display_data"
    }
   ],
   "source": [
    "from sklearn.preprocessing import minmax_scale\n",
    "\n",
    "X_scale = minmax_scale(X)\n",
    "Y_scale = minmax_scale(Y)\n",
    "\n",
    "plt.figure(figsize=(5,5))\n",
    "plt.scatter(X_scale,Y_scale)\n",
    "plt.title('petal-sepal scatter after normalization') \n",
    "plt.xlabel('petal length (cm)')\n",
    "plt.ylabel('sepal length (cm)')\n",
    "plt.grid()\n",
    "plt.show()"
   ]
  },
  {
   "cell_type": "markdown",
   "id": "fe8b4de9",
   "metadata": {},
   "source": [
    "축의 범위는 바뀌었지만 데이터 분포는 바뀌지 않음을 확인"
   ]
  },
  {
   "cell_type": "markdown",
   "id": "445f9178",
   "metadata": {},
   "source": [
    "### Regularization   \n",
    "L1, L2 Regression 모델 사용"
   ]
  },
  {
   "cell_type": "code",
   "execution_count": 5,
   "id": "02307385",
   "metadata": {},
   "outputs": [
    {
     "name": "stdout",
     "output_type": "stream",
     "text": [
      "기울기 : 1.00, 절편 : 1.06\n"
     ]
    }
   ],
   "source": [
    "from sklearn.linear_model import LinearRegression\n",
    "import numpy as np \n",
    "\n",
    "X = np.array(X)\n",
    "Y = np.array(Y)\n",
    "\n",
    "# Iris Dataset을 Linear Regression으로 학습합니다. \n",
    "linear= LinearRegression()\n",
    "linear.fit(X.reshape(-1,1), Y)\n",
    "\n",
    "# Linear Regression의 기울기와 절편을 확인합니다. \n",
    "a, b=linear.coef_, linear.intercept_\n",
    "print(\"기울기 : %0.2f, 절편 : %0.2f\" %(a,b))"
   ]
  },
  {
   "cell_type": "code",
   "execution_count": 6,
   "id": "c69fd289",
   "metadata": {},
   "outputs": [
    {
     "data": {
      "image/png": "[encoded data removed]",
      "text/plain": [
       "<Figure size 360x360 with 1 Axes>"
      ]
     },
     "metadata": {
      "needs_background": "light"
     },
     "output_type": "display_data"
    }
   ],
   "source": [
    "plt.figure(figsize=(5,5))\n",
    "plt.scatter(X,Y)\n",
    "plt.plot(X,linear.predict(X.reshape(-1,1)),'-b')\n",
    "plt.title('petal-sepal scatter with linear regression') \n",
    "plt.xlabel('petal length (cm)')\n",
    "plt.ylabel('sepal length (cm)')\n",
    "plt.grid()\n",
    "plt.show()"
   ]
  },
  {
   "cell_type": "markdown",
   "id": "edd5d432",
   "metadata": {},
   "source": [
    "- L1 적용 (Lasso)   \n",
    "     - 잘 적용하지 못하는 모습을 보임(기울기=0)"
   ]
  },
  {
   "cell_type": "code",
   "execution_count": 7,
   "id": "f4fd3630",
   "metadata": {},
   "outputs": [
    {
     "name": "stdout",
     "output_type": "stream",
     "text": [
      "기울기 : 0.00, 절편 : 6.59\n"
     ]
    },
    {
     "data": {
      "image/png": "[encoded data removed]",
      "text/plain": [
       "<Figure size 360x360 with 1 Axes>"
      ]
     },
     "metadata": {
      "needs_background": "light"
     },
     "output_type": "display_data"
    }
   ],
   "source": [
    "#L1 regularization은 Lasso로 import 합니다.\n",
    "from sklearn.linear_model import Lasso\n",
    "\n",
    "L1 = Lasso()\n",
    "L1.fit(X.reshape(-1,1), Y)\n",
    "a, b=L1.coef_, L1.intercept_\n",
    "print(\"기울기 : %0.2f, 절편 : %0.2f\" %(a,b))\n",
    "\n",
    "plt.figure(figsize=(5,5))\n",
    "plt.scatter(X,Y)\n",
    "plt.plot(X,L1.predict(X.reshape(-1,1)),'-b')\n",
    "plt.title('petal-sepal scatter with L1 regularization(Lasso)') \n",
    "plt.xlabel('petal length (cm)')\n",
    "plt.ylabel('sepal length (cm)')\n",
    "plt.grid()\n",
    "plt.show()"
   ]
  },
  {
   "cell_type": "markdown",
   "id": "bd4e0063",
   "metadata": {},
   "source": [
    "- L2 적용 (Ridge)   \n",
    "    - Linear Regression이 L2와 관련 있어 앞선 Linear Regression과 큰 차이가 없음"
   ]
  },
  {
   "cell_type": "code",
   "execution_count": 35,
   "id": "b8669056",
   "metadata": {},
   "outputs": [
    {
     "name": "stdout",
     "output_type": "stream",
     "text": [
      "기울기 : 0.93, 절편 : 1.41\n"
     ]
    },
    {
     "data": {
      "image/png": "[encoded data removed]",
      "text/plain": [
       "<Figure size 360x360 with 1 Axes>"
      ]
     },
     "metadata": {
      "needs_background": "light"
     },
     "output_type": "display_data"
    }
   ],
   "source": [
    "#L2 regularization은 Ridge로 import 합니다. \n",
    "from sklearn.linear_model import Ridge\n",
    "\n",
    "L2 = Ridge()\n",
    "L2.fit(X.reshape(-1,1), Y)\n",
    "a, b = L2.coef_, L2.intercept_\n",
    "print(\"기울기 : %0.2f, 절편 : %0.2f\" %(a,b))\n",
    "\n",
    "plt.figure(figsize=(5,5))\n",
    "plt.scatter(X,Y)\n",
    "plt.plot(X,L2.predict(X.reshape(-1,1)),'-b')\n",
    "plt.title('petal-sepal scatter with L2 regularization(Ridge)') \n",
    "plt.xlabel('petal length (cm)')\n",
    "plt.ylabel('sepal length (cm)')\n",
    "plt.grid()\n",
    "plt.show()"
   ]
  },
  {
   "cell_type": "markdown",
   "id": "cfb1d9ed",
   "metadata": {},
   "source": [
    "# L1 Regularization\n",
    "$\\hat{β}^{lasso}:=argminβ\\frac{1}{2N}1∑^N_{i=1}(y_i−β_0−∑^p_{j=1}x_{ij}β_j)^2+λ∑^p_{j=1}∣β_j∣$   \n"
   ]
  },
  {
   "cell_type": "markdown",
   "id": "af8e4b95",
   "metadata": {},
   "source": [
    "데이터 레이블 수가 더 많은 wine dataset으로 다시 L1 적용"
   ]
  },
  {
   "cell_type": "code",
   "execution_count": 8,
   "id": "a6c7f132",
   "metadata": {},
   "outputs": [],
   "source": [
    "from sklearn.datasets import load_wine\n",
    "\n",
    "wine = load_wine()\n",
    "wine_df = pd.DataFrame(data=wine.data, columns=wine.feature_names)\n",
    "target_df = pd.DataFrame(data=wine.target, columns=['Y'])"
   ]
  },
  {
   "cell_type": "markdown",
   "id": "29f7aef0",
   "metadata": {},
   "source": [
    "먼저 Linear Regression으로 문제 풀기"
   ]
  },
  {
   "cell_type": "code",
   "execution_count": 9,
   "id": "7ef3e475",
   "metadata": {},
   "outputs": [
    {
     "name": "stdout",
     "output_type": "stream",
     "text": [
      "result of linear regression\n",
      "Mean Absolute Error: 0.25128973939722626\n",
      "Mean Squared Error: 0.1062458740952556\n",
      "Mean Root Squared Error: 0.32595379134971814\n",
      "\n",
      "\n",
      " coefficient linear regression\n",
      "[[-8.09017190e-02  4.34817880e-02 -1.18857931e-01  3.65705449e-02\n",
      "  -4.68014203e-04  1.41423581e-01 -4.54107854e-01 -5.13172664e-01\n",
      "   9.69318443e-02  5.34311136e-02 -1.27626604e-01 -2.91381844e-01\n",
      "  -5.72238959e-04]]\n"
     ]
    }
   ],
   "source": [
    "from sklearn.model_selection import train_test_split\n",
    "from sklearn.linear_model import LinearRegression\n",
    "from sklearn.metrics import mean_absolute_error, mean_squared_error\n",
    "\n",
    "# 데이터를 준비하고\n",
    "X_train, X_test, y_train, y_test = train_test_split(wine_df, target_df, test_size=0.3, random_state=101)\n",
    "\n",
    "# 모델을 훈련시킵니다.\n",
    "model = LinearRegression()\n",
    "model.fit(X_train, y_train)\n",
    "\n",
    "# 테스트를 해볼까요?\n",
    "model.predict(X_test)\n",
    "pred = model.predict(X_test)\n",
    "\n",
    "# 테스트 결과는 이렇습니다!\n",
    "print(\"result of linear regression\")\n",
    "print('Mean Absolute Error:', mean_absolute_error(y_test, pred))\n",
    "print('Mean Squared Error:', mean_squared_error(y_test, pred))\n",
    "print('Mean Root Squared Error:', np.sqrt(mean_squared_error(y_test, pred)))\n",
    "\n",
    "print(\"\\n\\n coefficient linear regression\")\n",
    "print(model.coef_)"
   ]
  },
  {
   "cell_type": "markdown",
   "id": "ff673189",
   "metadata": {},
   "source": [
    "L1으로 풀기"
   ]
  },
  {
   "cell_type": "code",
   "execution_count": 10,
   "id": "3b1550bd",
   "metadata": {},
   "outputs": [
    {
     "name": "stdout",
     "output_type": "stream",
     "text": [
      "result of Lasso\n",
      "Mean Absolute Error: 0.24233731936122138\n",
      "Mean Squared Error: 0.0955956894578189\n",
      "Mean Root Squared Error: 0.3091855259513597\n",
      "\n",
      "\n",
      " coefficient of Lasso\n",
      "[-0.          0.01373795 -0.          0.03065716  0.00154719 -0.\n",
      " -0.34143614 -0.          0.          0.06755943 -0.         -0.14558153\n",
      " -0.00089635]\n"
     ]
    }
   ],
   "source": [
    "from sklearn.linear_model import Lasso\n",
    "from sklearn.metrics import mean_absolute_error, mean_squared_error\n",
    "\n",
    "# 모델을 준비하고 훈련시킵니다.\n",
    "L1 = Lasso(alpha=0.05)\n",
    "L1.fit(X_train, y_train)\n",
    "\n",
    "# 테스트를 해봅시다.\n",
    "pred = L1.predict(X_test)\n",
    "\n",
    "# 모델 성능은 얼마나 좋을까요?\n",
    "print(\"result of Lasso\")\n",
    "print('Mean Absolute Error:', mean_absolute_error(y_test, pred))\n",
    "print('Mean Squared Error:', mean_squared_error(y_test, pred))\n",
    "print('Mean Root Squared Error:', np.sqrt(mean_squared_error(y_test, pred)))\n",
    "\n",
    "print(\"\\n\\n coefficient of Lasso\")\n",
    "print(L1.coef_)"
   ]
  },
  {
   "cell_type": "markdown",
   "id": "01985e78",
   "metadata": {},
   "source": [
    "Linear regression과 다르게 L1을 사용할 경우 14개 전체 컬럼의 가중치를 탐색하지 않고 7개를 사용한 것을 알 수 있음 => 어떤 컬럼이 결과에 더 영향을 미치는지 알 수 있다.   \n",
    "L1, L2는 Linear regression과 다르게 수식에 $\\lamda$가 들어가며, 이 값에 따라 error에 영향을 미친다"
   ]
  },
  {
   "cell_type": "markdown",
   "id": "15d7820f",
   "metadata": {},
   "source": [
    "# L2 Regularization   \n",
    "$$β^{ridge}:=argmin_β\\frac{1}{2N}∑^N_{i=1}(y_i−β_0−∑^p_{j=1}x_{ij}β_j)^2+λ∑^p_{j=1}β_j^2$$   \n",
    "- 마지막항의 부분이 L2 Norm형태와 같음"
   ]
  },
  {
   "cell_type": "markdown",
   "id": "f21d146a",
   "metadata": {},
   "source": [
    "- L1과의 차이점   \n",
    "![Untitled](https://s3-us-west-2.amazonaws.com/secure.notion-static.com/0d70bcd5-ead5-4e70-ade2-7101c6b3b35e/Untitled.png)   \n",
    "- L1은 |β|를 사용하기 때문에 마름모 형태의 제약 조건 생성   \n",
    "- 등고선처럼 있는 선이 우리가 풀어야 하는 문제   \n",
    "- 이 둘이 만나는 지점=해   \n",
    "    - L1에서 몇개의 축에서 β값을 0으로 보낸다 = 몇 개의 레이블의 값을 0으로 만든다.   \n",
    "- L2는 $β^2$을 사용하기 때문에 원 형태의 제약 조건 생성   \n",
    "    - β가 0에 가까워짐을 알 수 있음   \n",
    "    - L1보다 수렴이 빠름   "
   ]
  },
  {
   "cell_type": "markdown",
   "id": "35e31bfd",
   "metadata": {},
   "source": [
    "- L1\n",
    "    - 가중치가 적은 벡터에 해당하는 계수 0으로 보내며 차원축소 역할\n",
    "- L2\n",
    "    - 0에 가깝게 보내는 제곱 term으로 인해 수렴 속도가 빠르게 됨\n",
    "    - 결과에 큰 영향 미친다 = 더 크게\n",
    "    - 결과에적은 영향을 미친다 = 더 작게\n",
    "    \n",
    "\n",
    "$\\therefore$데이터 특성에 맞는 규제 방법을 선택해야 함"
   ]
  },
  {
   "cell_type": "code",
   "execution_count": 11,
   "id": "7d5e0a5e",
   "metadata": {},
   "outputs": [
    {
     "name": "stdout",
     "output_type": "stream",
     "text": [
      "=3\n"
     ]
    }
   ],
   "source": [
    "from sklearn.datasets import load_wine\n",
    "import pandas as pd\n",
    "import numpy as np\n",
    "from sklearn.model_selection import train_test_split\n",
    "from sklearn.metrics import mean_absolute_error, mean_squared_error\n",
    "\n",
    "wine = load_wine()\n",
    "wine_df = pd.DataFrame(data=wine.data, columns=wine.feature_names)\n",
    "target_df = pd.DataFrame(data=wine.target, columns=['Y'])\n",
    "X_train, X_test, y_train, y_test = train_test_split(wine_df, target_df, test_size= 0.3, random_state=101)\n",
    "print('=3')"
   ]
  },
  {
   "cell_type": "code",
   "execution_count": 12,
   "id": "37b86388",
   "metadata": {},
   "outputs": [
    {
     "name": "stdout",
     "output_type": "stream",
     "text": [
      "result of Lasso\n",
      "Mean Absolute Error: 0.24845768841769436\n",
      "Mean Squared Error: 0.10262989110341268\n",
      "Mean Root Squared Error: 0.32035900346862844\n",
      "\n",
      "\n",
      " coefficient of Lasso\n",
      "[-0.          0.         -0.          0.03295564  0.00109495  0.\n",
      " -0.4027847   0.          0.          0.06023131 -0.         -0.12001119\n",
      " -0.00078971]\n"
     ]
    },
    {
     "name": "stderr",
     "output_type": "stream",
     "text": [
      "/opt/conda/lib/python3.9/site-packages/sklearn/linear_model/_coordinate_descent.py:645: ConvergenceWarning: Objective did not converge. You might want to increase the number of iterations, check the scale of the features or consider increasing regularisation. Duality gap: 3.924e+00, tolerance: 7.480e-03\n",
      "  model = cd_fast.enet_coordinate_descent(\n"
     ]
    }
   ],
   "source": [
    "from sklearn.linear_model import Lasso\n",
    "\n",
    "L1 = Lasso(alpha=0.05, max_iter=5)\n",
    "L1.fit(X_train, y_train)\n",
    "pred = L1.predict(X_test)\n",
    "\n",
    "print(\"result of Lasso\")\n",
    "print('Mean Absolute Error:', mean_absolute_error(y_test, pred))\n",
    "print('Mean Squared Error:', mean_squared_error(y_test, pred))\n",
    "print('Mean Root Squared Error:', np.sqrt(mean_squared_error(y_test, pred)))\n",
    "\n",
    "print(\"\\n\\n coefficient of Lasso\")\n",
    "print(L1.coef_)"
   ]
  },
  {
   "cell_type": "code",
   "execution_count": 13,
   "id": "a4d31973",
   "metadata": {},
   "outputs": [
    {
     "name": "stdout",
     "output_type": "stream",
     "text": [
      "result of Ridge\n",
      "Mean Absolute Error: 0.251146695993643\n",
      "Mean Squared Error: 0.10568076460795564\n",
      "Mean Root Squared Error: 0.3250857803841251\n",
      "\n",
      "\n",
      " coefficient of Ridge\n",
      "[[-8.12456257e-02  4.35541496e-02 -1.21661565e-01  3.65979773e-02\n",
      "  -3.94014013e-04  1.39168707e-01 -4.50691113e-01 -4.87216747e-01\n",
      "   9.54111059e-02  5.37077039e-02 -1.28602933e-01 -2.89832790e-01\n",
      "  -5.73136185e-04]]\n"
     ]
    }
   ],
   "source": [
    "from sklearn.linear_model import Ridge\n",
    "\n",
    "L2 = Ridge(alpha=0.05,max_iter=5)\n",
    "L2.fit(X_train, y_train)\n",
    "pred = L2.predict(X_test)\n",
    "\n",
    "print(\"result of Ridge\")\n",
    "print('Mean Absolute Error:', mean_absolute_error(y_test, pred))\n",
    "print('Mean Squared Error:', mean_squared_error(y_test, pred))\n",
    "print('Mean Root Squared Error:', np.sqrt(mean_squared_error(y_test, pred)))\n",
    "\n",
    "print(\"\\n\\n coefficient of Ridge\")\n",
    "print(L2.coef_)"
   ]
  },
  {
   "cell_type": "markdown",
   "id": "3c40b2cc",
   "metadata": {},
   "source": [
    "L1은 수렴조차 하지 않은 것을 알 수 있음   \n",
    "\n",
    "- L1\n",
    "    - 가중치가 적은 벡터에 해당하는 계수 0으로 보내며 차원축소 역할\n",
    "- L2\n",
    "    - 0에 가깝게 보내는 제곱 term으로 인해 수렴 속도가 빠르게 됨\n",
    "    - 결과에 큰 영향 미친다 = 더 크게\n",
    "    - 결과에 적은 영향을 미친다 = 더 작게"
   ]
  },
  {
   "cell_type": "markdown",
   "id": "2921b13f",
   "metadata": {},
   "source": [
    "# Lp norm"
   ]
  },
  {
   "cell_type": "markdown",
   "id": "fbca5a0a",
   "metadata": {},
   "source": [
    "### Vector norm\n",
    "\n",
    "- L1/L2의 Norm = 벡터 norm   \n",
    "$∣∣x∣∣_p:=(∑^n_{i=1}x_i^p)^{1/p}$"
   ]
  },
  {
   "cell_type": "code",
   "execution_count": 14,
   "id": "0c3e67c3",
   "metadata": {},
   "outputs": [
    {
     "name": "stdout",
     "output_type": "stream",
     "text": [
      "result of numpy package norm function : 10.00008 \n",
      "result of making norm : 10.00008 \n"
     ]
    }
   ],
   "source": [
    "x=np.array([1,10,1,1,1])\n",
    "p=5\n",
    "norm_x=np.linalg.norm(x, ord=p)\n",
    "making_norm = (sum(x**p))**(1/p)\n",
    "print(\"result of numpy package norm function : %0.5f \"%norm_x) \n",
    "print(\"result of making norm : %0.5f \"%making_norm)"
   ]
  },
  {
   "cell_type": "markdown",
   "id": "4c486730",
   "metadata": {},
   "source": [
    "- p = 무한대 (infinity norm)\n",
    "\n",
    "$$\n",
    "∣∣x∣∣_∞:=max(x)\n",
    "$$\n",
    "    - 가장 큰 숫자를 출력"
   ]
  },
  {
   "cell_type": "code",
   "execution_count": 15,
   "id": "410238cf",
   "metadata": {},
   "outputs": [
    {
     "name": "stdout",
     "output_type": "stream",
     "text": [
      "result of infinite norm : 10.00000 \n"
     ]
    }
   ],
   "source": [
    "norm_x=np.linalg.norm(x, ord=np.inf)\n",
    "print(\"result of infinite norm : %0.5f \"%norm_x)"
   ]
  },
  {
   "cell_type": "markdown",
   "id": "8d1c67fe",
   "metadata": {},
   "source": [
    "### matrix norm\n",
    "\n",
    "- 주로 p=1이거나 무한대인 경우가 중요\n",
    "- m * n 행렬 A가 주어졌을 때\n",
    "    \n",
    "    ![Untitled](https://s3-us-west-2.amazonaws.com/secure.notion-static.com/e83a2b9a-6cae-445e-aa3e-eb50a3bb6e98/Untitled.png)\n",
    "    \n",
    "    - p=1인 경우에는 colum의 합이 가장 큰 값 출력\n",
    "    - p=무한대인 경우에는 row의 합이 가장 큰 값 출력됨"
   ]
  },
  {
   "cell_type": "code",
   "execution_count": 16,
   "id": "0b43a542",
   "metadata": {},
   "outputs": [
    {
     "name": "stdout",
     "output_type": "stream",
     "text": [
      "result inf norm of A : 18.0\n",
      "result one norm of A : 14.0\n"
     ]
    }
   ],
   "source": [
    "A=np.array([[1,2,3],[1,2,3],[4,6,8]])\n",
    "inf_norm_A=np.linalg.norm(A, ord=np.inf)\n",
    "print(\"result inf norm of A :\", inf_norm_A)\n",
    "one_norm_A=np.linalg.norm(A, ord=1)\n",
    "print(\"result one norm of A :\", one_norm_A)"
   ]
  },
  {
   "cell_type": "markdown",
   "id": "357b6512",
   "metadata": {},
   "source": [
    "# Dropout\n",
    "\n",
    "- 확률적으로 랜덤하게 몇가지의 뉴런만 선택하여 정보를 전달하는 과정\n",
    "- 확률이 너무 높다 = 제대로 전달되지 않아 학습이 잘 안됨\n",
    "- 확률이 너무 낮다 = FC와 별반 다를 것이 없음 ⇒FC 레이어에서 오버피팅 생기는 경우 사용"
   ]
  },
  {
   "cell_type": "markdown",
   "id": "efaaa41a",
   "metadata": {},
   "source": [
    "Fation Mnist 사용하여 드롭아웃 실험하기 - 확률이 높을 때와 적용하지 않을 때 비교"
   ]
  },
  {
   "cell_type": "code",
   "execution_count": 17,
   "id": "9c4991ff",
   "metadata": {},
   "outputs": [],
   "source": [
    "import tensorflow as tf\n",
    "from tensorflow import keras\n",
    "import numpy as np\n",
    "import matplotlib.pyplot as plt\n",
    "from sklearn.model_selection import train_test_split\n",
    "\n",
    "fashion_mnist = keras.datasets.fashion_mnist"
   ]
  },
  {
   "cell_type": "code",
   "execution_count": 18,
   "id": "c3a05e85",
   "metadata": {},
   "outputs": [],
   "source": [
    "(train_images, train_labels), (test_images, test_labels) = fashion_mnist.load_data()\n",
    "class_names = ['T-shirt/top', 'Trouser', 'Pullover', 'Dress', 'Coat',\n",
    "               'Sandal', 'Shirt', 'Sneaker', 'Bag', 'Ankle boot']\n",
    "\n",
    "train_images = train_images / 255.0\n",
    "test_images = test_images / 255.0"
   ]
  },
  {
   "cell_type": "code",
   "execution_count": 19,
   "id": "e52b6bbc",
   "metadata": {},
   "outputs": [
    {
     "name": "stdout",
     "output_type": "stream",
     "text": [
      "Epoch 1/5\n",
      "1875/1875 [==============================] - 11s 2ms/step - loss: 1.4196 - accuracy: 0.4369\n",
      "Epoch 2/5\n",
      "1875/1875 [==============================] - 3s 2ms/step - loss: 1.1909 - accuracy: 0.5155\n",
      "Epoch 3/5\n",
      "1875/1875 [==============================] - 3s 2ms/step - loss: 1.1419 - accuracy: 0.5341\n",
      "Epoch 4/5\n",
      "1875/1875 [==============================] - 3s 2ms/step - loss: 1.1016 - accuracy: 0.5531\n",
      "Epoch 5/5\n",
      "1875/1875 [==============================] - 3s 2ms/step - loss: 1.0786 - accuracy: 0.5656\n"
     ]
    }
   ],
   "source": [
    "model = keras.Sequential([\n",
    "    keras.layers.Flatten(input_shape=(28, 28)),\n",
    "    keras.layers.Dense(128, activation='relu'),\n",
    "    # 여기에 dropout layer를 추가해보았습니다. 나머지 layer는 아래의 실습과 같습니다.\n",
    "    keras.layers.Dropout(0.9),\n",
    "    keras.layers.Dense(10, activation='softmax')\n",
    "])\n",
    "\n",
    "model.compile(optimizer='adam',loss='sparse_categorical_crossentropy',\n",
    "              metrics=['accuracy'])\n",
    "\n",
    "history= model.fit(train_images, train_labels, epochs=5)"
   ]
  },
  {
   "cell_type": "code",
   "execution_count": 20,
   "id": "252ef2e0",
   "metadata": {},
   "outputs": [
    {
     "name": "stdout",
     "output_type": "stream",
     "text": [
      "Epoch 1/5\n",
      "1875/1875 [==============================] - 4s 2ms/step - loss: 0.4989 - accuracy: 0.8239\n",
      "Epoch 2/5\n",
      "1875/1875 [==============================] - 3s 2ms/step - loss: 0.3715 - accuracy: 0.8668\n",
      "Epoch 3/5\n",
      "1875/1875 [==============================] - 3s 2ms/step - loss: 0.3354 - accuracy: 0.8781\n",
      "Epoch 4/5\n",
      "1875/1875 [==============================] - 3s 2ms/step - loss: 0.3111 - accuracy: 0.8842\n",
      "Epoch 5/5\n",
      "1875/1875 [==============================] - 3s 2ms/step - loss: 0.2924 - accuracy: 0.8910\n"
     ]
    }
   ],
   "source": [
    "model = keras.Sequential([\n",
    "    keras.layers.Flatten(input_shape=(28, 28)),\n",
    "    # 이번에는 dropout layer가 없습니다. \n",
    "    keras.layers.Dense(128, activation='relu'),\n",
    "    keras.layers.Dense(10, activation='softmax')\n",
    "])\n",
    "\n",
    "model.compile(optimizer='adam',loss='sparse_categorical_crossentropy',\n",
    "              metrics=['accuracy'])\n",
    "\n",
    "history = model.fit(train_images, train_labels, epochs=5)"
   ]
  },
  {
   "cell_type": "markdown",
   "id": "edc8494b",
   "metadata": {},
   "source": [
    "오히려 드롭아웃 적용되지 않은 경우가 더 잘 작동하는 것을 볼 수 있음"
   ]
  },
  {
   "cell_type": "markdown",
   "id": "8be1e40c",
   "metadata": {},
   "source": [
    "이번에는 오버피팅 환경에서 드롭아웃을 적용해보며 얼마나 효과가 있는지 확인해보자"
   ]
  },
  {
   "cell_type": "code",
   "execution_count": 21,
   "id": "0ee19834",
   "metadata": {},
   "outputs": [
    {
     "name": "stdout",
     "output_type": "stream",
     "text": [
      "Epoch 1/200\n",
      "117/117 [==============================] - 1s 4ms/step - loss: 2.0483 - accuracy: 0.5382 - val_loss: 1.6399 - val_accuracy: 0.6017\n",
      "Epoch 2/200\n",
      "117/117 [==============================] - 0s 3ms/step - loss: 1.4023 - accuracy: 0.6037 - val_loss: 1.1775 - val_accuracy: 0.6350\n",
      "Epoch 3/200\n",
      "117/117 [==============================] - 0s 3ms/step - loss: 1.0766 - accuracy: 0.6749 - val_loss: 0.9540 - val_accuracy: 0.7200\n",
      "Epoch 4/200\n",
      "117/117 [==============================] - 0s 3ms/step - loss: 0.8971 - accuracy: 0.7170 - val_loss: 0.8198 - val_accuracy: 0.7483\n",
      "Epoch 5/200\n",
      "117/117 [==============================] - 0s 3ms/step - loss: 0.7906 - accuracy: 0.7351 - val_loss: 0.7391 - val_accuracy: 0.7650\n",
      "Epoch 6/200\n",
      "117/117 [==============================] - 0s 3ms/step - loss: 0.7261 - accuracy: 0.7462 - val_loss: 0.6884 - val_accuracy: 0.7750\n",
      "Epoch 7/200\n",
      "117/117 [==============================] - 0s 3ms/step - loss: 0.6832 - accuracy: 0.7579 - val_loss: 0.6593 - val_accuracy: 0.7767\n",
      "Epoch 8/200\n",
      "117/117 [==============================] - 0s 3ms/step - loss: 0.6524 - accuracy: 0.7660 - val_loss: 0.6291 - val_accuracy: 0.7850\n",
      "Epoch 9/200\n",
      "117/117 [==============================] - 0s 3ms/step - loss: 0.6282 - accuracy: 0.7751 - val_loss: 0.6082 - val_accuracy: 0.7883\n",
      "Epoch 10/200\n",
      "117/117 [==============================] - 0s 3ms/step - loss: 0.6071 - accuracy: 0.7825 - val_loss: 0.5911 - val_accuracy: 0.7950\n",
      "Epoch 11/200\n",
      "117/117 [==============================] - 0s 3ms/step - loss: 0.5891 - accuracy: 0.7895 - val_loss: 0.5767 - val_accuracy: 0.7917\n",
      "Epoch 12/200\n",
      "117/117 [==============================] - 0s 3ms/step - loss: 0.5728 - accuracy: 0.7954 - val_loss: 0.5655 - val_accuracy: 0.7950\n",
      "Epoch 13/200\n",
      "117/117 [==============================] - 0s 3ms/step - loss: 0.5581 - accuracy: 0.8026 - val_loss: 0.5511 - val_accuracy: 0.7967\n",
      "Epoch 14/200\n",
      "117/117 [==============================] - 0s 3ms/step - loss: 0.5468 - accuracy: 0.8066 - val_loss: 0.5372 - val_accuracy: 0.8050\n",
      "Epoch 15/200\n",
      "117/117 [==============================] - 0s 3ms/step - loss: 0.5346 - accuracy: 0.8113 - val_loss: 0.5292 - val_accuracy: 0.8067\n",
      "Epoch 16/200\n",
      "117/117 [==============================] - 0s 3ms/step - loss: 0.5248 - accuracy: 0.8152 - val_loss: 0.5213 - val_accuracy: 0.8083\n",
      "Epoch 17/200\n",
      "117/117 [==============================] - 0s 3ms/step - loss: 0.5155 - accuracy: 0.8189 - val_loss: 0.5130 - val_accuracy: 0.8133\n",
      "Epoch 18/200\n",
      "117/117 [==============================] - 0s 3ms/step - loss: 0.5083 - accuracy: 0.8216 - val_loss: 0.5063 - val_accuracy: 0.8200\n",
      "Epoch 19/200\n",
      "117/117 [==============================] - 0s 3ms/step - loss: 0.4996 - accuracy: 0.8248 - val_loss: 0.5007 - val_accuracy: 0.8133\n",
      "Epoch 20/200\n",
      "117/117 [==============================] - 0s 3ms/step - loss: 0.4942 - accuracy: 0.8263 - val_loss: 0.4961 - val_accuracy: 0.8167\n",
      "Epoch 21/200\n",
      "117/117 [==============================] - 0s 3ms/step - loss: 0.4876 - accuracy: 0.8277 - val_loss: 0.4950 - val_accuracy: 0.8200\n",
      "Epoch 22/200\n",
      "117/117 [==============================] - 0s 3ms/step - loss: 0.4812 - accuracy: 0.8301 - val_loss: 0.4848 - val_accuracy: 0.8217\n",
      "Epoch 23/200\n",
      "117/117 [==============================] - 0s 3ms/step - loss: 0.4759 - accuracy: 0.8334 - val_loss: 0.4785 - val_accuracy: 0.8200\n",
      "Epoch 24/200\n",
      "117/117 [==============================] - 0s 3ms/step - loss: 0.4717 - accuracy: 0.8347 - val_loss: 0.4733 - val_accuracy: 0.8233\n",
      "Epoch 25/200\n",
      "117/117 [==============================] - 0s 3ms/step - loss: 0.4667 - accuracy: 0.8356 - val_loss: 0.4661 - val_accuracy: 0.8233\n",
      "Epoch 26/200\n",
      "117/117 [==============================] - 0s 3ms/step - loss: 0.4625 - accuracy: 0.8376 - val_loss: 0.4651 - val_accuracy: 0.8300\n",
      "Epoch 27/200\n",
      "117/117 [==============================] - 0s 3ms/step - loss: 0.4587 - accuracy: 0.8387 - val_loss: 0.4624 - val_accuracy: 0.8300\n",
      "Epoch 28/200\n",
      "117/117 [==============================] - 0s 3ms/step - loss: 0.4549 - accuracy: 0.8410 - val_loss: 0.4622 - val_accuracy: 0.8350\n",
      "Epoch 29/200\n",
      "117/117 [==============================] - 0s 3ms/step - loss: 0.4509 - accuracy: 0.8414 - val_loss: 0.4557 - val_accuracy: 0.8333\n",
      "Epoch 30/200\n",
      "117/117 [==============================] - 0s 3ms/step - loss: 0.4474 - accuracy: 0.8435 - val_loss: 0.4522 - val_accuracy: 0.8350\n",
      "Epoch 31/200\n",
      "117/117 [==============================] - 0s 3ms/step - loss: 0.4439 - accuracy: 0.8444 - val_loss: 0.4467 - val_accuracy: 0.8333\n",
      "Epoch 32/200\n",
      "117/117 [==============================] - 0s 3ms/step - loss: 0.4406 - accuracy: 0.8458 - val_loss: 0.4497 - val_accuracy: 0.8367\n",
      "Epoch 33/200\n",
      "117/117 [==============================] - 0s 3ms/step - loss: 0.4380 - accuracy: 0.8469 - val_loss: 0.4399 - val_accuracy: 0.8367\n",
      "Epoch 34/200\n",
      "117/117 [==============================] - 0s 3ms/step - loss: 0.4357 - accuracy: 0.8471 - val_loss: 0.4391 - val_accuracy: 0.8333\n",
      "Epoch 35/200\n",
      "117/117 [==============================] - 0s 3ms/step - loss: 0.4328 - accuracy: 0.8487 - val_loss: 0.4393 - val_accuracy: 0.8367\n",
      "Epoch 36/200\n",
      "117/117 [==============================] - 0s 3ms/step - loss: 0.4295 - accuracy: 0.8498 - val_loss: 0.4350 - val_accuracy: 0.8417\n",
      "Epoch 37/200\n",
      "117/117 [==============================] - 0s 3ms/step - loss: 0.4265 - accuracy: 0.8509 - val_loss: 0.4303 - val_accuracy: 0.8400\n",
      "Epoch 38/200\n",
      "117/117 [==============================] - 0s 3ms/step - loss: 0.4246 - accuracy: 0.8509 - val_loss: 0.4340 - val_accuracy: 0.8383\n",
      "Epoch 39/200\n",
      "117/117 [==============================] - 0s 3ms/step - loss: 0.4226 - accuracy: 0.8515 - val_loss: 0.4308 - val_accuracy: 0.8317\n",
      "Epoch 40/200\n",
      "117/117 [==============================] - 0s 3ms/step - loss: 0.4216 - accuracy: 0.8518 - val_loss: 0.4268 - val_accuracy: 0.8367\n",
      "Epoch 41/200\n",
      "117/117 [==============================] - 0s 3ms/step - loss: 0.4175 - accuracy: 0.8539 - val_loss: 0.4245 - val_accuracy: 0.8350\n",
      "Epoch 42/200\n",
      "117/117 [==============================] - 0s 3ms/step - loss: 0.4157 - accuracy: 0.8545 - val_loss: 0.4185 - val_accuracy: 0.8400\n",
      "Epoch 43/200\n",
      "117/117 [==============================] - 0s 3ms/step - loss: 0.4138 - accuracy: 0.8546 - val_loss: 0.4176 - val_accuracy: 0.8350\n",
      "Epoch 44/200\n",
      "117/117 [==============================] - 0s 3ms/step - loss: 0.4125 - accuracy: 0.8563 - val_loss: 0.4197 - val_accuracy: 0.8350\n",
      "Epoch 45/200\n",
      "117/117 [==============================] - 0s 3ms/step - loss: 0.4096 - accuracy: 0.8564 - val_loss: 0.4134 - val_accuracy: 0.8383\n",
      "Epoch 46/200\n",
      "117/117 [==============================] - 0s 3ms/step - loss: 0.4077 - accuracy: 0.8573 - val_loss: 0.4175 - val_accuracy: 0.8350\n",
      "Epoch 47/200\n",
      "117/117 [==============================] - 0s 3ms/step - loss: 0.4062 - accuracy: 0.8577 - val_loss: 0.4116 - val_accuracy: 0.8350\n",
      "Epoch 48/200\n",
      "117/117 [==============================] - 0s 3ms/step - loss: 0.4050 - accuracy: 0.8570 - val_loss: 0.4108 - val_accuracy: 0.8350\n",
      "Epoch 49/200\n",
      "117/117 [==============================] - 0s 3ms/step - loss: 0.4025 - accuracy: 0.8590 - val_loss: 0.4085 - val_accuracy: 0.8400\n",
      "Epoch 50/200\n",
      "117/117 [==============================] - 0s 3ms/step - loss: 0.4016 - accuracy: 0.8592 - val_loss: 0.4121 - val_accuracy: 0.8350\n",
      "Epoch 51/200\n",
      "117/117 [==============================] - 0s 3ms/step - loss: 0.3998 - accuracy: 0.8589 - val_loss: 0.4066 - val_accuracy: 0.8350\n",
      "Epoch 52/200\n",
      "117/117 [==============================] - 0s 3ms/step - loss: 0.3973 - accuracy: 0.8604 - val_loss: 0.4002 - val_accuracy: 0.8383\n",
      "Epoch 53/200\n",
      "117/117 [==============================] - 0s 3ms/step - loss: 0.3961 - accuracy: 0.8608 - val_loss: 0.3992 - val_accuracy: 0.8367\n",
      "Epoch 54/200\n",
      "117/117 [==============================] - 0s 3ms/step - loss: 0.3944 - accuracy: 0.8613 - val_loss: 0.4007 - val_accuracy: 0.8417\n",
      "Epoch 55/200\n",
      "117/117 [==============================] - 0s 3ms/step - loss: 0.3938 - accuracy: 0.8611 - val_loss: 0.4016 - val_accuracy: 0.8367\n",
      "Epoch 56/200\n",
      "117/117 [==============================] - 0s 3ms/step - loss: 0.3928 - accuracy: 0.8621 - val_loss: 0.3972 - val_accuracy: 0.8367\n",
      "Epoch 57/200\n",
      "117/117 [==============================] - 0s 3ms/step - loss: 0.3903 - accuracy: 0.8626 - val_loss: 0.4012 - val_accuracy: 0.8400\n"
     ]
    },
    {
     "name": "stdout",
     "output_type": "stream",
     "text": [
      "Epoch 58/200\n",
      "117/117 [==============================] - 0s 3ms/step - loss: 0.3901 - accuracy: 0.8622 - val_loss: 0.3997 - val_accuracy: 0.8383\n",
      "Epoch 59/200\n",
      "117/117 [==============================] - 0s 3ms/step - loss: 0.3894 - accuracy: 0.8635 - val_loss: 0.3927 - val_accuracy: 0.8383\n",
      "Epoch 60/200\n",
      "117/117 [==============================] - 0s 3ms/step - loss: 0.3867 - accuracy: 0.8632 - val_loss: 0.3943 - val_accuracy: 0.8367\n",
      "Epoch 61/200\n",
      "117/117 [==============================] - 0s 3ms/step - loss: 0.3848 - accuracy: 0.8649 - val_loss: 0.3904 - val_accuracy: 0.8383\n",
      "Epoch 62/200\n",
      "117/117 [==============================] - 0s 3ms/step - loss: 0.3829 - accuracy: 0.8651 - val_loss: 0.3903 - val_accuracy: 0.8400\n",
      "Epoch 63/200\n",
      "117/117 [==============================] - 0s 3ms/step - loss: 0.3822 - accuracy: 0.8660 - val_loss: 0.3924 - val_accuracy: 0.8350\n",
      "Epoch 64/200\n",
      "117/117 [==============================] - 0s 3ms/step - loss: 0.3813 - accuracy: 0.8661 - val_loss: 0.3896 - val_accuracy: 0.8383\n",
      "Epoch 65/200\n",
      "117/117 [==============================] - 0s 3ms/step - loss: 0.3805 - accuracy: 0.8654 - val_loss: 0.3886 - val_accuracy: 0.8433\n",
      "Epoch 66/200\n",
      "117/117 [==============================] - 0s 3ms/step - loss: 0.3788 - accuracy: 0.8668 - val_loss: 0.3884 - val_accuracy: 0.8417\n",
      "Epoch 67/200\n",
      "117/117 [==============================] - 0s 3ms/step - loss: 0.3772 - accuracy: 0.8675 - val_loss: 0.3837 - val_accuracy: 0.8400\n",
      "Epoch 68/200\n",
      "117/117 [==============================] - 0s 3ms/step - loss: 0.3767 - accuracy: 0.8671 - val_loss: 0.3855 - val_accuracy: 0.8417\n",
      "Epoch 69/200\n",
      "117/117 [==============================] - 0s 3ms/step - loss: 0.3755 - accuracy: 0.8674 - val_loss: 0.3892 - val_accuracy: 0.8417\n",
      "Epoch 70/200\n",
      "117/117 [==============================] - 0s 3ms/step - loss: 0.3757 - accuracy: 0.8682 - val_loss: 0.3866 - val_accuracy: 0.8450\n",
      "Epoch 71/200\n",
      "117/117 [==============================] - 0s 3ms/step - loss: 0.3745 - accuracy: 0.8674 - val_loss: 0.3831 - val_accuracy: 0.8433\n",
      "Epoch 72/200\n",
      "117/117 [==============================] - 0s 3ms/step - loss: 0.3727 - accuracy: 0.8692 - val_loss: 0.3800 - val_accuracy: 0.8383\n",
      "Epoch 73/200\n",
      "117/117 [==============================] - 0s 3ms/step - loss: 0.3708 - accuracy: 0.8698 - val_loss: 0.3758 - val_accuracy: 0.8517\n",
      "Epoch 74/200\n",
      "117/117 [==============================] - 0s 3ms/step - loss: 0.3698 - accuracy: 0.8695 - val_loss: 0.3773 - val_accuracy: 0.8417\n",
      "Epoch 75/200\n",
      "117/117 [==============================] - 0s 3ms/step - loss: 0.3696 - accuracy: 0.8696 - val_loss: 0.3807 - val_accuracy: 0.8450\n",
      "Epoch 76/200\n",
      "117/117 [==============================] - 0s 3ms/step - loss: 0.3686 - accuracy: 0.8701 - val_loss: 0.3773 - val_accuracy: 0.8417\n",
      "Epoch 77/200\n",
      "117/117 [==============================] - 0s 3ms/step - loss: 0.3670 - accuracy: 0.8711 - val_loss: 0.3785 - val_accuracy: 0.8483\n",
      "Epoch 78/200\n",
      "117/117 [==============================] - 0s 3ms/step - loss: 0.3664 - accuracy: 0.8710 - val_loss: 0.3728 - val_accuracy: 0.8450\n",
      "Epoch 79/200\n",
      "117/117 [==============================] - 0s 3ms/step - loss: 0.3653 - accuracy: 0.8713 - val_loss: 0.3764 - val_accuracy: 0.8450\n",
      "Epoch 80/200\n",
      "117/117 [==============================] - 0s 3ms/step - loss: 0.3646 - accuracy: 0.8720 - val_loss: 0.3755 - val_accuracy: 0.8433\n",
      "Epoch 81/200\n",
      "117/117 [==============================] - 0s 3ms/step - loss: 0.3633 - accuracy: 0.8718 - val_loss: 0.3743 - val_accuracy: 0.8467\n",
      "Epoch 82/200\n",
      "117/117 [==============================] - 0s 3ms/step - loss: 0.3619 - accuracy: 0.8725 - val_loss: 0.3712 - val_accuracy: 0.8450\n",
      "Epoch 83/200\n",
      "117/117 [==============================] - 0s 3ms/step - loss: 0.3620 - accuracy: 0.8721 - val_loss: 0.3708 - val_accuracy: 0.8467\n",
      "Epoch 84/200\n",
      "117/117 [==============================] - 0s 3ms/step - loss: 0.3607 - accuracy: 0.8728 - val_loss: 0.3715 - val_accuracy: 0.8567\n",
      "Epoch 85/200\n",
      "117/117 [==============================] - 0s 3ms/step - loss: 0.3596 - accuracy: 0.8732 - val_loss: 0.3690 - val_accuracy: 0.8483\n",
      "Epoch 86/200\n",
      "117/117 [==============================] - 0s 3ms/step - loss: 0.3590 - accuracy: 0.8737 - val_loss: 0.3685 - val_accuracy: 0.8533\n",
      "Epoch 87/200\n",
      "117/117 [==============================] - 0s 3ms/step - loss: 0.3579 - accuracy: 0.8734 - val_loss: 0.3682 - val_accuracy: 0.8567\n",
      "Epoch 88/200\n",
      "117/117 [==============================] - 0s 3ms/step - loss: 0.3565 - accuracy: 0.8738 - val_loss: 0.3740 - val_accuracy: 0.8500\n",
      "Epoch 89/200\n",
      "117/117 [==============================] - 0s 3ms/step - loss: 0.3568 - accuracy: 0.8745 - val_loss: 0.3649 - val_accuracy: 0.8500\n",
      "Epoch 90/200\n",
      "117/117 [==============================] - 0s 3ms/step - loss: 0.3543 - accuracy: 0.8752 - val_loss: 0.3684 - val_accuracy: 0.8550\n",
      "Epoch 91/200\n",
      "117/117 [==============================] - 0s 3ms/step - loss: 0.3544 - accuracy: 0.8750 - val_loss: 0.3646 - val_accuracy: 0.8450\n",
      "Epoch 92/200\n",
      "117/117 [==============================] - 0s 3ms/step - loss: 0.3531 - accuracy: 0.8755 - val_loss: 0.3677 - val_accuracy: 0.8533\n",
      "Epoch 93/200\n",
      "117/117 [==============================] - 0s 3ms/step - loss: 0.3527 - accuracy: 0.8759 - val_loss: 0.3663 - val_accuracy: 0.8633\n",
      "Epoch 94/200\n",
      "117/117 [==============================] - 0s 3ms/step - loss: 0.3532 - accuracy: 0.8755 - val_loss: 0.3614 - val_accuracy: 0.8533\n",
      "Epoch 95/200\n",
      "117/117 [==============================] - 0s 3ms/step - loss: 0.3506 - accuracy: 0.8765 - val_loss: 0.3618 - val_accuracy: 0.8483\n",
      "Epoch 96/200\n",
      "117/117 [==============================] - 0s 3ms/step - loss: 0.3501 - accuracy: 0.8763 - val_loss: 0.3632 - val_accuracy: 0.8633\n",
      "Epoch 97/200\n",
      "117/117 [==============================] - 0s 3ms/step - loss: 0.3487 - accuracy: 0.8772 - val_loss: 0.3574 - val_accuracy: 0.8517\n",
      "Epoch 98/200\n",
      "117/117 [==============================] - 0s 3ms/step - loss: 0.3480 - accuracy: 0.8771 - val_loss: 0.3640 - val_accuracy: 0.8600\n",
      "Epoch 99/200\n",
      "117/117 [==============================] - 0s 3ms/step - loss: 0.3482 - accuracy: 0.8770 - val_loss: 0.3602 - val_accuracy: 0.8517\n",
      "Epoch 100/200\n",
      "117/117 [==============================] - 0s 3ms/step - loss: 0.3465 - accuracy: 0.8777 - val_loss: 0.3601 - val_accuracy: 0.8567\n",
      "Epoch 101/200\n",
      "117/117 [==============================] - 0s 3ms/step - loss: 0.3457 - accuracy: 0.8775 - val_loss: 0.3602 - val_accuracy: 0.8550\n",
      "Epoch 102/200\n",
      "117/117 [==============================] - 0s 3ms/step - loss: 0.3460 - accuracy: 0.8778 - val_loss: 0.3566 - val_accuracy: 0.8483\n",
      "Epoch 103/200\n",
      "117/117 [==============================] - 0s 3ms/step - loss: 0.3443 - accuracy: 0.8778 - val_loss: 0.3585 - val_accuracy: 0.8600\n",
      "Epoch 104/200\n",
      "117/117 [==============================] - 0s 3ms/step - loss: 0.3429 - accuracy: 0.8784 - val_loss: 0.3626 - val_accuracy: 0.8433\n",
      "Epoch 105/200\n",
      "117/117 [==============================] - 0s 3ms/step - loss: 0.3436 - accuracy: 0.8783 - val_loss: 0.3544 - val_accuracy: 0.8517\n",
      "Epoch 106/200\n",
      "117/117 [==============================] - 0s 3ms/step - loss: 0.3429 - accuracy: 0.8782 - val_loss: 0.3559 - val_accuracy: 0.8583\n",
      "Epoch 107/200\n",
      "117/117 [==============================] - 0s 3ms/step - loss: 0.3409 - accuracy: 0.8792 - val_loss: 0.3542 - val_accuracy: 0.8600\n",
      "Epoch 108/200\n",
      "117/117 [==============================] - 0s 3ms/step - loss: 0.3413 - accuracy: 0.8797 - val_loss: 0.3532 - val_accuracy: 0.8567\n",
      "Epoch 109/200\n",
      "117/117 [==============================] - 0s 3ms/step - loss: 0.3409 - accuracy: 0.8798 - val_loss: 0.3604 - val_accuracy: 0.8533\n",
      "Epoch 110/200\n",
      "117/117 [==============================] - 0s 3ms/step - loss: 0.3389 - accuracy: 0.8803 - val_loss: 0.3518 - val_accuracy: 0.8517\n",
      "Epoch 111/200\n",
      "117/117 [==============================] - 0s 3ms/step - loss: 0.3393 - accuracy: 0.8802 - val_loss: 0.3564 - val_accuracy: 0.8567\n",
      "Epoch 112/200\n",
      "117/117 [==============================] - 0s 3ms/step - loss: 0.3382 - accuracy: 0.8801 - val_loss: 0.3493 - val_accuracy: 0.8567\n",
      "Epoch 113/200\n",
      "117/117 [==============================] - 0s 3ms/step - loss: 0.3365 - accuracy: 0.8812 - val_loss: 0.3508 - val_accuracy: 0.8517\n",
      "Epoch 114/200\n",
      "117/117 [==============================] - 0s 3ms/step - loss: 0.3372 - accuracy: 0.8806 - val_loss: 0.3485 - val_accuracy: 0.8583\n"
     ]
    },
    {
     "name": "stdout",
     "output_type": "stream",
     "text": [
      "Epoch 115/200\n",
      "117/117 [==============================] - 0s 3ms/step - loss: 0.3364 - accuracy: 0.8812 - val_loss: 0.3492 - val_accuracy: 0.8683\n",
      "Epoch 116/200\n",
      "117/117 [==============================] - 0s 3ms/step - loss: 0.3347 - accuracy: 0.8818 - val_loss: 0.3499 - val_accuracy: 0.8617\n",
      "Epoch 117/200\n",
      "117/117 [==============================] - 0s 3ms/step - loss: 0.3335 - accuracy: 0.8823 - val_loss: 0.3497 - val_accuracy: 0.8583\n",
      "Epoch 118/200\n",
      "117/117 [==============================] - 0s 3ms/step - loss: 0.3344 - accuracy: 0.8821 - val_loss: 0.3483 - val_accuracy: 0.8533\n",
      "Epoch 119/200\n",
      "117/117 [==============================] - 0s 3ms/step - loss: 0.3326 - accuracy: 0.8823 - val_loss: 0.3488 - val_accuracy: 0.8567\n",
      "Epoch 120/200\n",
      "117/117 [==============================] - 0s 3ms/step - loss: 0.3314 - accuracy: 0.8832 - val_loss: 0.3469 - val_accuracy: 0.8567\n",
      "Epoch 121/200\n",
      "117/117 [==============================] - 0s 3ms/step - loss: 0.3315 - accuracy: 0.8827 - val_loss: 0.3484 - val_accuracy: 0.8500\n",
      "Epoch 122/200\n",
      "117/117 [==============================] - 0s 3ms/step - loss: 0.3327 - accuracy: 0.8818 - val_loss: 0.3444 - val_accuracy: 0.8650\n",
      "Epoch 123/200\n",
      "117/117 [==============================] - 0s 3ms/step - loss: 0.3299 - accuracy: 0.8828 - val_loss: 0.3449 - val_accuracy: 0.8583\n",
      "Epoch 124/200\n",
      "117/117 [==============================] - 0s 3ms/step - loss: 0.3290 - accuracy: 0.8840 - val_loss: 0.3470 - val_accuracy: 0.8583\n",
      "Epoch 125/200\n",
      "117/117 [==============================] - 0s 3ms/step - loss: 0.3287 - accuracy: 0.8836 - val_loss: 0.3462 - val_accuracy: 0.8600\n",
      "Epoch 126/200\n",
      "117/117 [==============================] - 0s 3ms/step - loss: 0.3287 - accuracy: 0.8839 - val_loss: 0.3414 - val_accuracy: 0.8600\n",
      "Epoch 127/200\n",
      "117/117 [==============================] - 0s 3ms/step - loss: 0.3275 - accuracy: 0.8841 - val_loss: 0.3467 - val_accuracy: 0.8583\n",
      "Epoch 128/200\n",
      "117/117 [==============================] - 0s 3ms/step - loss: 0.3260 - accuracy: 0.8843 - val_loss: 0.3479 - val_accuracy: 0.8650\n",
      "Epoch 129/200\n",
      "117/117 [==============================] - 0s 3ms/step - loss: 0.3264 - accuracy: 0.8844 - val_loss: 0.3415 - val_accuracy: 0.8683\n",
      "Epoch 130/200\n",
      "117/117 [==============================] - 0s 3ms/step - loss: 0.3252 - accuracy: 0.8848 - val_loss: 0.3372 - val_accuracy: 0.8700\n",
      "Epoch 131/200\n",
      "117/117 [==============================] - 0s 3ms/step - loss: 0.3250 - accuracy: 0.8843 - val_loss: 0.3409 - val_accuracy: 0.8633\n",
      "Epoch 132/200\n",
      "117/117 [==============================] - 0s 3ms/step - loss: 0.3237 - accuracy: 0.8858 - val_loss: 0.3441 - val_accuracy: 0.8717\n",
      "Epoch 133/200\n",
      "117/117 [==============================] - 0s 3ms/step - loss: 0.3241 - accuracy: 0.8850 - val_loss: 0.3419 - val_accuracy: 0.8600\n",
      "Epoch 134/200\n",
      "117/117 [==============================] - 0s 3ms/step - loss: 0.3232 - accuracy: 0.8851 - val_loss: 0.3402 - val_accuracy: 0.8667\n",
      "Epoch 135/200\n",
      "117/117 [==============================] - 0s 3ms/step - loss: 0.3222 - accuracy: 0.8858 - val_loss: 0.3401 - val_accuracy: 0.8617\n",
      "Epoch 136/200\n",
      "117/117 [==============================] - 0s 3ms/step - loss: 0.3217 - accuracy: 0.8864 - val_loss: 0.3427 - val_accuracy: 0.8617\n",
      "Epoch 137/200\n",
      "117/117 [==============================] - 0s 3ms/step - loss: 0.3230 - accuracy: 0.8852 - val_loss: 0.3393 - val_accuracy: 0.8667\n",
      "Epoch 138/200\n",
      "117/117 [==============================] - 0s 3ms/step - loss: 0.3210 - accuracy: 0.8864 - val_loss: 0.3456 - val_accuracy: 0.8783\n",
      "Epoch 139/200\n",
      "117/117 [==============================] - 0s 3ms/step - loss: 0.3211 - accuracy: 0.8859 - val_loss: 0.3388 - val_accuracy: 0.8617\n",
      "Epoch 140/200\n",
      "117/117 [==============================] - 0s 3ms/step - loss: 0.3188 - accuracy: 0.8862 - val_loss: 0.3464 - val_accuracy: 0.8733\n",
      "Epoch 141/200\n",
      "117/117 [==============================] - 0s 3ms/step - loss: 0.3186 - accuracy: 0.8869 - val_loss: 0.3370 - val_accuracy: 0.8633\n",
      "Epoch 142/200\n",
      "117/117 [==============================] - 0s 3ms/step - loss: 0.3193 - accuracy: 0.8872 - val_loss: 0.3402 - val_accuracy: 0.8650\n",
      "Epoch 143/200\n",
      "117/117 [==============================] - 0s 3ms/step - loss: 0.3173 - accuracy: 0.8871 - val_loss: 0.3464 - val_accuracy: 0.8683\n",
      "Epoch 144/200\n",
      "117/117 [==============================] - 0s 3ms/step - loss: 0.3182 - accuracy: 0.8866 - val_loss: 0.3387 - val_accuracy: 0.8650\n",
      "Epoch 145/200\n",
      "117/117 [==============================] - 0s 3ms/step - loss: 0.3160 - accuracy: 0.8878 - val_loss: 0.3368 - val_accuracy: 0.8617\n",
      "Epoch 146/200\n",
      "117/117 [==============================] - 0s 3ms/step - loss: 0.3163 - accuracy: 0.8867 - val_loss: 0.3353 - val_accuracy: 0.8683\n",
      "Epoch 147/200\n",
      "117/117 [==============================] - 0s 3ms/step - loss: 0.3148 - accuracy: 0.8879 - val_loss: 0.3388 - val_accuracy: 0.8683\n",
      "Epoch 148/200\n",
      "117/117 [==============================] - 0s 3ms/step - loss: 0.3147 - accuracy: 0.8880 - val_loss: 0.3390 - val_accuracy: 0.8650\n",
      "Epoch 149/200\n",
      "117/117 [==============================] - 0s 3ms/step - loss: 0.3149 - accuracy: 0.8877 - val_loss: 0.3336 - val_accuracy: 0.8667\n",
      "Epoch 150/200\n",
      "117/117 [==============================] - 0s 3ms/step - loss: 0.3137 - accuracy: 0.8884 - val_loss: 0.3364 - val_accuracy: 0.8650\n",
      "Epoch 151/200\n",
      "117/117 [==============================] - 0s 3ms/step - loss: 0.3130 - accuracy: 0.8890 - val_loss: 0.3352 - val_accuracy: 0.8650\n",
      "Epoch 152/200\n",
      "117/117 [==============================] - 0s 3ms/step - loss: 0.3129 - accuracy: 0.8888 - val_loss: 0.3314 - val_accuracy: 0.8683\n",
      "Epoch 153/200\n",
      "117/117 [==============================] - 0s 3ms/step - loss: 0.3113 - accuracy: 0.8898 - val_loss: 0.3356 - val_accuracy: 0.8700\n",
      "Epoch 154/200\n",
      "117/117 [==============================] - 0s 3ms/step - loss: 0.3121 - accuracy: 0.8894 - val_loss: 0.3349 - val_accuracy: 0.8667\n",
      "Epoch 155/200\n",
      "117/117 [==============================] - 0s 3ms/step - loss: 0.3104 - accuracy: 0.8901 - val_loss: 0.3314 - val_accuracy: 0.8667\n",
      "Epoch 156/200\n",
      "117/117 [==============================] - 0s 3ms/step - loss: 0.3104 - accuracy: 0.8897 - val_loss: 0.3321 - val_accuracy: 0.8667\n",
      "Epoch 157/200\n",
      "117/117 [==============================] - 0s 3ms/step - loss: 0.3101 - accuracy: 0.8894 - val_loss: 0.3295 - val_accuracy: 0.8700\n",
      "Epoch 158/200\n",
      "117/117 [==============================] - 0s 3ms/step - loss: 0.3091 - accuracy: 0.8904 - val_loss: 0.3320 - val_accuracy: 0.8700\n",
      "Epoch 159/200\n",
      "117/117 [==============================] - 0s 3ms/step - loss: 0.3081 - accuracy: 0.8902 - val_loss: 0.3320 - val_accuracy: 0.8650\n",
      "Epoch 160/200\n",
      "117/117 [==============================] - 0s 3ms/step - loss: 0.3075 - accuracy: 0.8903 - val_loss: 0.3318 - val_accuracy: 0.8667\n",
      "Epoch 161/200\n",
      "117/117 [==============================] - 0s 3ms/step - loss: 0.3078 - accuracy: 0.8907 - val_loss: 0.3357 - val_accuracy: 0.8700\n",
      "Epoch 162/200\n",
      "117/117 [==============================] - 0s 3ms/step - loss: 0.3076 - accuracy: 0.8908 - val_loss: 0.3257 - val_accuracy: 0.8683\n",
      "Epoch 163/200\n",
      "117/117 [==============================] - 0s 3ms/step - loss: 0.3057 - accuracy: 0.8908 - val_loss: 0.3354 - val_accuracy: 0.8717\n",
      "Epoch 164/200\n",
      "117/117 [==============================] - 0s 3ms/step - loss: 0.3066 - accuracy: 0.8911 - val_loss: 0.3305 - val_accuracy: 0.8717\n",
      "Epoch 165/200\n",
      "117/117 [==============================] - 0s 3ms/step - loss: 0.3057 - accuracy: 0.8910 - val_loss: 0.3290 - val_accuracy: 0.8717\n",
      "Epoch 166/200\n",
      "117/117 [==============================] - 0s 3ms/step - loss: 0.3048 - accuracy: 0.8916 - val_loss: 0.3329 - val_accuracy: 0.8633\n",
      "Epoch 167/200\n",
      "117/117 [==============================] - 0s 3ms/step - loss: 0.3042 - accuracy: 0.8918 - val_loss: 0.3282 - val_accuracy: 0.8717\n",
      "Epoch 168/200\n",
      "117/117 [==============================] - 0s 3ms/step - loss: 0.3043 - accuracy: 0.8914 - val_loss: 0.3274 - val_accuracy: 0.8717\n",
      "Epoch 169/200\n",
      "117/117 [==============================] - 0s 3ms/step - loss: 0.3045 - accuracy: 0.8914 - val_loss: 0.3273 - val_accuracy: 0.8683\n",
      "Epoch 170/200\n",
      "117/117 [==============================] - 0s 3ms/step - loss: 0.3033 - accuracy: 0.8916 - val_loss: 0.3296 - val_accuracy: 0.8667\n",
      "Epoch 171/200\n"
     ]
    },
    {
     "name": "stdout",
     "output_type": "stream",
     "text": [
      "117/117 [==============================] - 0s 3ms/step - loss: 0.3031 - accuracy: 0.8917 - val_loss: 0.3290 - val_accuracy: 0.8700\n",
      "Epoch 172/200\n",
      "117/117 [==============================] - 0s 3ms/step - loss: 0.3013 - accuracy: 0.8930 - val_loss: 0.3278 - val_accuracy: 0.8683\n",
      "Epoch 173/200\n",
      "117/117 [==============================] - 0s 3ms/step - loss: 0.3008 - accuracy: 0.8931 - val_loss: 0.3251 - val_accuracy: 0.8750\n",
      "Epoch 174/200\n",
      "117/117 [==============================] - 0s 3ms/step - loss: 0.3002 - accuracy: 0.8931 - val_loss: 0.3279 - val_accuracy: 0.8683\n",
      "Epoch 175/200\n",
      "117/117 [==============================] - 0s 3ms/step - loss: 0.2998 - accuracy: 0.8929 - val_loss: 0.3275 - val_accuracy: 0.8667\n",
      "Epoch 176/200\n",
      "117/117 [==============================] - 0s 3ms/step - loss: 0.2999 - accuracy: 0.8932 - val_loss: 0.3259 - val_accuracy: 0.8750\n",
      "Epoch 177/200\n",
      "117/117 [==============================] - 0s 3ms/step - loss: 0.2996 - accuracy: 0.8931 - val_loss: 0.3252 - val_accuracy: 0.8683\n",
      "Epoch 178/200\n",
      "117/117 [==============================] - 0s 3ms/step - loss: 0.2979 - accuracy: 0.8944 - val_loss: 0.3341 - val_accuracy: 0.8733\n",
      "Epoch 179/200\n",
      "117/117 [==============================] - 0s 3ms/step - loss: 0.3001 - accuracy: 0.8932 - val_loss: 0.3231 - val_accuracy: 0.8667\n",
      "Epoch 180/200\n",
      "117/117 [==============================] - 0s 3ms/step - loss: 0.2982 - accuracy: 0.8935 - val_loss: 0.3294 - val_accuracy: 0.8733\n",
      "Epoch 181/200\n",
      "117/117 [==============================] - 0s 3ms/step - loss: 0.2986 - accuracy: 0.8935 - val_loss: 0.3292 - val_accuracy: 0.8717\n",
      "Epoch 182/200\n",
      "117/117 [==============================] - 0s 3ms/step - loss: 0.2964 - accuracy: 0.8948 - val_loss: 0.3239 - val_accuracy: 0.8733\n",
      "Epoch 183/200\n",
      "117/117 [==============================] - 0s 3ms/step - loss: 0.2969 - accuracy: 0.8934 - val_loss: 0.3219 - val_accuracy: 0.8683\n",
      "Epoch 184/200\n",
      "117/117 [==============================] - 0s 3ms/step - loss: 0.2950 - accuracy: 0.8951 - val_loss: 0.3260 - val_accuracy: 0.8683\n",
      "Epoch 185/200\n",
      "117/117 [==============================] - 0s 3ms/step - loss: 0.2958 - accuracy: 0.8942 - val_loss: 0.3203 - val_accuracy: 0.8667\n",
      "Epoch 186/200\n",
      "117/117 [==============================] - 0s 3ms/step - loss: 0.2968 - accuracy: 0.8945 - val_loss: 0.3253 - val_accuracy: 0.8700\n",
      "Epoch 187/200\n",
      "117/117 [==============================] - 0s 3ms/step - loss: 0.2940 - accuracy: 0.8950 - val_loss: 0.3211 - val_accuracy: 0.8733\n",
      "Epoch 188/200\n",
      "117/117 [==============================] - 0s 3ms/step - loss: 0.2939 - accuracy: 0.8959 - val_loss: 0.3258 - val_accuracy: 0.8717\n",
      "Epoch 189/200\n",
      "117/117 [==============================] - 0s 3ms/step - loss: 0.2929 - accuracy: 0.8956 - val_loss: 0.3266 - val_accuracy: 0.8733\n",
      "Epoch 190/200\n",
      "117/117 [==============================] - 0s 3ms/step - loss: 0.2928 - accuracy: 0.8960 - val_loss: 0.3233 - val_accuracy: 0.8717\n",
      "Epoch 191/200\n",
      "117/117 [==============================] - 0s 3ms/step - loss: 0.2930 - accuracy: 0.8960 - val_loss: 0.3236 - val_accuracy: 0.8733\n",
      "Epoch 192/200\n",
      "117/117 [==============================] - 0s 3ms/step - loss: 0.2920 - accuracy: 0.8956 - val_loss: 0.3222 - val_accuracy: 0.8683\n",
      "Epoch 193/200\n",
      "117/117 [==============================] - 0s 3ms/step - loss: 0.2916 - accuracy: 0.8963 - val_loss: 0.3239 - val_accuracy: 0.8750\n",
      "Epoch 194/200\n",
      "117/117 [==============================] - 0s 3ms/step - loss: 0.2911 - accuracy: 0.8963 - val_loss: 0.3194 - val_accuracy: 0.8733\n",
      "Epoch 195/200\n",
      "117/117 [==============================] - 0s 3ms/step - loss: 0.2911 - accuracy: 0.8969 - val_loss: 0.3191 - val_accuracy: 0.8717\n",
      "Epoch 196/200\n",
      "117/117 [==============================] - 0s 3ms/step - loss: 0.2898 - accuracy: 0.8965 - val_loss: 0.3267 - val_accuracy: 0.8783\n",
      "Epoch 197/200\n",
      "117/117 [==============================] - 0s 3ms/step - loss: 0.2895 - accuracy: 0.8974 - val_loss: 0.3217 - val_accuracy: 0.8783\n",
      "Epoch 198/200\n",
      "117/117 [==============================] - 0s 3ms/step - loss: 0.2890 - accuracy: 0.8971 - val_loss: 0.3193 - val_accuracy: 0.8733\n",
      "Epoch 199/200\n",
      "117/117 [==============================] - 0s 3ms/step - loss: 0.2882 - accuracy: 0.8975 - val_loss: 0.3199 - val_accuracy: 0.8667\n",
      "Epoch 200/200\n",
      "117/117 [==============================] - 0s 3ms/step - loss: 0.2890 - accuracy: 0.8976 - val_loss: 0.3212 - val_accuracy: 0.8733\n"
     ]
    }
   ],
   "source": [
    "X_train, X_valid, y_train, y_valid = train_test_split(train_images, train_labels, test_size=0.01, random_state=101)\n",
    "X_train = X_train / 255.0\n",
    "X_valid = X_valid / 255.0\n",
    "\n",
    "#Dense layer만으로 만들어 낸 classification 모델입니다.\n",
    "model = keras.Sequential([\n",
    "    keras.layers.Flatten(input_shape=(28, 28)),\n",
    "    keras.layers.Dense(256, activation='relu'),\n",
    "    keras.layers.Dense(10, activation='softmax')\n",
    "])\n",
    "\n",
    "model.compile(optimizer='adam',loss='sparse_categorical_crossentropy',\n",
    "              metrics=['accuracy'])\n",
    "\n",
    "history= model.fit(X_train, y_train, epochs=200, batch_size=512, validation_data=(X_valid, y_valid))"
   ]
  },
  {
   "cell_type": "code",
   "execution_count": 22,
   "id": "71d30db3",
   "metadata": {},
   "outputs": [
    {
     "data": {
      "image/png": "[encoded data removed]",
      "text/plain": [
       "<Figure size 432x288 with 1 Axes>"
      ]
     },
     "metadata": {
      "needs_background": "light"
     },
     "output_type": "display_data"
    }
   ],
   "source": [
    "# loss 값을 plot 해보겠습니다.\n",
    "y_vloss = history.history['val_loss']\n",
    "y_loss = history.history['loss']\n",
    "x_len = np.arange(len(y_loss))\n",
    "\n",
    "plt.plot(x_len, y_vloss, marker='.', c='red', label=\"Validation-set Loss\")\n",
    "plt.plot(x_len, y_loss, marker='.', c='blue', label=\"Train-set Loss\")\n",
    "plt.legend(loc='upper right')\n",
    "plt.grid()\n",
    "plt.title('Loss graph without dropout layer') \n",
    "plt.ylim(0,1)\n",
    "plt.xlabel('epoch')\n",
    "plt.ylabel('loss')\n",
    "plt.show()"
   ]
  },
  {
   "cell_type": "code",
   "execution_count": 23,
   "id": "a68e1201",
   "metadata": {},
   "outputs": [
    {
     "data": {
      "image/png": "[encoded data removed]",
      "text/plain": [
       "<Figure size 432x288 with 1 Axes>"
      ]
     },
     "metadata": {
      "needs_background": "light"
     },
     "output_type": "display_data"
    }
   ],
   "source": [
    "# accuracy 값을 plot 해보겠습니다.\n",
    "y_vacc = history.history['val_accuracy']\n",
    "y_acc = history.history['accuracy']\n",
    "x_len = np.arange(len(y_acc))\n",
    "\n",
    "plt.plot(x_len, y_vacc, marker='.', c='red', label=\"Validation-set accuracy\")\n",
    "plt.plot(x_len, y_acc, marker='.', c='blue', label=\"Train-set accuracy\")\n",
    "plt.legend(loc='lower right')\n",
    "plt.grid()\n",
    "plt.ylim(0.5,1) \n",
    "plt.title('Accuracy graph without dropout layer') \n",
    "plt.xlabel('epoch')\n",
    "plt.ylabel('accuracy')\n",
    "plt.show()"
   ]
  },
  {
   "cell_type": "markdown",
   "id": "be99ba26",
   "metadata": {},
   "source": [
    "드롭아웃 추가해 학습 rate = 0.5"
   ]
  },
  {
   "cell_type": "code",
   "execution_count": 24,
   "id": "fce6f059",
   "metadata": {},
   "outputs": [
    {
     "name": "stdout",
     "output_type": "stream",
     "text": [
      "Epoch 1/200\n",
      "117/117 [==============================] - 1s 5ms/step - loss: 2.0622 - accuracy: 0.4766 - val_loss: 1.6713 - val_accuracy: 0.6567\n",
      "Epoch 2/200\n",
      "117/117 [==============================] - 0s 4ms/step - loss: 1.4547 - accuracy: 0.5689 - val_loss: 1.2193 - val_accuracy: 0.6450\n",
      "Epoch 3/200\n",
      "117/117 [==============================] - 0s 4ms/step - loss: 1.1549 - accuracy: 0.6269 - val_loss: 1.0075 - val_accuracy: 0.7033\n",
      "Epoch 4/200\n",
      "117/117 [==============================] - 0s 4ms/step - loss: 0.9956 - accuracy: 0.6670 - val_loss: 0.8800 - val_accuracy: 0.7367\n",
      "Epoch 5/200\n",
      "117/117 [==============================] - 0s 4ms/step - loss: 0.8934 - accuracy: 0.6967 - val_loss: 0.7937 - val_accuracy: 0.7617\n",
      "Epoch 6/200\n",
      "117/117 [==============================] - 0s 4ms/step - loss: 0.8246 - accuracy: 0.7138 - val_loss: 0.7383 - val_accuracy: 0.7617\n",
      "Epoch 7/200\n",
      "117/117 [==============================] - 0s 4ms/step - loss: 0.7780 - accuracy: 0.7256 - val_loss: 0.7001 - val_accuracy: 0.7733\n",
      "Epoch 8/200\n",
      "117/117 [==============================] - 0s 4ms/step - loss: 0.7460 - accuracy: 0.7340 - val_loss: 0.6706 - val_accuracy: 0.7817\n",
      "Epoch 9/200\n",
      "117/117 [==============================] - 0s 4ms/step - loss: 0.7152 - accuracy: 0.7435 - val_loss: 0.6473 - val_accuracy: 0.7817\n",
      "Epoch 10/200\n",
      "117/117 [==============================] - 0s 4ms/step - loss: 0.6911 - accuracy: 0.7505 - val_loss: 0.6299 - val_accuracy: 0.7850\n",
      "Epoch 11/200\n",
      "117/117 [==============================] - 0s 4ms/step - loss: 0.6736 - accuracy: 0.7569 - val_loss: 0.6119 - val_accuracy: 0.7883\n",
      "Epoch 12/200\n",
      "117/117 [==============================] - 0s 4ms/step - loss: 0.6554 - accuracy: 0.7636 - val_loss: 0.5995 - val_accuracy: 0.7883\n",
      "Epoch 13/200\n",
      "117/117 [==============================] - 0s 4ms/step - loss: 0.6401 - accuracy: 0.7695 - val_loss: 0.5842 - val_accuracy: 0.7967\n",
      "Epoch 14/200\n",
      "117/117 [==============================] - 0s 4ms/step - loss: 0.6260 - accuracy: 0.7734 - val_loss: 0.5728 - val_accuracy: 0.7983\n",
      "Epoch 15/200\n",
      "117/117 [==============================] - 0s 4ms/step - loss: 0.6137 - accuracy: 0.7805 - val_loss: 0.5627 - val_accuracy: 0.7983\n",
      "Epoch 16/200\n",
      "117/117 [==============================] - 0s 4ms/step - loss: 0.6021 - accuracy: 0.7830 - val_loss: 0.5539 - val_accuracy: 0.7967\n",
      "Epoch 17/200\n",
      "117/117 [==============================] - 0s 4ms/step - loss: 0.5904 - accuracy: 0.7883 - val_loss: 0.5469 - val_accuracy: 0.7933\n",
      "Epoch 18/200\n",
      "117/117 [==============================] - 0s 4ms/step - loss: 0.5808 - accuracy: 0.7913 - val_loss: 0.5371 - val_accuracy: 0.7967\n",
      "Epoch 19/200\n",
      "117/117 [==============================] - 0s 4ms/step - loss: 0.5715 - accuracy: 0.7941 - val_loss: 0.5294 - val_accuracy: 0.8033\n",
      "Epoch 20/200\n",
      "117/117 [==============================] - 0s 4ms/step - loss: 0.5631 - accuracy: 0.8003 - val_loss: 0.5207 - val_accuracy: 0.7983\n",
      "Epoch 21/200\n",
      "117/117 [==============================] - 0s 4ms/step - loss: 0.5542 - accuracy: 0.8008 - val_loss: 0.5152 - val_accuracy: 0.8050\n",
      "Epoch 22/200\n",
      "117/117 [==============================] - 0s 4ms/step - loss: 0.5459 - accuracy: 0.8055 - val_loss: 0.5107 - val_accuracy: 0.8050\n",
      "Epoch 23/200\n",
      "117/117 [==============================] - 0s 4ms/step - loss: 0.5392 - accuracy: 0.8090 - val_loss: 0.5034 - val_accuracy: 0.8117\n",
      "Epoch 24/200\n",
      "117/117 [==============================] - 0s 4ms/step - loss: 0.5315 - accuracy: 0.8109 - val_loss: 0.4950 - val_accuracy: 0.8183\n",
      "Epoch 25/200\n",
      "117/117 [==============================] - 0s 3ms/step - loss: 0.5269 - accuracy: 0.8114 - val_loss: 0.4901 - val_accuracy: 0.8150\n",
      "Epoch 26/200\n",
      "117/117 [==============================] - 0s 4ms/step - loss: 0.5204 - accuracy: 0.8149 - val_loss: 0.4852 - val_accuracy: 0.8183\n",
      "Epoch 27/200\n",
      "117/117 [==============================] - 0s 4ms/step - loss: 0.5142 - accuracy: 0.8168 - val_loss: 0.4803 - val_accuracy: 0.8217\n",
      "Epoch 28/200\n",
      "117/117 [==============================] - 0s 4ms/step - loss: 0.5095 - accuracy: 0.8182 - val_loss: 0.4793 - val_accuracy: 0.8150\n",
      "Epoch 29/200\n",
      "117/117 [==============================] - 0s 4ms/step - loss: 0.5041 - accuracy: 0.8196 - val_loss: 0.4706 - val_accuracy: 0.8233\n",
      "Epoch 30/200\n",
      "117/117 [==============================] - 0s 4ms/step - loss: 0.4992 - accuracy: 0.8237 - val_loss: 0.4669 - val_accuracy: 0.8233\n",
      "Epoch 31/200\n",
      "117/117 [==============================] - 0s 4ms/step - loss: 0.4961 - accuracy: 0.8240 - val_loss: 0.4644 - val_accuracy: 0.8267\n",
      "Epoch 32/200\n",
      "117/117 [==============================] - 0s 4ms/step - loss: 0.4920 - accuracy: 0.8261 - val_loss: 0.4605 - val_accuracy: 0.8217\n",
      "Epoch 33/200\n",
      "117/117 [==============================] - 0s 4ms/step - loss: 0.4879 - accuracy: 0.8268 - val_loss: 0.4580 - val_accuracy: 0.8217\n",
      "Epoch 34/200\n",
      "117/117 [==============================] - 0s 4ms/step - loss: 0.4805 - accuracy: 0.8305 - val_loss: 0.4532 - val_accuracy: 0.8167\n",
      "Epoch 35/200\n",
      "117/117 [==============================] - 0s 4ms/step - loss: 0.4815 - accuracy: 0.8287 - val_loss: 0.4516 - val_accuracy: 0.8250\n",
      "Epoch 36/200\n",
      "117/117 [==============================] - 0s 4ms/step - loss: 0.4776 - accuracy: 0.8300 - val_loss: 0.4501 - val_accuracy: 0.8250\n",
      "Epoch 37/200\n",
      "117/117 [==============================] - 0s 4ms/step - loss: 0.4743 - accuracy: 0.8331 - val_loss: 0.4452 - val_accuracy: 0.8250\n",
      "Epoch 38/200\n",
      "117/117 [==============================] - 0s 4ms/step - loss: 0.4713 - accuracy: 0.8327 - val_loss: 0.4446 - val_accuracy: 0.8283\n",
      "Epoch 39/200\n",
      "117/117 [==============================] - 0s 3ms/step - loss: 0.4674 - accuracy: 0.8333 - val_loss: 0.4374 - val_accuracy: 0.8333\n",
      "Epoch 40/200\n",
      "117/117 [==============================] - 0s 4ms/step - loss: 0.4630 - accuracy: 0.8365 - val_loss: 0.4375 - val_accuracy: 0.8283\n",
      "Epoch 41/200\n",
      "117/117 [==============================] - 0s 4ms/step - loss: 0.4585 - accuracy: 0.8373 - val_loss: 0.4350 - val_accuracy: 0.8283\n",
      "Epoch 42/200\n",
      "117/117 [==============================] - 0s 4ms/step - loss: 0.4582 - accuracy: 0.8375 - val_loss: 0.4297 - val_accuracy: 0.8283\n",
      "Epoch 43/200\n",
      "117/117 [==============================] - 0s 4ms/step - loss: 0.4561 - accuracy: 0.8378 - val_loss: 0.4273 - val_accuracy: 0.8283\n",
      "Epoch 44/200\n",
      "117/117 [==============================] - 0s 4ms/step - loss: 0.4512 - accuracy: 0.8398 - val_loss: 0.4290 - val_accuracy: 0.8400\n",
      "Epoch 45/200\n",
      "117/117 [==============================] - 0s 4ms/step - loss: 0.4480 - accuracy: 0.8405 - val_loss: 0.4262 - val_accuracy: 0.8333\n",
      "Epoch 46/200\n",
      "117/117 [==============================] - 0s 4ms/step - loss: 0.4485 - accuracy: 0.8412 - val_loss: 0.4207 - val_accuracy: 0.8383\n",
      "Epoch 47/200\n",
      "117/117 [==============================] - 0s 4ms/step - loss: 0.4455 - accuracy: 0.8420 - val_loss: 0.4197 - val_accuracy: 0.8400\n",
      "Epoch 48/200\n",
      "117/117 [==============================] - 0s 4ms/step - loss: 0.4432 - accuracy: 0.8436 - val_loss: 0.4171 - val_accuracy: 0.8333\n",
      "Epoch 49/200\n",
      "117/117 [==============================] - 0s 4ms/step - loss: 0.4430 - accuracy: 0.8436 - val_loss: 0.4196 - val_accuracy: 0.8400\n",
      "Epoch 50/200\n",
      "117/117 [==============================] - 0s 4ms/step - loss: 0.4380 - accuracy: 0.8452 - val_loss: 0.4180 - val_accuracy: 0.8367\n",
      "Epoch 51/200\n",
      "117/117 [==============================] - 0s 4ms/step - loss: 0.4366 - accuracy: 0.8450 - val_loss: 0.4118 - val_accuracy: 0.8400\n",
      "Epoch 52/200\n",
      "117/117 [==============================] - 0s 4ms/step - loss: 0.4359 - accuracy: 0.8452 - val_loss: 0.4126 - val_accuracy: 0.8400\n",
      "Epoch 53/200\n",
      "117/117 [==============================] - 0s 4ms/step - loss: 0.4321 - accuracy: 0.8476 - val_loss: 0.4133 - val_accuracy: 0.8400\n",
      "Epoch 54/200\n",
      "117/117 [==============================] - 0s 4ms/step - loss: 0.4313 - accuracy: 0.8471 - val_loss: 0.4096 - val_accuracy: 0.8383\n",
      "Epoch 55/200\n",
      "117/117 [==============================] - 0s 4ms/step - loss: 0.4301 - accuracy: 0.8476 - val_loss: 0.4089 - val_accuracy: 0.8383\n",
      "Epoch 56/200\n",
      "117/117 [==============================] - 0s 4ms/step - loss: 0.4282 - accuracy: 0.8477 - val_loss: 0.4070 - val_accuracy: 0.8350\n",
      "Epoch 57/200\n",
      "117/117 [==============================] - 0s 4ms/step - loss: 0.4284 - accuracy: 0.8476 - val_loss: 0.4041 - val_accuracy: 0.8383\n"
     ]
    },
    {
     "name": "stdout",
     "output_type": "stream",
     "text": [
      "Epoch 58/200\n",
      "117/117 [==============================] - 0s 4ms/step - loss: 0.4229 - accuracy: 0.8503 - val_loss: 0.4017 - val_accuracy: 0.8400\n",
      "Epoch 59/200\n",
      "117/117 [==============================] - 0s 4ms/step - loss: 0.4227 - accuracy: 0.8491 - val_loss: 0.4016 - val_accuracy: 0.8417\n",
      "Epoch 60/200\n",
      "117/117 [==============================] - 1s 4ms/step - loss: 0.4206 - accuracy: 0.8504 - val_loss: 0.3979 - val_accuracy: 0.8417\n",
      "Epoch 61/200\n",
      "117/117 [==============================] - 0s 4ms/step - loss: 0.4192 - accuracy: 0.8501 - val_loss: 0.3983 - val_accuracy: 0.8417\n",
      "Epoch 62/200\n",
      "117/117 [==============================] - 0s 4ms/step - loss: 0.4177 - accuracy: 0.8516 - val_loss: 0.3956 - val_accuracy: 0.8400\n",
      "Epoch 63/200\n",
      "117/117 [==============================] - 0s 4ms/step - loss: 0.4159 - accuracy: 0.8526 - val_loss: 0.3963 - val_accuracy: 0.8417\n",
      "Epoch 64/200\n",
      "117/117 [==============================] - 0s 4ms/step - loss: 0.4144 - accuracy: 0.8525 - val_loss: 0.3943 - val_accuracy: 0.8417\n",
      "Epoch 65/200\n",
      "117/117 [==============================] - 0s 4ms/step - loss: 0.4135 - accuracy: 0.8523 - val_loss: 0.3959 - val_accuracy: 0.8400\n",
      "Epoch 66/200\n",
      "117/117 [==============================] - 0s 4ms/step - loss: 0.4114 - accuracy: 0.8538 - val_loss: 0.3926 - val_accuracy: 0.8417\n",
      "Epoch 67/200\n",
      "117/117 [==============================] - 0s 4ms/step - loss: 0.4093 - accuracy: 0.8541 - val_loss: 0.3902 - val_accuracy: 0.8400\n",
      "Epoch 68/200\n",
      "117/117 [==============================] - 0s 4ms/step - loss: 0.4077 - accuracy: 0.8556 - val_loss: 0.3919 - val_accuracy: 0.8467\n",
      "Epoch 69/200\n",
      "117/117 [==============================] - 0s 4ms/step - loss: 0.4074 - accuracy: 0.8555 - val_loss: 0.3888 - val_accuracy: 0.8483\n",
      "Epoch 70/200\n",
      "117/117 [==============================] - 0s 4ms/step - loss: 0.4070 - accuracy: 0.8554 - val_loss: 0.3849 - val_accuracy: 0.8433\n",
      "Epoch 71/200\n",
      "117/117 [==============================] - 0s 4ms/step - loss: 0.4061 - accuracy: 0.8559 - val_loss: 0.3874 - val_accuracy: 0.8450\n",
      "Epoch 72/200\n",
      "117/117 [==============================] - 0s 4ms/step - loss: 0.4047 - accuracy: 0.8562 - val_loss: 0.3832 - val_accuracy: 0.8400\n",
      "Epoch 73/200\n",
      "117/117 [==============================] - 0s 4ms/step - loss: 0.4034 - accuracy: 0.8557 - val_loss: 0.3828 - val_accuracy: 0.8417\n",
      "Epoch 74/200\n",
      "117/117 [==============================] - 0s 4ms/step - loss: 0.4011 - accuracy: 0.8588 - val_loss: 0.3839 - val_accuracy: 0.8433\n",
      "Epoch 75/200\n",
      "117/117 [==============================] - 0s 4ms/step - loss: 0.3988 - accuracy: 0.8579 - val_loss: 0.3819 - val_accuracy: 0.8483\n",
      "Epoch 76/200\n",
      "117/117 [==============================] - 0s 4ms/step - loss: 0.3990 - accuracy: 0.8587 - val_loss: 0.3833 - val_accuracy: 0.8417\n",
      "Epoch 77/200\n",
      "117/117 [==============================] - 0s 4ms/step - loss: 0.3972 - accuracy: 0.8598 - val_loss: 0.3799 - val_accuracy: 0.8417\n",
      "Epoch 78/200\n",
      "117/117 [==============================] - 0s 4ms/step - loss: 0.3965 - accuracy: 0.8594 - val_loss: 0.3814 - val_accuracy: 0.8467\n",
      "Epoch 79/200\n",
      "117/117 [==============================] - 0s 4ms/step - loss: 0.3943 - accuracy: 0.8605 - val_loss: 0.3791 - val_accuracy: 0.8483\n",
      "Epoch 80/200\n",
      "117/117 [==============================] - 0s 4ms/step - loss: 0.3916 - accuracy: 0.8602 - val_loss: 0.3773 - val_accuracy: 0.8517\n",
      "Epoch 81/200\n",
      "117/117 [==============================] - 0s 4ms/step - loss: 0.3921 - accuracy: 0.8612 - val_loss: 0.3774 - val_accuracy: 0.8450\n",
      "Epoch 82/200\n",
      "117/117 [==============================] - 0s 4ms/step - loss: 0.3916 - accuracy: 0.8615 - val_loss: 0.3769 - val_accuracy: 0.8500\n",
      "Epoch 83/200\n",
      "117/117 [==============================] - 0s 4ms/step - loss: 0.3919 - accuracy: 0.8611 - val_loss: 0.3771 - val_accuracy: 0.8483\n",
      "Epoch 84/200\n",
      "117/117 [==============================] - 0s 4ms/step - loss: 0.3895 - accuracy: 0.8621 - val_loss: 0.3730 - val_accuracy: 0.8517\n",
      "Epoch 85/200\n",
      "117/117 [==============================] - 0s 4ms/step - loss: 0.3884 - accuracy: 0.8624 - val_loss: 0.3724 - val_accuracy: 0.8433\n",
      "Epoch 86/200\n",
      "117/117 [==============================] - 0s 4ms/step - loss: 0.3874 - accuracy: 0.8630 - val_loss: 0.3717 - val_accuracy: 0.8483\n",
      "Epoch 87/200\n",
      "117/117 [==============================] - 0s 4ms/step - loss: 0.3862 - accuracy: 0.8628 - val_loss: 0.3700 - val_accuracy: 0.8450\n",
      "Epoch 88/200\n",
      "117/117 [==============================] - 0s 4ms/step - loss: 0.3865 - accuracy: 0.8635 - val_loss: 0.3696 - val_accuracy: 0.8517\n",
      "Epoch 89/200\n",
      "117/117 [==============================] - 0s 4ms/step - loss: 0.3859 - accuracy: 0.8629 - val_loss: 0.3677 - val_accuracy: 0.8517\n",
      "Epoch 90/200\n",
      "117/117 [==============================] - 0s 4ms/step - loss: 0.3826 - accuracy: 0.8641 - val_loss: 0.3712 - val_accuracy: 0.8450\n",
      "Epoch 91/200\n",
      "117/117 [==============================] - 0s 3ms/step - loss: 0.3818 - accuracy: 0.8642 - val_loss: 0.3661 - val_accuracy: 0.8517\n",
      "Epoch 92/200\n",
      "117/117 [==============================] - 0s 4ms/step - loss: 0.3814 - accuracy: 0.8644 - val_loss: 0.3665 - val_accuracy: 0.8517\n",
      "Epoch 93/200\n",
      "117/117 [==============================] - 0s 4ms/step - loss: 0.3822 - accuracy: 0.8659 - val_loss: 0.3676 - val_accuracy: 0.8533\n",
      "Epoch 94/200\n",
      "117/117 [==============================] - 0s 3ms/step - loss: 0.3800 - accuracy: 0.8662 - val_loss: 0.3664 - val_accuracy: 0.8567\n",
      "Epoch 95/200\n",
      "117/117 [==============================] - 0s 4ms/step - loss: 0.3791 - accuracy: 0.8653 - val_loss: 0.3666 - val_accuracy: 0.8533\n",
      "Epoch 96/200\n",
      "117/117 [==============================] - 0s 4ms/step - loss: 0.3775 - accuracy: 0.8669 - val_loss: 0.3654 - val_accuracy: 0.8550\n",
      "Epoch 97/200\n",
      "117/117 [==============================] - 0s 4ms/step - loss: 0.3782 - accuracy: 0.8656 - val_loss: 0.3626 - val_accuracy: 0.8500\n",
      "Epoch 98/200\n",
      "117/117 [==============================] - 0s 4ms/step - loss: 0.3745 - accuracy: 0.8680 - val_loss: 0.3629 - val_accuracy: 0.8567\n",
      "Epoch 99/200\n",
      "117/117 [==============================] - 0s 4ms/step - loss: 0.3754 - accuracy: 0.8668 - val_loss: 0.3623 - val_accuracy: 0.8483\n",
      "Epoch 100/200\n",
      "117/117 [==============================] - 0s 4ms/step - loss: 0.3753 - accuracy: 0.8660 - val_loss: 0.3625 - val_accuracy: 0.8500\n",
      "Epoch 101/200\n",
      "117/117 [==============================] - 0s 4ms/step - loss: 0.3759 - accuracy: 0.8670 - val_loss: 0.3594 - val_accuracy: 0.8517\n",
      "Epoch 102/200\n",
      "117/117 [==============================] - 0s 4ms/step - loss: 0.3730 - accuracy: 0.8685 - val_loss: 0.3639 - val_accuracy: 0.8567\n",
      "Epoch 103/200\n",
      "117/117 [==============================] - 0s 3ms/step - loss: 0.3720 - accuracy: 0.8681 - val_loss: 0.3587 - val_accuracy: 0.8533\n",
      "Epoch 104/200\n",
      "117/117 [==============================] - 0s 4ms/step - loss: 0.3724 - accuracy: 0.8676 - val_loss: 0.3598 - val_accuracy: 0.8533\n",
      "Epoch 105/200\n",
      "117/117 [==============================] - 0s 4ms/step - loss: 0.3695 - accuracy: 0.8684 - val_loss: 0.3581 - val_accuracy: 0.8583\n",
      "Epoch 106/200\n",
      "117/117 [==============================] - 0s 4ms/step - loss: 0.3681 - accuracy: 0.8703 - val_loss: 0.3569 - val_accuracy: 0.8550\n",
      "Epoch 107/200\n",
      "117/117 [==============================] - 0s 4ms/step - loss: 0.3691 - accuracy: 0.8694 - val_loss: 0.3572 - val_accuracy: 0.8500\n",
      "Epoch 108/200\n",
      "117/117 [==============================] - 0s 4ms/step - loss: 0.3686 - accuracy: 0.8693 - val_loss: 0.3576 - val_accuracy: 0.8533\n",
      "Epoch 109/200\n",
      "117/117 [==============================] - 0s 4ms/step - loss: 0.3645 - accuracy: 0.8712 - val_loss: 0.3565 - val_accuracy: 0.8517\n",
      "Epoch 110/200\n",
      "117/117 [==============================] - 0s 4ms/step - loss: 0.3672 - accuracy: 0.8699 - val_loss: 0.3531 - val_accuracy: 0.8550\n",
      "Epoch 111/200\n",
      "117/117 [==============================] - 0s 4ms/step - loss: 0.3650 - accuracy: 0.8699 - val_loss: 0.3525 - val_accuracy: 0.8467\n",
      "Epoch 112/200\n",
      "117/117 [==============================] - 0s 4ms/step - loss: 0.3653 - accuracy: 0.8710 - val_loss: 0.3546 - val_accuracy: 0.8550\n",
      "Epoch 113/200\n",
      "117/117 [==============================] - 0s 4ms/step - loss: 0.3635 - accuracy: 0.8709 - val_loss: 0.3543 - val_accuracy: 0.8517\n",
      "Epoch 114/200\n",
      "117/117 [==============================] - 0s 4ms/step - loss: 0.3637 - accuracy: 0.8707 - val_loss: 0.3556 - val_accuracy: 0.8533\n"
     ]
    },
    {
     "name": "stdout",
     "output_type": "stream",
     "text": [
      "Epoch 115/200\n",
      "117/117 [==============================] - 0s 4ms/step - loss: 0.3625 - accuracy: 0.8713 - val_loss: 0.3558 - val_accuracy: 0.8550\n",
      "Epoch 116/200\n",
      "117/117 [==============================] - 0s 4ms/step - loss: 0.3611 - accuracy: 0.8719 - val_loss: 0.3528 - val_accuracy: 0.8533\n",
      "Epoch 117/200\n",
      "117/117 [==============================] - 0s 4ms/step - loss: 0.3609 - accuracy: 0.8731 - val_loss: 0.3525 - val_accuracy: 0.8583\n",
      "Epoch 118/200\n",
      "117/117 [==============================] - 0s 4ms/step - loss: 0.3616 - accuracy: 0.8716 - val_loss: 0.3481 - val_accuracy: 0.8550\n",
      "Epoch 119/200\n",
      "117/117 [==============================] - 0s 4ms/step - loss: 0.3603 - accuracy: 0.8713 - val_loss: 0.3481 - val_accuracy: 0.8533\n",
      "Epoch 120/200\n",
      "117/117 [==============================] - 0s 4ms/step - loss: 0.3606 - accuracy: 0.8721 - val_loss: 0.3509 - val_accuracy: 0.8550\n",
      "Epoch 121/200\n",
      "117/117 [==============================] - 0s 4ms/step - loss: 0.3605 - accuracy: 0.8720 - val_loss: 0.3488 - val_accuracy: 0.8550\n",
      "Epoch 122/200\n",
      "117/117 [==============================] - 0s 4ms/step - loss: 0.3589 - accuracy: 0.8725 - val_loss: 0.3493 - val_accuracy: 0.8550\n",
      "Epoch 123/200\n",
      "117/117 [==============================] - 0s 4ms/step - loss: 0.3584 - accuracy: 0.8730 - val_loss: 0.3499 - val_accuracy: 0.8550\n",
      "Epoch 124/200\n",
      "117/117 [==============================] - 0s 4ms/step - loss: 0.3552 - accuracy: 0.8742 - val_loss: 0.3474 - val_accuracy: 0.8533\n",
      "Epoch 125/200\n",
      "117/117 [==============================] - 0s 4ms/step - loss: 0.3552 - accuracy: 0.8733 - val_loss: 0.3464 - val_accuracy: 0.8533\n",
      "Epoch 126/200\n",
      "117/117 [==============================] - 0s 4ms/step - loss: 0.3557 - accuracy: 0.8745 - val_loss: 0.3458 - val_accuracy: 0.8600\n",
      "Epoch 127/200\n",
      "117/117 [==============================] - 0s 4ms/step - loss: 0.3547 - accuracy: 0.8743 - val_loss: 0.3456 - val_accuracy: 0.8567\n",
      "Epoch 128/200\n",
      "117/117 [==============================] - 0s 4ms/step - loss: 0.3522 - accuracy: 0.8750 - val_loss: 0.3470 - val_accuracy: 0.8533\n",
      "Epoch 129/200\n",
      "117/117 [==============================] - 0s 4ms/step - loss: 0.3531 - accuracy: 0.8755 - val_loss: 0.3458 - val_accuracy: 0.8600\n",
      "Epoch 130/200\n",
      "117/117 [==============================] - 0s 4ms/step - loss: 0.3529 - accuracy: 0.8753 - val_loss: 0.3434 - val_accuracy: 0.8517\n",
      "Epoch 131/200\n",
      "117/117 [==============================] - 0s 4ms/step - loss: 0.3533 - accuracy: 0.8758 - val_loss: 0.3425 - val_accuracy: 0.8617\n",
      "Epoch 132/200\n",
      "117/117 [==============================] - 0s 4ms/step - loss: 0.3531 - accuracy: 0.8755 - val_loss: 0.3437 - val_accuracy: 0.8617\n",
      "Epoch 133/200\n",
      "117/117 [==============================] - 0s 4ms/step - loss: 0.3501 - accuracy: 0.8765 - val_loss: 0.3431 - val_accuracy: 0.8583\n",
      "Epoch 134/200\n",
      "117/117 [==============================] - 0s 4ms/step - loss: 0.3515 - accuracy: 0.8757 - val_loss: 0.3406 - val_accuracy: 0.8617\n",
      "Epoch 135/200\n",
      "117/117 [==============================] - 0s 4ms/step - loss: 0.3492 - accuracy: 0.8771 - val_loss: 0.3412 - val_accuracy: 0.8600\n",
      "Epoch 136/200\n",
      "117/117 [==============================] - 0s 3ms/step - loss: 0.3488 - accuracy: 0.8770 - val_loss: 0.3396 - val_accuracy: 0.8633\n",
      "Epoch 137/200\n",
      "117/117 [==============================] - 0s 4ms/step - loss: 0.3490 - accuracy: 0.8764 - val_loss: 0.3411 - val_accuracy: 0.8567\n",
      "Epoch 138/200\n",
      "117/117 [==============================] - 0s 4ms/step - loss: 0.3453 - accuracy: 0.8775 - val_loss: 0.3383 - val_accuracy: 0.8600\n",
      "Epoch 139/200\n",
      "117/117 [==============================] - 0s 4ms/step - loss: 0.3461 - accuracy: 0.8783 - val_loss: 0.3362 - val_accuracy: 0.8617\n",
      "Epoch 140/200\n",
      "117/117 [==============================] - 0s 4ms/step - loss: 0.3467 - accuracy: 0.8781 - val_loss: 0.3377 - val_accuracy: 0.8633\n",
      "Epoch 141/200\n",
      "117/117 [==============================] - 0s 3ms/step - loss: 0.3467 - accuracy: 0.8777 - val_loss: 0.3392 - val_accuracy: 0.8567\n",
      "Epoch 142/200\n",
      "117/117 [==============================] - 0s 4ms/step - loss: 0.3463 - accuracy: 0.8775 - val_loss: 0.3401 - val_accuracy: 0.8567\n",
      "Epoch 143/200\n",
      "117/117 [==============================] - 0s 4ms/step - loss: 0.3432 - accuracy: 0.8784 - val_loss: 0.3383 - val_accuracy: 0.8567\n",
      "Epoch 144/200\n",
      "117/117 [==============================] - 0s 3ms/step - loss: 0.3444 - accuracy: 0.8782 - val_loss: 0.3369 - val_accuracy: 0.8550\n",
      "Epoch 145/200\n",
      "117/117 [==============================] - 0s 4ms/step - loss: 0.3448 - accuracy: 0.8771 - val_loss: 0.3345 - val_accuracy: 0.8583\n",
      "Epoch 146/200\n",
      "117/117 [==============================] - 0s 4ms/step - loss: 0.3455 - accuracy: 0.8774 - val_loss: 0.3374 - val_accuracy: 0.8617\n",
      "Epoch 147/200\n",
      "117/117 [==============================] - 0s 4ms/step - loss: 0.3426 - accuracy: 0.8779 - val_loss: 0.3385 - val_accuracy: 0.8600\n",
      "Epoch 148/200\n",
      "117/117 [==============================] - 0s 4ms/step - loss: 0.3403 - accuracy: 0.8797 - val_loss: 0.3346 - val_accuracy: 0.8617\n",
      "Epoch 149/200\n",
      "117/117 [==============================] - 0s 3ms/step - loss: 0.3420 - accuracy: 0.8788 - val_loss: 0.3359 - val_accuracy: 0.8583\n",
      "Epoch 150/200\n",
      "117/117 [==============================] - 0s 3ms/step - loss: 0.3389 - accuracy: 0.8796 - val_loss: 0.3327 - val_accuracy: 0.8617\n",
      "Epoch 151/200\n",
      "117/117 [==============================] - 0s 3ms/step - loss: 0.3405 - accuracy: 0.8782 - val_loss: 0.3345 - val_accuracy: 0.8600\n",
      "Epoch 152/200\n",
      "117/117 [==============================] - 0s 3ms/step - loss: 0.3402 - accuracy: 0.8801 - val_loss: 0.3381 - val_accuracy: 0.8633\n",
      "Epoch 153/200\n",
      "117/117 [==============================] - 0s 3ms/step - loss: 0.3398 - accuracy: 0.8794 - val_loss: 0.3355 - val_accuracy: 0.8600\n",
      "Epoch 154/200\n",
      "117/117 [==============================] - 0s 3ms/step - loss: 0.3384 - accuracy: 0.8808 - val_loss: 0.3317 - val_accuracy: 0.8617\n",
      "Epoch 155/200\n",
      "117/117 [==============================] - 0s 3ms/step - loss: 0.3409 - accuracy: 0.8786 - val_loss: 0.3336 - val_accuracy: 0.8550\n",
      "Epoch 156/200\n",
      "117/117 [==============================] - 0s 3ms/step - loss: 0.3409 - accuracy: 0.8780 - val_loss: 0.3308 - val_accuracy: 0.8633\n",
      "Epoch 157/200\n",
      "117/117 [==============================] - 0s 3ms/step - loss: 0.3381 - accuracy: 0.8806 - val_loss: 0.3328 - val_accuracy: 0.8617\n",
      "Epoch 158/200\n",
      "117/117 [==============================] - 0s 3ms/step - loss: 0.3381 - accuracy: 0.8797 - val_loss: 0.3344 - val_accuracy: 0.8650\n",
      "Epoch 159/200\n",
      "117/117 [==============================] - 0s 3ms/step - loss: 0.3359 - accuracy: 0.8807 - val_loss: 0.3300 - val_accuracy: 0.8683\n",
      "Epoch 160/200\n",
      "117/117 [==============================] - 0s 3ms/step - loss: 0.3346 - accuracy: 0.8810 - val_loss: 0.3332 - val_accuracy: 0.8600\n",
      "Epoch 161/200\n",
      "117/117 [==============================] - 0s 3ms/step - loss: 0.3346 - accuracy: 0.8821 - val_loss: 0.3306 - val_accuracy: 0.8583\n",
      "Epoch 162/200\n",
      "117/117 [==============================] - 0s 3ms/step - loss: 0.3365 - accuracy: 0.8805 - val_loss: 0.3303 - val_accuracy: 0.8700\n",
      "Epoch 163/200\n",
      "117/117 [==============================] - 0s 3ms/step - loss: 0.3357 - accuracy: 0.8812 - val_loss: 0.3331 - val_accuracy: 0.8633\n",
      "Epoch 164/200\n",
      "117/117 [==============================] - 0s 3ms/step - loss: 0.3351 - accuracy: 0.8814 - val_loss: 0.3292 - val_accuracy: 0.8667\n",
      "Epoch 165/200\n",
      "117/117 [==============================] - 0s 3ms/step - loss: 0.3350 - accuracy: 0.8815 - val_loss: 0.3298 - val_accuracy: 0.8600\n",
      "Epoch 166/200\n",
      "117/117 [==============================] - 0s 3ms/step - loss: 0.3359 - accuracy: 0.8803 - val_loss: 0.3309 - val_accuracy: 0.8650\n",
      "Epoch 167/200\n",
      "117/117 [==============================] - 0s 3ms/step - loss: 0.3306 - accuracy: 0.8834 - val_loss: 0.3299 - val_accuracy: 0.8650\n",
      "Epoch 168/200\n",
      "117/117 [==============================] - 0s 3ms/step - loss: 0.3313 - accuracy: 0.8819 - val_loss: 0.3281 - val_accuracy: 0.8583\n",
      "Epoch 169/200\n",
      "117/117 [==============================] - 0s 3ms/step - loss: 0.3320 - accuracy: 0.8831 - val_loss: 0.3271 - val_accuracy: 0.8650\n",
      "Epoch 170/200\n",
      "117/117 [==============================] - 0s 3ms/step - loss: 0.3302 - accuracy: 0.8829 - val_loss: 0.3314 - val_accuracy: 0.8583\n",
      "Epoch 171/200\n"
     ]
    },
    {
     "name": "stdout",
     "output_type": "stream",
     "text": [
      "117/117 [==============================] - 0s 3ms/step - loss: 0.3345 - accuracy: 0.8811 - val_loss: 0.3305 - val_accuracy: 0.8633\n",
      "Epoch 172/200\n",
      "117/117 [==============================] - 0s 3ms/step - loss: 0.3287 - accuracy: 0.8844 - val_loss: 0.3293 - val_accuracy: 0.8633\n",
      "Epoch 173/200\n",
      "117/117 [==============================] - 0s 3ms/step - loss: 0.3316 - accuracy: 0.8815 - val_loss: 0.3267 - val_accuracy: 0.8700\n",
      "Epoch 174/200\n",
      "117/117 [==============================] - 0s 3ms/step - loss: 0.3316 - accuracy: 0.8830 - val_loss: 0.3250 - val_accuracy: 0.8633\n",
      "Epoch 175/200\n",
      "117/117 [==============================] - 0s 3ms/step - loss: 0.3290 - accuracy: 0.8839 - val_loss: 0.3309 - val_accuracy: 0.8600\n",
      "Epoch 176/200\n",
      "117/117 [==============================] - 0s 3ms/step - loss: 0.3283 - accuracy: 0.8825 - val_loss: 0.3299 - val_accuracy: 0.8650\n",
      "Epoch 177/200\n",
      "117/117 [==============================] - 0s 3ms/step - loss: 0.3266 - accuracy: 0.8836 - val_loss: 0.3276 - val_accuracy: 0.8733\n",
      "Epoch 178/200\n",
      "117/117 [==============================] - 0s 3ms/step - loss: 0.3270 - accuracy: 0.8852 - val_loss: 0.3274 - val_accuracy: 0.8617\n",
      "Epoch 179/200\n",
      "117/117 [==============================] - 0s 3ms/step - loss: 0.3248 - accuracy: 0.8836 - val_loss: 0.3228 - val_accuracy: 0.8650\n",
      "Epoch 180/200\n",
      "117/117 [==============================] - 0s 3ms/step - loss: 0.3267 - accuracy: 0.8833 - val_loss: 0.3263 - val_accuracy: 0.8633\n",
      "Epoch 181/200\n",
      "117/117 [==============================] - 0s 3ms/step - loss: 0.3255 - accuracy: 0.8844 - val_loss: 0.3235 - val_accuracy: 0.8667\n",
      "Epoch 182/200\n",
      "117/117 [==============================] - 0s 3ms/step - loss: 0.3269 - accuracy: 0.8840 - val_loss: 0.3227 - val_accuracy: 0.8783\n",
      "Epoch 183/200\n",
      "117/117 [==============================] - 0s 3ms/step - loss: 0.3256 - accuracy: 0.8842 - val_loss: 0.3231 - val_accuracy: 0.8700\n",
      "Epoch 184/200\n",
      "117/117 [==============================] - 0s 3ms/step - loss: 0.3257 - accuracy: 0.8833 - val_loss: 0.3215 - val_accuracy: 0.8700\n",
      "Epoch 185/200\n",
      "117/117 [==============================] - 0s 3ms/step - loss: 0.3241 - accuracy: 0.8842 - val_loss: 0.3231 - val_accuracy: 0.8633\n",
      "Epoch 186/200\n",
      "117/117 [==============================] - 0s 3ms/step - loss: 0.3265 - accuracy: 0.8848 - val_loss: 0.3236 - val_accuracy: 0.8617\n",
      "Epoch 187/200\n",
      "117/117 [==============================] - 0s 3ms/step - loss: 0.3223 - accuracy: 0.8845 - val_loss: 0.3231 - val_accuracy: 0.8733\n",
      "Epoch 188/200\n",
      "117/117 [==============================] - 0s 3ms/step - loss: 0.3247 - accuracy: 0.8845 - val_loss: 0.3211 - val_accuracy: 0.8633\n",
      "Epoch 189/200\n",
      "117/117 [==============================] - 0s 3ms/step - loss: 0.3211 - accuracy: 0.8859 - val_loss: 0.3246 - val_accuracy: 0.8667\n",
      "Epoch 190/200\n",
      "117/117 [==============================] - 0s 3ms/step - loss: 0.3228 - accuracy: 0.8862 - val_loss: 0.3198 - val_accuracy: 0.8667\n",
      "Epoch 191/200\n",
      "117/117 [==============================] - 0s 3ms/step - loss: 0.3213 - accuracy: 0.8842 - val_loss: 0.3212 - val_accuracy: 0.8650\n",
      "Epoch 192/200\n",
      "117/117 [==============================] - 0s 3ms/step - loss: 0.3224 - accuracy: 0.8851 - val_loss: 0.3210 - val_accuracy: 0.8700\n",
      "Epoch 193/200\n",
      "117/117 [==============================] - 0s 3ms/step - loss: 0.3209 - accuracy: 0.8862 - val_loss: 0.3216 - val_accuracy: 0.8733\n",
      "Epoch 194/200\n",
      "117/117 [==============================] - 0s 3ms/step - loss: 0.3204 - accuracy: 0.8863 - val_loss: 0.3237 - val_accuracy: 0.8733\n",
      "Epoch 195/200\n",
      "117/117 [==============================] - 0s 3ms/step - loss: 0.3182 - accuracy: 0.8872 - val_loss: 0.3229 - val_accuracy: 0.8683\n",
      "Epoch 196/200\n",
      "117/117 [==============================] - 0s 3ms/step - loss: 0.3211 - accuracy: 0.8858 - val_loss: 0.3193 - val_accuracy: 0.8700\n",
      "Epoch 197/200\n",
      "117/117 [==============================] - 0s 3ms/step - loss: 0.3172 - accuracy: 0.8868 - val_loss: 0.3199 - val_accuracy: 0.8617\n",
      "Epoch 198/200\n",
      "117/117 [==============================] - 0s 3ms/step - loss: 0.3178 - accuracy: 0.8860 - val_loss: 0.3198 - val_accuracy: 0.8717\n",
      "Epoch 199/200\n",
      "117/117 [==============================] - 0s 3ms/step - loss: 0.3199 - accuracy: 0.8863 - val_loss: 0.3207 - val_accuracy: 0.8733\n",
      "Epoch 200/200\n",
      "117/117 [==============================] - 0s 3ms/step - loss: 0.3171 - accuracy: 0.8878 - val_loss: 0.3179 - val_accuracy: 0.8750\n"
     ]
    }
   ],
   "source": [
    "model = keras.Sequential([\n",
    "    keras.layers.Flatten(input_shape=(28, 28)),\n",
    "    keras.layers.Dense(256, activation='relu'),\n",
    "    # 여기에 dropout layer를 추가해보았습니다. 나머지 layer는 위의 실습과 같습니다. \n",
    "    keras.layers.Dropout(0.5),\n",
    "    keras.layers.Dense(10, activation='softmax')\n",
    "])\n",
    "\n",
    "model.compile(optimizer='adam',loss='sparse_categorical_crossentropy',\n",
    "              metrics=['accuracy'])\n",
    "\n",
    "history= model.fit(X_train, y_train, epochs=200, batch_size=512, validation_data=(X_valid, y_valid))"
   ]
  },
  {
   "cell_type": "code",
   "execution_count": 25,
   "id": "9107900c",
   "metadata": {},
   "outputs": [
    {
     "data": {
      "image/png": "[encoded data removed]",
      "text/plain": [
       "<Figure size 432x288 with 1 Axes>"
      ]
     },
     "metadata": {
      "needs_background": "light"
     },
     "output_type": "display_data"
    }
   ],
   "source": [
    "# loss 값을 plot 해보겠습니다. \n",
    "y_vloss = history.history['val_loss']\n",
    "y_loss = history.history['loss']\n",
    "x_len = np.arange(len(y_loss))\n",
    "\n",
    "plt.plot(x_len, y_vloss, marker='.', c='red', label=\"Validation-set Loss\")\n",
    "plt.plot(x_len, y_loss, marker='.', c='blue', label=\"Train-set Loss\")\n",
    "plt.legend(loc='upper right')\n",
    "plt.grid()\n",
    "plt.ylim(0,1)\n",
    "plt.title('Loss graph with dropout layer') \n",
    "plt.xlabel('epoch')\n",
    "plt.ylabel('loss')\n",
    "plt.show()"
   ]
  },
  {
   "cell_type": "code",
   "execution_count": 26,
   "id": "d47ce85d",
   "metadata": {},
   "outputs": [
    {
     "data": {
      "image/png": "[encoded data removed]",
      "text/plain": [
       "<Figure size 432x288 with 1 Axes>"
      ]
     },
     "metadata": {
      "needs_background": "light"
     },
     "output_type": "display_data"
    }
   ],
   "source": [
    "# accuracy 값을 plot 해보겠습니다. \n",
    "y_vacc = history.history['val_accuracy']\n",
    "y_acc = history.history['accuracy']\n",
    "x_len = np.arange(len(y_acc))\n",
    "\n",
    "plt.plot(x_len, y_vacc, marker='.', c='red', label=\"Validation-set accuracy\")\n",
    "plt.plot(x_len, y_acc, marker='.', c='blue', label=\"Train-set accuracy\")\n",
    "plt.legend(loc='lower right')\n",
    "plt.grid()\n",
    "plt.ylim(0.5,1) \n",
    "plt.title('Accuracy graph with dropout layer') \n",
    "plt.xlabel('epoch')\n",
    "plt.ylabel('accuracy')\n",
    "plt.show()"
   ]
  },
  {
   "cell_type": "markdown",
   "id": "d3570482",
   "metadata": {},
   "source": [
    "학습이 개선된 것을 확인할 수 잇음"
   ]
  },
  {
   "cell_type": "markdown",
   "id": "f30f5560",
   "metadata": {},
   "source": [
    "# Batch Normalization\n",
    "\n",
    "- gradient Vanishing&exploding 문제 해결하는 방법\n",
    "- 알고리즘\n",
    "    \n",
    "    **Input**: Values of x over a mini-batch: $B = \\{x_1,...,x_m\\}$ Parameters to be learned: $\\gamma, \\beta$\n",
    "    \n",
    "    **Output**: $\\{y_i = BN_{\\gamma, \\beta}(x_i)\\}$\n",
    "    \n",
    "    **1. mini-batch mean :**\n",
    "    \n",
    "    $$\n",
    "    μ_B←\\frac{1}{m}∑^m_{i=1}x_i\n",
    "    \n",
    "    $$\n",
    "    \n",
    "    **2. mini-batch variance :**\n",
    "    \n",
    "    $$\n",
    "    σ_B^2←\\frac{1}{m}∑^m_{i=1}(x_i−μ_B)\n",
    "    $$\n",
    "    \n",
    "    **3. normalize :**\n",
    "    \n",
    "    $$\n",
    "    \\hat{x_i}←\\frac{x_i-μB}{\\sqrt{σ_B^2+ϵ}}\n",
    "    $$\n",
    "    \n",
    "    **4. scale and shift :**\n",
    "    \n",
    "    $$\n",
    "    y_i←γ\\hat{x_i}+β≡BN_{γ,β}(x_i)\n",
    "    $$\n",
    "    \n",
    "    - 3번식의 분모에 ***ϵ***이 추가되어 vanishing이나 exploding을 막을 수 있게 됨 + 오버피팅이나 학습 잘 되지 않는 것 막을 수 잇음"
   ]
  },
  {
   "cell_type": "code",
   "execution_count": 27,
   "id": "449e56d9",
   "metadata": {},
   "outputs": [
    {
     "name": "stdout",
     "output_type": "stream",
     "text": [
      "=3\n"
     ]
    }
   ],
   "source": [
    "import tensorflow as tf\n",
    "from tensorflow import keras\n",
    "import numpy as np\n",
    "import matplotlib.pyplot as plt\n",
    "\n",
    "fashion_mnist = keras.datasets.fashion_mnist\n",
    "print('=3')"
   ]
  },
  {
   "cell_type": "code",
   "execution_count": 28,
   "id": "8f0891a3",
   "metadata": {},
   "outputs": [],
   "source": [
    "(train_images, train_labels), (test_images, test_labels) = fashion_mnist.load_data()\n",
    "class_names = ['T-shirt/top', 'Trouser', 'Pullover', 'Dress', 'Coat',\n",
    "               'Sandal', 'Shirt', 'Sneaker', 'Bag', 'Ankle boot']\n",
    "\n",
    "train_images = train_images / 255.0\n",
    "test_images = test_images / 255.0"
   ]
  },
  {
   "cell_type": "code",
   "execution_count": 29,
   "id": "ce8595f4",
   "metadata": {},
   "outputs": [
    {
     "name": "stdout",
     "output_type": "stream",
     "text": [
      "Epoch 1/20\n",
      "21/21 [==============================] - 1s 17ms/step - loss: 1.2687 - accuracy: 0.5909 - val_loss: 0.7756 - val_accuracy: 0.7221\n",
      "Epoch 2/20\n",
      "21/21 [==============================] - 0s 6ms/step - loss: 0.6812 - accuracy: 0.7677 - val_loss: 0.6169 - val_accuracy: 0.7934\n",
      "Epoch 3/20\n",
      "21/21 [==============================] - 0s 7ms/step - loss: 0.5716 - accuracy: 0.8090 - val_loss: 0.5454 - val_accuracy: 0.8193\n",
      "Epoch 4/20\n",
      "21/21 [==============================] - 0s 6ms/step - loss: 0.5220 - accuracy: 0.8248 - val_loss: 0.5117 - val_accuracy: 0.8260\n",
      "Epoch 5/20\n",
      "21/21 [==============================] - 0s 6ms/step - loss: 0.4900 - accuracy: 0.8354 - val_loss: 0.4854 - val_accuracy: 0.8374\n",
      "Epoch 6/20\n",
      "21/21 [==============================] - 0s 6ms/step - loss: 0.4681 - accuracy: 0.8435 - val_loss: 0.4730 - val_accuracy: 0.8394\n",
      "Epoch 7/20\n",
      "21/21 [==============================] - 0s 6ms/step - loss: 0.4518 - accuracy: 0.8474 - val_loss: 0.4589 - val_accuracy: 0.8428\n",
      "Epoch 8/20\n",
      "21/21 [==============================] - 0s 6ms/step - loss: 0.4373 - accuracy: 0.8525 - val_loss: 0.4433 - val_accuracy: 0.8508\n",
      "Epoch 9/20\n",
      "21/21 [==============================] - 0s 6ms/step - loss: 0.4234 - accuracy: 0.8566 - val_loss: 0.4328 - val_accuracy: 0.8505\n",
      "Epoch 10/20\n",
      "21/21 [==============================] - 0s 6ms/step - loss: 0.4133 - accuracy: 0.8591 - val_loss: 0.4230 - val_accuracy: 0.8551\n",
      "Epoch 11/20\n",
      "21/21 [==============================] - 0s 6ms/step - loss: 0.4017 - accuracy: 0.8633 - val_loss: 0.4142 - val_accuracy: 0.8580\n",
      "Epoch 12/20\n",
      "21/21 [==============================] - 0s 6ms/step - loss: 0.3954 - accuracy: 0.8644 - val_loss: 0.4170 - val_accuracy: 0.8538\n",
      "Epoch 13/20\n",
      "21/21 [==============================] - 0s 6ms/step - loss: 0.3871 - accuracy: 0.8667 - val_loss: 0.4051 - val_accuracy: 0.8598\n",
      "Epoch 14/20\n",
      "21/21 [==============================] - 0s 6ms/step - loss: 0.3785 - accuracy: 0.8699 - val_loss: 0.4009 - val_accuracy: 0.8604\n",
      "Epoch 15/20\n",
      "21/21 [==============================] - 0s 6ms/step - loss: 0.3715 - accuracy: 0.8727 - val_loss: 0.3941 - val_accuracy: 0.8631\n",
      "Epoch 16/20\n",
      "21/21 [==============================] - 0s 6ms/step - loss: 0.3675 - accuracy: 0.8734 - val_loss: 0.3904 - val_accuracy: 0.8646\n",
      "Epoch 17/20\n",
      "21/21 [==============================] - 0s 6ms/step - loss: 0.3596 - accuracy: 0.8771 - val_loss: 0.3859 - val_accuracy: 0.8666\n",
      "Epoch 18/20\n",
      "21/21 [==============================] - 0s 6ms/step - loss: 0.3530 - accuracy: 0.8774 - val_loss: 0.3830 - val_accuracy: 0.8653\n",
      "Epoch 19/20\n",
      "21/21 [==============================] - 0s 6ms/step - loss: 0.3496 - accuracy: 0.8798 - val_loss: 0.3806 - val_accuracy: 0.8659\n",
      "Epoch 20/20\n",
      "21/21 [==============================] - 0s 6ms/step - loss: 0.3465 - accuracy: 0.8802 - val_loss: 0.3780 - val_accuracy: 0.8669\n"
     ]
    }
   ],
   "source": [
    "from sklearn.model_selection import train_test_split\n",
    "\n",
    "X_train, X_valid, y_train, y_valid = train_test_split(train_images, train_labels, test_size=0.3, random_state=101)\n",
    "\n",
    "model = keras.Sequential([\n",
    "    keras.layers.Flatten(input_shape=(28, 28)),\n",
    "    keras.layers.Dense(128, activation='relu'),\n",
    "    keras.layers.Dense(10, activation='softmax')\n",
    "])\n",
    "\n",
    "model.compile(optimizer='adam',loss='sparse_categorical_crossentropy',\n",
    "              metrics=['accuracy'])\n",
    "\n",
    "history= model.fit(X_train, y_train, epochs=20, batch_size=2048, validation_data=(X_valid, y_valid))"
   ]
  },
  {
   "cell_type": "code",
   "execution_count": 30,
   "id": "82053a4c",
   "metadata": {},
   "outputs": [
    {
     "data": {
      "image/png": "[encoded data removed]",
      "text/plain": [
       "<Figure size 432x288 with 1 Axes>"
      ]
     },
     "metadata": {
      "needs_background": "light"
     },
     "output_type": "display_data"
    }
   ],
   "source": [
    "# loss 값을 plot 해보겠습니다. \n",
    "y_vloss = history.history['val_loss']\n",
    "y_loss = history.history['loss']\n",
    "x_len = np.arange(len(y_loss))\n",
    "\n",
    "plt.plot(x_len, y_vloss, marker='.', c='red', label=\"Validation-set Loss\")\n",
    "plt.plot(x_len, y_loss, marker='.', c='blue', label=\"Train-set Loss\")\n",
    "plt.legend(loc='upper right')\n",
    "plt.grid()\n",
    "plt.ylim(0,1)\n",
    "plt.title('Loss graph without batch normalization') \n",
    "plt.xlabel('epoch')\n",
    "plt.ylabel('loss')\n",
    "plt.show()"
   ]
  },
  {
   "cell_type": "code",
   "execution_count": 31,
   "id": "b46e9275",
   "metadata": {
    "scrolled": true
   },
   "outputs": [
    {
     "data": {
      "image/png": "[encoded data removed]",
      "text/plain": [
       "<Figure size 432x288 with 1 Axes>"
      ]
     },
     "metadata": {
      "needs_background": "light"
     },
     "output_type": "display_data"
    }
   ],
   "source": [
    "# accuracy 값을 plot 해보겠습니다. \n",
    "y_vacc = history.history['val_accuracy']\n",
    "y_acc = history.history['accuracy']\n",
    "x_len = np.arange(len(y_acc))\n",
    "\n",
    "plt.plot(x_len, y_vacc, marker='.', c='red', label=\"Validation-set accuracy\")\n",
    "plt.plot(x_len, y_acc, marker='.', c='blue', label=\"Train-set accuracy\")\n",
    "plt.legend(loc='lower right')\n",
    "plt.grid()\n",
    "plt.ylim(0.5,1)\n",
    "plt.title('Accuracy graph without batch normalization') \n",
    "plt.xlabel('epoch')\n",
    "plt.ylabel('accuracy')\n",
    "plt.show()"
   ]
  },
  {
   "cell_type": "markdown",
   "id": "705147c8",
   "metadata": {},
   "source": [
    "batch normalization 추가"
   ]
  },
  {
   "cell_type": "code",
   "execution_count": 32,
   "id": "1ffaa452",
   "metadata": {},
   "outputs": [
    {
     "name": "stdout",
     "output_type": "stream",
     "text": [
      "Epoch 1/20\n",
      "21/21 [==============================] - 1s 18ms/step - loss: 0.9126 - accuracy: 0.6940 - val_loss: 1.0997 - val_accuracy: 0.6486\n",
      "Epoch 2/20\n",
      "21/21 [==============================] - 0s 7ms/step - loss: 0.5155 - accuracy: 0.8271 - val_loss: 0.8691 - val_accuracy: 0.7277\n",
      "Epoch 3/20\n",
      "21/21 [==============================] - 0s 6ms/step - loss: 0.4479 - accuracy: 0.8475 - val_loss: 0.7432 - val_accuracy: 0.7793\n",
      "Epoch 4/20\n",
      "21/21 [==============================] - 0s 7ms/step - loss: 0.4124 - accuracy: 0.8570 - val_loss: 0.6681 - val_accuracy: 0.8108\n",
      "Epoch 5/20\n",
      "21/21 [==============================] - 0s 7ms/step - loss: 0.3860 - accuracy: 0.8662 - val_loss: 0.6065 - val_accuracy: 0.8288\n",
      "Epoch 6/20\n",
      "21/21 [==============================] - 0s 7ms/step - loss: 0.3651 - accuracy: 0.8732 - val_loss: 0.5672 - val_accuracy: 0.8467\n",
      "Epoch 7/20\n",
      "21/21 [==============================] - 0s 6ms/step - loss: 0.3488 - accuracy: 0.8792 - val_loss: 0.5469 - val_accuracy: 0.8371\n",
      "Epoch 8/20\n",
      "21/21 [==============================] - 0s 7ms/step - loss: 0.3348 - accuracy: 0.8833 - val_loss: 0.5051 - val_accuracy: 0.8527\n",
      "Epoch 9/20\n",
      "21/21 [==============================] - 0s 6ms/step - loss: 0.3203 - accuracy: 0.8873 - val_loss: 0.4935 - val_accuracy: 0.8559\n",
      "Epoch 10/20\n",
      "21/21 [==============================] - 0s 7ms/step - loss: 0.3070 - accuracy: 0.8926 - val_loss: 0.4684 - val_accuracy: 0.8562\n",
      "Epoch 11/20\n",
      "21/21 [==============================] - 0s 7ms/step - loss: 0.2990 - accuracy: 0.8960 - val_loss: 0.4443 - val_accuracy: 0.8613\n",
      "Epoch 12/20\n",
      "21/21 [==============================] - 0s 7ms/step - loss: 0.2873 - accuracy: 0.8995 - val_loss: 0.4270 - val_accuracy: 0.8615\n",
      "Epoch 13/20\n",
      "21/21 [==============================] - 0s 7ms/step - loss: 0.2767 - accuracy: 0.9041 - val_loss: 0.4024 - val_accuracy: 0.8706\n",
      "Epoch 14/20\n",
      "21/21 [==============================] - 0s 7ms/step - loss: 0.2684 - accuracy: 0.9071 - val_loss: 0.4036 - val_accuracy: 0.8634\n",
      "Epoch 15/20\n",
      "21/21 [==============================] - 0s 6ms/step - loss: 0.2618 - accuracy: 0.9078 - val_loss: 0.3841 - val_accuracy: 0.8743\n",
      "Epoch 16/20\n",
      "21/21 [==============================] - 0s 7ms/step - loss: 0.2510 - accuracy: 0.9128 - val_loss: 0.3751 - val_accuracy: 0.8723\n",
      "Epoch 17/20\n",
      "21/21 [==============================] - 0s 7ms/step - loss: 0.2434 - accuracy: 0.9155 - val_loss: 0.3784 - val_accuracy: 0.8625\n",
      "Epoch 18/20\n",
      "21/21 [==============================] - 0s 7ms/step - loss: 0.2392 - accuracy: 0.9163 - val_loss: 0.3636 - val_accuracy: 0.8738\n",
      "Epoch 19/20\n",
      "21/21 [==============================] - 0s 6ms/step - loss: 0.2352 - accuracy: 0.9175 - val_loss: 0.3667 - val_accuracy: 0.8686\n",
      "Epoch 20/20\n",
      "21/21 [==============================] - 0s 7ms/step - loss: 0.2329 - accuracy: 0.9172 - val_loss: 0.3752 - val_accuracy: 0.8652\n"
     ]
    }
   ],
   "source": [
    "model = keras.Sequential([\n",
    "    keras.layers.Flatten(input_shape=(28, 28)),\n",
    "    keras.layers.Dense(128, activation='relu'),\n",
    "    #여기에 batchnormalization layer를 추가해보았습니다. 나머지 layer는 위의 실습과 같습니다.\n",
    "    keras.layers.BatchNormalization(),\n",
    "    keras.layers.Dense(10, activation='softmax')\n",
    "])\n",
    "\n",
    "model.compile(optimizer='adam',loss='sparse_categorical_crossentropy',\n",
    "              metrics=['accuracy'])\n",
    "\n",
    "history= model.fit(X_train, y_train, epochs=20, batch_size=2048, validation_data=(X_valid, y_valid))"
   ]
  },
  {
   "cell_type": "code",
   "execution_count": 33,
   "id": "f56b1a7f",
   "metadata": {},
   "outputs": [
    {
     "data": {
      "image/png": "[encoded data removed]",
      "text/plain": [
       "<Figure size 432x288 with 1 Axes>"
      ]
     },
     "metadata": {
      "needs_background": "light"
     },
     "output_type": "display_data"
    }
   ],
   "source": [
    "# loss 값을 plot 해보겠습니다. \n",
    "y_vloss = history.history['val_loss']\n",
    "y_loss = history.history['loss']\n",
    "x_len = np.arange(len(y_loss))\n",
    "\n",
    "plt.plot(x_len, y_vloss, marker='.', c='red', label=\"Validation-set Loss\")\n",
    "plt.plot(x_len, y_loss, marker='.', c='blue', label=\"Train-set Loss\")\n",
    "plt.legend(loc='upper right')\n",
    "plt.grid()\n",
    "plt.ylim(0,1)\n",
    "plt.title('Loss graph with batch normalization') \n",
    "plt.xlabel('epoch')\n",
    "plt.ylabel('loss')\n",
    "plt.show()"
   ]
  },
  {
   "cell_type": "code",
   "execution_count": 34,
   "id": "3d5cb8c3",
   "metadata": {},
   "outputs": [
    {
     "data": {
      "image/png": "[encoded data removed]",
      "text/plain": [
       "<Figure size 432x288 with 1 Axes>"
      ]
     },
     "metadata": {
      "needs_background": "light"
     },
     "output_type": "display_data"
    }
   ],
   "source": [
    "# accuracy 값을 plot 해보겠습니다. \n",
    "y_vacc = history.history['val_accuracy']\n",
    "y_acc = history.history['accuracy']\n",
    "x_len = np.arange(len(y_acc))\n",
    "\n",
    "plt.plot(x_len, y_vacc, marker='.', c='red', label=\"Validation-set accuracy\")\n",
    "plt.plot(x_len, y_acc, marker='.', c='blue', label=\"Train-set accuracy\")\n",
    "plt.legend(loc='lower right')\n",
    "plt.grid()\n",
    "plt.ylim(0.5,1) \n",
    "plt.title('Accurcy graph with batch normalization') \n",
    "plt.xlabel('epoch')\n",
    "plt.ylabel('accuracy')\n",
    "plt.show()"
   ]
  }
 ],
 "metadata": {
  "kernelspec": {
   "display_name": "Python 3 (ipykernel)",
   "language": "python",
   "name": "python3"
  },
  "language_info": {
   "codemirror_mode": {
    "name": "ipython",
    "version": 3
   },
   "file_extension": ".py",
   "mimetype": "text/x-python",
   "name": "python",
   "nbconvert_exporter": "python",
   "pygments_lexer": "ipython3",
   "version": "3.9.7"
  }
 },
 "nbformat": 4,
 "nbformat_minor": 5
}
